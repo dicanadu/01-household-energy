{
 "cells": [
  {
   "cell_type": "code",
   "execution_count": 2,
   "id": "93ac68c8-539d-4ed8-b47b-c62f9165a140",
   "metadata": {},
   "outputs": [],
   "source": [
    "from google.cloud import bigquery\n",
    "from google.oauth2 import service_account"
   ]
  },
  {
   "cell_type": "code",
   "execution_count": 3,
   "id": "ad99ca51-f5d1-4221-becc-cf3eec56c06d",
   "metadata": {},
   "outputs": [
    {
     "ename": "TypeError",
     "evalue": "Credentials.with_token_uri() missing 1 required positional argument: 'token_uri'",
     "output_type": "error",
     "traceback": [
      "\u001b[0;31m---------------------------------------------------------------------------\u001b[0m",
      "\u001b[0;31mTypeError\u001b[0m                                 Traceback (most recent call last)",
      "Cell \u001b[0;32mIn[3], line 1\u001b[0m\n\u001b[0;32m----> 1\u001b[0m \u001b[43mservice_account\u001b[49m\u001b[38;5;241;43m.\u001b[39;49m\u001b[43mCredentials\u001b[49m\u001b[38;5;241;43m.\u001b[39;49m\u001b[43mwith_token_uri\u001b[49m\u001b[43m(\u001b[49m\u001b[38;5;124;43m\"\u001b[39;49m\u001b[38;5;124;43mhttps://oauth2.googleapis.com/token\u001b[39;49m\u001b[38;5;124;43m\"\u001b[39;49m\u001b[43m)\u001b[49m\n",
      "\u001b[0;31mTypeError\u001b[0m: Credentials.with_token_uri() missing 1 required positional argument: 'token_uri'"
     ]
    }
   ],
   "source": [
    "service_account.Credentials.with_token_uri(\"https://oauth2.googleapis.com/token\")"
   ]
  },
  {
   "cell_type": "code",
   "execution_count": null,
   "id": "cfc09b5c-5446-479d-92e8-b43761c276e1",
   "metadata": {},
   "outputs": [],
   "source": []
  }
 ],
 "metadata": {
  "kernelspec": {
   "display_name": "Python 3 (ipykernel)",
   "language": "python",
   "name": "python3"
  },
  "language_info": {
   "codemirror_mode": {
    "name": "ipython",
    "version": 3
   },
   "file_extension": ".py",
   "mimetype": "text/x-python",
   "name": "python",
   "nbconvert_exporter": "python",
   "pygments_lexer": "ipython3",
   "version": "3.10.6"
  }
 },
 "nbformat": 4,
 "nbformat_minor": 5
}
