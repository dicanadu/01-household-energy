{
 "cells": [
  {
   "cell_type": "code",
   "execution_count": 25,
   "id": "4570741d-9a19-4ae3-9575-47878b2595c7",
   "metadata": {},
   "outputs": [],
   "source": [
    "import requests\n",
    "import pandas as pd\n",
    "from household_package.clean import clean_data\n",
    "from google.cloud import storage\n",
    "import os\n",
    "import pickle"
   ]
  },
  {
   "cell_type": "code",
   "execution_count": 57,
   "id": "5257f145-ec66-41fa-bda1-f1c17de56627",
   "metadata": {},
   "outputs": [
    {
     "name": "stdout",
     "output_type": "stream",
     "text": [
      "b'{\"TYPEHUQ\":1,\"NHSLDMEM\":1,\"state_name\":\"Alabama\",\"REGIONC\":\"SOUTH\",\"BA_climate\":\"Hot-Humid\",\"SQFTEST\":240,\"STORIES\":1,\"YEARMADERANGE\":1,\"NCOMBATH\":0,\"NHAFBATH\":0,\"TOTROOMS\":1,\"WALLTYPE\":1,\"ROOFTYPE\":1,\"WINDOWS\":1,\"SWIMPOOL\":1,\"SOLAR\":1,\"SMARTMETER\":1,\"TELLWORK\":1,\"DESKTOP\":0,\"NUMLAPTOP\":0,\"TVCOLOR\":0,\"DISHWASH\":1,\"MICRO\":0,\"NUMFRIG\":0,\"CWASHER\":1,\"DRYER\":1,\"LGTIN1TO4\":0,\"LGTIN4TO8\":0,\"LGTINMORE8\":0,\"AIRCOND\":1,\"EQUIPM\":3,\"HEATHOME\":1,\"NUMPORTEL\":0}'\n"
     ]
    }
   ],
   "source": [
    "user_input = {\n",
    "  \"TYPEHUQ\": 1,\n",
    "  \"NHSLDMEM\": 1,\n",
    "  \"state_name\": \"Alabama\",\n",
    "  \"REGIONC\": \"SOUTH\",\n",
    "  \"BA_climate\": \"Hot-Humid\",\n",
    "  \"SQFTEST\": 240,\n",
    "  \"STORIES\": 1,\n",
    "  \"YEARMADERANGE\": 1,\n",
    "  \"NCOMBATH\": 0,\n",
    "  \"NHAFBATH\": 0,\n",
    "  \"TOTROOMS\": 1,\n",
    "  \"WALLTYPE\": 1,\n",
    "  \"ROOFTYPE\": 1,\n",
    "  \"WINDOWS\": 1,\n",
    "  \"SWIMPOOL\": 1,\n",
    "  \"SOLAR\": 1,\n",
    "  \"SMARTMETER\": 1,\n",
    "  \"TELLWORK\": 1,\n",
    "  \"DESKTOP\": 0,\n",
    "  \"NUMLAPTOP\": 0,\n",
    "  \"TVCOLOR\": 0,\n",
    "  \"DISHWASH\": 1,\n",
    "  \"MICRO\": 0,\n",
    "  \"NUMFRIG\": 0,\n",
    "  \"CWASHER\": 1,\n",
    "  \"DRYER\": 1,\n",
    "  \"LGTIN1TO4\": 0,\n",
    "  \"LGTIN4TO8\": 0,\n",
    "  \"LGTINMORE8\": 0,\n",
    "  \"AIRCOND\": 1,\n",
    "  \"EQUIPM\": 3,\n",
    "  \"HEATHOME\": 1,\n",
    "  \"NUMPORTEL\": 0\n",
    "}\n",
    "\n",
    "url = \"http://localhost:8000/predict\"\n",
    "\n",
    "response = requests.get(url, user_input)\n",
    "print(response.content)"
   ]
  },
  {
   "cell_type": "code",
   "execution_count": 61,
   "id": "a3ef782b-d100-413c-b7cd-158fbfcaef37",
   "metadata": {},
   "outputs": [],
   "source": [
    "X_new = pd.DataFrame(response.json(), index=[0])\n",
    "X_new = clean_data(X_new)"
   ]
  },
  {
   "cell_type": "code",
   "execution_count": 59,
   "id": "979ceba9-0e91-4bc4-bd86-0c4193ed3df3",
   "metadata": {},
   "outputs": [
    {
     "data": {
      "text/html": [
       "<div>\n",
       "<style scoped>\n",
       "    .dataframe tbody tr th:only-of-type {\n",
       "        vertical-align: middle;\n",
       "    }\n",
       "\n",
       "    .dataframe tbody tr th {\n",
       "        vertical-align: top;\n",
       "    }\n",
       "\n",
       "    .dataframe thead th {\n",
       "        text-align: right;\n",
       "    }\n",
       "</style>\n",
       "<table border=\"1\" class=\"dataframe\">\n",
       "  <thead>\n",
       "    <tr style=\"text-align: right;\">\n",
       "      <th></th>\n",
       "      <th>SWIMPOOL</th>\n",
       "      <th>NUMPORTEL</th>\n",
       "      <th>SOLAR</th>\n",
       "      <th>SMARTMETER</th>\n",
       "      <th>TYPEHUQ</th>\n",
       "      <th>NHSLDMEM</th>\n",
       "      <th>state_name</th>\n",
       "      <th>REGIONC</th>\n",
       "      <th>BA_climate</th>\n",
       "      <th>SQFTEST</th>\n",
       "      <th>...</th>\n",
       "      <th>MICRO</th>\n",
       "      <th>NUMFRIG</th>\n",
       "      <th>CWASHER</th>\n",
       "      <th>DRYER</th>\n",
       "      <th>AIRCOND</th>\n",
       "      <th>EQUIPM</th>\n",
       "      <th>HEATHOME</th>\n",
       "      <th>TOTAL_BATH</th>\n",
       "      <th>TOTAL_COMP</th>\n",
       "      <th>TOTAL_LIGHT</th>\n",
       "    </tr>\n",
       "  </thead>\n",
       "  <tbody>\n",
       "    <tr>\n",
       "      <th>0</th>\n",
       "      <td>1</td>\n",
       "      <td>0</td>\n",
       "      <td>1</td>\n",
       "      <td>1</td>\n",
       "      <td>Mobile</td>\n",
       "      <td>1</td>\n",
       "      <td>Alabama</td>\n",
       "      <td>SOUTH</td>\n",
       "      <td>Hot-Humid</td>\n",
       "      <td>240</td>\n",
       "      <td>...</td>\n",
       "      <td>0</td>\n",
       "      <td>0</td>\n",
       "      <td>1</td>\n",
       "      <td>1</td>\n",
       "      <td>1</td>\n",
       "      <td>Furnace</td>\n",
       "      <td>1</td>\n",
       "      <td>0</td>\n",
       "      <td>0</td>\n",
       "      <td>0</td>\n",
       "    </tr>\n",
       "  </tbody>\n",
       "</table>\n",
       "<p>1 rows × 29 columns</p>\n",
       "</div>"
      ],
      "text/plain": [
       "  SWIMPOOL NUMPORTEL SOLAR SMARTMETER TYPEHUQ NHSLDMEM state_name REGIONC  \\\n",
       "0        1         0     1          1  Mobile        1    Alabama   SOUTH   \n",
       "\n",
       "  BA_climate SQFTEST  ... MICRO NUMFRIG CWASHER DRYER AIRCOND   EQUIPM  \\\n",
       "0  Hot-Humid     240  ...     0       0       1     1       1  Furnace   \n",
       "\n",
       "  HEATHOME TOTAL_BATH TOTAL_COMP TOTAL_LIGHT  \n",
       "0        1          0          0           0  \n",
       "\n",
       "[1 rows x 29 columns]"
      ]
     },
     "execution_count": 59,
     "metadata": {},
     "output_type": "execute_result"
    }
   ],
   "source": [
    "X_new"
   ]
  },
  {
   "cell_type": "code",
   "execution_count": 49,
   "id": "56824b2c-c3ef-4310-8e5e-4a5886ac485c",
   "metadata": {},
   "outputs": [],
   "source": [
    "BUCKET_NAME=\"01_household_energy\"\n",
    "LOCAL_REGISTRY_PATH = \"../model_h5/loaded/\""
   ]
  },
  {
   "cell_type": "code",
   "execution_count": 50,
   "id": "6de93d5a-817e-4fcd-86f2-96af92877c7f",
   "metadata": {},
   "outputs": [],
   "source": [
    "client = storage.Client()\n",
    "blobs = list(client.get_bucket(BUCKET_NAME).list_blobs(prefix=\"model\"))"
   ]
  },
  {
   "cell_type": "code",
   "execution_count": 51,
   "id": "dea3f332-8960-4c57-8484-3713541a7af1",
   "metadata": {},
   "outputs": [
    {
     "name": "stdout",
     "output_type": "stream",
     "text": [
      "../model_h5/loaded/models/baseline_20231130-102940.pkl\n"
     ]
    }
   ],
   "source": [
    "latest_blob = max(blobs, key=lambda x: x.updated)\n",
    "#print(latest_blob.name)\n",
    "latest_model_path_to_save = os.path.join(LOCAL_REGISTRY_PATH, latest_blob.name)\n",
    "print(latest_model_path_to_save)\n",
    "latest_blob.download_to_filename(latest_model_path_to_save)\n",
    "# for sklearn (baseline)\n",
    "with open(latest_model_path_to_save , 'rb') as f:\n",
    "    latest_model = pickle.load(f)"
   ]
  },
  {
   "cell_type": "code",
   "execution_count": 52,
   "id": "87f517fb-0169-4595-bdee-9685cc419464",
   "metadata": {},
   "outputs": [
    {
     "data": {
      "text/plain": [
       "11040.0"
      ]
     },
     "execution_count": 52,
     "metadata": {},
     "output_type": "execute_result"
    }
   ],
   "source": [
    "latest_model.predict(X_new)[0]"
   ]
  },
  {
   "cell_type": "code",
   "execution_count": null,
   "id": "409dd145-8e81-427a-921f-a88da37fc4dd",
   "metadata": {},
   "outputs": [],
   "source": []
  }
 ],
 "metadata": {
  "kernelspec": {
   "display_name": "Python 3 (ipykernel)",
   "language": "python",
   "name": "python3"
  },
  "language_info": {
   "codemirror_mode": {
    "name": "ipython",
    "version": 3
   },
   "file_extension": ".py",
   "mimetype": "text/x-python",
   "name": "python",
   "nbconvert_exporter": "python",
   "pygments_lexer": "ipython3",
   "version": "3.10.6"
  }
 },
 "nbformat": 4,
 "nbformat_minor": 5
}
