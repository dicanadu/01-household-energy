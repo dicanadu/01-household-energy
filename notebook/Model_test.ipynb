{
 "cells": [
  {
   "cell_type": "code",
   "execution_count": 1,
   "id": "51666399-8599-4327-9686-5a06b4281e34",
   "metadata": {},
   "outputs": [],
   "source": [
    "%load_ext autoreload\n",
    "%autoreload 2"
   ]
  },
  {
   "cell_type": "code",
   "execution_count": 26,
   "id": "5ae5f63e-5d7b-4b77-b02b-45fe82f415fc",
   "metadata": {},
   "outputs": [],
   "source": [
    "import numpy as np\n",
    "from household_package.data import call_data_url\n",
    "from household_package.clean import clean_data\n",
    "from sklearn.pipeline import Pipeline\n",
    "from sklearn.linear_model import LinearRegression\n",
    "from sklearn.compose import ColumnTransformer\n",
    "from sklearn.preprocessing import MinMaxScaler\n",
    "from sklearn.preprocessing import OneHotEncoder\n",
    "from sklearn.model_selection import train_test_split\n",
    "from household_package.model import get_xy\n",
    "import pandas as pd\n",
    "from household_package.registry import save_model"
   ]
  },
  {
   "cell_type": "code",
   "execution_count": 3,
   "id": "d5a8ca6d-691a-4cf0-8bfa-9e8462517592",
   "metadata": {},
   "outputs": [],
   "source": [
    "df_raw = call_data_url()"
   ]
  },
  {
   "cell_type": "code",
   "execution_count": 4,
   "id": "f24a6590",
   "metadata": {},
   "outputs": [
    {
     "name": "stdout",
     "output_type": "stream",
     "text": [
      "0.0000       42.010000\n",
      "0.0025      912.744250\n",
      "0.0050     1185.774250\n",
      "0.0075     1355.774625\n",
      "0.0100     1506.111000\n",
      "              ...     \n",
      "0.9875    32491.116875\n",
      "0.9900    33544.811500\n",
      "0.9925    35389.482250\n",
      "0.9950    38064.279250\n",
      "0.9975    44079.164375\n",
      "Name: KWH, Length: 400, dtype: float64\n"
     ]
    }
   ],
   "source": [
    "percentiles = np.arange(0, 100, 0.25)\n",
    "percentile_values = df_raw[\"KWH\"].quantile(q=[p/100 for p in percentiles])\n",
    "print(percentile_values)"
   ]
  },
  {
   "cell_type": "code",
   "execution_count": 31,
   "id": "3683324e-1369-4495-a452-15ec35c5a443",
   "metadata": {},
   "outputs": [],
   "source": [
    "\n",
    "#percentile_min = df_raw['KWH'].quantile(0.005)\n",
    "#percentile_max = df_raw['KWH'].quantile(0.995)\n",
    "\n",
    "# Filter the DataFrame based on the specified percentiles\n",
    "#filtered_df = df_raw[(df_raw['KWH'] >= percentile_min) & (df_raw['KWH'] <= percentile_max)]\n",
    "#filtered_df"
   ]
  },
  {
   "cell_type": "code",
   "execution_count": 8,
   "id": "69b139c3-33cf-4835-b06b-5324e31b5481",
   "metadata": {},
   "outputs": [],
   "source": [
    "df = clean_data(df_raw)"
   ]
  },
  {
   "cell_type": "code",
   "execution_count": 18,
   "id": "bd4d95a1-26f2-4373-92f6-c1487fad1a72",
   "metadata": {},
   "outputs": [],
   "source": [
    "X , y = get_xy(df)\n",
    "\n",
    "X_train, X_test, y_train, y_test =  train_test_split(X,y, test_size=0.3)"
   ]
  },
  {
   "cell_type": "code",
   "execution_count": 19,
   "id": "0c1018c8-74a6-4312-9a57-c4b807cd7f9a",
   "metadata": {},
   "outputs": [],
   "source": [
    "to_ohe_encode = ['REGIONC', 'state_name','BA_climate','TYPEHUQ',\n",
    "                     'YEARMADERANGE','WALLTYPE','ROOFTYPE','WINDOWS','EQUIPM']\n",
    "to_scale = [\"NUMPORTEL\", \"STORIES\",\"SQFTEST\",\n",
    "            \"TOTROOMS\", \"NUMFRIG\", \"MICRO\", \"TVCOLOR\",\"NHSLDMEM\",\n",
    "            \"TOTAL_BATH\", \"TOTAL_COMP\", \"TOTAL_LIGHT\" ]\n",
    "\n",
    "min_max = MinMaxScaler()\n",
    "ohe = OneHotEncoder(sparse_output=False, handle_unknown='ignore')\n",
    "\n",
    "\n",
    "preprocessor = ColumnTransformer(transformers=[\n",
    "                                            ('min_max', min_max, to_scale),\n",
    "                                            ('ohe', ohe, to_ohe_encode)],\n",
    "                                            remainder = \"passthrough\")\n",
    "\n",
    "model = LinearRegression()\n",
    "\n",
    "pipe = Pipeline([('prep', preprocessor), ('model', model)])"
   ]
  },
  {
   "cell_type": "code",
   "execution_count": 45,
   "id": "ef1941e2-afac-414f-853a-c5e512fae38c",
   "metadata": {},
   "outputs": [],
   "source": [
    "model = pipe.fit(X_train, y_train)"
   ]
  },
  {
   "cell_type": "code",
   "execution_count": 46,
   "id": "a96342ad-b9a3-4ebb-a72a-ae457b6e9e43",
   "metadata": {},
   "outputs": [
    {
     "data": {
      "text/plain": [
       "0.5055383972861784"
      ]
     },
     "execution_count": 46,
     "metadata": {},
     "output_type": "execute_result"
    }
   ],
   "source": [
    "model.score(X_test,y_test)"
   ]
  },
  {
   "cell_type": "code",
   "execution_count": 31,
   "id": "25dcda4b-d894-4e81-8c0e-2b5d1294dff9",
   "metadata": {},
   "outputs": [
    {
     "data": {
      "text/plain": [
       "SWIMPOOL                       0\n",
       "NUMPORTEL                      0\n",
       "SOLAR                          0\n",
       "SMARTMETER                     0\n",
       "REGIONC                     WEST\n",
       "state_name            New Mexico\n",
       "BA_climate             Mixed-Dry\n",
       "TYPEHUQ          Single_detached\n",
       "STORIES                        1\n",
       "YEARMADERANGE              70-79\n",
       "TOTROOMS                       8\n",
       "WALLTYPE                   Brick\n",
       "ROOFTYPE                 Shingle\n",
       "WINDOWS                        4\n",
       "NUMFRIG                        2\n",
       "MICRO                          1\n",
       "DISHWASH                       1\n",
       "CWASHER                        1\n",
       "DRYER                          1\n",
       "TVCOLOR                        3\n",
       "TELLWORK                       0\n",
       "HEATHOME                       1\n",
       "EQUIPM                   Furnace\n",
       "AIRCOND                        1\n",
       "NHSLDMEM                       2\n",
       "SQFTEST                     2100\n",
       "KWH                     12521.48\n",
       "TOTAL_BATH                     3\n",
       "TOTAL_COMP                     1\n",
       "TOTAL_LIGHT                   17\n",
       "Name: 0, dtype: object"
      ]
     },
     "execution_count": 31,
     "metadata": {},
     "output_type": "execute_result"
    }
   ],
   "source": [
    "model"
   ]
  },
  {
   "cell_type": "code",
   "execution_count": 34,
   "id": "644fc6b7-693d-4afe-9e31-11f89a0158ae",
   "metadata": {},
   "outputs": [],
   "source": [
    "X = df.drop('KWH',axis=1)"
   ]
  },
  {
   "cell_type": "code",
   "execution_count": 43,
   "id": "286512f5-ad3e-44c0-9e71-dfe45ba9ec9a",
   "metadata": {},
   "outputs": [
    {
     "data": {
      "text/html": [
       "<div>\n",
       "<style scoped>\n",
       "    .dataframe tbody tr th:only-of-type {\n",
       "        vertical-align: middle;\n",
       "    }\n",
       "\n",
       "    .dataframe tbody tr th {\n",
       "        vertical-align: top;\n",
       "    }\n",
       "\n",
       "    .dataframe thead th {\n",
       "        text-align: right;\n",
       "    }\n",
       "</style>\n",
       "<table border=\"1\" class=\"dataframe\">\n",
       "  <thead>\n",
       "    <tr style=\"text-align: right;\">\n",
       "      <th></th>\n",
       "      <th>SWIMPOOL</th>\n",
       "      <th>NUMPORTEL</th>\n",
       "      <th>SOLAR</th>\n",
       "      <th>SMARTMETER</th>\n",
       "      <th>REGIONC</th>\n",
       "      <th>state_name</th>\n",
       "      <th>BA_climate</th>\n",
       "      <th>TYPEHUQ</th>\n",
       "      <th>STORIES</th>\n",
       "      <th>YEARMADERANGE</th>\n",
       "      <th>...</th>\n",
       "      <th>TVCOLOR</th>\n",
       "      <th>TELLWORK</th>\n",
       "      <th>HEATHOME</th>\n",
       "      <th>EQUIPM</th>\n",
       "      <th>AIRCOND</th>\n",
       "      <th>NHSLDMEM</th>\n",
       "      <th>SQFTEST</th>\n",
       "      <th>TOTAL_BATH</th>\n",
       "      <th>TOTAL_COMP</th>\n",
       "      <th>TOTAL_LIGHT</th>\n",
       "    </tr>\n",
       "  </thead>\n",
       "  <tbody>\n",
       "    <tr>\n",
       "      <th>0</th>\n",
       "      <td>0</td>\n",
       "      <td>0</td>\n",
       "      <td>0</td>\n",
       "      <td>0</td>\n",
       "      <td>WEST</td>\n",
       "      <td>New Mexico</td>\n",
       "      <td>Mixed-Dry</td>\n",
       "      <td>Single_detached</td>\n",
       "      <td>1</td>\n",
       "      <td>70-79</td>\n",
       "      <td>...</td>\n",
       "      <td>3</td>\n",
       "      <td>0</td>\n",
       "      <td>1</td>\n",
       "      <td>Furnace</td>\n",
       "      <td>1</td>\n",
       "      <td>2</td>\n",
       "      <td>2100</td>\n",
       "      <td>3</td>\n",
       "      <td>1</td>\n",
       "      <td>17</td>\n",
       "    </tr>\n",
       "  </tbody>\n",
       "</table>\n",
       "<p>1 rows × 29 columns</p>\n",
       "</div>"
      ],
      "text/plain": [
       "  SWIMPOOL NUMPORTEL SOLAR SMARTMETER REGIONC  state_name BA_climate  \\\n",
       "0        0         0     0          0    WEST  New Mexico  Mixed-Dry   \n",
       "\n",
       "           TYPEHUQ STORIES YEARMADERANGE  ... TVCOLOR TELLWORK HEATHOME  \\\n",
       "0  Single_detached       1         70-79  ...       3        0        1   \n",
       "\n",
       "    EQUIPM AIRCOND NHSLDMEM SQFTEST TOTAL_BATH TOTAL_COMP TOTAL_LIGHT  \n",
       "0  Furnace       1        2    2100          3          1          17  \n",
       "\n",
       "[1 rows x 29 columns]"
      ]
     },
     "execution_count": 43,
     "metadata": {},
     "output_type": "execute_result"
    }
   ],
   "source": [
    "pd.DataFrame(X.iloc[0,:]).T"
   ]
  },
  {
   "cell_type": "code",
   "execution_count": 44,
   "id": "fa29245a-dbf0-4d18-ae8d-b3d6d2695411",
   "metadata": {},
   "outputs": [
    {
     "data": {
      "text/plain": [
       "array([10640.])"
      ]
     },
     "execution_count": 44,
     "metadata": {},
     "output_type": "execute_result"
    }
   ],
   "source": [
    "pipe.predict(pd.DataFrame(X.iloc[0,:]).T)"
   ]
  },
  {
   "cell_type": "code",
   "execution_count": 23,
   "id": "c3598cd5-ed76-4a32-a611-bbaa9c5992b3",
   "metadata": {},
   "outputs": [
    {
     "ename": "ValueError",
     "evalue": "X does not contain any features, but ColumnTransformer is expecting 29 features",
     "output_type": "error",
     "traceback": [
      "\u001b[0;31m---------------------------------------------------------------------------\u001b[0m",
      "\u001b[0;31mTypeError\u001b[0m                                 Traceback (most recent call last)",
      "File \u001b[0;32m~/.pyenv/versions/3.10.6/envs/01-household-energy/lib/python3.10/site-packages/sklearn/base.py:392\u001b[0m, in \u001b[0;36mBaseEstimator._check_n_features\u001b[0;34m(self, X, reset)\u001b[0m\n\u001b[1;32m    391\u001b[0m \u001b[38;5;28;01mtry\u001b[39;00m:\n\u001b[0;32m--> 392\u001b[0m     n_features \u001b[38;5;241m=\u001b[39m \u001b[43m_num_features\u001b[49m\u001b[43m(\u001b[49m\u001b[43mX\u001b[49m\u001b[43m)\u001b[49m\n\u001b[1;32m    393\u001b[0m \u001b[38;5;28;01mexcept\u001b[39;00m \u001b[38;5;167;01mTypeError\u001b[39;00m \u001b[38;5;28;01mas\u001b[39;00m e:\n",
      "File \u001b[0;32m~/.pyenv/versions/3.10.6/envs/01-household-energy/lib/python3.10/site-packages/sklearn/utils/validation.py:311\u001b[0m, in \u001b[0;36m_num_features\u001b[0;34m(X)\u001b[0m\n\u001b[1;32m    310\u001b[0m     message \u001b[38;5;241m+\u001b[39m\u001b[38;5;241m=\u001b[39m \u001b[38;5;124mf\u001b[39m\u001b[38;5;124m\"\u001b[39m\u001b[38;5;124m with shape \u001b[39m\u001b[38;5;132;01m{\u001b[39;00mX\u001b[38;5;241m.\u001b[39mshape\u001b[38;5;132;01m}\u001b[39;00m\u001b[38;5;124m\"\u001b[39m\n\u001b[0;32m--> 311\u001b[0m     \u001b[38;5;28;01mraise\u001b[39;00m \u001b[38;5;167;01mTypeError\u001b[39;00m(message)\n\u001b[1;32m    312\u001b[0m \u001b[38;5;28;01mreturn\u001b[39;00m X\u001b[38;5;241m.\u001b[39mshape[\u001b[38;5;241m1\u001b[39m]\n",
      "\u001b[0;31mTypeError\u001b[0m: Unable to find the number of features from X of type pandas.core.series.Series with shape (30,)",
      "\nThe above exception was the direct cause of the following exception:\n",
      "\u001b[0;31mValueError\u001b[0m                                Traceback (most recent call last)",
      "Cell \u001b[0;32mIn[23], line 1\u001b[0m\n\u001b[0;32m----> 1\u001b[0m \u001b[43mpipe\u001b[49m\u001b[38;5;241;43m.\u001b[39;49m\u001b[43mpredict\u001b[49m\u001b[43m(\u001b[49m\u001b[43mdf\u001b[49m\u001b[38;5;241;43m.\u001b[39;49m\u001b[43miloc\u001b[49m\u001b[43m[\u001b[49m\u001b[38;5;241;43m0\u001b[39;49m\u001b[43m,\u001b[49m\u001b[43m:\u001b[49m\u001b[43m]\u001b[49m\u001b[43m)\u001b[49m\n",
      "File \u001b[0;32m~/.pyenv/versions/3.10.6/envs/01-household-energy/lib/python3.10/site-packages/sklearn/pipeline.py:514\u001b[0m, in \u001b[0;36mPipeline.predict\u001b[0;34m(self, X, **predict_params)\u001b[0m\n\u001b[1;32m    512\u001b[0m Xt \u001b[38;5;241m=\u001b[39m X\n\u001b[1;32m    513\u001b[0m \u001b[38;5;28;01mfor\u001b[39;00m _, name, transform \u001b[38;5;129;01min\u001b[39;00m \u001b[38;5;28mself\u001b[39m\u001b[38;5;241m.\u001b[39m_iter(with_final\u001b[38;5;241m=\u001b[39m\u001b[38;5;28;01mFalse\u001b[39;00m):\n\u001b[0;32m--> 514\u001b[0m     Xt \u001b[38;5;241m=\u001b[39m \u001b[43mtransform\u001b[49m\u001b[38;5;241;43m.\u001b[39;49m\u001b[43mtransform\u001b[49m\u001b[43m(\u001b[49m\u001b[43mXt\u001b[49m\u001b[43m)\u001b[49m\n\u001b[1;32m    515\u001b[0m \u001b[38;5;28;01mreturn\u001b[39;00m \u001b[38;5;28mself\u001b[39m\u001b[38;5;241m.\u001b[39msteps[\u001b[38;5;241m-\u001b[39m\u001b[38;5;241m1\u001b[39m][\u001b[38;5;241m1\u001b[39m]\u001b[38;5;241m.\u001b[39mpredict(Xt, \u001b[38;5;241m*\u001b[39m\u001b[38;5;241m*\u001b[39mpredict_params)\n",
      "File \u001b[0;32m~/.pyenv/versions/3.10.6/envs/01-household-energy/lib/python3.10/site-packages/sklearn/utils/_set_output.py:157\u001b[0m, in \u001b[0;36m_wrap_method_output.<locals>.wrapped\u001b[0;34m(self, X, *args, **kwargs)\u001b[0m\n\u001b[1;32m    155\u001b[0m \u001b[38;5;129m@wraps\u001b[39m(f)\n\u001b[1;32m    156\u001b[0m \u001b[38;5;28;01mdef\u001b[39;00m \u001b[38;5;21mwrapped\u001b[39m(\u001b[38;5;28mself\u001b[39m, X, \u001b[38;5;241m*\u001b[39margs, \u001b[38;5;241m*\u001b[39m\u001b[38;5;241m*\u001b[39mkwargs):\n\u001b[0;32m--> 157\u001b[0m     data_to_wrap \u001b[38;5;241m=\u001b[39m \u001b[43mf\u001b[49m\u001b[43m(\u001b[49m\u001b[38;5;28;43mself\u001b[39;49m\u001b[43m,\u001b[49m\u001b[43m \u001b[49m\u001b[43mX\u001b[49m\u001b[43m,\u001b[49m\u001b[43m \u001b[49m\u001b[38;5;241;43m*\u001b[39;49m\u001b[43margs\u001b[49m\u001b[43m,\u001b[49m\u001b[43m \u001b[49m\u001b[38;5;241;43m*\u001b[39;49m\u001b[38;5;241;43m*\u001b[39;49m\u001b[43mkwargs\u001b[49m\u001b[43m)\u001b[49m\n\u001b[1;32m    158\u001b[0m     \u001b[38;5;28;01mif\u001b[39;00m \u001b[38;5;28misinstance\u001b[39m(data_to_wrap, \u001b[38;5;28mtuple\u001b[39m):\n\u001b[1;32m    159\u001b[0m         \u001b[38;5;66;03m# only wrap the first output for cross decomposition\u001b[39;00m\n\u001b[1;32m    160\u001b[0m         return_tuple \u001b[38;5;241m=\u001b[39m (\n\u001b[1;32m    161\u001b[0m             _wrap_data_with_container(method, data_to_wrap[\u001b[38;5;241m0\u001b[39m], X, \u001b[38;5;28mself\u001b[39m),\n\u001b[1;32m    162\u001b[0m             \u001b[38;5;241m*\u001b[39mdata_to_wrap[\u001b[38;5;241m1\u001b[39m:],\n\u001b[1;32m    163\u001b[0m         )\n",
      "File \u001b[0;32m~/.pyenv/versions/3.10.6/envs/01-household-energy/lib/python3.10/site-packages/sklearn/compose/_column_transformer.py:825\u001b[0m, in \u001b[0;36mColumnTransformer.transform\u001b[0;34m(self, X)\u001b[0m\n\u001b[1;32m    821\u001b[0m         \u001b[38;5;28;01mraise\u001b[39;00m \u001b[38;5;167;01mValueError\u001b[39;00m(\u001b[38;5;124mf\u001b[39m\u001b[38;5;124m\"\u001b[39m\u001b[38;5;124mcolumns are missing: \u001b[39m\u001b[38;5;132;01m{\u001b[39;00mdiff\u001b[38;5;132;01m}\u001b[39;00m\u001b[38;5;124m\"\u001b[39m)\n\u001b[1;32m    822\u001b[0m \u001b[38;5;28;01melse\u001b[39;00m:\n\u001b[1;32m    823\u001b[0m     \u001b[38;5;66;03m# ndarray was used for fitting or transforming, thus we only\u001b[39;00m\n\u001b[1;32m    824\u001b[0m     \u001b[38;5;66;03m# check that n_features_in_ is consistent\u001b[39;00m\n\u001b[0;32m--> 825\u001b[0m     \u001b[38;5;28;43mself\u001b[39;49m\u001b[38;5;241;43m.\u001b[39;49m\u001b[43m_check_n_features\u001b[49m\u001b[43m(\u001b[49m\u001b[43mX\u001b[49m\u001b[43m,\u001b[49m\u001b[43m \u001b[49m\u001b[43mreset\u001b[49m\u001b[38;5;241;43m=\u001b[39;49m\u001b[38;5;28;43;01mFalse\u001b[39;49;00m\u001b[43m)\u001b[49m\n\u001b[1;32m    827\u001b[0m Xs \u001b[38;5;241m=\u001b[39m \u001b[38;5;28mself\u001b[39m\u001b[38;5;241m.\u001b[39m_fit_transform(\n\u001b[1;32m    828\u001b[0m     X,\n\u001b[1;32m    829\u001b[0m     \u001b[38;5;28;01mNone\u001b[39;00m,\n\u001b[0;32m   (...)\u001b[0m\n\u001b[1;32m    832\u001b[0m     column_as_strings\u001b[38;5;241m=\u001b[39mfit_dataframe_and_transform_dataframe,\n\u001b[1;32m    833\u001b[0m )\n\u001b[1;32m    834\u001b[0m \u001b[38;5;28mself\u001b[39m\u001b[38;5;241m.\u001b[39m_validate_output(Xs)\n",
      "File \u001b[0;32m~/.pyenv/versions/3.10.6/envs/01-household-energy/lib/python3.10/site-packages/sklearn/base.py:395\u001b[0m, in \u001b[0;36mBaseEstimator._check_n_features\u001b[0;34m(self, X, reset)\u001b[0m\n\u001b[1;32m    393\u001b[0m \u001b[38;5;28;01mexcept\u001b[39;00m \u001b[38;5;167;01mTypeError\u001b[39;00m \u001b[38;5;28;01mas\u001b[39;00m e:\n\u001b[1;32m    394\u001b[0m     \u001b[38;5;28;01mif\u001b[39;00m \u001b[38;5;129;01mnot\u001b[39;00m reset \u001b[38;5;129;01mand\u001b[39;00m \u001b[38;5;28mhasattr\u001b[39m(\u001b[38;5;28mself\u001b[39m, \u001b[38;5;124m\"\u001b[39m\u001b[38;5;124mn_features_in_\u001b[39m\u001b[38;5;124m\"\u001b[39m):\n\u001b[0;32m--> 395\u001b[0m         \u001b[38;5;28;01mraise\u001b[39;00m \u001b[38;5;167;01mValueError\u001b[39;00m(\n\u001b[1;32m    396\u001b[0m             \u001b[38;5;124m\"\u001b[39m\u001b[38;5;124mX does not contain any features, but \u001b[39m\u001b[38;5;124m\"\u001b[39m\n\u001b[1;32m    397\u001b[0m             \u001b[38;5;124mf\u001b[39m\u001b[38;5;124m\"\u001b[39m\u001b[38;5;132;01m{\u001b[39;00m\u001b[38;5;28mself\u001b[39m\u001b[38;5;241m.\u001b[39m\u001b[38;5;18m__class__\u001b[39m\u001b[38;5;241m.\u001b[39m\u001b[38;5;18m__name__\u001b[39m\u001b[38;5;132;01m}\u001b[39;00m\u001b[38;5;124m is expecting \u001b[39m\u001b[38;5;124m\"\u001b[39m\n\u001b[1;32m    398\u001b[0m             \u001b[38;5;124mf\u001b[39m\u001b[38;5;124m\"\u001b[39m\u001b[38;5;132;01m{\u001b[39;00m\u001b[38;5;28mself\u001b[39m\u001b[38;5;241m.\u001b[39mn_features_in_\u001b[38;5;132;01m}\u001b[39;00m\u001b[38;5;124m features\u001b[39m\u001b[38;5;124m\"\u001b[39m\n\u001b[1;32m    399\u001b[0m         ) \u001b[38;5;28;01mfrom\u001b[39;00m \u001b[38;5;21;01me\u001b[39;00m\n\u001b[1;32m    400\u001b[0m     \u001b[38;5;66;03m# If the number of features is not defined and reset=True,\u001b[39;00m\n\u001b[1;32m    401\u001b[0m     \u001b[38;5;66;03m# then we skip this check\u001b[39;00m\n\u001b[1;32m    402\u001b[0m     \u001b[38;5;28;01mreturn\u001b[39;00m\n",
      "\u001b[0;31mValueError\u001b[0m: X does not contain any features, but ColumnTransformer is expecting 29 features"
     ]
    }
   ],
   "source": [
    "pipe.predict(df.iloc[0,:])"
   ]
  },
  {
   "cell_type": "code",
   "execution_count": null,
   "id": "51a74e80-76f3-4830-9b71-06ecdfc2be3c",
   "metadata": {},
   "outputs": [],
   "source": []
  }
 ],
 "metadata": {
  "kernelspec": {
   "display_name": "Python 3 (ipykernel)",
   "language": "python",
   "name": "python3"
  },
  "language_info": {
   "codemirror_mode": {
    "name": "ipython",
    "version": 3
   },
   "file_extension": ".py",
   "mimetype": "text/x-python",
   "name": "python",
   "nbconvert_exporter": "python",
   "pygments_lexer": "ipython3",
   "version": "3.10.6"
  }
 },
 "nbformat": 4,
 "nbformat_minor": 5
}
