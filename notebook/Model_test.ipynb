{
 "cells": [
  {
   "cell_type": "code",
   "execution_count": 1,
   "id": "51666399-8599-4327-9686-5a06b4281e34",
   "metadata": {},
   "outputs": [],
   "source": [
    "%load_ext autoreload\n",
    "%autoreload 2"
   ]
  },
  {
   "cell_type": "code",
   "execution_count": 211,
   "id": "5ae5f63e-5d7b-4b77-b02b-45fe82f415fc",
   "metadata": {},
   "outputs": [],
   "source": [
    "import numpy as np\n",
    "from household_package.data import call_data_url\n",
    "from household_package.clean import clean_data\n",
    "from sklearn.pipeline import Pipeline\n",
    "from sklearn.linear_model import LinearRegression\n",
    "from sklearn.compose import ColumnTransformer\n",
    "from sklearn.preprocessing import MinMaxScaler\n",
    "from sklearn.preprocessing import OneHotEncoder\n",
    "from sklearn.model_selection import train_test_split\n",
    "from household_package.model import get_xy\n",
    "from household_package.clean import filter_data\n",
    "from household_package.registry import load_model\n",
    "import pandas as pd\n",
    "from household_package.registry import save_model\n",
    "import pickle\n",
    "from sklearn.model_selection import cross_validate\n",
    "from household_package.preprocessor import preprocessing\n",
    "from google.cloud import storage\n",
    "from household_package.clean import clean_data_without"
   ]
  },
  {
   "cell_type": "code",
   "execution_count": 4,
   "id": "998ee8cc-3244-4517-8552-07b801e7325e",
   "metadata": {},
   "outputs": [],
   "source": [
    "BUCKET_NAME=\"01_household_energy\"\n",
    "LOCAL_REGISTRY_PATH = \"../model_h5/loaded/\"\n"
   ]
  },
  {
   "cell_type": "code",
   "execution_count": 9,
   "id": "d5a8ca6d-691a-4cf0-8bfa-9e8462517592",
   "metadata": {},
   "outputs": [],
   "source": [
    "columns = [\"REGIONC\", \"state_name\", \"BA_climate\", \"TYPEHUQ\", \"STORIES\", \"YEARMADERANGE\", \"NCOMBATH\", \"NHAFBATH\", \"TOTROOMS\", \"WALLTYPE\", \"ROOFTYPE\", \"WINDOWS\",\n",
    "           \"SWIMPOOL\", \"NUMFRIG\", \"MICRO\", \"DISHWASH\", \"CWASHER\", \"DRYER\", \"TVCOLOR\", \"DESKTOP\", \"NUMLAPTOP\",\n",
    "           \"TELLWORK\",\"HEATHOME\", \"EQUIPM\", \"NUMPORTEL\", \"AIRCOND\", \"LGTIN1TO4\", \"LGTIN4TO8\", \"LGTINMORE8\", \"SMARTMETER\", \"SOLAR\", \"NHSLDMEM\", \"SQFTEST\",\n",
    "          \"KWH\", \"DOLLAREL\"]\n",
    "\n",
    "df = pd.read_csv(\"https://www.eia.gov/consumption/residential/data/2020/csv/recs2020_public_v6.csv\",\n",
    "                     usecols=columns)\n",
    "\n",
    "small_data = pd.DataFrame(df[[\"state_name\",\"KWH\", \"DOLLAREL\"]])\n",
    "\n",
    "small_data[\"price_kwh\"] =  small_data[\"DOLLAREL\"] /small_data[\"KWH\"] "
   ]
  },
  {
   "cell_type": "code",
   "execution_count": 18,
   "id": "de2d28a2-0882-4822-afd6-26f7efa7f7d3",
   "metadata": {},
   "outputs": [],
   "source": [
    "small_data = pd.DataFrame(df[[\"state_name\",\"KWH\", \"DOLLAREL\"]])"
   ]
  },
  {
   "cell_type": "code",
   "execution_count": 22,
   "id": "b01c1e7a-c91c-41ea-997a-c05754757711",
   "metadata": {},
   "outputs": [],
   "source": [
    "small_data[\"price_kwh\"] =  small_data[\"DOLLAREL\"] /small_data[\"KWH\"] "
   ]
  },
  {
   "cell_type": "code",
   "execution_count": 23,
   "id": "3928e864-1648-450e-aef5-89081d332978",
   "metadata": {},
   "outputs": [
    {
     "data": {
      "text/html": [
       "<div>\n",
       "<style scoped>\n",
       "    .dataframe tbody tr th:only-of-type {\n",
       "        vertical-align: middle;\n",
       "    }\n",
       "\n",
       "    .dataframe tbody tr th {\n",
       "        vertical-align: top;\n",
       "    }\n",
       "\n",
       "    .dataframe thead th {\n",
       "        text-align: right;\n",
       "    }\n",
       "</style>\n",
       "<table border=\"1\" class=\"dataframe\">\n",
       "  <thead>\n",
       "    <tr style=\"text-align: right;\">\n",
       "      <th></th>\n",
       "      <th>state_name</th>\n",
       "      <th>KWH</th>\n",
       "      <th>DOLLAREL</th>\n",
       "      <th>price_kwh</th>\n",
       "    </tr>\n",
       "  </thead>\n",
       "  <tbody>\n",
       "    <tr>\n",
       "      <th>0</th>\n",
       "      <td>New Mexico</td>\n",
       "      <td>12521.48</td>\n",
       "      <td>1955.06</td>\n",
       "      <td>0.156136</td>\n",
       "    </tr>\n",
       "    <tr>\n",
       "      <th>1</th>\n",
       "      <td>Arkansas</td>\n",
       "      <td>5243.05</td>\n",
       "      <td>713.27</td>\n",
       "      <td>0.136041</td>\n",
       "    </tr>\n",
       "    <tr>\n",
       "      <th>2</th>\n",
       "      <td>New Mexico</td>\n",
       "      <td>2387.64</td>\n",
       "      <td>334.51</td>\n",
       "      <td>0.140101</td>\n",
       "    </tr>\n",
       "    <tr>\n",
       "      <th>3</th>\n",
       "      <td>South Carolina</td>\n",
       "      <td>9275.07</td>\n",
       "      <td>1424.86</td>\n",
       "      <td>0.153623</td>\n",
       "    </tr>\n",
       "    <tr>\n",
       "      <th>4</th>\n",
       "      <td>New Jersey</td>\n",
       "      <td>5869.70</td>\n",
       "      <td>1087.00</td>\n",
       "      <td>0.185188</td>\n",
       "    </tr>\n",
       "    <tr>\n",
       "      <th>...</th>\n",
       "      <td>...</td>\n",
       "      <td>...</td>\n",
       "      <td>...</td>\n",
       "      <td>...</td>\n",
       "    </tr>\n",
       "    <tr>\n",
       "      <th>18491</th>\n",
       "      <td>Maryland</td>\n",
       "      <td>5638.33</td>\n",
       "      <td>678.15</td>\n",
       "      <td>0.120275</td>\n",
       "    </tr>\n",
       "    <tr>\n",
       "      <th>18492</th>\n",
       "      <td>Maine</td>\n",
       "      <td>4425.20</td>\n",
       "      <td>649.96</td>\n",
       "      <td>0.146877</td>\n",
       "    </tr>\n",
       "    <tr>\n",
       "      <th>18493</th>\n",
       "      <td>Texas</td>\n",
       "      <td>15121.25</td>\n",
       "      <td>1428.31</td>\n",
       "      <td>0.094457</td>\n",
       "    </tr>\n",
       "    <tr>\n",
       "      <th>18494</th>\n",
       "      <td>South Carolina</td>\n",
       "      <td>18604.35</td>\n",
       "      <td>2222.89</td>\n",
       "      <td>0.119482</td>\n",
       "    </tr>\n",
       "    <tr>\n",
       "      <th>18495</th>\n",
       "      <td>Missouri</td>\n",
       "      <td>19818.82</td>\n",
       "      <td>1957.28</td>\n",
       "      <td>0.098759</td>\n",
       "    </tr>\n",
       "  </tbody>\n",
       "</table>\n",
       "<p>18496 rows × 4 columns</p>\n",
       "</div>"
      ],
      "text/plain": [
       "           state_name       KWH  DOLLAREL  price_kwh\n",
       "0          New Mexico  12521.48   1955.06   0.156136\n",
       "1            Arkansas   5243.05    713.27   0.136041\n",
       "2          New Mexico   2387.64    334.51   0.140101\n",
       "3      South Carolina   9275.07   1424.86   0.153623\n",
       "4          New Jersey   5869.70   1087.00   0.185188\n",
       "...               ...       ...       ...        ...\n",
       "18491        Maryland   5638.33    678.15   0.120275\n",
       "18492           Maine   4425.20    649.96   0.146877\n",
       "18493           Texas  15121.25   1428.31   0.094457\n",
       "18494  South Carolina  18604.35   2222.89   0.119482\n",
       "18495        Missouri  19818.82   1957.28   0.098759\n",
       "\n",
       "[18496 rows x 4 columns]"
      ]
     },
     "execution_count": 23,
     "metadata": {},
     "output_type": "execute_result"
    }
   ],
   "source": [
    "small_data"
   ]
  },
  {
   "cell_type": "code",
   "execution_count": 6,
   "id": "29d71100-a22d-4c40-a04c-8275aa7d46d5",
   "metadata": {},
   "outputs": [
    {
     "ename": "KeyError",
     "evalue": "'DOLLAREL'",
     "output_type": "error",
     "traceback": [
      "\u001b[0;31m---------------------------------------------------------------------------\u001b[0m",
      "\u001b[0;31mKeyError\u001b[0m                                  Traceback (most recent call last)",
      "File \u001b[0;32m~/.pyenv/versions/3.10.6/envs/01-household-energy/lib/python3.10/site-packages/pandas/core/indexes/base.py:3361\u001b[0m, in \u001b[0;36mIndex.get_loc\u001b[0;34m(self, key, method, tolerance)\u001b[0m\n\u001b[1;32m   3360\u001b[0m \u001b[38;5;28;01mtry\u001b[39;00m:\n\u001b[0;32m-> 3361\u001b[0m     \u001b[38;5;28;01mreturn\u001b[39;00m \u001b[38;5;28;43mself\u001b[39;49m\u001b[38;5;241;43m.\u001b[39;49m\u001b[43m_engine\u001b[49m\u001b[38;5;241;43m.\u001b[39;49m\u001b[43mget_loc\u001b[49m\u001b[43m(\u001b[49m\u001b[43mcasted_key\u001b[49m\u001b[43m)\u001b[49m\n\u001b[1;32m   3362\u001b[0m \u001b[38;5;28;01mexcept\u001b[39;00m \u001b[38;5;167;01mKeyError\u001b[39;00m \u001b[38;5;28;01mas\u001b[39;00m err:\n",
      "File \u001b[0;32m~/.pyenv/versions/3.10.6/envs/01-household-energy/lib/python3.10/site-packages/pandas/_libs/index.pyx:76\u001b[0m, in \u001b[0;36mpandas._libs.index.IndexEngine.get_loc\u001b[0;34m()\u001b[0m\n",
      "File \u001b[0;32m~/.pyenv/versions/3.10.6/envs/01-household-energy/lib/python3.10/site-packages/pandas/_libs/index.pyx:108\u001b[0m, in \u001b[0;36mpandas._libs.index.IndexEngine.get_loc\u001b[0;34m()\u001b[0m\n",
      "File \u001b[0;32mpandas/_libs/hashtable_class_helper.pxi:5198\u001b[0m, in \u001b[0;36mpandas._libs.hashtable.PyObjectHashTable.get_item\u001b[0;34m()\u001b[0m\n",
      "File \u001b[0;32mpandas/_libs/hashtable_class_helper.pxi:5206\u001b[0m, in \u001b[0;36mpandas._libs.hashtable.PyObjectHashTable.get_item\u001b[0;34m()\u001b[0m\n",
      "\u001b[0;31mKeyError\u001b[0m: 'DOLLAREL'",
      "\nThe above exception was the direct cause of the following exception:\n",
      "\u001b[0;31mKeyError\u001b[0m                                  Traceback (most recent call last)",
      "Cell \u001b[0;32mIn[6], line 1\u001b[0m\n\u001b[0;32m----> 1\u001b[0m \u001b[43mdf_raw\u001b[49m\u001b[43m[\u001b[49m\u001b[38;5;124;43m\"\u001b[39;49m\u001b[38;5;124;43mDOLLAREL\u001b[39;49m\u001b[38;5;124;43m\"\u001b[39;49m\u001b[43m]\u001b[49m\n",
      "File \u001b[0;32m~/.pyenv/versions/3.10.6/envs/01-household-energy/lib/python3.10/site-packages/pandas/core/frame.py:3458\u001b[0m, in \u001b[0;36mDataFrame.__getitem__\u001b[0;34m(self, key)\u001b[0m\n\u001b[1;32m   3456\u001b[0m \u001b[38;5;28;01mif\u001b[39;00m \u001b[38;5;28mself\u001b[39m\u001b[38;5;241m.\u001b[39mcolumns\u001b[38;5;241m.\u001b[39mnlevels \u001b[38;5;241m>\u001b[39m \u001b[38;5;241m1\u001b[39m:\n\u001b[1;32m   3457\u001b[0m     \u001b[38;5;28;01mreturn\u001b[39;00m \u001b[38;5;28mself\u001b[39m\u001b[38;5;241m.\u001b[39m_getitem_multilevel(key)\n\u001b[0;32m-> 3458\u001b[0m indexer \u001b[38;5;241m=\u001b[39m \u001b[38;5;28;43mself\u001b[39;49m\u001b[38;5;241;43m.\u001b[39;49m\u001b[43mcolumns\u001b[49m\u001b[38;5;241;43m.\u001b[39;49m\u001b[43mget_loc\u001b[49m\u001b[43m(\u001b[49m\u001b[43mkey\u001b[49m\u001b[43m)\u001b[49m\n\u001b[1;32m   3459\u001b[0m \u001b[38;5;28;01mif\u001b[39;00m is_integer(indexer):\n\u001b[1;32m   3460\u001b[0m     indexer \u001b[38;5;241m=\u001b[39m [indexer]\n",
      "File \u001b[0;32m~/.pyenv/versions/3.10.6/envs/01-household-energy/lib/python3.10/site-packages/pandas/core/indexes/base.py:3363\u001b[0m, in \u001b[0;36mIndex.get_loc\u001b[0;34m(self, key, method, tolerance)\u001b[0m\n\u001b[1;32m   3361\u001b[0m         \u001b[38;5;28;01mreturn\u001b[39;00m \u001b[38;5;28mself\u001b[39m\u001b[38;5;241m.\u001b[39m_engine\u001b[38;5;241m.\u001b[39mget_loc(casted_key)\n\u001b[1;32m   3362\u001b[0m     \u001b[38;5;28;01mexcept\u001b[39;00m \u001b[38;5;167;01mKeyError\u001b[39;00m \u001b[38;5;28;01mas\u001b[39;00m err:\n\u001b[0;32m-> 3363\u001b[0m         \u001b[38;5;28;01mraise\u001b[39;00m \u001b[38;5;167;01mKeyError\u001b[39;00m(key) \u001b[38;5;28;01mfrom\u001b[39;00m \u001b[38;5;21;01merr\u001b[39;00m\n\u001b[1;32m   3365\u001b[0m \u001b[38;5;28;01mif\u001b[39;00m is_scalar(key) \u001b[38;5;129;01mand\u001b[39;00m isna(key) \u001b[38;5;129;01mand\u001b[39;00m \u001b[38;5;129;01mnot\u001b[39;00m \u001b[38;5;28mself\u001b[39m\u001b[38;5;241m.\u001b[39mhasnans:\n\u001b[1;32m   3366\u001b[0m     \u001b[38;5;28;01mraise\u001b[39;00m \u001b[38;5;167;01mKeyError\u001b[39;00m(key)\n",
      "\u001b[0;31mKeyError\u001b[0m: 'DOLLAREL'"
     ]
    }
   ],
   "source": [
    "df_raw[\"DOLLAREL\"]"
   ]
  },
  {
   "cell_type": "code",
   "execution_count": 3,
   "id": "04f6623d-25f0-43b7-b845-491bf4373fe1",
   "metadata": {},
   "outputs": [],
   "source": [
    "user_input = user_input = {\n",
    "  \"TYPEHUQ\": 1,\n",
    "  \"NHSLDMEM\": 1,\n",
    "  \"state_name\": \"Alabama\",\n",
    "  \"REGIONC\": \"SOUTH\",\n",
    "  \"BA_climate\": \"Hot-Humid\",\n",
    "  \"SQFTEST\": 240,\n",
    "  \"STORIES\": 1,\n",
    "  \"YEARMADERANGE\": 1,\n",
    "  \"NCOMBATH\": 0,\n",
    "  \"NHAFBATH\": 0,\n",
    "  \"TOTROOMS\": 1,\n",
    "  \"WALLTYPE\": 1,\n",
    "  \"ROOFTYPE\": 1,\n",
    "  \"WINDOWS\": 1,\n",
    "  \"SWIMPOOL\": 1,\n",
    "  \"SOLAR\": 1,\n",
    "  \"SMARTMETER\": 1,\n",
    "  \"TELLWORK\": 1,\n",
    "  \"DESKTOP\": 0,\n",
    "  \"NUMLAPTOP\": 0,\n",
    "  \"TVCOLOR\": 0,\n",
    "  \"DISHWASH\": 1,\n",
    "  \"MICRO\": 0,\n",
    "  \"NUMFRIG\": 0,\n",
    "  \"CWASHER\": 1,\n",
    "  \"DRYER\": 1,\n",
    "  \"LGTIN1TO4\": 0,\n",
    "  \"LGTIN4TO8\": 0,\n",
    "  \"LGTINMORE8\": 0,\n",
    "  \"AIRCOND\": 1,\n",
    "  \"EQUIPM\": 3,\n",
    "  \"HEATHOME\": 1,\n",
    "  \"NUMPORTEL\": 0\n",
    "}"
   ]
  },
  {
   "cell_type": "code",
   "execution_count": 121,
   "id": "52935421-345e-4a5c-8cd5-c0ebcfde3676",
   "metadata": {},
   "outputs": [],
   "source": [
    "def make_X_new(user_input):\n",
    "    \"\"\"\n",
    "    This functions takes a dictionary coming from user inputs\n",
    "    and makes a one row of X for model prediciton.\n",
    "    \"\"\"\n",
    "    ## get all the passed arguments\n",
    "    #user_inputs = locals().copy()\n",
    "    X_new = pd.DataFrame({k:[v] for k,v in user_input.items()})\n",
    "    return X_new\n"
   ]
  },
  {
   "cell_type": "code",
   "execution_count": 42,
   "id": "c7bc579d-1f20-4994-8e30-c8dfdf59bf1a",
   "metadata": {},
   "outputs": [],
   "source": [
    "X_new = make_X_new(user_input)"
   ]
  },
  {
   "cell_type": "code",
   "execution_count": 28,
   "id": "648f5df2-6854-42c9-817d-1f6813816a6b",
   "metadata": {},
   "outputs": [],
   "source": [
    "#X_row_new = pd.DataFrame(pd.Series(user_input)).T"
   ]
  },
  {
   "cell_type": "code",
   "execution_count": 43,
   "id": "1e9fc75e-11d3-443f-9e89-71643ca9a8b3",
   "metadata": {},
   "outputs": [],
   "source": [
    "X_row_new = clean_data(X_new)"
   ]
  },
  {
   "cell_type": "code",
   "execution_count": 44,
   "id": "ba47c367-efc5-4012-900d-eacf57b65cd9",
   "metadata": {},
   "outputs": [
    {
     "data": {
      "text/html": [
       "<div>\n",
       "<style scoped>\n",
       "    .dataframe tbody tr th:only-of-type {\n",
       "        vertical-align: middle;\n",
       "    }\n",
       "\n",
       "    .dataframe tbody tr th {\n",
       "        vertical-align: top;\n",
       "    }\n",
       "\n",
       "    .dataframe thead th {\n",
       "        text-align: right;\n",
       "    }\n",
       "</style>\n",
       "<table border=\"1\" class=\"dataframe\">\n",
       "  <thead>\n",
       "    <tr style=\"text-align: right;\">\n",
       "      <th></th>\n",
       "      <th>SWIMPOOL</th>\n",
       "      <th>NUMPORTEL</th>\n",
       "      <th>SOLAR</th>\n",
       "      <th>SMARTMETER</th>\n",
       "      <th>TYPEHUQ</th>\n",
       "      <th>NHSLDMEM</th>\n",
       "      <th>state_name</th>\n",
       "      <th>REGIONC</th>\n",
       "      <th>BA_climate</th>\n",
       "      <th>SQFTEST</th>\n",
       "      <th>...</th>\n",
       "      <th>MICRO</th>\n",
       "      <th>NUMFRIG</th>\n",
       "      <th>CWASHER</th>\n",
       "      <th>DRYER</th>\n",
       "      <th>AIRCOND</th>\n",
       "      <th>EQUIPM</th>\n",
       "      <th>HEATHOME</th>\n",
       "      <th>TOTAL_BATH</th>\n",
       "      <th>TOTAL_COMP</th>\n",
       "      <th>TOTAL_LIGHT</th>\n",
       "    </tr>\n",
       "  </thead>\n",
       "  <tbody>\n",
       "    <tr>\n",
       "      <th>0</th>\n",
       "      <td>1</td>\n",
       "      <td>0</td>\n",
       "      <td>1</td>\n",
       "      <td>1</td>\n",
       "      <td>Mobile</td>\n",
       "      <td>1</td>\n",
       "      <td>Alabama</td>\n",
       "      <td>SOUTH</td>\n",
       "      <td>Hot-Humid</td>\n",
       "      <td>240</td>\n",
       "      <td>...</td>\n",
       "      <td>0</td>\n",
       "      <td>0</td>\n",
       "      <td>1</td>\n",
       "      <td>1</td>\n",
       "      <td>1</td>\n",
       "      <td>Furnace</td>\n",
       "      <td>1</td>\n",
       "      <td>0</td>\n",
       "      <td>0</td>\n",
       "      <td>0</td>\n",
       "    </tr>\n",
       "  </tbody>\n",
       "</table>\n",
       "<p>1 rows × 29 columns</p>\n",
       "</div>"
      ],
      "text/plain": [
       "  SWIMPOOL NUMPORTEL SOLAR SMARTMETER TYPEHUQ NHSLDMEM state_name REGIONC  \\\n",
       "0        1         0     1          1  Mobile        1    Alabama   SOUTH   \n",
       "\n",
       "  BA_climate SQFTEST  ... MICRO NUMFRIG CWASHER DRYER AIRCOND   EQUIPM  \\\n",
       "0  Hot-Humid     240  ...     0       0       1     1       1  Furnace   \n",
       "\n",
       "  HEATHOME TOTAL_BATH TOTAL_COMP TOTAL_LIGHT  \n",
       "0        1          0          0           0  \n",
       "\n",
       "[1 rows x 29 columns]"
      ]
     },
     "execution_count": 44,
     "metadata": {},
     "output_type": "execute_result"
    }
   ],
   "source": [
    "X_row_new"
   ]
  },
  {
   "cell_type": "code",
   "execution_count": 59,
   "id": "47f9931c-2f3e-4a59-82af-eb4dd68edd35",
   "metadata": {},
   "outputs": [],
   "source": [
    "from google.cloud import storage\n",
    "client = storage.Client()\n",
    "blobs = list(client.get_bucket(BUCKET_NAME).list_blobs(prefix=\"model\"))"
   ]
  },
  {
   "cell_type": "code",
   "execution_count": 60,
   "id": "f69592eb-56b0-440b-a437-3db8737058da",
   "metadata": {},
   "outputs": [
    {
     "data": {
      "text/plain": [
       "[<Blob: 01_household_energy, models/baseline_20231129-122043.pkl, 1701256844126884>,\n",
       " <Blob: 01_household_energy, models/baseline_20231129-131320.pkl, 1701260000941981>,\n",
       " <Blob: 01_household_energy, models/baseline_20231130-102940.pkl, 1701337090569311>]"
      ]
     },
     "execution_count": 60,
     "metadata": {},
     "output_type": "execute_result"
    }
   ],
   "source": [
    "blobs"
   ]
  },
  {
   "cell_type": "code",
   "execution_count": 101,
   "id": "3f2a5e9c-e2e9-4d97-9bd5-c1857f67a3bf",
   "metadata": {},
   "outputs": [
    {
     "name": "stdout",
     "output_type": "stream",
     "text": [
      "../model_h5/loaded/models/baseline_20231130-102940.pkl\n"
     ]
    }
   ],
   "source": [
    "latest_blob = max(blobs, key=lambda x: x.updated)\n",
    "#print(latest_blob.name)\n",
    "latest_model_path_to_save = os.path.join(LOCAL_REGISTRY_PATH, latest_blob.name)\n",
    "print(latest_model_path_to_save)\n",
    "latest_blob.download_to_filename(latest_model_path_to_save)\n",
    "# for sklearn (baseline)\n",
    "with open(latest_model_path_to_save , 'rb') as f:\n",
    "    latest_model = pickle.load(f)"
   ]
  },
  {
   "cell_type": "code",
   "execution_count": 70,
   "id": "223822c2-b3d7-4134-b253-838d9797d6ab",
   "metadata": {},
   "outputs": [
    {
     "data": {
      "text/plain": [
       "array([11040.])"
      ]
     },
     "execution_count": 70,
     "metadata": {},
     "output_type": "execute_result"
    }
   ],
   "source": [
    "latest_model.predict(X_row_new)"
   ]
  },
  {
   "cell_type": "code",
   "execution_count": 31,
   "id": "3683324e-1369-4495-a452-15ec35c5a443",
   "metadata": {},
   "outputs": [],
   "source": [
    "\n",
    "#percentile_min = df_raw['KWH'].quantile(0.005)\n",
    "#percentile_max = df_raw['KWH'].quantile(0.995)\n",
    "\n",
    "# Filter the DataFrame based on the specified percentiles\n",
    "#filtered_df = df_raw[(df_raw['KWH'] >= percentile_min) & (df_raw['KWH'] <= percentile_max)]\n",
    "#filtered_df"
   ]
  },
  {
   "cell_type": "code",
   "execution_count": 3,
   "id": "69b139c3-33cf-4835-b06b-5324e31b5481",
   "metadata": {},
   "outputs": [
    {
     "ename": "NameError",
     "evalue": "name 'df_raw' is not defined",
     "output_type": "error",
     "traceback": [
      "\u001b[0;31m---------------------------------------------------------------------------\u001b[0m",
      "\u001b[0;31mNameError\u001b[0m                                 Traceback (most recent call last)",
      "Cell \u001b[0;32mIn[3], line 1\u001b[0m\n\u001b[0;32m----> 1\u001b[0m df \u001b[38;5;241m=\u001b[39m clean_data(\u001b[43mdf_raw\u001b[49m)\n",
      "\u001b[0;31mNameError\u001b[0m: name 'df_raw' is not defined"
     ]
    }
   ],
   "source": [
    "df = clean_data(df_raw)"
   ]
  },
  {
   "cell_type": "code",
   "execution_count": 177,
   "id": "752e7c1e-cf7a-4a97-aaa3-cba0bec308a9",
   "metadata": {},
   "outputs": [],
   "source": [
    "import pandas as pd\n",
    "import numpy as np\n",
    "from sklearn.impute import SimpleImputer\n",
    "from sklearn.pipeline import Pipeline\n",
    "from sklearn.impute import SimpleImputer\n",
    "from sklearn.compose import ColumnTransformer\n",
    "from sklearn.preprocessing import OneHotEncoder\n",
    "\n",
    "def filter_data(df,min_perc=0.005, max_perc=0.995):\n",
    "    df = df.copy()\n",
    "\n",
    "    #Get rid of outliers#\n",
    "    percentile_min = df['KWH'].quantile(min_perc)\n",
    "    percentile_max = df['KWH'].quantile(max_perc)\n",
    "\n",
    "    # Filter the DataFrame based on the specified percentiles\n",
    "    df = df[(df['KWH'] >= percentile_min) & (df['KWH'] <= percentile_max)]\n",
    "    return df\n",
    "\n",
    "\n",
    "def clean_data_2(df,min_perc=0.005, max_perc=0.995):\n",
    "    \"\"\"This set cleans the data to have it in the correct format before preprocessing\"\"\"\n",
    "\n",
    "    #Maping features\n",
    "    TYPEHUQ_map = {1: \"Mobile\", 2: \"Single_detached\",3: \"Single_attached\",\n",
    "                   4: \"Appartment_small\" ,5: \"Appartment_big\"}\n",
    "    \n",
    "    YEARMADERANGE_map = {1: \"Before_50\", 2:\"50-59\", 3:\"60-69\",\n",
    "                         4: \"70-79\", 5: \"80-89\", 6:\"90-99\", 7:\"00-09\",\n",
    "                         8:\"2010-15\", 9:\"2016-20\" }\n",
    "    EQUIPM_map = {3:\"Furnace\", 2: \"Steam\", 4: \"Central_heat\", 13: \"Ductless_heat\",\n",
    "                5: \"Electric_units\", 7: \"Room_heater\", 8 : \"Wood\",\n",
    "                10:\"Electric_heater\", 99:\"Other\", -2:\"Other\"}\n",
    "\n",
    "    dics_transform = [TYPEHUQ_map, YEARMADERANGE_map, EQUIPM_map]\n",
    "    columns_to_transform = [\"TYPEHUQ\", \"YEARMADERANGE\", \"EQUIPM\"]\n",
    "\n",
    "    for x , y in zip(dics_transform,columns_to_transform):\n",
    "        df[y] = df[y].map(x)\n",
    "\n",
    "    #Combine new features\n",
    "    df[\"TOTAL_BATH\"] = df[\"NCOMBATH\"] + df[\"NHAFBATH\"]\n",
    "    df.drop( [\"NCOMBATH\", \"NHAFBATH\"] ,axis=1, inplace = True)\n",
    "\n",
    "    df[\"TOTAL_COMP\"] = df[\"DESKTOP\"] + df[\"NUMLAPTOP\"]\n",
    "    df.drop( [\"DESKTOP\", \"NUMLAPTOP\"] ,axis=1, inplace = True)\n",
    "\n",
    "    df[\"TOTAL_LIGHT\"] = df[\"LGTIN1TO4\"] + df[\"LGTIN4TO8\"] + df[\"LGTINMORE8\"]\n",
    "    df.drop( [\"LGTIN1TO4\", \"LGTIN4TO8\", \"LGTINMORE8\"] ,axis=1, inplace = True)\n",
    "\n",
    "    df[\"STORIES\"] = df[\"STORIES\"].replace(-2,1)\n",
    "    df[\"STORIES\"] = df[\"STORIES\"].replace(5,2)\n",
    "\n",
    "    #Impute features\n",
    "    features_imputer2 = ['SWIMPOOL', 'NUMPORTEL', 'SOLAR']\n",
    "    features_imputer4 = ['SMARTMETER']\n",
    "    #to_ohe_encode = ['REGIONC', 'state_name','BA_climate','TYPEHUQ','YEARMADERANGE','WALLTYPE','ROOFTYPE','WINDOWS','EQUIPM']\n",
    "\n",
    "    imputer_2 = SimpleImputer(strategy='constant', missing_values=-2, fill_value=0)\n",
    "    imputer_4 = SimpleImputer(strategy='constant', missing_values=-4, fill_value=0)\n",
    "    #ohe = OneHotEncoder(sparse_output=False, handle_unknown='ignore')\n",
    "\n",
    "    preprocessor = ColumnTransformer(transformers=[('imputer_2',imputer_2, features_imputer2),\n",
    "                                                ('imputer_4',imputer_4, features_imputer4)],\n",
    "                                                #('ohe', ohe, to_ohe_encode)],\n",
    "                                                    remainder = \"passthrough\")\n",
    "\n",
    "    preprocessor.fit(df)\n",
    "\n",
    "    cols = [x.split(\"__\")[1] for x in preprocessor.get_feature_names_out()]\n",
    "\n",
    "    df_clean = pd.DataFrame(preprocessor.transform(df),\n",
    "                       columns = cols)\n",
    "\n",
    "    return df_clean\n"
   ]
  },
  {
   "cell_type": "code",
   "execution_count": 178,
   "id": "ec8e410e-6c87-4931-8bf8-8de872af39c3",
   "metadata": {},
   "outputs": [],
   "source": [
    "df = call_data_url()"
   ]
  },
  {
   "cell_type": "code",
   "execution_count": 179,
   "id": "f57b350d-8511-439d-a154-65d752745479",
   "metadata": {},
   "outputs": [],
   "source": [
    "df = df.drop([\"WALLTYPE\", \"ROOFTYPE\"],axis=1)"
   ]
  },
  {
   "cell_type": "code",
   "execution_count": 180,
   "id": "07b89094-ab7b-4402-af0a-bebcad7f52c4",
   "metadata": {},
   "outputs": [],
   "source": [
    "df = clean_data_2(df)"
   ]
  },
  {
   "cell_type": "code",
   "execution_count": 181,
   "id": "0d22677a-dd72-447b-9df7-d13c04fa2f1f",
   "metadata": {},
   "outputs": [
    {
     "data": {
      "text/plain": [
       "Index(['SWIMPOOL', 'NUMPORTEL', 'SOLAR', 'SMARTMETER', 'REGIONC', 'state_name',\n",
       "       'BA_climate', 'TYPEHUQ', 'STORIES', 'YEARMADERANGE', 'TOTROOMS',\n",
       "       'WINDOWS', 'NUMFRIG', 'MICRO', 'DISHWASH', 'CWASHER', 'DRYER',\n",
       "       'TVCOLOR', 'TELLWORK', 'HEATHOME', 'EQUIPM', 'AIRCOND', 'NHSLDMEM',\n",
       "       'SQFTEST', 'KWH', 'TOTAL_BATH', 'TOTAL_COMP', 'TOTAL_LIGHT'],\n",
       "      dtype='object')"
      ]
     },
     "execution_count": 181,
     "metadata": {},
     "output_type": "execute_result"
    }
   ],
   "source": [
    "df.columns"
   ]
  },
  {
   "cell_type": "code",
   "execution_count": 182,
   "id": "bd4d95a1-26f2-4373-92f6-c1487fad1a72",
   "metadata": {},
   "outputs": [],
   "source": [
    "X , y = get_xy(df)\n",
    "\n",
    "X_train, X_test, y_train, y_test =  train_test_split(X,y, test_size=0.3)"
   ]
  },
  {
   "cell_type": "code",
   "execution_count": 183,
   "id": "0c1018c8-74a6-4312-9a57-c4b807cd7f9a",
   "metadata": {},
   "outputs": [],
   "source": [
    "to_ohe_encode = ['REGIONC', 'state_name','BA_climate','TYPEHUQ', \"EQUIPM\",\n",
    "                     'YEARMADERANGE', 'WINDOWS']\n",
    "\n",
    "to_scale = [\"NUMPORTEL\", \"STORIES\",\"SQFTEST\",\n",
    "            \"TOTROOMS\", \"NUMFRIG\", \"MICRO\", \"TVCOLOR\",\"NHSLDMEM\",\n",
    "            \"TOTAL_BATH\", \"TOTAL_COMP\", \"TOTAL_LIGHT\" ]\n",
    "\n",
    "min_max = MinMaxScaler()\n",
    "ohe = OneHotEncoder(sparse_output=False, handle_unknown='ignore')\n",
    "\n",
    "\n",
    "preprocessor = ColumnTransformer(transformers=[\n",
    "                                            ('min_max', min_max, to_scale),\n",
    "                                            ('ohe', ohe, to_ohe_encode)],\n",
    "                                            remainder = \"passthrough\")\n",
    "\n",
    "model = LinearRegression()\n",
    "\n",
    "pipe = Pipeline([('prep', preprocessor), ('model', model)])"
   ]
  },
  {
   "cell_type": "markdown",
   "id": "05062a62-039b-4752-89ee-bcfe59715ada",
   "metadata": {},
   "source": [
    "### Score - two features"
   ]
  },
  {
   "cell_type": "code",
   "execution_count": 184,
   "id": "d674b999-acd3-41b5-b7fc-51baff45620c",
   "metadata": {},
   "outputs": [],
   "source": [
    "y_train_p = np.log(y_train.astype(\"float\"))\n",
    "y_test_p = np.log(y_test.astype(\"float\"))"
   ]
  },
  {
   "cell_type": "code",
   "execution_count": 185,
   "id": "e583fb60-070f-4e25-b698-185e98d187d5",
   "metadata": {},
   "outputs": [
    {
     "data": {
      "text/plain": [
       "0.5064290079231559"
      ]
     },
     "execution_count": 185,
     "metadata": {},
     "output_type": "execute_result"
    }
   ],
   "source": [
    "cross_validate(pipe, X_train, y_train, cv =5)[\"test_score\"].mean()"
   ]
  },
  {
   "cell_type": "code",
   "execution_count": 186,
   "id": "b4613c53-0053-4c94-bd37-40626ce647ad",
   "metadata": {},
   "outputs": [
    {
     "data": {
      "text/plain": [
       "0.5390166210563248"
      ]
     },
     "execution_count": 186,
     "metadata": {},
     "output_type": "execute_result"
    }
   ],
   "source": [
    "cross_validate(pipe, X_train, y_train_p, cv =5)[\"test_score\"].mean()"
   ]
  },
  {
   "cell_type": "code",
   "execution_count": 187,
   "id": "632cc5a7-7f20-41a7-b228-ade235fd1903",
   "metadata": {},
   "outputs": [
    {
     "data": {
      "text/html": [
       "<style>#sk-container-id-8 {color: black;}#sk-container-id-8 pre{padding: 0;}#sk-container-id-8 div.sk-toggleable {background-color: white;}#sk-container-id-8 label.sk-toggleable__label {cursor: pointer;display: block;width: 100%;margin-bottom: 0;padding: 0.3em;box-sizing: border-box;text-align: center;}#sk-container-id-8 label.sk-toggleable__label-arrow:before {content: \"▸\";float: left;margin-right: 0.25em;color: #696969;}#sk-container-id-8 label.sk-toggleable__label-arrow:hover:before {color: black;}#sk-container-id-8 div.sk-estimator:hover label.sk-toggleable__label-arrow:before {color: black;}#sk-container-id-8 div.sk-toggleable__content {max-height: 0;max-width: 0;overflow: hidden;text-align: left;background-color: #f0f8ff;}#sk-container-id-8 div.sk-toggleable__content pre {margin: 0.2em;color: black;border-radius: 0.25em;background-color: #f0f8ff;}#sk-container-id-8 input.sk-toggleable__control:checked~div.sk-toggleable__content {max-height: 200px;max-width: 100%;overflow: auto;}#sk-container-id-8 input.sk-toggleable__control:checked~label.sk-toggleable__label-arrow:before {content: \"▾\";}#sk-container-id-8 div.sk-estimator input.sk-toggleable__control:checked~label.sk-toggleable__label {background-color: #d4ebff;}#sk-container-id-8 div.sk-label input.sk-toggleable__control:checked~label.sk-toggleable__label {background-color: #d4ebff;}#sk-container-id-8 input.sk-hidden--visually {border: 0;clip: rect(1px 1px 1px 1px);clip: rect(1px, 1px, 1px, 1px);height: 1px;margin: -1px;overflow: hidden;padding: 0;position: absolute;width: 1px;}#sk-container-id-8 div.sk-estimator {font-family: monospace;background-color: #f0f8ff;border: 1px dotted black;border-radius: 0.25em;box-sizing: border-box;margin-bottom: 0.5em;}#sk-container-id-8 div.sk-estimator:hover {background-color: #d4ebff;}#sk-container-id-8 div.sk-parallel-item::after {content: \"\";width: 100%;border-bottom: 1px solid gray;flex-grow: 1;}#sk-container-id-8 div.sk-label:hover label.sk-toggleable__label {background-color: #d4ebff;}#sk-container-id-8 div.sk-serial::before {content: \"\";position: absolute;border-left: 1px solid gray;box-sizing: border-box;top: 0;bottom: 0;left: 50%;z-index: 0;}#sk-container-id-8 div.sk-serial {display: flex;flex-direction: column;align-items: center;background-color: white;padding-right: 0.2em;padding-left: 0.2em;position: relative;}#sk-container-id-8 div.sk-item {position: relative;z-index: 1;}#sk-container-id-8 div.sk-parallel {display: flex;align-items: stretch;justify-content: center;background-color: white;position: relative;}#sk-container-id-8 div.sk-item::before, #sk-container-id-8 div.sk-parallel-item::before {content: \"\";position: absolute;border-left: 1px solid gray;box-sizing: border-box;top: 0;bottom: 0;left: 50%;z-index: -1;}#sk-container-id-8 div.sk-parallel-item {display: flex;flex-direction: column;z-index: 1;position: relative;background-color: white;}#sk-container-id-8 div.sk-parallel-item:first-child::after {align-self: flex-end;width: 50%;}#sk-container-id-8 div.sk-parallel-item:last-child::after {align-self: flex-start;width: 50%;}#sk-container-id-8 div.sk-parallel-item:only-child::after {width: 0;}#sk-container-id-8 div.sk-dashed-wrapped {border: 1px dashed gray;margin: 0 0.4em 0.5em 0.4em;box-sizing: border-box;padding-bottom: 0.4em;background-color: white;}#sk-container-id-8 div.sk-label label {font-family: monospace;font-weight: bold;display: inline-block;line-height: 1.2em;}#sk-container-id-8 div.sk-label-container {text-align: center;}#sk-container-id-8 div.sk-container {/* jupyter's `normalize.less` sets `[hidden] { display: none; }` but bootstrap.min.css set `[hidden] { display: none !important; }` so we also need the `!important` here to be able to override the default hidden behavior on the sphinx rendered scikit-learn.org. See: https://github.com/scikit-learn/scikit-learn/issues/21755 */display: inline-block !important;position: relative;}#sk-container-id-8 div.sk-text-repr-fallback {display: none;}</style><div id=\"sk-container-id-8\" class=\"sk-top-container\"><div class=\"sk-text-repr-fallback\"><pre>Pipeline(steps=[(&#x27;prep&#x27;,\n",
       "                 ColumnTransformer(remainder=&#x27;passthrough&#x27;,\n",
       "                                   transformers=[(&#x27;min_max&#x27;, MinMaxScaler(),\n",
       "                                                  [&#x27;NUMPORTEL&#x27;, &#x27;STORIES&#x27;,\n",
       "                                                   &#x27;SQFTEST&#x27;, &#x27;TOTROOMS&#x27;,\n",
       "                                                   &#x27;NUMFRIG&#x27;, &#x27;MICRO&#x27;,\n",
       "                                                   &#x27;TVCOLOR&#x27;, &#x27;NHSLDMEM&#x27;,\n",
       "                                                   &#x27;TOTAL_BATH&#x27;, &#x27;TOTAL_COMP&#x27;,\n",
       "                                                   &#x27;TOTAL_LIGHT&#x27;]),\n",
       "                                                 (&#x27;ohe&#x27;,\n",
       "                                                  OneHotEncoder(handle_unknown=&#x27;ignore&#x27;,\n",
       "                                                                sparse_output=False),\n",
       "                                                  [&#x27;REGIONC&#x27;, &#x27;state_name&#x27;,\n",
       "                                                   &#x27;BA_climate&#x27;, &#x27;TYPEHUQ&#x27;,\n",
       "                                                   &#x27;EQUIPM&#x27;, &#x27;YEARMADERANGE&#x27;,\n",
       "                                                   &#x27;WINDOWS&#x27;])])),\n",
       "                (&#x27;model&#x27;, LinearRegression())])</pre><b>In a Jupyter environment, please rerun this cell to show the HTML representation or trust the notebook. <br />On GitHub, the HTML representation is unable to render, please try loading this page with nbviewer.org.</b></div><div class=\"sk-container\" hidden><div class=\"sk-item sk-dashed-wrapped\"><div class=\"sk-label-container\"><div class=\"sk-label sk-toggleable\"><input class=\"sk-toggleable__control sk-hidden--visually\" id=\"sk-estimator-id-64\" type=\"checkbox\" ><label for=\"sk-estimator-id-64\" class=\"sk-toggleable__label sk-toggleable__label-arrow\">Pipeline</label><div class=\"sk-toggleable__content\"><pre>Pipeline(steps=[(&#x27;prep&#x27;,\n",
       "                 ColumnTransformer(remainder=&#x27;passthrough&#x27;,\n",
       "                                   transformers=[(&#x27;min_max&#x27;, MinMaxScaler(),\n",
       "                                                  [&#x27;NUMPORTEL&#x27;, &#x27;STORIES&#x27;,\n",
       "                                                   &#x27;SQFTEST&#x27;, &#x27;TOTROOMS&#x27;,\n",
       "                                                   &#x27;NUMFRIG&#x27;, &#x27;MICRO&#x27;,\n",
       "                                                   &#x27;TVCOLOR&#x27;, &#x27;NHSLDMEM&#x27;,\n",
       "                                                   &#x27;TOTAL_BATH&#x27;, &#x27;TOTAL_COMP&#x27;,\n",
       "                                                   &#x27;TOTAL_LIGHT&#x27;]),\n",
       "                                                 (&#x27;ohe&#x27;,\n",
       "                                                  OneHotEncoder(handle_unknown=&#x27;ignore&#x27;,\n",
       "                                                                sparse_output=False),\n",
       "                                                  [&#x27;REGIONC&#x27;, &#x27;state_name&#x27;,\n",
       "                                                   &#x27;BA_climate&#x27;, &#x27;TYPEHUQ&#x27;,\n",
       "                                                   &#x27;EQUIPM&#x27;, &#x27;YEARMADERANGE&#x27;,\n",
       "                                                   &#x27;WINDOWS&#x27;])])),\n",
       "                (&#x27;model&#x27;, LinearRegression())])</pre></div></div></div><div class=\"sk-serial\"><div class=\"sk-item sk-dashed-wrapped\"><div class=\"sk-label-container\"><div class=\"sk-label sk-toggleable\"><input class=\"sk-toggleable__control sk-hidden--visually\" id=\"sk-estimator-id-65\" type=\"checkbox\" ><label for=\"sk-estimator-id-65\" class=\"sk-toggleable__label sk-toggleable__label-arrow\">prep: ColumnTransformer</label><div class=\"sk-toggleable__content\"><pre>ColumnTransformer(remainder=&#x27;passthrough&#x27;,\n",
       "                  transformers=[(&#x27;min_max&#x27;, MinMaxScaler(),\n",
       "                                 [&#x27;NUMPORTEL&#x27;, &#x27;STORIES&#x27;, &#x27;SQFTEST&#x27;, &#x27;TOTROOMS&#x27;,\n",
       "                                  &#x27;NUMFRIG&#x27;, &#x27;MICRO&#x27;, &#x27;TVCOLOR&#x27;, &#x27;NHSLDMEM&#x27;,\n",
       "                                  &#x27;TOTAL_BATH&#x27;, &#x27;TOTAL_COMP&#x27;, &#x27;TOTAL_LIGHT&#x27;]),\n",
       "                                (&#x27;ohe&#x27;,\n",
       "                                 OneHotEncoder(handle_unknown=&#x27;ignore&#x27;,\n",
       "                                               sparse_output=False),\n",
       "                                 [&#x27;REGIONC&#x27;, &#x27;state_name&#x27;, &#x27;BA_climate&#x27;,\n",
       "                                  &#x27;TYPEHUQ&#x27;, &#x27;EQUIPM&#x27;, &#x27;YEARMADERANGE&#x27;,\n",
       "                                  &#x27;WINDOWS&#x27;])])</pre></div></div></div><div class=\"sk-parallel\"><div class=\"sk-parallel-item\"><div class=\"sk-item\"><div class=\"sk-label-container\"><div class=\"sk-label sk-toggleable\"><input class=\"sk-toggleable__control sk-hidden--visually\" id=\"sk-estimator-id-66\" type=\"checkbox\" ><label for=\"sk-estimator-id-66\" class=\"sk-toggleable__label sk-toggleable__label-arrow\">min_max</label><div class=\"sk-toggleable__content\"><pre>[&#x27;NUMPORTEL&#x27;, &#x27;STORIES&#x27;, &#x27;SQFTEST&#x27;, &#x27;TOTROOMS&#x27;, &#x27;NUMFRIG&#x27;, &#x27;MICRO&#x27;, &#x27;TVCOLOR&#x27;, &#x27;NHSLDMEM&#x27;, &#x27;TOTAL_BATH&#x27;, &#x27;TOTAL_COMP&#x27;, &#x27;TOTAL_LIGHT&#x27;]</pre></div></div></div><div class=\"sk-serial\"><div class=\"sk-item\"><div class=\"sk-estimator sk-toggleable\"><input class=\"sk-toggleable__control sk-hidden--visually\" id=\"sk-estimator-id-67\" type=\"checkbox\" ><label for=\"sk-estimator-id-67\" class=\"sk-toggleable__label sk-toggleable__label-arrow\">MinMaxScaler</label><div class=\"sk-toggleable__content\"><pre>MinMaxScaler()</pre></div></div></div></div></div></div><div class=\"sk-parallel-item\"><div class=\"sk-item\"><div class=\"sk-label-container\"><div class=\"sk-label sk-toggleable\"><input class=\"sk-toggleable__control sk-hidden--visually\" id=\"sk-estimator-id-68\" type=\"checkbox\" ><label for=\"sk-estimator-id-68\" class=\"sk-toggleable__label sk-toggleable__label-arrow\">ohe</label><div class=\"sk-toggleable__content\"><pre>[&#x27;REGIONC&#x27;, &#x27;state_name&#x27;, &#x27;BA_climate&#x27;, &#x27;TYPEHUQ&#x27;, &#x27;EQUIPM&#x27;, &#x27;YEARMADERANGE&#x27;, &#x27;WINDOWS&#x27;]</pre></div></div></div><div class=\"sk-serial\"><div class=\"sk-item\"><div class=\"sk-estimator sk-toggleable\"><input class=\"sk-toggleable__control sk-hidden--visually\" id=\"sk-estimator-id-69\" type=\"checkbox\" ><label for=\"sk-estimator-id-69\" class=\"sk-toggleable__label sk-toggleable__label-arrow\">OneHotEncoder</label><div class=\"sk-toggleable__content\"><pre>OneHotEncoder(handle_unknown=&#x27;ignore&#x27;, sparse_output=False)</pre></div></div></div></div></div></div><div class=\"sk-parallel-item\"><div class=\"sk-item\"><div class=\"sk-label-container\"><div class=\"sk-label sk-toggleable\"><input class=\"sk-toggleable__control sk-hidden--visually\" id=\"sk-estimator-id-70\" type=\"checkbox\" ><label for=\"sk-estimator-id-70\" class=\"sk-toggleable__label sk-toggleable__label-arrow\">remainder</label><div class=\"sk-toggleable__content\"><pre>[&#x27;SWIMPOOL&#x27;, &#x27;SOLAR&#x27;, &#x27;SMARTMETER&#x27;, &#x27;DISHWASH&#x27;, &#x27;CWASHER&#x27;, &#x27;DRYER&#x27;, &#x27;TELLWORK&#x27;, &#x27;HEATHOME&#x27;, &#x27;AIRCOND&#x27;]</pre></div></div></div><div class=\"sk-serial\"><div class=\"sk-item\"><div class=\"sk-estimator sk-toggleable\"><input class=\"sk-toggleable__control sk-hidden--visually\" id=\"sk-estimator-id-71\" type=\"checkbox\" ><label for=\"sk-estimator-id-71\" class=\"sk-toggleable__label sk-toggleable__label-arrow\">passthrough</label><div class=\"sk-toggleable__content\"><pre>passthrough</pre></div></div></div></div></div></div></div></div><div class=\"sk-item\"><div class=\"sk-estimator sk-toggleable\"><input class=\"sk-toggleable__control sk-hidden--visually\" id=\"sk-estimator-id-72\" type=\"checkbox\" ><label for=\"sk-estimator-id-72\" class=\"sk-toggleable__label sk-toggleable__label-arrow\">LinearRegression</label><div class=\"sk-toggleable__content\"><pre>LinearRegression()</pre></div></div></div></div></div></div></div>"
      ],
      "text/plain": [
       "Pipeline(steps=[('prep',\n",
       "                 ColumnTransformer(remainder='passthrough',\n",
       "                                   transformers=[('min_max', MinMaxScaler(),\n",
       "                                                  ['NUMPORTEL', 'STORIES',\n",
       "                                                   'SQFTEST', 'TOTROOMS',\n",
       "                                                   'NUMFRIG', 'MICRO',\n",
       "                                                   'TVCOLOR', 'NHSLDMEM',\n",
       "                                                   'TOTAL_BATH', 'TOTAL_COMP',\n",
       "                                                   'TOTAL_LIGHT']),\n",
       "                                                 ('ohe',\n",
       "                                                  OneHotEncoder(handle_unknown='ignore',\n",
       "                                                                sparse_output=False),\n",
       "                                                  ['REGIONC', 'state_name',\n",
       "                                                   'BA_climate', 'TYPEHUQ',\n",
       "                                                   'EQUIPM', 'YEARMADERANGE',\n",
       "                                                   'WINDOWS'])])),\n",
       "                ('model', LinearRegression())])"
      ]
     },
     "execution_count": 187,
     "metadata": {},
     "output_type": "execute_result"
    }
   ],
   "source": [
    "pipe.fit(X_train, y_train_p)"
   ]
  },
  {
   "cell_type": "code",
   "execution_count": 188,
   "id": "c5b33a1f-c516-4cb3-be09-9bc4ffe29e96",
   "metadata": {},
   "outputs": [
    {
     "data": {
      "text/plain": [
       "0.5248544499483565"
      ]
     },
     "execution_count": 188,
     "metadata": {},
     "output_type": "execute_result"
    }
   ],
   "source": [
    "pipe.score(X_test, y_test_p)"
   ]
  },
  {
   "cell_type": "code",
   "execution_count": 215,
   "id": "51913641-42dd-43ad-b985-53a4e204e92b",
   "metadata": {
    "scrolled": true
   },
   "outputs": [
    {
     "data": {
      "text/html": [
       "<style>#sk-container-id-12 {color: black;}#sk-container-id-12 pre{padding: 0;}#sk-container-id-12 div.sk-toggleable {background-color: white;}#sk-container-id-12 label.sk-toggleable__label {cursor: pointer;display: block;width: 100%;margin-bottom: 0;padding: 0.3em;box-sizing: border-box;text-align: center;}#sk-container-id-12 label.sk-toggleable__label-arrow:before {content: \"▸\";float: left;margin-right: 0.25em;color: #696969;}#sk-container-id-12 label.sk-toggleable__label-arrow:hover:before {color: black;}#sk-container-id-12 div.sk-estimator:hover label.sk-toggleable__label-arrow:before {color: black;}#sk-container-id-12 div.sk-toggleable__content {max-height: 0;max-width: 0;overflow: hidden;text-align: left;background-color: #f0f8ff;}#sk-container-id-12 div.sk-toggleable__content pre {margin: 0.2em;color: black;border-radius: 0.25em;background-color: #f0f8ff;}#sk-container-id-12 input.sk-toggleable__control:checked~div.sk-toggleable__content {max-height: 200px;max-width: 100%;overflow: auto;}#sk-container-id-12 input.sk-toggleable__control:checked~label.sk-toggleable__label-arrow:before {content: \"▾\";}#sk-container-id-12 div.sk-estimator input.sk-toggleable__control:checked~label.sk-toggleable__label {background-color: #d4ebff;}#sk-container-id-12 div.sk-label input.sk-toggleable__control:checked~label.sk-toggleable__label {background-color: #d4ebff;}#sk-container-id-12 input.sk-hidden--visually {border: 0;clip: rect(1px 1px 1px 1px);clip: rect(1px, 1px, 1px, 1px);height: 1px;margin: -1px;overflow: hidden;padding: 0;position: absolute;width: 1px;}#sk-container-id-12 div.sk-estimator {font-family: monospace;background-color: #f0f8ff;border: 1px dotted black;border-radius: 0.25em;box-sizing: border-box;margin-bottom: 0.5em;}#sk-container-id-12 div.sk-estimator:hover {background-color: #d4ebff;}#sk-container-id-12 div.sk-parallel-item::after {content: \"\";width: 100%;border-bottom: 1px solid gray;flex-grow: 1;}#sk-container-id-12 div.sk-label:hover label.sk-toggleable__label {background-color: #d4ebff;}#sk-container-id-12 div.sk-serial::before {content: \"\";position: absolute;border-left: 1px solid gray;box-sizing: border-box;top: 0;bottom: 0;left: 50%;z-index: 0;}#sk-container-id-12 div.sk-serial {display: flex;flex-direction: column;align-items: center;background-color: white;padding-right: 0.2em;padding-left: 0.2em;position: relative;}#sk-container-id-12 div.sk-item {position: relative;z-index: 1;}#sk-container-id-12 div.sk-parallel {display: flex;align-items: stretch;justify-content: center;background-color: white;position: relative;}#sk-container-id-12 div.sk-item::before, #sk-container-id-12 div.sk-parallel-item::before {content: \"\";position: absolute;border-left: 1px solid gray;box-sizing: border-box;top: 0;bottom: 0;left: 50%;z-index: -1;}#sk-container-id-12 div.sk-parallel-item {display: flex;flex-direction: column;z-index: 1;position: relative;background-color: white;}#sk-container-id-12 div.sk-parallel-item:first-child::after {align-self: flex-end;width: 50%;}#sk-container-id-12 div.sk-parallel-item:last-child::after {align-self: flex-start;width: 50%;}#sk-container-id-12 div.sk-parallel-item:only-child::after {width: 0;}#sk-container-id-12 div.sk-dashed-wrapped {border: 1px dashed gray;margin: 0 0.4em 0.5em 0.4em;box-sizing: border-box;padding-bottom: 0.4em;background-color: white;}#sk-container-id-12 div.sk-label label {font-family: monospace;font-weight: bold;display: inline-block;line-height: 1.2em;}#sk-container-id-12 div.sk-label-container {text-align: center;}#sk-container-id-12 div.sk-container {/* jupyter's `normalize.less` sets `[hidden] { display: none; }` but bootstrap.min.css set `[hidden] { display: none !important; }` so we also need the `!important` here to be able to override the default hidden behavior on the sphinx rendered scikit-learn.org. See: https://github.com/scikit-learn/scikit-learn/issues/21755 */display: inline-block !important;position: relative;}#sk-container-id-12 div.sk-text-repr-fallback {display: none;}</style><div id=\"sk-container-id-12\" class=\"sk-top-container\"><div class=\"sk-text-repr-fallback\"><pre>ColumnTransformer(remainder=&#x27;passthrough&#x27;,\n",
       "                  transformers=[(&#x27;min_max&#x27;, MinMaxScaler(),\n",
       "                                 [&#x27;NUMPORTEL&#x27;, &#x27;STORIES&#x27;, &#x27;SQFTEST&#x27;, &#x27;TOTROOMS&#x27;,\n",
       "                                  &#x27;NUMFRIG&#x27;, &#x27;MICRO&#x27;, &#x27;TVCOLOR&#x27;, &#x27;NHSLDMEM&#x27;,\n",
       "                                  &#x27;TOTAL_BATH&#x27;, &#x27;TOTAL_COMP&#x27;, &#x27;TOTAL_LIGHT&#x27;]),\n",
       "                                (&#x27;ohe&#x27;,\n",
       "                                 OneHotEncoder(handle_unknown=&#x27;ignore&#x27;,\n",
       "                                               sparse_output=False),\n",
       "                                 [&#x27;REGIONC&#x27;, &#x27;state_name&#x27;, &#x27;BA_climate&#x27;,\n",
       "                                  &#x27;TYPEHUQ&#x27;, &#x27;EQUIPM&#x27;, &#x27;YEARMADERANGE&#x27;,\n",
       "                                  &#x27;WINDOWS&#x27;])])</pre><b>In a Jupyter environment, please rerun this cell to show the HTML representation or trust the notebook. <br />On GitHub, the HTML representation is unable to render, please try loading this page with nbviewer.org.</b></div><div class=\"sk-container\" hidden><div class=\"sk-item sk-dashed-wrapped\"><div class=\"sk-label-container\"><div class=\"sk-label sk-toggleable\"><input class=\"sk-toggleable__control sk-hidden--visually\" id=\"sk-estimator-id-94\" type=\"checkbox\" ><label for=\"sk-estimator-id-94\" class=\"sk-toggleable__label sk-toggleable__label-arrow\">ColumnTransformer</label><div class=\"sk-toggleable__content\"><pre>ColumnTransformer(remainder=&#x27;passthrough&#x27;,\n",
       "                  transformers=[(&#x27;min_max&#x27;, MinMaxScaler(),\n",
       "                                 [&#x27;NUMPORTEL&#x27;, &#x27;STORIES&#x27;, &#x27;SQFTEST&#x27;, &#x27;TOTROOMS&#x27;,\n",
       "                                  &#x27;NUMFRIG&#x27;, &#x27;MICRO&#x27;, &#x27;TVCOLOR&#x27;, &#x27;NHSLDMEM&#x27;,\n",
       "                                  &#x27;TOTAL_BATH&#x27;, &#x27;TOTAL_COMP&#x27;, &#x27;TOTAL_LIGHT&#x27;]),\n",
       "                                (&#x27;ohe&#x27;,\n",
       "                                 OneHotEncoder(handle_unknown=&#x27;ignore&#x27;,\n",
       "                                               sparse_output=False),\n",
       "                                 [&#x27;REGIONC&#x27;, &#x27;state_name&#x27;, &#x27;BA_climate&#x27;,\n",
       "                                  &#x27;TYPEHUQ&#x27;, &#x27;EQUIPM&#x27;, &#x27;YEARMADERANGE&#x27;,\n",
       "                                  &#x27;WINDOWS&#x27;])])</pre></div></div></div><div class=\"sk-parallel\"><div class=\"sk-parallel-item\"><div class=\"sk-item\"><div class=\"sk-label-container\"><div class=\"sk-label sk-toggleable\"><input class=\"sk-toggleable__control sk-hidden--visually\" id=\"sk-estimator-id-95\" type=\"checkbox\" ><label for=\"sk-estimator-id-95\" class=\"sk-toggleable__label sk-toggleable__label-arrow\">min_max</label><div class=\"sk-toggleable__content\"><pre>[&#x27;NUMPORTEL&#x27;, &#x27;STORIES&#x27;, &#x27;SQFTEST&#x27;, &#x27;TOTROOMS&#x27;, &#x27;NUMFRIG&#x27;, &#x27;MICRO&#x27;, &#x27;TVCOLOR&#x27;, &#x27;NHSLDMEM&#x27;, &#x27;TOTAL_BATH&#x27;, &#x27;TOTAL_COMP&#x27;, &#x27;TOTAL_LIGHT&#x27;]</pre></div></div></div><div class=\"sk-serial\"><div class=\"sk-item\"><div class=\"sk-estimator sk-toggleable\"><input class=\"sk-toggleable__control sk-hidden--visually\" id=\"sk-estimator-id-96\" type=\"checkbox\" ><label for=\"sk-estimator-id-96\" class=\"sk-toggleable__label sk-toggleable__label-arrow\">MinMaxScaler</label><div class=\"sk-toggleable__content\"><pre>MinMaxScaler()</pre></div></div></div></div></div></div><div class=\"sk-parallel-item\"><div class=\"sk-item\"><div class=\"sk-label-container\"><div class=\"sk-label sk-toggleable\"><input class=\"sk-toggleable__control sk-hidden--visually\" id=\"sk-estimator-id-97\" type=\"checkbox\" ><label for=\"sk-estimator-id-97\" class=\"sk-toggleable__label sk-toggleable__label-arrow\">ohe</label><div class=\"sk-toggleable__content\"><pre>[&#x27;REGIONC&#x27;, &#x27;state_name&#x27;, &#x27;BA_climate&#x27;, &#x27;TYPEHUQ&#x27;, &#x27;EQUIPM&#x27;, &#x27;YEARMADERANGE&#x27;, &#x27;WINDOWS&#x27;]</pre></div></div></div><div class=\"sk-serial\"><div class=\"sk-item\"><div class=\"sk-estimator sk-toggleable\"><input class=\"sk-toggleable__control sk-hidden--visually\" id=\"sk-estimator-id-98\" type=\"checkbox\" ><label for=\"sk-estimator-id-98\" class=\"sk-toggleable__label sk-toggleable__label-arrow\">OneHotEncoder</label><div class=\"sk-toggleable__content\"><pre>OneHotEncoder(handle_unknown=&#x27;ignore&#x27;, sparse_output=False)</pre></div></div></div></div></div></div><div class=\"sk-parallel-item\"><div class=\"sk-item\"><div class=\"sk-label-container\"><div class=\"sk-label sk-toggleable\"><input class=\"sk-toggleable__control sk-hidden--visually\" id=\"sk-estimator-id-99\" type=\"checkbox\" ><label for=\"sk-estimator-id-99\" class=\"sk-toggleable__label sk-toggleable__label-arrow\">remainder</label><div class=\"sk-toggleable__content\"><pre>[&#x27;SWIMPOOL&#x27;, &#x27;SOLAR&#x27;, &#x27;SMARTMETER&#x27;, &#x27;DISHWASH&#x27;, &#x27;CWASHER&#x27;, &#x27;DRYER&#x27;, &#x27;TELLWORK&#x27;, &#x27;HEATHOME&#x27;, &#x27;AIRCOND&#x27;]</pre></div></div></div><div class=\"sk-serial\"><div class=\"sk-item\"><div class=\"sk-estimator sk-toggleable\"><input class=\"sk-toggleable__control sk-hidden--visually\" id=\"sk-estimator-id-100\" type=\"checkbox\" ><label for=\"sk-estimator-id-100\" class=\"sk-toggleable__label sk-toggleable__label-arrow\">passthrough</label><div class=\"sk-toggleable__content\"><pre>passthrough</pre></div></div></div></div></div></div></div></div></div></div>"
      ],
      "text/plain": [
       "ColumnTransformer(remainder='passthrough',\n",
       "                  transformers=[('min_max', MinMaxScaler(),\n",
       "                                 ['NUMPORTEL', 'STORIES', 'SQFTEST', 'TOTROOMS',\n",
       "                                  'NUMFRIG', 'MICRO', 'TVCOLOR', 'NHSLDMEM',\n",
       "                                  'TOTAL_BATH', 'TOTAL_COMP', 'TOTAL_LIGHT']),\n",
       "                                ('ohe',\n",
       "                                 OneHotEncoder(handle_unknown='ignore',\n",
       "                                               sparse_output=False),\n",
       "                                 ['REGIONC', 'state_name', 'BA_climate',\n",
       "                                  'TYPEHUQ', 'EQUIPM', 'YEARMADERANGE',\n",
       "                                  'WINDOWS'])])"
      ]
     },
     "execution_count": 215,
     "metadata": {},
     "output_type": "execute_result"
    }
   ],
   "source": [
    "preprocessor.fit(X_train)"
   ]
  },
  {
   "cell_type": "code",
   "execution_count": 216,
   "id": "50eecffd-d89b-4aa0-9ba9-605d7c10a1e9",
   "metadata": {},
   "outputs": [
    {
     "ename": "AttributeError",
     "evalue": "'function' object has no attribute 'transform'",
     "output_type": "error",
     "traceback": [
      "\u001b[0;31m---------------------------------------------------------------------------\u001b[0m",
      "\u001b[0;31mAttributeError\u001b[0m                            Traceback (most recent call last)",
      "Cell \u001b[0;32mIn[216], line 1\u001b[0m\n\u001b[0;32m----> 1\u001b[0m X_trans \u001b[38;5;241m=\u001b[39m \u001b[43mpreprocessing\u001b[49m\u001b[38;5;241;43m.\u001b[39;49m\u001b[43mtransform\u001b[49m(X_train)\n",
      "\u001b[0;31mAttributeError\u001b[0m: 'function' object has no attribute 'transform'"
     ]
    }
   ],
   "source": [
    "X_trans = preprocessing.transform(X_train)"
   ]
  },
  {
   "cell_type": "code",
   "execution_count": 198,
   "id": "f3fbf713-bb04-4286-b7d0-eb6deb511d33",
   "metadata": {},
   "outputs": [
    {
     "data": {
      "text/plain": [
       "array([[0.0, 0.3333333333333333, 0.10348360655737704, ..., 0, 1, 1],\n",
       "       [0.0, 0.0, 0.07581967213114754, ..., 0, 1, 1],\n",
       "       [0.0, 0.0, 0.13934426229508196, ..., 1, 0, 1],\n",
       "       ...,\n",
       "       [0.0, 0.0, 0.05737704918032786, ..., 0, 1, 1],\n",
       "       [0.0, 0.3333333333333333, 0.11885245901639344, ..., 0, 0, 0],\n",
       "       [0.0, 0.3333333333333333, 0.2827868852459017, ..., 1, 1, 1]],\n",
       "      dtype=object)"
      ]
     },
     "execution_count": 198,
     "metadata": {},
     "output_type": "execute_result"
    }
   ],
   "source": [
    "preprocessor.transform(X_test)"
   ]
  },
  {
   "cell_type": "code",
   "execution_count": 199,
   "id": "e06e1bff-4239-42df-8cd3-64a343b5d0f9",
   "metadata": {},
   "outputs": [],
   "source": [
    "model = LinearRegression()"
   ]
  },
  {
   "cell_type": "code",
   "execution_count": 204,
   "id": "1b3414d9-19be-49b4-8af7-1507b88f775a",
   "metadata": {},
   "outputs": [
    {
     "data": {
      "text/html": [
       "<div>\n",
       "<style scoped>\n",
       "    .dataframe tbody tr th:only-of-type {\n",
       "        vertical-align: middle;\n",
       "    }\n",
       "\n",
       "    .dataframe tbody tr th {\n",
       "        vertical-align: top;\n",
       "    }\n",
       "\n",
       "    .dataframe thead th {\n",
       "        text-align: right;\n",
       "    }\n",
       "</style>\n",
       "<table border=\"1\" class=\"dataframe\">\n",
       "  <thead>\n",
       "    <tr style=\"text-align: right;\">\n",
       "      <th></th>\n",
       "      <th>KWH</th>\n",
       "    </tr>\n",
       "  </thead>\n",
       "  <tbody>\n",
       "    <tr>\n",
       "      <th>12406</th>\n",
       "      <td>9.299265</td>\n",
       "    </tr>\n",
       "    <tr>\n",
       "      <th>2216</th>\n",
       "      <td>9.169833</td>\n",
       "    </tr>\n",
       "    <tr>\n",
       "      <th>12653</th>\n",
       "      <td>9.929013</td>\n",
       "    </tr>\n",
       "    <tr>\n",
       "      <th>7637</th>\n",
       "      <td>9.655036</td>\n",
       "    </tr>\n",
       "    <tr>\n",
       "      <th>7773</th>\n",
       "      <td>8.503828</td>\n",
       "    </tr>\n",
       "    <tr>\n",
       "      <th>...</th>\n",
       "      <td>...</td>\n",
       "    </tr>\n",
       "    <tr>\n",
       "      <th>11333</th>\n",
       "      <td>9.552401</td>\n",
       "    </tr>\n",
       "    <tr>\n",
       "      <th>11213</th>\n",
       "      <td>8.983439</td>\n",
       "    </tr>\n",
       "    <tr>\n",
       "      <th>12809</th>\n",
       "      <td>9.314577</td>\n",
       "    </tr>\n",
       "    <tr>\n",
       "      <th>427</th>\n",
       "      <td>9.867064</td>\n",
       "    </tr>\n",
       "    <tr>\n",
       "      <th>15594</th>\n",
       "      <td>9.512615</td>\n",
       "    </tr>\n",
       "  </tbody>\n",
       "</table>\n",
       "<p>12947 rows × 1 columns</p>\n",
       "</div>"
      ],
      "text/plain": [
       "            KWH\n",
       "12406  9.299265\n",
       "2216   9.169833\n",
       "12653  9.929013\n",
       "7637   9.655036\n",
       "7773   8.503828\n",
       "...         ...\n",
       "11333  9.552401\n",
       "11213  8.983439\n",
       "12809  9.314577\n",
       "427    9.867064\n",
       "15594  9.512615\n",
       "\n",
       "[12947 rows x 1 columns]"
      ]
     },
     "execution_count": 204,
     "metadata": {},
     "output_type": "execute_result"
    }
   ],
   "source": [
    "pd.DataFrame(y_train_p)"
   ]
  },
  {
   "cell_type": "code",
   "execution_count": 210,
   "id": "37ae67b8-28e9-424b-869c-fbb5da72968a",
   "metadata": {},
   "outputs": [
    {
     "data": {
      "text/plain": [
       "12406    9.299265\n",
       "2216     9.169833\n",
       "12653    9.929013\n",
       "7637     9.655036\n",
       "7773     8.503828\n",
       "           ...   \n",
       "11333    9.552401\n",
       "11213    8.983439\n",
       "12809    9.314577\n",
       "427      9.867064\n",
       "15594    9.512615\n",
       "Name: KWH, Length: 12947, dtype: float64"
      ]
     },
     "execution_count": 210,
     "metadata": {},
     "output_type": "execute_result"
    }
   ],
   "source": [
    "y_train_p"
   ]
  },
  {
   "cell_type": "code",
   "execution_count": 209,
   "id": "c19befc2-4b9f-46ba-a023-60ccf5720528",
   "metadata": {},
   "outputs": [
    {
     "ename": "AttributeError",
     "evalue": "'DataFrame' object has no attribute 'reshape'",
     "output_type": "error",
     "traceback": [
      "\u001b[0;31m---------------------------------------------------------------------------\u001b[0m",
      "\u001b[0;31mAttributeError\u001b[0m                            Traceback (most recent call last)",
      "\u001b[0;32m/tmp/ipykernel_140127/3861406788.py\u001b[0m in \u001b[0;36m?\u001b[0;34m()\u001b[0m\n\u001b[0;32m----> 1\u001b[0;31m \u001b[0mmodel\u001b[0m\u001b[0;34m.\u001b[0m\u001b[0mfit\u001b[0m\u001b[0;34m(\u001b[0m\u001b[0mX_trans\u001b[0m\u001b[0;34m,\u001b[0m \u001b[0mpd\u001b[0m\u001b[0;34m.\u001b[0m\u001b[0mDataFrame\u001b[0m\u001b[0;34m(\u001b[0m\u001b[0my_train_p\u001b[0m\u001b[0;34m)\u001b[0m\u001b[0;34m.\u001b[0m\u001b[0mreshape\u001b[0m\u001b[0;34m(\u001b[0m\u001b[0;34m-\u001b[0m\u001b[0;36m1\u001b[0m\u001b[0;34m,\u001b[0m\u001b[0;36m1\u001b[0m\u001b[0;34m)\u001b[0m\u001b[0;34m)\u001b[0m\u001b[0;34m\u001b[0m\u001b[0;34m\u001b[0m\u001b[0m\n\u001b[0m",
      "\u001b[0;32m~/.pyenv/versions/3.10.6/envs/01-household-energy/lib/python3.10/site-packages/pandas/core/generic.py\u001b[0m in \u001b[0;36m?\u001b[0;34m(self, name)\u001b[0m\n\u001b[1;32m   5483\u001b[0m             \u001b[0;32mand\u001b[0m \u001b[0mname\u001b[0m \u001b[0;32mnot\u001b[0m \u001b[0;32min\u001b[0m \u001b[0mself\u001b[0m\u001b[0;34m.\u001b[0m\u001b[0m_accessors\u001b[0m\u001b[0;34m\u001b[0m\u001b[0;34m\u001b[0m\u001b[0m\n\u001b[1;32m   5484\u001b[0m             \u001b[0;32mand\u001b[0m \u001b[0mself\u001b[0m\u001b[0;34m.\u001b[0m\u001b[0m_info_axis\u001b[0m\u001b[0;34m.\u001b[0m\u001b[0m_can_hold_identifiers_and_holds_name\u001b[0m\u001b[0;34m(\u001b[0m\u001b[0mname\u001b[0m\u001b[0;34m)\u001b[0m\u001b[0;34m\u001b[0m\u001b[0;34m\u001b[0m\u001b[0m\n\u001b[1;32m   5485\u001b[0m         ):\n\u001b[1;32m   5486\u001b[0m             \u001b[0;32mreturn\u001b[0m \u001b[0mself\u001b[0m\u001b[0;34m[\u001b[0m\u001b[0mname\u001b[0m\u001b[0;34m]\u001b[0m\u001b[0;34m\u001b[0m\u001b[0;34m\u001b[0m\u001b[0m\n\u001b[0;32m-> 5487\u001b[0;31m         \u001b[0;32mreturn\u001b[0m \u001b[0mobject\u001b[0m\u001b[0;34m.\u001b[0m\u001b[0m__getattribute__\u001b[0m\u001b[0;34m(\u001b[0m\u001b[0mself\u001b[0m\u001b[0;34m,\u001b[0m \u001b[0mname\u001b[0m\u001b[0;34m)\u001b[0m\u001b[0;34m\u001b[0m\u001b[0;34m\u001b[0m\u001b[0m\n\u001b[0m",
      "\u001b[0;31mAttributeError\u001b[0m: 'DataFrame' object has no attribute 'reshape'"
     ]
    }
   ],
   "source": [
    "model.fit(X_trans, pd.DataFrame(y_train_p).reshape(-1,1))"
   ]
  },
  {
   "cell_type": "code",
   "execution_count": 192,
   "id": "74bb501a-f6cc-489e-bb56-cbfc0844841e",
   "metadata": {},
   "outputs": [
    {
     "data": {
      "text/html": [
       "<div>\n",
       "<style scoped>\n",
       "    .dataframe tbody tr th:only-of-type {\n",
       "        vertical-align: middle;\n",
       "    }\n",
       "\n",
       "    .dataframe tbody tr th {\n",
       "        vertical-align: top;\n",
       "    }\n",
       "\n",
       "    .dataframe thead th {\n",
       "        text-align: right;\n",
       "    }\n",
       "</style>\n",
       "<table border=\"1\" class=\"dataframe\">\n",
       "  <thead>\n",
       "    <tr style=\"text-align: right;\">\n",
       "      <th></th>\n",
       "      <th>SWIMPOOL</th>\n",
       "      <th>NUMPORTEL</th>\n",
       "      <th>SOLAR</th>\n",
       "      <th>SMARTMETER</th>\n",
       "      <th>REGIONC</th>\n",
       "      <th>state_name</th>\n",
       "      <th>BA_climate</th>\n",
       "      <th>TYPEHUQ</th>\n",
       "      <th>STORIES</th>\n",
       "      <th>YEARMADERANGE</th>\n",
       "      <th>...</th>\n",
       "      <th>TVCOLOR</th>\n",
       "      <th>TELLWORK</th>\n",
       "      <th>HEATHOME</th>\n",
       "      <th>EQUIPM</th>\n",
       "      <th>AIRCOND</th>\n",
       "      <th>NHSLDMEM</th>\n",
       "      <th>SQFTEST</th>\n",
       "      <th>TOTAL_BATH</th>\n",
       "      <th>TOTAL_COMP</th>\n",
       "      <th>TOTAL_LIGHT</th>\n",
       "    </tr>\n",
       "  </thead>\n",
       "  <tbody>\n",
       "    <tr>\n",
       "      <th>0</th>\n",
       "      <td>0</td>\n",
       "      <td>0</td>\n",
       "      <td>0</td>\n",
       "      <td>0</td>\n",
       "      <td>NORTHEAST</td>\n",
       "      <td>New York</td>\n",
       "      <td>Cold</td>\n",
       "      <td>Single_detached</td>\n",
       "      <td>2</td>\n",
       "      <td>Before_50</td>\n",
       "      <td>...</td>\n",
       "      <td>1</td>\n",
       "      <td>0</td>\n",
       "      <td>1</td>\n",
       "      <td>Furnace</td>\n",
       "      <td>1</td>\n",
       "      <td>2</td>\n",
       "      <td>1250</td>\n",
       "      <td>2</td>\n",
       "      <td>3</td>\n",
       "      <td>4</td>\n",
       "    </tr>\n",
       "  </tbody>\n",
       "</table>\n",
       "<p>1 rows × 27 columns</p>\n",
       "</div>"
      ],
      "text/plain": [
       "   SWIMPOOL  NUMPORTEL  SOLAR  SMARTMETER    REGIONC state_name BA_climate  \\\n",
       "0         0          0      0           0  NORTHEAST   New York       Cold   \n",
       "\n",
       "           TYPEHUQ  STORIES YEARMADERANGE  ...  TVCOLOR  TELLWORK  HEATHOME  \\\n",
       "0  Single_detached        2     Before_50  ...        1         0         1   \n",
       "\n",
       "    EQUIPM  AIRCOND  NHSLDMEM  SQFTEST  TOTAL_BATH  TOTAL_COMP  TOTAL_LIGHT  \n",
       "0  Furnace        1         2     1250           2           3            4  \n",
       "\n",
       "[1 rows x 27 columns]"
      ]
     },
     "execution_count": 192,
     "metadata": {},
     "output_type": "execute_result"
    }
   ],
   "source": [
    "make_X_new(X_test.iloc[0,:])"
   ]
  },
  {
   "cell_type": "code",
   "execution_count": 193,
   "id": "34cc4abe-afc5-472e-9440-ac30f637deac",
   "metadata": {},
   "outputs": [
    {
     "ename": "TypeError",
     "evalue": "ufunc 'isnan' not supported for the input types, and the inputs could not be safely coerced to any supported types according to the casting rule ''safe''",
     "output_type": "error",
     "traceback": [
      "\u001b[0;31m---------------------------------------------------------------------------\u001b[0m",
      "\u001b[0;31mTypeError\u001b[0m                                 Traceback (most recent call last)",
      "Cell \u001b[0;32mIn[193], line 1\u001b[0m\n\u001b[0;32m----> 1\u001b[0m \u001b[43mpipe\u001b[49m\u001b[38;5;241;43m.\u001b[39;49m\u001b[43mpredict\u001b[49m\u001b[43m(\u001b[49m\u001b[43mmake_X_new\u001b[49m\u001b[43m(\u001b[49m\u001b[43mX_test\u001b[49m\u001b[38;5;241;43m.\u001b[39;49m\u001b[43miloc\u001b[49m\u001b[43m[\u001b[49m\u001b[38;5;241;43m0\u001b[39;49m\u001b[43m,\u001b[49m\u001b[43m:\u001b[49m\u001b[43m]\u001b[49m\u001b[43m)\u001b[49m\u001b[43m)\u001b[49m\n",
      "File \u001b[0;32m~/.pyenv/versions/3.10.6/envs/01-household-energy/lib/python3.10/site-packages/sklearn/pipeline.py:514\u001b[0m, in \u001b[0;36mPipeline.predict\u001b[0;34m(self, X, **predict_params)\u001b[0m\n\u001b[1;32m    512\u001b[0m Xt \u001b[38;5;241m=\u001b[39m X\n\u001b[1;32m    513\u001b[0m \u001b[38;5;28;01mfor\u001b[39;00m _, name, transform \u001b[38;5;129;01min\u001b[39;00m \u001b[38;5;28mself\u001b[39m\u001b[38;5;241m.\u001b[39m_iter(with_final\u001b[38;5;241m=\u001b[39m\u001b[38;5;28;01mFalse\u001b[39;00m):\n\u001b[0;32m--> 514\u001b[0m     Xt \u001b[38;5;241m=\u001b[39m \u001b[43mtransform\u001b[49m\u001b[38;5;241;43m.\u001b[39;49m\u001b[43mtransform\u001b[49m\u001b[43m(\u001b[49m\u001b[43mXt\u001b[49m\u001b[43m)\u001b[49m\n\u001b[1;32m    515\u001b[0m \u001b[38;5;28;01mreturn\u001b[39;00m \u001b[38;5;28mself\u001b[39m\u001b[38;5;241m.\u001b[39msteps[\u001b[38;5;241m-\u001b[39m\u001b[38;5;241m1\u001b[39m][\u001b[38;5;241m1\u001b[39m]\u001b[38;5;241m.\u001b[39mpredict(Xt, \u001b[38;5;241m*\u001b[39m\u001b[38;5;241m*\u001b[39mpredict_params)\n",
      "File \u001b[0;32m~/.pyenv/versions/3.10.6/envs/01-household-energy/lib/python3.10/site-packages/sklearn/utils/_set_output.py:157\u001b[0m, in \u001b[0;36m_wrap_method_output.<locals>.wrapped\u001b[0;34m(self, X, *args, **kwargs)\u001b[0m\n\u001b[1;32m    155\u001b[0m \u001b[38;5;129m@wraps\u001b[39m(f)\n\u001b[1;32m    156\u001b[0m \u001b[38;5;28;01mdef\u001b[39;00m \u001b[38;5;21mwrapped\u001b[39m(\u001b[38;5;28mself\u001b[39m, X, \u001b[38;5;241m*\u001b[39margs, \u001b[38;5;241m*\u001b[39m\u001b[38;5;241m*\u001b[39mkwargs):\n\u001b[0;32m--> 157\u001b[0m     data_to_wrap \u001b[38;5;241m=\u001b[39m \u001b[43mf\u001b[49m\u001b[43m(\u001b[49m\u001b[38;5;28;43mself\u001b[39;49m\u001b[43m,\u001b[49m\u001b[43m \u001b[49m\u001b[43mX\u001b[49m\u001b[43m,\u001b[49m\u001b[43m \u001b[49m\u001b[38;5;241;43m*\u001b[39;49m\u001b[43margs\u001b[49m\u001b[43m,\u001b[49m\u001b[43m \u001b[49m\u001b[38;5;241;43m*\u001b[39;49m\u001b[38;5;241;43m*\u001b[39;49m\u001b[43mkwargs\u001b[49m\u001b[43m)\u001b[49m\n\u001b[1;32m    158\u001b[0m     \u001b[38;5;28;01mif\u001b[39;00m \u001b[38;5;28misinstance\u001b[39m(data_to_wrap, \u001b[38;5;28mtuple\u001b[39m):\n\u001b[1;32m    159\u001b[0m         \u001b[38;5;66;03m# only wrap the first output for cross decomposition\u001b[39;00m\n\u001b[1;32m    160\u001b[0m         return_tuple \u001b[38;5;241m=\u001b[39m (\n\u001b[1;32m    161\u001b[0m             _wrap_data_with_container(method, data_to_wrap[\u001b[38;5;241m0\u001b[39m], X, \u001b[38;5;28mself\u001b[39m),\n\u001b[1;32m    162\u001b[0m             \u001b[38;5;241m*\u001b[39mdata_to_wrap[\u001b[38;5;241m1\u001b[39m:],\n\u001b[1;32m    163\u001b[0m         )\n",
      "File \u001b[0;32m~/.pyenv/versions/3.10.6/envs/01-household-energy/lib/python3.10/site-packages/sklearn/compose/_column_transformer.py:827\u001b[0m, in \u001b[0;36mColumnTransformer.transform\u001b[0;34m(self, X)\u001b[0m\n\u001b[1;32m    822\u001b[0m \u001b[38;5;28;01melse\u001b[39;00m:\n\u001b[1;32m    823\u001b[0m     \u001b[38;5;66;03m# ndarray was used for fitting or transforming, thus we only\u001b[39;00m\n\u001b[1;32m    824\u001b[0m     \u001b[38;5;66;03m# check that n_features_in_ is consistent\u001b[39;00m\n\u001b[1;32m    825\u001b[0m     \u001b[38;5;28mself\u001b[39m\u001b[38;5;241m.\u001b[39m_check_n_features(X, reset\u001b[38;5;241m=\u001b[39m\u001b[38;5;28;01mFalse\u001b[39;00m)\n\u001b[0;32m--> 827\u001b[0m Xs \u001b[38;5;241m=\u001b[39m \u001b[38;5;28;43mself\u001b[39;49m\u001b[38;5;241;43m.\u001b[39;49m\u001b[43m_fit_transform\u001b[49m\u001b[43m(\u001b[49m\n\u001b[1;32m    828\u001b[0m \u001b[43m    \u001b[49m\u001b[43mX\u001b[49m\u001b[43m,\u001b[49m\n\u001b[1;32m    829\u001b[0m \u001b[43m    \u001b[49m\u001b[38;5;28;43;01mNone\u001b[39;49;00m\u001b[43m,\u001b[49m\n\u001b[1;32m    830\u001b[0m \u001b[43m    \u001b[49m\u001b[43m_transform_one\u001b[49m\u001b[43m,\u001b[49m\n\u001b[1;32m    831\u001b[0m \u001b[43m    \u001b[49m\u001b[43mfitted\u001b[49m\u001b[38;5;241;43m=\u001b[39;49m\u001b[38;5;28;43;01mTrue\u001b[39;49;00m\u001b[43m,\u001b[49m\n\u001b[1;32m    832\u001b[0m \u001b[43m    \u001b[49m\u001b[43mcolumn_as_strings\u001b[49m\u001b[38;5;241;43m=\u001b[39;49m\u001b[43mfit_dataframe_and_transform_dataframe\u001b[49m\u001b[43m,\u001b[49m\n\u001b[1;32m    833\u001b[0m \u001b[43m\u001b[49m\u001b[43m)\u001b[49m\n\u001b[1;32m    834\u001b[0m \u001b[38;5;28mself\u001b[39m\u001b[38;5;241m.\u001b[39m_validate_output(Xs)\n\u001b[1;32m    836\u001b[0m \u001b[38;5;28;01mif\u001b[39;00m \u001b[38;5;129;01mnot\u001b[39;00m Xs:\n\u001b[1;32m    837\u001b[0m     \u001b[38;5;66;03m# All transformers are None\u001b[39;00m\n",
      "File \u001b[0;32m~/.pyenv/versions/3.10.6/envs/01-household-energy/lib/python3.10/site-packages/sklearn/compose/_column_transformer.py:681\u001b[0m, in \u001b[0;36mColumnTransformer._fit_transform\u001b[0;34m(self, X, y, func, fitted, column_as_strings)\u001b[0m\n\u001b[1;32m    675\u001b[0m transformers \u001b[38;5;241m=\u001b[39m \u001b[38;5;28mlist\u001b[39m(\n\u001b[1;32m    676\u001b[0m     \u001b[38;5;28mself\u001b[39m\u001b[38;5;241m.\u001b[39m_iter(\n\u001b[1;32m    677\u001b[0m         fitted\u001b[38;5;241m=\u001b[39mfitted, replace_strings\u001b[38;5;241m=\u001b[39m\u001b[38;5;28;01mTrue\u001b[39;00m, column_as_strings\u001b[38;5;241m=\u001b[39mcolumn_as_strings\n\u001b[1;32m    678\u001b[0m     )\n\u001b[1;32m    679\u001b[0m )\n\u001b[1;32m    680\u001b[0m \u001b[38;5;28;01mtry\u001b[39;00m:\n\u001b[0;32m--> 681\u001b[0m     \u001b[38;5;28;01mreturn\u001b[39;00m \u001b[43mParallel\u001b[49m\u001b[43m(\u001b[49m\u001b[43mn_jobs\u001b[49m\u001b[38;5;241;43m=\u001b[39;49m\u001b[38;5;28;43mself\u001b[39;49m\u001b[38;5;241;43m.\u001b[39;49m\u001b[43mn_jobs\u001b[49m\u001b[43m)\u001b[49m\u001b[43m(\u001b[49m\n\u001b[1;32m    682\u001b[0m \u001b[43m        \u001b[49m\u001b[43mdelayed\u001b[49m\u001b[43m(\u001b[49m\u001b[43mfunc\u001b[49m\u001b[43m)\u001b[49m\u001b[43m(\u001b[49m\n\u001b[1;32m    683\u001b[0m \u001b[43m            \u001b[49m\u001b[43mtransformer\u001b[49m\u001b[38;5;241;43m=\u001b[39;49m\u001b[43mclone\u001b[49m\u001b[43m(\u001b[49m\u001b[43mtrans\u001b[49m\u001b[43m)\u001b[49m\u001b[43m \u001b[49m\u001b[38;5;28;43;01mif\u001b[39;49;00m\u001b[43m \u001b[49m\u001b[38;5;129;43;01mnot\u001b[39;49;00m\u001b[43m \u001b[49m\u001b[43mfitted\u001b[49m\u001b[43m \u001b[49m\u001b[38;5;28;43;01melse\u001b[39;49;00m\u001b[43m \u001b[49m\u001b[43mtrans\u001b[49m\u001b[43m,\u001b[49m\n\u001b[1;32m    684\u001b[0m \u001b[43m            \u001b[49m\u001b[43mX\u001b[49m\u001b[38;5;241;43m=\u001b[39;49m\u001b[43m_safe_indexing\u001b[49m\u001b[43m(\u001b[49m\u001b[43mX\u001b[49m\u001b[43m,\u001b[49m\u001b[43m \u001b[49m\u001b[43mcolumn\u001b[49m\u001b[43m,\u001b[49m\u001b[43m \u001b[49m\u001b[43maxis\u001b[49m\u001b[38;5;241;43m=\u001b[39;49m\u001b[38;5;241;43m1\u001b[39;49m\u001b[43m)\u001b[49m\u001b[43m,\u001b[49m\n\u001b[1;32m    685\u001b[0m \u001b[43m            \u001b[49m\u001b[43my\u001b[49m\u001b[38;5;241;43m=\u001b[39;49m\u001b[43my\u001b[49m\u001b[43m,\u001b[49m\n\u001b[1;32m    686\u001b[0m \u001b[43m            \u001b[49m\u001b[43mweight\u001b[49m\u001b[38;5;241;43m=\u001b[39;49m\u001b[43mweight\u001b[49m\u001b[43m,\u001b[49m\n\u001b[1;32m    687\u001b[0m \u001b[43m            \u001b[49m\u001b[43mmessage_clsname\u001b[49m\u001b[38;5;241;43m=\u001b[39;49m\u001b[38;5;124;43m\"\u001b[39;49m\u001b[38;5;124;43mColumnTransformer\u001b[39;49m\u001b[38;5;124;43m\"\u001b[39;49m\u001b[43m,\u001b[49m\n\u001b[1;32m    688\u001b[0m \u001b[43m            \u001b[49m\u001b[43mmessage\u001b[49m\u001b[38;5;241;43m=\u001b[39;49m\u001b[38;5;28;43mself\u001b[39;49m\u001b[38;5;241;43m.\u001b[39;49m\u001b[43m_log_message\u001b[49m\u001b[43m(\u001b[49m\u001b[43mname\u001b[49m\u001b[43m,\u001b[49m\u001b[43m \u001b[49m\u001b[43midx\u001b[49m\u001b[43m,\u001b[49m\u001b[43m \u001b[49m\u001b[38;5;28;43mlen\u001b[39;49m\u001b[43m(\u001b[49m\u001b[43mtransformers\u001b[49m\u001b[43m)\u001b[49m\u001b[43m)\u001b[49m\u001b[43m,\u001b[49m\n\u001b[1;32m    689\u001b[0m \u001b[43m        \u001b[49m\u001b[43m)\u001b[49m\n\u001b[1;32m    690\u001b[0m \u001b[43m        \u001b[49m\u001b[38;5;28;43;01mfor\u001b[39;49;00m\u001b[43m \u001b[49m\u001b[43midx\u001b[49m\u001b[43m,\u001b[49m\u001b[43m \u001b[49m\u001b[43m(\u001b[49m\u001b[43mname\u001b[49m\u001b[43m,\u001b[49m\u001b[43m \u001b[49m\u001b[43mtrans\u001b[49m\u001b[43m,\u001b[49m\u001b[43m \u001b[49m\u001b[43mcolumn\u001b[49m\u001b[43m,\u001b[49m\u001b[43m \u001b[49m\u001b[43mweight\u001b[49m\u001b[43m)\u001b[49m\u001b[43m \u001b[49m\u001b[38;5;129;43;01min\u001b[39;49;00m\u001b[43m \u001b[49m\u001b[38;5;28;43menumerate\u001b[39;49m\u001b[43m(\u001b[49m\u001b[43mtransformers\u001b[49m\u001b[43m,\u001b[49m\u001b[43m \u001b[49m\u001b[38;5;241;43m1\u001b[39;49m\u001b[43m)\u001b[49m\n\u001b[1;32m    691\u001b[0m \u001b[43m    \u001b[49m\u001b[43m)\u001b[49m\n\u001b[1;32m    692\u001b[0m \u001b[38;5;28;01mexcept\u001b[39;00m \u001b[38;5;167;01mValueError\u001b[39;00m \u001b[38;5;28;01mas\u001b[39;00m e:\n\u001b[1;32m    693\u001b[0m     \u001b[38;5;28;01mif\u001b[39;00m \u001b[38;5;124m\"\u001b[39m\u001b[38;5;124mExpected 2D array, got 1D array instead\u001b[39m\u001b[38;5;124m\"\u001b[39m \u001b[38;5;129;01min\u001b[39;00m \u001b[38;5;28mstr\u001b[39m(e):\n",
      "File \u001b[0;32m~/.pyenv/versions/3.10.6/envs/01-household-energy/lib/python3.10/site-packages/sklearn/utils/parallel.py:65\u001b[0m, in \u001b[0;36mParallel.__call__\u001b[0;34m(self, iterable)\u001b[0m\n\u001b[1;32m     60\u001b[0m config \u001b[38;5;241m=\u001b[39m get_config()\n\u001b[1;32m     61\u001b[0m iterable_with_config \u001b[38;5;241m=\u001b[39m (\n\u001b[1;32m     62\u001b[0m     (_with_config(delayed_func, config), args, kwargs)\n\u001b[1;32m     63\u001b[0m     \u001b[38;5;28;01mfor\u001b[39;00m delayed_func, args, kwargs \u001b[38;5;129;01min\u001b[39;00m iterable\n\u001b[1;32m     64\u001b[0m )\n\u001b[0;32m---> 65\u001b[0m \u001b[38;5;28;01mreturn\u001b[39;00m \u001b[38;5;28;43msuper\u001b[39;49m\u001b[43m(\u001b[49m\u001b[43m)\u001b[49m\u001b[38;5;241;43m.\u001b[39;49m\u001b[38;5;21;43m__call__\u001b[39;49m\u001b[43m(\u001b[49m\u001b[43miterable_with_config\u001b[49m\u001b[43m)\u001b[49m\n",
      "File \u001b[0;32m~/.pyenv/versions/3.10.6/envs/01-household-energy/lib/python3.10/site-packages/joblib/parallel.py:1863\u001b[0m, in \u001b[0;36mParallel.__call__\u001b[0;34m(self, iterable)\u001b[0m\n\u001b[1;32m   1861\u001b[0m     output \u001b[38;5;241m=\u001b[39m \u001b[38;5;28mself\u001b[39m\u001b[38;5;241m.\u001b[39m_get_sequential_output(iterable)\n\u001b[1;32m   1862\u001b[0m     \u001b[38;5;28mnext\u001b[39m(output)\n\u001b[0;32m-> 1863\u001b[0m     \u001b[38;5;28;01mreturn\u001b[39;00m output \u001b[38;5;28;01mif\u001b[39;00m \u001b[38;5;28mself\u001b[39m\u001b[38;5;241m.\u001b[39mreturn_generator \u001b[38;5;28;01melse\u001b[39;00m \u001b[38;5;28;43mlist\u001b[39;49m\u001b[43m(\u001b[49m\u001b[43moutput\u001b[49m\u001b[43m)\u001b[49m\n\u001b[1;32m   1865\u001b[0m \u001b[38;5;66;03m# Let's create an ID that uniquely identifies the current call. If the\u001b[39;00m\n\u001b[1;32m   1866\u001b[0m \u001b[38;5;66;03m# call is interrupted early and that the same instance is immediately\u001b[39;00m\n\u001b[1;32m   1867\u001b[0m \u001b[38;5;66;03m# re-used, this id will be used to prevent workers that were\u001b[39;00m\n\u001b[1;32m   1868\u001b[0m \u001b[38;5;66;03m# concurrently finalizing a task from the previous call to run the\u001b[39;00m\n\u001b[1;32m   1869\u001b[0m \u001b[38;5;66;03m# callback.\u001b[39;00m\n\u001b[1;32m   1870\u001b[0m \u001b[38;5;28;01mwith\u001b[39;00m \u001b[38;5;28mself\u001b[39m\u001b[38;5;241m.\u001b[39m_lock:\n",
      "File \u001b[0;32m~/.pyenv/versions/3.10.6/envs/01-household-energy/lib/python3.10/site-packages/joblib/parallel.py:1792\u001b[0m, in \u001b[0;36mParallel._get_sequential_output\u001b[0;34m(self, iterable)\u001b[0m\n\u001b[1;32m   1790\u001b[0m \u001b[38;5;28mself\u001b[39m\u001b[38;5;241m.\u001b[39mn_dispatched_batches \u001b[38;5;241m+\u001b[39m\u001b[38;5;241m=\u001b[39m \u001b[38;5;241m1\u001b[39m\n\u001b[1;32m   1791\u001b[0m \u001b[38;5;28mself\u001b[39m\u001b[38;5;241m.\u001b[39mn_dispatched_tasks \u001b[38;5;241m+\u001b[39m\u001b[38;5;241m=\u001b[39m \u001b[38;5;241m1\u001b[39m\n\u001b[0;32m-> 1792\u001b[0m res \u001b[38;5;241m=\u001b[39m \u001b[43mfunc\u001b[49m\u001b[43m(\u001b[49m\u001b[38;5;241;43m*\u001b[39;49m\u001b[43margs\u001b[49m\u001b[43m,\u001b[49m\u001b[43m \u001b[49m\u001b[38;5;241;43m*\u001b[39;49m\u001b[38;5;241;43m*\u001b[39;49m\u001b[43mkwargs\u001b[49m\u001b[43m)\u001b[49m\n\u001b[1;32m   1793\u001b[0m \u001b[38;5;28mself\u001b[39m\u001b[38;5;241m.\u001b[39mn_completed_tasks \u001b[38;5;241m+\u001b[39m\u001b[38;5;241m=\u001b[39m \u001b[38;5;241m1\u001b[39m\n\u001b[1;32m   1794\u001b[0m \u001b[38;5;28mself\u001b[39m\u001b[38;5;241m.\u001b[39mprint_progress()\n",
      "File \u001b[0;32m~/.pyenv/versions/3.10.6/envs/01-household-energy/lib/python3.10/site-packages/sklearn/utils/parallel.py:127\u001b[0m, in \u001b[0;36m_FuncWrapper.__call__\u001b[0;34m(self, *args, **kwargs)\u001b[0m\n\u001b[1;32m    125\u001b[0m     config \u001b[38;5;241m=\u001b[39m {}\n\u001b[1;32m    126\u001b[0m \u001b[38;5;28;01mwith\u001b[39;00m config_context(\u001b[38;5;241m*\u001b[39m\u001b[38;5;241m*\u001b[39mconfig):\n\u001b[0;32m--> 127\u001b[0m     \u001b[38;5;28;01mreturn\u001b[39;00m \u001b[38;5;28;43mself\u001b[39;49m\u001b[38;5;241;43m.\u001b[39;49m\u001b[43mfunction\u001b[49m\u001b[43m(\u001b[49m\u001b[38;5;241;43m*\u001b[39;49m\u001b[43margs\u001b[49m\u001b[43m,\u001b[49m\u001b[43m \u001b[49m\u001b[38;5;241;43m*\u001b[39;49m\u001b[38;5;241;43m*\u001b[39;49m\u001b[43mkwargs\u001b[49m\u001b[43m)\u001b[49m\n",
      "File \u001b[0;32m~/.pyenv/versions/3.10.6/envs/01-household-energy/lib/python3.10/site-packages/sklearn/pipeline.py:940\u001b[0m, in \u001b[0;36m_transform_one\u001b[0;34m(transformer, X, y, weight, **fit_params)\u001b[0m\n\u001b[1;32m    939\u001b[0m \u001b[38;5;28;01mdef\u001b[39;00m \u001b[38;5;21m_transform_one\u001b[39m(transformer, X, y, weight, \u001b[38;5;241m*\u001b[39m\u001b[38;5;241m*\u001b[39mfit_params):\n\u001b[0;32m--> 940\u001b[0m     res \u001b[38;5;241m=\u001b[39m \u001b[43mtransformer\u001b[49m\u001b[38;5;241;43m.\u001b[39;49m\u001b[43mtransform\u001b[49m\u001b[43m(\u001b[49m\u001b[43mX\u001b[49m\u001b[43m)\u001b[49m\n\u001b[1;32m    941\u001b[0m     \u001b[38;5;66;03m# if we have a weight for this transformer, multiply output\u001b[39;00m\n\u001b[1;32m    942\u001b[0m     \u001b[38;5;28;01mif\u001b[39;00m weight \u001b[38;5;129;01mis\u001b[39;00m \u001b[38;5;28;01mNone\u001b[39;00m:\n",
      "File \u001b[0;32m~/.pyenv/versions/3.10.6/envs/01-household-energy/lib/python3.10/site-packages/sklearn/utils/_set_output.py:157\u001b[0m, in \u001b[0;36m_wrap_method_output.<locals>.wrapped\u001b[0;34m(self, X, *args, **kwargs)\u001b[0m\n\u001b[1;32m    155\u001b[0m \u001b[38;5;129m@wraps\u001b[39m(f)\n\u001b[1;32m    156\u001b[0m \u001b[38;5;28;01mdef\u001b[39;00m \u001b[38;5;21mwrapped\u001b[39m(\u001b[38;5;28mself\u001b[39m, X, \u001b[38;5;241m*\u001b[39margs, \u001b[38;5;241m*\u001b[39m\u001b[38;5;241m*\u001b[39mkwargs):\n\u001b[0;32m--> 157\u001b[0m     data_to_wrap \u001b[38;5;241m=\u001b[39m \u001b[43mf\u001b[49m\u001b[43m(\u001b[49m\u001b[38;5;28;43mself\u001b[39;49m\u001b[43m,\u001b[49m\u001b[43m \u001b[49m\u001b[43mX\u001b[49m\u001b[43m,\u001b[49m\u001b[43m \u001b[49m\u001b[38;5;241;43m*\u001b[39;49m\u001b[43margs\u001b[49m\u001b[43m,\u001b[49m\u001b[43m \u001b[49m\u001b[38;5;241;43m*\u001b[39;49m\u001b[38;5;241;43m*\u001b[39;49m\u001b[43mkwargs\u001b[49m\u001b[43m)\u001b[49m\n\u001b[1;32m    158\u001b[0m     \u001b[38;5;28;01mif\u001b[39;00m \u001b[38;5;28misinstance\u001b[39m(data_to_wrap, \u001b[38;5;28mtuple\u001b[39m):\n\u001b[1;32m    159\u001b[0m         \u001b[38;5;66;03m# only wrap the first output for cross decomposition\u001b[39;00m\n\u001b[1;32m    160\u001b[0m         return_tuple \u001b[38;5;241m=\u001b[39m (\n\u001b[1;32m    161\u001b[0m             _wrap_data_with_container(method, data_to_wrap[\u001b[38;5;241m0\u001b[39m], X, \u001b[38;5;28mself\u001b[39m),\n\u001b[1;32m    162\u001b[0m             \u001b[38;5;241m*\u001b[39mdata_to_wrap[\u001b[38;5;241m1\u001b[39m:],\n\u001b[1;32m    163\u001b[0m         )\n",
      "File \u001b[0;32m~/.pyenv/versions/3.10.6/envs/01-household-energy/lib/python3.10/site-packages/sklearn/preprocessing/_encoders.py:1027\u001b[0m, in \u001b[0;36mOneHotEncoder.transform\u001b[0;34m(self, X)\u001b[0m\n\u001b[1;32m   1022\u001b[0m \u001b[38;5;66;03m# validation of X happens in _check_X called by _transform\u001b[39;00m\n\u001b[1;32m   1023\u001b[0m warn_on_unknown \u001b[38;5;241m=\u001b[39m \u001b[38;5;28mself\u001b[39m\u001b[38;5;241m.\u001b[39mdrop \u001b[38;5;129;01mis\u001b[39;00m \u001b[38;5;129;01mnot\u001b[39;00m \u001b[38;5;28;01mNone\u001b[39;00m \u001b[38;5;129;01mand\u001b[39;00m \u001b[38;5;28mself\u001b[39m\u001b[38;5;241m.\u001b[39mhandle_unknown \u001b[38;5;129;01min\u001b[39;00m {\n\u001b[1;32m   1024\u001b[0m     \u001b[38;5;124m\"\u001b[39m\u001b[38;5;124mignore\u001b[39m\u001b[38;5;124m\"\u001b[39m,\n\u001b[1;32m   1025\u001b[0m     \u001b[38;5;124m\"\u001b[39m\u001b[38;5;124minfrequent_if_exist\u001b[39m\u001b[38;5;124m\"\u001b[39m,\n\u001b[1;32m   1026\u001b[0m }\n\u001b[0;32m-> 1027\u001b[0m X_int, X_mask \u001b[38;5;241m=\u001b[39m \u001b[38;5;28;43mself\u001b[39;49m\u001b[38;5;241;43m.\u001b[39;49m\u001b[43m_transform\u001b[49m\u001b[43m(\u001b[49m\n\u001b[1;32m   1028\u001b[0m \u001b[43m    \u001b[49m\u001b[43mX\u001b[49m\u001b[43m,\u001b[49m\n\u001b[1;32m   1029\u001b[0m \u001b[43m    \u001b[49m\u001b[43mhandle_unknown\u001b[49m\u001b[38;5;241;43m=\u001b[39;49m\u001b[38;5;28;43mself\u001b[39;49m\u001b[38;5;241;43m.\u001b[39;49m\u001b[43mhandle_unknown\u001b[49m\u001b[43m,\u001b[49m\n\u001b[1;32m   1030\u001b[0m \u001b[43m    \u001b[49m\u001b[43mforce_all_finite\u001b[49m\u001b[38;5;241;43m=\u001b[39;49m\u001b[38;5;124;43m\"\u001b[39;49m\u001b[38;5;124;43mallow-nan\u001b[39;49m\u001b[38;5;124;43m\"\u001b[39;49m\u001b[43m,\u001b[49m\n\u001b[1;32m   1031\u001b[0m \u001b[43m    \u001b[49m\u001b[43mwarn_on_unknown\u001b[49m\u001b[38;5;241;43m=\u001b[39;49m\u001b[43mwarn_on_unknown\u001b[49m\u001b[43m,\u001b[49m\n\u001b[1;32m   1032\u001b[0m \u001b[43m\u001b[49m\u001b[43m)\u001b[49m\n\u001b[1;32m   1034\u001b[0m n_samples, n_features \u001b[38;5;241m=\u001b[39m X_int\u001b[38;5;241m.\u001b[39mshape\n\u001b[1;32m   1036\u001b[0m \u001b[38;5;28;01mif\u001b[39;00m \u001b[38;5;28mself\u001b[39m\u001b[38;5;241m.\u001b[39m_drop_idx_after_grouping \u001b[38;5;129;01mis\u001b[39;00m \u001b[38;5;129;01mnot\u001b[39;00m \u001b[38;5;28;01mNone\u001b[39;00m:\n",
      "File \u001b[0;32m~/.pyenv/versions/3.10.6/envs/01-household-energy/lib/python3.10/site-packages/sklearn/preprocessing/_encoders.py:192\u001b[0m, in \u001b[0;36m_BaseEncoder._transform\u001b[0;34m(self, X, handle_unknown, force_all_finite, warn_on_unknown, ignore_category_indices)\u001b[0m\n\u001b[1;32m    190\u001b[0m \u001b[38;5;28;01mfor\u001b[39;00m i \u001b[38;5;129;01min\u001b[39;00m \u001b[38;5;28mrange\u001b[39m(n_features):\n\u001b[1;32m    191\u001b[0m     Xi \u001b[38;5;241m=\u001b[39m X_list[i]\n\u001b[0;32m--> 192\u001b[0m     diff, valid_mask \u001b[38;5;241m=\u001b[39m \u001b[43m_check_unknown\u001b[49m\u001b[43m(\u001b[49m\u001b[43mXi\u001b[49m\u001b[43m,\u001b[49m\u001b[43m \u001b[49m\u001b[38;5;28;43mself\u001b[39;49m\u001b[38;5;241;43m.\u001b[39;49m\u001b[43mcategories_\u001b[49m\u001b[43m[\u001b[49m\u001b[43mi\u001b[49m\u001b[43m]\u001b[49m\u001b[43m,\u001b[49m\u001b[43m \u001b[49m\u001b[43mreturn_mask\u001b[49m\u001b[38;5;241;43m=\u001b[39;49m\u001b[38;5;28;43;01mTrue\u001b[39;49;00m\u001b[43m)\u001b[49m\n\u001b[1;32m    194\u001b[0m     \u001b[38;5;28;01mif\u001b[39;00m \u001b[38;5;129;01mnot\u001b[39;00m np\u001b[38;5;241m.\u001b[39mall(valid_mask):\n\u001b[1;32m    195\u001b[0m         \u001b[38;5;28;01mif\u001b[39;00m handle_unknown \u001b[38;5;241m==\u001b[39m \u001b[38;5;124m\"\u001b[39m\u001b[38;5;124merror\u001b[39m\u001b[38;5;124m\"\u001b[39m:\n",
      "File \u001b[0;32m~/.pyenv/versions/3.10.6/envs/01-household-energy/lib/python3.10/site-packages/sklearn/utils/_encode.py:304\u001b[0m, in \u001b[0;36m_check_unknown\u001b[0;34m(values, known_values, return_mask)\u001b[0m\n\u001b[1;32m    301\u001b[0m         valid_mask \u001b[38;5;241m=\u001b[39m np\u001b[38;5;241m.\u001b[39mones(\u001b[38;5;28mlen\u001b[39m(values), dtype\u001b[38;5;241m=\u001b[39m\u001b[38;5;28mbool\u001b[39m)\n\u001b[1;32m    303\u001b[0m \u001b[38;5;66;03m# check for nans in the known_values\u001b[39;00m\n\u001b[0;32m--> 304\u001b[0m \u001b[38;5;28;01mif\u001b[39;00m \u001b[43mnp\u001b[49m\u001b[38;5;241;43m.\u001b[39;49m\u001b[43misnan\u001b[49m\u001b[43m(\u001b[49m\u001b[43mknown_values\u001b[49m\u001b[43m)\u001b[49m\u001b[38;5;241m.\u001b[39many():\n\u001b[1;32m    305\u001b[0m     diff_is_nan \u001b[38;5;241m=\u001b[39m np\u001b[38;5;241m.\u001b[39misnan(diff)\n\u001b[1;32m    306\u001b[0m     \u001b[38;5;28;01mif\u001b[39;00m diff_is_nan\u001b[38;5;241m.\u001b[39many():\n\u001b[1;32m    307\u001b[0m         \u001b[38;5;66;03m# removes nan from valid_mask\u001b[39;00m\n",
      "\u001b[0;31mTypeError\u001b[0m: ufunc 'isnan' not supported for the input types, and the inputs could not be safely coerced to any supported types according to the casting rule ''safe''"
     ]
    }
   ],
   "source": [
    "pipe.predict(make_X_new(X_test.iloc[0,:]))"
   ]
  },
  {
   "cell_type": "code",
   "execution_count": 158,
   "id": "21cfaf84-889b-46b5-912f-2c4423a5a667",
   "metadata": {},
   "outputs": [
    {
     "data": {
      "text/html": [
       "<div>\n",
       "<style scoped>\n",
       "    .dataframe tbody tr th:only-of-type {\n",
       "        vertical-align: middle;\n",
       "    }\n",
       "\n",
       "    .dataframe tbody tr th {\n",
       "        vertical-align: top;\n",
       "    }\n",
       "\n",
       "    .dataframe thead th {\n",
       "        text-align: right;\n",
       "    }\n",
       "</style>\n",
       "<table border=\"1\" class=\"dataframe\">\n",
       "  <thead>\n",
       "    <tr style=\"text-align: right;\">\n",
       "      <th></th>\n",
       "      <th>SWIMPOOL</th>\n",
       "      <th>NUMPORTEL</th>\n",
       "      <th>SOLAR</th>\n",
       "      <th>SMARTMETER</th>\n",
       "      <th>REGIONC</th>\n",
       "      <th>state_name</th>\n",
       "      <th>BA_climate</th>\n",
       "      <th>TYPEHUQ</th>\n",
       "      <th>STORIES</th>\n",
       "      <th>YEARMADERANGE</th>\n",
       "      <th>...</th>\n",
       "      <th>TVCOLOR</th>\n",
       "      <th>TELLWORK</th>\n",
       "      <th>HEATHOME</th>\n",
       "      <th>EQUIPM</th>\n",
       "      <th>AIRCOND</th>\n",
       "      <th>NHSLDMEM</th>\n",
       "      <th>SQFTEST</th>\n",
       "      <th>TOTAL_BATH</th>\n",
       "      <th>TOTAL_COMP</th>\n",
       "      <th>TOTAL_LIGHT</th>\n",
       "    </tr>\n",
       "  </thead>\n",
       "  <tbody>\n",
       "    <tr>\n",
       "      <th>0</th>\n",
       "      <td>0</td>\n",
       "      <td>0</td>\n",
       "      <td>0</td>\n",
       "      <td>1</td>\n",
       "      <td>SOUTH</td>\n",
       "      <td>Florida</td>\n",
       "      <td>Hot-Humid</td>\n",
       "      <td>Single_detached</td>\n",
       "      <td>1</td>\n",
       "      <td>2016-20</td>\n",
       "      <td>...</td>\n",
       "      <td>4</td>\n",
       "      <td>0</td>\n",
       "      <td>0</td>\n",
       "      <td>Other</td>\n",
       "      <td>1</td>\n",
       "      <td>7</td>\n",
       "      <td>2200</td>\n",
       "      <td>2</td>\n",
       "      <td>1</td>\n",
       "      <td>6</td>\n",
       "    </tr>\n",
       "  </tbody>\n",
       "</table>\n",
       "<p>1 rows × 27 columns</p>\n",
       "</div>"
      ],
      "text/plain": [
       "   SWIMPOOL  NUMPORTEL  SOLAR  SMARTMETER REGIONC state_name BA_climate  \\\n",
       "0         0          0      0           1   SOUTH    Florida  Hot-Humid   \n",
       "\n",
       "           TYPEHUQ  STORIES YEARMADERANGE  ...  TVCOLOR  TELLWORK  HEATHOME  \\\n",
       "0  Single_detached        1       2016-20  ...        4         0         0   \n",
       "\n",
       "   EQUIPM  AIRCOND  NHSLDMEM  SQFTEST  TOTAL_BATH  TOTAL_COMP  TOTAL_LIGHT  \n",
       "0   Other        1         7     2200           2           1            6  \n",
       "\n",
       "[1 rows x 27 columns]"
      ]
     },
     "execution_count": 158,
     "metadata": {},
     "output_type": "execute_result"
    }
   ],
   "source": [
    "make_X_new(X_test.iloc[0,:])"
   ]
  },
  {
   "cell_type": "code",
   "execution_count": 159,
   "id": "739ca1a5-7dd8-4912-8432-a67848b958a3",
   "metadata": {},
   "outputs": [
    {
     "ename": "TypeError",
     "evalue": "ufunc 'isnan' not supported for the input types, and the inputs could not be safely coerced to any supported types according to the casting rule ''safe''",
     "output_type": "error",
     "traceback": [
      "\u001b[0;31m---------------------------------------------------------------------------\u001b[0m",
      "\u001b[0;31mTypeError\u001b[0m                                 Traceback (most recent call last)",
      "Cell \u001b[0;32mIn[159], line 1\u001b[0m\n\u001b[0;32m----> 1\u001b[0m \u001b[43mpipe\u001b[49m\u001b[38;5;241;43m.\u001b[39;49m\u001b[43mpredict\u001b[49m\u001b[43m(\u001b[49m\u001b[43mmake_X_new\u001b[49m\u001b[43m(\u001b[49m\u001b[43mX_test\u001b[49m\u001b[38;5;241;43m.\u001b[39;49m\u001b[43miloc\u001b[49m\u001b[43m[\u001b[49m\u001b[38;5;241;43m0\u001b[39;49m\u001b[43m,\u001b[49m\u001b[43m:\u001b[49m\u001b[43m]\u001b[49m\u001b[43m)\u001b[49m\u001b[43m)\u001b[49m\n",
      "File \u001b[0;32m~/.pyenv/versions/3.10.6/envs/01-household-energy/lib/python3.10/site-packages/sklearn/pipeline.py:514\u001b[0m, in \u001b[0;36mPipeline.predict\u001b[0;34m(self, X, **predict_params)\u001b[0m\n\u001b[1;32m    512\u001b[0m Xt \u001b[38;5;241m=\u001b[39m X\n\u001b[1;32m    513\u001b[0m \u001b[38;5;28;01mfor\u001b[39;00m _, name, transform \u001b[38;5;129;01min\u001b[39;00m \u001b[38;5;28mself\u001b[39m\u001b[38;5;241m.\u001b[39m_iter(with_final\u001b[38;5;241m=\u001b[39m\u001b[38;5;28;01mFalse\u001b[39;00m):\n\u001b[0;32m--> 514\u001b[0m     Xt \u001b[38;5;241m=\u001b[39m \u001b[43mtransform\u001b[49m\u001b[38;5;241;43m.\u001b[39;49m\u001b[43mtransform\u001b[49m\u001b[43m(\u001b[49m\u001b[43mXt\u001b[49m\u001b[43m)\u001b[49m\n\u001b[1;32m    515\u001b[0m \u001b[38;5;28;01mreturn\u001b[39;00m \u001b[38;5;28mself\u001b[39m\u001b[38;5;241m.\u001b[39msteps[\u001b[38;5;241m-\u001b[39m\u001b[38;5;241m1\u001b[39m][\u001b[38;5;241m1\u001b[39m]\u001b[38;5;241m.\u001b[39mpredict(Xt, \u001b[38;5;241m*\u001b[39m\u001b[38;5;241m*\u001b[39mpredict_params)\n",
      "File \u001b[0;32m~/.pyenv/versions/3.10.6/envs/01-household-energy/lib/python3.10/site-packages/sklearn/utils/_set_output.py:157\u001b[0m, in \u001b[0;36m_wrap_method_output.<locals>.wrapped\u001b[0;34m(self, X, *args, **kwargs)\u001b[0m\n\u001b[1;32m    155\u001b[0m \u001b[38;5;129m@wraps\u001b[39m(f)\n\u001b[1;32m    156\u001b[0m \u001b[38;5;28;01mdef\u001b[39;00m \u001b[38;5;21mwrapped\u001b[39m(\u001b[38;5;28mself\u001b[39m, X, \u001b[38;5;241m*\u001b[39margs, \u001b[38;5;241m*\u001b[39m\u001b[38;5;241m*\u001b[39mkwargs):\n\u001b[0;32m--> 157\u001b[0m     data_to_wrap \u001b[38;5;241m=\u001b[39m \u001b[43mf\u001b[49m\u001b[43m(\u001b[49m\u001b[38;5;28;43mself\u001b[39;49m\u001b[43m,\u001b[49m\u001b[43m \u001b[49m\u001b[43mX\u001b[49m\u001b[43m,\u001b[49m\u001b[43m \u001b[49m\u001b[38;5;241;43m*\u001b[39;49m\u001b[43margs\u001b[49m\u001b[43m,\u001b[49m\u001b[43m \u001b[49m\u001b[38;5;241;43m*\u001b[39;49m\u001b[38;5;241;43m*\u001b[39;49m\u001b[43mkwargs\u001b[49m\u001b[43m)\u001b[49m\n\u001b[1;32m    158\u001b[0m     \u001b[38;5;28;01mif\u001b[39;00m \u001b[38;5;28misinstance\u001b[39m(data_to_wrap, \u001b[38;5;28mtuple\u001b[39m):\n\u001b[1;32m    159\u001b[0m         \u001b[38;5;66;03m# only wrap the first output for cross decomposition\u001b[39;00m\n\u001b[1;32m    160\u001b[0m         return_tuple \u001b[38;5;241m=\u001b[39m (\n\u001b[1;32m    161\u001b[0m             _wrap_data_with_container(method, data_to_wrap[\u001b[38;5;241m0\u001b[39m], X, \u001b[38;5;28mself\u001b[39m),\n\u001b[1;32m    162\u001b[0m             \u001b[38;5;241m*\u001b[39mdata_to_wrap[\u001b[38;5;241m1\u001b[39m:],\n\u001b[1;32m    163\u001b[0m         )\n",
      "File \u001b[0;32m~/.pyenv/versions/3.10.6/envs/01-household-energy/lib/python3.10/site-packages/sklearn/compose/_column_transformer.py:827\u001b[0m, in \u001b[0;36mColumnTransformer.transform\u001b[0;34m(self, X)\u001b[0m\n\u001b[1;32m    822\u001b[0m \u001b[38;5;28;01melse\u001b[39;00m:\n\u001b[1;32m    823\u001b[0m     \u001b[38;5;66;03m# ndarray was used for fitting or transforming, thus we only\u001b[39;00m\n\u001b[1;32m    824\u001b[0m     \u001b[38;5;66;03m# check that n_features_in_ is consistent\u001b[39;00m\n\u001b[1;32m    825\u001b[0m     \u001b[38;5;28mself\u001b[39m\u001b[38;5;241m.\u001b[39m_check_n_features(X, reset\u001b[38;5;241m=\u001b[39m\u001b[38;5;28;01mFalse\u001b[39;00m)\n\u001b[0;32m--> 827\u001b[0m Xs \u001b[38;5;241m=\u001b[39m \u001b[38;5;28;43mself\u001b[39;49m\u001b[38;5;241;43m.\u001b[39;49m\u001b[43m_fit_transform\u001b[49m\u001b[43m(\u001b[49m\n\u001b[1;32m    828\u001b[0m \u001b[43m    \u001b[49m\u001b[43mX\u001b[49m\u001b[43m,\u001b[49m\n\u001b[1;32m    829\u001b[0m \u001b[43m    \u001b[49m\u001b[38;5;28;43;01mNone\u001b[39;49;00m\u001b[43m,\u001b[49m\n\u001b[1;32m    830\u001b[0m \u001b[43m    \u001b[49m\u001b[43m_transform_one\u001b[49m\u001b[43m,\u001b[49m\n\u001b[1;32m    831\u001b[0m \u001b[43m    \u001b[49m\u001b[43mfitted\u001b[49m\u001b[38;5;241;43m=\u001b[39;49m\u001b[38;5;28;43;01mTrue\u001b[39;49;00m\u001b[43m,\u001b[49m\n\u001b[1;32m    832\u001b[0m \u001b[43m    \u001b[49m\u001b[43mcolumn_as_strings\u001b[49m\u001b[38;5;241;43m=\u001b[39;49m\u001b[43mfit_dataframe_and_transform_dataframe\u001b[49m\u001b[43m,\u001b[49m\n\u001b[1;32m    833\u001b[0m \u001b[43m\u001b[49m\u001b[43m)\u001b[49m\n\u001b[1;32m    834\u001b[0m \u001b[38;5;28mself\u001b[39m\u001b[38;5;241m.\u001b[39m_validate_output(Xs)\n\u001b[1;32m    836\u001b[0m \u001b[38;5;28;01mif\u001b[39;00m \u001b[38;5;129;01mnot\u001b[39;00m Xs:\n\u001b[1;32m    837\u001b[0m     \u001b[38;5;66;03m# All transformers are None\u001b[39;00m\n",
      "File \u001b[0;32m~/.pyenv/versions/3.10.6/envs/01-household-energy/lib/python3.10/site-packages/sklearn/compose/_column_transformer.py:681\u001b[0m, in \u001b[0;36mColumnTransformer._fit_transform\u001b[0;34m(self, X, y, func, fitted, column_as_strings)\u001b[0m\n\u001b[1;32m    675\u001b[0m transformers \u001b[38;5;241m=\u001b[39m \u001b[38;5;28mlist\u001b[39m(\n\u001b[1;32m    676\u001b[0m     \u001b[38;5;28mself\u001b[39m\u001b[38;5;241m.\u001b[39m_iter(\n\u001b[1;32m    677\u001b[0m         fitted\u001b[38;5;241m=\u001b[39mfitted, replace_strings\u001b[38;5;241m=\u001b[39m\u001b[38;5;28;01mTrue\u001b[39;00m, column_as_strings\u001b[38;5;241m=\u001b[39mcolumn_as_strings\n\u001b[1;32m    678\u001b[0m     )\n\u001b[1;32m    679\u001b[0m )\n\u001b[1;32m    680\u001b[0m \u001b[38;5;28;01mtry\u001b[39;00m:\n\u001b[0;32m--> 681\u001b[0m     \u001b[38;5;28;01mreturn\u001b[39;00m \u001b[43mParallel\u001b[49m\u001b[43m(\u001b[49m\u001b[43mn_jobs\u001b[49m\u001b[38;5;241;43m=\u001b[39;49m\u001b[38;5;28;43mself\u001b[39;49m\u001b[38;5;241;43m.\u001b[39;49m\u001b[43mn_jobs\u001b[49m\u001b[43m)\u001b[49m\u001b[43m(\u001b[49m\n\u001b[1;32m    682\u001b[0m \u001b[43m        \u001b[49m\u001b[43mdelayed\u001b[49m\u001b[43m(\u001b[49m\u001b[43mfunc\u001b[49m\u001b[43m)\u001b[49m\u001b[43m(\u001b[49m\n\u001b[1;32m    683\u001b[0m \u001b[43m            \u001b[49m\u001b[43mtransformer\u001b[49m\u001b[38;5;241;43m=\u001b[39;49m\u001b[43mclone\u001b[49m\u001b[43m(\u001b[49m\u001b[43mtrans\u001b[49m\u001b[43m)\u001b[49m\u001b[43m \u001b[49m\u001b[38;5;28;43;01mif\u001b[39;49;00m\u001b[43m \u001b[49m\u001b[38;5;129;43;01mnot\u001b[39;49;00m\u001b[43m \u001b[49m\u001b[43mfitted\u001b[49m\u001b[43m \u001b[49m\u001b[38;5;28;43;01melse\u001b[39;49;00m\u001b[43m \u001b[49m\u001b[43mtrans\u001b[49m\u001b[43m,\u001b[49m\n\u001b[1;32m    684\u001b[0m \u001b[43m            \u001b[49m\u001b[43mX\u001b[49m\u001b[38;5;241;43m=\u001b[39;49m\u001b[43m_safe_indexing\u001b[49m\u001b[43m(\u001b[49m\u001b[43mX\u001b[49m\u001b[43m,\u001b[49m\u001b[43m \u001b[49m\u001b[43mcolumn\u001b[49m\u001b[43m,\u001b[49m\u001b[43m \u001b[49m\u001b[43maxis\u001b[49m\u001b[38;5;241;43m=\u001b[39;49m\u001b[38;5;241;43m1\u001b[39;49m\u001b[43m)\u001b[49m\u001b[43m,\u001b[49m\n\u001b[1;32m    685\u001b[0m \u001b[43m            \u001b[49m\u001b[43my\u001b[49m\u001b[38;5;241;43m=\u001b[39;49m\u001b[43my\u001b[49m\u001b[43m,\u001b[49m\n\u001b[1;32m    686\u001b[0m \u001b[43m            \u001b[49m\u001b[43mweight\u001b[49m\u001b[38;5;241;43m=\u001b[39;49m\u001b[43mweight\u001b[49m\u001b[43m,\u001b[49m\n\u001b[1;32m    687\u001b[0m \u001b[43m            \u001b[49m\u001b[43mmessage_clsname\u001b[49m\u001b[38;5;241;43m=\u001b[39;49m\u001b[38;5;124;43m\"\u001b[39;49m\u001b[38;5;124;43mColumnTransformer\u001b[39;49m\u001b[38;5;124;43m\"\u001b[39;49m\u001b[43m,\u001b[49m\n\u001b[1;32m    688\u001b[0m \u001b[43m            \u001b[49m\u001b[43mmessage\u001b[49m\u001b[38;5;241;43m=\u001b[39;49m\u001b[38;5;28;43mself\u001b[39;49m\u001b[38;5;241;43m.\u001b[39;49m\u001b[43m_log_message\u001b[49m\u001b[43m(\u001b[49m\u001b[43mname\u001b[49m\u001b[43m,\u001b[49m\u001b[43m \u001b[49m\u001b[43midx\u001b[49m\u001b[43m,\u001b[49m\u001b[43m \u001b[49m\u001b[38;5;28;43mlen\u001b[39;49m\u001b[43m(\u001b[49m\u001b[43mtransformers\u001b[49m\u001b[43m)\u001b[49m\u001b[43m)\u001b[49m\u001b[43m,\u001b[49m\n\u001b[1;32m    689\u001b[0m \u001b[43m        \u001b[49m\u001b[43m)\u001b[49m\n\u001b[1;32m    690\u001b[0m \u001b[43m        \u001b[49m\u001b[38;5;28;43;01mfor\u001b[39;49;00m\u001b[43m \u001b[49m\u001b[43midx\u001b[49m\u001b[43m,\u001b[49m\u001b[43m \u001b[49m\u001b[43m(\u001b[49m\u001b[43mname\u001b[49m\u001b[43m,\u001b[49m\u001b[43m \u001b[49m\u001b[43mtrans\u001b[49m\u001b[43m,\u001b[49m\u001b[43m \u001b[49m\u001b[43mcolumn\u001b[49m\u001b[43m,\u001b[49m\u001b[43m \u001b[49m\u001b[43mweight\u001b[49m\u001b[43m)\u001b[49m\u001b[43m \u001b[49m\u001b[38;5;129;43;01min\u001b[39;49;00m\u001b[43m \u001b[49m\u001b[38;5;28;43menumerate\u001b[39;49m\u001b[43m(\u001b[49m\u001b[43mtransformers\u001b[49m\u001b[43m,\u001b[49m\u001b[43m \u001b[49m\u001b[38;5;241;43m1\u001b[39;49m\u001b[43m)\u001b[49m\n\u001b[1;32m    691\u001b[0m \u001b[43m    \u001b[49m\u001b[43m)\u001b[49m\n\u001b[1;32m    692\u001b[0m \u001b[38;5;28;01mexcept\u001b[39;00m \u001b[38;5;167;01mValueError\u001b[39;00m \u001b[38;5;28;01mas\u001b[39;00m e:\n\u001b[1;32m    693\u001b[0m     \u001b[38;5;28;01mif\u001b[39;00m \u001b[38;5;124m\"\u001b[39m\u001b[38;5;124mExpected 2D array, got 1D array instead\u001b[39m\u001b[38;5;124m\"\u001b[39m \u001b[38;5;129;01min\u001b[39;00m \u001b[38;5;28mstr\u001b[39m(e):\n",
      "File \u001b[0;32m~/.pyenv/versions/3.10.6/envs/01-household-energy/lib/python3.10/site-packages/sklearn/utils/parallel.py:65\u001b[0m, in \u001b[0;36mParallel.__call__\u001b[0;34m(self, iterable)\u001b[0m\n\u001b[1;32m     60\u001b[0m config \u001b[38;5;241m=\u001b[39m get_config()\n\u001b[1;32m     61\u001b[0m iterable_with_config \u001b[38;5;241m=\u001b[39m (\n\u001b[1;32m     62\u001b[0m     (_with_config(delayed_func, config), args, kwargs)\n\u001b[1;32m     63\u001b[0m     \u001b[38;5;28;01mfor\u001b[39;00m delayed_func, args, kwargs \u001b[38;5;129;01min\u001b[39;00m iterable\n\u001b[1;32m     64\u001b[0m )\n\u001b[0;32m---> 65\u001b[0m \u001b[38;5;28;01mreturn\u001b[39;00m \u001b[38;5;28;43msuper\u001b[39;49m\u001b[43m(\u001b[49m\u001b[43m)\u001b[49m\u001b[38;5;241;43m.\u001b[39;49m\u001b[38;5;21;43m__call__\u001b[39;49m\u001b[43m(\u001b[49m\u001b[43miterable_with_config\u001b[49m\u001b[43m)\u001b[49m\n",
      "File \u001b[0;32m~/.pyenv/versions/3.10.6/envs/01-household-energy/lib/python3.10/site-packages/joblib/parallel.py:1863\u001b[0m, in \u001b[0;36mParallel.__call__\u001b[0;34m(self, iterable)\u001b[0m\n\u001b[1;32m   1861\u001b[0m     output \u001b[38;5;241m=\u001b[39m \u001b[38;5;28mself\u001b[39m\u001b[38;5;241m.\u001b[39m_get_sequential_output(iterable)\n\u001b[1;32m   1862\u001b[0m     \u001b[38;5;28mnext\u001b[39m(output)\n\u001b[0;32m-> 1863\u001b[0m     \u001b[38;5;28;01mreturn\u001b[39;00m output \u001b[38;5;28;01mif\u001b[39;00m \u001b[38;5;28mself\u001b[39m\u001b[38;5;241m.\u001b[39mreturn_generator \u001b[38;5;28;01melse\u001b[39;00m \u001b[38;5;28;43mlist\u001b[39;49m\u001b[43m(\u001b[49m\u001b[43moutput\u001b[49m\u001b[43m)\u001b[49m\n\u001b[1;32m   1865\u001b[0m \u001b[38;5;66;03m# Let's create an ID that uniquely identifies the current call. If the\u001b[39;00m\n\u001b[1;32m   1866\u001b[0m \u001b[38;5;66;03m# call is interrupted early and that the same instance is immediately\u001b[39;00m\n\u001b[1;32m   1867\u001b[0m \u001b[38;5;66;03m# re-used, this id will be used to prevent workers that were\u001b[39;00m\n\u001b[1;32m   1868\u001b[0m \u001b[38;5;66;03m# concurrently finalizing a task from the previous call to run the\u001b[39;00m\n\u001b[1;32m   1869\u001b[0m \u001b[38;5;66;03m# callback.\u001b[39;00m\n\u001b[1;32m   1870\u001b[0m \u001b[38;5;28;01mwith\u001b[39;00m \u001b[38;5;28mself\u001b[39m\u001b[38;5;241m.\u001b[39m_lock:\n",
      "File \u001b[0;32m~/.pyenv/versions/3.10.6/envs/01-household-energy/lib/python3.10/site-packages/joblib/parallel.py:1792\u001b[0m, in \u001b[0;36mParallel._get_sequential_output\u001b[0;34m(self, iterable)\u001b[0m\n\u001b[1;32m   1790\u001b[0m \u001b[38;5;28mself\u001b[39m\u001b[38;5;241m.\u001b[39mn_dispatched_batches \u001b[38;5;241m+\u001b[39m\u001b[38;5;241m=\u001b[39m \u001b[38;5;241m1\u001b[39m\n\u001b[1;32m   1791\u001b[0m \u001b[38;5;28mself\u001b[39m\u001b[38;5;241m.\u001b[39mn_dispatched_tasks \u001b[38;5;241m+\u001b[39m\u001b[38;5;241m=\u001b[39m \u001b[38;5;241m1\u001b[39m\n\u001b[0;32m-> 1792\u001b[0m res \u001b[38;5;241m=\u001b[39m \u001b[43mfunc\u001b[49m\u001b[43m(\u001b[49m\u001b[38;5;241;43m*\u001b[39;49m\u001b[43margs\u001b[49m\u001b[43m,\u001b[49m\u001b[43m \u001b[49m\u001b[38;5;241;43m*\u001b[39;49m\u001b[38;5;241;43m*\u001b[39;49m\u001b[43mkwargs\u001b[49m\u001b[43m)\u001b[49m\n\u001b[1;32m   1793\u001b[0m \u001b[38;5;28mself\u001b[39m\u001b[38;5;241m.\u001b[39mn_completed_tasks \u001b[38;5;241m+\u001b[39m\u001b[38;5;241m=\u001b[39m \u001b[38;5;241m1\u001b[39m\n\u001b[1;32m   1794\u001b[0m \u001b[38;5;28mself\u001b[39m\u001b[38;5;241m.\u001b[39mprint_progress()\n",
      "File \u001b[0;32m~/.pyenv/versions/3.10.6/envs/01-household-energy/lib/python3.10/site-packages/sklearn/utils/parallel.py:127\u001b[0m, in \u001b[0;36m_FuncWrapper.__call__\u001b[0;34m(self, *args, **kwargs)\u001b[0m\n\u001b[1;32m    125\u001b[0m     config \u001b[38;5;241m=\u001b[39m {}\n\u001b[1;32m    126\u001b[0m \u001b[38;5;28;01mwith\u001b[39;00m config_context(\u001b[38;5;241m*\u001b[39m\u001b[38;5;241m*\u001b[39mconfig):\n\u001b[0;32m--> 127\u001b[0m     \u001b[38;5;28;01mreturn\u001b[39;00m \u001b[38;5;28;43mself\u001b[39;49m\u001b[38;5;241;43m.\u001b[39;49m\u001b[43mfunction\u001b[49m\u001b[43m(\u001b[49m\u001b[38;5;241;43m*\u001b[39;49m\u001b[43margs\u001b[49m\u001b[43m,\u001b[49m\u001b[43m \u001b[49m\u001b[38;5;241;43m*\u001b[39;49m\u001b[38;5;241;43m*\u001b[39;49m\u001b[43mkwargs\u001b[49m\u001b[43m)\u001b[49m\n",
      "File \u001b[0;32m~/.pyenv/versions/3.10.6/envs/01-household-energy/lib/python3.10/site-packages/sklearn/pipeline.py:940\u001b[0m, in \u001b[0;36m_transform_one\u001b[0;34m(transformer, X, y, weight, **fit_params)\u001b[0m\n\u001b[1;32m    939\u001b[0m \u001b[38;5;28;01mdef\u001b[39;00m \u001b[38;5;21m_transform_one\u001b[39m(transformer, X, y, weight, \u001b[38;5;241m*\u001b[39m\u001b[38;5;241m*\u001b[39mfit_params):\n\u001b[0;32m--> 940\u001b[0m     res \u001b[38;5;241m=\u001b[39m \u001b[43mtransformer\u001b[49m\u001b[38;5;241;43m.\u001b[39;49m\u001b[43mtransform\u001b[49m\u001b[43m(\u001b[49m\u001b[43mX\u001b[49m\u001b[43m)\u001b[49m\n\u001b[1;32m    941\u001b[0m     \u001b[38;5;66;03m# if we have a weight for this transformer, multiply output\u001b[39;00m\n\u001b[1;32m    942\u001b[0m     \u001b[38;5;28;01mif\u001b[39;00m weight \u001b[38;5;129;01mis\u001b[39;00m \u001b[38;5;28;01mNone\u001b[39;00m:\n",
      "File \u001b[0;32m~/.pyenv/versions/3.10.6/envs/01-household-energy/lib/python3.10/site-packages/sklearn/utils/_set_output.py:157\u001b[0m, in \u001b[0;36m_wrap_method_output.<locals>.wrapped\u001b[0;34m(self, X, *args, **kwargs)\u001b[0m\n\u001b[1;32m    155\u001b[0m \u001b[38;5;129m@wraps\u001b[39m(f)\n\u001b[1;32m    156\u001b[0m \u001b[38;5;28;01mdef\u001b[39;00m \u001b[38;5;21mwrapped\u001b[39m(\u001b[38;5;28mself\u001b[39m, X, \u001b[38;5;241m*\u001b[39margs, \u001b[38;5;241m*\u001b[39m\u001b[38;5;241m*\u001b[39mkwargs):\n\u001b[0;32m--> 157\u001b[0m     data_to_wrap \u001b[38;5;241m=\u001b[39m \u001b[43mf\u001b[49m\u001b[43m(\u001b[49m\u001b[38;5;28;43mself\u001b[39;49m\u001b[43m,\u001b[49m\u001b[43m \u001b[49m\u001b[43mX\u001b[49m\u001b[43m,\u001b[49m\u001b[43m \u001b[49m\u001b[38;5;241;43m*\u001b[39;49m\u001b[43margs\u001b[49m\u001b[43m,\u001b[49m\u001b[43m \u001b[49m\u001b[38;5;241;43m*\u001b[39;49m\u001b[38;5;241;43m*\u001b[39;49m\u001b[43mkwargs\u001b[49m\u001b[43m)\u001b[49m\n\u001b[1;32m    158\u001b[0m     \u001b[38;5;28;01mif\u001b[39;00m \u001b[38;5;28misinstance\u001b[39m(data_to_wrap, \u001b[38;5;28mtuple\u001b[39m):\n\u001b[1;32m    159\u001b[0m         \u001b[38;5;66;03m# only wrap the first output for cross decomposition\u001b[39;00m\n\u001b[1;32m    160\u001b[0m         return_tuple \u001b[38;5;241m=\u001b[39m (\n\u001b[1;32m    161\u001b[0m             _wrap_data_with_container(method, data_to_wrap[\u001b[38;5;241m0\u001b[39m], X, \u001b[38;5;28mself\u001b[39m),\n\u001b[1;32m    162\u001b[0m             \u001b[38;5;241m*\u001b[39mdata_to_wrap[\u001b[38;5;241m1\u001b[39m:],\n\u001b[1;32m    163\u001b[0m         )\n",
      "File \u001b[0;32m~/.pyenv/versions/3.10.6/envs/01-household-energy/lib/python3.10/site-packages/sklearn/preprocessing/_encoders.py:1027\u001b[0m, in \u001b[0;36mOneHotEncoder.transform\u001b[0;34m(self, X)\u001b[0m\n\u001b[1;32m   1022\u001b[0m \u001b[38;5;66;03m# validation of X happens in _check_X called by _transform\u001b[39;00m\n\u001b[1;32m   1023\u001b[0m warn_on_unknown \u001b[38;5;241m=\u001b[39m \u001b[38;5;28mself\u001b[39m\u001b[38;5;241m.\u001b[39mdrop \u001b[38;5;129;01mis\u001b[39;00m \u001b[38;5;129;01mnot\u001b[39;00m \u001b[38;5;28;01mNone\u001b[39;00m \u001b[38;5;129;01mand\u001b[39;00m \u001b[38;5;28mself\u001b[39m\u001b[38;5;241m.\u001b[39mhandle_unknown \u001b[38;5;129;01min\u001b[39;00m {\n\u001b[1;32m   1024\u001b[0m     \u001b[38;5;124m\"\u001b[39m\u001b[38;5;124mignore\u001b[39m\u001b[38;5;124m\"\u001b[39m,\n\u001b[1;32m   1025\u001b[0m     \u001b[38;5;124m\"\u001b[39m\u001b[38;5;124minfrequent_if_exist\u001b[39m\u001b[38;5;124m\"\u001b[39m,\n\u001b[1;32m   1026\u001b[0m }\n\u001b[0;32m-> 1027\u001b[0m X_int, X_mask \u001b[38;5;241m=\u001b[39m \u001b[38;5;28;43mself\u001b[39;49m\u001b[38;5;241;43m.\u001b[39;49m\u001b[43m_transform\u001b[49m\u001b[43m(\u001b[49m\n\u001b[1;32m   1028\u001b[0m \u001b[43m    \u001b[49m\u001b[43mX\u001b[49m\u001b[43m,\u001b[49m\n\u001b[1;32m   1029\u001b[0m \u001b[43m    \u001b[49m\u001b[43mhandle_unknown\u001b[49m\u001b[38;5;241;43m=\u001b[39;49m\u001b[38;5;28;43mself\u001b[39;49m\u001b[38;5;241;43m.\u001b[39;49m\u001b[43mhandle_unknown\u001b[49m\u001b[43m,\u001b[49m\n\u001b[1;32m   1030\u001b[0m \u001b[43m    \u001b[49m\u001b[43mforce_all_finite\u001b[49m\u001b[38;5;241;43m=\u001b[39;49m\u001b[38;5;124;43m\"\u001b[39;49m\u001b[38;5;124;43mallow-nan\u001b[39;49m\u001b[38;5;124;43m\"\u001b[39;49m\u001b[43m,\u001b[49m\n\u001b[1;32m   1031\u001b[0m \u001b[43m    \u001b[49m\u001b[43mwarn_on_unknown\u001b[49m\u001b[38;5;241;43m=\u001b[39;49m\u001b[43mwarn_on_unknown\u001b[49m\u001b[43m,\u001b[49m\n\u001b[1;32m   1032\u001b[0m \u001b[43m\u001b[49m\u001b[43m)\u001b[49m\n\u001b[1;32m   1034\u001b[0m n_samples, n_features \u001b[38;5;241m=\u001b[39m X_int\u001b[38;5;241m.\u001b[39mshape\n\u001b[1;32m   1036\u001b[0m \u001b[38;5;28;01mif\u001b[39;00m \u001b[38;5;28mself\u001b[39m\u001b[38;5;241m.\u001b[39m_drop_idx_after_grouping \u001b[38;5;129;01mis\u001b[39;00m \u001b[38;5;129;01mnot\u001b[39;00m \u001b[38;5;28;01mNone\u001b[39;00m:\n",
      "File \u001b[0;32m~/.pyenv/versions/3.10.6/envs/01-household-energy/lib/python3.10/site-packages/sklearn/preprocessing/_encoders.py:192\u001b[0m, in \u001b[0;36m_BaseEncoder._transform\u001b[0;34m(self, X, handle_unknown, force_all_finite, warn_on_unknown, ignore_category_indices)\u001b[0m\n\u001b[1;32m    190\u001b[0m \u001b[38;5;28;01mfor\u001b[39;00m i \u001b[38;5;129;01min\u001b[39;00m \u001b[38;5;28mrange\u001b[39m(n_features):\n\u001b[1;32m    191\u001b[0m     Xi \u001b[38;5;241m=\u001b[39m X_list[i]\n\u001b[0;32m--> 192\u001b[0m     diff, valid_mask \u001b[38;5;241m=\u001b[39m \u001b[43m_check_unknown\u001b[49m\u001b[43m(\u001b[49m\u001b[43mXi\u001b[49m\u001b[43m,\u001b[49m\u001b[43m \u001b[49m\u001b[38;5;28;43mself\u001b[39;49m\u001b[38;5;241;43m.\u001b[39;49m\u001b[43mcategories_\u001b[49m\u001b[43m[\u001b[49m\u001b[43mi\u001b[49m\u001b[43m]\u001b[49m\u001b[43m,\u001b[49m\u001b[43m \u001b[49m\u001b[43mreturn_mask\u001b[49m\u001b[38;5;241;43m=\u001b[39;49m\u001b[38;5;28;43;01mTrue\u001b[39;49;00m\u001b[43m)\u001b[49m\n\u001b[1;32m    194\u001b[0m     \u001b[38;5;28;01mif\u001b[39;00m \u001b[38;5;129;01mnot\u001b[39;00m np\u001b[38;5;241m.\u001b[39mall(valid_mask):\n\u001b[1;32m    195\u001b[0m         \u001b[38;5;28;01mif\u001b[39;00m handle_unknown \u001b[38;5;241m==\u001b[39m \u001b[38;5;124m\"\u001b[39m\u001b[38;5;124merror\u001b[39m\u001b[38;5;124m\"\u001b[39m:\n",
      "File \u001b[0;32m~/.pyenv/versions/3.10.6/envs/01-household-energy/lib/python3.10/site-packages/sklearn/utils/_encode.py:304\u001b[0m, in \u001b[0;36m_check_unknown\u001b[0;34m(values, known_values, return_mask)\u001b[0m\n\u001b[1;32m    301\u001b[0m         valid_mask \u001b[38;5;241m=\u001b[39m np\u001b[38;5;241m.\u001b[39mones(\u001b[38;5;28mlen\u001b[39m(values), dtype\u001b[38;5;241m=\u001b[39m\u001b[38;5;28mbool\u001b[39m)\n\u001b[1;32m    303\u001b[0m \u001b[38;5;66;03m# check for nans in the known_values\u001b[39;00m\n\u001b[0;32m--> 304\u001b[0m \u001b[38;5;28;01mif\u001b[39;00m \u001b[43mnp\u001b[49m\u001b[38;5;241;43m.\u001b[39;49m\u001b[43misnan\u001b[49m\u001b[43m(\u001b[49m\u001b[43mknown_values\u001b[49m\u001b[43m)\u001b[49m\u001b[38;5;241m.\u001b[39many():\n\u001b[1;32m    305\u001b[0m     diff_is_nan \u001b[38;5;241m=\u001b[39m np\u001b[38;5;241m.\u001b[39misnan(diff)\n\u001b[1;32m    306\u001b[0m     \u001b[38;5;28;01mif\u001b[39;00m diff_is_nan\u001b[38;5;241m.\u001b[39many():\n\u001b[1;32m    307\u001b[0m         \u001b[38;5;66;03m# removes nan from valid_mask\u001b[39;00m\n",
      "\u001b[0;31mTypeError\u001b[0m: ufunc 'isnan' not supported for the input types, and the inputs could not be safely coerced to any supported types according to the casting rule ''safe''"
     ]
    }
   ],
   "source": [
    "pipe.predict(make_X_new(X_test.iloc[0,:]))"
   ]
  },
  {
   "cell_type": "markdown",
   "id": "c28d6ed5-7ba7-4f16-b99c-6e841101afeb",
   "metadata": {},
   "source": [
    "### Score - all features"
   ]
  },
  {
   "cell_type": "code",
   "execution_count": 111,
   "id": "7beb678c-b877-49b2-bcf9-ab320f342291",
   "metadata": {},
   "outputs": [],
   "source": [
    "import pandas as pd\n",
    "import numpy as np\n",
    "from sklearn.impute import SimpleImputer\n",
    "from sklearn.pipeline import Pipeline\n",
    "from sklearn.impute import SimpleImputer\n",
    "from sklearn.compose import ColumnTransformer\n",
    "from sklearn.preprocessing import OneHotEncoder\n",
    "\n",
    "def filter_data(df,min_perc=0.005, max_perc=0.995):\n",
    "    df = df.copy()\n",
    "\n",
    "    #Get rid of outliers#\n",
    "    percentile_min = df['KWH'].quantile(min_perc)\n",
    "    percentile_max = df['KWH'].quantile(max_perc)\n",
    "\n",
    "    # Filter the DataFrame based on the specified percentiles\n",
    "    df = df[(df['KWH'] >= percentile_min) & (df['KWH'] <= percentile_max)]\n",
    "    return df\n",
    "\n",
    "\n",
    "def clean_data(df,min_perc=0.005, max_perc=0.995):\n",
    "    \"\"\"This set cleans the data to have it in the correct format before preprocessing\"\"\"\n",
    "\n",
    "    #Maping features\n",
    "    TYPEHUQ_map = {1: \"Mobile\", 2: \"Single_detached\",3: \"Single_attached\",\n",
    "                   4: \"Appartment_small\" ,5: \"Appartment_big\"}\n",
    "    YEARMADERANGE_map = {1: \"Before_50\", 2:\"50-59\", 3:\"60-69\",\n",
    "                         4: \"70-79\", 5: \"80-89\", 6:\"90-99\", 7:\"00-09\",\n",
    "                         8:\"2010-15\", 9:\"2016-20\" }\n",
    "    WALLTYPE_map = {1:\"Brick\",2:\"Wood\",3:\"Siding\",4:\"Stucco\",5:\"Shingle\",\n",
    "                    6:\"Stone\",7:\"Concrete\",99:\"Other\"}\n",
    "    ROOFTYPE_map = {1 : \"Ceramic\", 2 : \"Wood\", 3 : \"Metal\", 4: \"Slate\",\n",
    "                    5: \"Shingle\", 6: \"Concrete\", 99: \"Other\", -2:\"Other\"}\n",
    "    EQUIPM_map = {3:\"Furnace\", 2: \"Steam\", 4: \"Central_heat\", 13: \"Ductless_heat\",\n",
    "                5: \"Electric_units\", 7: \"Room_heater\", 8 : \"Wood\",\n",
    "                10:\"Electric_heater\", 99:\"Other\", -2:\"Other\"}\n",
    "\n",
    "    dics_transform = [TYPEHUQ_map, YEARMADERANGE_map, WALLTYPE_map, ROOFTYPE_map, EQUIPM_map]\n",
    "    columns_to_transform = [\"TYPEHUQ\", \"YEARMADERANGE\", \"WALLTYPE\", \"ROOFTYPE\", \"EQUIPM\"]\n",
    "\n",
    "    for x , y in zip(dics_transform,columns_to_transform):\n",
    "        df[y] = df[y].map(x)\n",
    "\n",
    "    #Combine new features\n",
    "    df[\"TOTAL_BATH\"] = df[\"NCOMBATH\"] + df[\"NHAFBATH\"]\n",
    "    df.drop( [\"NCOMBATH\", \"NHAFBATH\"] ,axis=1, inplace = True)\n",
    "\n",
    "    df[\"TOTAL_COMP\"] = df[\"DESKTOP\"] + df[\"NUMLAPTOP\"]\n",
    "    df.drop( [\"DESKTOP\", \"NUMLAPTOP\"] ,axis=1, inplace = True)\n",
    "\n",
    "    df[\"TOTAL_LIGHT\"] = df[\"LGTIN1TO4\"] + df[\"LGTIN4TO8\"] + df[\"LGTINMORE8\"]\n",
    "    df.drop( [\"LGTIN1TO4\", \"LGTIN4TO8\", \"LGTINMORE8\"] ,axis=1, inplace = True)\n",
    "\n",
    "    df[\"STORIES\"] = df[\"STORIES\"].replace(-2,1)\n",
    "    df[\"STORIES\"] = df[\"STORIES\"].replace(5,2)\n",
    "\n",
    "    #Impute features\n",
    "    features_imputer2 = ['SWIMPOOL', 'NUMPORTEL', 'SOLAR']\n",
    "    features_imputer4 = ['SMARTMETER']\n",
    "    #to_ohe_encode = ['REGIONC', 'state_name','BA_climate','TYPEHUQ','YEARMADERANGE','WALLTYPE','ROOFTYPE','WINDOWS','EQUIPM']\n",
    "\n",
    "    imputer_2 = SimpleImputer(strategy='constant', missing_values=-2, fill_value=0)\n",
    "    imputer_4 = SimpleImputer(strategy='constant', missing_values=-4, fill_value=0)\n",
    "    #ohe = OneHotEncoder(sparse_output=False, handle_unknown='ignore')\n",
    "\n",
    "    preprocessor = ColumnTransformer(transformers=[('imputer_2',imputer_2, features_imputer2),\n",
    "                                                ('imputer_4',imputer_4, features_imputer4)],\n",
    "                                                #('ohe', ohe, to_ohe_encode)],\n",
    "                                                    remainder = \"passthrough\")\n",
    "\n",
    "    preprocessor.fit(df)\n",
    "\n",
    "    cols = [x.split(\"__\")[1] for x in preprocessor.get_feature_names_out()]\n",
    "\n",
    "    df_clean = pd.DataFrame(preprocessor.transform(df),\n",
    "                       columns = cols)\n",
    "\n",
    "    return df_clean\n",
    "\n",
    "from sklearn.preprocessing import OneHotEncoder\n",
    "from sklearn.compose import ColumnTransformer\n",
    "from sklearn.preprocessing import MinMaxScaler\n",
    "\n",
    "\n",
    "to_ohe_encode = ['REGIONC', 'state_name','BA_climate','TYPEHUQ',\n",
    "                     'YEARMADERANGE','WALLTYPE','ROOFTYPE','WINDOWS','EQUIPM']\n",
    "to_scale = [\"NUMPORTEL\", \"STORIES\",\"SQFTEST\",\n",
    "            \"TOTROOMS\", \"NUMFRIG\", \"MICRO\", \"TVCOLOR\",\"NHSLDMEM\",\n",
    "            \"TOTAL_BATH\", \"TOTAL_COMP\", \"TOTAL_LIGHT\" ]\n",
    "\n",
    "min_max = MinMaxScaler()\n",
    "ohe = OneHotEncoder(sparse_output=False, handle_unknown='ignore')\n",
    "\n",
    "\n",
    "preprocessor = ColumnTransformer(transformers=[\n",
    "                                            ('min_max', min_max, to_scale),\n",
    "                                            ('ohe', ohe, to_ohe_encode)],\n",
    "                                            remainder = \"passthrough\")\n",
    "\n",
    "model = LinearRegression()\n",
    "\n",
    "pipe_2 = Pipeline([('prep', preprocessor), ('model', model)])"
   ]
  },
  {
   "cell_type": "code",
   "execution_count": 112,
   "id": "23e93a92-61f8-44d9-bb59-7f58576906a5",
   "metadata": {},
   "outputs": [],
   "source": [
    "df = call_data_url()"
   ]
  },
  {
   "cell_type": "code",
   "execution_count": 113,
   "id": "340b7e31-41ef-443e-b09a-cca705397af7",
   "metadata": {},
   "outputs": [],
   "source": [
    "df = clean_data(df)"
   ]
  },
  {
   "cell_type": "code",
   "execution_count": 114,
   "id": "c82bf801-e0c5-4f12-92de-015b157408f1",
   "metadata": {},
   "outputs": [
    {
     "data": {
      "text/plain": [
       "Index(['SWIMPOOL', 'NUMPORTEL', 'SOLAR', 'SMARTMETER', 'REGIONC', 'state_name',\n",
       "       'BA_climate', 'TYPEHUQ', 'STORIES', 'YEARMADERANGE', 'TOTROOMS',\n",
       "       'WALLTYPE', 'ROOFTYPE', 'WINDOWS', 'NUMFRIG', 'MICRO', 'DISHWASH',\n",
       "       'CWASHER', 'DRYER', 'TVCOLOR', 'TELLWORK', 'HEATHOME', 'EQUIPM',\n",
       "       'AIRCOND', 'NHSLDMEM', 'SQFTEST', 'KWH', 'TOTAL_BATH', 'TOTAL_COMP',\n",
       "       'TOTAL_LIGHT'],\n",
       "      dtype='object')"
      ]
     },
     "execution_count": 114,
     "metadata": {},
     "output_type": "execute_result"
    }
   ],
   "source": [
    "df.columns"
   ]
  },
  {
   "cell_type": "code",
   "execution_count": 115,
   "id": "a6dc6665-f3b6-468b-8256-3a61272f1e27",
   "metadata": {},
   "outputs": [],
   "source": [
    "X , y = get_xy(df)\n",
    "X_train, X_test, y_train, y_test =  train_test_split(X,y, test_size=0.3)\n",
    "\n",
    "y_train_p = np.log(y_train.astype(\"float\"))\n",
    "y_test_p = np.log(y_test.astype(\"float\"))"
   ]
  },
  {
   "cell_type": "code",
   "execution_count": 116,
   "id": "bcfdea53-3a2e-423d-8059-31673bfd001c",
   "metadata": {},
   "outputs": [
    {
     "data": {
      "text/plain": [
       "0.48715139693386833"
      ]
     },
     "execution_count": 116,
     "metadata": {},
     "output_type": "execute_result"
    }
   ],
   "source": [
    "cross_validate(pipe_2, X_train, y_train, cv =5)[\"test_score\"].mean()"
   ]
  },
  {
   "cell_type": "code",
   "execution_count": 117,
   "id": "446dc7a8-5e58-4501-a7a7-95f88b119bd5",
   "metadata": {},
   "outputs": [
    {
     "data": {
      "text/plain": [
       "0.5400254484470768"
      ]
     },
     "execution_count": 117,
     "metadata": {},
     "output_type": "execute_result"
    }
   ],
   "source": [
    "cross_validate(pipe_2, X_train, y_train_p, cv =5)[\"test_score\"].mean()"
   ]
  },
  {
   "cell_type": "code",
   "execution_count": 118,
   "id": "ba78d4e9-e1f6-4b8e-821e-6fcf1328a9c9",
   "metadata": {
    "scrolled": true
   },
   "outputs": [
    {
     "data": {
      "text/html": [
       "<style>#sk-container-id-5 {color: black;}#sk-container-id-5 pre{padding: 0;}#sk-container-id-5 div.sk-toggleable {background-color: white;}#sk-container-id-5 label.sk-toggleable__label {cursor: pointer;display: block;width: 100%;margin-bottom: 0;padding: 0.3em;box-sizing: border-box;text-align: center;}#sk-container-id-5 label.sk-toggleable__label-arrow:before {content: \"▸\";float: left;margin-right: 0.25em;color: #696969;}#sk-container-id-5 label.sk-toggleable__label-arrow:hover:before {color: black;}#sk-container-id-5 div.sk-estimator:hover label.sk-toggleable__label-arrow:before {color: black;}#sk-container-id-5 div.sk-toggleable__content {max-height: 0;max-width: 0;overflow: hidden;text-align: left;background-color: #f0f8ff;}#sk-container-id-5 div.sk-toggleable__content pre {margin: 0.2em;color: black;border-radius: 0.25em;background-color: #f0f8ff;}#sk-container-id-5 input.sk-toggleable__control:checked~div.sk-toggleable__content {max-height: 200px;max-width: 100%;overflow: auto;}#sk-container-id-5 input.sk-toggleable__control:checked~label.sk-toggleable__label-arrow:before {content: \"▾\";}#sk-container-id-5 div.sk-estimator input.sk-toggleable__control:checked~label.sk-toggleable__label {background-color: #d4ebff;}#sk-container-id-5 div.sk-label input.sk-toggleable__control:checked~label.sk-toggleable__label {background-color: #d4ebff;}#sk-container-id-5 input.sk-hidden--visually {border: 0;clip: rect(1px 1px 1px 1px);clip: rect(1px, 1px, 1px, 1px);height: 1px;margin: -1px;overflow: hidden;padding: 0;position: absolute;width: 1px;}#sk-container-id-5 div.sk-estimator {font-family: monospace;background-color: #f0f8ff;border: 1px dotted black;border-radius: 0.25em;box-sizing: border-box;margin-bottom: 0.5em;}#sk-container-id-5 div.sk-estimator:hover {background-color: #d4ebff;}#sk-container-id-5 div.sk-parallel-item::after {content: \"\";width: 100%;border-bottom: 1px solid gray;flex-grow: 1;}#sk-container-id-5 div.sk-label:hover label.sk-toggleable__label {background-color: #d4ebff;}#sk-container-id-5 div.sk-serial::before {content: \"\";position: absolute;border-left: 1px solid gray;box-sizing: border-box;top: 0;bottom: 0;left: 50%;z-index: 0;}#sk-container-id-5 div.sk-serial {display: flex;flex-direction: column;align-items: center;background-color: white;padding-right: 0.2em;padding-left: 0.2em;position: relative;}#sk-container-id-5 div.sk-item {position: relative;z-index: 1;}#sk-container-id-5 div.sk-parallel {display: flex;align-items: stretch;justify-content: center;background-color: white;position: relative;}#sk-container-id-5 div.sk-item::before, #sk-container-id-5 div.sk-parallel-item::before {content: \"\";position: absolute;border-left: 1px solid gray;box-sizing: border-box;top: 0;bottom: 0;left: 50%;z-index: -1;}#sk-container-id-5 div.sk-parallel-item {display: flex;flex-direction: column;z-index: 1;position: relative;background-color: white;}#sk-container-id-5 div.sk-parallel-item:first-child::after {align-self: flex-end;width: 50%;}#sk-container-id-5 div.sk-parallel-item:last-child::after {align-self: flex-start;width: 50%;}#sk-container-id-5 div.sk-parallel-item:only-child::after {width: 0;}#sk-container-id-5 div.sk-dashed-wrapped {border: 1px dashed gray;margin: 0 0.4em 0.5em 0.4em;box-sizing: border-box;padding-bottom: 0.4em;background-color: white;}#sk-container-id-5 div.sk-label label {font-family: monospace;font-weight: bold;display: inline-block;line-height: 1.2em;}#sk-container-id-5 div.sk-label-container {text-align: center;}#sk-container-id-5 div.sk-container {/* jupyter's `normalize.less` sets `[hidden] { display: none; }` but bootstrap.min.css set `[hidden] { display: none !important; }` so we also need the `!important` here to be able to override the default hidden behavior on the sphinx rendered scikit-learn.org. See: https://github.com/scikit-learn/scikit-learn/issues/21755 */display: inline-block !important;position: relative;}#sk-container-id-5 div.sk-text-repr-fallback {display: none;}</style><div id=\"sk-container-id-5\" class=\"sk-top-container\"><div class=\"sk-text-repr-fallback\"><pre>Pipeline(steps=[(&#x27;prep&#x27;,\n",
       "                 ColumnTransformer(remainder=&#x27;passthrough&#x27;,\n",
       "                                   transformers=[(&#x27;min_max&#x27;, MinMaxScaler(),\n",
       "                                                  [&#x27;NUMPORTEL&#x27;, &#x27;STORIES&#x27;,\n",
       "                                                   &#x27;SQFTEST&#x27;, &#x27;TOTROOMS&#x27;,\n",
       "                                                   &#x27;NUMFRIG&#x27;, &#x27;MICRO&#x27;,\n",
       "                                                   &#x27;TVCOLOR&#x27;, &#x27;NHSLDMEM&#x27;,\n",
       "                                                   &#x27;TOTAL_BATH&#x27;, &#x27;TOTAL_COMP&#x27;,\n",
       "                                                   &#x27;TOTAL_LIGHT&#x27;]),\n",
       "                                                 (&#x27;ohe&#x27;,\n",
       "                                                  OneHotEncoder(handle_unknown=&#x27;ignore&#x27;,\n",
       "                                                                sparse_output=False),\n",
       "                                                  [&#x27;REGIONC&#x27;, &#x27;state_name&#x27;,\n",
       "                                                   &#x27;BA_climate&#x27;, &#x27;TYPEHUQ&#x27;,\n",
       "                                                   &#x27;YEARMADERANGE&#x27;, &#x27;WALLTYPE&#x27;,\n",
       "                                                   &#x27;ROOFTYPE&#x27;, &#x27;WINDOWS&#x27;,\n",
       "                                                   &#x27;EQUIPM&#x27;])])),\n",
       "                (&#x27;model&#x27;, LinearRegression())])</pre><b>In a Jupyter environment, please rerun this cell to show the HTML representation or trust the notebook. <br />On GitHub, the HTML representation is unable to render, please try loading this page with nbviewer.org.</b></div><div class=\"sk-container\" hidden><div class=\"sk-item sk-dashed-wrapped\"><div class=\"sk-label-container\"><div class=\"sk-label sk-toggleable\"><input class=\"sk-toggleable__control sk-hidden--visually\" id=\"sk-estimator-id-37\" type=\"checkbox\" ><label for=\"sk-estimator-id-37\" class=\"sk-toggleable__label sk-toggleable__label-arrow\">Pipeline</label><div class=\"sk-toggleable__content\"><pre>Pipeline(steps=[(&#x27;prep&#x27;,\n",
       "                 ColumnTransformer(remainder=&#x27;passthrough&#x27;,\n",
       "                                   transformers=[(&#x27;min_max&#x27;, MinMaxScaler(),\n",
       "                                                  [&#x27;NUMPORTEL&#x27;, &#x27;STORIES&#x27;,\n",
       "                                                   &#x27;SQFTEST&#x27;, &#x27;TOTROOMS&#x27;,\n",
       "                                                   &#x27;NUMFRIG&#x27;, &#x27;MICRO&#x27;,\n",
       "                                                   &#x27;TVCOLOR&#x27;, &#x27;NHSLDMEM&#x27;,\n",
       "                                                   &#x27;TOTAL_BATH&#x27;, &#x27;TOTAL_COMP&#x27;,\n",
       "                                                   &#x27;TOTAL_LIGHT&#x27;]),\n",
       "                                                 (&#x27;ohe&#x27;,\n",
       "                                                  OneHotEncoder(handle_unknown=&#x27;ignore&#x27;,\n",
       "                                                                sparse_output=False),\n",
       "                                                  [&#x27;REGIONC&#x27;, &#x27;state_name&#x27;,\n",
       "                                                   &#x27;BA_climate&#x27;, &#x27;TYPEHUQ&#x27;,\n",
       "                                                   &#x27;YEARMADERANGE&#x27;, &#x27;WALLTYPE&#x27;,\n",
       "                                                   &#x27;ROOFTYPE&#x27;, &#x27;WINDOWS&#x27;,\n",
       "                                                   &#x27;EQUIPM&#x27;])])),\n",
       "                (&#x27;model&#x27;, LinearRegression())])</pre></div></div></div><div class=\"sk-serial\"><div class=\"sk-item sk-dashed-wrapped\"><div class=\"sk-label-container\"><div class=\"sk-label sk-toggleable\"><input class=\"sk-toggleable__control sk-hidden--visually\" id=\"sk-estimator-id-38\" type=\"checkbox\" ><label for=\"sk-estimator-id-38\" class=\"sk-toggleable__label sk-toggleable__label-arrow\">prep: ColumnTransformer</label><div class=\"sk-toggleable__content\"><pre>ColumnTransformer(remainder=&#x27;passthrough&#x27;,\n",
       "                  transformers=[(&#x27;min_max&#x27;, MinMaxScaler(),\n",
       "                                 [&#x27;NUMPORTEL&#x27;, &#x27;STORIES&#x27;, &#x27;SQFTEST&#x27;, &#x27;TOTROOMS&#x27;,\n",
       "                                  &#x27;NUMFRIG&#x27;, &#x27;MICRO&#x27;, &#x27;TVCOLOR&#x27;, &#x27;NHSLDMEM&#x27;,\n",
       "                                  &#x27;TOTAL_BATH&#x27;, &#x27;TOTAL_COMP&#x27;, &#x27;TOTAL_LIGHT&#x27;]),\n",
       "                                (&#x27;ohe&#x27;,\n",
       "                                 OneHotEncoder(handle_unknown=&#x27;ignore&#x27;,\n",
       "                                               sparse_output=False),\n",
       "                                 [&#x27;REGIONC&#x27;, &#x27;state_name&#x27;, &#x27;BA_climate&#x27;,\n",
       "                                  &#x27;TYPEHUQ&#x27;, &#x27;YEARMADERANGE&#x27;, &#x27;WALLTYPE&#x27;,\n",
       "                                  &#x27;ROOFTYPE&#x27;, &#x27;WINDOWS&#x27;, &#x27;EQUIPM&#x27;])])</pre></div></div></div><div class=\"sk-parallel\"><div class=\"sk-parallel-item\"><div class=\"sk-item\"><div class=\"sk-label-container\"><div class=\"sk-label sk-toggleable\"><input class=\"sk-toggleable__control sk-hidden--visually\" id=\"sk-estimator-id-39\" type=\"checkbox\" ><label for=\"sk-estimator-id-39\" class=\"sk-toggleable__label sk-toggleable__label-arrow\">min_max</label><div class=\"sk-toggleable__content\"><pre>[&#x27;NUMPORTEL&#x27;, &#x27;STORIES&#x27;, &#x27;SQFTEST&#x27;, &#x27;TOTROOMS&#x27;, &#x27;NUMFRIG&#x27;, &#x27;MICRO&#x27;, &#x27;TVCOLOR&#x27;, &#x27;NHSLDMEM&#x27;, &#x27;TOTAL_BATH&#x27;, &#x27;TOTAL_COMP&#x27;, &#x27;TOTAL_LIGHT&#x27;]</pre></div></div></div><div class=\"sk-serial\"><div class=\"sk-item\"><div class=\"sk-estimator sk-toggleable\"><input class=\"sk-toggleable__control sk-hidden--visually\" id=\"sk-estimator-id-40\" type=\"checkbox\" ><label for=\"sk-estimator-id-40\" class=\"sk-toggleable__label sk-toggleable__label-arrow\">MinMaxScaler</label><div class=\"sk-toggleable__content\"><pre>MinMaxScaler()</pre></div></div></div></div></div></div><div class=\"sk-parallel-item\"><div class=\"sk-item\"><div class=\"sk-label-container\"><div class=\"sk-label sk-toggleable\"><input class=\"sk-toggleable__control sk-hidden--visually\" id=\"sk-estimator-id-41\" type=\"checkbox\" ><label for=\"sk-estimator-id-41\" class=\"sk-toggleable__label sk-toggleable__label-arrow\">ohe</label><div class=\"sk-toggleable__content\"><pre>[&#x27;REGIONC&#x27;, &#x27;state_name&#x27;, &#x27;BA_climate&#x27;, &#x27;TYPEHUQ&#x27;, &#x27;YEARMADERANGE&#x27;, &#x27;WALLTYPE&#x27;, &#x27;ROOFTYPE&#x27;, &#x27;WINDOWS&#x27;, &#x27;EQUIPM&#x27;]</pre></div></div></div><div class=\"sk-serial\"><div class=\"sk-item\"><div class=\"sk-estimator sk-toggleable\"><input class=\"sk-toggleable__control sk-hidden--visually\" id=\"sk-estimator-id-42\" type=\"checkbox\" ><label for=\"sk-estimator-id-42\" class=\"sk-toggleable__label sk-toggleable__label-arrow\">OneHotEncoder</label><div class=\"sk-toggleable__content\"><pre>OneHotEncoder(handle_unknown=&#x27;ignore&#x27;, sparse_output=False)</pre></div></div></div></div></div></div><div class=\"sk-parallel-item\"><div class=\"sk-item\"><div class=\"sk-label-container\"><div class=\"sk-label sk-toggleable\"><input class=\"sk-toggleable__control sk-hidden--visually\" id=\"sk-estimator-id-43\" type=\"checkbox\" ><label for=\"sk-estimator-id-43\" class=\"sk-toggleable__label sk-toggleable__label-arrow\">remainder</label><div class=\"sk-toggleable__content\"><pre>[&#x27;SWIMPOOL&#x27;, &#x27;SOLAR&#x27;, &#x27;SMARTMETER&#x27;, &#x27;DISHWASH&#x27;, &#x27;CWASHER&#x27;, &#x27;DRYER&#x27;, &#x27;TELLWORK&#x27;, &#x27;HEATHOME&#x27;, &#x27;AIRCOND&#x27;]</pre></div></div></div><div class=\"sk-serial\"><div class=\"sk-item\"><div class=\"sk-estimator sk-toggleable\"><input class=\"sk-toggleable__control sk-hidden--visually\" id=\"sk-estimator-id-44\" type=\"checkbox\" ><label for=\"sk-estimator-id-44\" class=\"sk-toggleable__label sk-toggleable__label-arrow\">passthrough</label><div class=\"sk-toggleable__content\"><pre>passthrough</pre></div></div></div></div></div></div></div></div><div class=\"sk-item\"><div class=\"sk-estimator sk-toggleable\"><input class=\"sk-toggleable__control sk-hidden--visually\" id=\"sk-estimator-id-45\" type=\"checkbox\" ><label for=\"sk-estimator-id-45\" class=\"sk-toggleable__label sk-toggleable__label-arrow\">LinearRegression</label><div class=\"sk-toggleable__content\"><pre>LinearRegression()</pre></div></div></div></div></div></div></div>"
      ],
      "text/plain": [
       "Pipeline(steps=[('prep',\n",
       "                 ColumnTransformer(remainder='passthrough',\n",
       "                                   transformers=[('min_max', MinMaxScaler(),\n",
       "                                                  ['NUMPORTEL', 'STORIES',\n",
       "                                                   'SQFTEST', 'TOTROOMS',\n",
       "                                                   'NUMFRIG', 'MICRO',\n",
       "                                                   'TVCOLOR', 'NHSLDMEM',\n",
       "                                                   'TOTAL_BATH', 'TOTAL_COMP',\n",
       "                                                   'TOTAL_LIGHT']),\n",
       "                                                 ('ohe',\n",
       "                                                  OneHotEncoder(handle_unknown='ignore',\n",
       "                                                                sparse_output=False),\n",
       "                                                  ['REGIONC', 'state_name',\n",
       "                                                   'BA_climate', 'TYPEHUQ',\n",
       "                                                   'YEARMADERANGE', 'WALLTYPE',\n",
       "                                                   'ROOFTYPE', 'WINDOWS',\n",
       "                                                   'EQUIPM'])])),\n",
       "                ('model', LinearRegression())])"
      ]
     },
     "execution_count": 118,
     "metadata": {},
     "output_type": "execute_result"
    }
   ],
   "source": [
    "pipe_2.fit(X_train, y_train_p)"
   ]
  },
  {
   "cell_type": "code",
   "execution_count": 119,
   "id": "dfc19de3-de34-46f5-93aa-12b92ae753f5",
   "metadata": {},
   "outputs": [
    {
     "data": {
      "text/plain": [
       "0.5259557463577558"
      ]
     },
     "execution_count": 119,
     "metadata": {},
     "output_type": "execute_result"
    }
   ],
   "source": [
    "pipe_2.score(X_test, y_test_p)"
   ]
  },
  {
   "cell_type": "markdown",
   "id": "0e0bb639-b9ac-489c-91de-7a9c9a1ccc27",
   "metadata": {},
   "source": [
    "### Random Regressor"
   ]
  },
  {
   "cell_type": "code",
   "execution_count": 2,
   "id": "a96342ad-b9a3-4ebb-a72a-ae457b6e9e43",
   "metadata": {},
   "outputs": [],
   "source": [
    "df = call_data_url()"
   ]
  },
  {
   "cell_type": "code",
   "execution_count": 3,
   "id": "b8ecc423-a274-4541-8363-4abd8eff9000",
   "metadata": {},
   "outputs": [],
   "source": [
    "df = filter_data(df)\n",
    "df = clean_data(df)"
   ]
  },
  {
   "cell_type": "code",
   "execution_count": 6,
   "id": "ab1d3413-73c3-457d-9b82-19c774bdd0d3",
   "metadata": {},
   "outputs": [
    {
     "data": {
      "text/plain": [
       "Index(['SWIMPOOL', 'NUMPORTEL', 'SOLAR', 'SMARTMETER', 'REGIONC', 'state_name',\n",
       "       'BA_climate', 'TYPEHUQ', 'STORIES', 'YEARMADERANGE', 'TOTROOMS',\n",
       "       'WALLTYPE', 'ROOFTYPE', 'WINDOWS', 'NUMFRIG', 'MICRO', 'DISHWASH',\n",
       "       'CWASHER', 'DRYER', 'TVCOLOR', 'TELLWORK', 'HEATHOME', 'EQUIPM',\n",
       "       'AIRCOND', 'NHSLDMEM', 'SQFTEST', 'KWH', 'TOTAL_BATH', 'TOTAL_COMP',\n",
       "       'TOTAL_LIGHT'],\n",
       "      dtype='object')"
      ]
     },
     "execution_count": 6,
     "metadata": {},
     "output_type": "execute_result"
    }
   ],
   "source": [
    "df.columns"
   ]
  },
  {
   "cell_type": "code",
   "execution_count": 7,
   "id": "f4d2b7e4-40db-4b0c-a404-bca9fdc061da",
   "metadata": {},
   "outputs": [
    {
     "data": {
      "text/plain": [
       "240"
      ]
     },
     "execution_count": 7,
     "metadata": {},
     "output_type": "execute_result"
    }
   ],
   "source": [
    "df[\"SQFTEST\"].min()"
   ]
  },
  {
   "cell_type": "code",
   "execution_count": 317,
   "id": "644fc6b7-693d-4afe-9e31-11f89a0158ae",
   "metadata": {},
   "outputs": [],
   "source": [
    "X , y = get_xy(df)\n",
    "X_train , X_test, y_train , y_test = train_test_split(X, y , test_size=0.3)"
   ]
  },
  {
   "cell_type": "code",
   "execution_count": 43,
   "id": "286512f5-ad3e-44c0-9e71-dfe45ba9ec9a",
   "metadata": {},
   "outputs": [
    {
     "data": {
      "text/html": [
       "<div>\n",
       "<style scoped>\n",
       "    .dataframe tbody tr th:only-of-type {\n",
       "        vertical-align: middle;\n",
       "    }\n",
       "\n",
       "    .dataframe tbody tr th {\n",
       "        vertical-align: top;\n",
       "    }\n",
       "\n",
       "    .dataframe thead th {\n",
       "        text-align: right;\n",
       "    }\n",
       "</style>\n",
       "<table border=\"1\" class=\"dataframe\">\n",
       "  <thead>\n",
       "    <tr style=\"text-align: right;\">\n",
       "      <th></th>\n",
       "      <th>SWIMPOOL</th>\n",
       "      <th>NUMPORTEL</th>\n",
       "      <th>SOLAR</th>\n",
       "      <th>SMARTMETER</th>\n",
       "      <th>REGIONC</th>\n",
       "      <th>state_name</th>\n",
       "      <th>BA_climate</th>\n",
       "      <th>TYPEHUQ</th>\n",
       "      <th>STORIES</th>\n",
       "      <th>YEARMADERANGE</th>\n",
       "      <th>...</th>\n",
       "      <th>TVCOLOR</th>\n",
       "      <th>TELLWORK</th>\n",
       "      <th>HEATHOME</th>\n",
       "      <th>EQUIPM</th>\n",
       "      <th>AIRCOND</th>\n",
       "      <th>NHSLDMEM</th>\n",
       "      <th>SQFTEST</th>\n",
       "      <th>TOTAL_BATH</th>\n",
       "      <th>TOTAL_COMP</th>\n",
       "      <th>TOTAL_LIGHT</th>\n",
       "    </tr>\n",
       "  </thead>\n",
       "  <tbody>\n",
       "    <tr>\n",
       "      <th>0</th>\n",
       "      <td>0</td>\n",
       "      <td>0</td>\n",
       "      <td>0</td>\n",
       "      <td>0</td>\n",
       "      <td>WEST</td>\n",
       "      <td>New Mexico</td>\n",
       "      <td>Mixed-Dry</td>\n",
       "      <td>Single_detached</td>\n",
       "      <td>1</td>\n",
       "      <td>70-79</td>\n",
       "      <td>...</td>\n",
       "      <td>3</td>\n",
       "      <td>0</td>\n",
       "      <td>1</td>\n",
       "      <td>Furnace</td>\n",
       "      <td>1</td>\n",
       "      <td>2</td>\n",
       "      <td>2100</td>\n",
       "      <td>3</td>\n",
       "      <td>1</td>\n",
       "      <td>17</td>\n",
       "    </tr>\n",
       "  </tbody>\n",
       "</table>\n",
       "<p>1 rows × 29 columns</p>\n",
       "</div>"
      ],
      "text/plain": [
       "  SWIMPOOL NUMPORTEL SOLAR SMARTMETER REGIONC  state_name BA_climate  \\\n",
       "0        0         0     0          0    WEST  New Mexico  Mixed-Dry   \n",
       "\n",
       "           TYPEHUQ STORIES YEARMADERANGE  ... TVCOLOR TELLWORK HEATHOME  \\\n",
       "0  Single_detached       1         70-79  ...       3        0        1   \n",
       "\n",
       "    EQUIPM AIRCOND NHSLDMEM SQFTEST TOTAL_BATH TOTAL_COMP TOTAL_LIGHT  \n",
       "0  Furnace       1        2    2100          3          1          17  \n",
       "\n",
       "[1 rows x 29 columns]"
      ]
     },
     "execution_count": 43,
     "metadata": {},
     "output_type": "execute_result"
    }
   ],
   "source": [
    "#Needed for X predict\n",
    "pd.DataFrame(X.iloc[0,:]).T"
   ]
  },
  {
   "cell_type": "code",
   "execution_count": 318,
   "id": "c3598cd5-ed76-4a32-a611-bbaa9c5992b3",
   "metadata": {},
   "outputs": [],
   "source": [
    "from sklearn.ensemble import RandomForestRegressor\n",
    "\n",
    "to_ohe_encode = ['REGIONC', 'state_name','BA_climate','TYPEHUQ',\n",
    "                     'YEARMADERANGE','WALLTYPE','ROOFTYPE','WINDOWS','EQUIPM']\n",
    "\n",
    "to_scale = [\"NUMPORTEL\", \"STORIES\",\"SQFTEST\",\n",
    "            \"TOTROOMS\", \"NUMFRIG\", \"MICRO\", \"TVCOLOR\",\"NHSLDMEM\",\n",
    "            \"TOTAL_BATH\", \"TOTAL_COMP\", \"TOTAL_LIGHT\" ]\n",
    "\n",
    "min_max = MinMaxScaler()\n",
    "ohe = OneHotEncoder(sparse_output=False, handle_unknown='ignore')\n",
    "\n",
    "\n",
    "preprocessor = ColumnTransformer(transformers=[\n",
    "                                            ('min_max', min_max, to_scale),\n",
    "                                            ('ohe', ohe, to_ohe_encode)],\n",
    "                                            remainder = \"passthrough\")\n",
    "\n",
    "model = RandomForestRegressor()\n",
    "\n",
    "pipe_2 = Pipeline([('prep', preprocessor), ('model', model)])"
   ]
  },
  {
   "cell_type": "code",
   "execution_count": 13,
   "id": "51a74e80-76f3-4830-9b71-06ecdfc2be3c",
   "metadata": {},
   "outputs": [
    {
     "data": {
      "text/html": [
       "<style>#sk-container-id-1 {color: black;}#sk-container-id-1 pre{padding: 0;}#sk-container-id-1 div.sk-toggleable {background-color: white;}#sk-container-id-1 label.sk-toggleable__label {cursor: pointer;display: block;width: 100%;margin-bottom: 0;padding: 0.3em;box-sizing: border-box;text-align: center;}#sk-container-id-1 label.sk-toggleable__label-arrow:before {content: \"▸\";float: left;margin-right: 0.25em;color: #696969;}#sk-container-id-1 label.sk-toggleable__label-arrow:hover:before {color: black;}#sk-container-id-1 div.sk-estimator:hover label.sk-toggleable__label-arrow:before {color: black;}#sk-container-id-1 div.sk-toggleable__content {max-height: 0;max-width: 0;overflow: hidden;text-align: left;background-color: #f0f8ff;}#sk-container-id-1 div.sk-toggleable__content pre {margin: 0.2em;color: black;border-radius: 0.25em;background-color: #f0f8ff;}#sk-container-id-1 input.sk-toggleable__control:checked~div.sk-toggleable__content {max-height: 200px;max-width: 100%;overflow: auto;}#sk-container-id-1 input.sk-toggleable__control:checked~label.sk-toggleable__label-arrow:before {content: \"▾\";}#sk-container-id-1 div.sk-estimator input.sk-toggleable__control:checked~label.sk-toggleable__label {background-color: #d4ebff;}#sk-container-id-1 div.sk-label input.sk-toggleable__control:checked~label.sk-toggleable__label {background-color: #d4ebff;}#sk-container-id-1 input.sk-hidden--visually {border: 0;clip: rect(1px 1px 1px 1px);clip: rect(1px, 1px, 1px, 1px);height: 1px;margin: -1px;overflow: hidden;padding: 0;position: absolute;width: 1px;}#sk-container-id-1 div.sk-estimator {font-family: monospace;background-color: #f0f8ff;border: 1px dotted black;border-radius: 0.25em;box-sizing: border-box;margin-bottom: 0.5em;}#sk-container-id-1 div.sk-estimator:hover {background-color: #d4ebff;}#sk-container-id-1 div.sk-parallel-item::after {content: \"\";width: 100%;border-bottom: 1px solid gray;flex-grow: 1;}#sk-container-id-1 div.sk-label:hover label.sk-toggleable__label {background-color: #d4ebff;}#sk-container-id-1 div.sk-serial::before {content: \"\";position: absolute;border-left: 1px solid gray;box-sizing: border-box;top: 0;bottom: 0;left: 50%;z-index: 0;}#sk-container-id-1 div.sk-serial {display: flex;flex-direction: column;align-items: center;background-color: white;padding-right: 0.2em;padding-left: 0.2em;position: relative;}#sk-container-id-1 div.sk-item {position: relative;z-index: 1;}#sk-container-id-1 div.sk-parallel {display: flex;align-items: stretch;justify-content: center;background-color: white;position: relative;}#sk-container-id-1 div.sk-item::before, #sk-container-id-1 div.sk-parallel-item::before {content: \"\";position: absolute;border-left: 1px solid gray;box-sizing: border-box;top: 0;bottom: 0;left: 50%;z-index: -1;}#sk-container-id-1 div.sk-parallel-item {display: flex;flex-direction: column;z-index: 1;position: relative;background-color: white;}#sk-container-id-1 div.sk-parallel-item:first-child::after {align-self: flex-end;width: 50%;}#sk-container-id-1 div.sk-parallel-item:last-child::after {align-self: flex-start;width: 50%;}#sk-container-id-1 div.sk-parallel-item:only-child::after {width: 0;}#sk-container-id-1 div.sk-dashed-wrapped {border: 1px dashed gray;margin: 0 0.4em 0.5em 0.4em;box-sizing: border-box;padding-bottom: 0.4em;background-color: white;}#sk-container-id-1 div.sk-label label {font-family: monospace;font-weight: bold;display: inline-block;line-height: 1.2em;}#sk-container-id-1 div.sk-label-container {text-align: center;}#sk-container-id-1 div.sk-container {/* jupyter's `normalize.less` sets `[hidden] { display: none; }` but bootstrap.min.css set `[hidden] { display: none !important; }` so we also need the `!important` here to be able to override the default hidden behavior on the sphinx rendered scikit-learn.org. See: https://github.com/scikit-learn/scikit-learn/issues/21755 */display: inline-block !important;position: relative;}#sk-container-id-1 div.sk-text-repr-fallback {display: none;}</style><div id=\"sk-container-id-1\" class=\"sk-top-container\"><div class=\"sk-text-repr-fallback\"><pre>Pipeline(steps=[(&#x27;prep&#x27;,\n",
       "                 ColumnTransformer(remainder=&#x27;passthrough&#x27;,\n",
       "                                   transformers=[(&#x27;min_max&#x27;, MinMaxScaler(),\n",
       "                                                  [&#x27;NUMPORTEL&#x27;, &#x27;STORIES&#x27;,\n",
       "                                                   &#x27;SQFTEST&#x27;, &#x27;TOTROOMS&#x27;,\n",
       "                                                   &#x27;NUMFRIG&#x27;, &#x27;MICRO&#x27;,\n",
       "                                                   &#x27;TVCOLOR&#x27;, &#x27;NHSLDMEM&#x27;,\n",
       "                                                   &#x27;TOTAL_BATH&#x27;, &#x27;TOTAL_COMP&#x27;,\n",
       "                                                   &#x27;TOTAL_LIGHT&#x27;]),\n",
       "                                                 (&#x27;ohe&#x27;,\n",
       "                                                  OneHotEncoder(handle_unknown=&#x27;ignore&#x27;,\n",
       "                                                                sparse_output=False),\n",
       "                                                  [&#x27;REGIONC&#x27;, &#x27;state_name&#x27;,\n",
       "                                                   &#x27;BA_climate&#x27;, &#x27;TYPEHUQ&#x27;,\n",
       "                                                   &#x27;YEARMADERANGE&#x27;, &#x27;WALLTYPE&#x27;,\n",
       "                                                   &#x27;ROOFTYPE&#x27;, &#x27;WINDOWS&#x27;,\n",
       "                                                   &#x27;EQUIPM&#x27;])])),\n",
       "                (&#x27;model&#x27;, RandomForestRegressor())])</pre><b>In a Jupyter environment, please rerun this cell to show the HTML representation or trust the notebook. <br />On GitHub, the HTML representation is unable to render, please try loading this page with nbviewer.org.</b></div><div class=\"sk-container\" hidden><div class=\"sk-item sk-dashed-wrapped\"><div class=\"sk-label-container\"><div class=\"sk-label sk-toggleable\"><input class=\"sk-toggleable__control sk-hidden--visually\" id=\"sk-estimator-id-1\" type=\"checkbox\" ><label for=\"sk-estimator-id-1\" class=\"sk-toggleable__label sk-toggleable__label-arrow\">Pipeline</label><div class=\"sk-toggleable__content\"><pre>Pipeline(steps=[(&#x27;prep&#x27;,\n",
       "                 ColumnTransformer(remainder=&#x27;passthrough&#x27;,\n",
       "                                   transformers=[(&#x27;min_max&#x27;, MinMaxScaler(),\n",
       "                                                  [&#x27;NUMPORTEL&#x27;, &#x27;STORIES&#x27;,\n",
       "                                                   &#x27;SQFTEST&#x27;, &#x27;TOTROOMS&#x27;,\n",
       "                                                   &#x27;NUMFRIG&#x27;, &#x27;MICRO&#x27;,\n",
       "                                                   &#x27;TVCOLOR&#x27;, &#x27;NHSLDMEM&#x27;,\n",
       "                                                   &#x27;TOTAL_BATH&#x27;, &#x27;TOTAL_COMP&#x27;,\n",
       "                                                   &#x27;TOTAL_LIGHT&#x27;]),\n",
       "                                                 (&#x27;ohe&#x27;,\n",
       "                                                  OneHotEncoder(handle_unknown=&#x27;ignore&#x27;,\n",
       "                                                                sparse_output=False),\n",
       "                                                  [&#x27;REGIONC&#x27;, &#x27;state_name&#x27;,\n",
       "                                                   &#x27;BA_climate&#x27;, &#x27;TYPEHUQ&#x27;,\n",
       "                                                   &#x27;YEARMADERANGE&#x27;, &#x27;WALLTYPE&#x27;,\n",
       "                                                   &#x27;ROOFTYPE&#x27;, &#x27;WINDOWS&#x27;,\n",
       "                                                   &#x27;EQUIPM&#x27;])])),\n",
       "                (&#x27;model&#x27;, RandomForestRegressor())])</pre></div></div></div><div class=\"sk-serial\"><div class=\"sk-item sk-dashed-wrapped\"><div class=\"sk-label-container\"><div class=\"sk-label sk-toggleable\"><input class=\"sk-toggleable__control sk-hidden--visually\" id=\"sk-estimator-id-2\" type=\"checkbox\" ><label for=\"sk-estimator-id-2\" class=\"sk-toggleable__label sk-toggleable__label-arrow\">prep: ColumnTransformer</label><div class=\"sk-toggleable__content\"><pre>ColumnTransformer(remainder=&#x27;passthrough&#x27;,\n",
       "                  transformers=[(&#x27;min_max&#x27;, MinMaxScaler(),\n",
       "                                 [&#x27;NUMPORTEL&#x27;, &#x27;STORIES&#x27;, &#x27;SQFTEST&#x27;, &#x27;TOTROOMS&#x27;,\n",
       "                                  &#x27;NUMFRIG&#x27;, &#x27;MICRO&#x27;, &#x27;TVCOLOR&#x27;, &#x27;NHSLDMEM&#x27;,\n",
       "                                  &#x27;TOTAL_BATH&#x27;, &#x27;TOTAL_COMP&#x27;, &#x27;TOTAL_LIGHT&#x27;]),\n",
       "                                (&#x27;ohe&#x27;,\n",
       "                                 OneHotEncoder(handle_unknown=&#x27;ignore&#x27;,\n",
       "                                               sparse_output=False),\n",
       "                                 [&#x27;REGIONC&#x27;, &#x27;state_name&#x27;, &#x27;BA_climate&#x27;,\n",
       "                                  &#x27;TYPEHUQ&#x27;, &#x27;YEARMADERANGE&#x27;, &#x27;WALLTYPE&#x27;,\n",
       "                                  &#x27;ROOFTYPE&#x27;, &#x27;WINDOWS&#x27;, &#x27;EQUIPM&#x27;])])</pre></div></div></div><div class=\"sk-parallel\"><div class=\"sk-parallel-item\"><div class=\"sk-item\"><div class=\"sk-label-container\"><div class=\"sk-label sk-toggleable\"><input class=\"sk-toggleable__control sk-hidden--visually\" id=\"sk-estimator-id-3\" type=\"checkbox\" ><label for=\"sk-estimator-id-3\" class=\"sk-toggleable__label sk-toggleable__label-arrow\">min_max</label><div class=\"sk-toggleable__content\"><pre>[&#x27;NUMPORTEL&#x27;, &#x27;STORIES&#x27;, &#x27;SQFTEST&#x27;, &#x27;TOTROOMS&#x27;, &#x27;NUMFRIG&#x27;, &#x27;MICRO&#x27;, &#x27;TVCOLOR&#x27;, &#x27;NHSLDMEM&#x27;, &#x27;TOTAL_BATH&#x27;, &#x27;TOTAL_COMP&#x27;, &#x27;TOTAL_LIGHT&#x27;]</pre></div></div></div><div class=\"sk-serial\"><div class=\"sk-item\"><div class=\"sk-estimator sk-toggleable\"><input class=\"sk-toggleable__control sk-hidden--visually\" id=\"sk-estimator-id-4\" type=\"checkbox\" ><label for=\"sk-estimator-id-4\" class=\"sk-toggleable__label sk-toggleable__label-arrow\">MinMaxScaler</label><div class=\"sk-toggleable__content\"><pre>MinMaxScaler()</pre></div></div></div></div></div></div><div class=\"sk-parallel-item\"><div class=\"sk-item\"><div class=\"sk-label-container\"><div class=\"sk-label sk-toggleable\"><input class=\"sk-toggleable__control sk-hidden--visually\" id=\"sk-estimator-id-5\" type=\"checkbox\" ><label for=\"sk-estimator-id-5\" class=\"sk-toggleable__label sk-toggleable__label-arrow\">ohe</label><div class=\"sk-toggleable__content\"><pre>[&#x27;REGIONC&#x27;, &#x27;state_name&#x27;, &#x27;BA_climate&#x27;, &#x27;TYPEHUQ&#x27;, &#x27;YEARMADERANGE&#x27;, &#x27;WALLTYPE&#x27;, &#x27;ROOFTYPE&#x27;, &#x27;WINDOWS&#x27;, &#x27;EQUIPM&#x27;]</pre></div></div></div><div class=\"sk-serial\"><div class=\"sk-item\"><div class=\"sk-estimator sk-toggleable\"><input class=\"sk-toggleable__control sk-hidden--visually\" id=\"sk-estimator-id-6\" type=\"checkbox\" ><label for=\"sk-estimator-id-6\" class=\"sk-toggleable__label sk-toggleable__label-arrow\">OneHotEncoder</label><div class=\"sk-toggleable__content\"><pre>OneHotEncoder(handle_unknown=&#x27;ignore&#x27;, sparse_output=False)</pre></div></div></div></div></div></div><div class=\"sk-parallel-item\"><div class=\"sk-item\"><div class=\"sk-label-container\"><div class=\"sk-label sk-toggleable\"><input class=\"sk-toggleable__control sk-hidden--visually\" id=\"sk-estimator-id-7\" type=\"checkbox\" ><label for=\"sk-estimator-id-7\" class=\"sk-toggleable__label sk-toggleable__label-arrow\">remainder</label><div class=\"sk-toggleable__content\"><pre>[&#x27;SWIMPOOL&#x27;, &#x27;SOLAR&#x27;, &#x27;SMARTMETER&#x27;, &#x27;DISHWASH&#x27;, &#x27;CWASHER&#x27;, &#x27;DRYER&#x27;, &#x27;TELLWORK&#x27;, &#x27;HEATHOME&#x27;, &#x27;AIRCOND&#x27;]</pre></div></div></div><div class=\"sk-serial\"><div class=\"sk-item\"><div class=\"sk-estimator sk-toggleable\"><input class=\"sk-toggleable__control sk-hidden--visually\" id=\"sk-estimator-id-8\" type=\"checkbox\" ><label for=\"sk-estimator-id-8\" class=\"sk-toggleable__label sk-toggleable__label-arrow\">passthrough</label><div class=\"sk-toggleable__content\"><pre>passthrough</pre></div></div></div></div></div></div></div></div><div class=\"sk-item\"><div class=\"sk-estimator sk-toggleable\"><input class=\"sk-toggleable__control sk-hidden--visually\" id=\"sk-estimator-id-9\" type=\"checkbox\" ><label for=\"sk-estimator-id-9\" class=\"sk-toggleable__label sk-toggleable__label-arrow\">RandomForestRegressor</label><div class=\"sk-toggleable__content\"><pre>RandomForestRegressor()</pre></div></div></div></div></div></div></div>"
      ],
      "text/plain": [
       "Pipeline(steps=[('prep',\n",
       "                 ColumnTransformer(remainder='passthrough',\n",
       "                                   transformers=[('min_max', MinMaxScaler(),\n",
       "                                                  ['NUMPORTEL', 'STORIES',\n",
       "                                                   'SQFTEST', 'TOTROOMS',\n",
       "                                                   'NUMFRIG', 'MICRO',\n",
       "                                                   'TVCOLOR', 'NHSLDMEM',\n",
       "                                                   'TOTAL_BATH', 'TOTAL_COMP',\n",
       "                                                   'TOTAL_LIGHT']),\n",
       "                                                 ('ohe',\n",
       "                                                  OneHotEncoder(handle_unknown='ignore',\n",
       "                                                                sparse_output=False),\n",
       "                                                  ['REGIONC', 'state_name',\n",
       "                                                   'BA_climate', 'TYPEHUQ',\n",
       "                                                   'YEARMADERANGE', 'WALLTYPE',\n",
       "                                                   'ROOFTYPE', 'WINDOWS',\n",
       "                                                   'EQUIPM'])])),\n",
       "                ('model', RandomForestRegressor())])"
      ]
     },
     "execution_count": 13,
     "metadata": {},
     "output_type": "execute_result"
    }
   ],
   "source": [
    "pipe_2.fit(X_train,y_train)"
   ]
  },
  {
   "cell_type": "code",
   "execution_count": 15,
   "id": "df224537-328d-4aca-bd44-2c9a861843f2",
   "metadata": {},
   "outputs": [
    {
     "data": {
      "text/plain": [
       "0.46195432428379035"
      ]
     },
     "execution_count": 15,
     "metadata": {},
     "output_type": "execute_result"
    }
   ],
   "source": [
    "pipe_2.score(X_test,y_test)"
   ]
  },
  {
   "cell_type": "code",
   "execution_count": 320,
   "id": "728689de-c281-47eb-b576-b782479d9c84",
   "metadata": {},
   "outputs": [
    {
     "data": {
      "text/html": [
       "<style>#sk-container-id-20 {color: black;}#sk-container-id-20 pre{padding: 0;}#sk-container-id-20 div.sk-toggleable {background-color: white;}#sk-container-id-20 label.sk-toggleable__label {cursor: pointer;display: block;width: 100%;margin-bottom: 0;padding: 0.3em;box-sizing: border-box;text-align: center;}#sk-container-id-20 label.sk-toggleable__label-arrow:before {content: \"▸\";float: left;margin-right: 0.25em;color: #696969;}#sk-container-id-20 label.sk-toggleable__label-arrow:hover:before {color: black;}#sk-container-id-20 div.sk-estimator:hover label.sk-toggleable__label-arrow:before {color: black;}#sk-container-id-20 div.sk-toggleable__content {max-height: 0;max-width: 0;overflow: hidden;text-align: left;background-color: #f0f8ff;}#sk-container-id-20 div.sk-toggleable__content pre {margin: 0.2em;color: black;border-radius: 0.25em;background-color: #f0f8ff;}#sk-container-id-20 input.sk-toggleable__control:checked~div.sk-toggleable__content {max-height: 200px;max-width: 100%;overflow: auto;}#sk-container-id-20 input.sk-toggleable__control:checked~label.sk-toggleable__label-arrow:before {content: \"▾\";}#sk-container-id-20 div.sk-estimator input.sk-toggleable__control:checked~label.sk-toggleable__label {background-color: #d4ebff;}#sk-container-id-20 div.sk-label input.sk-toggleable__control:checked~label.sk-toggleable__label {background-color: #d4ebff;}#sk-container-id-20 input.sk-hidden--visually {border: 0;clip: rect(1px 1px 1px 1px);clip: rect(1px, 1px, 1px, 1px);height: 1px;margin: -1px;overflow: hidden;padding: 0;position: absolute;width: 1px;}#sk-container-id-20 div.sk-estimator {font-family: monospace;background-color: #f0f8ff;border: 1px dotted black;border-radius: 0.25em;box-sizing: border-box;margin-bottom: 0.5em;}#sk-container-id-20 div.sk-estimator:hover {background-color: #d4ebff;}#sk-container-id-20 div.sk-parallel-item::after {content: \"\";width: 100%;border-bottom: 1px solid gray;flex-grow: 1;}#sk-container-id-20 div.sk-label:hover label.sk-toggleable__label {background-color: #d4ebff;}#sk-container-id-20 div.sk-serial::before {content: \"\";position: absolute;border-left: 1px solid gray;box-sizing: border-box;top: 0;bottom: 0;left: 50%;z-index: 0;}#sk-container-id-20 div.sk-serial {display: flex;flex-direction: column;align-items: center;background-color: white;padding-right: 0.2em;padding-left: 0.2em;position: relative;}#sk-container-id-20 div.sk-item {position: relative;z-index: 1;}#sk-container-id-20 div.sk-parallel {display: flex;align-items: stretch;justify-content: center;background-color: white;position: relative;}#sk-container-id-20 div.sk-item::before, #sk-container-id-20 div.sk-parallel-item::before {content: \"\";position: absolute;border-left: 1px solid gray;box-sizing: border-box;top: 0;bottom: 0;left: 50%;z-index: -1;}#sk-container-id-20 div.sk-parallel-item {display: flex;flex-direction: column;z-index: 1;position: relative;background-color: white;}#sk-container-id-20 div.sk-parallel-item:first-child::after {align-self: flex-end;width: 50%;}#sk-container-id-20 div.sk-parallel-item:last-child::after {align-self: flex-start;width: 50%;}#sk-container-id-20 div.sk-parallel-item:only-child::after {width: 0;}#sk-container-id-20 div.sk-dashed-wrapped {border: 1px dashed gray;margin: 0 0.4em 0.5em 0.4em;box-sizing: border-box;padding-bottom: 0.4em;background-color: white;}#sk-container-id-20 div.sk-label label {font-family: monospace;font-weight: bold;display: inline-block;line-height: 1.2em;}#sk-container-id-20 div.sk-label-container {text-align: center;}#sk-container-id-20 div.sk-container {/* jupyter's `normalize.less` sets `[hidden] { display: none; }` but bootstrap.min.css set `[hidden] { display: none !important; }` so we also need the `!important` here to be able to override the default hidden behavior on the sphinx rendered scikit-learn.org. See: https://github.com/scikit-learn/scikit-learn/issues/21755 */display: inline-block !important;position: relative;}#sk-container-id-20 div.sk-text-repr-fallback {display: none;}</style><div id=\"sk-container-id-20\" class=\"sk-top-container\"><div class=\"sk-text-repr-fallback\"><pre>ColumnTransformer(remainder=&#x27;passthrough&#x27;,\n",
       "                  transformers=[(&#x27;min_max&#x27;, MinMaxScaler(),\n",
       "                                 [&#x27;NUMPORTEL&#x27;, &#x27;STORIES&#x27;, &#x27;SQFTEST&#x27;, &#x27;TOTROOMS&#x27;,\n",
       "                                  &#x27;NUMFRIG&#x27;, &#x27;MICRO&#x27;, &#x27;TVCOLOR&#x27;, &#x27;NHSLDMEM&#x27;,\n",
       "                                  &#x27;TOTAL_BATH&#x27;, &#x27;TOTAL_COMP&#x27;, &#x27;TOTAL_LIGHT&#x27;]),\n",
       "                                (&#x27;ohe&#x27;,\n",
       "                                 OneHotEncoder(handle_unknown=&#x27;ignore&#x27;,\n",
       "                                               sparse_output=False),\n",
       "                                 [&#x27;REGIONC&#x27;, &#x27;state_name&#x27;, &#x27;BA_climate&#x27;,\n",
       "                                  &#x27;TYPEHUQ&#x27;, &#x27;YEARMADERANGE&#x27;, &#x27;WALLTYPE&#x27;,\n",
       "                                  &#x27;ROOFTYPE&#x27;, &#x27;WINDOWS&#x27;, &#x27;EQUIPM&#x27;])])</pre><b>In a Jupyter environment, please rerun this cell to show the HTML representation or trust the notebook. <br />On GitHub, the HTML representation is unable to render, please try loading this page with nbviewer.org.</b></div><div class=\"sk-container\" hidden><div class=\"sk-item sk-dashed-wrapped\"><div class=\"sk-label-container\"><div class=\"sk-label sk-toggleable\"><input class=\"sk-toggleable__control sk-hidden--visually\" id=\"sk-estimator-id-132\" type=\"checkbox\" ><label for=\"sk-estimator-id-132\" class=\"sk-toggleable__label sk-toggleable__label-arrow\">ColumnTransformer</label><div class=\"sk-toggleable__content\"><pre>ColumnTransformer(remainder=&#x27;passthrough&#x27;,\n",
       "                  transformers=[(&#x27;min_max&#x27;, MinMaxScaler(),\n",
       "                                 [&#x27;NUMPORTEL&#x27;, &#x27;STORIES&#x27;, &#x27;SQFTEST&#x27;, &#x27;TOTROOMS&#x27;,\n",
       "                                  &#x27;NUMFRIG&#x27;, &#x27;MICRO&#x27;, &#x27;TVCOLOR&#x27;, &#x27;NHSLDMEM&#x27;,\n",
       "                                  &#x27;TOTAL_BATH&#x27;, &#x27;TOTAL_COMP&#x27;, &#x27;TOTAL_LIGHT&#x27;]),\n",
       "                                (&#x27;ohe&#x27;,\n",
       "                                 OneHotEncoder(handle_unknown=&#x27;ignore&#x27;,\n",
       "                                               sparse_output=False),\n",
       "                                 [&#x27;REGIONC&#x27;, &#x27;state_name&#x27;, &#x27;BA_climate&#x27;,\n",
       "                                  &#x27;TYPEHUQ&#x27;, &#x27;YEARMADERANGE&#x27;, &#x27;WALLTYPE&#x27;,\n",
       "                                  &#x27;ROOFTYPE&#x27;, &#x27;WINDOWS&#x27;, &#x27;EQUIPM&#x27;])])</pre></div></div></div><div class=\"sk-parallel\"><div class=\"sk-parallel-item\"><div class=\"sk-item\"><div class=\"sk-label-container\"><div class=\"sk-label sk-toggleable\"><input class=\"sk-toggleable__control sk-hidden--visually\" id=\"sk-estimator-id-133\" type=\"checkbox\" ><label for=\"sk-estimator-id-133\" class=\"sk-toggleable__label sk-toggleable__label-arrow\">min_max</label><div class=\"sk-toggleable__content\"><pre>[&#x27;NUMPORTEL&#x27;, &#x27;STORIES&#x27;, &#x27;SQFTEST&#x27;, &#x27;TOTROOMS&#x27;, &#x27;NUMFRIG&#x27;, &#x27;MICRO&#x27;, &#x27;TVCOLOR&#x27;, &#x27;NHSLDMEM&#x27;, &#x27;TOTAL_BATH&#x27;, &#x27;TOTAL_COMP&#x27;, &#x27;TOTAL_LIGHT&#x27;]</pre></div></div></div><div class=\"sk-serial\"><div class=\"sk-item\"><div class=\"sk-estimator sk-toggleable\"><input class=\"sk-toggleable__control sk-hidden--visually\" id=\"sk-estimator-id-134\" type=\"checkbox\" ><label for=\"sk-estimator-id-134\" class=\"sk-toggleable__label sk-toggleable__label-arrow\">MinMaxScaler</label><div class=\"sk-toggleable__content\"><pre>MinMaxScaler()</pre></div></div></div></div></div></div><div class=\"sk-parallel-item\"><div class=\"sk-item\"><div class=\"sk-label-container\"><div class=\"sk-label sk-toggleable\"><input class=\"sk-toggleable__control sk-hidden--visually\" id=\"sk-estimator-id-135\" type=\"checkbox\" ><label for=\"sk-estimator-id-135\" class=\"sk-toggleable__label sk-toggleable__label-arrow\">ohe</label><div class=\"sk-toggleable__content\"><pre>[&#x27;REGIONC&#x27;, &#x27;state_name&#x27;, &#x27;BA_climate&#x27;, &#x27;TYPEHUQ&#x27;, &#x27;YEARMADERANGE&#x27;, &#x27;WALLTYPE&#x27;, &#x27;ROOFTYPE&#x27;, &#x27;WINDOWS&#x27;, &#x27;EQUIPM&#x27;]</pre></div></div></div><div class=\"sk-serial\"><div class=\"sk-item\"><div class=\"sk-estimator sk-toggleable\"><input class=\"sk-toggleable__control sk-hidden--visually\" id=\"sk-estimator-id-136\" type=\"checkbox\" ><label for=\"sk-estimator-id-136\" class=\"sk-toggleable__label sk-toggleable__label-arrow\">OneHotEncoder</label><div class=\"sk-toggleable__content\"><pre>OneHotEncoder(handle_unknown=&#x27;ignore&#x27;, sparse_output=False)</pre></div></div></div></div></div></div><div class=\"sk-parallel-item\"><div class=\"sk-item\"><div class=\"sk-label-container\"><div class=\"sk-label sk-toggleable\"><input class=\"sk-toggleable__control sk-hidden--visually\" id=\"sk-estimator-id-137\" type=\"checkbox\" ><label for=\"sk-estimator-id-137\" class=\"sk-toggleable__label sk-toggleable__label-arrow\">remainder</label><div class=\"sk-toggleable__content\"><pre>[&#x27;SWIMPOOL&#x27;, &#x27;SOLAR&#x27;, &#x27;SMARTMETER&#x27;, &#x27;DISHWASH&#x27;, &#x27;CWASHER&#x27;, &#x27;DRYER&#x27;, &#x27;TELLWORK&#x27;, &#x27;HEATHOME&#x27;, &#x27;AIRCOND&#x27;]</pre></div></div></div><div class=\"sk-serial\"><div class=\"sk-item\"><div class=\"sk-estimator sk-toggleable\"><input class=\"sk-toggleable__control sk-hidden--visually\" id=\"sk-estimator-id-138\" type=\"checkbox\" ><label for=\"sk-estimator-id-138\" class=\"sk-toggleable__label sk-toggleable__label-arrow\">passthrough</label><div class=\"sk-toggleable__content\"><pre>passthrough</pre></div></div></div></div></div></div></div></div></div></div>"
      ],
      "text/plain": [
       "ColumnTransformer(remainder='passthrough',\n",
       "                  transformers=[('min_max', MinMaxScaler(),\n",
       "                                 ['NUMPORTEL', 'STORIES', 'SQFTEST', 'TOTROOMS',\n",
       "                                  'NUMFRIG', 'MICRO', 'TVCOLOR', 'NHSLDMEM',\n",
       "                                  'TOTAL_BATH', 'TOTAL_COMP', 'TOTAL_LIGHT']),\n",
       "                                ('ohe',\n",
       "                                 OneHotEncoder(handle_unknown='ignore',\n",
       "                                               sparse_output=False),\n",
       "                                 ['REGIONC', 'state_name', 'BA_climate',\n",
       "                                  'TYPEHUQ', 'YEARMADERANGE', 'WALLTYPE',\n",
       "                                  'ROOFTYPE', 'WINDOWS', 'EQUIPM'])])"
      ]
     },
     "execution_count": 320,
     "metadata": {},
     "output_type": "execute_result"
    }
   ],
   "source": [
    "preprocessor.fit(X_train)"
   ]
  },
  {
   "cell_type": "code",
   "execution_count": 321,
   "id": "136ebddc-c1fc-47f2-87f3-a18ede76904a",
   "metadata": {},
   "outputs": [],
   "source": [
    "X_train_prep = preprocessor.transform(X_train)"
   ]
  },
  {
   "cell_type": "code",
   "execution_count": 322,
   "id": "703cf381-dc22-4e11-8d96-325055b7aee8",
   "metadata": {},
   "outputs": [],
   "source": [
    "model = RandomForestRegressor()"
   ]
  },
  {
   "cell_type": "code",
   "execution_count": 323,
   "id": "203ea515-64fe-477a-acf7-8deccd3789a1",
   "metadata": {},
   "outputs": [
    {
     "data": {
      "text/html": [
       "<style>#sk-container-id-21 {color: black;}#sk-container-id-21 pre{padding: 0;}#sk-container-id-21 div.sk-toggleable {background-color: white;}#sk-container-id-21 label.sk-toggleable__label {cursor: pointer;display: block;width: 100%;margin-bottom: 0;padding: 0.3em;box-sizing: border-box;text-align: center;}#sk-container-id-21 label.sk-toggleable__label-arrow:before {content: \"▸\";float: left;margin-right: 0.25em;color: #696969;}#sk-container-id-21 label.sk-toggleable__label-arrow:hover:before {color: black;}#sk-container-id-21 div.sk-estimator:hover label.sk-toggleable__label-arrow:before {color: black;}#sk-container-id-21 div.sk-toggleable__content {max-height: 0;max-width: 0;overflow: hidden;text-align: left;background-color: #f0f8ff;}#sk-container-id-21 div.sk-toggleable__content pre {margin: 0.2em;color: black;border-radius: 0.25em;background-color: #f0f8ff;}#sk-container-id-21 input.sk-toggleable__control:checked~div.sk-toggleable__content {max-height: 200px;max-width: 100%;overflow: auto;}#sk-container-id-21 input.sk-toggleable__control:checked~label.sk-toggleable__label-arrow:before {content: \"▾\";}#sk-container-id-21 div.sk-estimator input.sk-toggleable__control:checked~label.sk-toggleable__label {background-color: #d4ebff;}#sk-container-id-21 div.sk-label input.sk-toggleable__control:checked~label.sk-toggleable__label {background-color: #d4ebff;}#sk-container-id-21 input.sk-hidden--visually {border: 0;clip: rect(1px 1px 1px 1px);clip: rect(1px, 1px, 1px, 1px);height: 1px;margin: -1px;overflow: hidden;padding: 0;position: absolute;width: 1px;}#sk-container-id-21 div.sk-estimator {font-family: monospace;background-color: #f0f8ff;border: 1px dotted black;border-radius: 0.25em;box-sizing: border-box;margin-bottom: 0.5em;}#sk-container-id-21 div.sk-estimator:hover {background-color: #d4ebff;}#sk-container-id-21 div.sk-parallel-item::after {content: \"\";width: 100%;border-bottom: 1px solid gray;flex-grow: 1;}#sk-container-id-21 div.sk-label:hover label.sk-toggleable__label {background-color: #d4ebff;}#sk-container-id-21 div.sk-serial::before {content: \"\";position: absolute;border-left: 1px solid gray;box-sizing: border-box;top: 0;bottom: 0;left: 50%;z-index: 0;}#sk-container-id-21 div.sk-serial {display: flex;flex-direction: column;align-items: center;background-color: white;padding-right: 0.2em;padding-left: 0.2em;position: relative;}#sk-container-id-21 div.sk-item {position: relative;z-index: 1;}#sk-container-id-21 div.sk-parallel {display: flex;align-items: stretch;justify-content: center;background-color: white;position: relative;}#sk-container-id-21 div.sk-item::before, #sk-container-id-21 div.sk-parallel-item::before {content: \"\";position: absolute;border-left: 1px solid gray;box-sizing: border-box;top: 0;bottom: 0;left: 50%;z-index: -1;}#sk-container-id-21 div.sk-parallel-item {display: flex;flex-direction: column;z-index: 1;position: relative;background-color: white;}#sk-container-id-21 div.sk-parallel-item:first-child::after {align-self: flex-end;width: 50%;}#sk-container-id-21 div.sk-parallel-item:last-child::after {align-self: flex-start;width: 50%;}#sk-container-id-21 div.sk-parallel-item:only-child::after {width: 0;}#sk-container-id-21 div.sk-dashed-wrapped {border: 1px dashed gray;margin: 0 0.4em 0.5em 0.4em;box-sizing: border-box;padding-bottom: 0.4em;background-color: white;}#sk-container-id-21 div.sk-label label {font-family: monospace;font-weight: bold;display: inline-block;line-height: 1.2em;}#sk-container-id-21 div.sk-label-container {text-align: center;}#sk-container-id-21 div.sk-container {/* jupyter's `normalize.less` sets `[hidden] { display: none; }` but bootstrap.min.css set `[hidden] { display: none !important; }` so we also need the `!important` here to be able to override the default hidden behavior on the sphinx rendered scikit-learn.org. See: https://github.com/scikit-learn/scikit-learn/issues/21755 */display: inline-block !important;position: relative;}#sk-container-id-21 div.sk-text-repr-fallback {display: none;}</style><div id=\"sk-container-id-21\" class=\"sk-top-container\"><div class=\"sk-text-repr-fallback\"><pre>RandomForestRegressor()</pre><b>In a Jupyter environment, please rerun this cell to show the HTML representation or trust the notebook. <br />On GitHub, the HTML representation is unable to render, please try loading this page with nbviewer.org.</b></div><div class=\"sk-container\" hidden><div class=\"sk-item\"><div class=\"sk-estimator sk-toggleable\"><input class=\"sk-toggleable__control sk-hidden--visually\" id=\"sk-estimator-id-139\" type=\"checkbox\" checked><label for=\"sk-estimator-id-139\" class=\"sk-toggleable__label sk-toggleable__label-arrow\">RandomForestRegressor</label><div class=\"sk-toggleable__content\"><pre>RandomForestRegressor()</pre></div></div></div></div></div>"
      ],
      "text/plain": [
       "RandomForestRegressor()"
      ]
     },
     "execution_count": 323,
     "metadata": {},
     "output_type": "execute_result"
    }
   ],
   "source": [
    "model.fit(X_train_prep, y_train)"
   ]
  },
  {
   "cell_type": "code",
   "execution_count": 331,
   "id": "a179d0e9-b7d7-4ea3-901f-e1230717781b",
   "metadata": {},
   "outputs": [
    {
     "data": {
      "text/html": [
       "<div>\n",
       "<style scoped>\n",
       "    .dataframe tbody tr th:only-of-type {\n",
       "        vertical-align: middle;\n",
       "    }\n",
       "\n",
       "    .dataframe tbody tr th {\n",
       "        vertical-align: top;\n",
       "    }\n",
       "\n",
       "    .dataframe thead th {\n",
       "        text-align: right;\n",
       "    }\n",
       "</style>\n",
       "<table border=\"1\" class=\"dataframe\">\n",
       "  <thead>\n",
       "    <tr style=\"text-align: right;\">\n",
       "      <th></th>\n",
       "      <th>index</th>\n",
       "      <th>0</th>\n",
       "    </tr>\n",
       "  </thead>\n",
       "  <tbody>\n",
       "    <tr>\n",
       "      <th>5</th>\n",
       "      <td>min_max__MICRO</td>\n",
       "      <td>0.005087</td>\n",
       "    </tr>\n",
       "    <tr>\n",
       "      <th>7</th>\n",
       "      <td>min_max__NHSLDMEM</td>\n",
       "      <td>0.057803</td>\n",
       "    </tr>\n",
       "    <tr>\n",
       "      <th>4</th>\n",
       "      <td>min_max__NUMFRIG</td>\n",
       "      <td>0.030783</td>\n",
       "    </tr>\n",
       "    <tr>\n",
       "      <th>0</th>\n",
       "      <td>min_max__NUMPORTEL</td>\n",
       "      <td>0.018243</td>\n",
       "    </tr>\n",
       "    <tr>\n",
       "      <th>2</th>\n",
       "      <td>min_max__SQFTEST</td>\n",
       "      <td>0.188624</td>\n",
       "    </tr>\n",
       "    <tr>\n",
       "      <th>1</th>\n",
       "      <td>min_max__STORIES</td>\n",
       "      <td>0.008564</td>\n",
       "    </tr>\n",
       "    <tr>\n",
       "      <th>8</th>\n",
       "      <td>min_max__TOTAL_BATH</td>\n",
       "      <td>0.016074</td>\n",
       "    </tr>\n",
       "    <tr>\n",
       "      <th>9</th>\n",
       "      <td>min_max__TOTAL_COMP</td>\n",
       "      <td>0.024478</td>\n",
       "    </tr>\n",
       "    <tr>\n",
       "      <th>10</th>\n",
       "      <td>min_max__TOTAL_LIGHT</td>\n",
       "      <td>0.055183</td>\n",
       "    </tr>\n",
       "    <tr>\n",
       "      <th>3</th>\n",
       "      <td>min_max__TOTROOMS</td>\n",
       "      <td>0.046265</td>\n",
       "    </tr>\n",
       "    <tr>\n",
       "      <th>6</th>\n",
       "      <td>min_max__TVCOLOR</td>\n",
       "      <td>0.061874</td>\n",
       "    </tr>\n",
       "    <tr>\n",
       "      <th>66</th>\n",
       "      <td>ohe__BA_climate_Cold</td>\n",
       "      <td>0.004112</td>\n",
       "    </tr>\n",
       "    <tr>\n",
       "      <th>67</th>\n",
       "      <td>ohe__BA_climate_Hot-Dry</td>\n",
       "      <td>0.001887</td>\n",
       "    </tr>\n",
       "    <tr>\n",
       "      <th>68</th>\n",
       "      <td>ohe__BA_climate_Hot-Humid</td>\n",
       "      <td>0.002722</td>\n",
       "    </tr>\n",
       "    <tr>\n",
       "      <th>69</th>\n",
       "      <td>ohe__BA_climate_Marine</td>\n",
       "      <td>0.001457</td>\n",
       "    </tr>\n",
       "    <tr>\n",
       "      <th>70</th>\n",
       "      <td>ohe__BA_climate_Mixed-Dry</td>\n",
       "      <td>0.000370</td>\n",
       "    </tr>\n",
       "    <tr>\n",
       "      <th>71</th>\n",
       "      <td>ohe__BA_climate_Mixed-Humid</td>\n",
       "      <td>0.003980</td>\n",
       "    </tr>\n",
       "    <tr>\n",
       "      <th>72</th>\n",
       "      <td>ohe__BA_climate_Subarctic</td>\n",
       "      <td>0.000126</td>\n",
       "    </tr>\n",
       "    <tr>\n",
       "      <th>73</th>\n",
       "      <td>ohe__BA_climate_Very-Cold</td>\n",
       "      <td>0.002244</td>\n",
       "    </tr>\n",
       "    <tr>\n",
       "      <th>110</th>\n",
       "      <td>ohe__EQUIPM_Central_heat</td>\n",
       "      <td>0.036180</td>\n",
       "    </tr>\n",
       "    <tr>\n",
       "      <th>111</th>\n",
       "      <td>ohe__EQUIPM_Ductless_heat</td>\n",
       "      <td>0.001969</td>\n",
       "    </tr>\n",
       "    <tr>\n",
       "      <th>112</th>\n",
       "      <td>ohe__EQUIPM_Electric_heater</td>\n",
       "      <td>0.001520</td>\n",
       "    </tr>\n",
       "    <tr>\n",
       "      <th>113</th>\n",
       "      <td>ohe__EQUIPM_Electric_units</td>\n",
       "      <td>0.020575</td>\n",
       "    </tr>\n",
       "    <tr>\n",
       "      <th>114</th>\n",
       "      <td>ohe__EQUIPM_Furnace</td>\n",
       "      <td>0.007426</td>\n",
       "    </tr>\n",
       "    <tr>\n",
       "      <th>115</th>\n",
       "      <td>ohe__EQUIPM_Other</td>\n",
       "      <td>0.001532</td>\n",
       "    </tr>\n",
       "    <tr>\n",
       "      <th>116</th>\n",
       "      <td>ohe__EQUIPM_Room_heater</td>\n",
       "      <td>0.001171</td>\n",
       "    </tr>\n",
       "    <tr>\n",
       "      <th>117</th>\n",
       "      <td>ohe__EQUIPM_Steam</td>\n",
       "      <td>0.003259</td>\n",
       "    </tr>\n",
       "    <tr>\n",
       "      <th>118</th>\n",
       "      <td>ohe__EQUIPM_Wood</td>\n",
       "      <td>0.002158</td>\n",
       "    </tr>\n",
       "    <tr>\n",
       "      <th>11</th>\n",
       "      <td>ohe__REGIONC_MIDWEST</td>\n",
       "      <td>0.006702</td>\n",
       "    </tr>\n",
       "    <tr>\n",
       "      <th>12</th>\n",
       "      <td>ohe__REGIONC_NORTHEAST</td>\n",
       "      <td>0.002673</td>\n",
       "    </tr>\n",
       "    <tr>\n",
       "      <th>13</th>\n",
       "      <td>ohe__REGIONC_SOUTH</td>\n",
       "      <td>0.079936</td>\n",
       "    </tr>\n",
       "    <tr>\n",
       "      <th>14</th>\n",
       "      <td>ohe__REGIONC_WEST</td>\n",
       "      <td>0.001849</td>\n",
       "    </tr>\n",
       "    <tr>\n",
       "      <th>96</th>\n",
       "      <td>ohe__ROOFTYPE_Ceramic</td>\n",
       "      <td>0.002218</td>\n",
       "    </tr>\n",
       "    <tr>\n",
       "      <th>97</th>\n",
       "      <td>ohe__ROOFTYPE_Concrete</td>\n",
       "      <td>0.001435</td>\n",
       "    </tr>\n",
       "    <tr>\n",
       "      <th>98</th>\n",
       "      <td>ohe__ROOFTYPE_Metal</td>\n",
       "      <td>0.005215</td>\n",
       "    </tr>\n",
       "    <tr>\n",
       "      <th>99</th>\n",
       "      <td>ohe__ROOFTYPE_Other</td>\n",
       "      <td>0.005138</td>\n",
       "    </tr>\n",
       "    <tr>\n",
       "      <th>100</th>\n",
       "      <td>ohe__ROOFTYPE_Shingle</td>\n",
       "      <td>0.004487</td>\n",
       "    </tr>\n",
       "    <tr>\n",
       "      <th>101</th>\n",
       "      <td>ohe__ROOFTYPE_Slate</td>\n",
       "      <td>0.000759</td>\n",
       "    </tr>\n",
       "    <tr>\n",
       "      <th>102</th>\n",
       "      <td>ohe__ROOFTYPE_Wood</td>\n",
       "      <td>0.002176</td>\n",
       "    </tr>\n",
       "    <tr>\n",
       "      <th>74</th>\n",
       "      <td>ohe__TYPEHUQ_Appartment_big</td>\n",
       "      <td>0.003967</td>\n",
       "    </tr>\n",
       "    <tr>\n",
       "      <th>75</th>\n",
       "      <td>ohe__TYPEHUQ_Appartment_small</td>\n",
       "      <td>0.001741</td>\n",
       "    </tr>\n",
       "    <tr>\n",
       "      <th>76</th>\n",
       "      <td>ohe__TYPEHUQ_Mobile</td>\n",
       "      <td>0.008136</td>\n",
       "    </tr>\n",
       "    <tr>\n",
       "      <th>77</th>\n",
       "      <td>ohe__TYPEHUQ_Single_attached</td>\n",
       "      <td>0.003515</td>\n",
       "    </tr>\n",
       "    <tr>\n",
       "      <th>78</th>\n",
       "      <td>ohe__TYPEHUQ_Single_detached</td>\n",
       "      <td>0.009196</td>\n",
       "    </tr>\n",
       "    <tr>\n",
       "      <th>88</th>\n",
       "      <td>ohe__WALLTYPE_Brick</td>\n",
       "      <td>0.005246</td>\n",
       "    </tr>\n",
       "    <tr>\n",
       "      <th>89</th>\n",
       "      <td>ohe__WALLTYPE_Concrete</td>\n",
       "      <td>0.002468</td>\n",
       "    </tr>\n",
       "    <tr>\n",
       "      <th>90</th>\n",
       "      <td>ohe__WALLTYPE_Other</td>\n",
       "      <td>0.000219</td>\n",
       "    </tr>\n",
       "    <tr>\n",
       "      <th>91</th>\n",
       "      <td>ohe__WALLTYPE_Shingle</td>\n",
       "      <td>0.001128</td>\n",
       "    </tr>\n",
       "    <tr>\n",
       "      <th>92</th>\n",
       "      <td>ohe__WALLTYPE_Siding</td>\n",
       "      <td>0.007003</td>\n",
       "    </tr>\n",
       "    <tr>\n",
       "      <th>93</th>\n",
       "      <td>ohe__WALLTYPE_Stone</td>\n",
       "      <td>0.001105</td>\n",
       "    </tr>\n",
       "    <tr>\n",
       "      <th>94</th>\n",
       "      <td>ohe__WALLTYPE_Stucco</td>\n",
       "      <td>0.002464</td>\n",
       "    </tr>\n",
       "    <tr>\n",
       "      <th>95</th>\n",
       "      <td>ohe__WALLTYPE_Wood</td>\n",
       "      <td>0.004243</td>\n",
       "    </tr>\n",
       "    <tr>\n",
       "      <th>103</th>\n",
       "      <td>ohe__WINDOWS_1</td>\n",
       "      <td>0.000581</td>\n",
       "    </tr>\n",
       "    <tr>\n",
       "      <th>104</th>\n",
       "      <td>ohe__WINDOWS_2</td>\n",
       "      <td>0.002619</td>\n",
       "    </tr>\n",
       "    <tr>\n",
       "      <th>105</th>\n",
       "      <td>ohe__WINDOWS_3</td>\n",
       "      <td>0.005025</td>\n",
       "    </tr>\n",
       "    <tr>\n",
       "      <th>106</th>\n",
       "      <td>ohe__WINDOWS_4</td>\n",
       "      <td>0.007015</td>\n",
       "    </tr>\n",
       "    <tr>\n",
       "      <th>107</th>\n",
       "      <td>ohe__WINDOWS_5</td>\n",
       "      <td>0.004892</td>\n",
       "    </tr>\n",
       "    <tr>\n",
       "      <th>108</th>\n",
       "      <td>ohe__WINDOWS_6</td>\n",
       "      <td>0.004065</td>\n",
       "    </tr>\n",
       "    <tr>\n",
       "      <th>109</th>\n",
       "      <td>ohe__WINDOWS_7</td>\n",
       "      <td>0.002030</td>\n",
       "    </tr>\n",
       "    <tr>\n",
       "      <th>79</th>\n",
       "      <td>ohe__YEARMADERANGE_00-09</td>\n",
       "      <td>0.004789</td>\n",
       "    </tr>\n",
       "    <tr>\n",
       "      <th>80</th>\n",
       "      <td>ohe__YEARMADERANGE_2010-15</td>\n",
       "      <td>0.003794</td>\n",
       "    </tr>\n",
       "    <tr>\n",
       "      <th>81</th>\n",
       "      <td>ohe__YEARMADERANGE_2016-20</td>\n",
       "      <td>0.003025</td>\n",
       "    </tr>\n",
       "    <tr>\n",
       "      <th>82</th>\n",
       "      <td>ohe__YEARMADERANGE_50-59</td>\n",
       "      <td>0.004577</td>\n",
       "    </tr>\n",
       "    <tr>\n",
       "      <th>83</th>\n",
       "      <td>ohe__YEARMADERANGE_60-69</td>\n",
       "      <td>0.004090</td>\n",
       "    </tr>\n",
       "    <tr>\n",
       "      <th>84</th>\n",
       "      <td>ohe__YEARMADERANGE_70-79</td>\n",
       "      <td>0.008029</td>\n",
       "    </tr>\n",
       "    <tr>\n",
       "      <th>85</th>\n",
       "      <td>ohe__YEARMADERANGE_80-89</td>\n",
       "      <td>0.005842</td>\n",
       "    </tr>\n",
       "    <tr>\n",
       "      <th>86</th>\n",
       "      <td>ohe__YEARMADERANGE_90-99</td>\n",
       "      <td>0.005063</td>\n",
       "    </tr>\n",
       "    <tr>\n",
       "      <th>87</th>\n",
       "      <td>ohe__YEARMADERANGE_Before_50</td>\n",
       "      <td>0.005350</td>\n",
       "    </tr>\n",
       "    <tr>\n",
       "      <th>15</th>\n",
       "      <td>ohe__state_name_Alabama</td>\n",
       "      <td>0.001500</td>\n",
       "    </tr>\n",
       "    <tr>\n",
       "      <th>16</th>\n",
       "      <td>ohe__state_name_Alaska</td>\n",
       "      <td>0.000365</td>\n",
       "    </tr>\n",
       "    <tr>\n",
       "      <th>17</th>\n",
       "      <td>ohe__state_name_Arizona</td>\n",
       "      <td>0.005577</td>\n",
       "    </tr>\n",
       "    <tr>\n",
       "      <th>18</th>\n",
       "      <td>ohe__state_name_Arkansas</td>\n",
       "      <td>0.001807</td>\n",
       "    </tr>\n",
       "    <tr>\n",
       "      <th>19</th>\n",
       "      <td>ohe__state_name_California</td>\n",
       "      <td>0.004957</td>\n",
       "    </tr>\n",
       "    <tr>\n",
       "      <th>20</th>\n",
       "      <td>ohe__state_name_Colorado</td>\n",
       "      <td>0.000936</td>\n",
       "    </tr>\n",
       "    <tr>\n",
       "      <th>21</th>\n",
       "      <td>ohe__state_name_Connecticut</td>\n",
       "      <td>0.000811</td>\n",
       "    </tr>\n",
       "    <tr>\n",
       "      <th>22</th>\n",
       "      <td>ohe__state_name_Delaware</td>\n",
       "      <td>0.000812</td>\n",
       "    </tr>\n",
       "    <tr>\n",
       "      <th>23</th>\n",
       "      <td>ohe__state_name_District of Columbia</td>\n",
       "      <td>0.000613</td>\n",
       "    </tr>\n",
       "    <tr>\n",
       "      <th>24</th>\n",
       "      <td>ohe__state_name_Florida</td>\n",
       "      <td>0.001563</td>\n",
       "    </tr>\n",
       "    <tr>\n",
       "      <th>25</th>\n",
       "      <td>ohe__state_name_Georgia</td>\n",
       "      <td>0.001372</td>\n",
       "    </tr>\n",
       "    <tr>\n",
       "      <th>26</th>\n",
       "      <td>ohe__state_name_Hawaii</td>\n",
       "      <td>0.000366</td>\n",
       "    </tr>\n",
       "    <tr>\n",
       "      <th>27</th>\n",
       "      <td>ohe__state_name_Idaho</td>\n",
       "      <td>0.002058</td>\n",
       "    </tr>\n",
       "    <tr>\n",
       "      <th>28</th>\n",
       "      <td>ohe__state_name_Illinois</td>\n",
       "      <td>0.001443</td>\n",
       "    </tr>\n",
       "    <tr>\n",
       "      <th>29</th>\n",
       "      <td>ohe__state_name_Indiana</td>\n",
       "      <td>0.003393</td>\n",
       "    </tr>\n",
       "    <tr>\n",
       "      <th>30</th>\n",
       "      <td>ohe__state_name_Iowa</td>\n",
       "      <td>0.002022</td>\n",
       "    </tr>\n",
       "    <tr>\n",
       "      <th>31</th>\n",
       "      <td>ohe__state_name_Kansas</td>\n",
       "      <td>0.001352</td>\n",
       "    </tr>\n",
       "    <tr>\n",
       "      <th>32</th>\n",
       "      <td>ohe__state_name_Kentucky</td>\n",
       "      <td>0.001798</td>\n",
       "    </tr>\n",
       "    <tr>\n",
       "      <th>33</th>\n",
       "      <td>ohe__state_name_Louisiana</td>\n",
       "      <td>0.001545</td>\n",
       "    </tr>\n",
       "    <tr>\n",
       "      <th>34</th>\n",
       "      <td>ohe__state_name_Maine</td>\n",
       "      <td>0.000651</td>\n",
       "    </tr>\n",
       "    <tr>\n",
       "      <th>35</th>\n",
       "      <td>ohe__state_name_Maryland</td>\n",
       "      <td>0.001115</td>\n",
       "    </tr>\n",
       "    <tr>\n",
       "      <th>36</th>\n",
       "      <td>ohe__state_name_Massachusetts</td>\n",
       "      <td>0.001035</td>\n",
       "    </tr>\n",
       "    <tr>\n",
       "      <th>37</th>\n",
       "      <td>ohe__state_name_Michigan</td>\n",
       "      <td>0.001462</td>\n",
       "    </tr>\n",
       "    <tr>\n",
       "      <th>38</th>\n",
       "      <td>ohe__state_name_Minnesota</td>\n",
       "      <td>0.001431</td>\n",
       "    </tr>\n",
       "    <tr>\n",
       "      <th>39</th>\n",
       "      <td>ohe__state_name_Mississippi</td>\n",
       "      <td>0.001385</td>\n",
       "    </tr>\n",
       "    <tr>\n",
       "      <th>40</th>\n",
       "      <td>ohe__state_name_Missouri</td>\n",
       "      <td>0.002369</td>\n",
       "    </tr>\n",
       "    <tr>\n",
       "      <th>41</th>\n",
       "      <td>ohe__state_name_Montana</td>\n",
       "      <td>0.001407</td>\n",
       "    </tr>\n",
       "    <tr>\n",
       "      <th>42</th>\n",
       "      <td>ohe__state_name_Nebraska</td>\n",
       "      <td>0.001496</td>\n",
       "    </tr>\n",
       "    <tr>\n",
       "      <th>43</th>\n",
       "      <td>ohe__state_name_Nevada</td>\n",
       "      <td>0.003076</td>\n",
       "    </tr>\n",
       "    <tr>\n",
       "      <th>44</th>\n",
       "      <td>ohe__state_name_New Hampshire</td>\n",
       "      <td>0.000481</td>\n",
       "    </tr>\n",
       "    <tr>\n",
       "      <th>45</th>\n",
       "      <td>ohe__state_name_New Jersey</td>\n",
       "      <td>0.000834</td>\n",
       "    </tr>\n",
       "    <tr>\n",
       "      <th>46</th>\n",
       "      <td>ohe__state_name_New Mexico</td>\n",
       "      <td>0.000485</td>\n",
       "    </tr>\n",
       "    <tr>\n",
       "      <th>47</th>\n",
       "      <td>ohe__state_name_New York</td>\n",
       "      <td>0.002444</td>\n",
       "    </tr>\n",
       "    <tr>\n",
       "      <th>48</th>\n",
       "      <td>ohe__state_name_North Carolina</td>\n",
       "      <td>0.001715</td>\n",
       "    </tr>\n",
       "    <tr>\n",
       "      <th>49</th>\n",
       "      <td>ohe__state_name_North Dakota</td>\n",
       "      <td>0.003776</td>\n",
       "    </tr>\n",
       "    <tr>\n",
       "      <th>50</th>\n",
       "      <td>ohe__state_name_Ohio</td>\n",
       "      <td>0.002008</td>\n",
       "    </tr>\n",
       "    <tr>\n",
       "      <th>51</th>\n",
       "      <td>ohe__state_name_Oklahoma</td>\n",
       "      <td>0.001741</td>\n",
       "    </tr>\n",
       "    <tr>\n",
       "      <th>52</th>\n",
       "      <td>ohe__state_name_Oregon</td>\n",
       "      <td>0.003310</td>\n",
       "    </tr>\n",
       "    <tr>\n",
       "      <th>53</th>\n",
       "      <td>ohe__state_name_Pennsylvania</td>\n",
       "      <td>0.002350</td>\n",
       "    </tr>\n",
       "    <tr>\n",
       "      <th>54</th>\n",
       "      <td>ohe__state_name_Rhode Island</td>\n",
       "      <td>0.000433</td>\n",
       "    </tr>\n",
       "    <tr>\n",
       "      <th>55</th>\n",
       "      <td>ohe__state_name_South Carolina</td>\n",
       "      <td>0.001920</td>\n",
       "    </tr>\n",
       "    <tr>\n",
       "      <th>56</th>\n",
       "      <td>ohe__state_name_South Dakota</td>\n",
       "      <td>0.001497</td>\n",
       "    </tr>\n",
       "    <tr>\n",
       "      <th>57</th>\n",
       "      <td>ohe__state_name_Tennessee</td>\n",
       "      <td>0.001738</td>\n",
       "    </tr>\n",
       "    <tr>\n",
       "      <th>58</th>\n",
       "      <td>ohe__state_name_Texas</td>\n",
       "      <td>0.002354</td>\n",
       "    </tr>\n",
       "    <tr>\n",
       "      <th>59</th>\n",
       "      <td>ohe__state_name_Utah</td>\n",
       "      <td>0.000600</td>\n",
       "    </tr>\n",
       "    <tr>\n",
       "      <th>60</th>\n",
       "      <td>ohe__state_name_Vermont</td>\n",
       "      <td>0.000312</td>\n",
       "    </tr>\n",
       "    <tr>\n",
       "      <th>61</th>\n",
       "      <td>ohe__state_name_Virginia</td>\n",
       "      <td>0.005348</td>\n",
       "    </tr>\n",
       "    <tr>\n",
       "      <th>62</th>\n",
       "      <td>ohe__state_name_Washington</td>\n",
       "      <td>0.002913</td>\n",
       "    </tr>\n",
       "    <tr>\n",
       "      <th>63</th>\n",
       "      <td>ohe__state_name_West Virginia</td>\n",
       "      <td>0.001396</td>\n",
       "    </tr>\n",
       "    <tr>\n",
       "      <th>64</th>\n",
       "      <td>ohe__state_name_Wisconsin</td>\n",
       "      <td>0.001197</td>\n",
       "    </tr>\n",
       "    <tr>\n",
       "      <th>65</th>\n",
       "      <td>ohe__state_name_Wyoming</td>\n",
       "      <td>0.001414</td>\n",
       "    </tr>\n",
       "    <tr>\n",
       "      <th>127</th>\n",
       "      <td>remainder__AIRCOND</td>\n",
       "      <td>0.006833</td>\n",
       "    </tr>\n",
       "    <tr>\n",
       "      <th>123</th>\n",
       "      <td>remainder__CWASHER</td>\n",
       "      <td>0.004149</td>\n",
       "    </tr>\n",
       "    <tr>\n",
       "      <th>122</th>\n",
       "      <td>remainder__DISHWASH</td>\n",
       "      <td>0.004580</td>\n",
       "    </tr>\n",
       "    <tr>\n",
       "      <th>124</th>\n",
       "      <td>remainder__DRYER</td>\n",
       "      <td>0.007375</td>\n",
       "    </tr>\n",
       "    <tr>\n",
       "      <th>126</th>\n",
       "      <td>remainder__HEATHOME</td>\n",
       "      <td>0.001180</td>\n",
       "    </tr>\n",
       "    <tr>\n",
       "      <th>121</th>\n",
       "      <td>remainder__SMARTMETER</td>\n",
       "      <td>0.006888</td>\n",
       "    </tr>\n",
       "    <tr>\n",
       "      <th>120</th>\n",
       "      <td>remainder__SOLAR</td>\n",
       "      <td>0.002161</td>\n",
       "    </tr>\n",
       "    <tr>\n",
       "      <th>119</th>\n",
       "      <td>remainder__SWIMPOOL</td>\n",
       "      <td>0.031452</td>\n",
       "    </tr>\n",
       "    <tr>\n",
       "      <th>125</th>\n",
       "      <td>remainder__TELLWORK</td>\n",
       "      <td>0.005930</td>\n",
       "    </tr>\n",
       "  </tbody>\n",
       "</table>\n",
       "</div>"
      ],
      "text/plain": [
       "                                    index         0\n",
       "5                          min_max__MICRO  0.005087\n",
       "7                       min_max__NHSLDMEM  0.057803\n",
       "4                        min_max__NUMFRIG  0.030783\n",
       "0                      min_max__NUMPORTEL  0.018243\n",
       "2                        min_max__SQFTEST  0.188624\n",
       "1                        min_max__STORIES  0.008564\n",
       "8                     min_max__TOTAL_BATH  0.016074\n",
       "9                     min_max__TOTAL_COMP  0.024478\n",
       "10                   min_max__TOTAL_LIGHT  0.055183\n",
       "3                       min_max__TOTROOMS  0.046265\n",
       "6                        min_max__TVCOLOR  0.061874\n",
       "66                   ohe__BA_climate_Cold  0.004112\n",
       "67                ohe__BA_climate_Hot-Dry  0.001887\n",
       "68              ohe__BA_climate_Hot-Humid  0.002722\n",
       "69                 ohe__BA_climate_Marine  0.001457\n",
       "70              ohe__BA_climate_Mixed-Dry  0.000370\n",
       "71            ohe__BA_climate_Mixed-Humid  0.003980\n",
       "72              ohe__BA_climate_Subarctic  0.000126\n",
       "73              ohe__BA_climate_Very-Cold  0.002244\n",
       "110              ohe__EQUIPM_Central_heat  0.036180\n",
       "111             ohe__EQUIPM_Ductless_heat  0.001969\n",
       "112           ohe__EQUIPM_Electric_heater  0.001520\n",
       "113            ohe__EQUIPM_Electric_units  0.020575\n",
       "114                   ohe__EQUIPM_Furnace  0.007426\n",
       "115                     ohe__EQUIPM_Other  0.001532\n",
       "116               ohe__EQUIPM_Room_heater  0.001171\n",
       "117                     ohe__EQUIPM_Steam  0.003259\n",
       "118                      ohe__EQUIPM_Wood  0.002158\n",
       "11                   ohe__REGIONC_MIDWEST  0.006702\n",
       "12                 ohe__REGIONC_NORTHEAST  0.002673\n",
       "13                     ohe__REGIONC_SOUTH  0.079936\n",
       "14                      ohe__REGIONC_WEST  0.001849\n",
       "96                  ohe__ROOFTYPE_Ceramic  0.002218\n",
       "97                 ohe__ROOFTYPE_Concrete  0.001435\n",
       "98                    ohe__ROOFTYPE_Metal  0.005215\n",
       "99                    ohe__ROOFTYPE_Other  0.005138\n",
       "100                 ohe__ROOFTYPE_Shingle  0.004487\n",
       "101                   ohe__ROOFTYPE_Slate  0.000759\n",
       "102                    ohe__ROOFTYPE_Wood  0.002176\n",
       "74            ohe__TYPEHUQ_Appartment_big  0.003967\n",
       "75          ohe__TYPEHUQ_Appartment_small  0.001741\n",
       "76                    ohe__TYPEHUQ_Mobile  0.008136\n",
       "77           ohe__TYPEHUQ_Single_attached  0.003515\n",
       "78           ohe__TYPEHUQ_Single_detached  0.009196\n",
       "88                    ohe__WALLTYPE_Brick  0.005246\n",
       "89                 ohe__WALLTYPE_Concrete  0.002468\n",
       "90                    ohe__WALLTYPE_Other  0.000219\n",
       "91                  ohe__WALLTYPE_Shingle  0.001128\n",
       "92                   ohe__WALLTYPE_Siding  0.007003\n",
       "93                    ohe__WALLTYPE_Stone  0.001105\n",
       "94                   ohe__WALLTYPE_Stucco  0.002464\n",
       "95                     ohe__WALLTYPE_Wood  0.004243\n",
       "103                        ohe__WINDOWS_1  0.000581\n",
       "104                        ohe__WINDOWS_2  0.002619\n",
       "105                        ohe__WINDOWS_3  0.005025\n",
       "106                        ohe__WINDOWS_4  0.007015\n",
       "107                        ohe__WINDOWS_5  0.004892\n",
       "108                        ohe__WINDOWS_6  0.004065\n",
       "109                        ohe__WINDOWS_7  0.002030\n",
       "79               ohe__YEARMADERANGE_00-09  0.004789\n",
       "80             ohe__YEARMADERANGE_2010-15  0.003794\n",
       "81             ohe__YEARMADERANGE_2016-20  0.003025\n",
       "82               ohe__YEARMADERANGE_50-59  0.004577\n",
       "83               ohe__YEARMADERANGE_60-69  0.004090\n",
       "84               ohe__YEARMADERANGE_70-79  0.008029\n",
       "85               ohe__YEARMADERANGE_80-89  0.005842\n",
       "86               ohe__YEARMADERANGE_90-99  0.005063\n",
       "87           ohe__YEARMADERANGE_Before_50  0.005350\n",
       "15                ohe__state_name_Alabama  0.001500\n",
       "16                 ohe__state_name_Alaska  0.000365\n",
       "17                ohe__state_name_Arizona  0.005577\n",
       "18               ohe__state_name_Arkansas  0.001807\n",
       "19             ohe__state_name_California  0.004957\n",
       "20               ohe__state_name_Colorado  0.000936\n",
       "21            ohe__state_name_Connecticut  0.000811\n",
       "22               ohe__state_name_Delaware  0.000812\n",
       "23   ohe__state_name_District of Columbia  0.000613\n",
       "24                ohe__state_name_Florida  0.001563\n",
       "25                ohe__state_name_Georgia  0.001372\n",
       "26                 ohe__state_name_Hawaii  0.000366\n",
       "27                  ohe__state_name_Idaho  0.002058\n",
       "28               ohe__state_name_Illinois  0.001443\n",
       "29                ohe__state_name_Indiana  0.003393\n",
       "30                   ohe__state_name_Iowa  0.002022\n",
       "31                 ohe__state_name_Kansas  0.001352\n",
       "32               ohe__state_name_Kentucky  0.001798\n",
       "33              ohe__state_name_Louisiana  0.001545\n",
       "34                  ohe__state_name_Maine  0.000651\n",
       "35               ohe__state_name_Maryland  0.001115\n",
       "36          ohe__state_name_Massachusetts  0.001035\n",
       "37               ohe__state_name_Michigan  0.001462\n",
       "38              ohe__state_name_Minnesota  0.001431\n",
       "39            ohe__state_name_Mississippi  0.001385\n",
       "40               ohe__state_name_Missouri  0.002369\n",
       "41                ohe__state_name_Montana  0.001407\n",
       "42               ohe__state_name_Nebraska  0.001496\n",
       "43                 ohe__state_name_Nevada  0.003076\n",
       "44          ohe__state_name_New Hampshire  0.000481\n",
       "45             ohe__state_name_New Jersey  0.000834\n",
       "46             ohe__state_name_New Mexico  0.000485\n",
       "47               ohe__state_name_New York  0.002444\n",
       "48         ohe__state_name_North Carolina  0.001715\n",
       "49           ohe__state_name_North Dakota  0.003776\n",
       "50                   ohe__state_name_Ohio  0.002008\n",
       "51               ohe__state_name_Oklahoma  0.001741\n",
       "52                 ohe__state_name_Oregon  0.003310\n",
       "53           ohe__state_name_Pennsylvania  0.002350\n",
       "54           ohe__state_name_Rhode Island  0.000433\n",
       "55         ohe__state_name_South Carolina  0.001920\n",
       "56           ohe__state_name_South Dakota  0.001497\n",
       "57              ohe__state_name_Tennessee  0.001738\n",
       "58                  ohe__state_name_Texas  0.002354\n",
       "59                   ohe__state_name_Utah  0.000600\n",
       "60                ohe__state_name_Vermont  0.000312\n",
       "61               ohe__state_name_Virginia  0.005348\n",
       "62             ohe__state_name_Washington  0.002913\n",
       "63          ohe__state_name_West Virginia  0.001396\n",
       "64              ohe__state_name_Wisconsin  0.001197\n",
       "65                ohe__state_name_Wyoming  0.001414\n",
       "127                    remainder__AIRCOND  0.006833\n",
       "123                    remainder__CWASHER  0.004149\n",
       "122                   remainder__DISHWASH  0.004580\n",
       "124                      remainder__DRYER  0.007375\n",
       "126                   remainder__HEATHOME  0.001180\n",
       "121                 remainder__SMARTMETER  0.006888\n",
       "120                      remainder__SOLAR  0.002161\n",
       "119                   remainder__SWIMPOOL  0.031452\n",
       "125                   remainder__TELLWORK  0.005930"
      ]
     },
     "execution_count": 331,
     "metadata": {},
     "output_type": "execute_result"
    }
   ],
   "source": [
    "pd.set_option('display.max_rows', None)\n",
    "\n",
    "rfg_df = pd.DataFrame(model.feature_importances_, index=preprocessor.get_feature_names_out())\n",
    "\n",
    "rfg_df.reset_index().sort_values(by=\"index\")"
   ]
  },
  {
   "cell_type": "markdown",
   "id": "a29c0f13-434a-46e3-97c1-d6d735aae21b",
   "metadata": {},
   "source": [
    "### Testing model with all values"
   ]
  },
  {
   "cell_type": "code",
   "execution_count": 266,
   "id": "2551a638-e614-452e-bf61-fcd7b987523e",
   "metadata": {},
   "outputs": [],
   "source": [
    "df = call_data_url()"
   ]
  },
  {
   "cell_type": "code",
   "execution_count": 267,
   "id": "78ec9a8b-8901-44db-b113-65cc976d104d",
   "metadata": {},
   "outputs": [],
   "source": [
    "df = filter_data(df)"
   ]
  },
  {
   "cell_type": "code",
   "execution_count": 268,
   "id": "84ca3ba3-0dee-4b0b-8cac-fcbdd6d45197",
   "metadata": {},
   "outputs": [],
   "source": [
    "df = clean_data(df)"
   ]
  },
  {
   "cell_type": "code",
   "execution_count": 269,
   "id": "a01cddeb-af75-4a90-ad01-8bbd11728079",
   "metadata": {},
   "outputs": [],
   "source": [
    "X , y = get_xy(df)"
   ]
  },
  {
   "cell_type": "code",
   "execution_count": 270,
   "id": "03faf187-3afa-4c81-9178-67a0af28f8fa",
   "metadata": {},
   "outputs": [],
   "source": [
    "X_train, X_test, y_train, y_test =  train_test_split(X,y, test_size=0.3)\n",
    "y_train_p = np.log(y_train.astype(\"float\"))\n",
    "y_test_p = np.log(y_test.astype(\"float\"))"
   ]
  },
  {
   "cell_type": "code",
   "execution_count": 271,
   "id": "07505dae-1a8d-41f2-93e4-18e8192c5a56",
   "metadata": {},
   "outputs": [],
   "source": [
    "prep = preprocessing(X_train)"
   ]
  },
  {
   "cell_type": "code",
   "execution_count": 272,
   "id": "54379c7c-950e-40b5-883b-88cbffd8d8d8",
   "metadata": {},
   "outputs": [],
   "source": [
    "X_trans = prep.transform(X_train)"
   ]
  },
  {
   "cell_type": "code",
   "execution_count": 273,
   "id": "e5436512-3fed-4d93-9bc3-94376c31b2ec",
   "metadata": {},
   "outputs": [],
   "source": [
    "model = LinearRegression()"
   ]
  },
  {
   "cell_type": "code",
   "execution_count": 274,
   "id": "5e17b8bb-d66c-4849-92a9-b0671b5b8bff",
   "metadata": {},
   "outputs": [
    {
     "data": {
      "text/html": [
       "<style>#sk-container-id-17 {color: black;}#sk-container-id-17 pre{padding: 0;}#sk-container-id-17 div.sk-toggleable {background-color: white;}#sk-container-id-17 label.sk-toggleable__label {cursor: pointer;display: block;width: 100%;margin-bottom: 0;padding: 0.3em;box-sizing: border-box;text-align: center;}#sk-container-id-17 label.sk-toggleable__label-arrow:before {content: \"▸\";float: left;margin-right: 0.25em;color: #696969;}#sk-container-id-17 label.sk-toggleable__label-arrow:hover:before {color: black;}#sk-container-id-17 div.sk-estimator:hover label.sk-toggleable__label-arrow:before {color: black;}#sk-container-id-17 div.sk-toggleable__content {max-height: 0;max-width: 0;overflow: hidden;text-align: left;background-color: #f0f8ff;}#sk-container-id-17 div.sk-toggleable__content pre {margin: 0.2em;color: black;border-radius: 0.25em;background-color: #f0f8ff;}#sk-container-id-17 input.sk-toggleable__control:checked~div.sk-toggleable__content {max-height: 200px;max-width: 100%;overflow: auto;}#sk-container-id-17 input.sk-toggleable__control:checked~label.sk-toggleable__label-arrow:before {content: \"▾\";}#sk-container-id-17 div.sk-estimator input.sk-toggleable__control:checked~label.sk-toggleable__label {background-color: #d4ebff;}#sk-container-id-17 div.sk-label input.sk-toggleable__control:checked~label.sk-toggleable__label {background-color: #d4ebff;}#sk-container-id-17 input.sk-hidden--visually {border: 0;clip: rect(1px 1px 1px 1px);clip: rect(1px, 1px, 1px, 1px);height: 1px;margin: -1px;overflow: hidden;padding: 0;position: absolute;width: 1px;}#sk-container-id-17 div.sk-estimator {font-family: monospace;background-color: #f0f8ff;border: 1px dotted black;border-radius: 0.25em;box-sizing: border-box;margin-bottom: 0.5em;}#sk-container-id-17 div.sk-estimator:hover {background-color: #d4ebff;}#sk-container-id-17 div.sk-parallel-item::after {content: \"\";width: 100%;border-bottom: 1px solid gray;flex-grow: 1;}#sk-container-id-17 div.sk-label:hover label.sk-toggleable__label {background-color: #d4ebff;}#sk-container-id-17 div.sk-serial::before {content: \"\";position: absolute;border-left: 1px solid gray;box-sizing: border-box;top: 0;bottom: 0;left: 50%;z-index: 0;}#sk-container-id-17 div.sk-serial {display: flex;flex-direction: column;align-items: center;background-color: white;padding-right: 0.2em;padding-left: 0.2em;position: relative;}#sk-container-id-17 div.sk-item {position: relative;z-index: 1;}#sk-container-id-17 div.sk-parallel {display: flex;align-items: stretch;justify-content: center;background-color: white;position: relative;}#sk-container-id-17 div.sk-item::before, #sk-container-id-17 div.sk-parallel-item::before {content: \"\";position: absolute;border-left: 1px solid gray;box-sizing: border-box;top: 0;bottom: 0;left: 50%;z-index: -1;}#sk-container-id-17 div.sk-parallel-item {display: flex;flex-direction: column;z-index: 1;position: relative;background-color: white;}#sk-container-id-17 div.sk-parallel-item:first-child::after {align-self: flex-end;width: 50%;}#sk-container-id-17 div.sk-parallel-item:last-child::after {align-self: flex-start;width: 50%;}#sk-container-id-17 div.sk-parallel-item:only-child::after {width: 0;}#sk-container-id-17 div.sk-dashed-wrapped {border: 1px dashed gray;margin: 0 0.4em 0.5em 0.4em;box-sizing: border-box;padding-bottom: 0.4em;background-color: white;}#sk-container-id-17 div.sk-label label {font-family: monospace;font-weight: bold;display: inline-block;line-height: 1.2em;}#sk-container-id-17 div.sk-label-container {text-align: center;}#sk-container-id-17 div.sk-container {/* jupyter's `normalize.less` sets `[hidden] { display: none; }` but bootstrap.min.css set `[hidden] { display: none !important; }` so we also need the `!important` here to be able to override the default hidden behavior on the sphinx rendered scikit-learn.org. See: https://github.com/scikit-learn/scikit-learn/issues/21755 */display: inline-block !important;position: relative;}#sk-container-id-17 div.sk-text-repr-fallback {display: none;}</style><div id=\"sk-container-id-17\" class=\"sk-top-container\"><div class=\"sk-text-repr-fallback\"><pre>LinearRegression()</pre><b>In a Jupyter environment, please rerun this cell to show the HTML representation or trust the notebook. <br />On GitHub, the HTML representation is unable to render, please try loading this page with nbviewer.org.</b></div><div class=\"sk-container\" hidden><div class=\"sk-item\"><div class=\"sk-estimator sk-toggleable\"><input class=\"sk-toggleable__control sk-hidden--visually\" id=\"sk-estimator-id-123\" type=\"checkbox\" checked><label for=\"sk-estimator-id-123\" class=\"sk-toggleable__label sk-toggleable__label-arrow\">LinearRegression</label><div class=\"sk-toggleable__content\"><pre>LinearRegression()</pre></div></div></div></div></div>"
      ],
      "text/plain": [
       "LinearRegression()"
      ]
     },
     "execution_count": 274,
     "metadata": {},
     "output_type": "execute_result"
    }
   ],
   "source": [
    "model.fit(X_trans, y_train)"
   ]
  },
  {
   "cell_type": "code",
   "execution_count": 275,
   "id": "8c47c2c0-e635-4173-99b9-e87316498873",
   "metadata": {},
   "outputs": [
    {
     "data": {
      "text/plain": [
       "0.49268817807784976"
      ]
     },
     "execution_count": 275,
     "metadata": {},
     "output_type": "execute_result"
    }
   ],
   "source": [
    "cross_validate(model , X_trans, y_train, cv=5 )[\"test_score\"].mean()"
   ]
  },
  {
   "cell_type": "code",
   "execution_count": 276,
   "id": "941d6770-638b-466c-9a7e-0b6d25c0e803",
   "metadata": {},
   "outputs": [
    {
     "data": {
      "text/plain": [
       "0.5366381288240587"
      ]
     },
     "execution_count": 276,
     "metadata": {},
     "output_type": "execute_result"
    }
   ],
   "source": [
    "cross_validate(model , X_trans, y_train_p, cv=5 )[\"test_score\"].mean()"
   ]
  },
  {
   "cell_type": "code",
   "execution_count": 277,
   "id": "320f7c11-ad86-45e5-a761-4b9f9da55765",
   "metadata": {},
   "outputs": [],
   "source": [
    "X_test_trans = prep.transform(X_test)"
   ]
  },
  {
   "cell_type": "code",
   "execution_count": 293,
   "id": "582c2f10-91c5-4bb9-a14d-becf58889179",
   "metadata": {},
   "outputs": [
    {
     "data": {
      "text/html": [
       "<div>\n",
       "<style scoped>\n",
       "    .dataframe tbody tr th:only-of-type {\n",
       "        vertical-align: middle;\n",
       "    }\n",
       "\n",
       "    .dataframe tbody tr th {\n",
       "        vertical-align: top;\n",
       "    }\n",
       "\n",
       "    .dataframe thead th {\n",
       "        text-align: right;\n",
       "    }\n",
       "</style>\n",
       "<table border=\"1\" class=\"dataframe\">\n",
       "  <thead>\n",
       "    <tr style=\"text-align: right;\">\n",
       "      <th></th>\n",
       "      <th>0</th>\n",
       "      <th>1</th>\n",
       "      <th>2</th>\n",
       "      <th>3</th>\n",
       "      <th>4</th>\n",
       "      <th>5</th>\n",
       "      <th>6</th>\n",
       "      <th>7</th>\n",
       "      <th>8</th>\n",
       "      <th>9</th>\n",
       "      <th>...</th>\n",
       "      <th>118</th>\n",
       "      <th>119</th>\n",
       "      <th>120</th>\n",
       "      <th>121</th>\n",
       "      <th>122</th>\n",
       "      <th>123</th>\n",
       "      <th>124</th>\n",
       "      <th>125</th>\n",
       "      <th>126</th>\n",
       "      <th>127</th>\n",
       "    </tr>\n",
       "  </thead>\n",
       "  <tbody>\n",
       "    <tr>\n",
       "      <th>0</th>\n",
       "      <td>0.0</td>\n",
       "      <td>0.0</td>\n",
       "      <td>0.077053</td>\n",
       "      <td>0.285714</td>\n",
       "      <td>0.111111</td>\n",
       "      <td>0.333333</td>\n",
       "      <td>0.071429</td>\n",
       "      <td>0.5</td>\n",
       "      <td>0.2</td>\n",
       "      <td>0.090909</td>\n",
       "      <td>...</td>\n",
       "      <td>0.0</td>\n",
       "      <td>0</td>\n",
       "      <td>0</td>\n",
       "      <td>0</td>\n",
       "      <td>1</td>\n",
       "      <td>1</td>\n",
       "      <td>1</td>\n",
       "      <td>1</td>\n",
       "      <td>1</td>\n",
       "      <td>1</td>\n",
       "    </tr>\n",
       "  </tbody>\n",
       "</table>\n",
       "<p>1 rows × 128 columns</p>\n",
       "</div>"
      ],
      "text/plain": [
       "   0    1         2         3         4         5         6    7    8    \\\n",
       "0  0.0  0.0  0.077053  0.285714  0.111111  0.333333  0.071429  0.5  0.2   \n",
       "\n",
       "        9    ...  118 119 120 121 122 123 124 125 126 127  \n",
       "0  0.090909  ...  0.0   0   0   0   1   1   1   1   1   1  \n",
       "\n",
       "[1 rows x 128 columns]"
      ]
     },
     "execution_count": 293,
     "metadata": {},
     "output_type": "execute_result"
    }
   ],
   "source": [
    "pd.DataFrame(X_test_trans[0]).T"
   ]
  },
  {
   "cell_type": "code",
   "execution_count": 294,
   "id": "d4a2b794-a0d3-4c30-b0f9-078461eb0736",
   "metadata": {},
   "outputs": [
    {
     "data": {
      "text/plain": [
       "array([9544.])"
      ]
     },
     "execution_count": 294,
     "metadata": {},
     "output_type": "execute_result"
    }
   ],
   "source": [
    "model.predict(pd.DataFrame(X_test_trans[0]).T)"
   ]
  },
  {
   "cell_type": "markdown",
   "id": "dffd16a0-12c8-49f5-93e8-4b3d406911a8",
   "metadata": {},
   "source": [
    "### Without FINAL FEATURES"
   ]
  },
  {
   "cell_type": "code",
   "execution_count": 11,
   "id": "5247863b-fd17-4238-96ac-da4af8bc4a4f",
   "metadata": {},
   "outputs": [],
   "source": [
    "import pandas as pd\n",
    "import numpy as np\n",
    "from sklearn.impute import SimpleImputer\n",
    "from sklearn.pipeline import Pipeline\n",
    "from sklearn.impute import SimpleImputer\n",
    "from sklearn.compose import ColumnTransformer\n",
    "from sklearn.preprocessing import OneHotEncoder\n",
    "\n",
    "def clean_data_2(df,min_perc=0.005, max_perc=0.995):\n",
    "    \"\"\"This set cleans the data to have it in the correct format before preprocessing\"\"\"\n",
    "\n",
    "    #Maping features\n",
    "    TYPEHUQ_map = {1: \"Mobile\", 2: \"Single_detached\",3: \"Single_attached\",\n",
    "                   4: \"Appartment_small\" ,5: \"Appartment_big\"}\n",
    "    \n",
    "    YEARMADERANGE_map = {1: \"Before_50\", 2:\"50-59\", 3:\"60-69\",\n",
    "                         4: \"70-79\", 5: \"80-89\", 6:\"90-99\", 7:\"00-09\",\n",
    "                         8:\"2010-15\", 9:\"2016-20\" }\n",
    "    EQUIPM_map = {3:\"Furnace\", 2: \"Steam\", 4: \"Central_heat\", 13: \"Ductless_heat\",\n",
    "                5: \"Electric_units\", 7: \"Room_heater\", 8 : \"Wood\",\n",
    "                10:\"Electric_heater\", 99:\"Other\", -2:\"Other\"}\n",
    "\n",
    "    dics_transform = [TYPEHUQ_map, YEARMADERANGE_map, EQUIPM_map]\n",
    "    columns_to_transform = [\"TYPEHUQ\", \"YEARMADERANGE\", \"EQUIPM\"]\n",
    "\n",
    "    for x , y in zip(dics_transform,columns_to_transform):\n",
    "        df[y] = df[y].map(x)\n",
    "\n",
    "    #Combine new features\n",
    "    df[\"TOTAL_BATH\"] = df[\"NCOMBATH\"] + df[\"NHAFBATH\"]\n",
    "    df.drop( [\"NCOMBATH\", \"NHAFBATH\"] ,axis=1, inplace = True)\n",
    "\n",
    "    df[\"TOTAL_COMP\"] = df[\"DESKTOP\"] + df[\"NUMLAPTOP\"]\n",
    "    df.drop( [\"DESKTOP\", \"NUMLAPTOP\"] ,axis=1, inplace = True)\n",
    "\n",
    "    df[\"TOTAL_LIGHT\"] = df[\"LGTIN1TO4\"] + df[\"LGTIN4TO8\"] + df[\"LGTINMORE8\"]\n",
    "    df.drop( [\"LGTIN1TO4\", \"LGTIN4TO8\", \"LGTINMORE8\"] ,axis=1, inplace = True)\n",
    "\n",
    "    df[\"STORIES\"] = df[\"STORIES\"].replace(-2,1)\n",
    "    df[\"STORIES\"] = df[\"STORIES\"].replace(5,2)\n",
    "\n",
    "    #Impute features\n",
    "    features_imputer2 = ['SWIMPOOL', 'NUMPORTEL']\n",
    "    features_imputer4 = ['SMARTMETER']\n",
    "    #to_ohe_encode = ['REGIONC', 'state_name','BA_climate','TYPEHUQ','YEARMADERANGE','WALLTYPE','ROOFTYPE','WINDOWS','EQUIPM']\n",
    "\n",
    "    imputer_2 = SimpleImputer(strategy='constant', missing_values=-2, fill_value=0)\n",
    "    imputer_4 = SimpleImputer(strategy='constant', missing_values=-4, fill_value=0)\n",
    "    #ohe = OneHotEncoder(sparse_output=False, handle_unknown='ignore')\n",
    "\n",
    "    preprocessor = ColumnTransformer(transformers=[('imputer_2',imputer_2, features_imputer2),\n",
    "                                                ('imputer_4',imputer_4, features_imputer4)],\n",
    "                                                #('ohe', ohe, to_ohe_encode)],\n",
    "                                                    remainder = \"passthrough\")\n",
    "\n",
    "    preprocessor.fit(df)\n",
    "\n",
    "    cols = [x.split(\"__\")[1] for x in preprocessor.get_feature_names_out()]\n",
    "\n",
    "    df_clean = pd.DataFrame(preprocessor.transform(df),\n",
    "                       columns = cols)\n",
    "\n",
    "    return df_clean\n"
   ]
  },
  {
   "cell_type": "code",
   "execution_count": 223,
   "id": "08c1f946-337f-4c65-b7fe-e47148146310",
   "metadata": {},
   "outputs": [],
   "source": [
    "#df = df.drop([\"WALLTYPE\", \"ROOFTYPE\"], axis = 1)"
   ]
  },
  {
   "cell_type": "code",
   "execution_count": 39,
   "id": "81f1fe6f-cb6f-45bb-bd3f-8ee591c1b0fa",
   "metadata": {},
   "outputs": [],
   "source": [
    "df_new = call_data_url()\n",
    "df = df_new.drop([\"WALLTYPE\", \"ROOFTYPE\", \"REGIONC\", \"TELLWORK\", \"SOLAR\"], axis = 1)\n",
    "df = filter_data(df)\n",
    "df = clean_data_2(df)\n",
    "X , y = get_xy(df)\n",
    "X_train, X_test, y_train, y_test =  train_test_split(X,y, test_size=0.3)\n",
    "y_train_p = np.log(y_train.astype(\"float\"))\n",
    "y_test_p = np.log(y_test.astype(\"float\"))"
   ]
  },
  {
   "cell_type": "code",
   "execution_count": 14,
   "id": "fe01bb19-a90b-44fe-b06e-84ef2f6cbd2c",
   "metadata": {},
   "outputs": [
    {
     "data": {
      "text/plain": [
       "Index(['SWIMPOOL', 'NUMPORTEL', 'SMARTMETER', 'state_name', 'BA_climate',\n",
       "       'TYPEHUQ', 'STORIES', 'YEARMADERANGE', 'TOTROOMS', 'WINDOWS', 'NUMFRIG',\n",
       "       'MICRO', 'DISHWASH', 'CWASHER', 'DRYER', 'TVCOLOR', 'HEATHOME',\n",
       "       'EQUIPM', 'AIRCOND', 'NHSLDMEM', 'SQFTEST', 'TOTAL_BATH', 'TOTAL_COMP',\n",
       "       'TOTAL_LIGHT'],\n",
       "      dtype='object')"
      ]
     },
     "execution_count": 14,
     "metadata": {},
     "output_type": "execute_result"
    }
   ],
   "source": [
    "X_train.columns"
   ]
  },
  {
   "cell_type": "code",
   "execution_count": 15,
   "id": "1916a081-2e81-4bc5-8039-0cd59d578912",
   "metadata": {},
   "outputs": [],
   "source": [
    "from sklearn.ensemble import RandomForestRegressor\n",
    "\n",
    "to_ohe_encode = ['state_name','BA_climate','TYPEHUQ',\n",
    "                     'YEARMADERANGE','WINDOWS','EQUIPM']\n",
    "\n",
    "to_scale = [\"NUMPORTEL\", \"STORIES\",\"SQFTEST\",\n",
    "            \"TOTROOMS\", \"NUMFRIG\", \"MICRO\", \"TVCOLOR\",\"NHSLDMEM\",\n",
    "            \"TOTAL_BATH\", \"TOTAL_COMP\", \"TOTAL_LIGHT\" ]\n",
    "\n",
    "min_max = MinMaxScaler()\n",
    "ohe = OneHotEncoder(sparse_output=False, handle_unknown='ignore', drop=\"first\")\n",
    "\n",
    "\n",
    "prep2 = ColumnTransformer(transformers=[\n",
    "                                            ('min_max', min_max, to_scale),\n",
    "                                            ('ohe', ohe, to_ohe_encode)],\n",
    "                                            remainder = \"passthrough\")\n",
    "\n",
    "pipe = Pipeline([(\"prep\", prep2 ),(\"model\", LinearRegression())])"
   ]
  },
  {
   "cell_type": "code",
   "execution_count": 40,
   "id": "03b55230-0214-4d90-b71d-e9565795d4ea",
   "metadata": {},
   "outputs": [
    {
     "data": {
      "text/html": [
       "<style>#sk-container-id-2 {color: black;}#sk-container-id-2 pre{padding: 0;}#sk-container-id-2 div.sk-toggleable {background-color: white;}#sk-container-id-2 label.sk-toggleable__label {cursor: pointer;display: block;width: 100%;margin-bottom: 0;padding: 0.3em;box-sizing: border-box;text-align: center;}#sk-container-id-2 label.sk-toggleable__label-arrow:before {content: \"▸\";float: left;margin-right: 0.25em;color: #696969;}#sk-container-id-2 label.sk-toggleable__label-arrow:hover:before {color: black;}#sk-container-id-2 div.sk-estimator:hover label.sk-toggleable__label-arrow:before {color: black;}#sk-container-id-2 div.sk-toggleable__content {max-height: 0;max-width: 0;overflow: hidden;text-align: left;background-color: #f0f8ff;}#sk-container-id-2 div.sk-toggleable__content pre {margin: 0.2em;color: black;border-radius: 0.25em;background-color: #f0f8ff;}#sk-container-id-2 input.sk-toggleable__control:checked~div.sk-toggleable__content {max-height: 200px;max-width: 100%;overflow: auto;}#sk-container-id-2 input.sk-toggleable__control:checked~label.sk-toggleable__label-arrow:before {content: \"▾\";}#sk-container-id-2 div.sk-estimator input.sk-toggleable__control:checked~label.sk-toggleable__label {background-color: #d4ebff;}#sk-container-id-2 div.sk-label input.sk-toggleable__control:checked~label.sk-toggleable__label {background-color: #d4ebff;}#sk-container-id-2 input.sk-hidden--visually {border: 0;clip: rect(1px 1px 1px 1px);clip: rect(1px, 1px, 1px, 1px);height: 1px;margin: -1px;overflow: hidden;padding: 0;position: absolute;width: 1px;}#sk-container-id-2 div.sk-estimator {font-family: monospace;background-color: #f0f8ff;border: 1px dotted black;border-radius: 0.25em;box-sizing: border-box;margin-bottom: 0.5em;}#sk-container-id-2 div.sk-estimator:hover {background-color: #d4ebff;}#sk-container-id-2 div.sk-parallel-item::after {content: \"\";width: 100%;border-bottom: 1px solid gray;flex-grow: 1;}#sk-container-id-2 div.sk-label:hover label.sk-toggleable__label {background-color: #d4ebff;}#sk-container-id-2 div.sk-serial::before {content: \"\";position: absolute;border-left: 1px solid gray;box-sizing: border-box;top: 0;bottom: 0;left: 50%;z-index: 0;}#sk-container-id-2 div.sk-serial {display: flex;flex-direction: column;align-items: center;background-color: white;padding-right: 0.2em;padding-left: 0.2em;position: relative;}#sk-container-id-2 div.sk-item {position: relative;z-index: 1;}#sk-container-id-2 div.sk-parallel {display: flex;align-items: stretch;justify-content: center;background-color: white;position: relative;}#sk-container-id-2 div.sk-item::before, #sk-container-id-2 div.sk-parallel-item::before {content: \"\";position: absolute;border-left: 1px solid gray;box-sizing: border-box;top: 0;bottom: 0;left: 50%;z-index: -1;}#sk-container-id-2 div.sk-parallel-item {display: flex;flex-direction: column;z-index: 1;position: relative;background-color: white;}#sk-container-id-2 div.sk-parallel-item:first-child::after {align-self: flex-end;width: 50%;}#sk-container-id-2 div.sk-parallel-item:last-child::after {align-self: flex-start;width: 50%;}#sk-container-id-2 div.sk-parallel-item:only-child::after {width: 0;}#sk-container-id-2 div.sk-dashed-wrapped {border: 1px dashed gray;margin: 0 0.4em 0.5em 0.4em;box-sizing: border-box;padding-bottom: 0.4em;background-color: white;}#sk-container-id-2 div.sk-label label {font-family: monospace;font-weight: bold;display: inline-block;line-height: 1.2em;}#sk-container-id-2 div.sk-label-container {text-align: center;}#sk-container-id-2 div.sk-container {/* jupyter's `normalize.less` sets `[hidden] { display: none; }` but bootstrap.min.css set `[hidden] { display: none !important; }` so we also need the `!important` here to be able to override the default hidden behavior on the sphinx rendered scikit-learn.org. See: https://github.com/scikit-learn/scikit-learn/issues/21755 */display: inline-block !important;position: relative;}#sk-container-id-2 div.sk-text-repr-fallback {display: none;}</style><div id=\"sk-container-id-2\" class=\"sk-top-container\"><div class=\"sk-text-repr-fallback\"><pre>Pipeline(steps=[(&#x27;prep&#x27;,\n",
       "                 ColumnTransformer(remainder=&#x27;passthrough&#x27;,\n",
       "                                   transformers=[(&#x27;min_max&#x27;, MinMaxScaler(),\n",
       "                                                  [&#x27;NUMPORTEL&#x27;, &#x27;STORIES&#x27;,\n",
       "                                                   &#x27;SQFTEST&#x27;, &#x27;TOTROOMS&#x27;,\n",
       "                                                   &#x27;NUMFRIG&#x27;, &#x27;MICRO&#x27;,\n",
       "                                                   &#x27;TVCOLOR&#x27;, &#x27;NHSLDMEM&#x27;,\n",
       "                                                   &#x27;TOTAL_BATH&#x27;, &#x27;TOTAL_COMP&#x27;,\n",
       "                                                   &#x27;TOTAL_LIGHT&#x27;]),\n",
       "                                                 (&#x27;ohe&#x27;,\n",
       "                                                  OneHotEncoder(drop=&#x27;first&#x27;,\n",
       "                                                                handle_unknown=&#x27;ignore&#x27;,\n",
       "                                                                sparse_output=False),\n",
       "                                                  [&#x27;state_name&#x27;, &#x27;BA_climate&#x27;,\n",
       "                                                   &#x27;TYPEHUQ&#x27;, &#x27;YEARMADERANGE&#x27;,\n",
       "                                                   &#x27;WINDOWS&#x27;, &#x27;EQUIPM&#x27;])])),\n",
       "                (&#x27;model&#x27;, LinearRegression())])</pre><b>In a Jupyter environment, please rerun this cell to show the HTML representation or trust the notebook. <br />On GitHub, the HTML representation is unable to render, please try loading this page with nbviewer.org.</b></div><div class=\"sk-container\" hidden><div class=\"sk-item sk-dashed-wrapped\"><div class=\"sk-label-container\"><div class=\"sk-label sk-toggleable\"><input class=\"sk-toggleable__control sk-hidden--visually\" id=\"sk-estimator-id-10\" type=\"checkbox\" ><label for=\"sk-estimator-id-10\" class=\"sk-toggleable__label sk-toggleable__label-arrow\">Pipeline</label><div class=\"sk-toggleable__content\"><pre>Pipeline(steps=[(&#x27;prep&#x27;,\n",
       "                 ColumnTransformer(remainder=&#x27;passthrough&#x27;,\n",
       "                                   transformers=[(&#x27;min_max&#x27;, MinMaxScaler(),\n",
       "                                                  [&#x27;NUMPORTEL&#x27;, &#x27;STORIES&#x27;,\n",
       "                                                   &#x27;SQFTEST&#x27;, &#x27;TOTROOMS&#x27;,\n",
       "                                                   &#x27;NUMFRIG&#x27;, &#x27;MICRO&#x27;,\n",
       "                                                   &#x27;TVCOLOR&#x27;, &#x27;NHSLDMEM&#x27;,\n",
       "                                                   &#x27;TOTAL_BATH&#x27;, &#x27;TOTAL_COMP&#x27;,\n",
       "                                                   &#x27;TOTAL_LIGHT&#x27;]),\n",
       "                                                 (&#x27;ohe&#x27;,\n",
       "                                                  OneHotEncoder(drop=&#x27;first&#x27;,\n",
       "                                                                handle_unknown=&#x27;ignore&#x27;,\n",
       "                                                                sparse_output=False),\n",
       "                                                  [&#x27;state_name&#x27;, &#x27;BA_climate&#x27;,\n",
       "                                                   &#x27;TYPEHUQ&#x27;, &#x27;YEARMADERANGE&#x27;,\n",
       "                                                   &#x27;WINDOWS&#x27;, &#x27;EQUIPM&#x27;])])),\n",
       "                (&#x27;model&#x27;, LinearRegression())])</pre></div></div></div><div class=\"sk-serial\"><div class=\"sk-item sk-dashed-wrapped\"><div class=\"sk-label-container\"><div class=\"sk-label sk-toggleable\"><input class=\"sk-toggleable__control sk-hidden--visually\" id=\"sk-estimator-id-11\" type=\"checkbox\" ><label for=\"sk-estimator-id-11\" class=\"sk-toggleable__label sk-toggleable__label-arrow\">prep: ColumnTransformer</label><div class=\"sk-toggleable__content\"><pre>ColumnTransformer(remainder=&#x27;passthrough&#x27;,\n",
       "                  transformers=[(&#x27;min_max&#x27;, MinMaxScaler(),\n",
       "                                 [&#x27;NUMPORTEL&#x27;, &#x27;STORIES&#x27;, &#x27;SQFTEST&#x27;, &#x27;TOTROOMS&#x27;,\n",
       "                                  &#x27;NUMFRIG&#x27;, &#x27;MICRO&#x27;, &#x27;TVCOLOR&#x27;, &#x27;NHSLDMEM&#x27;,\n",
       "                                  &#x27;TOTAL_BATH&#x27;, &#x27;TOTAL_COMP&#x27;, &#x27;TOTAL_LIGHT&#x27;]),\n",
       "                                (&#x27;ohe&#x27;,\n",
       "                                 OneHotEncoder(drop=&#x27;first&#x27;,\n",
       "                                               handle_unknown=&#x27;ignore&#x27;,\n",
       "                                               sparse_output=False),\n",
       "                                 [&#x27;state_name&#x27;, &#x27;BA_climate&#x27;, &#x27;TYPEHUQ&#x27;,\n",
       "                                  &#x27;YEARMADERANGE&#x27;, &#x27;WINDOWS&#x27;, &#x27;EQUIPM&#x27;])])</pre></div></div></div><div class=\"sk-parallel\"><div class=\"sk-parallel-item\"><div class=\"sk-item\"><div class=\"sk-label-container\"><div class=\"sk-label sk-toggleable\"><input class=\"sk-toggleable__control sk-hidden--visually\" id=\"sk-estimator-id-12\" type=\"checkbox\" ><label for=\"sk-estimator-id-12\" class=\"sk-toggleable__label sk-toggleable__label-arrow\">min_max</label><div class=\"sk-toggleable__content\"><pre>[&#x27;NUMPORTEL&#x27;, &#x27;STORIES&#x27;, &#x27;SQFTEST&#x27;, &#x27;TOTROOMS&#x27;, &#x27;NUMFRIG&#x27;, &#x27;MICRO&#x27;, &#x27;TVCOLOR&#x27;, &#x27;NHSLDMEM&#x27;, &#x27;TOTAL_BATH&#x27;, &#x27;TOTAL_COMP&#x27;, &#x27;TOTAL_LIGHT&#x27;]</pre></div></div></div><div class=\"sk-serial\"><div class=\"sk-item\"><div class=\"sk-estimator sk-toggleable\"><input class=\"sk-toggleable__control sk-hidden--visually\" id=\"sk-estimator-id-13\" type=\"checkbox\" ><label for=\"sk-estimator-id-13\" class=\"sk-toggleable__label sk-toggleable__label-arrow\">MinMaxScaler</label><div class=\"sk-toggleable__content\"><pre>MinMaxScaler()</pre></div></div></div></div></div></div><div class=\"sk-parallel-item\"><div class=\"sk-item\"><div class=\"sk-label-container\"><div class=\"sk-label sk-toggleable\"><input class=\"sk-toggleable__control sk-hidden--visually\" id=\"sk-estimator-id-14\" type=\"checkbox\" ><label for=\"sk-estimator-id-14\" class=\"sk-toggleable__label sk-toggleable__label-arrow\">ohe</label><div class=\"sk-toggleable__content\"><pre>[&#x27;state_name&#x27;, &#x27;BA_climate&#x27;, &#x27;TYPEHUQ&#x27;, &#x27;YEARMADERANGE&#x27;, &#x27;WINDOWS&#x27;, &#x27;EQUIPM&#x27;]</pre></div></div></div><div class=\"sk-serial\"><div class=\"sk-item\"><div class=\"sk-estimator sk-toggleable\"><input class=\"sk-toggleable__control sk-hidden--visually\" id=\"sk-estimator-id-15\" type=\"checkbox\" ><label for=\"sk-estimator-id-15\" class=\"sk-toggleable__label sk-toggleable__label-arrow\">OneHotEncoder</label><div class=\"sk-toggleable__content\"><pre>OneHotEncoder(drop=&#x27;first&#x27;, handle_unknown=&#x27;ignore&#x27;, sparse_output=False)</pre></div></div></div></div></div></div><div class=\"sk-parallel-item\"><div class=\"sk-item\"><div class=\"sk-label-container\"><div class=\"sk-label sk-toggleable\"><input class=\"sk-toggleable__control sk-hidden--visually\" id=\"sk-estimator-id-16\" type=\"checkbox\" ><label for=\"sk-estimator-id-16\" class=\"sk-toggleable__label sk-toggleable__label-arrow\">remainder</label><div class=\"sk-toggleable__content\"><pre>[&#x27;SWIMPOOL&#x27;, &#x27;SMARTMETER&#x27;, &#x27;DISHWASH&#x27;, &#x27;CWASHER&#x27;, &#x27;DRYER&#x27;, &#x27;HEATHOME&#x27;, &#x27;AIRCOND&#x27;]</pre></div></div></div><div class=\"sk-serial\"><div class=\"sk-item\"><div class=\"sk-estimator sk-toggleable\"><input class=\"sk-toggleable__control sk-hidden--visually\" id=\"sk-estimator-id-17\" type=\"checkbox\" ><label for=\"sk-estimator-id-17\" class=\"sk-toggleable__label sk-toggleable__label-arrow\">passthrough</label><div class=\"sk-toggleable__content\"><pre>passthrough</pre></div></div></div></div></div></div></div></div><div class=\"sk-item\"><div class=\"sk-estimator sk-toggleable\"><input class=\"sk-toggleable__control sk-hidden--visually\" id=\"sk-estimator-id-18\" type=\"checkbox\" ><label for=\"sk-estimator-id-18\" class=\"sk-toggleable__label sk-toggleable__label-arrow\">LinearRegression</label><div class=\"sk-toggleable__content\"><pre>LinearRegression()</pre></div></div></div></div></div></div></div>"
      ],
      "text/plain": [
       "Pipeline(steps=[('prep',\n",
       "                 ColumnTransformer(remainder='passthrough',\n",
       "                                   transformers=[('min_max', MinMaxScaler(),\n",
       "                                                  ['NUMPORTEL', 'STORIES',\n",
       "                                                   'SQFTEST', 'TOTROOMS',\n",
       "                                                   'NUMFRIG', 'MICRO',\n",
       "                                                   'TVCOLOR', 'NHSLDMEM',\n",
       "                                                   'TOTAL_BATH', 'TOTAL_COMP',\n",
       "                                                   'TOTAL_LIGHT']),\n",
       "                                                 ('ohe',\n",
       "                                                  OneHotEncoder(drop='first',\n",
       "                                                                handle_unknown='ignore',\n",
       "                                                                sparse_output=False),\n",
       "                                                  ['state_name', 'BA_climate',\n",
       "                                                   'TYPEHUQ', 'YEARMADERANGE',\n",
       "                                                   'WINDOWS', 'EQUIPM'])])),\n",
       "                ('model', LinearRegression())])"
      ]
     },
     "execution_count": 40,
     "metadata": {},
     "output_type": "execute_result"
    }
   ],
   "source": [
    "pipe.fit(X_train, y_train_p)"
   ]
  },
  {
   "cell_type": "code",
   "execution_count": 17,
   "id": "e2fa0f2e-8e12-46c7-a53a-eb629f4d08c3",
   "metadata": {},
   "outputs": [
    {
     "name": "stdout",
     "output_type": "stream",
     "text": [
      "min_max__NUMPORTEL 0.290060292674696\n",
      "min_max__STORIES -0.05338230656321219\n",
      "min_max__SQFTEST 0.9411860235586804\n",
      "min_max__TOTROOMS 0.08424222764146344\n",
      "min_max__NUMFRIG 0.6886966428141479\n",
      "min_max__MICRO 0.03028809885738415\n",
      "min_max__TVCOLOR 0.7632924113710898\n",
      "min_max__NHSLDMEM 0.4729620958431085\n",
      "min_max__TOTAL_BATH 0.13090136991239426\n",
      "min_max__TOTAL_COMP 0.31204688000685676\n",
      "min_max__TOTAL_LIGHT 0.581625517292549\n",
      "ohe__state_name_Alaska -0.3455645439218956\n",
      "ohe__state_name_Arizona -0.07513859412034157\n",
      "ohe__state_name_Arkansas 0.025557898309221866\n",
      "ohe__state_name_California -0.5782082990175554\n",
      "ohe__state_name_Colorado -0.33352953969122817\n",
      "ohe__state_name_Connecticut -0.3881251692727359\n",
      "ohe__state_name_Delaware -0.21135489348809355\n",
      "ohe__state_name_District of Columbia -0.21471160740655443\n",
      "ohe__state_name_Florida -0.04353149334893619\n",
      "ohe__state_name_Georgia -0.10176467847159365\n",
      "ohe__state_name_Hawaii -0.46678755845144815\n",
      "ohe__state_name_Idaho -0.16691145858462444\n",
      "ohe__state_name_Illinois -0.2936531443748423\n",
      "ohe__state_name_Indiana -0.07357367725789155\n",
      "ohe__state_name_Iowa -0.15227714561423283\n",
      "ohe__state_name_Kansas -0.1315541812687443\n",
      "ohe__state_name_Kentucky -0.023932732846654037\n",
      "ohe__state_name_Louisiana 0.023256184571435468\n",
      "ohe__state_name_Maine -0.36941336277672154\n",
      "ohe__state_name_Maryland -0.12624228040539864\n",
      "ohe__state_name_Massachusetts -0.38226730512297113\n",
      "ohe__state_name_Michigan -0.3174386054937446\n",
      "ohe__state_name_Minnesota -0.26434827868623045\n",
      "ohe__state_name_Mississippi 0.06572861649084755\n",
      "ohe__state_name_Missouri -0.06726963406452774\n",
      "ohe__state_name_Montana -0.2315134789950448\n",
      "ohe__state_name_Nebraska -0.12453211935419109\n",
      "ohe__state_name_Nevada -0.12199180770653731\n",
      "ohe__state_name_New Hampshire -0.3551385914379848\n",
      "ohe__state_name_New Jersey -0.3323645170251577\n",
      "ohe__state_name_New Mexico -0.40931663106199034\n",
      "ohe__state_name_New York -0.3735079645809112\n",
      "ohe__state_name_North Carolina -0.07507479951948341\n",
      "ohe__state_name_North Dakota -0.13901018545586769\n",
      "ohe__state_name_Ohio -0.18390418674999734\n",
      "ohe__state_name_Oklahoma -0.02355876887561814\n",
      "ohe__state_name_Oregon -0.08323040407869958\n",
      "ohe__state_name_Pennsylvania -0.2128673997429525\n",
      "ohe__state_name_Rhode Island -0.41604620104173484\n",
      "ohe__state_name_South Carolina -0.07142508045203602\n",
      "ohe__state_name_South Dakota -0.10902997041541401\n",
      "ohe__state_name_Tennessee 0.020182071942104668\n",
      "ohe__state_name_Texas -0.020385699674879743\n",
      "ohe__state_name_Utah -0.37733342591334185\n",
      "ohe__state_name_Vermont -0.4030298151063375\n",
      "ohe__state_name_Virginia -0.06330485952538152\n",
      "ohe__state_name_Washington -0.05676828686232155\n",
      "ohe__state_name_West Virginia 0.04444956358979732\n",
      "ohe__state_name_Wisconsin -0.24315839889476096\n",
      "ohe__state_name_Wyoming -0.2763845009554739\n",
      "ohe__BA_climate_Hot-Dry 0.08405494319201276\n",
      "ohe__BA_climate_Hot-Humid 0.10411981115319097\n",
      "ohe__BA_climate_Marine -0.07980520318115897\n",
      "ohe__BA_climate_Mixed-Dry 0.08587524667074081\n",
      "ohe__BA_climate_Mixed-Humid 0.05749264540121743\n",
      "ohe__BA_climate_Subarctic 0.2659703115791434\n",
      "ohe__BA_climate_Very-Cold 0.14469791530739806\n",
      "ohe__TYPEHUQ_Appartment_small 0.08295568867607533\n",
      "ohe__TYPEHUQ_Mobile 0.368052003630444\n",
      "ohe__TYPEHUQ_Single_attached 0.13416645215631212\n",
      "ohe__TYPEHUQ_Single_detached 0.26599985352608646\n",
      "ohe__YEARMADERANGE_2010-15 -0.02376442405416712\n",
      "ohe__YEARMADERANGE_2016-20 -0.09154744866040268\n",
      "ohe__YEARMADERANGE_50-59 0.03785370088925899\n",
      "ohe__YEARMADERANGE_60-69 0.036810249661783645\n",
      "ohe__YEARMADERANGE_70-79 0.07541131819919267\n",
      "ohe__YEARMADERANGE_80-89 0.05875312472110203\n",
      "ohe__YEARMADERANGE_90-99 0.02652388280763432\n",
      "ohe__YEARMADERANGE_Before_50 0.05715846204797839\n",
      "ohe__WINDOWS_2 0.04906944024344079\n",
      "ohe__WINDOWS_3 0.0667924814374104\n",
      "ohe__WINDOWS_4 0.09727938598782437\n",
      "ohe__WINDOWS_5 0.08847228536012003\n",
      "ohe__WINDOWS_6 0.1024498817639819\n",
      "ohe__WINDOWS_7 0.1323290599559817\n",
      "ohe__EQUIPM_Ductless_heat 0.015561420400619919\n",
      "ohe__EQUIPM_Electric_heater -0.07432417056541171\n",
      "ohe__EQUIPM_Electric_units 0.11907507182192005\n",
      "ohe__EQUIPM_Furnace -0.28173295662012965\n",
      "ohe__EQUIPM_Other -0.15638921265376649\n",
      "ohe__EQUIPM_Room_heater -0.3838553941908973\n",
      "ohe__EQUIPM_Steam -0.43107498744592576\n",
      "ohe__EQUIPM_Wood -0.1963252093048873\n",
      "remainder__SWIMPOOL 0.233329334810315\n",
      "remainder__SMARTMETER 0.01574170121526558\n",
      "remainder__DISHWASH 0.0700922870627615\n",
      "remainder__CWASHER 0.07330019531190918\n",
      "remainder__DRYER 0.1009555426694527\n",
      "remainder__HEATHOME 0.021296287691972282\n",
      "remainder__AIRCOND 0.13907246485977198\n"
     ]
    }
   ],
   "source": [
    "for x , y  in zip(pipe[:-1].get_feature_names_out() ,pipe.named_steps[\"model\"].coef_):\n",
    "    print(x , y)"
   ]
  },
  {
   "cell_type": "code",
   "execution_count": 25,
   "id": "8c1fef73-eccd-4797-9403-9a001d206cd0",
   "metadata": {},
   "outputs": [],
   "source": [
    "scores = cross_validate(pipe, X_train, y_train_p, cv = 5, scoring = [\"r2\", \"neg_mean_absolute_error\"])"
   ]
  },
  {
   "cell_type": "code",
   "execution_count": 41,
   "id": "2f9742c5-ec47-44ed-aeb8-39a7231fe218",
   "metadata": {},
   "outputs": [],
   "source": [
    "from sklearn.metrics import mean_absolute_error"
   ]
  },
  {
   "cell_type": "code",
   "execution_count": 42,
   "id": "0ec1f478-5d42-4043-9c96-374115d0c971",
   "metadata": {},
   "outputs": [],
   "source": [
    "y_pred = pipe.predict(X_test)"
   ]
  },
  {
   "cell_type": "code",
   "execution_count": 43,
   "id": "49b9b3ba-60e5-40b6-b2b1-554fecdeb710",
   "metadata": {},
   "outputs": [],
   "source": [
    "y_pred_converted = np.exp(y_pred)"
   ]
  },
  {
   "cell_type": "code",
   "execution_count": 47,
   "id": "f9161fbc-dece-4819-9eef-25a63761c68f",
   "metadata": {},
   "outputs": [
    {
     "data": {
      "text/plain": [
       "0.30247216639127394"
      ]
     },
     "execution_count": 47,
     "metadata": {},
     "output_type": "execute_result"
    }
   ],
   "source": [
    "mean_absolute_error(y_test, y_pred_converted)/ y.mean()"
   ]
  },
  {
   "cell_type": "code",
   "execution_count": 57,
   "id": "f4a6d3b9-2db0-45c1-b8ee-18d70b7d3fb5",
   "metadata": {},
   "outputs": [
    {
     "data": {
      "text/plain": [
       "count    18310.000000\n",
       "mean     10703.136279\n",
       "std       6407.761653\n",
       "min       1186.210000\n",
       "25%       5954.002500\n",
       "50%       9346.435000\n",
       "75%      14074.417500\n",
       "max      38007.280000\n",
       "Name: KWH, dtype: float64"
      ]
     },
     "execution_count": 57,
     "metadata": {},
     "output_type": "execute_result"
    }
   ],
   "source": [
    "y.astype(\"float\").describe()"
   ]
  },
  {
   "cell_type": "code",
   "execution_count": 54,
   "id": "4607562c-fdcd-490c-9e9f-fc7082366d40",
   "metadata": {},
   "outputs": [
    {
     "data": {
      "text/plain": [
       "(1186.21, 38007.28)"
      ]
     },
     "execution_count": 54,
     "metadata": {},
     "output_type": "execute_result"
    }
   ],
   "source": [
    "y.min(), y.max()"
   ]
  },
  {
   "cell_type": "code",
   "execution_count": 46,
   "id": "490ffb04-c943-417d-ac85-af51b6a56f8e",
   "metadata": {},
   "outputs": [
    {
     "data": {
      "text/plain": [
       "10703.136279082466"
      ]
     },
     "execution_count": 46,
     "metadata": {},
     "output_type": "execute_result"
    }
   ],
   "source": [
    "y.mean()"
   ]
  },
  {
   "cell_type": "code",
   "execution_count": 52,
   "id": "935ff260-18f3-4e9f-b1b7-072af0be8e8b",
   "metadata": {},
   "outputs": [
    {
     "data": {
      "text/plain": [
       "9346.435000000001"
      ]
     },
     "execution_count": 52,
     "metadata": {},
     "output_type": "execute_result"
    }
   ],
   "source": [
    "y.median()"
   ]
  },
  {
   "cell_type": "code",
   "execution_count": 30,
   "id": "dee4cb1d-e70b-4871-b6c9-da931d4c3791",
   "metadata": {},
   "outputs": [
    {
     "data": {
      "text/plain": [
       "0.5290910328015777"
      ]
     },
     "execution_count": 30,
     "metadata": {},
     "output_type": "execute_result"
    }
   ],
   "source": [
    "pipe.predict(X_test, y_test_p)"
   ]
  },
  {
   "cell_type": "code",
   "execution_count": 48,
   "id": "3d4150e3-05f9-46c3-bad5-2db2ca54a7e6",
   "metadata": {},
   "outputs": [],
   "source": [
    "sum_errs = np.sum((y_test - y_pred_converted)**2)"
   ]
  },
  {
   "cell_type": "code",
   "execution_count": 49,
   "id": "beda7e7e-d76f-4448-a89b-c4281eec5b1a",
   "metadata": {},
   "outputs": [],
   "source": [
    "stdev = np.sqrt(1 / (len(y_test) - 2) * sum_errs)"
   ]
  },
  {
   "cell_type": "code",
   "execution_count": 51,
   "id": "334293a0-aed6-485d-bef7-3fb0698e498b",
   "metadata": {},
   "outputs": [],
   "source": [
    "one_minus_pi = 1 - 0.95\n",
    "ppf_lookup = 1 - (one_minus_pi / 2)\n"
   ]
  },
  {
   "cell_type": "code",
   "execution_count": 29,
   "id": "7bf6d8fc-6155-4a88-a843-cb33359ccbca",
   "metadata": {},
   "outputs": [
    {
     "data": {
      "text/plain": [
       "0.7190377045699009"
      ]
     },
     "execution_count": 29,
     "metadata": {},
     "output_type": "execute_result"
    }
   ],
   "source": [
    "np.exp(scores['test_neg_mean_absolute_error'].mean())"
   ]
  },
  {
   "cell_type": "markdown",
   "id": "c72efd5b-9981-462c-b2a0-8cbae17c9a57",
   "metadata": {},
   "source": [
    "## Elastic Net"
   ]
  },
  {
   "cell_type": "code",
   "execution_count": 22,
   "id": "a4d8d0d7-2338-47b7-a049-2476f74a69b9",
   "metadata": {},
   "outputs": [],
   "source": [
    "df_new = call_data_url()\n",
    "df = df_new.drop([\"WALLTYPE\", \"ROOFTYPE\"], axis = 1)\n",
    "df = filter_data(df)\n",
    "df = clean_data_without(df)\n",
    "X , y = get_xy(df)\n",
    "X_train, X_test, y_train, y_test =  train_test_split(X,y, test_size=0.3)\n",
    "y_train_p = np.log(y_train.astype(\"float\"))\n",
    "y_test_p = np.log(y_test.astype(\"float\"))"
   ]
  },
  {
   "cell_type": "code",
   "execution_count": 31,
   "id": "20c9ffec-0049-4747-bc1a-77583087c845",
   "metadata": {},
   "outputs": [
    {
     "data": {
      "text/html": [
       "<div>\n",
       "<style scoped>\n",
       "    .dataframe tbody tr th:only-of-type {\n",
       "        vertical-align: middle;\n",
       "    }\n",
       "\n",
       "    .dataframe tbody tr th {\n",
       "        vertical-align: top;\n",
       "    }\n",
       "\n",
       "    .dataframe thead th {\n",
       "        text-align: right;\n",
       "    }\n",
       "</style>\n",
       "<table border=\"1\" class=\"dataframe\">\n",
       "  <thead>\n",
       "    <tr style=\"text-align: right;\">\n",
       "      <th></th>\n",
       "      <th>SWIMPOOL</th>\n",
       "      <th>NUMPORTEL</th>\n",
       "      <th>SOLAR</th>\n",
       "      <th>SMARTMETER</th>\n",
       "      <th>REGIONC</th>\n",
       "      <th>state_name</th>\n",
       "      <th>BA_climate</th>\n",
       "      <th>TYPEHUQ</th>\n",
       "      <th>STORIES</th>\n",
       "      <th>YEARMADERANGE</th>\n",
       "      <th>...</th>\n",
       "      <th>TVCOLOR</th>\n",
       "      <th>TELLWORK</th>\n",
       "      <th>HEATHOME</th>\n",
       "      <th>EQUIPM</th>\n",
       "      <th>AIRCOND</th>\n",
       "      <th>NHSLDMEM</th>\n",
       "      <th>SQFTEST</th>\n",
       "      <th>TOTAL_BATH</th>\n",
       "      <th>TOTAL_COMP</th>\n",
       "      <th>TOTAL_LIGHT</th>\n",
       "    </tr>\n",
       "  </thead>\n",
       "  <tbody>\n",
       "    <tr>\n",
       "      <th>2004</th>\n",
       "      <td>0</td>\n",
       "      <td>0</td>\n",
       "      <td>0</td>\n",
       "      <td>0</td>\n",
       "      <td>SOUTH</td>\n",
       "      <td>Georgia</td>\n",
       "      <td>Mixed-Humid</td>\n",
       "      <td>Single_detached</td>\n",
       "      <td>2</td>\n",
       "      <td>2016-20</td>\n",
       "      <td>...</td>\n",
       "      <td>4</td>\n",
       "      <td>0</td>\n",
       "      <td>1</td>\n",
       "      <td>Furnace</td>\n",
       "      <td>1</td>\n",
       "      <td>2</td>\n",
       "      <td>2980</td>\n",
       "      <td>3</td>\n",
       "      <td>1</td>\n",
       "      <td>22</td>\n",
       "    </tr>\n",
       "    <tr>\n",
       "      <th>1580</th>\n",
       "      <td>0</td>\n",
       "      <td>0</td>\n",
       "      <td>0</td>\n",
       "      <td>0</td>\n",
       "      <td>SOUTH</td>\n",
       "      <td>Kentucky</td>\n",
       "      <td>Mixed-Humid</td>\n",
       "      <td>Single_detached</td>\n",
       "      <td>1</td>\n",
       "      <td>Before_50</td>\n",
       "      <td>...</td>\n",
       "      <td>2</td>\n",
       "      <td>0</td>\n",
       "      <td>1</td>\n",
       "      <td>Furnace</td>\n",
       "      <td>1</td>\n",
       "      <td>5</td>\n",
       "      <td>1180</td>\n",
       "      <td>1</td>\n",
       "      <td>0</td>\n",
       "      <td>12</td>\n",
       "    </tr>\n",
       "    <tr>\n",
       "      <th>2558</th>\n",
       "      <td>0</td>\n",
       "      <td>0</td>\n",
       "      <td>0</td>\n",
       "      <td>0</td>\n",
       "      <td>SOUTH</td>\n",
       "      <td>North Carolina</td>\n",
       "      <td>Mixed-Humid</td>\n",
       "      <td>Single_detached</td>\n",
       "      <td>1</td>\n",
       "      <td>60-69</td>\n",
       "      <td>...</td>\n",
       "      <td>1</td>\n",
       "      <td>0</td>\n",
       "      <td>1</td>\n",
       "      <td>Furnace</td>\n",
       "      <td>1</td>\n",
       "      <td>1</td>\n",
       "      <td>1650</td>\n",
       "      <td>2</td>\n",
       "      <td>0</td>\n",
       "      <td>3</td>\n",
       "    </tr>\n",
       "    <tr>\n",
       "      <th>17282</th>\n",
       "      <td>0</td>\n",
       "      <td>0</td>\n",
       "      <td>0</td>\n",
       "      <td>0</td>\n",
       "      <td>SOUTH</td>\n",
       "      <td>Virginia</td>\n",
       "      <td>Mixed-Humid</td>\n",
       "      <td>Single_detached</td>\n",
       "      <td>1</td>\n",
       "      <td>50-59</td>\n",
       "      <td>...</td>\n",
       "      <td>1</td>\n",
       "      <td>0</td>\n",
       "      <td>1</td>\n",
       "      <td>Furnace</td>\n",
       "      <td>1</td>\n",
       "      <td>1</td>\n",
       "      <td>1250</td>\n",
       "      <td>1</td>\n",
       "      <td>0</td>\n",
       "      <td>2</td>\n",
       "    </tr>\n",
       "    <tr>\n",
       "      <th>12635</th>\n",
       "      <td>1</td>\n",
       "      <td>1</td>\n",
       "      <td>0</td>\n",
       "      <td>0</td>\n",
       "      <td>WEST</td>\n",
       "      <td>California</td>\n",
       "      <td>Hot-Dry</td>\n",
       "      <td>Single_detached</td>\n",
       "      <td>2</td>\n",
       "      <td>Before_50</td>\n",
       "      <td>...</td>\n",
       "      <td>3</td>\n",
       "      <td>1</td>\n",
       "      <td>1</td>\n",
       "      <td>Furnace</td>\n",
       "      <td>1</td>\n",
       "      <td>3</td>\n",
       "      <td>3070</td>\n",
       "      <td>4</td>\n",
       "      <td>2</td>\n",
       "      <td>48</td>\n",
       "    </tr>\n",
       "    <tr>\n",
       "      <th>...</th>\n",
       "      <td>...</td>\n",
       "      <td>...</td>\n",
       "      <td>...</td>\n",
       "      <td>...</td>\n",
       "      <td>...</td>\n",
       "      <td>...</td>\n",
       "      <td>...</td>\n",
       "      <td>...</td>\n",
       "      <td>...</td>\n",
       "      <td>...</td>\n",
       "      <td>...</td>\n",
       "      <td>...</td>\n",
       "      <td>...</td>\n",
       "      <td>...</td>\n",
       "      <td>...</td>\n",
       "      <td>...</td>\n",
       "      <td>...</td>\n",
       "      <td>...</td>\n",
       "      <td>...</td>\n",
       "      <td>...</td>\n",
       "      <td>...</td>\n",
       "    </tr>\n",
       "    <tr>\n",
       "      <th>7481</th>\n",
       "      <td>0</td>\n",
       "      <td>0</td>\n",
       "      <td>0</td>\n",
       "      <td>0</td>\n",
       "      <td>WEST</td>\n",
       "      <td>Nevada</td>\n",
       "      <td>Hot-Dry</td>\n",
       "      <td>Appartment_big</td>\n",
       "      <td>1</td>\n",
       "      <td>90-99</td>\n",
       "      <td>...</td>\n",
       "      <td>1</td>\n",
       "      <td>0</td>\n",
       "      <td>1</td>\n",
       "      <td>Furnace</td>\n",
       "      <td>1</td>\n",
       "      <td>2</td>\n",
       "      <td>620</td>\n",
       "      <td>1</td>\n",
       "      <td>0</td>\n",
       "      <td>8</td>\n",
       "    </tr>\n",
       "    <tr>\n",
       "      <th>4068</th>\n",
       "      <td>0</td>\n",
       "      <td>0</td>\n",
       "      <td>0</td>\n",
       "      <td>0</td>\n",
       "      <td>NORTHEAST</td>\n",
       "      <td>Connecticut</td>\n",
       "      <td>Cold</td>\n",
       "      <td>Single_detached</td>\n",
       "      <td>1</td>\n",
       "      <td>70-79</td>\n",
       "      <td>...</td>\n",
       "      <td>2</td>\n",
       "      <td>0</td>\n",
       "      <td>1</td>\n",
       "      <td>Electric_units</td>\n",
       "      <td>1</td>\n",
       "      <td>2</td>\n",
       "      <td>1700</td>\n",
       "      <td>2</td>\n",
       "      <td>2</td>\n",
       "      <td>15</td>\n",
       "    </tr>\n",
       "    <tr>\n",
       "      <th>13600</th>\n",
       "      <td>0</td>\n",
       "      <td>2</td>\n",
       "      <td>0</td>\n",
       "      <td>1</td>\n",
       "      <td>WEST</td>\n",
       "      <td>Oregon</td>\n",
       "      <td>Cold</td>\n",
       "      <td>Single_detached</td>\n",
       "      <td>1</td>\n",
       "      <td>Before_50</td>\n",
       "      <td>...</td>\n",
       "      <td>1</td>\n",
       "      <td>0</td>\n",
       "      <td>1</td>\n",
       "      <td>Electric_heater</td>\n",
       "      <td>0</td>\n",
       "      <td>1</td>\n",
       "      <td>1300</td>\n",
       "      <td>2</td>\n",
       "      <td>1</td>\n",
       "      <td>5</td>\n",
       "    </tr>\n",
       "    <tr>\n",
       "      <th>7729</th>\n",
       "      <td>0</td>\n",
       "      <td>0</td>\n",
       "      <td>0</td>\n",
       "      <td>1</td>\n",
       "      <td>MIDWEST</td>\n",
       "      <td>Ohio</td>\n",
       "      <td>Cold</td>\n",
       "      <td>Mobile</td>\n",
       "      <td>1</td>\n",
       "      <td>00-09</td>\n",
       "      <td>...</td>\n",
       "      <td>3</td>\n",
       "      <td>0</td>\n",
       "      <td>1</td>\n",
       "      <td>Furnace</td>\n",
       "      <td>1</td>\n",
       "      <td>4</td>\n",
       "      <td>1280</td>\n",
       "      <td>2</td>\n",
       "      <td>3</td>\n",
       "      <td>17</td>\n",
       "    </tr>\n",
       "    <tr>\n",
       "      <th>14385</th>\n",
       "      <td>0</td>\n",
       "      <td>0</td>\n",
       "      <td>0</td>\n",
       "      <td>0</td>\n",
       "      <td>SOUTH</td>\n",
       "      <td>Texas</td>\n",
       "      <td>Hot-Humid</td>\n",
       "      <td>Single_attached</td>\n",
       "      <td>3</td>\n",
       "      <td>90-99</td>\n",
       "      <td>...</td>\n",
       "      <td>1</td>\n",
       "      <td>0</td>\n",
       "      <td>1</td>\n",
       "      <td>Central_heat</td>\n",
       "      <td>1</td>\n",
       "      <td>1</td>\n",
       "      <td>2310</td>\n",
       "      <td>3</td>\n",
       "      <td>2</td>\n",
       "      <td>11</td>\n",
       "    </tr>\n",
       "  </tbody>\n",
       "</table>\n",
       "<p>12817 rows × 27 columns</p>\n",
       "</div>"
      ],
      "text/plain": [
       "      SWIMPOOL NUMPORTEL SOLAR SMARTMETER    REGIONC      state_name  \\\n",
       "2004         0         0     0          0      SOUTH         Georgia   \n",
       "1580         0         0     0          0      SOUTH        Kentucky   \n",
       "2558         0         0     0          0      SOUTH  North Carolina   \n",
       "17282        0         0     0          0      SOUTH        Virginia   \n",
       "12635        1         1     0          0       WEST      California   \n",
       "...        ...       ...   ...        ...        ...             ...   \n",
       "7481         0         0     0          0       WEST          Nevada   \n",
       "4068         0         0     0          0  NORTHEAST     Connecticut   \n",
       "13600        0         2     0          1       WEST          Oregon   \n",
       "7729         0         0     0          1    MIDWEST            Ohio   \n",
       "14385        0         0     0          0      SOUTH           Texas   \n",
       "\n",
       "        BA_climate          TYPEHUQ STORIES YEARMADERANGE  ... TVCOLOR  \\\n",
       "2004   Mixed-Humid  Single_detached       2       2016-20  ...       4   \n",
       "1580   Mixed-Humid  Single_detached       1     Before_50  ...       2   \n",
       "2558   Mixed-Humid  Single_detached       1         60-69  ...       1   \n",
       "17282  Mixed-Humid  Single_detached       1         50-59  ...       1   \n",
       "12635      Hot-Dry  Single_detached       2     Before_50  ...       3   \n",
       "...            ...              ...     ...           ...  ...     ...   \n",
       "7481       Hot-Dry   Appartment_big       1         90-99  ...       1   \n",
       "4068          Cold  Single_detached       1         70-79  ...       2   \n",
       "13600         Cold  Single_detached       1     Before_50  ...       1   \n",
       "7729          Cold           Mobile       1         00-09  ...       3   \n",
       "14385    Hot-Humid  Single_attached       3         90-99  ...       1   \n",
       "\n",
       "      TELLWORK HEATHOME           EQUIPM AIRCOND NHSLDMEM SQFTEST TOTAL_BATH  \\\n",
       "2004         0        1          Furnace       1        2    2980          3   \n",
       "1580         0        1          Furnace       1        5    1180          1   \n",
       "2558         0        1          Furnace       1        1    1650          2   \n",
       "17282        0        1          Furnace       1        1    1250          1   \n",
       "12635        1        1          Furnace       1        3    3070          4   \n",
       "...        ...      ...              ...     ...      ...     ...        ...   \n",
       "7481         0        1          Furnace       1        2     620          1   \n",
       "4068         0        1   Electric_units       1        2    1700          2   \n",
       "13600        0        1  Electric_heater       0        1    1300          2   \n",
       "7729         0        1          Furnace       1        4    1280          2   \n",
       "14385        0        1     Central_heat       1        1    2310          3   \n",
       "\n",
       "      TOTAL_COMP TOTAL_LIGHT  \n",
       "2004           1          22  \n",
       "1580           0          12  \n",
       "2558           0           3  \n",
       "17282          0           2  \n",
       "12635          2          48  \n",
       "...          ...         ...  \n",
       "7481           0           8  \n",
       "4068           2          15  \n",
       "13600          1           5  \n",
       "7729           3          17  \n",
       "14385          2          11  \n",
       "\n",
       "[12817 rows x 27 columns]"
      ]
     },
     "execution_count": 31,
     "metadata": {},
     "output_type": "execute_result"
    }
   ],
   "source": [
    "X_train"
   ]
  },
  {
   "cell_type": "code",
   "execution_count": 32,
   "id": "212dbcb1-1b30-4307-99ed-a17983a31ff0",
   "metadata": {},
   "outputs": [],
   "source": [
    "from sklearn.linear_model import ElasticNet\n",
    "\n",
    "to_ohe_encode = ['REGIONC', 'state_name','BA_climate','TYPEHUQ',\n",
    "                     'YEARMADERANGE','WINDOWS','EQUIPM']\n",
    "\n",
    "to_scale = [\"NUMPORTEL\", \"STORIES\",\"SQFTEST\",\n",
    "            \"TOTROOMS\", \"NUMFRIG\", \"MICRO\", \"TVCOLOR\",\"NHSLDMEM\",\n",
    "            \"TOTAL_BATH\", \"TOTAL_COMP\", \"TOTAL_LIGHT\" ]\n",
    "\n",
    "min_max = MinMaxScaler()\n",
    "ohe = OneHotEncoder(sparse_output=False, handle_unknown='ignore')\n",
    "\n",
    "\n",
    "prep2 = ColumnTransformer(transformers=[\n",
    "                                            ('min_max', min_max, to_scale),\n",
    "                                            ('ohe', ohe, to_ohe_encode)],\n",
    "                                            remainder = \"passthrough\")\n",
    "\n",
    "pipe = Pipeline([(\"prep\", prep2 ),(\"model\", ElasticNet())])"
   ]
  },
  {
   "cell_type": "code",
   "execution_count": 28,
   "id": "adee9dc8-bf99-4437-aa26-6aff7d70aaa0",
   "metadata": {},
   "outputs": [],
   "source": [
    "from sklearn.model_selection import GridSearchCV"
   ]
  },
  {
   "cell_type": "code",
   "execution_count": 33,
   "id": "0747ff2d-7a61-406c-9989-d9bf558992e8",
   "metadata": {},
   "outputs": [],
   "source": [
    "params = {'model__alpha':[0.001, 0.01, 0.1, 1, 10], \n",
    "          'model__l1_ratio':[0.1,0.2, 0.5,0.8]}"
   ]
  },
  {
   "cell_type": "code",
   "execution_count": 34,
   "id": "649d6967-cc71-4769-b919-fc453e124856",
   "metadata": {},
   "outputs": [],
   "source": [
    "search = GridSearchCV(pipe, param_grid=params)"
   ]
  },
  {
   "cell_type": "code",
   "execution_count": 35,
   "id": "4d98e5b2-84e7-4563-8d0b-d321a8d2bb7e",
   "metadata": {
    "scrolled": true
   },
   "outputs": [
    {
     "data": {
      "text/html": [
       "<style>#sk-container-id-2 {color: black;}#sk-container-id-2 pre{padding: 0;}#sk-container-id-2 div.sk-toggleable {background-color: white;}#sk-container-id-2 label.sk-toggleable__label {cursor: pointer;display: block;width: 100%;margin-bottom: 0;padding: 0.3em;box-sizing: border-box;text-align: center;}#sk-container-id-2 label.sk-toggleable__label-arrow:before {content: \"▸\";float: left;margin-right: 0.25em;color: #696969;}#sk-container-id-2 label.sk-toggleable__label-arrow:hover:before {color: black;}#sk-container-id-2 div.sk-estimator:hover label.sk-toggleable__label-arrow:before {color: black;}#sk-container-id-2 div.sk-toggleable__content {max-height: 0;max-width: 0;overflow: hidden;text-align: left;background-color: #f0f8ff;}#sk-container-id-2 div.sk-toggleable__content pre {margin: 0.2em;color: black;border-radius: 0.25em;background-color: #f0f8ff;}#sk-container-id-2 input.sk-toggleable__control:checked~div.sk-toggleable__content {max-height: 200px;max-width: 100%;overflow: auto;}#sk-container-id-2 input.sk-toggleable__control:checked~label.sk-toggleable__label-arrow:before {content: \"▾\";}#sk-container-id-2 div.sk-estimator input.sk-toggleable__control:checked~label.sk-toggleable__label {background-color: #d4ebff;}#sk-container-id-2 div.sk-label input.sk-toggleable__control:checked~label.sk-toggleable__label {background-color: #d4ebff;}#sk-container-id-2 input.sk-hidden--visually {border: 0;clip: rect(1px 1px 1px 1px);clip: rect(1px, 1px, 1px, 1px);height: 1px;margin: -1px;overflow: hidden;padding: 0;position: absolute;width: 1px;}#sk-container-id-2 div.sk-estimator {font-family: monospace;background-color: #f0f8ff;border: 1px dotted black;border-radius: 0.25em;box-sizing: border-box;margin-bottom: 0.5em;}#sk-container-id-2 div.sk-estimator:hover {background-color: #d4ebff;}#sk-container-id-2 div.sk-parallel-item::after {content: \"\";width: 100%;border-bottom: 1px solid gray;flex-grow: 1;}#sk-container-id-2 div.sk-label:hover label.sk-toggleable__label {background-color: #d4ebff;}#sk-container-id-2 div.sk-serial::before {content: \"\";position: absolute;border-left: 1px solid gray;box-sizing: border-box;top: 0;bottom: 0;left: 50%;z-index: 0;}#sk-container-id-2 div.sk-serial {display: flex;flex-direction: column;align-items: center;background-color: white;padding-right: 0.2em;padding-left: 0.2em;position: relative;}#sk-container-id-2 div.sk-item {position: relative;z-index: 1;}#sk-container-id-2 div.sk-parallel {display: flex;align-items: stretch;justify-content: center;background-color: white;position: relative;}#sk-container-id-2 div.sk-item::before, #sk-container-id-2 div.sk-parallel-item::before {content: \"\";position: absolute;border-left: 1px solid gray;box-sizing: border-box;top: 0;bottom: 0;left: 50%;z-index: -1;}#sk-container-id-2 div.sk-parallel-item {display: flex;flex-direction: column;z-index: 1;position: relative;background-color: white;}#sk-container-id-2 div.sk-parallel-item:first-child::after {align-self: flex-end;width: 50%;}#sk-container-id-2 div.sk-parallel-item:last-child::after {align-self: flex-start;width: 50%;}#sk-container-id-2 div.sk-parallel-item:only-child::after {width: 0;}#sk-container-id-2 div.sk-dashed-wrapped {border: 1px dashed gray;margin: 0 0.4em 0.5em 0.4em;box-sizing: border-box;padding-bottom: 0.4em;background-color: white;}#sk-container-id-2 div.sk-label label {font-family: monospace;font-weight: bold;display: inline-block;line-height: 1.2em;}#sk-container-id-2 div.sk-label-container {text-align: center;}#sk-container-id-2 div.sk-container {/* jupyter's `normalize.less` sets `[hidden] { display: none; }` but bootstrap.min.css set `[hidden] { display: none !important; }` so we also need the `!important` here to be able to override the default hidden behavior on the sphinx rendered scikit-learn.org. See: https://github.com/scikit-learn/scikit-learn/issues/21755 */display: inline-block !important;position: relative;}#sk-container-id-2 div.sk-text-repr-fallback {display: none;}</style><div id=\"sk-container-id-2\" class=\"sk-top-container\"><div class=\"sk-text-repr-fallback\"><pre>GridSearchCV(estimator=Pipeline(steps=[(&#x27;prep&#x27;,\n",
       "                                        ColumnTransformer(remainder=&#x27;passthrough&#x27;,\n",
       "                                                          transformers=[(&#x27;min_max&#x27;,\n",
       "                                                                         MinMaxScaler(),\n",
       "                                                                         [&#x27;NUMPORTEL&#x27;,\n",
       "                                                                          &#x27;STORIES&#x27;,\n",
       "                                                                          &#x27;SQFTEST&#x27;,\n",
       "                                                                          &#x27;TOTROOMS&#x27;,\n",
       "                                                                          &#x27;NUMFRIG&#x27;,\n",
       "                                                                          &#x27;MICRO&#x27;,\n",
       "                                                                          &#x27;TVCOLOR&#x27;,\n",
       "                                                                          &#x27;NHSLDMEM&#x27;,\n",
       "                                                                          &#x27;TOTAL_BATH&#x27;,\n",
       "                                                                          &#x27;TOTAL_COMP&#x27;,\n",
       "                                                                          &#x27;TOTAL_LIGHT&#x27;]),\n",
       "                                                                        (&#x27;ohe&#x27;,\n",
       "                                                                         OneHotEncoder(handle_unknown=&#x27;ignore&#x27;,\n",
       "                                                                                       sparse_output=False),\n",
       "                                                                         [&#x27;REGIONC&#x27;,\n",
       "                                                                          &#x27;state_name&#x27;,\n",
       "                                                                          &#x27;BA_climate&#x27;,\n",
       "                                                                          &#x27;TYPEHUQ&#x27;,\n",
       "                                                                          &#x27;YEARMADERANGE&#x27;,\n",
       "                                                                          &#x27;WINDOWS&#x27;,\n",
       "                                                                          &#x27;EQUIPM&#x27;])])),\n",
       "                                       (&#x27;model&#x27;, ElasticNet())]),\n",
       "             param_grid={&#x27;model__alpha&#x27;: [0.001, 0.01, 0.1, 1, 10],\n",
       "                         &#x27;model__l1_ratio&#x27;: [0.1, 0.2, 0.5, 0.8]})</pre><b>In a Jupyter environment, please rerun this cell to show the HTML representation or trust the notebook. <br />On GitHub, the HTML representation is unable to render, please try loading this page with nbviewer.org.</b></div><div class=\"sk-container\" hidden><div class=\"sk-item sk-dashed-wrapped\"><div class=\"sk-label-container\"><div class=\"sk-label sk-toggleable\"><input class=\"sk-toggleable__control sk-hidden--visually\" id=\"sk-estimator-id-11\" type=\"checkbox\" ><label for=\"sk-estimator-id-11\" class=\"sk-toggleable__label sk-toggleable__label-arrow\">GridSearchCV</label><div class=\"sk-toggleable__content\"><pre>GridSearchCV(estimator=Pipeline(steps=[(&#x27;prep&#x27;,\n",
       "                                        ColumnTransformer(remainder=&#x27;passthrough&#x27;,\n",
       "                                                          transformers=[(&#x27;min_max&#x27;,\n",
       "                                                                         MinMaxScaler(),\n",
       "                                                                         [&#x27;NUMPORTEL&#x27;,\n",
       "                                                                          &#x27;STORIES&#x27;,\n",
       "                                                                          &#x27;SQFTEST&#x27;,\n",
       "                                                                          &#x27;TOTROOMS&#x27;,\n",
       "                                                                          &#x27;NUMFRIG&#x27;,\n",
       "                                                                          &#x27;MICRO&#x27;,\n",
       "                                                                          &#x27;TVCOLOR&#x27;,\n",
       "                                                                          &#x27;NHSLDMEM&#x27;,\n",
       "                                                                          &#x27;TOTAL_BATH&#x27;,\n",
       "                                                                          &#x27;TOTAL_COMP&#x27;,\n",
       "                                                                          &#x27;TOTAL_LIGHT&#x27;]),\n",
       "                                                                        (&#x27;ohe&#x27;,\n",
       "                                                                         OneHotEncoder(handle_unknown=&#x27;ignore&#x27;,\n",
       "                                                                                       sparse_output=False),\n",
       "                                                                         [&#x27;REGIONC&#x27;,\n",
       "                                                                          &#x27;state_name&#x27;,\n",
       "                                                                          &#x27;BA_climate&#x27;,\n",
       "                                                                          &#x27;TYPEHUQ&#x27;,\n",
       "                                                                          &#x27;YEARMADERANGE&#x27;,\n",
       "                                                                          &#x27;WINDOWS&#x27;,\n",
       "                                                                          &#x27;EQUIPM&#x27;])])),\n",
       "                                       (&#x27;model&#x27;, ElasticNet())]),\n",
       "             param_grid={&#x27;model__alpha&#x27;: [0.001, 0.01, 0.1, 1, 10],\n",
       "                         &#x27;model__l1_ratio&#x27;: [0.1, 0.2, 0.5, 0.8]})</pre></div></div></div><div class=\"sk-parallel\"><div class=\"sk-parallel-item\"><div class=\"sk-item\"><div class=\"sk-label-container\"><div class=\"sk-label sk-toggleable\"><input class=\"sk-toggleable__control sk-hidden--visually\" id=\"sk-estimator-id-12\" type=\"checkbox\" ><label for=\"sk-estimator-id-12\" class=\"sk-toggleable__label sk-toggleable__label-arrow\">estimator: Pipeline</label><div class=\"sk-toggleable__content\"><pre>Pipeline(steps=[(&#x27;prep&#x27;,\n",
       "                 ColumnTransformer(remainder=&#x27;passthrough&#x27;,\n",
       "                                   transformers=[(&#x27;min_max&#x27;, MinMaxScaler(),\n",
       "                                                  [&#x27;NUMPORTEL&#x27;, &#x27;STORIES&#x27;,\n",
       "                                                   &#x27;SQFTEST&#x27;, &#x27;TOTROOMS&#x27;,\n",
       "                                                   &#x27;NUMFRIG&#x27;, &#x27;MICRO&#x27;,\n",
       "                                                   &#x27;TVCOLOR&#x27;, &#x27;NHSLDMEM&#x27;,\n",
       "                                                   &#x27;TOTAL_BATH&#x27;, &#x27;TOTAL_COMP&#x27;,\n",
       "                                                   &#x27;TOTAL_LIGHT&#x27;]),\n",
       "                                                 (&#x27;ohe&#x27;,\n",
       "                                                  OneHotEncoder(handle_unknown=&#x27;ignore&#x27;,\n",
       "                                                                sparse_output=False),\n",
       "                                                  [&#x27;REGIONC&#x27;, &#x27;state_name&#x27;,\n",
       "                                                   &#x27;BA_climate&#x27;, &#x27;TYPEHUQ&#x27;,\n",
       "                                                   &#x27;YEARMADERANGE&#x27;, &#x27;WINDOWS&#x27;,\n",
       "                                                   &#x27;EQUIPM&#x27;])])),\n",
       "                (&#x27;model&#x27;, ElasticNet())])</pre></div></div></div><div class=\"sk-serial\"><div class=\"sk-item\"><div class=\"sk-serial\"><div class=\"sk-item sk-dashed-wrapped\"><div class=\"sk-label-container\"><div class=\"sk-label sk-toggleable\"><input class=\"sk-toggleable__control sk-hidden--visually\" id=\"sk-estimator-id-13\" type=\"checkbox\" ><label for=\"sk-estimator-id-13\" class=\"sk-toggleable__label sk-toggleable__label-arrow\">prep: ColumnTransformer</label><div class=\"sk-toggleable__content\"><pre>ColumnTransformer(remainder=&#x27;passthrough&#x27;,\n",
       "                  transformers=[(&#x27;min_max&#x27;, MinMaxScaler(),\n",
       "                                 [&#x27;NUMPORTEL&#x27;, &#x27;STORIES&#x27;, &#x27;SQFTEST&#x27;, &#x27;TOTROOMS&#x27;,\n",
       "                                  &#x27;NUMFRIG&#x27;, &#x27;MICRO&#x27;, &#x27;TVCOLOR&#x27;, &#x27;NHSLDMEM&#x27;,\n",
       "                                  &#x27;TOTAL_BATH&#x27;, &#x27;TOTAL_COMP&#x27;, &#x27;TOTAL_LIGHT&#x27;]),\n",
       "                                (&#x27;ohe&#x27;,\n",
       "                                 OneHotEncoder(handle_unknown=&#x27;ignore&#x27;,\n",
       "                                               sparse_output=False),\n",
       "                                 [&#x27;REGIONC&#x27;, &#x27;state_name&#x27;, &#x27;BA_climate&#x27;,\n",
       "                                  &#x27;TYPEHUQ&#x27;, &#x27;YEARMADERANGE&#x27;, &#x27;WINDOWS&#x27;,\n",
       "                                  &#x27;EQUIPM&#x27;])])</pre></div></div></div><div class=\"sk-parallel\"><div class=\"sk-parallel-item\"><div class=\"sk-item\"><div class=\"sk-label-container\"><div class=\"sk-label sk-toggleable\"><input class=\"sk-toggleable__control sk-hidden--visually\" id=\"sk-estimator-id-14\" type=\"checkbox\" ><label for=\"sk-estimator-id-14\" class=\"sk-toggleable__label sk-toggleable__label-arrow\">min_max</label><div class=\"sk-toggleable__content\"><pre>[&#x27;NUMPORTEL&#x27;, &#x27;STORIES&#x27;, &#x27;SQFTEST&#x27;, &#x27;TOTROOMS&#x27;, &#x27;NUMFRIG&#x27;, &#x27;MICRO&#x27;, &#x27;TVCOLOR&#x27;, &#x27;NHSLDMEM&#x27;, &#x27;TOTAL_BATH&#x27;, &#x27;TOTAL_COMP&#x27;, &#x27;TOTAL_LIGHT&#x27;]</pre></div></div></div><div class=\"sk-serial\"><div class=\"sk-item\"><div class=\"sk-estimator sk-toggleable\"><input class=\"sk-toggleable__control sk-hidden--visually\" id=\"sk-estimator-id-15\" type=\"checkbox\" ><label for=\"sk-estimator-id-15\" class=\"sk-toggleable__label sk-toggleable__label-arrow\">MinMaxScaler</label><div class=\"sk-toggleable__content\"><pre>MinMaxScaler()</pre></div></div></div></div></div></div><div class=\"sk-parallel-item\"><div class=\"sk-item\"><div class=\"sk-label-container\"><div class=\"sk-label sk-toggleable\"><input class=\"sk-toggleable__control sk-hidden--visually\" id=\"sk-estimator-id-16\" type=\"checkbox\" ><label for=\"sk-estimator-id-16\" class=\"sk-toggleable__label sk-toggleable__label-arrow\">ohe</label><div class=\"sk-toggleable__content\"><pre>[&#x27;REGIONC&#x27;, &#x27;state_name&#x27;, &#x27;BA_climate&#x27;, &#x27;TYPEHUQ&#x27;, &#x27;YEARMADERANGE&#x27;, &#x27;WINDOWS&#x27;, &#x27;EQUIPM&#x27;]</pre></div></div></div><div class=\"sk-serial\"><div class=\"sk-item\"><div class=\"sk-estimator sk-toggleable\"><input class=\"sk-toggleable__control sk-hidden--visually\" id=\"sk-estimator-id-17\" type=\"checkbox\" ><label for=\"sk-estimator-id-17\" class=\"sk-toggleable__label sk-toggleable__label-arrow\">OneHotEncoder</label><div class=\"sk-toggleable__content\"><pre>OneHotEncoder(handle_unknown=&#x27;ignore&#x27;, sparse_output=False)</pre></div></div></div></div></div></div><div class=\"sk-parallel-item\"><div class=\"sk-item\"><div class=\"sk-label-container\"><div class=\"sk-label sk-toggleable\"><input class=\"sk-toggleable__control sk-hidden--visually\" id=\"sk-estimator-id-18\" type=\"checkbox\" ><label for=\"sk-estimator-id-18\" class=\"sk-toggleable__label sk-toggleable__label-arrow\">remainder</label><div class=\"sk-toggleable__content\"><pre></pre></div></div></div><div class=\"sk-serial\"><div class=\"sk-item\"><div class=\"sk-estimator sk-toggleable\"><input class=\"sk-toggleable__control sk-hidden--visually\" id=\"sk-estimator-id-19\" type=\"checkbox\" ><label for=\"sk-estimator-id-19\" class=\"sk-toggleable__label sk-toggleable__label-arrow\">passthrough</label><div class=\"sk-toggleable__content\"><pre>passthrough</pre></div></div></div></div></div></div></div></div><div class=\"sk-item\"><div class=\"sk-estimator sk-toggleable\"><input class=\"sk-toggleable__control sk-hidden--visually\" id=\"sk-estimator-id-20\" type=\"checkbox\" ><label for=\"sk-estimator-id-20\" class=\"sk-toggleable__label sk-toggleable__label-arrow\">ElasticNet</label><div class=\"sk-toggleable__content\"><pre>ElasticNet()</pre></div></div></div></div></div></div></div></div></div></div></div></div>"
      ],
      "text/plain": [
       "GridSearchCV(estimator=Pipeline(steps=[('prep',\n",
       "                                        ColumnTransformer(remainder='passthrough',\n",
       "                                                          transformers=[('min_max',\n",
       "                                                                         MinMaxScaler(),\n",
       "                                                                         ['NUMPORTEL',\n",
       "                                                                          'STORIES',\n",
       "                                                                          'SQFTEST',\n",
       "                                                                          'TOTROOMS',\n",
       "                                                                          'NUMFRIG',\n",
       "                                                                          'MICRO',\n",
       "                                                                          'TVCOLOR',\n",
       "                                                                          'NHSLDMEM',\n",
       "                                                                          'TOTAL_BATH',\n",
       "                                                                          'TOTAL_COMP',\n",
       "                                                                          'TOTAL_LIGHT']),\n",
       "                                                                        ('ohe',\n",
       "                                                                         OneHotEncoder(handle_unknown='ignore',\n",
       "                                                                                       sparse_output=False),\n",
       "                                                                         ['REGIONC',\n",
       "                                                                          'state_name',\n",
       "                                                                          'BA_climate',\n",
       "                                                                          'TYPEHUQ',\n",
       "                                                                          'YEARMADERANGE',\n",
       "                                                                          'WINDOWS',\n",
       "                                                                          'EQUIPM'])])),\n",
       "                                       ('model', ElasticNet())]),\n",
       "             param_grid={'model__alpha': [0.001, 0.01, 0.1, 1, 10],\n",
       "                         'model__l1_ratio': [0.1, 0.2, 0.5, 0.8]})"
      ]
     },
     "execution_count": 35,
     "metadata": {},
     "output_type": "execute_result"
    }
   ],
   "source": [
    "search.fit(X_train, y_train_p)"
   ]
  },
  {
   "cell_type": "code",
   "execution_count": 36,
   "id": "82ff696e-64b5-4c30-92c8-24ff5136578e",
   "metadata": {},
   "outputs": [
    {
     "data": {
      "text/plain": [
       "0.5422175834725463"
      ]
     },
     "execution_count": 36,
     "metadata": {},
     "output_type": "execute_result"
    }
   ],
   "source": [
    "search.best_score_"
   ]
  },
  {
   "cell_type": "code",
   "execution_count": 30,
   "id": "a44b572e-b155-4a8d-983b-2b5be690bc08",
   "metadata": {},
   "outputs": [
    {
     "data": {
      "text/plain": [
       "{'fit_time': array([0.12209702, 0.13957977, 0.14752269, 0.1435442 , 0.14555979]),\n",
       " 'score_time': array([0.03126574, 0.02787924, 0.02887201, 0.04096174, 0.02188373]),\n",
       " 'test_score': array([-1.75000429e-06, -2.31601231e-06, -1.36734691e-06, -4.78692418e-04,\n",
       "        -5.80409686e-04])}"
      ]
     },
     "execution_count": 30,
     "metadata": {},
     "output_type": "execute_result"
    }
   ],
   "source": [
    "cross_validate(pipe, X_train, y_train_p, cv =5 )"
   ]
  },
  {
   "cell_type": "code",
   "execution_count": 15,
   "id": "a69557de-ab87-48da-8927-611e34672141",
   "metadata": {},
   "outputs": [
    {
     "ename": "NotFittedError",
     "evalue": "This ColumnTransformer instance is not fitted yet. Call 'fit' with appropriate arguments before using this estimator.",
     "output_type": "error",
     "traceback": [
      "\u001b[0;31m---------------------------------------------------------------------------\u001b[0m",
      "\u001b[0;31mNotFittedError\u001b[0m                            Traceback (most recent call last)",
      "Cell \u001b[0;32mIn[15], line 1\u001b[0m\n\u001b[0;32m----> 1\u001b[0m X_trans \u001b[38;5;241m=\u001b[39m \u001b[43mprep2\u001b[49m\u001b[38;5;241;43m.\u001b[39;49m\u001b[43mtransform\u001b[49m\u001b[43m(\u001b[49m\u001b[43mX_train\u001b[49m\u001b[43m)\u001b[49m\n\u001b[1;32m      2\u001b[0m X_trans_test \u001b[38;5;241m=\u001b[39m prep2\u001b[38;5;241m.\u001b[39mtransform(X_test)\n",
      "File \u001b[0;32m~/.pyenv/versions/3.10.6/envs/01-household-energy/lib/python3.10/site-packages/sklearn/utils/_set_output.py:157\u001b[0m, in \u001b[0;36m_wrap_method_output.<locals>.wrapped\u001b[0;34m(self, X, *args, **kwargs)\u001b[0m\n\u001b[1;32m    155\u001b[0m \u001b[38;5;129m@wraps\u001b[39m(f)\n\u001b[1;32m    156\u001b[0m \u001b[38;5;28;01mdef\u001b[39;00m \u001b[38;5;21mwrapped\u001b[39m(\u001b[38;5;28mself\u001b[39m, X, \u001b[38;5;241m*\u001b[39margs, \u001b[38;5;241m*\u001b[39m\u001b[38;5;241m*\u001b[39mkwargs):\n\u001b[0;32m--> 157\u001b[0m     data_to_wrap \u001b[38;5;241m=\u001b[39m \u001b[43mf\u001b[49m\u001b[43m(\u001b[49m\u001b[38;5;28;43mself\u001b[39;49m\u001b[43m,\u001b[49m\u001b[43m \u001b[49m\u001b[43mX\u001b[49m\u001b[43m,\u001b[49m\u001b[43m \u001b[49m\u001b[38;5;241;43m*\u001b[39;49m\u001b[43margs\u001b[49m\u001b[43m,\u001b[49m\u001b[43m \u001b[49m\u001b[38;5;241;43m*\u001b[39;49m\u001b[38;5;241;43m*\u001b[39;49m\u001b[43mkwargs\u001b[49m\u001b[43m)\u001b[49m\n\u001b[1;32m    158\u001b[0m     \u001b[38;5;28;01mif\u001b[39;00m \u001b[38;5;28misinstance\u001b[39m(data_to_wrap, \u001b[38;5;28mtuple\u001b[39m):\n\u001b[1;32m    159\u001b[0m         \u001b[38;5;66;03m# only wrap the first output for cross decomposition\u001b[39;00m\n\u001b[1;32m    160\u001b[0m         return_tuple \u001b[38;5;241m=\u001b[39m (\n\u001b[1;32m    161\u001b[0m             _wrap_data_with_container(method, data_to_wrap[\u001b[38;5;241m0\u001b[39m], X, \u001b[38;5;28mself\u001b[39m),\n\u001b[1;32m    162\u001b[0m             \u001b[38;5;241m*\u001b[39mdata_to_wrap[\u001b[38;5;241m1\u001b[39m:],\n\u001b[1;32m    163\u001b[0m         )\n",
      "File \u001b[0;32m~/.pyenv/versions/3.10.6/envs/01-household-energy/lib/python3.10/site-packages/sklearn/compose/_column_transformer.py:797\u001b[0m, in \u001b[0;36mColumnTransformer.transform\u001b[0;34m(self, X)\u001b[0m\n\u001b[1;32m    780\u001b[0m \u001b[38;5;28;01mdef\u001b[39;00m \u001b[38;5;21mtransform\u001b[39m(\u001b[38;5;28mself\u001b[39m, X):\n\u001b[1;32m    781\u001b[0m \u001b[38;5;250m    \u001b[39m\u001b[38;5;124;03m\"\"\"Transform X separately by each transformer, concatenate results.\u001b[39;00m\n\u001b[1;32m    782\u001b[0m \n\u001b[1;32m    783\u001b[0m \u001b[38;5;124;03m    Parameters\u001b[39;00m\n\u001b[0;32m   (...)\u001b[0m\n\u001b[1;32m    795\u001b[0m \u001b[38;5;124;03m        sparse matrices.\u001b[39;00m\n\u001b[1;32m    796\u001b[0m \u001b[38;5;124;03m    \"\"\"\u001b[39;00m\n\u001b[0;32m--> 797\u001b[0m     \u001b[43mcheck_is_fitted\u001b[49m\u001b[43m(\u001b[49m\u001b[38;5;28;43mself\u001b[39;49m\u001b[43m)\u001b[49m\n\u001b[1;32m    798\u001b[0m     X \u001b[38;5;241m=\u001b[39m _check_X(X)\n\u001b[1;32m    800\u001b[0m     fit_dataframe_and_transform_dataframe \u001b[38;5;241m=\u001b[39m \u001b[38;5;28mhasattr\u001b[39m(\n\u001b[1;32m    801\u001b[0m         \u001b[38;5;28mself\u001b[39m, \u001b[38;5;124m\"\u001b[39m\u001b[38;5;124mfeature_names_in_\u001b[39m\u001b[38;5;124m\"\u001b[39m\n\u001b[1;32m    802\u001b[0m     ) \u001b[38;5;129;01mand\u001b[39;00m \u001b[38;5;28mhasattr\u001b[39m(X, \u001b[38;5;124m\"\u001b[39m\u001b[38;5;124mcolumns\u001b[39m\u001b[38;5;124m\"\u001b[39m)\n",
      "File \u001b[0;32m~/.pyenv/versions/3.10.6/envs/01-household-energy/lib/python3.10/site-packages/sklearn/utils/validation.py:1461\u001b[0m, in \u001b[0;36mcheck_is_fitted\u001b[0;34m(estimator, attributes, msg, all_or_any)\u001b[0m\n\u001b[1;32m   1458\u001b[0m     \u001b[38;5;28;01mraise\u001b[39;00m \u001b[38;5;167;01mTypeError\u001b[39;00m(\u001b[38;5;124m\"\u001b[39m\u001b[38;5;132;01m%s\u001b[39;00m\u001b[38;5;124m is not an estimator instance.\u001b[39m\u001b[38;5;124m\"\u001b[39m \u001b[38;5;241m%\u001b[39m (estimator))\n\u001b[1;32m   1460\u001b[0m \u001b[38;5;28;01mif\u001b[39;00m \u001b[38;5;129;01mnot\u001b[39;00m _is_fitted(estimator, attributes, all_or_any):\n\u001b[0;32m-> 1461\u001b[0m     \u001b[38;5;28;01mraise\u001b[39;00m NotFittedError(msg \u001b[38;5;241m%\u001b[39m {\u001b[38;5;124m\"\u001b[39m\u001b[38;5;124mname\u001b[39m\u001b[38;5;124m\"\u001b[39m: \u001b[38;5;28mtype\u001b[39m(estimator)\u001b[38;5;241m.\u001b[39m\u001b[38;5;18m__name__\u001b[39m})\n",
      "\u001b[0;31mNotFittedError\u001b[0m: This ColumnTransformer instance is not fitted yet. Call 'fit' with appropriate arguments before using this estimator."
     ]
    }
   ],
   "source": [
    "X_trans = prep2.transform(X_train)\n",
    "X_trans_test = prep2.transform(X_test)"
   ]
  },
  {
   "cell_type": "code",
   "execution_count": null,
   "id": "1b046925-c66b-4ba6-b847-4f6d2af460c9",
   "metadata": {},
   "outputs": [],
   "source": [
    "model = LinearRegression()\n",
    "model.fit(X_trans, y_train)"
   ]
  },
  {
   "cell_type": "code",
   "execution_count": 309,
   "id": "a5ca7e74-d683-436c-874f-43c30216598e",
   "metadata": {},
   "outputs": [
    {
     "data": {
      "text/plain": [
       "0.49769718217717623"
      ]
     },
     "execution_count": 309,
     "metadata": {},
     "output_type": "execute_result"
    }
   ],
   "source": [
    "cross_validate(model , X_trans, y_train, cv=5 )[\"test_score\"].mean()"
   ]
  },
  {
   "cell_type": "code",
   "execution_count": 310,
   "id": "624eff23-a126-408a-a077-9258a0b096e0",
   "metadata": {},
   "outputs": [
    {
     "data": {
      "text/plain": [
       "0.5302786418145256"
      ]
     },
     "execution_count": 310,
     "metadata": {},
     "output_type": "execute_result"
    }
   ],
   "source": [
    "cross_validate(model , X_trans, y_train_p, cv=5 )[\"test_score\"].mean()"
   ]
  },
  {
   "cell_type": "code",
   "execution_count": 339,
   "id": "f8664b52-ac9b-4e48-a47f-13b8e7cf34f7",
   "metadata": {},
   "outputs": [],
   "source": [
    "from household_package.registry import load_model_locally_log\n",
    "import os "
   ]
  },
  {
   "cell_type": "code",
   "execution_count": 340,
   "id": "edaab037-c47b-4ff8-8107-121f71d17f94",
   "metadata": {},
   "outputs": [
    {
     "name": "stdout",
     "output_type": "stream",
     "text": [
      "[<Blob: 01_household_energy, models/baseline_20231129-122043.pkl, 1701256844126884>, <Blob: 01_household_energy, models/baseline_20231129-131320.pkl, 1701260000941981>, <Blob: 01_household_energy, models/baseline_20231130-102940.pkl, 1701337090569311>, <Blob: 01_household_energy, models/baseline_20231201-151102.pkl, 1701439862204187>]\n"
     ]
    }
   ],
   "source": [
    "client = storage.Client()\n",
    "blobs = list(client.get_bucket(BUCKET_NAME).list_blobs(prefix=\"model\"))\n",
    "print(blobs)\n",
    "    #print(blobs)\n",
    "latest_blob = max(blobs, key=lambda x: x.updated)\n",
    "        #print(latest_blob.name)\n",
    "latest_model_path_to_save = os.path.join(LOCAL_REGISTRY_PATH, latest_blob.name)\n",
    "latest_blob.download_to_filename(latest_model_path_to_save)\n",
    "\n",
    "with open(latest_model_path_to_save , 'rb') as f:\n",
    "    latest_model = pickle.load(f)"
   ]
  },
  {
   "cell_type": "code",
   "execution_count": 341,
   "id": "9b3271f1-5078-42db-9915-cf4f5dfdaac9",
   "metadata": {},
   "outputs": [
    {
     "data": {
      "text/html": [
       "<style>#sk-container-id-22 {color: black;}#sk-container-id-22 pre{padding: 0;}#sk-container-id-22 div.sk-toggleable {background-color: white;}#sk-container-id-22 label.sk-toggleable__label {cursor: pointer;display: block;width: 100%;margin-bottom: 0;padding: 0.3em;box-sizing: border-box;text-align: center;}#sk-container-id-22 label.sk-toggleable__label-arrow:before {content: \"▸\";float: left;margin-right: 0.25em;color: #696969;}#sk-container-id-22 label.sk-toggleable__label-arrow:hover:before {color: black;}#sk-container-id-22 div.sk-estimator:hover label.sk-toggleable__label-arrow:before {color: black;}#sk-container-id-22 div.sk-toggleable__content {max-height: 0;max-width: 0;overflow: hidden;text-align: left;background-color: #f0f8ff;}#sk-container-id-22 div.sk-toggleable__content pre {margin: 0.2em;color: black;border-radius: 0.25em;background-color: #f0f8ff;}#sk-container-id-22 input.sk-toggleable__control:checked~div.sk-toggleable__content {max-height: 200px;max-width: 100%;overflow: auto;}#sk-container-id-22 input.sk-toggleable__control:checked~label.sk-toggleable__label-arrow:before {content: \"▾\";}#sk-container-id-22 div.sk-estimator input.sk-toggleable__control:checked~label.sk-toggleable__label {background-color: #d4ebff;}#sk-container-id-22 div.sk-label input.sk-toggleable__control:checked~label.sk-toggleable__label {background-color: #d4ebff;}#sk-container-id-22 input.sk-hidden--visually {border: 0;clip: rect(1px 1px 1px 1px);clip: rect(1px, 1px, 1px, 1px);height: 1px;margin: -1px;overflow: hidden;padding: 0;position: absolute;width: 1px;}#sk-container-id-22 div.sk-estimator {font-family: monospace;background-color: #f0f8ff;border: 1px dotted black;border-radius: 0.25em;box-sizing: border-box;margin-bottom: 0.5em;}#sk-container-id-22 div.sk-estimator:hover {background-color: #d4ebff;}#sk-container-id-22 div.sk-parallel-item::after {content: \"\";width: 100%;border-bottom: 1px solid gray;flex-grow: 1;}#sk-container-id-22 div.sk-label:hover label.sk-toggleable__label {background-color: #d4ebff;}#sk-container-id-22 div.sk-serial::before {content: \"\";position: absolute;border-left: 1px solid gray;box-sizing: border-box;top: 0;bottom: 0;left: 50%;z-index: 0;}#sk-container-id-22 div.sk-serial {display: flex;flex-direction: column;align-items: center;background-color: white;padding-right: 0.2em;padding-left: 0.2em;position: relative;}#sk-container-id-22 div.sk-item {position: relative;z-index: 1;}#sk-container-id-22 div.sk-parallel {display: flex;align-items: stretch;justify-content: center;background-color: white;position: relative;}#sk-container-id-22 div.sk-item::before, #sk-container-id-22 div.sk-parallel-item::before {content: \"\";position: absolute;border-left: 1px solid gray;box-sizing: border-box;top: 0;bottom: 0;left: 50%;z-index: -1;}#sk-container-id-22 div.sk-parallel-item {display: flex;flex-direction: column;z-index: 1;position: relative;background-color: white;}#sk-container-id-22 div.sk-parallel-item:first-child::after {align-self: flex-end;width: 50%;}#sk-container-id-22 div.sk-parallel-item:last-child::after {align-self: flex-start;width: 50%;}#sk-container-id-22 div.sk-parallel-item:only-child::after {width: 0;}#sk-container-id-22 div.sk-dashed-wrapped {border: 1px dashed gray;margin: 0 0.4em 0.5em 0.4em;box-sizing: border-box;padding-bottom: 0.4em;background-color: white;}#sk-container-id-22 div.sk-label label {font-family: monospace;font-weight: bold;display: inline-block;line-height: 1.2em;}#sk-container-id-22 div.sk-label-container {text-align: center;}#sk-container-id-22 div.sk-container {/* jupyter's `normalize.less` sets `[hidden] { display: none; }` but bootstrap.min.css set `[hidden] { display: none !important; }` so we also need the `!important` here to be able to override the default hidden behavior on the sphinx rendered scikit-learn.org. See: https://github.com/scikit-learn/scikit-learn/issues/21755 */display: inline-block !important;position: relative;}#sk-container-id-22 div.sk-text-repr-fallback {display: none;}</style><div id=\"sk-container-id-22\" class=\"sk-top-container\"><div class=\"sk-text-repr-fallback\"><pre>Pipeline(steps=[(&#x27;prep&#x27;,\n",
       "                 ColumnTransformer(remainder=&#x27;passthrough&#x27;,\n",
       "                                   transformers=[(&#x27;min_max&#x27;, MinMaxScaler(),\n",
       "                                                  [&#x27;NUMPORTEL&#x27;, &#x27;STORIES&#x27;,\n",
       "                                                   &#x27;SQFTEST&#x27;, &#x27;TOTROOMS&#x27;,\n",
       "                                                   &#x27;NUMFRIG&#x27;, &#x27;MICRO&#x27;,\n",
       "                                                   &#x27;TVCOLOR&#x27;, &#x27;NHSLDMEM&#x27;,\n",
       "                                                   &#x27;TOTAL_BATH&#x27;, &#x27;TOTAL_COMP&#x27;,\n",
       "                                                   &#x27;TOTAL_LIGHT&#x27;]),\n",
       "                                                 (&#x27;ohe&#x27;,\n",
       "                                                  OneHotEncoder(handle_unknown=&#x27;ignore&#x27;,\n",
       "                                                                sparse_output=False),\n",
       "                                                  [&#x27;REGIONC&#x27;, &#x27;state_name&#x27;,\n",
       "                                                   &#x27;BA_climate&#x27;, &#x27;TYPEHUQ&#x27;,\n",
       "                                                   &#x27;YEARMADERANGE&#x27;, &#x27;WINDOWS&#x27;,\n",
       "                                                   &#x27;EQUIPM&#x27;])])),\n",
       "                (&#x27;model&#x27;, LinearRegression())])</pre><b>In a Jupyter environment, please rerun this cell to show the HTML representation or trust the notebook. <br />On GitHub, the HTML representation is unable to render, please try loading this page with nbviewer.org.</b></div><div class=\"sk-container\" hidden><div class=\"sk-item sk-dashed-wrapped\"><div class=\"sk-label-container\"><div class=\"sk-label sk-toggleable\"><input class=\"sk-toggleable__control sk-hidden--visually\" id=\"sk-estimator-id-140\" type=\"checkbox\" ><label for=\"sk-estimator-id-140\" class=\"sk-toggleable__label sk-toggleable__label-arrow\">Pipeline</label><div class=\"sk-toggleable__content\"><pre>Pipeline(steps=[(&#x27;prep&#x27;,\n",
       "                 ColumnTransformer(remainder=&#x27;passthrough&#x27;,\n",
       "                                   transformers=[(&#x27;min_max&#x27;, MinMaxScaler(),\n",
       "                                                  [&#x27;NUMPORTEL&#x27;, &#x27;STORIES&#x27;,\n",
       "                                                   &#x27;SQFTEST&#x27;, &#x27;TOTROOMS&#x27;,\n",
       "                                                   &#x27;NUMFRIG&#x27;, &#x27;MICRO&#x27;,\n",
       "                                                   &#x27;TVCOLOR&#x27;, &#x27;NHSLDMEM&#x27;,\n",
       "                                                   &#x27;TOTAL_BATH&#x27;, &#x27;TOTAL_COMP&#x27;,\n",
       "                                                   &#x27;TOTAL_LIGHT&#x27;]),\n",
       "                                                 (&#x27;ohe&#x27;,\n",
       "                                                  OneHotEncoder(handle_unknown=&#x27;ignore&#x27;,\n",
       "                                                                sparse_output=False),\n",
       "                                                  [&#x27;REGIONC&#x27;, &#x27;state_name&#x27;,\n",
       "                                                   &#x27;BA_climate&#x27;, &#x27;TYPEHUQ&#x27;,\n",
       "                                                   &#x27;YEARMADERANGE&#x27;, &#x27;WINDOWS&#x27;,\n",
       "                                                   &#x27;EQUIPM&#x27;])])),\n",
       "                (&#x27;model&#x27;, LinearRegression())])</pre></div></div></div><div class=\"sk-serial\"><div class=\"sk-item sk-dashed-wrapped\"><div class=\"sk-label-container\"><div class=\"sk-label sk-toggleable\"><input class=\"sk-toggleable__control sk-hidden--visually\" id=\"sk-estimator-id-141\" type=\"checkbox\" ><label for=\"sk-estimator-id-141\" class=\"sk-toggleable__label sk-toggleable__label-arrow\">prep: ColumnTransformer</label><div class=\"sk-toggleable__content\"><pre>ColumnTransformer(remainder=&#x27;passthrough&#x27;,\n",
       "                  transformers=[(&#x27;min_max&#x27;, MinMaxScaler(),\n",
       "                                 [&#x27;NUMPORTEL&#x27;, &#x27;STORIES&#x27;, &#x27;SQFTEST&#x27;, &#x27;TOTROOMS&#x27;,\n",
       "                                  &#x27;NUMFRIG&#x27;, &#x27;MICRO&#x27;, &#x27;TVCOLOR&#x27;, &#x27;NHSLDMEM&#x27;,\n",
       "                                  &#x27;TOTAL_BATH&#x27;, &#x27;TOTAL_COMP&#x27;, &#x27;TOTAL_LIGHT&#x27;]),\n",
       "                                (&#x27;ohe&#x27;,\n",
       "                                 OneHotEncoder(handle_unknown=&#x27;ignore&#x27;,\n",
       "                                               sparse_output=False),\n",
       "                                 [&#x27;REGIONC&#x27;, &#x27;state_name&#x27;, &#x27;BA_climate&#x27;,\n",
       "                                  &#x27;TYPEHUQ&#x27;, &#x27;YEARMADERANGE&#x27;, &#x27;WINDOWS&#x27;,\n",
       "                                  &#x27;EQUIPM&#x27;])])</pre></div></div></div><div class=\"sk-parallel\"><div class=\"sk-parallel-item\"><div class=\"sk-item\"><div class=\"sk-label-container\"><div class=\"sk-label sk-toggleable\"><input class=\"sk-toggleable__control sk-hidden--visually\" id=\"sk-estimator-id-142\" type=\"checkbox\" ><label for=\"sk-estimator-id-142\" class=\"sk-toggleable__label sk-toggleable__label-arrow\">min_max</label><div class=\"sk-toggleable__content\"><pre>[&#x27;NUMPORTEL&#x27;, &#x27;STORIES&#x27;, &#x27;SQFTEST&#x27;, &#x27;TOTROOMS&#x27;, &#x27;NUMFRIG&#x27;, &#x27;MICRO&#x27;, &#x27;TVCOLOR&#x27;, &#x27;NHSLDMEM&#x27;, &#x27;TOTAL_BATH&#x27;, &#x27;TOTAL_COMP&#x27;, &#x27;TOTAL_LIGHT&#x27;]</pre></div></div></div><div class=\"sk-serial\"><div class=\"sk-item\"><div class=\"sk-estimator sk-toggleable\"><input class=\"sk-toggleable__control sk-hidden--visually\" id=\"sk-estimator-id-143\" type=\"checkbox\" ><label for=\"sk-estimator-id-143\" class=\"sk-toggleable__label sk-toggleable__label-arrow\">MinMaxScaler</label><div class=\"sk-toggleable__content\"><pre>MinMaxScaler()</pre></div></div></div></div></div></div><div class=\"sk-parallel-item\"><div class=\"sk-item\"><div class=\"sk-label-container\"><div class=\"sk-label sk-toggleable\"><input class=\"sk-toggleable__control sk-hidden--visually\" id=\"sk-estimator-id-144\" type=\"checkbox\" ><label for=\"sk-estimator-id-144\" class=\"sk-toggleable__label sk-toggleable__label-arrow\">ohe</label><div class=\"sk-toggleable__content\"><pre>[&#x27;REGIONC&#x27;, &#x27;state_name&#x27;, &#x27;BA_climate&#x27;, &#x27;TYPEHUQ&#x27;, &#x27;YEARMADERANGE&#x27;, &#x27;WINDOWS&#x27;, &#x27;EQUIPM&#x27;]</pre></div></div></div><div class=\"sk-serial\"><div class=\"sk-item\"><div class=\"sk-estimator sk-toggleable\"><input class=\"sk-toggleable__control sk-hidden--visually\" id=\"sk-estimator-id-145\" type=\"checkbox\" ><label for=\"sk-estimator-id-145\" class=\"sk-toggleable__label sk-toggleable__label-arrow\">OneHotEncoder</label><div class=\"sk-toggleable__content\"><pre>OneHotEncoder(handle_unknown=&#x27;ignore&#x27;, sparse_output=False)</pre></div></div></div></div></div></div><div class=\"sk-parallel-item\"><div class=\"sk-item\"><div class=\"sk-label-container\"><div class=\"sk-label sk-toggleable\"><input class=\"sk-toggleable__control sk-hidden--visually\" id=\"sk-estimator-id-146\" type=\"checkbox\" ><label for=\"sk-estimator-id-146\" class=\"sk-toggleable__label sk-toggleable__label-arrow\">remainder</label><div class=\"sk-toggleable__content\"><pre>[&#x27;SWIMPOOL&#x27;, &#x27;SOLAR&#x27;, &#x27;SMARTMETER&#x27;, &#x27;DISHWASH&#x27;, &#x27;CWASHER&#x27;, &#x27;DRYER&#x27;, &#x27;TELLWORK&#x27;, &#x27;HEATHOME&#x27;, &#x27;AIRCOND&#x27;]</pre></div></div></div><div class=\"sk-serial\"><div class=\"sk-item\"><div class=\"sk-estimator sk-toggleable\"><input class=\"sk-toggleable__control sk-hidden--visually\" id=\"sk-estimator-id-147\" type=\"checkbox\" ><label for=\"sk-estimator-id-147\" class=\"sk-toggleable__label sk-toggleable__label-arrow\">passthrough</label><div class=\"sk-toggleable__content\"><pre>passthrough</pre></div></div></div></div></div></div></div></div><div class=\"sk-item\"><div class=\"sk-estimator sk-toggleable\"><input class=\"sk-toggleable__control sk-hidden--visually\" id=\"sk-estimator-id-148\" type=\"checkbox\" ><label for=\"sk-estimator-id-148\" class=\"sk-toggleable__label sk-toggleable__label-arrow\">LinearRegression</label><div class=\"sk-toggleable__content\"><pre>LinearRegression()</pre></div></div></div></div></div></div></div>"
      ],
      "text/plain": [
       "Pipeline(steps=[('prep',\n",
       "                 ColumnTransformer(remainder='passthrough',\n",
       "                                   transformers=[('min_max', MinMaxScaler(),\n",
       "                                                  ['NUMPORTEL', 'STORIES',\n",
       "                                                   'SQFTEST', 'TOTROOMS',\n",
       "                                                   'NUMFRIG', 'MICRO',\n",
       "                                                   'TVCOLOR', 'NHSLDMEM',\n",
       "                                                   'TOTAL_BATH', 'TOTAL_COMP',\n",
       "                                                   'TOTAL_LIGHT']),\n",
       "                                                 ('ohe',\n",
       "                                                  OneHotEncoder(handle_unknown='ignore',\n",
       "                                                                sparse_output=False),\n",
       "                                                  ['REGIONC', 'state_name',\n",
       "                                                   'BA_climate', 'TYPEHUQ',\n",
       "                                                   'YEARMADERANGE', 'WINDOWS',\n",
       "                                                   'EQUIPM'])])),\n",
       "                ('model', LinearRegression())])"
      ]
     },
     "execution_count": 341,
     "metadata": {},
     "output_type": "execute_result"
    }
   ],
   "source": [
    "latest_model"
   ]
  },
  {
   "cell_type": "code",
   "execution_count": 346,
   "id": "ff94bb14-46ec-419f-8fb2-f6fbc6936bcb",
   "metadata": {},
   "outputs": [],
   "source": [
    "X , y = get_xy(df)\n",
    "X_train, X_test, y_train, y_test =  train_test_split(X,y, test_size=0.3)\n",
    "y_train_p = np.log(y_train.astype(\"float\"))\n",
    "y_test_p = np.log(y_test.astype(\"float\"))"
   ]
  },
  {
   "cell_type": "code",
   "execution_count": 347,
   "id": "2bc1c0ab-d96b-4588-8492-39ffc068502d",
   "metadata": {},
   "outputs": [
    {
     "data": {
      "text/plain": [
       "0.5491828147668718"
      ]
     },
     "execution_count": 347,
     "metadata": {},
     "output_type": "execute_result"
    }
   ],
   "source": [
    "latest_model.score(X_test, y_test_p)"
   ]
  },
  {
   "cell_type": "markdown",
   "id": "c9e01296-1cbb-4ba0-88be-b3a1f9d00ed9",
   "metadata": {},
   "source": [
    "### Final model"
   ]
  },
  {
   "cell_type": "code",
   "execution_count": 287,
   "id": "e404ef5d-12ee-45d4-bedd-191495ab3bc9",
   "metadata": {},
   "outputs": [],
   "source": [
    "columns = [\"REGIONC\", \"state_name\", \"BA_climate\", \"TYPEHUQ\", \"STORIES\", \"YEARMADERANGE\", \"NCOMBATH\", \"NHAFBATH\", \"TOTROOMS\", \"WALLTYPE\", \"ROOFTYPE\", \"WINDOWS\",\n",
    "           \"SWIMPOOL\", \"NUMFRIG\", \"MICRO\", \"DISHWASH\", \"CWASHER\", \"DRYER\", \"TVCOLOR\", \"DESKTOP\", \"NUMLAPTOP\",\n",
    "           \"TELLWORK\",\"HEATHOME\", \"EQUIPM\", \"NUMPORTEL\", \"AIRCOND\", \"LGTIN1TO4\", \"LGTIN4TO8\", \"LGTINMORE8\", \"SMARTMETER\", \"SOLAR\", \"NHSLDMEM\", \"SQFTEST\",\n",
    "          \"KWH\", \"DOLLAREL\"]\n",
    "\n",
    "df = pd.read_csv(\"https://www.eia.gov/consumption/residential/data/2020/csv/recs2020_public_v6.csv\",\n",
    "                     usecols=columns)\n",
    "\n",
    "#small_data = pd.DataFrame(df[[\"state_name\",\"KWH\", \"DOLLAREL\"]])\n",
    "\n",
    "df[\"PRICEKWH\"] =  small_data[\"DOLLAREL\"] /small_data[\"KWH\"] "
   ]
  },
  {
   "cell_type": "code",
   "execution_count": 286,
   "id": "325ab99f-e30d-43a3-9235-18efd9f7a4c3",
   "metadata": {},
   "outputs": [
    {
     "ename": "KeyError",
     "evalue": "'PRICEKWH'",
     "output_type": "error",
     "traceback": [
      "\u001b[0;31m---------------------------------------------------------------------------\u001b[0m",
      "\u001b[0;31mKeyError\u001b[0m                                  Traceback (most recent call last)",
      "File \u001b[0;32m~/.pyenv/versions/3.10.6/envs/01-household-energy/lib/python3.10/site-packages/pandas/core/indexes/base.py:3361\u001b[0m, in \u001b[0;36mIndex.get_loc\u001b[0;34m(self, key, method, tolerance)\u001b[0m\n\u001b[1;32m   3360\u001b[0m \u001b[38;5;28;01mtry\u001b[39;00m:\n\u001b[0;32m-> 3361\u001b[0m     \u001b[38;5;28;01mreturn\u001b[39;00m \u001b[38;5;28;43mself\u001b[39;49m\u001b[38;5;241;43m.\u001b[39;49m\u001b[43m_engine\u001b[49m\u001b[38;5;241;43m.\u001b[39;49m\u001b[43mget_loc\u001b[49m\u001b[43m(\u001b[49m\u001b[43mcasted_key\u001b[49m\u001b[43m)\u001b[49m\n\u001b[1;32m   3362\u001b[0m \u001b[38;5;28;01mexcept\u001b[39;00m \u001b[38;5;167;01mKeyError\u001b[39;00m \u001b[38;5;28;01mas\u001b[39;00m err:\n",
      "File \u001b[0;32m~/.pyenv/versions/3.10.6/envs/01-household-energy/lib/python3.10/site-packages/pandas/_libs/index.pyx:76\u001b[0m, in \u001b[0;36mpandas._libs.index.IndexEngine.get_loc\u001b[0;34m()\u001b[0m\n",
      "File \u001b[0;32m~/.pyenv/versions/3.10.6/envs/01-household-energy/lib/python3.10/site-packages/pandas/_libs/index.pyx:108\u001b[0m, in \u001b[0;36mpandas._libs.index.IndexEngine.get_loc\u001b[0;34m()\u001b[0m\n",
      "File \u001b[0;32mpandas/_libs/hashtable_class_helper.pxi:5198\u001b[0m, in \u001b[0;36mpandas._libs.hashtable.PyObjectHashTable.get_item\u001b[0;34m()\u001b[0m\n",
      "File \u001b[0;32mpandas/_libs/hashtable_class_helper.pxi:5206\u001b[0m, in \u001b[0;36mpandas._libs.hashtable.PyObjectHashTable.get_item\u001b[0;34m()\u001b[0m\n",
      "\u001b[0;31mKeyError\u001b[0m: 'PRICEKWH'",
      "\nThe above exception was the direct cause of the following exception:\n",
      "\u001b[0;31mKeyError\u001b[0m                                  Traceback (most recent call last)",
      "Cell \u001b[0;32mIn[286], line 2\u001b[0m\n\u001b[1;32m      1\u001b[0m df \u001b[38;5;241m=\u001b[39m df\u001b[38;5;241m.\u001b[39mdrop([\u001b[38;5;124m\"\u001b[39m\u001b[38;5;124mWALLTYPE\u001b[39m\u001b[38;5;124m\"\u001b[39m, \u001b[38;5;124m\"\u001b[39m\u001b[38;5;124mROOFTYPE\u001b[39m\u001b[38;5;124m\"\u001b[39m, \u001b[38;5;124m\"\u001b[39m\u001b[38;5;124mTELLWORK\u001b[39m\u001b[38;5;124m\"\u001b[39m,\u001b[38;5;124m\"\u001b[39m\u001b[38;5;124mSOLAR\u001b[39m\u001b[38;5;124m\"\u001b[39m, \u001b[38;5;124m\"\u001b[39m\u001b[38;5;124mSMARTMETER\u001b[39m\u001b[38;5;124m\"\u001b[39m, \u001b[38;5;124m\"\u001b[39m\u001b[38;5;124mREGIONC\u001b[39m\u001b[38;5;124m\"\u001b[39m, \u001b[38;5;124m\"\u001b[39m\u001b[38;5;124mDOLLAREL\u001b[39m\u001b[38;5;124m\"\u001b[39m], axis \u001b[38;5;241m=\u001b[39m \u001b[38;5;241m1\u001b[39m)\n\u001b[0;32m----> 2\u001b[0m df \u001b[38;5;241m=\u001b[39m \u001b[43mfilter_data\u001b[49m\u001b[43m(\u001b[49m\u001b[43mdf\u001b[49m\u001b[43m)\u001b[49m\n",
      "Cell \u001b[0;32mIn[265], line 12\u001b[0m, in \u001b[0;36mfilter_data\u001b[0;34m(df, min_perc, max_perc)\u001b[0m\n\u001b[1;32m      7\u001b[0m \u001b[38;5;66;03m#percentile_min_price = df['PRICEKWH'].quantile(min_perc)\u001b[39;00m\n\u001b[1;32m      8\u001b[0m \u001b[38;5;66;03m#percentile_max_price = df['PRICEKWH'].quantile(max_perc)\u001b[39;00m\n\u001b[1;32m      9\u001b[0m \n\u001b[1;32m     10\u001b[0m \u001b[38;5;66;03m# Filter the DataFrame based on the specified percentiles\u001b[39;00m\n\u001b[1;32m     11\u001b[0m df \u001b[38;5;241m=\u001b[39m df[(df[\u001b[38;5;124m'\u001b[39m\u001b[38;5;124mKWH\u001b[39m\u001b[38;5;124m'\u001b[39m] \u001b[38;5;241m>\u001b[39m\u001b[38;5;241m=\u001b[39m percentile_min) \u001b[38;5;241m&\u001b[39m (df[\u001b[38;5;124m'\u001b[39m\u001b[38;5;124mKWH\u001b[39m\u001b[38;5;124m'\u001b[39m] \u001b[38;5;241m<\u001b[39m\u001b[38;5;241m=\u001b[39m percentile_max)]\n\u001b[0;32m---> 12\u001b[0m df \u001b[38;5;241m=\u001b[39m df[(\u001b[43mdf\u001b[49m\u001b[43m[\u001b[49m\u001b[38;5;124;43m'\u001b[39;49m\u001b[38;5;124;43mPRICEKWH\u001b[39;49m\u001b[38;5;124;43m'\u001b[39;49m\u001b[43m]\u001b[49m \u001b[38;5;241m>\u001b[39m\u001b[38;5;241m=\u001b[39m \u001b[38;5;241m0\u001b[39m) \u001b[38;5;241m&\u001b[39m (df[\u001b[38;5;124m'\u001b[39m\u001b[38;5;124mPRICEKWH\u001b[39m\u001b[38;5;124m'\u001b[39m] \u001b[38;5;241m<\u001b[39m\u001b[38;5;241m=\u001b[39m \u001b[38;5;241m0.9\u001b[39m)]\n\u001b[1;32m     14\u001b[0m \u001b[38;5;28;01mreturn\u001b[39;00m df\n",
      "File \u001b[0;32m~/.pyenv/versions/3.10.6/envs/01-household-energy/lib/python3.10/site-packages/pandas/core/frame.py:3458\u001b[0m, in \u001b[0;36mDataFrame.__getitem__\u001b[0;34m(self, key)\u001b[0m\n\u001b[1;32m   3456\u001b[0m \u001b[38;5;28;01mif\u001b[39;00m \u001b[38;5;28mself\u001b[39m\u001b[38;5;241m.\u001b[39mcolumns\u001b[38;5;241m.\u001b[39mnlevels \u001b[38;5;241m>\u001b[39m \u001b[38;5;241m1\u001b[39m:\n\u001b[1;32m   3457\u001b[0m     \u001b[38;5;28;01mreturn\u001b[39;00m \u001b[38;5;28mself\u001b[39m\u001b[38;5;241m.\u001b[39m_getitem_multilevel(key)\n\u001b[0;32m-> 3458\u001b[0m indexer \u001b[38;5;241m=\u001b[39m \u001b[38;5;28;43mself\u001b[39;49m\u001b[38;5;241;43m.\u001b[39;49m\u001b[43mcolumns\u001b[49m\u001b[38;5;241;43m.\u001b[39;49m\u001b[43mget_loc\u001b[49m\u001b[43m(\u001b[49m\u001b[43mkey\u001b[49m\u001b[43m)\u001b[49m\n\u001b[1;32m   3459\u001b[0m \u001b[38;5;28;01mif\u001b[39;00m is_integer(indexer):\n\u001b[1;32m   3460\u001b[0m     indexer \u001b[38;5;241m=\u001b[39m [indexer]\n",
      "File \u001b[0;32m~/.pyenv/versions/3.10.6/envs/01-household-energy/lib/python3.10/site-packages/pandas/core/indexes/base.py:3363\u001b[0m, in \u001b[0;36mIndex.get_loc\u001b[0;34m(self, key, method, tolerance)\u001b[0m\n\u001b[1;32m   3361\u001b[0m         \u001b[38;5;28;01mreturn\u001b[39;00m \u001b[38;5;28mself\u001b[39m\u001b[38;5;241m.\u001b[39m_engine\u001b[38;5;241m.\u001b[39mget_loc(casted_key)\n\u001b[1;32m   3362\u001b[0m     \u001b[38;5;28;01mexcept\u001b[39;00m \u001b[38;5;167;01mKeyError\u001b[39;00m \u001b[38;5;28;01mas\u001b[39;00m err:\n\u001b[0;32m-> 3363\u001b[0m         \u001b[38;5;28;01mraise\u001b[39;00m \u001b[38;5;167;01mKeyError\u001b[39;00m(key) \u001b[38;5;28;01mfrom\u001b[39;00m \u001b[38;5;21;01merr\u001b[39;00m\n\u001b[1;32m   3365\u001b[0m \u001b[38;5;28;01mif\u001b[39;00m is_scalar(key) \u001b[38;5;129;01mand\u001b[39;00m isna(key) \u001b[38;5;129;01mand\u001b[39;00m \u001b[38;5;129;01mnot\u001b[39;00m \u001b[38;5;28mself\u001b[39m\u001b[38;5;241m.\u001b[39mhasnans:\n\u001b[1;32m   3366\u001b[0m     \u001b[38;5;28;01mraise\u001b[39;00m \u001b[38;5;167;01mKeyError\u001b[39;00m(key)\n",
      "\u001b[0;31mKeyError\u001b[0m: 'PRICEKWH'"
     ]
    }
   ],
   "source": [
    "df = df.drop([\"WALLTYPE\", \"ROOFTYPE\", \"TELLWORK\",\"SOLAR\", \"SMARTMETER\", \"REGIONC\", \"DOLLAREL\"], axis = 1)\n",
    "df = filter_data(df)"
   ]
  },
  {
   "cell_type": "code",
   "execution_count": 117,
   "id": "949e9423-2d90-4d8f-b340-a93b8491dd5c",
   "metadata": {},
   "outputs": [],
   "source": [
    "df_prices = df[[\"PRICEKWH\", \"state_name\"]].groupby(\"state_name\").mean()"
   ]
  },
  {
   "cell_type": "code",
   "execution_count": 283,
   "id": "3d794ff8-8652-4ac0-ab8d-7d94b35d2801",
   "metadata": {},
   "outputs": [],
   "source": [
    "import pandas as pd\n",
    "import numpy as np\n",
    "from sklearn.impute import SimpleImputer\n",
    "from sklearn.pipeline import Pipeline\n",
    "from sklearn.impute import SimpleImputer\n",
    "from sklearn.compose import ColumnTransformer\n",
    "from sklearn.preprocessing import OneHotEncoder\n",
    "\n",
    "def clean_data_2(df,min_perc=0.005, max_perc=0.995):\n",
    "    \"\"\"This set cleans the data to have it in the correct format before preprocessing\"\"\"\n",
    "\n",
    "    #Maping features\n",
    "    TYPEHUQ_map = {1: \"Mobile\", 2: \"Single_detached\",3: \"Single_attached\",\n",
    "                   4: \"Appartment_small\" ,5: \"Appartment_big\"}\n",
    "    \n",
    "    YEARMADERANGE_map = {1: \"Before_50\", 2:\"50-59\", 3:\"60-69\",\n",
    "                         4: \"70-79\", 5: \"80-89\", 6:\"90-99\", 7:\"00-09\",\n",
    "                         8:\"2010-15\", 9:\"2016-20\" }\n",
    "    EQUIPM_map = {3:\"Furnace\", 2: \"Steam\", 4: \"Central_heat\", 13: \"Ductless_heat\",\n",
    "                5: \"Electric_units\", 7: \"Room_heater\", 8 : \"Wood\",\n",
    "                10:\"Electric_heater\", 99:\"Other\", -2:\"Other\"}\n",
    "\n",
    "    dics_transform = [TYPEHUQ_map, YEARMADERANGE_map, EQUIPM_map]\n",
    "    columns_to_transform = [\"TYPEHUQ\", \"YEARMADERANGE\", \"EQUIPM\"]\n",
    "\n",
    "    for x , y in zip(dics_transform,columns_to_transform):\n",
    "        df[y] = df[y].map(x)\n",
    "\n",
    "    #Combine new features\n",
    "    df[\"TOTAL_BATH\"] = df[\"NCOMBATH\"] + df[\"NHAFBATH\"]\n",
    "    df.drop( [\"NCOMBATH\", \"NHAFBATH\"] ,axis=1, inplace = True)\n",
    "\n",
    "    df[\"TOTAL_COMP\"] = df[\"DESKTOP\"] + df[\"NUMLAPTOP\"]\n",
    "    df.drop( [\"DESKTOP\", \"NUMLAPTOP\"] ,axis=1, inplace = True)\n",
    "\n",
    "    df[\"TOTAL_LIGHT\"] = df[\"LGTIN1TO4\"] + df[\"LGTIN4TO8\"] + df[\"LGTINMORE8\"]\n",
    "    df.drop( [\"LGTIN1TO4\", \"LGTIN4TO8\", \"LGTINMORE8\"] ,axis=1, inplace = True)\n",
    "\n",
    "    df[\"STORIES\"] = df[\"STORIES\"].replace(-2,1)\n",
    "    df[\"STORIES\"] = df[\"STORIES\"].replace(5,2)\n",
    "\n",
    "    #Impute features\n",
    "    features_imputer2 = ['SWIMPOOL', 'NUMPORTEL']\n",
    "    #features_imputer4 = ['SMARTMETER']\n",
    "    #to_ohe_encode = ['REGIONC', 'state_name','BA_climate','TYPEHUQ','YEARMADERANGE','WALLTYPE','ROOFTYPE','WINDOWS','EQUIPM']\n",
    "\n",
    "    imputer_2 = SimpleImputer(strategy='constant', missing_values=-2, fill_value=0)\n",
    "    #imputer_4 = SimpleImputer(strategy='constant', missing_values=-4, fill_value=0)\n",
    "    #ohe = OneHotEncoder(sparse_output=False, handle_unknown='ignore')\n",
    "\n",
    "    preprocessor = ColumnTransformer(transformers=[('imputer_2',imputer_2, features_imputer2)],\n",
    "                                                #('imputer_4',imputer_4, features_imputer4)],\n",
    "                                                #('ohe', ohe, to_ohe_encode)],\n",
    "                                                  remainder = \"passthrough\")\n",
    "\n",
    "    preprocessor.fit(df)\n",
    "\n",
    "    cols = [x.split(\"__\")[1] for x in preprocessor.get_feature_names_out()]\n",
    "\n",
    "    df_clean = pd.DataFrame(preprocessor.transform(df),\n",
    "                       columns = cols)\n",
    "\n",
    "    return df_clean\n"
   ]
  },
  {
   "cell_type": "code",
   "execution_count": 119,
   "id": "52b8f4f2-9f26-4ebb-9088-ef34894d457e",
   "metadata": {},
   "outputs": [],
   "source": [
    "df = clean_data_2(df)\n"
   ]
  },
  {
   "cell_type": "code",
   "execution_count": 120,
   "id": "773b4b90-93c1-4c00-ba3a-dfeb4d2efb76",
   "metadata": {},
   "outputs": [],
   "source": [
    "X , y = get_xy(df)\n",
    "X_train, X_test, y_train, y_test =  train_test_split(X,y, test_size=0.3)\n",
    "y_train_p = np.log(y_train.astype(\"float\"))\n",
    "y_test_p = np.log(y_test.astype(\"float\"))"
   ]
  },
  {
   "cell_type": "code",
   "execution_count": 121,
   "id": "2a98a0da-aba4-4558-90a5-3b56ec8ae2ce",
   "metadata": {},
   "outputs": [
    {
     "data": {
      "text/plain": [
       "Index(['SWIMPOOL', 'NUMPORTEL', 'state_name', 'BA_climate', 'TYPEHUQ',\n",
       "       'STORIES', 'YEARMADERANGE', 'TOTROOMS', 'WINDOWS', 'NUMFRIG', 'MICRO',\n",
       "       'DISHWASH', 'CWASHER', 'DRYER', 'TVCOLOR', 'HEATHOME', 'EQUIPM',\n",
       "       'AIRCOND', 'NHSLDMEM', 'SQFTEST', 'PRICEKWH', 'TOTAL_BATH',\n",
       "       'TOTAL_COMP', 'TOTAL_LIGHT'],\n",
       "      dtype='object')"
      ]
     },
     "execution_count": 121,
     "metadata": {},
     "output_type": "execute_result"
    }
   ],
   "source": [
    "X_train.columns"
   ]
  },
  {
   "cell_type": "code",
   "execution_count": 122,
   "id": "2f8d7c28-5e78-4495-8c4a-3b160053d61b",
   "metadata": {},
   "outputs": [],
   "source": [
    "from sklearn.linear_model import ElasticNet\n",
    "\n",
    "to_ohe_encode = [ 'state_name','BA_climate','TYPEHUQ',\n",
    "                     'YEARMADERANGE','WINDOWS','EQUIPM']\n",
    "\n",
    "to_scale = [\"NUMPORTEL\", \"STORIES\",\"SQFTEST\",\n",
    "            \"TOTROOMS\", \"NUMFRIG\", \"MICRO\", \"TVCOLOR\",\"NHSLDMEM\",\n",
    "            \"TOTAL_BATH\", \"TOTAL_COMP\", \"TOTAL_LIGHT\", \"PRICEKWH\"]\n",
    "\n",
    "min_max = MinMaxScaler()\n",
    "ohe = OneHotEncoder(sparse_output=False, handle_unknown='ignore', drop=\"first\")\n",
    "\n",
    "\n",
    "prep2 = ColumnTransformer(transformers=[\n",
    "                                            ('min_max', min_max, to_scale),\n",
    "                                            ('ohe', ohe, to_ohe_encode)],\n",
    "                                            remainder = \"passthrough\")\n",
    "\n",
    "pipe = Pipeline([(\"prep\", prep2 ),(\"model\", LinearRegression())])"
   ]
  },
  {
   "cell_type": "code",
   "execution_count": 123,
   "id": "d94afed6-7bd6-4e2e-81f0-aa4177f7efba",
   "metadata": {},
   "outputs": [
    {
     "data": {
      "text/html": [
       "<style>#sk-container-id-5 {color: black;}#sk-container-id-5 pre{padding: 0;}#sk-container-id-5 div.sk-toggleable {background-color: white;}#sk-container-id-5 label.sk-toggleable__label {cursor: pointer;display: block;width: 100%;margin-bottom: 0;padding: 0.3em;box-sizing: border-box;text-align: center;}#sk-container-id-5 label.sk-toggleable__label-arrow:before {content: \"▸\";float: left;margin-right: 0.25em;color: #696969;}#sk-container-id-5 label.sk-toggleable__label-arrow:hover:before {color: black;}#sk-container-id-5 div.sk-estimator:hover label.sk-toggleable__label-arrow:before {color: black;}#sk-container-id-5 div.sk-toggleable__content {max-height: 0;max-width: 0;overflow: hidden;text-align: left;background-color: #f0f8ff;}#sk-container-id-5 div.sk-toggleable__content pre {margin: 0.2em;color: black;border-radius: 0.25em;background-color: #f0f8ff;}#sk-container-id-5 input.sk-toggleable__control:checked~div.sk-toggleable__content {max-height: 200px;max-width: 100%;overflow: auto;}#sk-container-id-5 input.sk-toggleable__control:checked~label.sk-toggleable__label-arrow:before {content: \"▾\";}#sk-container-id-5 div.sk-estimator input.sk-toggleable__control:checked~label.sk-toggleable__label {background-color: #d4ebff;}#sk-container-id-5 div.sk-label input.sk-toggleable__control:checked~label.sk-toggleable__label {background-color: #d4ebff;}#sk-container-id-5 input.sk-hidden--visually {border: 0;clip: rect(1px 1px 1px 1px);clip: rect(1px, 1px, 1px, 1px);height: 1px;margin: -1px;overflow: hidden;padding: 0;position: absolute;width: 1px;}#sk-container-id-5 div.sk-estimator {font-family: monospace;background-color: #f0f8ff;border: 1px dotted black;border-radius: 0.25em;box-sizing: border-box;margin-bottom: 0.5em;}#sk-container-id-5 div.sk-estimator:hover {background-color: #d4ebff;}#sk-container-id-5 div.sk-parallel-item::after {content: \"\";width: 100%;border-bottom: 1px solid gray;flex-grow: 1;}#sk-container-id-5 div.sk-label:hover label.sk-toggleable__label {background-color: #d4ebff;}#sk-container-id-5 div.sk-serial::before {content: \"\";position: absolute;border-left: 1px solid gray;box-sizing: border-box;top: 0;bottom: 0;left: 50%;z-index: 0;}#sk-container-id-5 div.sk-serial {display: flex;flex-direction: column;align-items: center;background-color: white;padding-right: 0.2em;padding-left: 0.2em;position: relative;}#sk-container-id-5 div.sk-item {position: relative;z-index: 1;}#sk-container-id-5 div.sk-parallel {display: flex;align-items: stretch;justify-content: center;background-color: white;position: relative;}#sk-container-id-5 div.sk-item::before, #sk-container-id-5 div.sk-parallel-item::before {content: \"\";position: absolute;border-left: 1px solid gray;box-sizing: border-box;top: 0;bottom: 0;left: 50%;z-index: -1;}#sk-container-id-5 div.sk-parallel-item {display: flex;flex-direction: column;z-index: 1;position: relative;background-color: white;}#sk-container-id-5 div.sk-parallel-item:first-child::after {align-self: flex-end;width: 50%;}#sk-container-id-5 div.sk-parallel-item:last-child::after {align-self: flex-start;width: 50%;}#sk-container-id-5 div.sk-parallel-item:only-child::after {width: 0;}#sk-container-id-5 div.sk-dashed-wrapped {border: 1px dashed gray;margin: 0 0.4em 0.5em 0.4em;box-sizing: border-box;padding-bottom: 0.4em;background-color: white;}#sk-container-id-5 div.sk-label label {font-family: monospace;font-weight: bold;display: inline-block;line-height: 1.2em;}#sk-container-id-5 div.sk-label-container {text-align: center;}#sk-container-id-5 div.sk-container {/* jupyter's `normalize.less` sets `[hidden] { display: none; }` but bootstrap.min.css set `[hidden] { display: none !important; }` so we also need the `!important` here to be able to override the default hidden behavior on the sphinx rendered scikit-learn.org. See: https://github.com/scikit-learn/scikit-learn/issues/21755 */display: inline-block !important;position: relative;}#sk-container-id-5 div.sk-text-repr-fallback {display: none;}</style><div id=\"sk-container-id-5\" class=\"sk-top-container\"><div class=\"sk-text-repr-fallback\"><pre>Pipeline(steps=[(&#x27;prep&#x27;,\n",
       "                 ColumnTransformer(remainder=&#x27;passthrough&#x27;,\n",
       "                                   transformers=[(&#x27;min_max&#x27;, MinMaxScaler(),\n",
       "                                                  [&#x27;NUMPORTEL&#x27;, &#x27;STORIES&#x27;,\n",
       "                                                   &#x27;SQFTEST&#x27;, &#x27;TOTROOMS&#x27;,\n",
       "                                                   &#x27;NUMFRIG&#x27;, &#x27;MICRO&#x27;,\n",
       "                                                   &#x27;TVCOLOR&#x27;, &#x27;NHSLDMEM&#x27;,\n",
       "                                                   &#x27;TOTAL_BATH&#x27;, &#x27;TOTAL_COMP&#x27;,\n",
       "                                                   &#x27;TOTAL_LIGHT&#x27;, &#x27;PRICEKWH&#x27;]),\n",
       "                                                 (&#x27;ohe&#x27;,\n",
       "                                                  OneHotEncoder(drop=&#x27;first&#x27;,\n",
       "                                                                handle_unknown=&#x27;ignore&#x27;,\n",
       "                                                                sparse_output=False),\n",
       "                                                  [&#x27;state_name&#x27;, &#x27;BA_climate&#x27;,\n",
       "                                                   &#x27;TYPEHUQ&#x27;, &#x27;YEARMADERANGE&#x27;,\n",
       "                                                   &#x27;WINDOWS&#x27;, &#x27;EQUIPM&#x27;])])),\n",
       "                (&#x27;model&#x27;, LinearRegression())])</pre><b>In a Jupyter environment, please rerun this cell to show the HTML representation or trust the notebook. <br />On GitHub, the HTML representation is unable to render, please try loading this page with nbviewer.org.</b></div><div class=\"sk-container\" hidden><div class=\"sk-item sk-dashed-wrapped\"><div class=\"sk-label-container\"><div class=\"sk-label sk-toggleable\"><input class=\"sk-toggleable__control sk-hidden--visually\" id=\"sk-estimator-id-37\" type=\"checkbox\" ><label for=\"sk-estimator-id-37\" class=\"sk-toggleable__label sk-toggleable__label-arrow\">Pipeline</label><div class=\"sk-toggleable__content\"><pre>Pipeline(steps=[(&#x27;prep&#x27;,\n",
       "                 ColumnTransformer(remainder=&#x27;passthrough&#x27;,\n",
       "                                   transformers=[(&#x27;min_max&#x27;, MinMaxScaler(),\n",
       "                                                  [&#x27;NUMPORTEL&#x27;, &#x27;STORIES&#x27;,\n",
       "                                                   &#x27;SQFTEST&#x27;, &#x27;TOTROOMS&#x27;,\n",
       "                                                   &#x27;NUMFRIG&#x27;, &#x27;MICRO&#x27;,\n",
       "                                                   &#x27;TVCOLOR&#x27;, &#x27;NHSLDMEM&#x27;,\n",
       "                                                   &#x27;TOTAL_BATH&#x27;, &#x27;TOTAL_COMP&#x27;,\n",
       "                                                   &#x27;TOTAL_LIGHT&#x27;, &#x27;PRICEKWH&#x27;]),\n",
       "                                                 (&#x27;ohe&#x27;,\n",
       "                                                  OneHotEncoder(drop=&#x27;first&#x27;,\n",
       "                                                                handle_unknown=&#x27;ignore&#x27;,\n",
       "                                                                sparse_output=False),\n",
       "                                                  [&#x27;state_name&#x27;, &#x27;BA_climate&#x27;,\n",
       "                                                   &#x27;TYPEHUQ&#x27;, &#x27;YEARMADERANGE&#x27;,\n",
       "                                                   &#x27;WINDOWS&#x27;, &#x27;EQUIPM&#x27;])])),\n",
       "                (&#x27;model&#x27;, LinearRegression())])</pre></div></div></div><div class=\"sk-serial\"><div class=\"sk-item sk-dashed-wrapped\"><div class=\"sk-label-container\"><div class=\"sk-label sk-toggleable\"><input class=\"sk-toggleable__control sk-hidden--visually\" id=\"sk-estimator-id-38\" type=\"checkbox\" ><label for=\"sk-estimator-id-38\" class=\"sk-toggleable__label sk-toggleable__label-arrow\">prep: ColumnTransformer</label><div class=\"sk-toggleable__content\"><pre>ColumnTransformer(remainder=&#x27;passthrough&#x27;,\n",
       "                  transformers=[(&#x27;min_max&#x27;, MinMaxScaler(),\n",
       "                                 [&#x27;NUMPORTEL&#x27;, &#x27;STORIES&#x27;, &#x27;SQFTEST&#x27;, &#x27;TOTROOMS&#x27;,\n",
       "                                  &#x27;NUMFRIG&#x27;, &#x27;MICRO&#x27;, &#x27;TVCOLOR&#x27;, &#x27;NHSLDMEM&#x27;,\n",
       "                                  &#x27;TOTAL_BATH&#x27;, &#x27;TOTAL_COMP&#x27;, &#x27;TOTAL_LIGHT&#x27;,\n",
       "                                  &#x27;PRICEKWH&#x27;]),\n",
       "                                (&#x27;ohe&#x27;,\n",
       "                                 OneHotEncoder(drop=&#x27;first&#x27;,\n",
       "                                               handle_unknown=&#x27;ignore&#x27;,\n",
       "                                               sparse_output=False),\n",
       "                                 [&#x27;state_name&#x27;, &#x27;BA_climate&#x27;, &#x27;TYPEHUQ&#x27;,\n",
       "                                  &#x27;YEARMADERANGE&#x27;, &#x27;WINDOWS&#x27;, &#x27;EQUIPM&#x27;])])</pre></div></div></div><div class=\"sk-parallel\"><div class=\"sk-parallel-item\"><div class=\"sk-item\"><div class=\"sk-label-container\"><div class=\"sk-label sk-toggleable\"><input class=\"sk-toggleable__control sk-hidden--visually\" id=\"sk-estimator-id-39\" type=\"checkbox\" ><label for=\"sk-estimator-id-39\" class=\"sk-toggleable__label sk-toggleable__label-arrow\">min_max</label><div class=\"sk-toggleable__content\"><pre>[&#x27;NUMPORTEL&#x27;, &#x27;STORIES&#x27;, &#x27;SQFTEST&#x27;, &#x27;TOTROOMS&#x27;, &#x27;NUMFRIG&#x27;, &#x27;MICRO&#x27;, &#x27;TVCOLOR&#x27;, &#x27;NHSLDMEM&#x27;, &#x27;TOTAL_BATH&#x27;, &#x27;TOTAL_COMP&#x27;, &#x27;TOTAL_LIGHT&#x27;, &#x27;PRICEKWH&#x27;]</pre></div></div></div><div class=\"sk-serial\"><div class=\"sk-item\"><div class=\"sk-estimator sk-toggleable\"><input class=\"sk-toggleable__control sk-hidden--visually\" id=\"sk-estimator-id-40\" type=\"checkbox\" ><label for=\"sk-estimator-id-40\" class=\"sk-toggleable__label sk-toggleable__label-arrow\">MinMaxScaler</label><div class=\"sk-toggleable__content\"><pre>MinMaxScaler()</pre></div></div></div></div></div></div><div class=\"sk-parallel-item\"><div class=\"sk-item\"><div class=\"sk-label-container\"><div class=\"sk-label sk-toggleable\"><input class=\"sk-toggleable__control sk-hidden--visually\" id=\"sk-estimator-id-41\" type=\"checkbox\" ><label for=\"sk-estimator-id-41\" class=\"sk-toggleable__label sk-toggleable__label-arrow\">ohe</label><div class=\"sk-toggleable__content\"><pre>[&#x27;state_name&#x27;, &#x27;BA_climate&#x27;, &#x27;TYPEHUQ&#x27;, &#x27;YEARMADERANGE&#x27;, &#x27;WINDOWS&#x27;, &#x27;EQUIPM&#x27;]</pre></div></div></div><div class=\"sk-serial\"><div class=\"sk-item\"><div class=\"sk-estimator sk-toggleable\"><input class=\"sk-toggleable__control sk-hidden--visually\" id=\"sk-estimator-id-42\" type=\"checkbox\" ><label for=\"sk-estimator-id-42\" class=\"sk-toggleable__label sk-toggleable__label-arrow\">OneHotEncoder</label><div class=\"sk-toggleable__content\"><pre>OneHotEncoder(drop=&#x27;first&#x27;, handle_unknown=&#x27;ignore&#x27;, sparse_output=False)</pre></div></div></div></div></div></div><div class=\"sk-parallel-item\"><div class=\"sk-item\"><div class=\"sk-label-container\"><div class=\"sk-label sk-toggleable\"><input class=\"sk-toggleable__control sk-hidden--visually\" id=\"sk-estimator-id-43\" type=\"checkbox\" ><label for=\"sk-estimator-id-43\" class=\"sk-toggleable__label sk-toggleable__label-arrow\">remainder</label><div class=\"sk-toggleable__content\"><pre>[&#x27;SWIMPOOL&#x27;, &#x27;DISHWASH&#x27;, &#x27;CWASHER&#x27;, &#x27;DRYER&#x27;, &#x27;HEATHOME&#x27;, &#x27;AIRCOND&#x27;]</pre></div></div></div><div class=\"sk-serial\"><div class=\"sk-item\"><div class=\"sk-estimator sk-toggleable\"><input class=\"sk-toggleable__control sk-hidden--visually\" id=\"sk-estimator-id-44\" type=\"checkbox\" ><label for=\"sk-estimator-id-44\" class=\"sk-toggleable__label sk-toggleable__label-arrow\">passthrough</label><div class=\"sk-toggleable__content\"><pre>passthrough</pre></div></div></div></div></div></div></div></div><div class=\"sk-item\"><div class=\"sk-estimator sk-toggleable\"><input class=\"sk-toggleable__control sk-hidden--visually\" id=\"sk-estimator-id-45\" type=\"checkbox\" ><label for=\"sk-estimator-id-45\" class=\"sk-toggleable__label sk-toggleable__label-arrow\">LinearRegression</label><div class=\"sk-toggleable__content\"><pre>LinearRegression()</pre></div></div></div></div></div></div></div>"
      ],
      "text/plain": [
       "Pipeline(steps=[('prep',\n",
       "                 ColumnTransformer(remainder='passthrough',\n",
       "                                   transformers=[('min_max', MinMaxScaler(),\n",
       "                                                  ['NUMPORTEL', 'STORIES',\n",
       "                                                   'SQFTEST', 'TOTROOMS',\n",
       "                                                   'NUMFRIG', 'MICRO',\n",
       "                                                   'TVCOLOR', 'NHSLDMEM',\n",
       "                                                   'TOTAL_BATH', 'TOTAL_COMP',\n",
       "                                                   'TOTAL_LIGHT', 'PRICEKWH']),\n",
       "                                                 ('ohe',\n",
       "                                                  OneHotEncoder(drop='first',\n",
       "                                                                handle_unknown='ignore',\n",
       "                                                                sparse_output=False),\n",
       "                                                  ['state_name', 'BA_climate',\n",
       "                                                   'TYPEHUQ', 'YEARMADERANGE',\n",
       "                                                   'WINDOWS', 'EQUIPM'])])),\n",
       "                ('model', LinearRegression())])"
      ]
     },
     "execution_count": 123,
     "metadata": {},
     "output_type": "execute_result"
    }
   ],
   "source": [
    "pipe.fit(X_train, y_train_p)"
   ]
  },
  {
   "cell_type": "code",
   "execution_count": 124,
   "id": "430a12c4-ff34-4e3e-97d2-889c03d89343",
   "metadata": {},
   "outputs": [
    {
     "data": {
      "text/plain": [
       "0.572853213976854"
      ]
     },
     "execution_count": 124,
     "metadata": {},
     "output_type": "execute_result"
    }
   ],
   "source": [
    "pipe.score(X_test, y_test_p)"
   ]
  },
  {
   "cell_type": "code",
   "execution_count": 125,
   "id": "ee231f8e-7f60-4b32-a8f2-7fc2ff045997",
   "metadata": {},
   "outputs": [],
   "source": [
    "from sklearn.metrics import mean_absolute_error, mean_squared_error"
   ]
  },
  {
   "cell_type": "code",
   "execution_count": 126,
   "id": "5f192515-1567-4f5f-bc7e-577264365442",
   "metadata": {},
   "outputs": [],
   "source": [
    "y_pred_p = pipe.predict(X_test)"
   ]
  },
  {
   "cell_type": "code",
   "execution_count": 127,
   "id": "3ebf1936-4da0-4c00-a730-e15a5cf39b2e",
   "metadata": {},
   "outputs": [
    {
     "data": {
      "text/plain": [
       "3135.7808291375063"
      ]
     },
     "execution_count": 127,
     "metadata": {},
     "output_type": "execute_result"
    }
   ],
   "source": [
    "mean_absolute_error(y_test, np.exp(y_pred_p))"
   ]
  },
  {
   "cell_type": "code",
   "execution_count": 128,
   "id": "6efd46da-9804-4192-81d7-4dbfa80af1d5",
   "metadata": {},
   "outputs": [
    {
     "data": {
      "text/plain": [
       "0.5757597455288275"
      ]
     },
     "execution_count": 128,
     "metadata": {},
     "output_type": "execute_result"
    }
   ],
   "source": [
    "cross_validate(pipe, X_train, y_train_p, cv =5 )[\"test_score\"].mean()"
   ]
  },
  {
   "cell_type": "code",
   "execution_count": 129,
   "id": "1f36d242-3b5d-4bbb-88d8-5084e1114163",
   "metadata": {},
   "outputs": [
    {
     "name": "stdout",
     "output_type": "stream",
     "text": [
      "min_max__NUMPORTEL 0.24722175283311656\n",
      "min_max__STORIES -0.042483199835906815\n",
      "min_max__SQFTEST 0.8264717472690042\n",
      "min_max__TOTROOMS 0.07421464424131424\n",
      "min_max__NUMFRIG 0.6601044282079953\n",
      "min_max__MICRO 0.015667748327637482\n",
      "min_max__TVCOLOR 0.695213597491376\n",
      "min_max__NHSLDMEM 0.4488233431403609\n",
      "min_max__TOTAL_BATH 0.15602516491201834\n",
      "min_max__TOTAL_COMP 0.36992441184291336\n",
      "min_max__TOTAL_LIGHT 0.5244048707783837\n",
      "min_max__PRICEKWH -3.5721271675045325\n",
      "ohe__state_name_Alaska -0.07270424286591581\n",
      "ohe__state_name_Arizona 0.006612417934493353\n",
      "ohe__state_name_Arkansas -0.04914496202576524\n",
      "ohe__state_name_California -0.3433782948442836\n",
      "ohe__state_name_Colorado -0.37378245629575435\n",
      "ohe__state_name_Connecticut -0.00702851741072219\n",
      "ohe__state_name_Delaware -0.21634039611645606\n",
      "ohe__state_name_District of Columbia -0.27114923744087727\n",
      "ohe__state_name_Florida -0.07789123737712123\n",
      "ohe__state_name_Georgia -0.11327419579253495\n",
      "ohe__state_name_Hawaii -0.06547495063686148\n",
      "ohe__state_name_Idaho -0.1649304972089839\n",
      "ohe__state_name_Illinois -0.2384153436532408\n",
      "ohe__state_name_Indiana -0.022157645026760875\n",
      "ohe__state_name_Iowa -0.07928174496860618\n",
      "ohe__state_name_Kansas -0.17209617498688473\n",
      "ohe__state_name_Kentucky -0.0599915794501758\n",
      "ohe__state_name_Louisiana -0.0890950276947231\n",
      "ohe__state_name_Maine -0.21890594242652806\n",
      "ohe__state_name_Maryland -0.1759856805591986\n",
      "ohe__state_name_Massachusetts -0.07988234662018256\n",
      "ohe__state_name_Michigan -0.0855929235964774\n",
      "ohe__state_name_Minnesota -0.2259940436611808\n",
      "ohe__state_name_Mississippi -0.04348705492641064\n",
      "ohe__state_name_Missouri -0.11147746988738089\n",
      "ohe__state_name_Montana -0.2730503091322696\n",
      "ohe__state_name_Nebraska -0.11492536415559795\n",
      "ohe__state_name_Nevada -0.09804560269723828\n",
      "ohe__state_name_New Hampshire -0.17250488387780682\n",
      "ohe__state_name_New Jersey -0.2575873097695158\n",
      "ohe__state_name_New Mexico -0.31912101113425256\n",
      "ohe__state_name_New York -0.17747980655612122\n",
      "ohe__state_name_North Carolina -0.148381762883482\n",
      "ohe__state_name_North Dakota -0.13128443258494343\n",
      "ohe__state_name_Ohio -0.1647806373421492\n",
      "ohe__state_name_Oklahoma -0.11209580948088133\n",
      "ohe__state_name_Oregon 0.015455659416372669\n",
      "ohe__state_name_Pennsylvania -0.1957519633946793\n",
      "ohe__state_name_Rhode Island -0.14063335757606205\n",
      "ohe__state_name_South Carolina -0.09022866809148719\n",
      "ohe__state_name_South Dakota -0.07636082769755212\n",
      "ohe__state_name_Tennessee -0.09527613501829352\n",
      "ohe__state_name_Texas -0.07109784583419587\n",
      "ohe__state_name_Utah -0.333834608096477\n",
      "ohe__state_name_Vermont -0.16732824657619672\n",
      "ohe__state_name_Virginia -0.11601690134131692\n",
      "ohe__state_name_Washington -0.0790932453713098\n",
      "ohe__state_name_West Virginia 0.018341929674546398\n",
      "ohe__state_name_Wisconsin -0.1422622490611668\n",
      "ohe__state_name_Wyoming -0.23349042768643163\n",
      "ohe__BA_climate_Hot-Dry 0.07691683983012582\n",
      "ohe__BA_climate_Hot-Humid 0.16633138043112233\n",
      "ohe__BA_climate_Marine -0.07957937680970173\n",
      "ohe__BA_climate_Mixed-Dry 0.037110582556891786\n",
      "ohe__BA_climate_Mixed-Humid 0.13444110449651364\n",
      "ohe__BA_climate_Subarctic 0.4975972239739198\n",
      "ohe__BA_climate_Very-Cold 0.12605521547537912\n",
      "ohe__TYPEHUQ_Appartment_small 0.08273161630965653\n",
      "ohe__TYPEHUQ_Mobile 0.32794746149576437\n",
      "ohe__TYPEHUQ_Single_attached 0.10219152198065118\n",
      "ohe__TYPEHUQ_Single_detached 0.2192902948183333\n",
      "ohe__YEARMADERANGE_2010-15 -0.011588603034459577\n",
      "ohe__YEARMADERANGE_2016-20 -0.09816882691423884\n",
      "ohe__YEARMADERANGE_50-59 0.0434211646117722\n",
      "ohe__YEARMADERANGE_60-69 0.028351812897728895\n",
      "ohe__YEARMADERANGE_70-79 0.07478525645765394\n",
      "ohe__YEARMADERANGE_80-89 0.06361223510251271\n",
      "ohe__YEARMADERANGE_90-99 0.023855303939239653\n",
      "ohe__YEARMADERANGE_Before_50 0.04594963765530763\n",
      "ohe__WINDOWS_2 0.04885343897462363\n",
      "ohe__WINDOWS_3 0.10617646451014208\n",
      "ohe__WINDOWS_4 0.12993945521323358\n",
      "ohe__WINDOWS_5 0.11863025813694184\n",
      "ohe__WINDOWS_6 0.12399046003230267\n",
      "ohe__WINDOWS_7 0.15877561958912603\n",
      "ohe__EQUIPM_Ductless_heat 0.0009876747608486003\n",
      "ohe__EQUIPM_Electric_heater -0.08201576960820023\n",
      "ohe__EQUIPM_Electric_units 0.09687063725956224\n",
      "ohe__EQUIPM_Furnace -0.2645592786868417\n",
      "ohe__EQUIPM_Other -0.20475633864914322\n",
      "ohe__EQUIPM_Room_heater -0.35495275815772265\n",
      "ohe__EQUIPM_Steam -0.3915788206104171\n",
      "ohe__EQUIPM_Wood -0.16092988919519663\n",
      "remainder__SWIMPOOL 0.21915517196314274\n",
      "remainder__DISHWASH 0.05541145264807401\n",
      "remainder__CWASHER 0.03010893324223557\n",
      "remainder__DRYER 0.12412280222398171\n",
      "remainder__HEATHOME 0.009315955656794994\n",
      "remainder__AIRCOND 0.13365502863456746\n"
     ]
    }
   ],
   "source": [
    "for x , y  in zip(pipe[:-1].get_feature_names_out() ,pipe.named_steps[\"model\"].coef_):\n",
    "    print(x , y)"
   ]
  },
  {
   "cell_type": "markdown",
   "id": "fa16851e-7474-4a65-8ac5-e4f64d6eddb3",
   "metadata": {},
   "source": [
    "### Final"
   ]
  },
  {
   "cell_type": "code",
   "execution_count": 329,
   "id": "29cedbff-2928-4037-a417-dd7a527e9516",
   "metadata": {},
   "outputs": [],
   "source": [
    "columns = [\"REGIONC\", \"state_name\", \"BA_climate\", \"TYPEHUQ\", \"STORIES\", \"YEARMADERANGE\", \"NCOMBATH\", \"NHAFBATH\", \"TOTROOMS\", \"WALLTYPE\", \"ROOFTYPE\", \"WINDOWS\",\n",
    "           \"SWIMPOOL\", \"NUMFRIG\", \"MICRO\", \"DISHWASH\", \"CWASHER\", \"DRYER\", \"TVCOLOR\", \"DESKTOP\", \"NUMLAPTOP\",\n",
    "           \"TELLWORK\",\"HEATHOME\", \"EQUIPM\", \"NUMPORTEL\", \"AIRCOND\", \"LGTIN1TO4\", \"LGTIN4TO8\", \"LGTINMORE8\", \"SMARTMETER\", \"SOLAR\", \"NHSLDMEM\", \"SQFTEST\",\n",
    "          \"KWH\", \"DOLLAREL\"]\n",
    "\n",
    "df = pd.read_csv(\"https://www.eia.gov/consumption/residential/data/2020/csv/recs2020_public_v6.csv\",\n",
    "                     usecols=columns)\n",
    "\n",
    "#small_data = pd.DataFrame(df[[\"state_name\",\"KWH\", \"DOLLAREL\"]])\n",
    "\n",
    "df[\"PRICEKWH\"] =  df[\"DOLLAREL\"] /df[\"KWH\"] \n",
    "\n",
    "df = filter_data(df)\n",
    "df = df.drop([\"WALLTYPE\", \"ROOFTYPE\", \"TELLWORK\",  \"REGIONC\", \"DOLLAREL\", \"SOLAR\", \"SMARTMETER\"], axis = 1)\n",
    "df = clean_data_2(df)\n",
    "#X , y = get_xy(df)\n",
    "X = df.drop('KWH',axis=1)\n",
    "y = df['KWH']\n",
    "X_train, X_test, y_train, y_test =  train_test_split(X,y, test_size=0.3)\n",
    "y_train_p = np.log(y_train.astype(\"float\"))\n",
    "y_test_p = np.log(y_test.astype(\"float\"))"
   ]
  },
  {
   "cell_type": "code",
   "execution_count": 330,
   "id": "a3c8d5a8-31c4-43a0-bbbe-d30e4ab7b3dd",
   "metadata": {},
   "outputs": [],
   "source": [
    "def filter_data(df,min_perc=0.005, max_perc=0.995):\n",
    "    df = df.copy()\n",
    "\n",
    "    #Get rid of outliers#\n",
    "    percentile_min = df['KWH'].quantile(min_perc)\n",
    "    percentile_max = df['KWH'].quantile(max_perc)\n",
    "    #percentile_min_price = df['PRICEKWH'].quantile(min_perc)\n",
    "    #percentile_max_price = df['PRICEKWH'].quantile(max_perc)\n",
    "\n",
    "    # Filter the DataFrame based on the specified percentiles\n",
    "    df = df[(df['KWH'] >= percentile_min) & (df['KWH'] <= percentile_max)]\n",
    "    df = df[(df['PRICEKWH'] > 0.01) & (df['PRICEKWH'] <= 0.9)]\n",
    "\n",
    "    return df"
   ]
  },
  {
   "cell_type": "code",
   "execution_count": 298,
   "id": "3c5d5d44-2783-4d47-96ee-568cf65ac389",
   "metadata": {},
   "outputs": [],
   "source": [
    "df_2 = pd.read_csv(\"https://www.eia.gov/consumption/residential/data/2020/csv/recs2020_public_v6.csv\",\n",
    "                     usecols=columns)\n",
    "\n",
    "df_2[\"PRICEKWH\"] =  df_2[\"DOLLAREL\"] /df_2[\"KWH\"] \n",
    "\n",
    "df = filter_data(df_2)\n",
    "#18292"
   ]
  },
  {
   "cell_type": "code",
   "execution_count": 299,
   "id": "7c7c7521-b814-4a50-ba9a-7f561139734b",
   "metadata": {},
   "outputs": [
    {
     "data": {
      "text/plain": [
       "-4    7685\n",
       " 0    5687\n",
       " 1    4920\n",
       "Name: SMARTMETER, dtype: int64"
      ]
     },
     "execution_count": 299,
     "metadata": {},
     "output_type": "execute_result"
    }
   ],
   "source": [
    "df[\"SMARTMETER\"].value_counts()"
   ]
  },
  {
   "cell_type": "code",
   "execution_count": 306,
   "id": "27fc8c6f-8833-4908-ae23-a2ff410cdda1",
   "metadata": {},
   "outputs": [
    {
     "data": {
      "text/plain": [
       "10411.9746343105"
      ]
     },
     "execution_count": 306,
     "metadata": {},
     "output_type": "execute_result"
    }
   ],
   "source": [
    "df[df[\"SMARTMETER\"]<1].KWH.mean()"
   ]
  },
  {
   "cell_type": "code",
   "execution_count": 305,
   "id": "17fda03f-a1d3-4e97-a4ac-ade557340a6f",
   "metadata": {},
   "outputs": [
    {
     "data": {
      "text/plain": [
       "11498.592461382113"
      ]
     },
     "execution_count": 305,
     "metadata": {},
     "output_type": "execute_result"
    }
   ],
   "source": [
    "df[df[\"SMARTMETER\"]>0].KWH.mean()"
   ]
  },
  {
   "cell_type": "code",
   "execution_count": 263,
   "id": "4f50e1de-f0e2-48c4-8804-43390e3c4854",
   "metadata": {},
   "outputs": [
    {
     "data": {
      "text/plain": [
       "count    18292.000000\n",
       "mean         0.143897\n",
       "std          0.053326\n",
       "min          0.000000\n",
       "25%          0.110947\n",
       "50%          0.127741\n",
       "75%          0.164836\n",
       "max          0.889866\n",
       "Name: PRICEKWH, dtype: float64"
      ]
     },
     "execution_count": 263,
     "metadata": {},
     "output_type": "execute_result"
    }
   ],
   "source": [
    "df[\"PRICEKWH\"].describe()"
   ]
  },
  {
   "cell_type": "code",
   "execution_count": 222,
   "id": "5562ad84-ce9c-41b6-bdd7-3a905740e11d",
   "metadata": {},
   "outputs": [
    {
     "data": {
      "text/html": [
       "<div>\n",
       "<style scoped>\n",
       "    .dataframe tbody tr th:only-of-type {\n",
       "        vertical-align: middle;\n",
       "    }\n",
       "\n",
       "    .dataframe tbody tr th {\n",
       "        vertical-align: top;\n",
       "    }\n",
       "\n",
       "    .dataframe thead th {\n",
       "        text-align: right;\n",
       "    }\n",
       "</style>\n",
       "<table border=\"1\" class=\"dataframe\">\n",
       "  <thead>\n",
       "    <tr style=\"text-align: right;\">\n",
       "      <th></th>\n",
       "      <th>REGIONC</th>\n",
       "      <th>state_name</th>\n",
       "      <th>BA_climate</th>\n",
       "      <th>TYPEHUQ</th>\n",
       "      <th>STORIES</th>\n",
       "      <th>YEARMADERANGE</th>\n",
       "      <th>NCOMBATH</th>\n",
       "      <th>NHAFBATH</th>\n",
       "      <th>TOTROOMS</th>\n",
       "      <th>WALLTYPE</th>\n",
       "      <th>...</th>\n",
       "      <th>LGTIN1TO4</th>\n",
       "      <th>LGTIN4TO8</th>\n",
       "      <th>LGTINMORE8</th>\n",
       "      <th>SMARTMETER</th>\n",
       "      <th>SOLAR</th>\n",
       "      <th>NHSLDMEM</th>\n",
       "      <th>SQFTEST</th>\n",
       "      <th>KWH</th>\n",
       "      <th>DOLLAREL</th>\n",
       "      <th>PRICEKWH</th>\n",
       "    </tr>\n",
       "  </thead>\n",
       "  <tbody>\n",
       "  </tbody>\n",
       "</table>\n",
       "<p>0 rows × 36 columns</p>\n",
       "</div>"
      ],
      "text/plain": [
       "Empty DataFrame\n",
       "Columns: [REGIONC, state_name, BA_climate, TYPEHUQ, STORIES, YEARMADERANGE, NCOMBATH, NHAFBATH, TOTROOMS, WALLTYPE, ROOFTYPE, WINDOWS, SWIMPOOL, NUMFRIG, MICRO, DISHWASH, CWASHER, DRYER, TVCOLOR, DESKTOP, NUMLAPTOP, TELLWORK, HEATHOME, EQUIPM, NUMPORTEL, AIRCOND, LGTIN1TO4, LGTIN4TO8, LGTINMORE8, SMARTMETER, SOLAR, NHSLDMEM, SQFTEST, KWH, DOLLAREL, PRICEKWH]\n",
       "Index: []\n",
       "\n",
       "[0 rows x 36 columns]"
      ]
     },
     "execution_count": 222,
     "metadata": {},
     "output_type": "execute_result"
    }
   ],
   "source": [
    "df_2[df_2[\"DOLLAREL\"] < 0]"
   ]
  },
  {
   "cell_type": "code",
   "execution_count": 224,
   "id": "e68e0bf1-3036-4c53-9692-623a168e52a1",
   "metadata": {},
   "outputs": [],
   "source": [
    "lst = [0, 0.1, 0.2, 0.3, 0.4, 0.5, 0.6, 0.7 ,0.8, 0.9, 0.99,1]"
   ]
  },
  {
   "cell_type": "code",
   "execution_count": 225,
   "id": "4fc81d83-6cd5-4ef5-a8ec-fbd890309a64",
   "metadata": {},
   "outputs": [
    {
     "name": "stdout",
     "output_type": "stream",
     "text": [
      "nan\n",
      "nan\n",
      "nan\n",
      "nan\n",
      "nan\n",
      "nan\n",
      "nan\n",
      "nan\n",
      "nan\n",
      "nan\n",
      "nan\n",
      "nan\n"
     ]
    }
   ],
   "source": [
    "for x in lst:\n",
    "    print(df[\"PRICEKWH\"].astype(\"float\").quantile(x))"
   ]
  },
  {
   "cell_type": "code",
   "execution_count": 162,
   "id": "1cd768f0-5acd-4784-a072-5949133cd2bf",
   "metadata": {},
   "outputs": [
    {
     "data": {
      "text/plain": [
       "(array([1.000e+00, 0.000e+00, 0.000e+00, 0.000e+00, 0.000e+00, 0.000e+00,\n",
       "        2.000e+00, 1.100e+01, 3.200e+01, 7.100e+01, 4.400e+01, 5.200e+01,\n",
       "        7.400e+01, 8.800e+01, 1.440e+02, 5.280e+02, 1.840e+03, 3.115e+03,\n",
       "        3.067e+03, 2.134e+03, 1.453e+03, 9.370e+02, 6.690e+02, 7.100e+02,\n",
       "        6.590e+02, 3.680e+02, 5.090e+02, 4.530e+02, 2.940e+02, 2.290e+02,\n",
       "        1.550e+02, 1.270e+02, 1.850e+02, 1.390e+02, 4.900e+01, 4.400e+01,\n",
       "        4.200e+01, 2.900e+01, 1.700e+01, 1.100e+01, 6.000e+00, 1.000e+00,\n",
       "        4.000e+00, 3.000e+00, 0.000e+00, 1.000e+00, 0.000e+00, 1.000e+00,\n",
       "        1.000e+00, 0.000e+00, 0.000e+00, 0.000e+00, 0.000e+00, 0.000e+00,\n",
       "        1.000e+00, 0.000e+00, 0.000e+00, 0.000e+00, 0.000e+00, 1.000e+00,\n",
       "        0.000e+00, 0.000e+00, 0.000e+00, 0.000e+00, 0.000e+00, 0.000e+00,\n",
       "        0.000e+00, 0.000e+00, 0.000e+00, 0.000e+00, 1.000e+00, 1.000e+00,\n",
       "        0.000e+00, 0.000e+00, 1.000e+00, 0.000e+00, 0.000e+00, 1.000e+00,\n",
       "        0.000e+00, 0.000e+00, 0.000e+00, 0.000e+00, 0.000e+00, 0.000e+00,\n",
       "        1.000e+00, 0.000e+00, 0.000e+00, 1.000e+00, 0.000e+00, 1.000e+00,\n",
       "        0.000e+00, 0.000e+00, 0.000e+00, 0.000e+00, 0.000e+00, 0.000e+00,\n",
       "        0.000e+00, 0.000e+00, 1.000e+00, 1.000e+00]),\n",
       " array([-9.38149310e-02, -8.21759660e-02, -7.05370011e-02, -5.88980362e-02,\n",
       "        -4.72590712e-02, -3.56201063e-02, -2.39811413e-02, -1.23421764e-02,\n",
       "        -7.03211469e-04,  1.09357535e-02,  2.25747184e-02,  3.42136834e-02,\n",
       "         4.58526483e-02,  5.74916132e-02,  6.91305782e-02,  8.07695431e-02,\n",
       "         9.24085081e-02,  1.04047473e-01,  1.15686438e-01,  1.27325403e-01,\n",
       "         1.38964368e-01,  1.50603333e-01,  1.62242298e-01,  1.73881263e-01,\n",
       "         1.85520228e-01,  1.97159193e-01,  2.08798157e-01,  2.20437122e-01,\n",
       "         2.32076087e-01,  2.43715052e-01,  2.55354017e-01,  2.66992982e-01,\n",
       "         2.78631947e-01,  2.90270912e-01,  3.01909877e-01,  3.13548842e-01,\n",
       "         3.25187807e-01,  3.36826772e-01,  3.48465737e-01,  3.60104702e-01,\n",
       "         3.71743667e-01,  3.83382632e-01,  3.95021596e-01,  4.06660561e-01,\n",
       "         4.18299526e-01,  4.29938491e-01,  4.41577456e-01,  4.53216421e-01,\n",
       "         4.64855386e-01,  4.76494351e-01,  4.88133316e-01,  4.99772281e-01,\n",
       "         5.11411246e-01,  5.23050211e-01,  5.34689176e-01,  5.46328141e-01,\n",
       "         5.57967106e-01,  5.69606071e-01,  5.81245036e-01,  5.92884000e-01,\n",
       "         6.04522965e-01,  6.16161930e-01,  6.27800895e-01,  6.39439860e-01,\n",
       "         6.51078825e-01,  6.62717790e-01,  6.74356755e-01,  6.85995720e-01,\n",
       "         6.97634685e-01,  7.09273650e-01,  7.20912615e-01,  7.32551580e-01,\n",
       "         7.44190545e-01,  7.55829510e-01,  7.67468475e-01,  7.79107440e-01,\n",
       "         7.90746404e-01,  8.02385369e-01,  8.14024334e-01,  8.25663299e-01,\n",
       "         8.37302264e-01,  8.48941229e-01,  8.60580194e-01,  8.72219159e-01,\n",
       "         8.83858124e-01,  8.95497089e-01,  9.07136054e-01,  9.18775019e-01,\n",
       "         9.30413984e-01,  9.42052949e-01,  9.53691914e-01,  9.65330879e-01,\n",
       "         9.76969844e-01,  9.88608808e-01,  1.00024777e+00,  1.01188674e+00,\n",
       "         1.02352570e+00,  1.03516467e+00,  1.04680363e+00,  1.05844260e+00,\n",
       "         1.07008156e+00]),\n",
       " <BarContainer object of 100 artists>)"
      ]
     },
     "execution_count": 162,
     "metadata": {},
     "output_type": "execute_result"
    },
    {
     "data": {
      "image/png": "[encoded data removed]",
      "text/plain": [
       "<Figure size 640x480 with 1 Axes>"
      ]
     },
     "metadata": {},
     "output_type": "display_data"
    }
   ],
   "source": [
    "import matplotlib.pyplot as plt\n",
    "plt.hist(df[\"PRICEKWH\"], bins = 100)"
   ]
  },
  {
   "cell_type": "code",
   "execution_count": 331,
   "id": "fde36e05-87bb-4961-9233-92001e32564d",
   "metadata": {},
   "outputs": [],
   "source": [
    "from sklearn.linear_model import ElasticNet\n",
    "from sklearn.preprocessing import StandardScaler\n",
    "\n",
    "to_ohe_encode = [ 'state_name','BA_climate','TYPEHUQ',\n",
    "                     'YEARMADERANGE','WINDOWS','EQUIPM']\n",
    "\n",
    "to_scale = [\"NUMPORTEL\", \"STORIES\",\"SQFTEST\",\n",
    "            \"TOTROOMS\", \"NUMFRIG\", \"MICRO\", \"TVCOLOR\",\"NHSLDMEM\",\n",
    "            \"TOTAL_BATH\", \"TOTAL_COMP\", \"TOTAL_LIGHT\"]\n",
    "\n",
    "to_standard = [\"PRICEKWH\"]\n",
    "\n",
    "min_max = MinMaxScaler()\n",
    "ohe = OneHotEncoder(sparse_output=False, handle_unknown='ignore', drop=\"first\")\n",
    "std = StandardScaler()\n",
    "\n",
    "\n",
    "prep2 = ColumnTransformer(transformers=[\n",
    "                                            ('min_max', min_max, to_scale),\n",
    "                                            ('ohe', ohe, to_ohe_encode),\n",
    "                                            ('std',std ,to_standard)\n",
    "                                            ],\n",
    "                                            remainder = \"passthrough\")\n",
    "\n",
    "pipe = Pipeline([(\"prep\", prep2 ),(\"model\", LinearRegression())])"
   ]
  },
  {
   "cell_type": "code",
   "execution_count": 332,
   "id": "9b005b8f-1b08-4c01-b554-0b18a410f09d",
   "metadata": {},
   "outputs": [
    {
     "data": {
      "text/plain": [
       "Index(['SWIMPOOL', 'NUMPORTEL', 'state_name', 'BA_climate', 'TYPEHUQ',\n",
       "       'STORIES', 'YEARMADERANGE', 'TOTROOMS', 'WINDOWS', 'NUMFRIG', 'MICRO',\n",
       "       'DISHWASH', 'CWASHER', 'DRYER', 'TVCOLOR', 'HEATHOME', 'EQUIPM',\n",
       "       'AIRCOND', 'NHSLDMEM', 'SQFTEST', 'PRICEKWH', 'TOTAL_BATH',\n",
       "       'TOTAL_COMP', 'TOTAL_LIGHT'],\n",
       "      dtype='object')"
      ]
     },
     "execution_count": 332,
     "metadata": {},
     "output_type": "execute_result"
    }
   ],
   "source": [
    "X_train.columns"
   ]
  },
  {
   "cell_type": "code",
   "execution_count": 333,
   "id": "4628191f-d770-4382-bc0d-965542548588",
   "metadata": {},
   "outputs": [
    {
     "data": {
      "text/plain": [
       "0.010105929043274054"
      ]
     },
     "execution_count": 333,
     "metadata": {},
     "output_type": "execute_result"
    }
   ],
   "source": [
    "X_train[\"PRICEKWH\"].min()"
   ]
  },
  {
   "cell_type": "code",
   "execution_count": 334,
   "id": "425a14e3-a78e-404d-a835-093cd7fbefb6",
   "metadata": {},
   "outputs": [
    {
     "data": {
      "text/html": [
       "<style>#sk-container-id-16 {color: black;}#sk-container-id-16 pre{padding: 0;}#sk-container-id-16 div.sk-toggleable {background-color: white;}#sk-container-id-16 label.sk-toggleable__label {cursor: pointer;display: block;width: 100%;margin-bottom: 0;padding: 0.3em;box-sizing: border-box;text-align: center;}#sk-container-id-16 label.sk-toggleable__label-arrow:before {content: \"▸\";float: left;margin-right: 0.25em;color: #696969;}#sk-container-id-16 label.sk-toggleable__label-arrow:hover:before {color: black;}#sk-container-id-16 div.sk-estimator:hover label.sk-toggleable__label-arrow:before {color: black;}#sk-container-id-16 div.sk-toggleable__content {max-height: 0;max-width: 0;overflow: hidden;text-align: left;background-color: #f0f8ff;}#sk-container-id-16 div.sk-toggleable__content pre {margin: 0.2em;color: black;border-radius: 0.25em;background-color: #f0f8ff;}#sk-container-id-16 input.sk-toggleable__control:checked~div.sk-toggleable__content {max-height: 200px;max-width: 100%;overflow: auto;}#sk-container-id-16 input.sk-toggleable__control:checked~label.sk-toggleable__label-arrow:before {content: \"▾\";}#sk-container-id-16 div.sk-estimator input.sk-toggleable__control:checked~label.sk-toggleable__label {background-color: #d4ebff;}#sk-container-id-16 div.sk-label input.sk-toggleable__control:checked~label.sk-toggleable__label {background-color: #d4ebff;}#sk-container-id-16 input.sk-hidden--visually {border: 0;clip: rect(1px 1px 1px 1px);clip: rect(1px, 1px, 1px, 1px);height: 1px;margin: -1px;overflow: hidden;padding: 0;position: absolute;width: 1px;}#sk-container-id-16 div.sk-estimator {font-family: monospace;background-color: #f0f8ff;border: 1px dotted black;border-radius: 0.25em;box-sizing: border-box;margin-bottom: 0.5em;}#sk-container-id-16 div.sk-estimator:hover {background-color: #d4ebff;}#sk-container-id-16 div.sk-parallel-item::after {content: \"\";width: 100%;border-bottom: 1px solid gray;flex-grow: 1;}#sk-container-id-16 div.sk-label:hover label.sk-toggleable__label {background-color: #d4ebff;}#sk-container-id-16 div.sk-serial::before {content: \"\";position: absolute;border-left: 1px solid gray;box-sizing: border-box;top: 0;bottom: 0;left: 50%;z-index: 0;}#sk-container-id-16 div.sk-serial {display: flex;flex-direction: column;align-items: center;background-color: white;padding-right: 0.2em;padding-left: 0.2em;position: relative;}#sk-container-id-16 div.sk-item {position: relative;z-index: 1;}#sk-container-id-16 div.sk-parallel {display: flex;align-items: stretch;justify-content: center;background-color: white;position: relative;}#sk-container-id-16 div.sk-item::before, #sk-container-id-16 div.sk-parallel-item::before {content: \"\";position: absolute;border-left: 1px solid gray;box-sizing: border-box;top: 0;bottom: 0;left: 50%;z-index: -1;}#sk-container-id-16 div.sk-parallel-item {display: flex;flex-direction: column;z-index: 1;position: relative;background-color: white;}#sk-container-id-16 div.sk-parallel-item:first-child::after {align-self: flex-end;width: 50%;}#sk-container-id-16 div.sk-parallel-item:last-child::after {align-self: flex-start;width: 50%;}#sk-container-id-16 div.sk-parallel-item:only-child::after {width: 0;}#sk-container-id-16 div.sk-dashed-wrapped {border: 1px dashed gray;margin: 0 0.4em 0.5em 0.4em;box-sizing: border-box;padding-bottom: 0.4em;background-color: white;}#sk-container-id-16 div.sk-label label {font-family: monospace;font-weight: bold;display: inline-block;line-height: 1.2em;}#sk-container-id-16 div.sk-label-container {text-align: center;}#sk-container-id-16 div.sk-container {/* jupyter's `normalize.less` sets `[hidden] { display: none; }` but bootstrap.min.css set `[hidden] { display: none !important; }` so we also need the `!important` here to be able to override the default hidden behavior on the sphinx rendered scikit-learn.org. See: https://github.com/scikit-learn/scikit-learn/issues/21755 */display: inline-block !important;position: relative;}#sk-container-id-16 div.sk-text-repr-fallback {display: none;}</style><div id=\"sk-container-id-16\" class=\"sk-top-container\"><div class=\"sk-text-repr-fallback\"><pre>Pipeline(steps=[(&#x27;prep&#x27;,\n",
       "                 ColumnTransformer(remainder=&#x27;passthrough&#x27;,\n",
       "                                   transformers=[(&#x27;min_max&#x27;, MinMaxScaler(),\n",
       "                                                  [&#x27;NUMPORTEL&#x27;, &#x27;STORIES&#x27;,\n",
       "                                                   &#x27;SQFTEST&#x27;, &#x27;TOTROOMS&#x27;,\n",
       "                                                   &#x27;NUMFRIG&#x27;, &#x27;MICRO&#x27;,\n",
       "                                                   &#x27;TVCOLOR&#x27;, &#x27;NHSLDMEM&#x27;,\n",
       "                                                   &#x27;TOTAL_BATH&#x27;, &#x27;TOTAL_COMP&#x27;,\n",
       "                                                   &#x27;TOTAL_LIGHT&#x27;]),\n",
       "                                                 (&#x27;ohe&#x27;,\n",
       "                                                  OneHotEncoder(drop=&#x27;first&#x27;,\n",
       "                                                                handle_unknown=&#x27;ignore&#x27;,\n",
       "                                                                sparse_output=False),\n",
       "                                                  [&#x27;state_name&#x27;, &#x27;BA_climate&#x27;,\n",
       "                                                   &#x27;TYPEHUQ&#x27;, &#x27;YEARMADERANGE&#x27;,\n",
       "                                                   &#x27;WINDOWS&#x27;, &#x27;EQUIPM&#x27;]),\n",
       "                                                 (&#x27;std&#x27;, StandardScaler(),\n",
       "                                                  [&#x27;PRICEKWH&#x27;])])),\n",
       "                (&#x27;model&#x27;, LinearRegression())])</pre><b>In a Jupyter environment, please rerun this cell to show the HTML representation or trust the notebook. <br />On GitHub, the HTML representation is unable to render, please try loading this page with nbviewer.org.</b></div><div class=\"sk-container\" hidden><div class=\"sk-item sk-dashed-wrapped\"><div class=\"sk-label-container\"><div class=\"sk-label sk-toggleable\"><input class=\"sk-toggleable__control sk-hidden--visually\" id=\"sk-estimator-id-150\" type=\"checkbox\" ><label for=\"sk-estimator-id-150\" class=\"sk-toggleable__label sk-toggleable__label-arrow\">Pipeline</label><div class=\"sk-toggleable__content\"><pre>Pipeline(steps=[(&#x27;prep&#x27;,\n",
       "                 ColumnTransformer(remainder=&#x27;passthrough&#x27;,\n",
       "                                   transformers=[(&#x27;min_max&#x27;, MinMaxScaler(),\n",
       "                                                  [&#x27;NUMPORTEL&#x27;, &#x27;STORIES&#x27;,\n",
       "                                                   &#x27;SQFTEST&#x27;, &#x27;TOTROOMS&#x27;,\n",
       "                                                   &#x27;NUMFRIG&#x27;, &#x27;MICRO&#x27;,\n",
       "                                                   &#x27;TVCOLOR&#x27;, &#x27;NHSLDMEM&#x27;,\n",
       "                                                   &#x27;TOTAL_BATH&#x27;, &#x27;TOTAL_COMP&#x27;,\n",
       "                                                   &#x27;TOTAL_LIGHT&#x27;]),\n",
       "                                                 (&#x27;ohe&#x27;,\n",
       "                                                  OneHotEncoder(drop=&#x27;first&#x27;,\n",
       "                                                                handle_unknown=&#x27;ignore&#x27;,\n",
       "                                                                sparse_output=False),\n",
       "                                                  [&#x27;state_name&#x27;, &#x27;BA_climate&#x27;,\n",
       "                                                   &#x27;TYPEHUQ&#x27;, &#x27;YEARMADERANGE&#x27;,\n",
       "                                                   &#x27;WINDOWS&#x27;, &#x27;EQUIPM&#x27;]),\n",
       "                                                 (&#x27;std&#x27;, StandardScaler(),\n",
       "                                                  [&#x27;PRICEKWH&#x27;])])),\n",
       "                (&#x27;model&#x27;, LinearRegression())])</pre></div></div></div><div class=\"sk-serial\"><div class=\"sk-item sk-dashed-wrapped\"><div class=\"sk-label-container\"><div class=\"sk-label sk-toggleable\"><input class=\"sk-toggleable__control sk-hidden--visually\" id=\"sk-estimator-id-151\" type=\"checkbox\" ><label for=\"sk-estimator-id-151\" class=\"sk-toggleable__label sk-toggleable__label-arrow\">prep: ColumnTransformer</label><div class=\"sk-toggleable__content\"><pre>ColumnTransformer(remainder=&#x27;passthrough&#x27;,\n",
       "                  transformers=[(&#x27;min_max&#x27;, MinMaxScaler(),\n",
       "                                 [&#x27;NUMPORTEL&#x27;, &#x27;STORIES&#x27;, &#x27;SQFTEST&#x27;, &#x27;TOTROOMS&#x27;,\n",
       "                                  &#x27;NUMFRIG&#x27;, &#x27;MICRO&#x27;, &#x27;TVCOLOR&#x27;, &#x27;NHSLDMEM&#x27;,\n",
       "                                  &#x27;TOTAL_BATH&#x27;, &#x27;TOTAL_COMP&#x27;, &#x27;TOTAL_LIGHT&#x27;]),\n",
       "                                (&#x27;ohe&#x27;,\n",
       "                                 OneHotEncoder(drop=&#x27;first&#x27;,\n",
       "                                               handle_unknown=&#x27;ignore&#x27;,\n",
       "                                               sparse_output=False),\n",
       "                                 [&#x27;state_name&#x27;, &#x27;BA_climate&#x27;, &#x27;TYPEHUQ&#x27;,\n",
       "                                  &#x27;YEARMADERANGE&#x27;, &#x27;WINDOWS&#x27;, &#x27;EQUIPM&#x27;]),\n",
       "                                (&#x27;std&#x27;, StandardScaler(), [&#x27;PRICEKWH&#x27;])])</pre></div></div></div><div class=\"sk-parallel\"><div class=\"sk-parallel-item\"><div class=\"sk-item\"><div class=\"sk-label-container\"><div class=\"sk-label sk-toggleable\"><input class=\"sk-toggleable__control sk-hidden--visually\" id=\"sk-estimator-id-152\" type=\"checkbox\" ><label for=\"sk-estimator-id-152\" class=\"sk-toggleable__label sk-toggleable__label-arrow\">min_max</label><div class=\"sk-toggleable__content\"><pre>[&#x27;NUMPORTEL&#x27;, &#x27;STORIES&#x27;, &#x27;SQFTEST&#x27;, &#x27;TOTROOMS&#x27;, &#x27;NUMFRIG&#x27;, &#x27;MICRO&#x27;, &#x27;TVCOLOR&#x27;, &#x27;NHSLDMEM&#x27;, &#x27;TOTAL_BATH&#x27;, &#x27;TOTAL_COMP&#x27;, &#x27;TOTAL_LIGHT&#x27;]</pre></div></div></div><div class=\"sk-serial\"><div class=\"sk-item\"><div class=\"sk-estimator sk-toggleable\"><input class=\"sk-toggleable__control sk-hidden--visually\" id=\"sk-estimator-id-153\" type=\"checkbox\" ><label for=\"sk-estimator-id-153\" class=\"sk-toggleable__label sk-toggleable__label-arrow\">MinMaxScaler</label><div class=\"sk-toggleable__content\"><pre>MinMaxScaler()</pre></div></div></div></div></div></div><div class=\"sk-parallel-item\"><div class=\"sk-item\"><div class=\"sk-label-container\"><div class=\"sk-label sk-toggleable\"><input class=\"sk-toggleable__control sk-hidden--visually\" id=\"sk-estimator-id-154\" type=\"checkbox\" ><label for=\"sk-estimator-id-154\" class=\"sk-toggleable__label sk-toggleable__label-arrow\">ohe</label><div class=\"sk-toggleable__content\"><pre>[&#x27;state_name&#x27;, &#x27;BA_climate&#x27;, &#x27;TYPEHUQ&#x27;, &#x27;YEARMADERANGE&#x27;, &#x27;WINDOWS&#x27;, &#x27;EQUIPM&#x27;]</pre></div></div></div><div class=\"sk-serial\"><div class=\"sk-item\"><div class=\"sk-estimator sk-toggleable\"><input class=\"sk-toggleable__control sk-hidden--visually\" id=\"sk-estimator-id-155\" type=\"checkbox\" ><label for=\"sk-estimator-id-155\" class=\"sk-toggleable__label sk-toggleable__label-arrow\">OneHotEncoder</label><div class=\"sk-toggleable__content\"><pre>OneHotEncoder(drop=&#x27;first&#x27;, handle_unknown=&#x27;ignore&#x27;, sparse_output=False)</pre></div></div></div></div></div></div><div class=\"sk-parallel-item\"><div class=\"sk-item\"><div class=\"sk-label-container\"><div class=\"sk-label sk-toggleable\"><input class=\"sk-toggleable__control sk-hidden--visually\" id=\"sk-estimator-id-156\" type=\"checkbox\" ><label for=\"sk-estimator-id-156\" class=\"sk-toggleable__label sk-toggleable__label-arrow\">std</label><div class=\"sk-toggleable__content\"><pre>[&#x27;PRICEKWH&#x27;]</pre></div></div></div><div class=\"sk-serial\"><div class=\"sk-item\"><div class=\"sk-estimator sk-toggleable\"><input class=\"sk-toggleable__control sk-hidden--visually\" id=\"sk-estimator-id-157\" type=\"checkbox\" ><label for=\"sk-estimator-id-157\" class=\"sk-toggleable__label sk-toggleable__label-arrow\">StandardScaler</label><div class=\"sk-toggleable__content\"><pre>StandardScaler()</pre></div></div></div></div></div></div><div class=\"sk-parallel-item\"><div class=\"sk-item\"><div class=\"sk-label-container\"><div class=\"sk-label sk-toggleable\"><input class=\"sk-toggleable__control sk-hidden--visually\" id=\"sk-estimator-id-158\" type=\"checkbox\" ><label for=\"sk-estimator-id-158\" class=\"sk-toggleable__label sk-toggleable__label-arrow\">remainder</label><div class=\"sk-toggleable__content\"><pre>[&#x27;SWIMPOOL&#x27;, &#x27;DISHWASH&#x27;, &#x27;CWASHER&#x27;, &#x27;DRYER&#x27;, &#x27;HEATHOME&#x27;, &#x27;AIRCOND&#x27;]</pre></div></div></div><div class=\"sk-serial\"><div class=\"sk-item\"><div class=\"sk-estimator sk-toggleable\"><input class=\"sk-toggleable__control sk-hidden--visually\" id=\"sk-estimator-id-159\" type=\"checkbox\" ><label for=\"sk-estimator-id-159\" class=\"sk-toggleable__label sk-toggleable__label-arrow\">passthrough</label><div class=\"sk-toggleable__content\"><pre>passthrough</pre></div></div></div></div></div></div></div></div><div class=\"sk-item\"><div class=\"sk-estimator sk-toggleable\"><input class=\"sk-toggleable__control sk-hidden--visually\" id=\"sk-estimator-id-160\" type=\"checkbox\" ><label for=\"sk-estimator-id-160\" class=\"sk-toggleable__label sk-toggleable__label-arrow\">LinearRegression</label><div class=\"sk-toggleable__content\"><pre>LinearRegression()</pre></div></div></div></div></div></div></div>"
      ],
      "text/plain": [
       "Pipeline(steps=[('prep',\n",
       "                 ColumnTransformer(remainder='passthrough',\n",
       "                                   transformers=[('min_max', MinMaxScaler(),\n",
       "                                                  ['NUMPORTEL', 'STORIES',\n",
       "                                                   'SQFTEST', 'TOTROOMS',\n",
       "                                                   'NUMFRIG', 'MICRO',\n",
       "                                                   'TVCOLOR', 'NHSLDMEM',\n",
       "                                                   'TOTAL_BATH', 'TOTAL_COMP',\n",
       "                                                   'TOTAL_LIGHT']),\n",
       "                                                 ('ohe',\n",
       "                                                  OneHotEncoder(drop='first',\n",
       "                                                                handle_unknown='ignore',\n",
       "                                                                sparse_output=False),\n",
       "                                                  ['state_name', 'BA_climate',\n",
       "                                                   'TYPEHUQ', 'YEARMADERANGE',\n",
       "                                                   'WINDOWS', 'EQUIPM']),\n",
       "                                                 ('std', StandardScaler(),\n",
       "                                                  ['PRICEKWH'])])),\n",
       "                ('model', LinearRegression())])"
      ]
     },
     "execution_count": 334,
     "metadata": {},
     "output_type": "execute_result"
    }
   ],
   "source": [
    "pipe.fit(X_train, y_train_p)"
   ]
  },
  {
   "cell_type": "code",
   "execution_count": 335,
   "id": "dbaab7ad-e93c-4c03-b825-a3bef8dc1238",
   "metadata": {},
   "outputs": [
    {
     "data": {
      "text/plain": [
       "0.5790267146865771"
      ]
     },
     "execution_count": 335,
     "metadata": {},
     "output_type": "execute_result"
    }
   ],
   "source": [
    "cross_validate(pipe, X_train, y_train_p, cv =5 )[\"test_score\"].mean()"
   ]
  },
  {
   "cell_type": "code",
   "execution_count": 327,
   "id": "b2285c70-9f04-4fae-bd2e-d6db48ed6c53",
   "metadata": {},
   "outputs": [
    {
     "data": {
      "text/plain": [
       "3200.6611040414537"
      ]
     },
     "execution_count": 327,
     "metadata": {},
     "output_type": "execute_result"
    }
   ],
   "source": [
    "y_pred_p = pipe.predict(X_test)\n",
    "mean_absolute_error(y_test, np.exp(y_pred_p))"
   ]
  },
  {
   "cell_type": "code",
   "execution_count": 272,
   "id": "d52bed6a-b585-43bf-aeee-ae5dc2d65c9f",
   "metadata": {},
   "outputs": [
    {
     "name": "stdout",
     "output_type": "stream",
     "text": [
      "min_max__NUMPORTEL 0.25978967937168235\n",
      "min_max__STORIES -0.0626391400814903\n",
      "min_max__SQFTEST 0.9650832125787602\n",
      "min_max__TOTROOMS 0.05649003660920848\n",
      "min_max__NUMFRIG 0.4987407164579375\n",
      "min_max__MICRO -0.006914036715581426\n",
      "min_max__TVCOLOR 0.5522557843880816\n",
      "min_max__NHSLDMEM 0.4582862908142105\n",
      "min_max__TOTAL_BATH 0.13703726603708785\n",
      "min_max__TOTAL_COMP 0.32816030838482535\n",
      "min_max__TOTAL_LIGHT 0.6098023647072832\n",
      "ohe__state_name_Alaska -0.019474598040472163\n",
      "ohe__state_name_Arizona -0.013007215065343032\n",
      "ohe__state_name_Arkansas -0.02617837281701277\n",
      "ohe__state_name_California -0.3684797625020034\n",
      "ohe__state_name_Colorado -0.3121517876586444\n",
      "ohe__state_name_Connecticut 0.0612436075540231\n",
      "ohe__state_name_Delaware -0.17642409381514995\n",
      "ohe__state_name_District of Columbia -0.2622917560508409\n",
      "ohe__state_name_Florida -0.051320382953008836\n",
      "ohe__state_name_Georgia -0.05727683488701848\n",
      "ohe__state_name_Hawaii -2.5544274856181826e-05\n",
      "ohe__state_name_Idaho -0.15112375088707025\n",
      "ohe__state_name_Illinois -0.19314173977702676\n",
      "ohe__state_name_Indiana 0.03579471086162747\n",
      "ohe__state_name_Iowa -0.0013783411455113304\n",
      "ohe__state_name_Kansas -0.11815704706979564\n",
      "ohe__state_name_Kentucky -0.021166525007655423\n",
      "ohe__state_name_Louisiana -0.056253213920948786\n",
      "ohe__state_name_Maine -0.1539561537623378\n",
      "ohe__state_name_Maryland -0.09615944105299401\n",
      "ohe__state_name_Massachusetts -0.03924413179058517\n",
      "ohe__state_name_Michigan -0.04428362258051444\n",
      "ohe__state_name_Minnesota -0.1526267852163396\n",
      "ohe__state_name_Mississippi 0.002748048709013129\n",
      "ohe__state_name_Missouri -0.07385314345855112\n",
      "ohe__state_name_Montana -0.16513524577862793\n",
      "ohe__state_name_Nebraska -0.04884954505524898\n",
      "ohe__state_name_Nevada -0.10437959481456613\n",
      "ohe__state_name_New Hampshire -0.10618308644726346\n",
      "ohe__state_name_New Jersey -0.196455011988927\n",
      "ohe__state_name_New Mexico -0.27945347011912747\n",
      "ohe__state_name_New York -0.14016400398925172\n",
      "ohe__state_name_North Carolina -0.09116537777291905\n",
      "ohe__state_name_North Dakota -0.05257708394558934\n",
      "ohe__state_name_Ohio -0.11031480199211187\n",
      "ohe__state_name_Oklahoma -0.03470508125779723\n",
      "ohe__state_name_Oregon -0.004011007920808357\n",
      "ohe__state_name_Pennsylvania -0.12547681683492606\n",
      "ohe__state_name_Rhode Island -0.037291776264219825\n",
      "ohe__state_name_South Carolina -0.024583895381333785\n",
      "ohe__state_name_South Dakota -0.048263099565592604\n",
      "ohe__state_name_Tennessee -0.032958896059952725\n",
      "ohe__state_name_Texas -0.03928003206814887\n",
      "ohe__state_name_Utah -0.3042123872901645\n",
      "ohe__state_name_Vermont -0.08066004860944492\n",
      "ohe__state_name_Virginia -0.025379020043180794\n",
      "ohe__state_name_Washington -0.07907433899519337\n",
      "ohe__state_name_West Virginia -0.001277297968208583\n",
      "ohe__state_name_Wisconsin -0.09683535866399803\n",
      "ohe__state_name_Wyoming -0.20917007182467826\n",
      "ohe__BA_climate_Hot-Dry 0.15083814118606323\n",
      "ohe__BA_climate_Hot-Humid 0.18687954880091695\n",
      "ohe__BA_climate_Marine -0.0314005982518194\n",
      "ohe__BA_climate_Mixed-Dry 0.08117672723680347\n",
      "ohe__BA_climate_Mixed-Humid 0.1325626946748225\n",
      "ohe__BA_climate_Subarctic 0.38597441895193385\n",
      "ohe__BA_climate_Very-Cold 0.11469393702905623\n",
      "ohe__TYPEHUQ_Appartment_small 0.0676752640534123\n",
      "ohe__TYPEHUQ_Mobile 0.32524522784899557\n",
      "ohe__TYPEHUQ_Single_attached 0.09506101943438784\n",
      "ohe__TYPEHUQ_Single_detached 0.20594409000926409\n",
      "ohe__YEARMADERANGE_2010-15 0.0015008661613430396\n",
      "ohe__YEARMADERANGE_2016-20 -0.09477096507813688\n",
      "ohe__YEARMADERANGE_50-59 0.05402938041686131\n",
      "ohe__YEARMADERANGE_60-69 0.04743698218138531\n",
      "ohe__YEARMADERANGE_70-79 0.07904181808725334\n",
      "ohe__YEARMADERANGE_80-89 0.07116871023041221\n",
      "ohe__YEARMADERANGE_90-99 0.03344923670565875\n",
      "ohe__YEARMADERANGE_Before_50 0.06635881240087968\n",
      "ohe__WINDOWS_2 0.05095359800490745\n",
      "ohe__WINDOWS_3 0.09993645857094607\n",
      "ohe__WINDOWS_4 0.11902364646519967\n",
      "ohe__WINDOWS_5 0.10864307370059728\n",
      "ohe__WINDOWS_6 0.12061317402638844\n",
      "ohe__WINDOWS_7 0.15963656929276962\n",
      "ohe__EQUIPM_Ductless_heat -0.022487200211121494\n",
      "ohe__EQUIPM_Electric_heater -0.08115604973352447\n",
      "ohe__EQUIPM_Electric_units 0.08397379508410993\n",
      "ohe__EQUIPM_Furnace -0.2704357669932261\n",
      "ohe__EQUIPM_Other -0.14030453156745726\n",
      "ohe__EQUIPM_Room_heater -0.37761475350582036\n",
      "ohe__EQUIPM_Steam -0.37998018033348124\n",
      "ohe__EQUIPM_Wood -0.1627630845857395\n",
      "std__PRICEKWH -0.1685756567057296\n",
      "remainder__SWIMPOOL 0.21486963793625147\n",
      "remainder__SMARTMETER 0.010675944222643396\n",
      "remainder__DISHWASH 0.06312585931083176\n",
      "remainder__CWASHER 0.05453774789522037\n",
      "remainder__DRYER 0.10865832970593495\n",
      "remainder__HEATHOME 0.083674689882136\n",
      "remainder__AIRCOND 0.12054286104577729\n"
     ]
    }
   ],
   "source": [
    "for x , y  in zip(pipe[:-1].get_feature_names_out() ,pipe.named_steps[\"model\"].coef_):\n",
    "    print(x , y)"
   ]
  },
  {
   "cell_type": "code",
   "execution_count": 279,
   "id": "1c7711fd-9609-4f04-b90d-ede6c4256e7a",
   "metadata": {},
   "outputs": [],
   "source": [
    "user_input = {\n",
    "  \"TYPEHUQ\": 2,\n",
    "  \"SQFTEST\": 1530,\n",
    "  \"NHSLDMEM\": 2,\n",
    "  \"state_name\": \"California\",\n",
    "  \"PRICEKWH\": 0.2999,\n",
    "  \"BA_climate\": \"Cold\",\n",
    "  \"SWIMPOOL\": 0,\n",
    "  \"TOTROOMS\": 6,\n",
    "  \"STORIES\": 1,\n",
    "  \"YEARMADERANGE\": 4,\n",
    "  \"SMARTMETER\": 0,\n",
    "  \"NCOMBATH\": 2,\n",
    "  \"NHAFBATH\": 0,\n",
    "  \"EQUIPM\": 3,\n",
    "  \"WINDOWS\": 4,\n",
    "  \"DESKTOP\": 0,\n",
    "  \"NUMLAPTOP\": 0,\n",
    "  \"MICRO\": 1,\n",
    "  \"CWASHER\": 1,\n",
    "  \"AIRCOND\": 1,\n",
    "  \"NUMPORTEL\": 0,\n",
    "  \"TVCOLOR\": 2,\n",
    "  \"NUMFRIG\": 1,\n",
    "  \"DRYER\": 1,\n",
    "  \"DISHWASH\": 1,\n",
    "  \"LGTIN1TO4\": 4,\n",
    "  \"LGTIN4TO8\": 0,\n",
    "  \"LGTINMORE8\": 0,\n",
    "  \"HEATHOME\": 1\n",
    "}"
   ]
  },
  {
   "cell_type": "code",
   "execution_count": 280,
   "id": "4ae11961-2126-45d0-952c-855bce171c94",
   "metadata": {},
   "outputs": [
    {
     "data": {
      "text/plain": [
       "3509.4336582508536"
      ]
     },
     "execution_count": 280,
     "metadata": {},
     "output_type": "execute_result"
    }
   ],
   "source": [
    "X_new = pd.DataFrame(user_input, index=[0])\n",
    "X_new = clean_data_2(X_new)\n",
    "    ##### Create new dataframe from user inputs ######\n",
    "    #X_new = pd.DataFrame({k:[int(v) if v.isdigit() else v] for k,v in params.items()})\n",
    "\n",
    "    # # ## clean the dataframe\n",
    "y_pred = pipe.predict(X_new)[0]\n",
    "y_pred = np.exp(y_pred)\n",
    "y_pred"
   ]
  },
  {
   "cell_type": "markdown",
   "id": "0544f90b-e5d6-4fc8-8cc7-31147c4811bb",
   "metadata": {
    "jp-MarkdownHeadingCollapsed": true
   },
   "source": [
    "#### Linear Regression"
   ]
  },
  {
   "cell_type": "code",
   "execution_count": 9,
   "id": "52fd72a0-7442-454f-a6a4-3f0940f07e11",
   "metadata": {},
   "outputs": [],
   "source": [
    "df_new = call_data_url()\n",
    "df = df_new.drop([\"WALLTYPE\", \"ROOFTYPE\", \"TELLWORK\",\"SOLAR\", \"SMARTMETER\", \"REGIONC\"], axis = 1)\n",
    "df = filter_data(df)\n",
    "df = clean_data_2(df)\n",
    "\n",
    "X , y = get_xy(df)\n",
    "X_train, X_test, y_train, y_test =  train_test_split(X,y, test_size=0.3)\n",
    "y_train_p = np.log(y_train.astype(\"float\"))\n",
    "y_test_p = np.log(y_test.astype(\"float\"))"
   ]
  },
  {
   "cell_type": "code",
   "execution_count": 34,
   "id": "18102ed0-b187-470e-86a6-7932eb0b355b",
   "metadata": {},
   "outputs": [
    {
     "data": {
      "text/plain": [
       "Index(['state_name', 'BA_climate', 'TYPEHUQ', 'STORIES', 'YEARMADERANGE',\n",
       "       'NCOMBATH', 'NHAFBATH', 'TOTROOMS', 'WINDOWS', 'SWIMPOOL', 'NUMFRIG',\n",
       "       'MICRO', 'DISHWASH', 'CWASHER', 'DRYER', 'TVCOLOR', 'DESKTOP',\n",
       "       'NUMLAPTOP', 'HEATHOME', 'EQUIPM', 'NUMPORTEL', 'AIRCOND', 'LGTIN1TO4',\n",
       "       'LGTIN4TO8', 'LGTINMORE8', 'NHSLDMEM', 'SQFTEST', 'PRICEKWH'],\n",
       "      dtype='object')"
      ]
     },
     "execution_count": 34,
     "metadata": {},
     "output_type": "execute_result"
    }
   ],
   "source": [
    "X_train.columns"
   ]
  },
  {
   "cell_type": "code",
   "execution_count": 8,
   "id": "2b3d4c97-3587-4f45-bcdc-b0c1c6e07f1c",
   "metadata": {},
   "outputs": [],
   "source": [
    "import pandas as pd\n",
    "import numpy as np\n",
    "from sklearn.impute import SimpleImputer\n",
    "from sklearn.pipeline import Pipeline\n",
    "from sklearn.impute import SimpleImputer\n",
    "from sklearn.compose import ColumnTransformer\n",
    "from sklearn.preprocessing import OneHotEncoder\n",
    "\n",
    "def clean_data_2(df,min_perc=0.005, max_perc=0.995):\n",
    "    \"\"\"This set cleans the data to have it in the correct format before preprocessing\"\"\"\n",
    "\n",
    "    #Maping features\n",
    "    TYPEHUQ_map = {1: \"Mobile\", 2: \"Single_detached\",3: \"Single_attached\",\n",
    "                   4: \"Appartment_small\" ,5: \"Appartment_big\"}\n",
    "    \n",
    "    YEARMADERANGE_map = {1: \"Before_50\", 2:\"50-59\", 3:\"60-69\",\n",
    "                         4: \"70-79\", 5: \"80-89\", 6:\"90-99\", 7:\"00-09\",\n",
    "                         8:\"2010-15\", 9:\"2016-20\" }\n",
    "    EQUIPM_map = {3:\"Furnace\", 2: \"Steam\", 4: \"Central_heat\", 13: \"Ductless_heat\",\n",
    "                5: \"Electric_units\", 7: \"Room_heater\", 8 : \"Wood\",\n",
    "                10:\"Electric_heater\", 99:\"Other\", -2:\"Other\"}\n",
    "\n",
    "    dics_transform = [TYPEHUQ_map, YEARMADERANGE_map, EQUIPM_map]\n",
    "    columns_to_transform = [\"TYPEHUQ\", \"YEARMADERANGE\", \"EQUIPM\"]\n",
    "\n",
    "    for x , y in zip(dics_transform,columns_to_transform):\n",
    "        df[y] = df[y].map(x)\n",
    "\n",
    "    #Combine new features\n",
    "    df[\"TOTAL_BATH\"] = df[\"NCOMBATH\"] + df[\"NHAFBATH\"]\n",
    "    df.drop( [\"NCOMBATH\", \"NHAFBATH\"] ,axis=1, inplace = True)\n",
    "\n",
    "    df[\"TOTAL_COMP\"] = df[\"DESKTOP\"] + df[\"NUMLAPTOP\"]\n",
    "    df.drop( [\"DESKTOP\", \"NUMLAPTOP\"] ,axis=1, inplace = True)\n",
    "\n",
    "    df[\"TOTAL_LIGHT\"] = df[\"LGTIN1TO4\"] + df[\"LGTIN4TO8\"] + df[\"LGTINMORE8\"]\n",
    "    df.drop( [\"LGTIN1TO4\", \"LGTIN4TO8\", \"LGTINMORE8\"] ,axis=1, inplace = True)\n",
    "\n",
    "    df[\"STORIES\"] = df[\"STORIES\"].replace(-2,1)\n",
    "    df[\"STORIES\"] = df[\"STORIES\"].replace(5,2)\n",
    "\n",
    "    #Impute features\n",
    "    features_imputer2 = ['SWIMPOOL', 'NUMPORTEL']\n",
    "    features_imputer4 = ['SMARTMETER']\n",
    "    #to_ohe_encode = ['REGIONC', 'state_name','BA_climate','TYPEHUQ','YEARMADERANGE','WALLTYPE','ROOFTYPE','WINDOWS','EQUIPM']\n",
    "\n",
    "    imputer_2 = SimpleImputer(strategy='constant', missing_values=-2, fill_value=0)\n",
    "    imputer_4 = SimpleImputer(strategy='constant', missing_values=-4, fill_value=0)\n",
    "    #ohe = OneHotEncoder(sparse_output=False, handle_unknown='ignore')\n",
    "\n",
    "    preprocessor = ColumnTransformer(transformers=[('imputer_2',imputer_2, features_imputer2),\n",
    "                                                #('imputer_4',imputer_4, features_imputer4)],\n",
    "                                                #('ohe', ohe, to_ohe_encode)],\n",
    "                                                  ], remainder = \"passthrough\")\n",
    "\n",
    "    preprocessor.fit(df)\n",
    "\n",
    "    cols = [x.split(\"__\")[1] for x in preprocessor.get_feature_names_out()]\n",
    "\n",
    "    df_clean = pd.DataFrame(preprocessor.transform(df),\n",
    "                       columns = cols)\n",
    "\n",
    "    return df_clean\n"
   ]
  },
  {
   "cell_type": "code",
   "execution_count": 78,
   "id": "98b6302c-7664-4f14-9357-744039b76bd6",
   "metadata": {},
   "outputs": [
    {
     "data": {
      "text/plain": [
       "Index(['SWIMPOOL', 'NUMPORTEL', 'SMARTMETER', 'REGIONC', 'state_name',\n",
       "       'BA_climate', 'TYPEHUQ', 'STORIES', 'YEARMADERANGE', 'TOTROOMS',\n",
       "       'WINDOWS', 'NUMFRIG', 'MICRO', 'DISHWASH', 'CWASHER', 'DRYER',\n",
       "       'TVCOLOR', 'HEATHOME', 'EQUIPM', 'AIRCOND', 'NHSLDMEM', 'SQFTEST',\n",
       "       'KWH', 'TOTAL_BATH', 'TOTAL_COMP', 'TOTAL_LIGHT'],\n",
       "      dtype='object')"
      ]
     },
     "execution_count": 78,
     "metadata": {},
     "output_type": "execute_result"
    }
   ],
   "source": [
    "df.columns"
   ]
  },
  {
   "cell_type": "code",
   "execution_count": 33,
   "id": "e8c94e90-3e35-49d3-a530-a84f5c8f55f9",
   "metadata": {},
   "outputs": [],
   "source": [
    "to_ohe_encode = ['state_name','BA_climate','TYPEHUQ',\n",
    "                     'YEARMADERANGE','WINDOWS','EQUIPM']\n",
    "\n",
    "to_scale = [\"NUMPORTEL\", \"STORIES\",\"SQFTEST\",\n",
    "            \"TOTROOMS\", \"NUMFRIG\", \"MICRO\", \"TVCOLOR\",\"NHSLDMEM\",\n",
    "            \"TOTAL_BATH\", \"TOTAL_COMP\", \"TOTAL_LIGHT\",\"PRICEKWH\" ]\n",
    "\n",
    "min_max = MinMaxScaler()\n",
    "ohe = OneHotEncoder(sparse_output=False, handle_unknown='ignore',drop=\"first\")\n",
    "\n",
    "\n",
    "prep2 = ColumnTransformer(transformers=[\n",
    "                                            ('min_max', min_max, to_scale),\n",
    "                                            ('ohe', ohe, to_ohe_encode)],\n",
    "                                            remainder = \"passthrough\")\n",
    "\n",
    "pipe = Pipeline([(\"prep\", prep2 ),(\"model\", LinearRegression())])"
   ]
  },
  {
   "cell_type": "code",
   "execution_count": 80,
   "id": "e134fd65-7b41-4edd-ad2f-0129211bad7a",
   "metadata": {},
   "outputs": [
    {
     "data": {
      "text/plain": [
       "0.5401287742107884"
      ]
     },
     "execution_count": 80,
     "metadata": {},
     "output_type": "execute_result"
    }
   ],
   "source": [
    "#with Tellwork\n",
    "cross_validate(pipe, X_train, y_train_p, cv=5)[\"test_score\"].mean()"
   ]
  },
  {
   "cell_type": "code",
   "execution_count": 81,
   "id": "ae3ae660-54fb-4ede-964f-7549d0fba0dd",
   "metadata": {},
   "outputs": [
    {
     "data": {
      "text/plain": [
       "0.5401287742107884"
      ]
     },
     "execution_count": 81,
     "metadata": {},
     "output_type": "execute_result"
    }
   ],
   "source": [
    "#without Tellwork\n",
    "cross_validate(pipe, X_train, y_train_p, cv=5)[\"test_score\"].mean()"
   ]
  },
  {
   "cell_type": "code",
   "execution_count": 88,
   "id": "6d38fc40-5b88-410a-ba42-dc8d790ca206",
   "metadata": {},
   "outputs": [
    {
     "data": {
      "text/plain": [
       "0.5380990169092557"
      ]
     },
     "execution_count": 88,
     "metadata": {},
     "output_type": "execute_result"
    }
   ],
   "source": [
    "cross_validate(pipe, X_train, y_train_p, cv=5)[\"test_score\"].mean()"
   ]
  },
  {
   "cell_type": "code",
   "execution_count": 97,
   "id": "e40037a4-b5fe-44fe-b37b-bbd5c50f8a1b",
   "metadata": {},
   "outputs": [
    {
     "data": {
      "text/plain": [
       "array(['Alabama', 'Alaska', 'Arizona', 'Arkansas', 'California',\n",
       "       'Colorado', 'Connecticut', 'Delaware', 'District of Columbia',\n",
       "       'Florida', 'Georgia', 'Hawaii', 'Idaho', 'Illinois', 'Indiana',\n",
       "       'Iowa', 'Kansas', 'Kentucky', 'Louisiana', 'Maine', 'Maryland',\n",
       "       'Massachusetts', 'Michigan', 'Minnesota', 'Mississippi',\n",
       "       'Missouri', 'Montana', 'Nebraska', 'Nevada', 'New Hampshire',\n",
       "       'New Jersey', 'New Mexico', 'New York', 'North Carolina',\n",
       "       'North Dakota', 'Ohio', 'Oklahoma', 'Oregon', 'Pennsylvania',\n",
       "       'Rhode Island', 'South Carolina', 'South Dakota', 'Tennessee',\n",
       "       'Texas', 'Utah', 'Vermont', 'Virginia', 'Washington',\n",
       "       'West Virginia', 'Wisconsin', 'Wyoming'], dtype=object)"
      ]
     },
     "execution_count": 97,
     "metadata": {},
     "output_type": "execute_result"
    }
   ],
   "source": [
    "np.sort(df[\"state_name\"].unique())"
   ]
  },
  {
   "cell_type": "code",
   "execution_count": null,
   "id": "2195cfa8-ae75-4594-a152-da74d195f4af",
   "metadata": {},
   "outputs": [],
   "source": [
    "price_december = [0.1483, 0.245, 0.1439]"
   ]
  },
  {
   "cell_type": "code",
   "execution_count": 97,
   "id": "973ae722-39aa-4453-9932-64b27c5c869f",
   "metadata": {},
   "outputs": [],
   "source": [
    "df_price = pd.read_csv(\"prices_electricity.csv\",  encoding=\"ISO-8859-1\")"
   ]
  },
  {
   "cell_type": "code",
   "execution_count": 98,
   "id": "c7348940-8411-4f10-9077-de1687f0e5d5",
   "metadata": {},
   "outputs": [],
   "source": [
    "df_price[\"Current Month\"] = df_price[\"Current Month\"].apply( lambda x : round(pd.to_numeric(x[:-1])/100,4))"
   ]
  },
  {
   "cell_type": "code",
   "execution_count": 99,
   "id": "e5b9b129-67f4-411a-9125-de12d413bfb5",
   "metadata": {},
   "outputs": [],
   "source": [
    "state_name = pd.DataFrame(df[\"state_name\"].unique())"
   ]
  },
  {
   "cell_type": "code",
   "execution_count": 100,
   "id": "8607a9b0-62c0-4777-85a0-5b0a31b12fd7",
   "metadata": {},
   "outputs": [
    {
     "data": {
      "text/html": [
       "<div>\n",
       "<style scoped>\n",
       "    .dataframe tbody tr th:only-of-type {\n",
       "        vertical-align: middle;\n",
       "    }\n",
       "\n",
       "    .dataframe tbody tr th {\n",
       "        vertical-align: top;\n",
       "    }\n",
       "\n",
       "    .dataframe thead th {\n",
       "        text-align: right;\n",
       "    }\n",
       "</style>\n",
       "<table border=\"1\" class=\"dataframe\">\n",
       "  <thead>\n",
       "    <tr style=\"text-align: right;\">\n",
       "      <th></th>\n",
       "      <th>State</th>\n",
       "      <th>Current Month</th>\n",
       "      <th>Previous Month</th>\n",
       "      <th>0</th>\n",
       "    </tr>\n",
       "  </thead>\n",
       "  <tbody>\n",
       "    <tr>\n",
       "      <th>0</th>\n",
       "      <td>Alabama</td>\n",
       "      <td>0.1483</td>\n",
       "      <td>14.14¢</td>\n",
       "      <td>Alabama</td>\n",
       "    </tr>\n",
       "    <tr>\n",
       "      <th>1</th>\n",
       "      <td>Alaska</td>\n",
       "      <td>0.2450</td>\n",
       "      <td>25.07¢</td>\n",
       "      <td>Alaska</td>\n",
       "    </tr>\n",
       "    <tr>\n",
       "      <th>2</th>\n",
       "      <td>Arizona</td>\n",
       "      <td>0.1439</td>\n",
       "      <td>13.82¢</td>\n",
       "      <td>Arizona</td>\n",
       "    </tr>\n",
       "    <tr>\n",
       "      <th>3</th>\n",
       "      <td>Arkansas</td>\n",
       "      <td>0.1267</td>\n",
       "      <td>12.45¢</td>\n",
       "      <td>Arkansas</td>\n",
       "    </tr>\n",
       "    <tr>\n",
       "      <th>4</th>\n",
       "      <td>California</td>\n",
       "      <td>0.2999</td>\n",
       "      <td>29.84¢</td>\n",
       "      <td>California</td>\n",
       "    </tr>\n",
       "    <tr>\n",
       "      <th>5</th>\n",
       "      <td>Colorado</td>\n",
       "      <td>0.1503</td>\n",
       "      <td>14.43¢</td>\n",
       "      <td>Colorado</td>\n",
       "    </tr>\n",
       "    <tr>\n",
       "      <th>6</th>\n",
       "      <td>Connecticut</td>\n",
       "      <td>0.2925</td>\n",
       "      <td>27.89¢</td>\n",
       "      <td>Connecticut</td>\n",
       "    </tr>\n",
       "    <tr>\n",
       "      <th>7</th>\n",
       "      <td>Delaware</td>\n",
       "      <td>0.1583</td>\n",
       "      <td>15.66¢</td>\n",
       "      <td>Delaware</td>\n",
       "    </tr>\n",
       "    <tr>\n",
       "      <th>8</th>\n",
       "      <td>District of Columbia</td>\n",
       "      <td>0.1628</td>\n",
       "      <td>16.4¢</td>\n",
       "      <td>District of Columbia</td>\n",
       "    </tr>\n",
       "    <tr>\n",
       "      <th>9</th>\n",
       "      <td>Florida</td>\n",
       "      <td>0.1551</td>\n",
       "      <td>14.93¢</td>\n",
       "      <td>Florida</td>\n",
       "    </tr>\n",
       "    <tr>\n",
       "      <th>10</th>\n",
       "      <td>Georgia</td>\n",
       "      <td>0.1401</td>\n",
       "      <td>14.14¢</td>\n",
       "      <td>Georgia</td>\n",
       "    </tr>\n",
       "    <tr>\n",
       "      <th>11</th>\n",
       "      <td>Hawaii</td>\n",
       "      <td>0.4152</td>\n",
       "      <td>39.17¢</td>\n",
       "      <td>Hawaii</td>\n",
       "    </tr>\n",
       "    <tr>\n",
       "      <th>12</th>\n",
       "      <td>Idaho</td>\n",
       "      <td>0.1160</td>\n",
       "      <td>11.62¢</td>\n",
       "      <td>Idaho</td>\n",
       "    </tr>\n",
       "    <tr>\n",
       "      <th>13</th>\n",
       "      <td>Illinois</td>\n",
       "      <td>0.1479</td>\n",
       "      <td>13.94¢</td>\n",
       "      <td>Illinois</td>\n",
       "    </tr>\n",
       "    <tr>\n",
       "      <th>14</th>\n",
       "      <td>Indiana</td>\n",
       "      <td>0.1410</td>\n",
       "      <td>14.15¢</td>\n",
       "      <td>Indiana</td>\n",
       "    </tr>\n",
       "    <tr>\n",
       "      <th>15</th>\n",
       "      <td>Iowa</td>\n",
       "      <td>0.1403</td>\n",
       "      <td>15.06¢</td>\n",
       "      <td>Iowa</td>\n",
       "    </tr>\n",
       "    <tr>\n",
       "      <th>16</th>\n",
       "      <td>Kansas</td>\n",
       "      <td>0.1346</td>\n",
       "      <td>13.57¢</td>\n",
       "      <td>Kansas</td>\n",
       "    </tr>\n",
       "    <tr>\n",
       "      <th>17</th>\n",
       "      <td>Kentucky</td>\n",
       "      <td>0.1243</td>\n",
       "      <td>12.16¢</td>\n",
       "      <td>Kentucky</td>\n",
       "    </tr>\n",
       "    <tr>\n",
       "      <th>18</th>\n",
       "      <td>Louisiana</td>\n",
       "      <td>0.1139</td>\n",
       "      <td>11.04¢</td>\n",
       "      <td>Louisiana</td>\n",
       "    </tr>\n",
       "    <tr>\n",
       "      <th>19</th>\n",
       "      <td>Maine</td>\n",
       "      <td>0.2686</td>\n",
       "      <td>25.43¢</td>\n",
       "      <td>Maine</td>\n",
       "    </tr>\n",
       "    <tr>\n",
       "      <th>20</th>\n",
       "      <td>Maryland</td>\n",
       "      <td>0.1696</td>\n",
       "      <td>16.35¢</td>\n",
       "      <td>Maryland</td>\n",
       "    </tr>\n",
       "    <tr>\n",
       "      <th>21</th>\n",
       "      <td>Massachusetts</td>\n",
       "      <td>0.2800</td>\n",
       "      <td>27.83¢</td>\n",
       "      <td>Massachusetts</td>\n",
       "    </tr>\n",
       "    <tr>\n",
       "      <th>22</th>\n",
       "      <td>Michigan</td>\n",
       "      <td>0.1935</td>\n",
       "      <td>19.43¢</td>\n",
       "      <td>Michigan</td>\n",
       "    </tr>\n",
       "    <tr>\n",
       "      <th>23</th>\n",
       "      <td>Minnesota</td>\n",
       "      <td>0.1529</td>\n",
       "      <td>15.46¢</td>\n",
       "      <td>Minnesota</td>\n",
       "    </tr>\n",
       "    <tr>\n",
       "      <th>24</th>\n",
       "      <td>Mississippi</td>\n",
       "      <td>0.1305</td>\n",
       "      <td>12.9¢</td>\n",
       "      <td>Mississippi</td>\n",
       "    </tr>\n",
       "    <tr>\n",
       "      <th>25</th>\n",
       "      <td>Missouri</td>\n",
       "      <td>0.1423</td>\n",
       "      <td>14.43¢</td>\n",
       "      <td>Missouri</td>\n",
       "    </tr>\n",
       "    <tr>\n",
       "      <th>26</th>\n",
       "      <td>Montana</td>\n",
       "      <td>0.1318</td>\n",
       "      <td>12.96¢</td>\n",
       "      <td>Montana</td>\n",
       "    </tr>\n",
       "    <tr>\n",
       "      <th>27</th>\n",
       "      <td>Nebraska</td>\n",
       "      <td>0.1239</td>\n",
       "      <td>12.26¢</td>\n",
       "      <td>Nebraska</td>\n",
       "    </tr>\n",
       "    <tr>\n",
       "      <th>28</th>\n",
       "      <td>Nevada</td>\n",
       "      <td>0.1694</td>\n",
       "      <td>16.47¢</td>\n",
       "      <td>Nevada</td>\n",
       "    </tr>\n",
       "    <tr>\n",
       "      <th>29</th>\n",
       "      <td>New Hampshire</td>\n",
       "      <td>0.2331</td>\n",
       "      <td>26.15¢</td>\n",
       "      <td>New Hampshire</td>\n",
       "    </tr>\n",
       "    <tr>\n",
       "      <th>30</th>\n",
       "      <td>New Jersey</td>\n",
       "      <td>0.1802</td>\n",
       "      <td>18.5¢</td>\n",
       "      <td>New Jersey</td>\n",
       "    </tr>\n",
       "    <tr>\n",
       "      <th>31</th>\n",
       "      <td>New Mexico</td>\n",
       "      <td>0.1525</td>\n",
       "      <td>14.71¢</td>\n",
       "      <td>New Mexico</td>\n",
       "    </tr>\n",
       "    <tr>\n",
       "      <th>32</th>\n",
       "      <td>New York</td>\n",
       "      <td>0.2323</td>\n",
       "      <td>22.33¢</td>\n",
       "      <td>New York</td>\n",
       "    </tr>\n",
       "    <tr>\n",
       "      <th>33</th>\n",
       "      <td>North Carolina</td>\n",
       "      <td>0.1409</td>\n",
       "      <td>13.04¢</td>\n",
       "      <td>North Carolina</td>\n",
       "    </tr>\n",
       "    <tr>\n",
       "      <th>34</th>\n",
       "      <td>North Dakota</td>\n",
       "      <td>0.1277</td>\n",
       "      <td>12.5¢</td>\n",
       "      <td>North Dakota</td>\n",
       "    </tr>\n",
       "    <tr>\n",
       "      <th>35</th>\n",
       "      <td>Ohio</td>\n",
       "      <td>0.1568</td>\n",
       "      <td>15.77¢</td>\n",
       "      <td>Ohio</td>\n",
       "    </tr>\n",
       "    <tr>\n",
       "      <th>36</th>\n",
       "      <td>Oklahoma</td>\n",
       "      <td>0.1325</td>\n",
       "      <td>13.29¢</td>\n",
       "      <td>Oklahoma</td>\n",
       "    </tr>\n",
       "    <tr>\n",
       "      <th>37</th>\n",
       "      <td>Oregon</td>\n",
       "      <td>0.1313</td>\n",
       "      <td>12.95¢</td>\n",
       "      <td>Oregon</td>\n",
       "    </tr>\n",
       "    <tr>\n",
       "      <th>38</th>\n",
       "      <td>Pennsylvania</td>\n",
       "      <td>0.1801</td>\n",
       "      <td>17.88¢</td>\n",
       "      <td>Pennsylvania</td>\n",
       "    </tr>\n",
       "    <tr>\n",
       "      <th>39</th>\n",
       "      <td>Rhode Island</td>\n",
       "      <td>0.2694</td>\n",
       "      <td>27.58¢</td>\n",
       "      <td>Rhode Island</td>\n",
       "    </tr>\n",
       "    <tr>\n",
       "      <th>40</th>\n",
       "      <td>South Carolina</td>\n",
       "      <td>0.1452</td>\n",
       "      <td>13.82¢</td>\n",
       "      <td>South Carolina</td>\n",
       "    </tr>\n",
       "    <tr>\n",
       "      <th>41</th>\n",
       "      <td>South Dakota</td>\n",
       "      <td>0.1305</td>\n",
       "      <td>12.99¢</td>\n",
       "      <td>South Dakota</td>\n",
       "    </tr>\n",
       "    <tr>\n",
       "      <th>42</th>\n",
       "      <td>Tennessee</td>\n",
       "      <td>0.1185</td>\n",
       "      <td>11.99¢</td>\n",
       "      <td>Tennessee</td>\n",
       "    </tr>\n",
       "    <tr>\n",
       "      <th>43</th>\n",
       "      <td>Texas</td>\n",
       "      <td>0.1458</td>\n",
       "      <td>14.01¢</td>\n",
       "      <td>Texas</td>\n",
       "    </tr>\n",
       "    <tr>\n",
       "      <th>44</th>\n",
       "      <td>Utah</td>\n",
       "      <td>0.1185</td>\n",
       "      <td>11.66¢</td>\n",
       "      <td>Utah</td>\n",
       "    </tr>\n",
       "    <tr>\n",
       "      <th>45</th>\n",
       "      <td>Vermont</td>\n",
       "      <td>0.2121</td>\n",
       "      <td>20.45¢</td>\n",
       "      <td>Vermont</td>\n",
       "    </tr>\n",
       "    <tr>\n",
       "      <th>46</th>\n",
       "      <td>Virginia</td>\n",
       "      <td>0.1479</td>\n",
       "      <td>13.95¢</td>\n",
       "      <td>Virginia</td>\n",
       "    </tr>\n",
       "    <tr>\n",
       "      <th>47</th>\n",
       "      <td>Washington</td>\n",
       "      <td>0.1138</td>\n",
       "      <td>11.14¢</td>\n",
       "      <td>Washington</td>\n",
       "    </tr>\n",
       "    <tr>\n",
       "      <th>48</th>\n",
       "      <td>West Virginia</td>\n",
       "      <td>0.1438</td>\n",
       "      <td>14.23¢</td>\n",
       "      <td>West Virginia</td>\n",
       "    </tr>\n",
       "    <tr>\n",
       "      <th>49</th>\n",
       "      <td>Wisconsin</td>\n",
       "      <td>0.1732</td>\n",
       "      <td>17.1¢</td>\n",
       "      <td>Wisconsin</td>\n",
       "    </tr>\n",
       "    <tr>\n",
       "      <th>50</th>\n",
       "      <td>Wyoming</td>\n",
       "      <td>0.1264</td>\n",
       "      <td>12.44¢</td>\n",
       "      <td>Wyoming</td>\n",
       "    </tr>\n",
       "  </tbody>\n",
       "</table>\n",
       "</div>"
      ],
      "text/plain": [
       "                   State  Current Month Previous Month                     0\n",
       "0                Alabama         0.1483         14.14¢               Alabama\n",
       "1                 Alaska         0.2450         25.07¢                Alaska\n",
       "2                Arizona         0.1439         13.82¢               Arizona\n",
       "3               Arkansas         0.1267         12.45¢              Arkansas\n",
       "4             California         0.2999         29.84¢            California\n",
       "5               Colorado         0.1503         14.43¢              Colorado\n",
       "6            Connecticut         0.2925         27.89¢           Connecticut\n",
       "7               Delaware         0.1583         15.66¢              Delaware\n",
       "8   District of Columbia         0.1628          16.4¢  District of Columbia\n",
       "9                Florida         0.1551         14.93¢               Florida\n",
       "10               Georgia         0.1401         14.14¢               Georgia\n",
       "11                Hawaii         0.4152         39.17¢                Hawaii\n",
       "12                 Idaho         0.1160         11.62¢                 Idaho\n",
       "13              Illinois         0.1479         13.94¢              Illinois\n",
       "14               Indiana         0.1410         14.15¢               Indiana\n",
       "15                  Iowa         0.1403         15.06¢                  Iowa\n",
       "16                Kansas         0.1346         13.57¢                Kansas\n",
       "17              Kentucky         0.1243         12.16¢              Kentucky\n",
       "18             Louisiana         0.1139         11.04¢             Louisiana\n",
       "19                 Maine         0.2686         25.43¢                 Maine\n",
       "20              Maryland         0.1696         16.35¢              Maryland\n",
       "21         Massachusetts         0.2800         27.83¢         Massachusetts\n",
       "22              Michigan         0.1935         19.43¢              Michigan\n",
       "23             Minnesota         0.1529         15.46¢             Minnesota\n",
       "24           Mississippi         0.1305          12.9¢           Mississippi\n",
       "25              Missouri         0.1423         14.43¢              Missouri\n",
       "26               Montana         0.1318         12.96¢               Montana\n",
       "27              Nebraska         0.1239         12.26¢              Nebraska\n",
       "28                Nevada         0.1694         16.47¢                Nevada\n",
       "29         New Hampshire         0.2331         26.15¢         New Hampshire\n",
       "30            New Jersey         0.1802          18.5¢            New Jersey\n",
       "31            New Mexico         0.1525         14.71¢            New Mexico\n",
       "32              New York         0.2323         22.33¢              New York\n",
       "33        North Carolina         0.1409         13.04¢        North Carolina\n",
       "34          North Dakota         0.1277          12.5¢          North Dakota\n",
       "35                  Ohio         0.1568         15.77¢                  Ohio\n",
       "36              Oklahoma         0.1325         13.29¢              Oklahoma\n",
       "37                Oregon         0.1313         12.95¢                Oregon\n",
       "38          Pennsylvania         0.1801         17.88¢          Pennsylvania\n",
       "39          Rhode Island         0.2694         27.58¢          Rhode Island\n",
       "40        South Carolina         0.1452         13.82¢        South Carolina\n",
       "41          South Dakota         0.1305         12.99¢          South Dakota\n",
       "42             Tennessee         0.1185         11.99¢             Tennessee\n",
       "43                 Texas         0.1458         14.01¢                 Texas\n",
       "44                  Utah         0.1185         11.66¢                  Utah\n",
       "45               Vermont         0.2121         20.45¢               Vermont\n",
       "46              Virginia         0.1479         13.95¢              Virginia\n",
       "47            Washington         0.1138         11.14¢            Washington\n",
       "48         West Virginia         0.1438         14.23¢         West Virginia\n",
       "49             Wisconsin         0.1732          17.1¢             Wisconsin\n",
       "50               Wyoming         0.1264         12.44¢               Wyoming"
      ]
     },
     "execution_count": 100,
     "metadata": {},
     "output_type": "execute_result"
    }
   ],
   "source": [
    "df_price.merge(state_name,left_on = \"State\", right_on = 0 )"
   ]
  },
  {
   "cell_type": "code",
   "execution_count": 101,
   "id": "e06f4d0d-8553-4d59-a4ed-a07fb8824dc7",
   "metadata": {},
   "outputs": [],
   "source": [
    "price_dictionary = dict(zip(df_price[\"State\"], df_price[\"Current Month\"]))"
   ]
  },
  {
   "cell_type": "code",
   "execution_count": 108,
   "id": "d1dae09c-270b-446a-aaa2-e6c12df092c7",
   "metadata": {},
   "outputs": [
    {
     "data": {
      "text/plain": [
       "{'Alabama': 0.1483,\n",
       " 'Alaska': 0.245,\n",
       " 'Arizona': 0.1439,\n",
       " 'Arkansas': 0.1267,\n",
       " 'California': 0.2999,\n",
       " 'Colorado': 0.1503,\n",
       " 'Connecticut': 0.2925,\n",
       " 'Delaware': 0.1583,\n",
       " 'District of Columbia': 0.1628,\n",
       " 'Florida': 0.1551,\n",
       " 'Georgia': 0.1401,\n",
       " 'Hawaii': 0.4152,\n",
       " 'Idaho': 0.116,\n",
       " 'Illinois': 0.1479,\n",
       " 'Indiana': 0.141,\n",
       " 'Iowa': 0.1403,\n",
       " 'Kansas': 0.1346,\n",
       " 'Kentucky': 0.1243,\n",
       " 'Louisiana': 0.1139,\n",
       " 'Maine': 0.2686,\n",
       " 'Maryland': 0.1696,\n",
       " 'Massachusetts': 0.28,\n",
       " 'Michigan': 0.1935,\n",
       " 'Minnesota': 0.1529,\n",
       " 'Mississippi': 0.1305,\n",
       " 'Missouri': 0.1423,\n",
       " 'Montana': 0.1318,\n",
       " 'Nebraska': 0.1239,\n",
       " 'Nevada': 0.1694,\n",
       " 'New Hampshire': 0.2331,\n",
       " 'New Jersey': 0.1802,\n",
       " 'New Mexico': 0.1525,\n",
       " 'New York': 0.2323,\n",
       " 'North Carolina': 0.1409,\n",
       " 'North Dakota': 0.1277,\n",
       " 'Ohio': 0.1568,\n",
       " 'Oklahoma': 0.1325,\n",
       " 'Oregon': 0.1313,\n",
       " 'Pennsylvania': 0.1801,\n",
       " 'Rhode Island': 0.2694,\n",
       " 'South Carolina': 0.1452,\n",
       " 'South Dakota': 0.1305,\n",
       " 'Tennessee': 0.1185,\n",
       " 'Texas': 0.1458,\n",
       " 'Utah': 0.1185,\n",
       " 'Vermont': 0.2121,\n",
       " 'Virginia': 0.1479,\n",
       " 'Washington': 0.1138,\n",
       " 'West Virginia': 0.1438,\n",
       " 'Wisconsin': 0.1732,\n",
       " 'Wyoming': 0.1264}"
      ]
     },
     "execution_count": 108,
     "metadata": {},
     "output_type": "execute_result"
    }
   ],
   "source": [
    "price_dictionary"
   ]
  },
  {
   "cell_type": "code",
   "execution_count": 109,
   "id": "c54dbc08-b9e2-4bf4-8707-d612add89899",
   "metadata": {},
   "outputs": [
    {
     "data": {
      "text/plain": [
       "Float64Index([0.1483,  0.245, 0.1439, 0.1267, 0.2999, 0.1503, 0.2925, 0.1583,\n",
       "              0.1628, 0.1551, 0.1401, 0.4152,  0.116, 0.1479,  0.141, 0.1403,\n",
       "              0.1346, 0.1243, 0.1139, 0.2686, 0.1696,   0.28, 0.1935, 0.1529,\n",
       "              0.1305, 0.1423, 0.1318, 0.1239, 0.1694, 0.2331, 0.1802, 0.1525,\n",
       "              0.2323, 0.1409, 0.1277, 0.1568, 0.1325, 0.1313, 0.1801, 0.2694,\n",
       "              0.1452, 0.1305, 0.1185, 0.1458, 0.1185, 0.2121, 0.1479, 0.1138,\n",
       "              0.1438, 0.1732, 0.1264],\n",
       "             dtype='float64', name='state_name')"
      ]
     },
     "execution_count": 109,
     "metadata": {},
     "output_type": "execute_result"
    }
   ],
   "source": [
    "df_prices[\"PRICEKWH\"].index.map(price_dictionary)"
   ]
  },
  {
   "cell_type": "code",
   "execution_count": 113,
   "id": "e034661d-a6c0-4318-9abf-d1051728f28c",
   "metadata": {},
   "outputs": [],
   "source": [
    "df_prices[\"old_dictionary\"] = df_prices[\"PRICEKWH\"].index.map(price_dictionary)"
   ]
  },
  {
   "cell_type": "code",
   "execution_count": 114,
   "id": "7895ea98-2559-474d-a1a3-749d183cc1dd",
   "metadata": {},
   "outputs": [
    {
     "data": {
      "text/html": [
       "<div>\n",
       "<style scoped>\n",
       "    .dataframe tbody tr th:only-of-type {\n",
       "        vertical-align: middle;\n",
       "    }\n",
       "\n",
       "    .dataframe tbody tr th {\n",
       "        vertical-align: top;\n",
       "    }\n",
       "\n",
       "    .dataframe thead th {\n",
       "        text-align: right;\n",
       "    }\n",
       "</style>\n",
       "<table border=\"1\" class=\"dataframe\">\n",
       "  <thead>\n",
       "    <tr style=\"text-align: right;\">\n",
       "      <th></th>\n",
       "      <th>PRICEKWH</th>\n",
       "      <th>new</th>\n",
       "      <th>old_dictionary</th>\n",
       "    </tr>\n",
       "    <tr>\n",
       "      <th>state_name</th>\n",
       "      <th></th>\n",
       "      <th></th>\n",
       "      <th></th>\n",
       "    </tr>\n",
       "  </thead>\n",
       "  <tbody>\n",
       "    <tr>\n",
       "      <th>Alabama</th>\n",
       "      <td>0.134450</td>\n",
       "      <td>0.1483</td>\n",
       "      <td>0.1483</td>\n",
       "    </tr>\n",
       "    <tr>\n",
       "      <th>Alaska</th>\n",
       "      <td>0.230086</td>\n",
       "      <td>0.2450</td>\n",
       "      <td>0.2450</td>\n",
       "    </tr>\n",
       "    <tr>\n",
       "      <th>Arizona</th>\n",
       "      <td>0.133130</td>\n",
       "      <td>0.1439</td>\n",
       "      <td>0.1439</td>\n",
       "    </tr>\n",
       "    <tr>\n",
       "      <th>Arkansas</th>\n",
       "      <td>0.117027</td>\n",
       "      <td>0.1267</td>\n",
       "      <td>0.1267</td>\n",
       "    </tr>\n",
       "    <tr>\n",
       "      <th>California</th>\n",
       "      <td>0.184395</td>\n",
       "      <td>0.2999</td>\n",
       "      <td>0.2999</td>\n",
       "    </tr>\n",
       "    <tr>\n",
       "      <th>Colorado</th>\n",
       "      <td>0.112385</td>\n",
       "      <td>0.1503</td>\n",
       "      <td>0.1503</td>\n",
       "    </tr>\n",
       "    <tr>\n",
       "      <th>Connecticut</th>\n",
       "      <td>0.236640</td>\n",
       "      <td>0.2925</td>\n",
       "      <td>0.2925</td>\n",
       "    </tr>\n",
       "    <tr>\n",
       "      <th>Delaware</th>\n",
       "      <td>0.126730</td>\n",
       "      <td>0.1583</td>\n",
       "      <td>0.1583</td>\n",
       "    </tr>\n",
       "    <tr>\n",
       "      <th>District of Columbia</th>\n",
       "      <td>0.122590</td>\n",
       "      <td>0.1628</td>\n",
       "      <td>0.1628</td>\n",
       "    </tr>\n",
       "    <tr>\n",
       "      <th>Florida</th>\n",
       "      <td>0.114262</td>\n",
       "      <td>0.1551</td>\n",
       "      <td>0.1551</td>\n",
       "    </tr>\n",
       "    <tr>\n",
       "      <th>Georgia</th>\n",
       "      <td>0.132551</td>\n",
       "      <td>0.1401</td>\n",
       "      <td>0.1401</td>\n",
       "    </tr>\n",
       "    <tr>\n",
       "      <th>Hawaii</th>\n",
       "      <td>0.259783</td>\n",
       "      <td>0.4152</td>\n",
       "      <td>0.4152</td>\n",
       "    </tr>\n",
       "    <tr>\n",
       "      <th>Idaho</th>\n",
       "      <td>0.100476</td>\n",
       "      <td>0.1160</td>\n",
       "      <td>0.1160</td>\n",
       "    </tr>\n",
       "    <tr>\n",
       "      <th>Illinois</th>\n",
       "      <td>0.136106</td>\n",
       "      <td>0.1479</td>\n",
       "      <td>0.1479</td>\n",
       "    </tr>\n",
       "    <tr>\n",
       "      <th>Indiana</th>\n",
       "      <td>0.139045</td>\n",
       "      <td>0.1410</td>\n",
       "      <td>0.1410</td>\n",
       "    </tr>\n",
       "    <tr>\n",
       "      <th>Iowa</th>\n",
       "      <td>0.138602</td>\n",
       "      <td>0.1403</td>\n",
       "      <td>0.1403</td>\n",
       "    </tr>\n",
       "    <tr>\n",
       "      <th>Kansas</th>\n",
       "      <td>0.140746</td>\n",
       "      <td>0.1346</td>\n",
       "      <td>0.1346</td>\n",
       "    </tr>\n",
       "    <tr>\n",
       "      <th>Kentucky</th>\n",
       "      <td>0.117044</td>\n",
       "      <td>0.1243</td>\n",
       "      <td>0.1243</td>\n",
       "    </tr>\n",
       "    <tr>\n",
       "      <th>Louisiana</th>\n",
       "      <td>0.101656</td>\n",
       "      <td>0.1139</td>\n",
       "      <td>0.1139</td>\n",
       "    </tr>\n",
       "    <tr>\n",
       "      <th>Maine</th>\n",
       "      <td>0.171700</td>\n",
       "      <td>0.2686</td>\n",
       "      <td>0.2686</td>\n",
       "    </tr>\n",
       "    <tr>\n",
       "      <th>Maryland</th>\n",
       "      <td>0.125570</td>\n",
       "      <td>0.1696</td>\n",
       "      <td>0.1696</td>\n",
       "    </tr>\n",
       "    <tr>\n",
       "      <th>Massachusetts</th>\n",
       "      <td>0.209244</td>\n",
       "      <td>0.2800</td>\n",
       "      <td>0.2800</td>\n",
       "    </tr>\n",
       "    <tr>\n",
       "      <th>Michigan</th>\n",
       "      <td>0.182350</td>\n",
       "      <td>0.1935</td>\n",
       "      <td>0.1935</td>\n",
       "    </tr>\n",
       "    <tr>\n",
       "      <th>Minnesota</th>\n",
       "      <td>0.136198</td>\n",
       "      <td>0.1529</td>\n",
       "      <td>0.1529</td>\n",
       "    </tr>\n",
       "    <tr>\n",
       "      <th>Mississippi</th>\n",
       "      <td>0.114795</td>\n",
       "      <td>0.1305</td>\n",
       "      <td>0.1305</td>\n",
       "    </tr>\n",
       "    <tr>\n",
       "      <th>Missouri</th>\n",
       "      <td>0.123630</td>\n",
       "      <td>0.1423</td>\n",
       "      <td>0.1423</td>\n",
       "    </tr>\n",
       "    <tr>\n",
       "      <th>Montana</th>\n",
       "      <td>0.121010</td>\n",
       "      <td>0.1318</td>\n",
       "      <td>0.1318</td>\n",
       "    </tr>\n",
       "    <tr>\n",
       "      <th>Nebraska</th>\n",
       "      <td>0.114670</td>\n",
       "      <td>0.1239</td>\n",
       "      <td>0.1239</td>\n",
       "    </tr>\n",
       "    <tr>\n",
       "      <th>Nevada</th>\n",
       "      <td>0.114285</td>\n",
       "      <td>0.1694</td>\n",
       "      <td>0.1694</td>\n",
       "    </tr>\n",
       "    <tr>\n",
       "      <th>New Hampshire</th>\n",
       "      <td>0.188220</td>\n",
       "      <td>0.2331</td>\n",
       "      <td>0.2331</td>\n",
       "    </tr>\n",
       "    <tr>\n",
       "      <th>New Jersey</th>\n",
       "      <td>0.162260</td>\n",
       "      <td>0.1802</td>\n",
       "      <td>0.1802</td>\n",
       "    </tr>\n",
       "    <tr>\n",
       "      <th>New Mexico</th>\n",
       "      <td>0.128233</td>\n",
       "      <td>0.1525</td>\n",
       "      <td>0.1525</td>\n",
       "    </tr>\n",
       "    <tr>\n",
       "      <th>New York</th>\n",
       "      <td>0.196323</td>\n",
       "      <td>0.2323</td>\n",
       "      <td>0.2323</td>\n",
       "    </tr>\n",
       "    <tr>\n",
       "      <th>North Carolina</th>\n",
       "      <td>0.117800</td>\n",
       "      <td>0.1409</td>\n",
       "      <td>0.1409</td>\n",
       "    </tr>\n",
       "    <tr>\n",
       "      <th>North Dakota</th>\n",
       "      <td>0.109716</td>\n",
       "      <td>0.1277</td>\n",
       "      <td>0.1277</td>\n",
       "    </tr>\n",
       "    <tr>\n",
       "      <th>Ohio</th>\n",
       "      <td>0.120797</td>\n",
       "      <td>0.1568</td>\n",
       "      <td>0.1568</td>\n",
       "    </tr>\n",
       "    <tr>\n",
       "      <th>Oklahoma</th>\n",
       "      <td>0.110602</td>\n",
       "      <td>0.1325</td>\n",
       "      <td>0.1325</td>\n",
       "    </tr>\n",
       "    <tr>\n",
       "      <th>Oregon</th>\n",
       "      <td>0.126196</td>\n",
       "      <td>0.1313</td>\n",
       "      <td>0.1313</td>\n",
       "    </tr>\n",
       "    <tr>\n",
       "      <th>Pennsylvania</th>\n",
       "      <td>0.135049</td>\n",
       "      <td>0.1801</td>\n",
       "      <td>0.1801</td>\n",
       "    </tr>\n",
       "    <tr>\n",
       "      <th>Rhode Island</th>\n",
       "      <td>0.219005</td>\n",
       "      <td>0.2694</td>\n",
       "      <td>0.2694</td>\n",
       "    </tr>\n",
       "    <tr>\n",
       "      <th>South Carolina</th>\n",
       "      <td>0.128651</td>\n",
       "      <td>0.1452</td>\n",
       "      <td>0.1452</td>\n",
       "    </tr>\n",
       "    <tr>\n",
       "      <th>South Dakota</th>\n",
       "      <td>0.125318</td>\n",
       "      <td>0.1305</td>\n",
       "      <td>0.1305</td>\n",
       "    </tr>\n",
       "    <tr>\n",
       "      <th>Tennessee</th>\n",
       "      <td>0.109493</td>\n",
       "      <td>0.1185</td>\n",
       "      <td>0.1185</td>\n",
       "    </tr>\n",
       "    <tr>\n",
       "      <th>Texas</th>\n",
       "      <td>0.117342</td>\n",
       "      <td>0.1458</td>\n",
       "      <td>0.1458</td>\n",
       "    </tr>\n",
       "    <tr>\n",
       "      <th>Utah</th>\n",
       "      <td>0.114696</td>\n",
       "      <td>0.1185</td>\n",
       "      <td>0.1185</td>\n",
       "    </tr>\n",
       "    <tr>\n",
       "      <th>Vermont</th>\n",
       "      <td>0.196006</td>\n",
       "      <td>0.2121</td>\n",
       "      <td>0.2121</td>\n",
       "    </tr>\n",
       "    <tr>\n",
       "      <th>Virginia</th>\n",
       "      <td>0.125282</td>\n",
       "      <td>0.1479</td>\n",
       "      <td>0.1479</td>\n",
       "    </tr>\n",
       "    <tr>\n",
       "      <th>Washington</th>\n",
       "      <td>0.105534</td>\n",
       "      <td>0.1138</td>\n",
       "      <td>0.1138</td>\n",
       "    </tr>\n",
       "    <tr>\n",
       "      <th>West Virginia</th>\n",
       "      <td>0.119478</td>\n",
       "      <td>0.1438</td>\n",
       "      <td>0.1438</td>\n",
       "    </tr>\n",
       "    <tr>\n",
       "      <th>Wisconsin</th>\n",
       "      <td>0.152218</td>\n",
       "      <td>0.1732</td>\n",
       "      <td>0.1732</td>\n",
       "    </tr>\n",
       "    <tr>\n",
       "      <th>Wyoming</th>\n",
       "      <td>0.130144</td>\n",
       "      <td>0.1264</td>\n",
       "      <td>0.1264</td>\n",
       "    </tr>\n",
       "  </tbody>\n",
       "</table>\n",
       "</div>"
      ],
      "text/plain": [
       "                      PRICEKWH     new  old_dictionary\n",
       "state_name                                            \n",
       "Alabama               0.134450  0.1483          0.1483\n",
       "Alaska                0.230086  0.2450          0.2450\n",
       "Arizona               0.133130  0.1439          0.1439\n",
       "Arkansas              0.117027  0.1267          0.1267\n",
       "California            0.184395  0.2999          0.2999\n",
       "Colorado              0.112385  0.1503          0.1503\n",
       "Connecticut           0.236640  0.2925          0.2925\n",
       "Delaware              0.126730  0.1583          0.1583\n",
       "District of Columbia  0.122590  0.1628          0.1628\n",
       "Florida               0.114262  0.1551          0.1551\n",
       "Georgia               0.132551  0.1401          0.1401\n",
       "Hawaii                0.259783  0.4152          0.4152\n",
       "Idaho                 0.100476  0.1160          0.1160\n",
       "Illinois              0.136106  0.1479          0.1479\n",
       "Indiana               0.139045  0.1410          0.1410\n",
       "Iowa                  0.138602  0.1403          0.1403\n",
       "Kansas                0.140746  0.1346          0.1346\n",
       "Kentucky              0.117044  0.1243          0.1243\n",
       "Louisiana             0.101656  0.1139          0.1139\n",
       "Maine                 0.171700  0.2686          0.2686\n",
       "Maryland              0.125570  0.1696          0.1696\n",
       "Massachusetts         0.209244  0.2800          0.2800\n",
       "Michigan              0.182350  0.1935          0.1935\n",
       "Minnesota             0.136198  0.1529          0.1529\n",
       "Mississippi           0.114795  0.1305          0.1305\n",
       "Missouri              0.123630  0.1423          0.1423\n",
       "Montana               0.121010  0.1318          0.1318\n",
       "Nebraska              0.114670  0.1239          0.1239\n",
       "Nevada                0.114285  0.1694          0.1694\n",
       "New Hampshire         0.188220  0.2331          0.2331\n",
       "New Jersey            0.162260  0.1802          0.1802\n",
       "New Mexico            0.128233  0.1525          0.1525\n",
       "New York              0.196323  0.2323          0.2323\n",
       "North Carolina        0.117800  0.1409          0.1409\n",
       "North Dakota          0.109716  0.1277          0.1277\n",
       "Ohio                  0.120797  0.1568          0.1568\n",
       "Oklahoma              0.110602  0.1325          0.1325\n",
       "Oregon                0.126196  0.1313          0.1313\n",
       "Pennsylvania          0.135049  0.1801          0.1801\n",
       "Rhode Island          0.219005  0.2694          0.2694\n",
       "South Carolina        0.128651  0.1452          0.1452\n",
       "South Dakota          0.125318  0.1305          0.1305\n",
       "Tennessee             0.109493  0.1185          0.1185\n",
       "Texas                 0.117342  0.1458          0.1458\n",
       "Utah                  0.114696  0.1185          0.1185\n",
       "Vermont               0.196006  0.2121          0.2121\n",
       "Virginia              0.125282  0.1479          0.1479\n",
       "Washington            0.105534  0.1138          0.1138\n",
       "West Virginia         0.119478  0.1438          0.1438\n",
       "Wisconsin             0.152218  0.1732          0.1732\n",
       "Wyoming               0.130144  0.1264          0.1264"
      ]
     },
     "execution_count": 114,
     "metadata": {},
     "output_type": "execute_result"
    }
   ],
   "source": [
    "df_prices"
   ]
  },
  {
   "cell_type": "code",
   "execution_count": 96,
   "id": "2f95ad91-aee2-46a7-99eb-61934145b98c",
   "metadata": {},
   "outputs": [
    {
     "ename": "NameError",
     "evalue": "name 'df_price' is not defined",
     "output_type": "error",
     "traceback": [
      "\u001b[0;31m---------------------------------------------------------------------------\u001b[0m",
      "\u001b[0;31mNameError\u001b[0m                                 Traceback (most recent call last)",
      "Cell \u001b[0;32mIn[96], line 1\u001b[0m\n\u001b[0;32m----> 1\u001b[0m \u001b[43mdf_price\u001b[49m[[\u001b[38;5;124m\"\u001b[39m\u001b[38;5;124mState\u001b[39m\u001b[38;5;124m\"\u001b[39m, \u001b[38;5;124m\"\u001b[39m\u001b[38;5;124mCurrent Month\u001b[39m\u001b[38;5;124m\"\u001b[39m]]\u001b[38;5;241m.\u001b[39mset_index(\u001b[38;5;124m\"\u001b[39m\u001b[38;5;124mState\u001b[39m\u001b[38;5;124m\"\u001b[39m)\n",
      "\u001b[0;31mNameError\u001b[0m: name 'df_price' is not defined"
     ]
    }
   ],
   "source": [
    "df_price[[\"State\", \"Current Month\"]].set_index(\"State\")"
   ]
  },
  {
   "cell_type": "code",
   "execution_count": 161,
   "id": "dc5f9194-031f-4dbd-b6ba-d83c8e72c06c",
   "metadata": {},
   "outputs": [],
   "source": [
    "import csv\n"
   ]
  },
  {
   "cell_type": "code",
   "execution_count": 162,
   "id": "90fd913a-70d7-4c5c-ba9a-722e961eff73",
   "metadata": {},
   "outputs": [],
   "source": [
    "with open('dict.csv', 'w') as csv_file:  \n",
    "    writer = csv.writer(csv_file)\n",
    "    for key, value in price_dictionary.items():\n",
    "       writer.writerow([key, value])"
   ]
  },
  {
   "cell_type": "code",
   "execution_count": 74,
   "id": "bae07762-5631-4ff2-a13a-7ed26b857bd1",
   "metadata": {},
   "outputs": [
    {
     "name": "stdout",
     "output_type": "stream",
     "text": [
      "Collecting plotly\n",
      "  Downloading plotly-5.18.0-py3-none-any.whl.metadata (7.0 kB)\n",
      "Collecting tenacity>=6.2.0 (from plotly)\n",
      "  Downloading tenacity-8.2.3-py3-none-any.whl.metadata (1.0 kB)\n",
      "Requirement already satisfied: packaging in /home/dicanadu/.pyenv/versions/3.10.6/envs/01-household-energy/lib/python3.10/site-packages (from plotly) (23.2)\n",
      "Downloading plotly-5.18.0-py3-none-any.whl (15.6 MB)\n",
      "\u001b[2K   \u001b[38;2;114;156;31m━━━━━━━━━━━━━━━━━━━━━━━━━━━━━━━━━━━━━━━━\u001b[0m \u001b[32m15.6/15.6 MB\u001b[0m \u001b[31m16.5 MB/s\u001b[0m eta \u001b[36m0:00:00\u001b[0mm eta \u001b[36m0:00:01\u001b[0m[36m0:00:01\u001b[0m\n",
      "\u001b[?25hDownloading tenacity-8.2.3-py3-none-any.whl (24 kB)\n",
      "Installing collected packages: tenacity, plotly\n",
      "Successfully installed plotly-5.18.0 tenacity-8.2.3\n",
      "Note: you may need to restart the kernel to use updated packages.\n"
     ]
    }
   ],
   "source": [
    "pip install plotly"
   ]
  },
  {
   "cell_type": "code",
   "execution_count": null,
   "id": "76e1c0e5-6822-462b-9299-6be365debee1",
   "metadata": {},
   "outputs": [],
   "source": []
  }
 ],
 "metadata": {
  "kernelspec": {
   "display_name": "Python 3 (ipykernel)",
   "language": "python",
   "name": "python3"
  },
  "language_info": {
   "codemirror_mode": {
    "name": "ipython",
    "version": 3
   },
   "file_extension": ".py",
   "mimetype": "text/x-python",
   "name": "python",
   "nbconvert_exporter": "python",
   "pygments_lexer": "ipython3",
   "version": "3.10.6"
  }
 },
 "nbformat": 4,
 "nbformat_minor": 5
}
