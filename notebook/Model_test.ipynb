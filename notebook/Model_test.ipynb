{
 "cells": [
  {
   "cell_type": "code",
   "execution_count": 1,
   "id": "51666399-8599-4327-9686-5a06b4281e34",
   "metadata": {},
   "outputs": [],
   "source": [
    "%load_ext autoreload\n",
    "%autoreload 2"
   ]
  },
  {
   "cell_type": "code",
   "execution_count": 2,
   "id": "5ae5f63e-5d7b-4b77-b02b-45fe82f415fc",
   "metadata": {},
   "outputs": [],
   "source": [
    "import numpy as np\n",
    "from household_package.data import call_data_url\n",
    "from household_package.clean import clean_data\n",
    "from sklearn.pipeline import Pipeline\n",
    "from sklearn.linear_model import LinearRegression\n",
    "from sklearn.compose import ColumnTransformer\n",
    "from sklearn.preprocessing import MinMaxScaler\n",
    "from sklearn.preprocessing import OneHotEncoder\n",
    "from sklearn.model_selection import train_test_split\n",
    "from household_package.model import get_xy\n",
    "from household_package.clean import filter_data\n",
    "from household_package.registry import load_model\n",
    "import pandas as pd\n",
    "from household_package.registry import save_model\n",
    "import pickle"
   ]
  },
  {
   "cell_type": "code",
   "execution_count": 98,
   "id": "85d857f4-c409-43eb-875c-10d9f94680fd",
   "metadata": {},
   "outputs": [],
   "source": [
    "BQ_DATASET"
   ]
  },
  {
   "cell_type": "code",
   "execution_count": 99,
   "id": "998ee8cc-3244-4517-8552-07b801e7325e",
   "metadata": {},
   "outputs": [],
   "source": [
    "BUCKET_NAME=\"01_household_energy\"\n",
    "LOCAL_REGISTRY_PATH = \"../model_h5/loaded/\"\n"
   ]
  },
  {
   "cell_type": "code",
   "execution_count": 3,
   "id": "d5a8ca6d-691a-4cf0-8bfa-9e8462517592",
   "metadata": {},
   "outputs": [],
   "source": [
    "df_raw = call_data_url()"
   ]
  },
  {
   "cell_type": "code",
   "execution_count": 50,
   "id": "04f6623d-25f0-43b7-b845-491bf4373fe1",
   "metadata": {},
   "outputs": [],
   "source": [
    "user_input = user_input = {\n",
    "  \"TYPEHUQ\": 1,\n",
    "  \"NHSLDMEM\": 1,\n",
    "  \"state_name\": \"Alabama\",\n",
    "  \"REGIONC\": \"SOUTH\",\n",
    "  \"BA_climate\": \"Hot-Humid\",\n",
    "  \"SQFTEST\": 240,\n",
    "  \"STORIES\": 1,\n",
    "  \"YEARMADERANGE\": 1,\n",
    "  \"NCOMBATH\": 0,\n",
    "  \"NHAFBATH\": 0,\n",
    "  \"TOTROOMS\": 1,\n",
    "  \"WALLTYPE\": 1,\n",
    "  \"ROOFTYPE\": 1,\n",
    "  \"WINDOWS\": 1,\n",
    "  \"SWIMPOOL\": 1,\n",
    "  \"SOLAR\": 1,\n",
    "  \"SMARTMETER\": 1,\n",
    "  \"TELLWORK\": 1,\n",
    "  \"DESKTOP\": 0,\n",
    "  \"NUMLAPTOP\": 0,\n",
    "  \"TVCOLOR\": 0,\n",
    "  \"DISHWASH\": 1,\n",
    "  \"MICRO\": 0,\n",
    "  \"NUMFRIG\": 0,\n",
    "  \"CWASHER\": 1,\n",
    "  \"DRYER\": 1,\n",
    "  \"LGTIN1TO4\": 0,\n",
    "  \"LGTIN4TO8\": 0,\n",
    "  \"LGTINMORE8\": 0,\n",
    "  \"AIRCOND\": 1,\n",
    "  \"EQUIPM\": 3,\n",
    "  \"HEATHOME\": 1,\n",
    "  \"NUMPORTEL\": 0\n",
    "}"
   ]
  },
  {
   "cell_type": "code",
   "execution_count": 51,
   "id": "52935421-345e-4a5c-8cd5-c0ebcfde3676",
   "metadata": {},
   "outputs": [],
   "source": [
    "def make_X_new(user_input):\n",
    "    \"\"\"\n",
    "    This functions takes a dictionary coming from user inputs\n",
    "    and makes a one row of X for model prediciton.\n",
    "    \"\"\"\n",
    "    ## get all the passed arguments\n",
    "    #user_inputs = locals().copy()\n",
    "    X_new = pd.DataFrame({k:[v] for k,v in user_input.items()})\n",
    "    return X_new\n"
   ]
  },
  {
   "cell_type": "code",
   "execution_count": 42,
   "id": "c7bc579d-1f20-4994-8e30-c8dfdf59bf1a",
   "metadata": {},
   "outputs": [],
   "source": [
    "X_new = make_X_new(user_input)"
   ]
  },
  {
   "cell_type": "code",
   "execution_count": 28,
   "id": "648f5df2-6854-42c9-817d-1f6813816a6b",
   "metadata": {},
   "outputs": [],
   "source": [
    "#X_row_new = pd.DataFrame(pd.Series(user_input)).T"
   ]
  },
  {
   "cell_type": "code",
   "execution_count": 43,
   "id": "1e9fc75e-11d3-443f-9e89-71643ca9a8b3",
   "metadata": {},
   "outputs": [],
   "source": [
    "X_row_new = clean_data(X_new)"
   ]
  },
  {
   "cell_type": "code",
   "execution_count": 44,
   "id": "ba47c367-efc5-4012-900d-eacf57b65cd9",
   "metadata": {},
   "outputs": [
    {
     "data": {
      "text/html": [
       "<div>\n",
       "<style scoped>\n",
       "    .dataframe tbody tr th:only-of-type {\n",
       "        vertical-align: middle;\n",
       "    }\n",
       "\n",
       "    .dataframe tbody tr th {\n",
       "        vertical-align: top;\n",
       "    }\n",
       "\n",
       "    .dataframe thead th {\n",
       "        text-align: right;\n",
       "    }\n",
       "</style>\n",
       "<table border=\"1\" class=\"dataframe\">\n",
       "  <thead>\n",
       "    <tr style=\"text-align: right;\">\n",
       "      <th></th>\n",
       "      <th>SWIMPOOL</th>\n",
       "      <th>NUMPORTEL</th>\n",
       "      <th>SOLAR</th>\n",
       "      <th>SMARTMETER</th>\n",
       "      <th>TYPEHUQ</th>\n",
       "      <th>NHSLDMEM</th>\n",
       "      <th>state_name</th>\n",
       "      <th>REGIONC</th>\n",
       "      <th>BA_climate</th>\n",
       "      <th>SQFTEST</th>\n",
       "      <th>...</th>\n",
       "      <th>MICRO</th>\n",
       "      <th>NUMFRIG</th>\n",
       "      <th>CWASHER</th>\n",
       "      <th>DRYER</th>\n",
       "      <th>AIRCOND</th>\n",
       "      <th>EQUIPM</th>\n",
       "      <th>HEATHOME</th>\n",
       "      <th>TOTAL_BATH</th>\n",
       "      <th>TOTAL_COMP</th>\n",
       "      <th>TOTAL_LIGHT</th>\n",
       "    </tr>\n",
       "  </thead>\n",
       "  <tbody>\n",
       "    <tr>\n",
       "      <th>0</th>\n",
       "      <td>1</td>\n",
       "      <td>0</td>\n",
       "      <td>1</td>\n",
       "      <td>1</td>\n",
       "      <td>Mobile</td>\n",
       "      <td>1</td>\n",
       "      <td>Alabama</td>\n",
       "      <td>SOUTH</td>\n",
       "      <td>Hot-Humid</td>\n",
       "      <td>240</td>\n",
       "      <td>...</td>\n",
       "      <td>0</td>\n",
       "      <td>0</td>\n",
       "      <td>1</td>\n",
       "      <td>1</td>\n",
       "      <td>1</td>\n",
       "      <td>Furnace</td>\n",
       "      <td>1</td>\n",
       "      <td>0</td>\n",
       "      <td>0</td>\n",
       "      <td>0</td>\n",
       "    </tr>\n",
       "  </tbody>\n",
       "</table>\n",
       "<p>1 rows × 29 columns</p>\n",
       "</div>"
      ],
      "text/plain": [
       "  SWIMPOOL NUMPORTEL SOLAR SMARTMETER TYPEHUQ NHSLDMEM state_name REGIONC  \\\n",
       "0        1         0     1          1  Mobile        1    Alabama   SOUTH   \n",
       "\n",
       "  BA_climate SQFTEST  ... MICRO NUMFRIG CWASHER DRYER AIRCOND   EQUIPM  \\\n",
       "0  Hot-Humid     240  ...     0       0       1     1       1  Furnace   \n",
       "\n",
       "  HEATHOME TOTAL_BATH TOTAL_COMP TOTAL_LIGHT  \n",
       "0        1          0          0           0  \n",
       "\n",
       "[1 rows x 29 columns]"
      ]
     },
     "execution_count": 44,
     "metadata": {},
     "output_type": "execute_result"
    }
   ],
   "source": [
    "X_row_new"
   ]
  },
  {
   "cell_type": "code",
   "execution_count": 59,
   "id": "47f9931c-2f3e-4a59-82af-eb4dd68edd35",
   "metadata": {},
   "outputs": [],
   "source": [
    "from google.cloud import storage\n",
    "client = storage.Client()\n",
    "blobs = list(client.get_bucket(BUCKET_NAME).list_blobs(prefix=\"model\"))"
   ]
  },
  {
   "cell_type": "code",
   "execution_count": 60,
   "id": "f69592eb-56b0-440b-a437-3db8737058da",
   "metadata": {},
   "outputs": [
    {
     "data": {
      "text/plain": [
       "[<Blob: 01_household_energy, models/baseline_20231129-122043.pkl, 1701256844126884>,\n",
       " <Blob: 01_household_energy, models/baseline_20231129-131320.pkl, 1701260000941981>,\n",
       " <Blob: 01_household_energy, models/baseline_20231130-102940.pkl, 1701337090569311>]"
      ]
     },
     "execution_count": 60,
     "metadata": {},
     "output_type": "execute_result"
    }
   ],
   "source": [
    "blobs"
   ]
  },
  {
   "cell_type": "code",
   "execution_count": 101,
   "id": "3f2a5e9c-e2e9-4d97-9bd5-c1857f67a3bf",
   "metadata": {},
   "outputs": [
    {
     "name": "stdout",
     "output_type": "stream",
     "text": [
      "../model_h5/loaded/models/baseline_20231130-102940.pkl\n"
     ]
    }
   ],
   "source": [
    "latest_blob = max(blobs, key=lambda x: x.updated)\n",
    "#print(latest_blob.name)\n",
    "latest_model_path_to_save = os.path.join(LOCAL_REGISTRY_PATH, latest_blob.name)\n",
    "print(latest_model_path_to_save)\n",
    "latest_blob.download_to_filename(latest_model_path_to_save)\n",
    "# for sklearn (baseline)\n",
    "with open(latest_model_path_to_save , 'rb') as f:\n",
    "    latest_model = pickle.load(f)"
   ]
  },
  {
   "cell_type": "code",
   "execution_count": 70,
   "id": "223822c2-b3d7-4134-b253-838d9797d6ab",
   "metadata": {},
   "outputs": [
    {
     "data": {
      "text/plain": [
       "array([11040.])"
      ]
     },
     "execution_count": 70,
     "metadata": {},
     "output_type": "execute_result"
    }
   ],
   "source": [
    "latest_model.predict(X_row_new)"
   ]
  },
  {
   "cell_type": "code",
   "execution_count": 31,
   "id": "3683324e-1369-4495-a452-15ec35c5a443",
   "metadata": {},
   "outputs": [],
   "source": [
    "\n",
    "#percentile_min = df_raw['KWH'].quantile(0.005)\n",
    "#percentile_max = df_raw['KWH'].quantile(0.995)\n",
    "\n",
    "# Filter the DataFrame based on the specified percentiles\n",
    "#filtered_df = df_raw[(df_raw['KWH'] >= percentile_min) & (df_raw['KWH'] <= percentile_max)]\n",
    "#filtered_df"
   ]
  },
  {
   "cell_type": "code",
   "execution_count": 4,
   "id": "69b139c3-33cf-4835-b06b-5324e31b5481",
   "metadata": {},
   "outputs": [],
   "source": [
    "df = clean_data(df_raw)"
   ]
  },
  {
   "cell_type": "code",
   "execution_count": 8,
   "id": "96ff5b43-3953-48ca-ac26-f807113eb5be",
   "metadata": {},
   "outputs": [
    {
     "data": {
      "text/plain": [
       "SWIMPOOL               2\n",
       "NUMPORTEL             10\n",
       "SOLAR                  2\n",
       "SMARTMETER             2\n",
       "REGIONC                4\n",
       "state_name            51\n",
       "BA_climate             8\n",
       "TYPEHUQ                5\n",
       "STORIES                4\n",
       "YEARMADERANGE          9\n",
       "TOTROOMS              15\n",
       "WALLTYPE               8\n",
       "ROOFTYPE               7\n",
       "WINDOWS                7\n",
       "NUMFRIG               10\n",
       "MICRO                  4\n",
       "DISHWASH               2\n",
       "CWASHER                2\n",
       "DRYER                  2\n",
       "TVCOLOR               14\n",
       "TELLWORK               2\n",
       "HEATHOME               2\n",
       "EQUIPM                 9\n",
       "AIRCOND                2\n",
       "NHSLDMEM               7\n",
       "SQFTEST              469\n",
       "KWH              18392.0\n",
       "TOTAL_BATH             6\n",
       "TOTAL_COMP            16\n",
       "TOTAL_LIGHT          106\n",
       "Name: unique, dtype: object"
      ]
     },
     "execution_count": 8,
     "metadata": {},
     "output_type": "execute_result"
    }
   ],
   "source": [
    "df.describe().iloc[1,:]"
   ]
  },
  {
   "cell_type": "code",
   "execution_count": 12,
   "id": "bd4d95a1-26f2-4373-92f6-c1487fad1a72",
   "metadata": {},
   "outputs": [],
   "source": [
    "X , y = get_xy(df)\n",
    "\n",
    "X_train, X_test, y_train, y_test =  train_test_split(X,y, test_size=0.3)"
   ]
  },
  {
   "cell_type": "code",
   "execution_count": 6,
   "id": "0c1018c8-74a6-4312-9a57-c4b807cd7f9a",
   "metadata": {},
   "outputs": [],
   "source": [
    "to_ohe_encode = ['REGIONC', 'state_name','BA_climate','TYPEHUQ',\n",
    "                     'YEARMADERANGE','WALLTYPE','ROOFTYPE','WINDOWS','EQUIPM']\n",
    "\n",
    "to_scale = [\"NUMPORTEL\", \"STORIES\",\"SQFTEST\",\n",
    "            \"TOTROOMS\", \"NUMFRIG\", \"MICRO\", \"TVCOLOR\",\"NHSLDMEM\",\n",
    "            \"TOTAL_BATH\", \"TOTAL_COMP\", \"TOTAL_LIGHT\" ]\n",
    "\n",
    "min_max = MinMaxScaler()\n",
    "ohe = OneHotEncoder(sparse_output=False, handle_unknown='ignore')\n",
    "\n",
    "\n",
    "preprocessor = ColumnTransformer(transformers=[\n",
    "                                            ('min_max', min_max, to_scale),\n",
    "                                            ('ohe', ohe, to_ohe_encode)],\n",
    "                                            remainder = \"passthrough\")\n",
    "\n",
    "model = LinearRegression()\n",
    "\n",
    "pipe = Pipeline([('prep', preprocessor), ('model', model)])"
   ]
  },
  {
   "cell_type": "code",
   "execution_count": 23,
   "id": "ef1941e2-afac-414f-853a-c5e512fae38c",
   "metadata": {},
   "outputs": [],
   "source": [
    "model = pipe.fit(X_train, y_train)"
   ]
  },
  {
   "cell_type": "code",
   "execution_count": 46,
   "id": "a96342ad-b9a3-4ebb-a72a-ae457b6e9e43",
   "metadata": {},
   "outputs": [
    {
     "data": {
      "text/plain": [
       "0.5055383972861784"
      ]
     },
     "execution_count": 46,
     "metadata": {},
     "output_type": "execute_result"
    }
   ],
   "source": [
    "model.score(X_test,y_test)"
   ]
  },
  {
   "cell_type": "code",
   "execution_count": 45,
   "id": "25dcda4b-d894-4e81-8c0e-2b5d1294dff9",
   "metadata": {},
   "outputs": [
    {
     "data": {
      "text/plain": [
       "array([11760.])"
      ]
     },
     "execution_count": 45,
     "metadata": {},
     "output_type": "execute_result"
    }
   ],
   "source": [
    "model.predict(X_row_new)"
   ]
  },
  {
   "cell_type": "code",
   "execution_count": 34,
   "id": "644fc6b7-693d-4afe-9e31-11f89a0158ae",
   "metadata": {},
   "outputs": [],
   "source": [
    "X = df.drop('KWH',axis=1)"
   ]
  },
  {
   "cell_type": "code",
   "execution_count": 43,
   "id": "286512f5-ad3e-44c0-9e71-dfe45ba9ec9a",
   "metadata": {},
   "outputs": [
    {
     "data": {
      "text/html": [
       "<div>\n",
       "<style scoped>\n",
       "    .dataframe tbody tr th:only-of-type {\n",
       "        vertical-align: middle;\n",
       "    }\n",
       "\n",
       "    .dataframe tbody tr th {\n",
       "        vertical-align: top;\n",
       "    }\n",
       "\n",
       "    .dataframe thead th {\n",
       "        text-align: right;\n",
       "    }\n",
       "</style>\n",
       "<table border=\"1\" class=\"dataframe\">\n",
       "  <thead>\n",
       "    <tr style=\"text-align: right;\">\n",
       "      <th></th>\n",
       "      <th>SWIMPOOL</th>\n",
       "      <th>NUMPORTEL</th>\n",
       "      <th>SOLAR</th>\n",
       "      <th>SMARTMETER</th>\n",
       "      <th>REGIONC</th>\n",
       "      <th>state_name</th>\n",
       "      <th>BA_climate</th>\n",
       "      <th>TYPEHUQ</th>\n",
       "      <th>STORIES</th>\n",
       "      <th>YEARMADERANGE</th>\n",
       "      <th>...</th>\n",
       "      <th>TVCOLOR</th>\n",
       "      <th>TELLWORK</th>\n",
       "      <th>HEATHOME</th>\n",
       "      <th>EQUIPM</th>\n",
       "      <th>AIRCOND</th>\n",
       "      <th>NHSLDMEM</th>\n",
       "      <th>SQFTEST</th>\n",
       "      <th>TOTAL_BATH</th>\n",
       "      <th>TOTAL_COMP</th>\n",
       "      <th>TOTAL_LIGHT</th>\n",
       "    </tr>\n",
       "  </thead>\n",
       "  <tbody>\n",
       "    <tr>\n",
       "      <th>0</th>\n",
       "      <td>0</td>\n",
       "      <td>0</td>\n",
       "      <td>0</td>\n",
       "      <td>0</td>\n",
       "      <td>WEST</td>\n",
       "      <td>New Mexico</td>\n",
       "      <td>Mixed-Dry</td>\n",
       "      <td>Single_detached</td>\n",
       "      <td>1</td>\n",
       "      <td>70-79</td>\n",
       "      <td>...</td>\n",
       "      <td>3</td>\n",
       "      <td>0</td>\n",
       "      <td>1</td>\n",
       "      <td>Furnace</td>\n",
       "      <td>1</td>\n",
       "      <td>2</td>\n",
       "      <td>2100</td>\n",
       "      <td>3</td>\n",
       "      <td>1</td>\n",
       "      <td>17</td>\n",
       "    </tr>\n",
       "  </tbody>\n",
       "</table>\n",
       "<p>1 rows × 29 columns</p>\n",
       "</div>"
      ],
      "text/plain": [
       "  SWIMPOOL NUMPORTEL SOLAR SMARTMETER REGIONC  state_name BA_climate  \\\n",
       "0        0         0     0          0    WEST  New Mexico  Mixed-Dry   \n",
       "\n",
       "           TYPEHUQ STORIES YEARMADERANGE  ... TVCOLOR TELLWORK HEATHOME  \\\n",
       "0  Single_detached       1         70-79  ...       3        0        1   \n",
       "\n",
       "    EQUIPM AIRCOND NHSLDMEM SQFTEST TOTAL_BATH TOTAL_COMP TOTAL_LIGHT  \n",
       "0  Furnace       1        2    2100          3          1          17  \n",
       "\n",
       "[1 rows x 29 columns]"
      ]
     },
     "execution_count": 43,
     "metadata": {},
     "output_type": "execute_result"
    }
   ],
   "source": [
    "pd.DataFrame(X.iloc[0,:]).T"
   ]
  },
  {
   "cell_type": "code",
   "execution_count": 44,
   "id": "fa29245a-dbf0-4d18-ae8d-b3d6d2695411",
   "metadata": {},
   "outputs": [
    {
     "data": {
      "text/plain": [
       "array([10640.])"
      ]
     },
     "execution_count": 44,
     "metadata": {},
     "output_type": "execute_result"
    }
   ],
   "source": [
    "pipe.predict(pd.DataFrame(X.iloc[0,:]).T)"
   ]
  },
  {
   "cell_type": "code",
   "execution_count": 9,
   "id": "c3598cd5-ed76-4a32-a611-bbaa9c5992b3",
   "metadata": {},
   "outputs": [],
   "source": [
    "from sklearn.ensemble import RandomForestRegressor\n",
    "\n",
    "to_ohe_encode = ['REGIONC', 'state_name','BA_climate','TYPEHUQ',\n",
    "                     'YEARMADERANGE','WALLTYPE','ROOFTYPE','WINDOWS','EQUIPM']\n",
    "\n",
    "to_scale = [\"NUMPORTEL\", \"STORIES\",\"SQFTEST\",\n",
    "            \"TOTROOMS\", \"NUMFRIG\", \"MICRO\", \"TVCOLOR\",\"NHSLDMEM\",\n",
    "            \"TOTAL_BATH\", \"TOTAL_COMP\", \"TOTAL_LIGHT\" ]\n",
    "\n",
    "min_max = MinMaxScaler()\n",
    "ohe = OneHotEncoder(sparse_output=False, handle_unknown='ignore')\n",
    "\n",
    "\n",
    "preprocessor = ColumnTransformer(transformers=[\n",
    "                                            ('min_max', min_max, to_scale),\n",
    "                                            ('ohe', ohe, to_ohe_encode)],\n",
    "                                            remainder = \"passthrough\")\n",
    "\n",
    "model = RandomForestRegressor()\n",
    "\n",
    "pipe_2 = Pipeline([('prep', preprocessor), ('model', model)])"
   ]
  },
  {
   "cell_type": "code",
   "execution_count": 13,
   "id": "51a74e80-76f3-4830-9b71-06ecdfc2be3c",
   "metadata": {},
   "outputs": [
    {
     "data": {
      "text/html": [
       "<style>#sk-container-id-1 {color: black;}#sk-container-id-1 pre{padding: 0;}#sk-container-id-1 div.sk-toggleable {background-color: white;}#sk-container-id-1 label.sk-toggleable__label {cursor: pointer;display: block;width: 100%;margin-bottom: 0;padding: 0.3em;box-sizing: border-box;text-align: center;}#sk-container-id-1 label.sk-toggleable__label-arrow:before {content: \"▸\";float: left;margin-right: 0.25em;color: #696969;}#sk-container-id-1 label.sk-toggleable__label-arrow:hover:before {color: black;}#sk-container-id-1 div.sk-estimator:hover label.sk-toggleable__label-arrow:before {color: black;}#sk-container-id-1 div.sk-toggleable__content {max-height: 0;max-width: 0;overflow: hidden;text-align: left;background-color: #f0f8ff;}#sk-container-id-1 div.sk-toggleable__content pre {margin: 0.2em;color: black;border-radius: 0.25em;background-color: #f0f8ff;}#sk-container-id-1 input.sk-toggleable__control:checked~div.sk-toggleable__content {max-height: 200px;max-width: 100%;overflow: auto;}#sk-container-id-1 input.sk-toggleable__control:checked~label.sk-toggleable__label-arrow:before {content: \"▾\";}#sk-container-id-1 div.sk-estimator input.sk-toggleable__control:checked~label.sk-toggleable__label {background-color: #d4ebff;}#sk-container-id-1 div.sk-label input.sk-toggleable__control:checked~label.sk-toggleable__label {background-color: #d4ebff;}#sk-container-id-1 input.sk-hidden--visually {border: 0;clip: rect(1px 1px 1px 1px);clip: rect(1px, 1px, 1px, 1px);height: 1px;margin: -1px;overflow: hidden;padding: 0;position: absolute;width: 1px;}#sk-container-id-1 div.sk-estimator {font-family: monospace;background-color: #f0f8ff;border: 1px dotted black;border-radius: 0.25em;box-sizing: border-box;margin-bottom: 0.5em;}#sk-container-id-1 div.sk-estimator:hover {background-color: #d4ebff;}#sk-container-id-1 div.sk-parallel-item::after {content: \"\";width: 100%;border-bottom: 1px solid gray;flex-grow: 1;}#sk-container-id-1 div.sk-label:hover label.sk-toggleable__label {background-color: #d4ebff;}#sk-container-id-1 div.sk-serial::before {content: \"\";position: absolute;border-left: 1px solid gray;box-sizing: border-box;top: 0;bottom: 0;left: 50%;z-index: 0;}#sk-container-id-1 div.sk-serial {display: flex;flex-direction: column;align-items: center;background-color: white;padding-right: 0.2em;padding-left: 0.2em;position: relative;}#sk-container-id-1 div.sk-item {position: relative;z-index: 1;}#sk-container-id-1 div.sk-parallel {display: flex;align-items: stretch;justify-content: center;background-color: white;position: relative;}#sk-container-id-1 div.sk-item::before, #sk-container-id-1 div.sk-parallel-item::before {content: \"\";position: absolute;border-left: 1px solid gray;box-sizing: border-box;top: 0;bottom: 0;left: 50%;z-index: -1;}#sk-container-id-1 div.sk-parallel-item {display: flex;flex-direction: column;z-index: 1;position: relative;background-color: white;}#sk-container-id-1 div.sk-parallel-item:first-child::after {align-self: flex-end;width: 50%;}#sk-container-id-1 div.sk-parallel-item:last-child::after {align-self: flex-start;width: 50%;}#sk-container-id-1 div.sk-parallel-item:only-child::after {width: 0;}#sk-container-id-1 div.sk-dashed-wrapped {border: 1px dashed gray;margin: 0 0.4em 0.5em 0.4em;box-sizing: border-box;padding-bottom: 0.4em;background-color: white;}#sk-container-id-1 div.sk-label label {font-family: monospace;font-weight: bold;display: inline-block;line-height: 1.2em;}#sk-container-id-1 div.sk-label-container {text-align: center;}#sk-container-id-1 div.sk-container {/* jupyter's `normalize.less` sets `[hidden] { display: none; }` but bootstrap.min.css set `[hidden] { display: none !important; }` so we also need the `!important` here to be able to override the default hidden behavior on the sphinx rendered scikit-learn.org. See: https://github.com/scikit-learn/scikit-learn/issues/21755 */display: inline-block !important;position: relative;}#sk-container-id-1 div.sk-text-repr-fallback {display: none;}</style><div id=\"sk-container-id-1\" class=\"sk-top-container\"><div class=\"sk-text-repr-fallback\"><pre>Pipeline(steps=[(&#x27;prep&#x27;,\n",
       "                 ColumnTransformer(remainder=&#x27;passthrough&#x27;,\n",
       "                                   transformers=[(&#x27;min_max&#x27;, MinMaxScaler(),\n",
       "                                                  [&#x27;NUMPORTEL&#x27;, &#x27;STORIES&#x27;,\n",
       "                                                   &#x27;SQFTEST&#x27;, &#x27;TOTROOMS&#x27;,\n",
       "                                                   &#x27;NUMFRIG&#x27;, &#x27;MICRO&#x27;,\n",
       "                                                   &#x27;TVCOLOR&#x27;, &#x27;NHSLDMEM&#x27;,\n",
       "                                                   &#x27;TOTAL_BATH&#x27;, &#x27;TOTAL_COMP&#x27;,\n",
       "                                                   &#x27;TOTAL_LIGHT&#x27;]),\n",
       "                                                 (&#x27;ohe&#x27;,\n",
       "                                                  OneHotEncoder(handle_unknown=&#x27;ignore&#x27;,\n",
       "                                                                sparse_output=False),\n",
       "                                                  [&#x27;REGIONC&#x27;, &#x27;state_name&#x27;,\n",
       "                                                   &#x27;BA_climate&#x27;, &#x27;TYPEHUQ&#x27;,\n",
       "                                                   &#x27;YEARMADERANGE&#x27;, &#x27;WALLTYPE&#x27;,\n",
       "                                                   &#x27;ROOFTYPE&#x27;, &#x27;WINDOWS&#x27;,\n",
       "                                                   &#x27;EQUIPM&#x27;])])),\n",
       "                (&#x27;model&#x27;, RandomForestRegressor())])</pre><b>In a Jupyter environment, please rerun this cell to show the HTML representation or trust the notebook. <br />On GitHub, the HTML representation is unable to render, please try loading this page with nbviewer.org.</b></div><div class=\"sk-container\" hidden><div class=\"sk-item sk-dashed-wrapped\"><div class=\"sk-label-container\"><div class=\"sk-label sk-toggleable\"><input class=\"sk-toggleable__control sk-hidden--visually\" id=\"sk-estimator-id-1\" type=\"checkbox\" ><label for=\"sk-estimator-id-1\" class=\"sk-toggleable__label sk-toggleable__label-arrow\">Pipeline</label><div class=\"sk-toggleable__content\"><pre>Pipeline(steps=[(&#x27;prep&#x27;,\n",
       "                 ColumnTransformer(remainder=&#x27;passthrough&#x27;,\n",
       "                                   transformers=[(&#x27;min_max&#x27;, MinMaxScaler(),\n",
       "                                                  [&#x27;NUMPORTEL&#x27;, &#x27;STORIES&#x27;,\n",
       "                                                   &#x27;SQFTEST&#x27;, &#x27;TOTROOMS&#x27;,\n",
       "                                                   &#x27;NUMFRIG&#x27;, &#x27;MICRO&#x27;,\n",
       "                                                   &#x27;TVCOLOR&#x27;, &#x27;NHSLDMEM&#x27;,\n",
       "                                                   &#x27;TOTAL_BATH&#x27;, &#x27;TOTAL_COMP&#x27;,\n",
       "                                                   &#x27;TOTAL_LIGHT&#x27;]),\n",
       "                                                 (&#x27;ohe&#x27;,\n",
       "                                                  OneHotEncoder(handle_unknown=&#x27;ignore&#x27;,\n",
       "                                                                sparse_output=False),\n",
       "                                                  [&#x27;REGIONC&#x27;, &#x27;state_name&#x27;,\n",
       "                                                   &#x27;BA_climate&#x27;, &#x27;TYPEHUQ&#x27;,\n",
       "                                                   &#x27;YEARMADERANGE&#x27;, &#x27;WALLTYPE&#x27;,\n",
       "                                                   &#x27;ROOFTYPE&#x27;, &#x27;WINDOWS&#x27;,\n",
       "                                                   &#x27;EQUIPM&#x27;])])),\n",
       "                (&#x27;model&#x27;, RandomForestRegressor())])</pre></div></div></div><div class=\"sk-serial\"><div class=\"sk-item sk-dashed-wrapped\"><div class=\"sk-label-container\"><div class=\"sk-label sk-toggleable\"><input class=\"sk-toggleable__control sk-hidden--visually\" id=\"sk-estimator-id-2\" type=\"checkbox\" ><label for=\"sk-estimator-id-2\" class=\"sk-toggleable__label sk-toggleable__label-arrow\">prep: ColumnTransformer</label><div class=\"sk-toggleable__content\"><pre>ColumnTransformer(remainder=&#x27;passthrough&#x27;,\n",
       "                  transformers=[(&#x27;min_max&#x27;, MinMaxScaler(),\n",
       "                                 [&#x27;NUMPORTEL&#x27;, &#x27;STORIES&#x27;, &#x27;SQFTEST&#x27;, &#x27;TOTROOMS&#x27;,\n",
       "                                  &#x27;NUMFRIG&#x27;, &#x27;MICRO&#x27;, &#x27;TVCOLOR&#x27;, &#x27;NHSLDMEM&#x27;,\n",
       "                                  &#x27;TOTAL_BATH&#x27;, &#x27;TOTAL_COMP&#x27;, &#x27;TOTAL_LIGHT&#x27;]),\n",
       "                                (&#x27;ohe&#x27;,\n",
       "                                 OneHotEncoder(handle_unknown=&#x27;ignore&#x27;,\n",
       "                                               sparse_output=False),\n",
       "                                 [&#x27;REGIONC&#x27;, &#x27;state_name&#x27;, &#x27;BA_climate&#x27;,\n",
       "                                  &#x27;TYPEHUQ&#x27;, &#x27;YEARMADERANGE&#x27;, &#x27;WALLTYPE&#x27;,\n",
       "                                  &#x27;ROOFTYPE&#x27;, &#x27;WINDOWS&#x27;, &#x27;EQUIPM&#x27;])])</pre></div></div></div><div class=\"sk-parallel\"><div class=\"sk-parallel-item\"><div class=\"sk-item\"><div class=\"sk-label-container\"><div class=\"sk-label sk-toggleable\"><input class=\"sk-toggleable__control sk-hidden--visually\" id=\"sk-estimator-id-3\" type=\"checkbox\" ><label for=\"sk-estimator-id-3\" class=\"sk-toggleable__label sk-toggleable__label-arrow\">min_max</label><div class=\"sk-toggleable__content\"><pre>[&#x27;NUMPORTEL&#x27;, &#x27;STORIES&#x27;, &#x27;SQFTEST&#x27;, &#x27;TOTROOMS&#x27;, &#x27;NUMFRIG&#x27;, &#x27;MICRO&#x27;, &#x27;TVCOLOR&#x27;, &#x27;NHSLDMEM&#x27;, &#x27;TOTAL_BATH&#x27;, &#x27;TOTAL_COMP&#x27;, &#x27;TOTAL_LIGHT&#x27;]</pre></div></div></div><div class=\"sk-serial\"><div class=\"sk-item\"><div class=\"sk-estimator sk-toggleable\"><input class=\"sk-toggleable__control sk-hidden--visually\" id=\"sk-estimator-id-4\" type=\"checkbox\" ><label for=\"sk-estimator-id-4\" class=\"sk-toggleable__label sk-toggleable__label-arrow\">MinMaxScaler</label><div class=\"sk-toggleable__content\"><pre>MinMaxScaler()</pre></div></div></div></div></div></div><div class=\"sk-parallel-item\"><div class=\"sk-item\"><div class=\"sk-label-container\"><div class=\"sk-label sk-toggleable\"><input class=\"sk-toggleable__control sk-hidden--visually\" id=\"sk-estimator-id-5\" type=\"checkbox\" ><label for=\"sk-estimator-id-5\" class=\"sk-toggleable__label sk-toggleable__label-arrow\">ohe</label><div class=\"sk-toggleable__content\"><pre>[&#x27;REGIONC&#x27;, &#x27;state_name&#x27;, &#x27;BA_climate&#x27;, &#x27;TYPEHUQ&#x27;, &#x27;YEARMADERANGE&#x27;, &#x27;WALLTYPE&#x27;, &#x27;ROOFTYPE&#x27;, &#x27;WINDOWS&#x27;, &#x27;EQUIPM&#x27;]</pre></div></div></div><div class=\"sk-serial\"><div class=\"sk-item\"><div class=\"sk-estimator sk-toggleable\"><input class=\"sk-toggleable__control sk-hidden--visually\" id=\"sk-estimator-id-6\" type=\"checkbox\" ><label for=\"sk-estimator-id-6\" class=\"sk-toggleable__label sk-toggleable__label-arrow\">OneHotEncoder</label><div class=\"sk-toggleable__content\"><pre>OneHotEncoder(handle_unknown=&#x27;ignore&#x27;, sparse_output=False)</pre></div></div></div></div></div></div><div class=\"sk-parallel-item\"><div class=\"sk-item\"><div class=\"sk-label-container\"><div class=\"sk-label sk-toggleable\"><input class=\"sk-toggleable__control sk-hidden--visually\" id=\"sk-estimator-id-7\" type=\"checkbox\" ><label for=\"sk-estimator-id-7\" class=\"sk-toggleable__label sk-toggleable__label-arrow\">remainder</label><div class=\"sk-toggleable__content\"><pre>[&#x27;SWIMPOOL&#x27;, &#x27;SOLAR&#x27;, &#x27;SMARTMETER&#x27;, &#x27;DISHWASH&#x27;, &#x27;CWASHER&#x27;, &#x27;DRYER&#x27;, &#x27;TELLWORK&#x27;, &#x27;HEATHOME&#x27;, &#x27;AIRCOND&#x27;]</pre></div></div></div><div class=\"sk-serial\"><div class=\"sk-item\"><div class=\"sk-estimator sk-toggleable\"><input class=\"sk-toggleable__control sk-hidden--visually\" id=\"sk-estimator-id-8\" type=\"checkbox\" ><label for=\"sk-estimator-id-8\" class=\"sk-toggleable__label sk-toggleable__label-arrow\">passthrough</label><div class=\"sk-toggleable__content\"><pre>passthrough</pre></div></div></div></div></div></div></div></div><div class=\"sk-item\"><div class=\"sk-estimator sk-toggleable\"><input class=\"sk-toggleable__control sk-hidden--visually\" id=\"sk-estimator-id-9\" type=\"checkbox\" ><label for=\"sk-estimator-id-9\" class=\"sk-toggleable__label sk-toggleable__label-arrow\">RandomForestRegressor</label><div class=\"sk-toggleable__content\"><pre>RandomForestRegressor()</pre></div></div></div></div></div></div></div>"
      ],
      "text/plain": [
       "Pipeline(steps=[('prep',\n",
       "                 ColumnTransformer(remainder='passthrough',\n",
       "                                   transformers=[('min_max', MinMaxScaler(),\n",
       "                                                  ['NUMPORTEL', 'STORIES',\n",
       "                                                   'SQFTEST', 'TOTROOMS',\n",
       "                                                   'NUMFRIG', 'MICRO',\n",
       "                                                   'TVCOLOR', 'NHSLDMEM',\n",
       "                                                   'TOTAL_BATH', 'TOTAL_COMP',\n",
       "                                                   'TOTAL_LIGHT']),\n",
       "                                                 ('ohe',\n",
       "                                                  OneHotEncoder(handle_unknown='ignore',\n",
       "                                                                sparse_output=False),\n",
       "                                                  ['REGIONC', 'state_name',\n",
       "                                                   'BA_climate', 'TYPEHUQ',\n",
       "                                                   'YEARMADERANGE', 'WALLTYPE',\n",
       "                                                   'ROOFTYPE', 'WINDOWS',\n",
       "                                                   'EQUIPM'])])),\n",
       "                ('model', RandomForestRegressor())])"
      ]
     },
     "execution_count": 13,
     "metadata": {},
     "output_type": "execute_result"
    }
   ],
   "source": [
    "pipe_2.fit(X_train,y_train)"
   ]
  },
  {
   "cell_type": "code",
   "execution_count": 15,
   "id": "df224537-328d-4aca-bd44-2c9a861843f2",
   "metadata": {},
   "outputs": [
    {
     "data": {
      "text/plain": [
       "0.46195432428379035"
      ]
     },
     "execution_count": 15,
     "metadata": {},
     "output_type": "execute_result"
    }
   ],
   "source": [
    "pipe_2.score(X_test,y_test)"
   ]
  },
  {
   "cell_type": "code",
   "execution_count": 25,
   "id": "728689de-c281-47eb-b576-b782479d9c84",
   "metadata": {},
   "outputs": [
    {
     "data": {
      "text/html": [
       "<style>#sk-container-id-3 {color: black;}#sk-container-id-3 pre{padding: 0;}#sk-container-id-3 div.sk-toggleable {background-color: white;}#sk-container-id-3 label.sk-toggleable__label {cursor: pointer;display: block;width: 100%;margin-bottom: 0;padding: 0.3em;box-sizing: border-box;text-align: center;}#sk-container-id-3 label.sk-toggleable__label-arrow:before {content: \"▸\";float: left;margin-right: 0.25em;color: #696969;}#sk-container-id-3 label.sk-toggleable__label-arrow:hover:before {color: black;}#sk-container-id-3 div.sk-estimator:hover label.sk-toggleable__label-arrow:before {color: black;}#sk-container-id-3 div.sk-toggleable__content {max-height: 0;max-width: 0;overflow: hidden;text-align: left;background-color: #f0f8ff;}#sk-container-id-3 div.sk-toggleable__content pre {margin: 0.2em;color: black;border-radius: 0.25em;background-color: #f0f8ff;}#sk-container-id-3 input.sk-toggleable__control:checked~div.sk-toggleable__content {max-height: 200px;max-width: 100%;overflow: auto;}#sk-container-id-3 input.sk-toggleable__control:checked~label.sk-toggleable__label-arrow:before {content: \"▾\";}#sk-container-id-3 div.sk-estimator input.sk-toggleable__control:checked~label.sk-toggleable__label {background-color: #d4ebff;}#sk-container-id-3 div.sk-label input.sk-toggleable__control:checked~label.sk-toggleable__label {background-color: #d4ebff;}#sk-container-id-3 input.sk-hidden--visually {border: 0;clip: rect(1px 1px 1px 1px);clip: rect(1px, 1px, 1px, 1px);height: 1px;margin: -1px;overflow: hidden;padding: 0;position: absolute;width: 1px;}#sk-container-id-3 div.sk-estimator {font-family: monospace;background-color: #f0f8ff;border: 1px dotted black;border-radius: 0.25em;box-sizing: border-box;margin-bottom: 0.5em;}#sk-container-id-3 div.sk-estimator:hover {background-color: #d4ebff;}#sk-container-id-3 div.sk-parallel-item::after {content: \"\";width: 100%;border-bottom: 1px solid gray;flex-grow: 1;}#sk-container-id-3 div.sk-label:hover label.sk-toggleable__label {background-color: #d4ebff;}#sk-container-id-3 div.sk-serial::before {content: \"\";position: absolute;border-left: 1px solid gray;box-sizing: border-box;top: 0;bottom: 0;left: 50%;z-index: 0;}#sk-container-id-3 div.sk-serial {display: flex;flex-direction: column;align-items: center;background-color: white;padding-right: 0.2em;padding-left: 0.2em;position: relative;}#sk-container-id-3 div.sk-item {position: relative;z-index: 1;}#sk-container-id-3 div.sk-parallel {display: flex;align-items: stretch;justify-content: center;background-color: white;position: relative;}#sk-container-id-3 div.sk-item::before, #sk-container-id-3 div.sk-parallel-item::before {content: \"\";position: absolute;border-left: 1px solid gray;box-sizing: border-box;top: 0;bottom: 0;left: 50%;z-index: -1;}#sk-container-id-3 div.sk-parallel-item {display: flex;flex-direction: column;z-index: 1;position: relative;background-color: white;}#sk-container-id-3 div.sk-parallel-item:first-child::after {align-self: flex-end;width: 50%;}#sk-container-id-3 div.sk-parallel-item:last-child::after {align-self: flex-start;width: 50%;}#sk-container-id-3 div.sk-parallel-item:only-child::after {width: 0;}#sk-container-id-3 div.sk-dashed-wrapped {border: 1px dashed gray;margin: 0 0.4em 0.5em 0.4em;box-sizing: border-box;padding-bottom: 0.4em;background-color: white;}#sk-container-id-3 div.sk-label label {font-family: monospace;font-weight: bold;display: inline-block;line-height: 1.2em;}#sk-container-id-3 div.sk-label-container {text-align: center;}#sk-container-id-3 div.sk-container {/* jupyter's `normalize.less` sets `[hidden] { display: none; }` but bootstrap.min.css set `[hidden] { display: none !important; }` so we also need the `!important` here to be able to override the default hidden behavior on the sphinx rendered scikit-learn.org. See: https://github.com/scikit-learn/scikit-learn/issues/21755 */display: inline-block !important;position: relative;}#sk-container-id-3 div.sk-text-repr-fallback {display: none;}</style><div id=\"sk-container-id-3\" class=\"sk-top-container\"><div class=\"sk-text-repr-fallback\"><pre>ColumnTransformer(remainder=&#x27;passthrough&#x27;,\n",
       "                  transformers=[(&#x27;min_max&#x27;, MinMaxScaler(),\n",
       "                                 [&#x27;NUMPORTEL&#x27;, &#x27;STORIES&#x27;, &#x27;SQFTEST&#x27;, &#x27;TOTROOMS&#x27;,\n",
       "                                  &#x27;NUMFRIG&#x27;, &#x27;MICRO&#x27;, &#x27;TVCOLOR&#x27;, &#x27;NHSLDMEM&#x27;,\n",
       "                                  &#x27;TOTAL_BATH&#x27;, &#x27;TOTAL_COMP&#x27;, &#x27;TOTAL_LIGHT&#x27;]),\n",
       "                                (&#x27;ohe&#x27;,\n",
       "                                 OneHotEncoder(handle_unknown=&#x27;ignore&#x27;,\n",
       "                                               sparse_output=False),\n",
       "                                 [&#x27;REGIONC&#x27;, &#x27;state_name&#x27;, &#x27;BA_climate&#x27;,\n",
       "                                  &#x27;TYPEHUQ&#x27;, &#x27;YEARMADERANGE&#x27;, &#x27;WALLTYPE&#x27;,\n",
       "                                  &#x27;ROOFTYPE&#x27;, &#x27;WINDOWS&#x27;, &#x27;EQUIPM&#x27;])])</pre><b>In a Jupyter environment, please rerun this cell to show the HTML representation or trust the notebook. <br />On GitHub, the HTML representation is unable to render, please try loading this page with nbviewer.org.</b></div><div class=\"sk-container\" hidden><div class=\"sk-item sk-dashed-wrapped\"><div class=\"sk-label-container\"><div class=\"sk-label sk-toggleable\"><input class=\"sk-toggleable__control sk-hidden--visually\" id=\"sk-estimator-id-11\" type=\"checkbox\" ><label for=\"sk-estimator-id-11\" class=\"sk-toggleable__label sk-toggleable__label-arrow\">ColumnTransformer</label><div class=\"sk-toggleable__content\"><pre>ColumnTransformer(remainder=&#x27;passthrough&#x27;,\n",
       "                  transformers=[(&#x27;min_max&#x27;, MinMaxScaler(),\n",
       "                                 [&#x27;NUMPORTEL&#x27;, &#x27;STORIES&#x27;, &#x27;SQFTEST&#x27;, &#x27;TOTROOMS&#x27;,\n",
       "                                  &#x27;NUMFRIG&#x27;, &#x27;MICRO&#x27;, &#x27;TVCOLOR&#x27;, &#x27;NHSLDMEM&#x27;,\n",
       "                                  &#x27;TOTAL_BATH&#x27;, &#x27;TOTAL_COMP&#x27;, &#x27;TOTAL_LIGHT&#x27;]),\n",
       "                                (&#x27;ohe&#x27;,\n",
       "                                 OneHotEncoder(handle_unknown=&#x27;ignore&#x27;,\n",
       "                                               sparse_output=False),\n",
       "                                 [&#x27;REGIONC&#x27;, &#x27;state_name&#x27;, &#x27;BA_climate&#x27;,\n",
       "                                  &#x27;TYPEHUQ&#x27;, &#x27;YEARMADERANGE&#x27;, &#x27;WALLTYPE&#x27;,\n",
       "                                  &#x27;ROOFTYPE&#x27;, &#x27;WINDOWS&#x27;, &#x27;EQUIPM&#x27;])])</pre></div></div></div><div class=\"sk-parallel\"><div class=\"sk-parallel-item\"><div class=\"sk-item\"><div class=\"sk-label-container\"><div class=\"sk-label sk-toggleable\"><input class=\"sk-toggleable__control sk-hidden--visually\" id=\"sk-estimator-id-12\" type=\"checkbox\" ><label for=\"sk-estimator-id-12\" class=\"sk-toggleable__label sk-toggleable__label-arrow\">min_max</label><div class=\"sk-toggleable__content\"><pre>[&#x27;NUMPORTEL&#x27;, &#x27;STORIES&#x27;, &#x27;SQFTEST&#x27;, &#x27;TOTROOMS&#x27;, &#x27;NUMFRIG&#x27;, &#x27;MICRO&#x27;, &#x27;TVCOLOR&#x27;, &#x27;NHSLDMEM&#x27;, &#x27;TOTAL_BATH&#x27;, &#x27;TOTAL_COMP&#x27;, &#x27;TOTAL_LIGHT&#x27;]</pre></div></div></div><div class=\"sk-serial\"><div class=\"sk-item\"><div class=\"sk-estimator sk-toggleable\"><input class=\"sk-toggleable__control sk-hidden--visually\" id=\"sk-estimator-id-13\" type=\"checkbox\" ><label for=\"sk-estimator-id-13\" class=\"sk-toggleable__label sk-toggleable__label-arrow\">MinMaxScaler</label><div class=\"sk-toggleable__content\"><pre>MinMaxScaler()</pre></div></div></div></div></div></div><div class=\"sk-parallel-item\"><div class=\"sk-item\"><div class=\"sk-label-container\"><div class=\"sk-label sk-toggleable\"><input class=\"sk-toggleable__control sk-hidden--visually\" id=\"sk-estimator-id-14\" type=\"checkbox\" ><label for=\"sk-estimator-id-14\" class=\"sk-toggleable__label sk-toggleable__label-arrow\">ohe</label><div class=\"sk-toggleable__content\"><pre>[&#x27;REGIONC&#x27;, &#x27;state_name&#x27;, &#x27;BA_climate&#x27;, &#x27;TYPEHUQ&#x27;, &#x27;YEARMADERANGE&#x27;, &#x27;WALLTYPE&#x27;, &#x27;ROOFTYPE&#x27;, &#x27;WINDOWS&#x27;, &#x27;EQUIPM&#x27;]</pre></div></div></div><div class=\"sk-serial\"><div class=\"sk-item\"><div class=\"sk-estimator sk-toggleable\"><input class=\"sk-toggleable__control sk-hidden--visually\" id=\"sk-estimator-id-15\" type=\"checkbox\" ><label for=\"sk-estimator-id-15\" class=\"sk-toggleable__label sk-toggleable__label-arrow\">OneHotEncoder</label><div class=\"sk-toggleable__content\"><pre>OneHotEncoder(handle_unknown=&#x27;ignore&#x27;, sparse_output=False)</pre></div></div></div></div></div></div><div class=\"sk-parallel-item\"><div class=\"sk-item\"><div class=\"sk-label-container\"><div class=\"sk-label sk-toggleable\"><input class=\"sk-toggleable__control sk-hidden--visually\" id=\"sk-estimator-id-16\" type=\"checkbox\" ><label for=\"sk-estimator-id-16\" class=\"sk-toggleable__label sk-toggleable__label-arrow\">remainder</label><div class=\"sk-toggleable__content\"><pre>[&#x27;SWIMPOOL&#x27;, &#x27;SOLAR&#x27;, &#x27;SMARTMETER&#x27;, &#x27;DISHWASH&#x27;, &#x27;CWASHER&#x27;, &#x27;DRYER&#x27;, &#x27;TELLWORK&#x27;, &#x27;HEATHOME&#x27;, &#x27;AIRCOND&#x27;]</pre></div></div></div><div class=\"sk-serial\"><div class=\"sk-item\"><div class=\"sk-estimator sk-toggleable\"><input class=\"sk-toggleable__control sk-hidden--visually\" id=\"sk-estimator-id-17\" type=\"checkbox\" ><label for=\"sk-estimator-id-17\" class=\"sk-toggleable__label sk-toggleable__label-arrow\">passthrough</label><div class=\"sk-toggleable__content\"><pre>passthrough</pre></div></div></div></div></div></div></div></div></div></div>"
      ],
      "text/plain": [
       "ColumnTransformer(remainder='passthrough',\n",
       "                  transformers=[('min_max', MinMaxScaler(),\n",
       "                                 ['NUMPORTEL', 'STORIES', 'SQFTEST', 'TOTROOMS',\n",
       "                                  'NUMFRIG', 'MICRO', 'TVCOLOR', 'NHSLDMEM',\n",
       "                                  'TOTAL_BATH', 'TOTAL_COMP', 'TOTAL_LIGHT']),\n",
       "                                ('ohe',\n",
       "                                 OneHotEncoder(handle_unknown='ignore',\n",
       "                                               sparse_output=False),\n",
       "                                 ['REGIONC', 'state_name', 'BA_climate',\n",
       "                                  'TYPEHUQ', 'YEARMADERANGE', 'WALLTYPE',\n",
       "                                  'ROOFTYPE', 'WINDOWS', 'EQUIPM'])])"
      ]
     },
     "execution_count": 25,
     "metadata": {},
     "output_type": "execute_result"
    }
   ],
   "source": [
    "preprocessor.fit(X_train)"
   ]
  },
  {
   "cell_type": "code",
   "execution_count": 26,
   "id": "1abb40f7-0483-46bb-a5a4-543cd0f700bc",
   "metadata": {},
   "outputs": [
    {
     "data": {
      "text/plain": [
       "array(['min_max__NUMPORTEL', 'min_max__STORIES', 'min_max__SQFTEST',\n",
       "       'min_max__TOTROOMS', 'min_max__NUMFRIG', 'min_max__MICRO',\n",
       "       'min_max__TVCOLOR', 'min_max__NHSLDMEM', 'min_max__TOTAL_BATH',\n",
       "       'min_max__TOTAL_COMP', 'min_max__TOTAL_LIGHT',\n",
       "       'ohe__REGIONC_MIDWEST', 'ohe__REGIONC_NORTHEAST',\n",
       "       'ohe__REGIONC_SOUTH', 'ohe__REGIONC_WEST',\n",
       "       'ohe__state_name_Alabama', 'ohe__state_name_Alaska',\n",
       "       'ohe__state_name_Arizona', 'ohe__state_name_Arkansas',\n",
       "       'ohe__state_name_California', 'ohe__state_name_Colorado',\n",
       "       'ohe__state_name_Connecticut', 'ohe__state_name_Delaware',\n",
       "       'ohe__state_name_District of Columbia', 'ohe__state_name_Florida',\n",
       "       'ohe__state_name_Georgia', 'ohe__state_name_Hawaii',\n",
       "       'ohe__state_name_Idaho', 'ohe__state_name_Illinois',\n",
       "       'ohe__state_name_Indiana', 'ohe__state_name_Iowa',\n",
       "       'ohe__state_name_Kansas', 'ohe__state_name_Kentucky',\n",
       "       'ohe__state_name_Louisiana', 'ohe__state_name_Maine',\n",
       "       'ohe__state_name_Maryland', 'ohe__state_name_Massachusetts',\n",
       "       'ohe__state_name_Michigan', 'ohe__state_name_Minnesota',\n",
       "       'ohe__state_name_Mississippi', 'ohe__state_name_Missouri',\n",
       "       'ohe__state_name_Montana', 'ohe__state_name_Nebraska',\n",
       "       'ohe__state_name_Nevada', 'ohe__state_name_New Hampshire',\n",
       "       'ohe__state_name_New Jersey', 'ohe__state_name_New Mexico',\n",
       "       'ohe__state_name_New York', 'ohe__state_name_North Carolina',\n",
       "       'ohe__state_name_North Dakota', 'ohe__state_name_Ohio',\n",
       "       'ohe__state_name_Oklahoma', 'ohe__state_name_Oregon',\n",
       "       'ohe__state_name_Pennsylvania', 'ohe__state_name_Rhode Island',\n",
       "       'ohe__state_name_South Carolina', 'ohe__state_name_South Dakota',\n",
       "       'ohe__state_name_Tennessee', 'ohe__state_name_Texas',\n",
       "       'ohe__state_name_Utah', 'ohe__state_name_Vermont',\n",
       "       'ohe__state_name_Virginia', 'ohe__state_name_Washington',\n",
       "       'ohe__state_name_West Virginia', 'ohe__state_name_Wisconsin',\n",
       "       'ohe__state_name_Wyoming', 'ohe__BA_climate_Cold',\n",
       "       'ohe__BA_climate_Hot-Dry', 'ohe__BA_climate_Hot-Humid',\n",
       "       'ohe__BA_climate_Marine', 'ohe__BA_climate_Mixed-Dry',\n",
       "       'ohe__BA_climate_Mixed-Humid', 'ohe__BA_climate_Subarctic',\n",
       "       'ohe__BA_climate_Very-Cold', 'ohe__TYPEHUQ_Appartment_big',\n",
       "       'ohe__TYPEHUQ_Appartment_small', 'ohe__TYPEHUQ_Mobile',\n",
       "       'ohe__TYPEHUQ_Single_attached', 'ohe__TYPEHUQ_Single_detached',\n",
       "       'ohe__YEARMADERANGE_00-09', 'ohe__YEARMADERANGE_2010-15',\n",
       "       'ohe__YEARMADERANGE_2016-20', 'ohe__YEARMADERANGE_50-59',\n",
       "       'ohe__YEARMADERANGE_60-69', 'ohe__YEARMADERANGE_70-79',\n",
       "       'ohe__YEARMADERANGE_80-89', 'ohe__YEARMADERANGE_90-99',\n",
       "       'ohe__YEARMADERANGE_Before_50', 'ohe__WALLTYPE_Brick',\n",
       "       'ohe__WALLTYPE_Concrete', 'ohe__WALLTYPE_Other',\n",
       "       'ohe__WALLTYPE_Shingle', 'ohe__WALLTYPE_Siding',\n",
       "       'ohe__WALLTYPE_Stone', 'ohe__WALLTYPE_Stucco',\n",
       "       'ohe__WALLTYPE_Wood', 'ohe__ROOFTYPE_Ceramic',\n",
       "       'ohe__ROOFTYPE_Concrete', 'ohe__ROOFTYPE_Metal',\n",
       "       'ohe__ROOFTYPE_Other', 'ohe__ROOFTYPE_Shingle',\n",
       "       'ohe__ROOFTYPE_Slate', 'ohe__ROOFTYPE_Wood', 'ohe__WINDOWS_1',\n",
       "       'ohe__WINDOWS_2', 'ohe__WINDOWS_3', 'ohe__WINDOWS_4',\n",
       "       'ohe__WINDOWS_5', 'ohe__WINDOWS_6', 'ohe__WINDOWS_7',\n",
       "       'ohe__EQUIPM_Central_heat', 'ohe__EQUIPM_Ductless_heat',\n",
       "       'ohe__EQUIPM_Electric_heater', 'ohe__EQUIPM_Electric_units',\n",
       "       'ohe__EQUIPM_Furnace', 'ohe__EQUIPM_Other',\n",
       "       'ohe__EQUIPM_Room_heater', 'ohe__EQUIPM_Steam', 'ohe__EQUIPM_Wood',\n",
       "       'remainder__SWIMPOOL', 'remainder__SOLAR', 'remainder__SMARTMETER',\n",
       "       'remainder__DISHWASH', 'remainder__CWASHER', 'remainder__DRYER',\n",
       "       'remainder__TELLWORK', 'remainder__HEATHOME', 'remainder__AIRCOND'],\n",
       "      dtype=object)"
      ]
     },
     "execution_count": 26,
     "metadata": {},
     "output_type": "execute_result"
    }
   ],
   "source": [
    "preprocessor.get_feature_names_out()"
   ]
  },
  {
   "cell_type": "code",
   "execution_count": 27,
   "id": "136ebddc-c1fc-47f2-87f3-a18ede76904a",
   "metadata": {},
   "outputs": [],
   "source": [
    "X_train_prep = preprocessor.transform(X_train)"
   ]
  },
  {
   "cell_type": "code",
   "execution_count": 19,
   "id": "703cf381-dc22-4e11-8d96-325055b7aee8",
   "metadata": {},
   "outputs": [],
   "source": [
    "model = RandomForestRegressor()"
   ]
  },
  {
   "cell_type": "code",
   "execution_count": 21,
   "id": "203ea515-64fe-477a-acf7-8deccd3789a1",
   "metadata": {},
   "outputs": [
    {
     "data": {
      "text/html": [
       "<style>#sk-container-id-2 {color: black;}#sk-container-id-2 pre{padding: 0;}#sk-container-id-2 div.sk-toggleable {background-color: white;}#sk-container-id-2 label.sk-toggleable__label {cursor: pointer;display: block;width: 100%;margin-bottom: 0;padding: 0.3em;box-sizing: border-box;text-align: center;}#sk-container-id-2 label.sk-toggleable__label-arrow:before {content: \"▸\";float: left;margin-right: 0.25em;color: #696969;}#sk-container-id-2 label.sk-toggleable__label-arrow:hover:before {color: black;}#sk-container-id-2 div.sk-estimator:hover label.sk-toggleable__label-arrow:before {color: black;}#sk-container-id-2 div.sk-toggleable__content {max-height: 0;max-width: 0;overflow: hidden;text-align: left;background-color: #f0f8ff;}#sk-container-id-2 div.sk-toggleable__content pre {margin: 0.2em;color: black;border-radius: 0.25em;background-color: #f0f8ff;}#sk-container-id-2 input.sk-toggleable__control:checked~div.sk-toggleable__content {max-height: 200px;max-width: 100%;overflow: auto;}#sk-container-id-2 input.sk-toggleable__control:checked~label.sk-toggleable__label-arrow:before {content: \"▾\";}#sk-container-id-2 div.sk-estimator input.sk-toggleable__control:checked~label.sk-toggleable__label {background-color: #d4ebff;}#sk-container-id-2 div.sk-label input.sk-toggleable__control:checked~label.sk-toggleable__label {background-color: #d4ebff;}#sk-container-id-2 input.sk-hidden--visually {border: 0;clip: rect(1px 1px 1px 1px);clip: rect(1px, 1px, 1px, 1px);height: 1px;margin: -1px;overflow: hidden;padding: 0;position: absolute;width: 1px;}#sk-container-id-2 div.sk-estimator {font-family: monospace;background-color: #f0f8ff;border: 1px dotted black;border-radius: 0.25em;box-sizing: border-box;margin-bottom: 0.5em;}#sk-container-id-2 div.sk-estimator:hover {background-color: #d4ebff;}#sk-container-id-2 div.sk-parallel-item::after {content: \"\";width: 100%;border-bottom: 1px solid gray;flex-grow: 1;}#sk-container-id-2 div.sk-label:hover label.sk-toggleable__label {background-color: #d4ebff;}#sk-container-id-2 div.sk-serial::before {content: \"\";position: absolute;border-left: 1px solid gray;box-sizing: border-box;top: 0;bottom: 0;left: 50%;z-index: 0;}#sk-container-id-2 div.sk-serial {display: flex;flex-direction: column;align-items: center;background-color: white;padding-right: 0.2em;padding-left: 0.2em;position: relative;}#sk-container-id-2 div.sk-item {position: relative;z-index: 1;}#sk-container-id-2 div.sk-parallel {display: flex;align-items: stretch;justify-content: center;background-color: white;position: relative;}#sk-container-id-2 div.sk-item::before, #sk-container-id-2 div.sk-parallel-item::before {content: \"\";position: absolute;border-left: 1px solid gray;box-sizing: border-box;top: 0;bottom: 0;left: 50%;z-index: -1;}#sk-container-id-2 div.sk-parallel-item {display: flex;flex-direction: column;z-index: 1;position: relative;background-color: white;}#sk-container-id-2 div.sk-parallel-item:first-child::after {align-self: flex-end;width: 50%;}#sk-container-id-2 div.sk-parallel-item:last-child::after {align-self: flex-start;width: 50%;}#sk-container-id-2 div.sk-parallel-item:only-child::after {width: 0;}#sk-container-id-2 div.sk-dashed-wrapped {border: 1px dashed gray;margin: 0 0.4em 0.5em 0.4em;box-sizing: border-box;padding-bottom: 0.4em;background-color: white;}#sk-container-id-2 div.sk-label label {font-family: monospace;font-weight: bold;display: inline-block;line-height: 1.2em;}#sk-container-id-2 div.sk-label-container {text-align: center;}#sk-container-id-2 div.sk-container {/* jupyter's `normalize.less` sets `[hidden] { display: none; }` but bootstrap.min.css set `[hidden] { display: none !important; }` so we also need the `!important` here to be able to override the default hidden behavior on the sphinx rendered scikit-learn.org. See: https://github.com/scikit-learn/scikit-learn/issues/21755 */display: inline-block !important;position: relative;}#sk-container-id-2 div.sk-text-repr-fallback {display: none;}</style><div id=\"sk-container-id-2\" class=\"sk-top-container\"><div class=\"sk-text-repr-fallback\"><pre>RandomForestRegressor()</pre><b>In a Jupyter environment, please rerun this cell to show the HTML representation or trust the notebook. <br />On GitHub, the HTML representation is unable to render, please try loading this page with nbviewer.org.</b></div><div class=\"sk-container\" hidden><div class=\"sk-item\"><div class=\"sk-estimator sk-toggleable\"><input class=\"sk-toggleable__control sk-hidden--visually\" id=\"sk-estimator-id-10\" type=\"checkbox\" checked><label for=\"sk-estimator-id-10\" class=\"sk-toggleable__label sk-toggleable__label-arrow\">RandomForestRegressor</label><div class=\"sk-toggleable__content\"><pre>RandomForestRegressor()</pre></div></div></div></div></div>"
      ],
      "text/plain": [
       "RandomForestRegressor()"
      ]
     },
     "execution_count": 21,
     "metadata": {},
     "output_type": "execute_result"
    }
   ],
   "source": [
    "model.fit(X_train_prep, y_train)"
   ]
  },
  {
   "cell_type": "code",
   "execution_count": 23,
   "id": "e5411330-56a4-4ead-a0d7-9d8304a3cd39",
   "metadata": {},
   "outputs": [
    {
     "data": {
      "text/plain": [
       "array([[0.0, 0.0, 0.06707317073170732, ..., 0, 1, 1],\n",
       "       [0.0, 0.3333333333333333, 0.05826558265582656, ..., 1, 1, 1],\n",
       "       [0.0, 0.0, 0.08536585365853658, ..., 0, 1, 1],\n",
       "       ...,\n",
       "       [0.0, 0.0, 0.06504065040650406, ..., 0, 1, 1],\n",
       "       [0.2222222222222222, 0.0, 0.0921409214092141, ..., 0, 1, 1],\n",
       "       [0.0, 0.6666666666666667, 0.10433604336043362, ..., 0, 1, 1]],\n",
       "      dtype=object)"
      ]
     },
     "execution_count": 23,
     "metadata": {},
     "output_type": "execute_result"
    }
   ],
   "source": [
    "X_train_"
   ]
  },
  {
   "cell_type": "code",
   "execution_count": 43,
   "id": "a179d0e9-b7d7-4ea3-901f-e1230717781b",
   "metadata": {},
   "outputs": [
    {
     "data": {
      "text/html": [
       "<div>\n",
       "<style scoped>\n",
       "    .dataframe tbody tr th:only-of-type {\n",
       "        vertical-align: middle;\n",
       "    }\n",
       "\n",
       "    .dataframe tbody tr th {\n",
       "        vertical-align: top;\n",
       "    }\n",
       "\n",
       "    .dataframe thead th {\n",
       "        text-align: right;\n",
       "    }\n",
       "</style>\n",
       "<table border=\"1\" class=\"dataframe\">\n",
       "  <thead>\n",
       "    <tr style=\"text-align: right;\">\n",
       "      <th></th>\n",
       "      <th>0</th>\n",
       "    </tr>\n",
       "  </thead>\n",
       "  <tbody>\n",
       "    <tr>\n",
       "      <th>min_max__SQFTEST</th>\n",
       "      <td>0.222017</td>\n",
       "    </tr>\n",
       "    <tr>\n",
       "      <th>min_max__NHSLDMEM</th>\n",
       "      <td>0.057220</td>\n",
       "    </tr>\n",
       "    <tr>\n",
       "      <th>ohe__REGIONC_SOUTH</th>\n",
       "      <td>0.056915</td>\n",
       "    </tr>\n",
       "    <tr>\n",
       "      <th>min_max__TVCOLOR</th>\n",
       "      <td>0.050906</td>\n",
       "    </tr>\n",
       "    <tr>\n",
       "      <th>remainder__SWIMPOOL</th>\n",
       "      <td>0.050628</td>\n",
       "    </tr>\n",
       "    <tr>\n",
       "      <th>min_max__TOTAL_LIGHT</th>\n",
       "      <td>0.047382</td>\n",
       "    </tr>\n",
       "    <tr>\n",
       "      <th>min_max__TOTROOMS</th>\n",
       "      <td>0.043606</td>\n",
       "    </tr>\n",
       "    <tr>\n",
       "      <th>min_max__NUMFRIG</th>\n",
       "      <td>0.040830</td>\n",
       "    </tr>\n",
       "    <tr>\n",
       "      <th>ohe__EQUIPM_Central_heat</th>\n",
       "      <td>0.036158</td>\n",
       "    </tr>\n",
       "    <tr>\n",
       "      <th>min_max__TOTAL_COMP</th>\n",
       "      <td>0.029290</td>\n",
       "    </tr>\n",
       "  </tbody>\n",
       "</table>\n",
       "</div>"
      ],
      "text/plain": [
       "                                 0\n",
       "min_max__SQFTEST          0.222017\n",
       "min_max__NHSLDMEM         0.057220\n",
       "ohe__REGIONC_SOUTH        0.056915\n",
       "min_max__TVCOLOR          0.050906\n",
       "remainder__SWIMPOOL       0.050628\n",
       "min_max__TOTAL_LIGHT      0.047382\n",
       "min_max__TOTROOMS         0.043606\n",
       "min_max__NUMFRIG          0.040830\n",
       "ohe__EQUIPM_Central_heat  0.036158\n",
       "min_max__TOTAL_COMP       0.029290"
      ]
     },
     "execution_count": 43,
     "metadata": {},
     "output_type": "execute_result"
    }
   ],
   "source": [
    "pd.DataFrame(model.feature_importances_, index=preprocessor.get_feature_names_out()).sort_values(by=0, ascending=False).head(10)"
   ]
  },
  {
   "cell_type": "code",
   "execution_count": null,
   "id": "d82cc35b-a30a-4ddb-8398-37960f4ccbd1",
   "metadata": {},
   "outputs": [],
   "source": []
  }
 ],
 "metadata": {
  "kernelspec": {
   "display_name": "Python 3 (ipykernel)",
   "language": "python",
   "name": "python3"
  },
  "language_info": {
   "codemirror_mode": {
    "name": "ipython",
    "version": 3
   },
   "file_extension": ".py",
   "mimetype": "text/x-python",
   "name": "python",
   "nbconvert_exporter": "python",
   "pygments_lexer": "ipython3",
   "version": "3.10.6"
  }
 },
 "nbformat": 4,
 "nbformat_minor": 5
}
