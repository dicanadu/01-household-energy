{
 "cells": [
  {
   "cell_type": "code",
   "execution_count": 1,
   "id": "51666399-8599-4327-9686-5a06b4281e34",
   "metadata": {},
   "outputs": [],
   "source": [
    "%load_ext autoreload\n",
    "%autoreload 2"
   ]
  },
  {
   "cell_type": "code",
   "execution_count": 8,
   "id": "5ae5f63e-5d7b-4b77-b02b-45fe82f415fc",
   "metadata": {},
   "outputs": [],
   "source": [
    "import numpy as np\n",
    "from household_package.data import call_data_url\n",
    "from household_package.clean import clean_data\n",
    "from sklearn.pipeline import Pipeline\n",
    "from sklearn.linear_model import LinearRegression\n",
    "from sklearn.compose import ColumnTransformer\n",
    "from sklearn.preprocessing import MinMaxScaler\n",
    "from sklearn.preprocessing import OneHotEncoder\n",
    "from sklearn.model_selection import train_test_split\n",
    "from household_package.model import get_xy\n",
    "from household_package.clean import filter_data\n",
    "from household_package.registry import load_model\n",
    "import pandas as pd\n",
    "from household_package.registry import save_model\n",
    "import pickle\n",
    "from sklearn.model_selection import cross_validate\n",
    "from household_package.preprocessor import preprocessing\n",
    "from google.cloud import storage\n",
    "from household_package.clean import clean_data_without"
   ]
  },
  {
   "cell_type": "code",
   "execution_count": 4,
   "id": "998ee8cc-3244-4517-8552-07b801e7325e",
   "metadata": {},
   "outputs": [],
   "source": [
    "BUCKET_NAME=\"01_household_energy\"\n",
    "LOCAL_REGISTRY_PATH = \"../model_h5/loaded/\"\n"
   ]
  },
  {
   "cell_type": "code",
   "execution_count": 5,
   "id": "d5a8ca6d-691a-4cf0-8bfa-9e8462517592",
   "metadata": {},
   "outputs": [],
   "source": [
    "df_raw = call_data_url()"
   ]
  },
  {
   "cell_type": "code",
   "execution_count": 3,
   "id": "04f6623d-25f0-43b7-b845-491bf4373fe1",
   "metadata": {},
   "outputs": [],
   "source": [
    "user_input = user_input = {\n",
    "  \"TYPEHUQ\": 1,\n",
    "  \"NHSLDMEM\": 1,\n",
    "  \"state_name\": \"Alabama\",\n",
    "  \"REGIONC\": \"SOUTH\",\n",
    "  \"BA_climate\": \"Hot-Humid\",\n",
    "  \"SQFTEST\": 240,\n",
    "  \"STORIES\": 1,\n",
    "  \"YEARMADERANGE\": 1,\n",
    "  \"NCOMBATH\": 0,\n",
    "  \"NHAFBATH\": 0,\n",
    "  \"TOTROOMS\": 1,\n",
    "  \"WALLTYPE\": 1,\n",
    "  \"ROOFTYPE\": 1,\n",
    "  \"WINDOWS\": 1,\n",
    "  \"SWIMPOOL\": 1,\n",
    "  \"SOLAR\": 1,\n",
    "  \"SMARTMETER\": 1,\n",
    "  \"TELLWORK\": 1,\n",
    "  \"DESKTOP\": 0,\n",
    "  \"NUMLAPTOP\": 0,\n",
    "  \"TVCOLOR\": 0,\n",
    "  \"DISHWASH\": 1,\n",
    "  \"MICRO\": 0,\n",
    "  \"NUMFRIG\": 0,\n",
    "  \"CWASHER\": 1,\n",
    "  \"DRYER\": 1,\n",
    "  \"LGTIN1TO4\": 0,\n",
    "  \"LGTIN4TO8\": 0,\n",
    "  \"LGTINMORE8\": 0,\n",
    "  \"AIRCOND\": 1,\n",
    "  \"EQUIPM\": 3,\n",
    "  \"HEATHOME\": 1,\n",
    "  \"NUMPORTEL\": 0\n",
    "}"
   ]
  },
  {
   "cell_type": "code",
   "execution_count": 121,
   "id": "52935421-345e-4a5c-8cd5-c0ebcfde3676",
   "metadata": {},
   "outputs": [],
   "source": [
    "def make_X_new(user_input):\n",
    "    \"\"\"\n",
    "    This functions takes a dictionary coming from user inputs\n",
    "    and makes a one row of X for model prediciton.\n",
    "    \"\"\"\n",
    "    ## get all the passed arguments\n",
    "    #user_inputs = locals().copy()\n",
    "    X_new = pd.DataFrame({k:[v] for k,v in user_input.items()})\n",
    "    return X_new\n"
   ]
  },
  {
   "cell_type": "code",
   "execution_count": 42,
   "id": "c7bc579d-1f20-4994-8e30-c8dfdf59bf1a",
   "metadata": {},
   "outputs": [],
   "source": [
    "X_new = make_X_new(user_input)"
   ]
  },
  {
   "cell_type": "code",
   "execution_count": 28,
   "id": "648f5df2-6854-42c9-817d-1f6813816a6b",
   "metadata": {},
   "outputs": [],
   "source": [
    "#X_row_new = pd.DataFrame(pd.Series(user_input)).T"
   ]
  },
  {
   "cell_type": "code",
   "execution_count": 43,
   "id": "1e9fc75e-11d3-443f-9e89-71643ca9a8b3",
   "metadata": {},
   "outputs": [],
   "source": [
    "X_row_new = clean_data(X_new)"
   ]
  },
  {
   "cell_type": "code",
   "execution_count": 44,
   "id": "ba47c367-efc5-4012-900d-eacf57b65cd9",
   "metadata": {},
   "outputs": [
    {
     "data": {
      "text/html": [
       "<div>\n",
       "<style scoped>\n",
       "    .dataframe tbody tr th:only-of-type {\n",
       "        vertical-align: middle;\n",
       "    }\n",
       "\n",
       "    .dataframe tbody tr th {\n",
       "        vertical-align: top;\n",
       "    }\n",
       "\n",
       "    .dataframe thead th {\n",
       "        text-align: right;\n",
       "    }\n",
       "</style>\n",
       "<table border=\"1\" class=\"dataframe\">\n",
       "  <thead>\n",
       "    <tr style=\"text-align: right;\">\n",
       "      <th></th>\n",
       "      <th>SWIMPOOL</th>\n",
       "      <th>NUMPORTEL</th>\n",
       "      <th>SOLAR</th>\n",
       "      <th>SMARTMETER</th>\n",
       "      <th>TYPEHUQ</th>\n",
       "      <th>NHSLDMEM</th>\n",
       "      <th>state_name</th>\n",
       "      <th>REGIONC</th>\n",
       "      <th>BA_climate</th>\n",
       "      <th>SQFTEST</th>\n",
       "      <th>...</th>\n",
       "      <th>MICRO</th>\n",
       "      <th>NUMFRIG</th>\n",
       "      <th>CWASHER</th>\n",
       "      <th>DRYER</th>\n",
       "      <th>AIRCOND</th>\n",
       "      <th>EQUIPM</th>\n",
       "      <th>HEATHOME</th>\n",
       "      <th>TOTAL_BATH</th>\n",
       "      <th>TOTAL_COMP</th>\n",
       "      <th>TOTAL_LIGHT</th>\n",
       "    </tr>\n",
       "  </thead>\n",
       "  <tbody>\n",
       "    <tr>\n",
       "      <th>0</th>\n",
       "      <td>1</td>\n",
       "      <td>0</td>\n",
       "      <td>1</td>\n",
       "      <td>1</td>\n",
       "      <td>Mobile</td>\n",
       "      <td>1</td>\n",
       "      <td>Alabama</td>\n",
       "      <td>SOUTH</td>\n",
       "      <td>Hot-Humid</td>\n",
       "      <td>240</td>\n",
       "      <td>...</td>\n",
       "      <td>0</td>\n",
       "      <td>0</td>\n",
       "      <td>1</td>\n",
       "      <td>1</td>\n",
       "      <td>1</td>\n",
       "      <td>Furnace</td>\n",
       "      <td>1</td>\n",
       "      <td>0</td>\n",
       "      <td>0</td>\n",
       "      <td>0</td>\n",
       "    </tr>\n",
       "  </tbody>\n",
       "</table>\n",
       "<p>1 rows × 29 columns</p>\n",
       "</div>"
      ],
      "text/plain": [
       "  SWIMPOOL NUMPORTEL SOLAR SMARTMETER TYPEHUQ NHSLDMEM state_name REGIONC  \\\n",
       "0        1         0     1          1  Mobile        1    Alabama   SOUTH   \n",
       "\n",
       "  BA_climate SQFTEST  ... MICRO NUMFRIG CWASHER DRYER AIRCOND   EQUIPM  \\\n",
       "0  Hot-Humid     240  ...     0       0       1     1       1  Furnace   \n",
       "\n",
       "  HEATHOME TOTAL_BATH TOTAL_COMP TOTAL_LIGHT  \n",
       "0        1          0          0           0  \n",
       "\n",
       "[1 rows x 29 columns]"
      ]
     },
     "execution_count": 44,
     "metadata": {},
     "output_type": "execute_result"
    }
   ],
   "source": [
    "X_row_new"
   ]
  },
  {
   "cell_type": "code",
   "execution_count": 59,
   "id": "47f9931c-2f3e-4a59-82af-eb4dd68edd35",
   "metadata": {},
   "outputs": [],
   "source": [
    "from google.cloud import storage\n",
    "client = storage.Client()\n",
    "blobs = list(client.get_bucket(BUCKET_NAME).list_blobs(prefix=\"model\"))"
   ]
  },
  {
   "cell_type": "code",
   "execution_count": 60,
   "id": "f69592eb-56b0-440b-a437-3db8737058da",
   "metadata": {},
   "outputs": [
    {
     "data": {
      "text/plain": [
       "[<Blob: 01_household_energy, models/baseline_20231129-122043.pkl, 1701256844126884>,\n",
       " <Blob: 01_household_energy, models/baseline_20231129-131320.pkl, 1701260000941981>,\n",
       " <Blob: 01_household_energy, models/baseline_20231130-102940.pkl, 1701337090569311>]"
      ]
     },
     "execution_count": 60,
     "metadata": {},
     "output_type": "execute_result"
    }
   ],
   "source": [
    "blobs"
   ]
  },
  {
   "cell_type": "code",
   "execution_count": 101,
   "id": "3f2a5e9c-e2e9-4d97-9bd5-c1857f67a3bf",
   "metadata": {},
   "outputs": [
    {
     "name": "stdout",
     "output_type": "stream",
     "text": [
      "../model_h5/loaded/models/baseline_20231130-102940.pkl\n"
     ]
    }
   ],
   "source": [
    "latest_blob = max(blobs, key=lambda x: x.updated)\n",
    "#print(latest_blob.name)\n",
    "latest_model_path_to_save = os.path.join(LOCAL_REGISTRY_PATH, latest_blob.name)\n",
    "print(latest_model_path_to_save)\n",
    "latest_blob.download_to_filename(latest_model_path_to_save)\n",
    "# for sklearn (baseline)\n",
    "with open(latest_model_path_to_save , 'rb') as f:\n",
    "    latest_model = pickle.load(f)"
   ]
  },
  {
   "cell_type": "code",
   "execution_count": 70,
   "id": "223822c2-b3d7-4134-b253-838d9797d6ab",
   "metadata": {},
   "outputs": [
    {
     "data": {
      "text/plain": [
       "array([11040.])"
      ]
     },
     "execution_count": 70,
     "metadata": {},
     "output_type": "execute_result"
    }
   ],
   "source": [
    "latest_model.predict(X_row_new)"
   ]
  },
  {
   "cell_type": "code",
   "execution_count": 31,
   "id": "3683324e-1369-4495-a452-15ec35c5a443",
   "metadata": {},
   "outputs": [],
   "source": [
    "\n",
    "#percentile_min = df_raw['KWH'].quantile(0.005)\n",
    "#percentile_max = df_raw['KWH'].quantile(0.995)\n",
    "\n",
    "# Filter the DataFrame based on the specified percentiles\n",
    "#filtered_df = df_raw[(df_raw['KWH'] >= percentile_min) & (df_raw['KWH'] <= percentile_max)]\n",
    "#filtered_df"
   ]
  },
  {
   "cell_type": "code",
   "execution_count": 83,
   "id": "69b139c3-33cf-4835-b06b-5324e31b5481",
   "metadata": {},
   "outputs": [],
   "source": [
    "df = clean_data(df_raw)"
   ]
  },
  {
   "cell_type": "code",
   "execution_count": 177,
   "id": "752e7c1e-cf7a-4a97-aaa3-cba0bec308a9",
   "metadata": {},
   "outputs": [],
   "source": [
    "import pandas as pd\n",
    "import numpy as np\n",
    "from sklearn.impute import SimpleImputer\n",
    "from sklearn.pipeline import Pipeline\n",
    "from sklearn.impute import SimpleImputer\n",
    "from sklearn.compose import ColumnTransformer\n",
    "from sklearn.preprocessing import OneHotEncoder\n",
    "\n",
    "def filter_data(df,min_perc=0.005, max_perc=0.995):\n",
    "    df = df.copy()\n",
    "\n",
    "    #Get rid of outliers#\n",
    "    percentile_min = df['KWH'].quantile(min_perc)\n",
    "    percentile_max = df['KWH'].quantile(max_perc)\n",
    "\n",
    "    # Filter the DataFrame based on the specified percentiles\n",
    "    df = df[(df['KWH'] >= percentile_min) & (df['KWH'] <= percentile_max)]\n",
    "    return df\n",
    "\n",
    "\n",
    "def clean_data_2(df,min_perc=0.005, max_perc=0.995):\n",
    "    \"\"\"This set cleans the data to have it in the correct format before preprocessing\"\"\"\n",
    "\n",
    "    #Maping features\n",
    "    TYPEHUQ_map = {1: \"Mobile\", 2: \"Single_detached\",3: \"Single_attached\",\n",
    "                   4: \"Appartment_small\" ,5: \"Appartment_big\"}\n",
    "    \n",
    "    YEARMADERANGE_map = {1: \"Before_50\", 2:\"50-59\", 3:\"60-69\",\n",
    "                         4: \"70-79\", 5: \"80-89\", 6:\"90-99\", 7:\"00-09\",\n",
    "                         8:\"2010-15\", 9:\"2016-20\" }\n",
    "    EQUIPM_map = {3:\"Furnace\", 2: \"Steam\", 4: \"Central_heat\", 13: \"Ductless_heat\",\n",
    "                5: \"Electric_units\", 7: \"Room_heater\", 8 : \"Wood\",\n",
    "                10:\"Electric_heater\", 99:\"Other\", -2:\"Other\"}\n",
    "\n",
    "    dics_transform = [TYPEHUQ_map, YEARMADERANGE_map, EQUIPM_map]\n",
    "    columns_to_transform = [\"TYPEHUQ\", \"YEARMADERANGE\", \"EQUIPM\"]\n",
    "\n",
    "    for x , y in zip(dics_transform,columns_to_transform):\n",
    "        df[y] = df[y].map(x)\n",
    "\n",
    "    #Combine new features\n",
    "    df[\"TOTAL_BATH\"] = df[\"NCOMBATH\"] + df[\"NHAFBATH\"]\n",
    "    df.drop( [\"NCOMBATH\", \"NHAFBATH\"] ,axis=1, inplace = True)\n",
    "\n",
    "    df[\"TOTAL_COMP\"] = df[\"DESKTOP\"] + df[\"NUMLAPTOP\"]\n",
    "    df.drop( [\"DESKTOP\", \"NUMLAPTOP\"] ,axis=1, inplace = True)\n",
    "\n",
    "    df[\"TOTAL_LIGHT\"] = df[\"LGTIN1TO4\"] + df[\"LGTIN4TO8\"] + df[\"LGTINMORE8\"]\n",
    "    df.drop( [\"LGTIN1TO4\", \"LGTIN4TO8\", \"LGTINMORE8\"] ,axis=1, inplace = True)\n",
    "\n",
    "    df[\"STORIES\"] = df[\"STORIES\"].replace(-2,1)\n",
    "    df[\"STORIES\"] = df[\"STORIES\"].replace(5,2)\n",
    "\n",
    "    #Impute features\n",
    "    features_imputer2 = ['SWIMPOOL', 'NUMPORTEL', 'SOLAR']\n",
    "    features_imputer4 = ['SMARTMETER']\n",
    "    #to_ohe_encode = ['REGIONC', 'state_name','BA_climate','TYPEHUQ','YEARMADERANGE','WALLTYPE','ROOFTYPE','WINDOWS','EQUIPM']\n",
    "\n",
    "    imputer_2 = SimpleImputer(strategy='constant', missing_values=-2, fill_value=0)\n",
    "    imputer_4 = SimpleImputer(strategy='constant', missing_values=-4, fill_value=0)\n",
    "    #ohe = OneHotEncoder(sparse_output=False, handle_unknown='ignore')\n",
    "\n",
    "    preprocessor = ColumnTransformer(transformers=[('imputer_2',imputer_2, features_imputer2),\n",
    "                                                ('imputer_4',imputer_4, features_imputer4)],\n",
    "                                                #('ohe', ohe, to_ohe_encode)],\n",
    "                                                    remainder = \"passthrough\")\n",
    "\n",
    "    preprocessor.fit(df)\n",
    "\n",
    "    cols = [x.split(\"__\")[1] for x in preprocessor.get_feature_names_out()]\n",
    "\n",
    "    df_clean = pd.DataFrame(preprocessor.transform(df),\n",
    "                       columns = cols)\n",
    "\n",
    "    return df_clean\n"
   ]
  },
  {
   "cell_type": "code",
   "execution_count": 178,
   "id": "ec8e410e-6c87-4931-8bf8-8de872af39c3",
   "metadata": {},
   "outputs": [],
   "source": [
    "df = call_data_url()"
   ]
  },
  {
   "cell_type": "code",
   "execution_count": 179,
   "id": "f57b350d-8511-439d-a154-65d752745479",
   "metadata": {},
   "outputs": [],
   "source": [
    "df = df.drop([\"WALLTYPE\", \"ROOFTYPE\"],axis=1)"
   ]
  },
  {
   "cell_type": "code",
   "execution_count": 180,
   "id": "07b89094-ab7b-4402-af0a-bebcad7f52c4",
   "metadata": {},
   "outputs": [],
   "source": [
    "df = clean_data_2(df)"
   ]
  },
  {
   "cell_type": "code",
   "execution_count": 181,
   "id": "0d22677a-dd72-447b-9df7-d13c04fa2f1f",
   "metadata": {},
   "outputs": [
    {
     "data": {
      "text/plain": [
       "Index(['SWIMPOOL', 'NUMPORTEL', 'SOLAR', 'SMARTMETER', 'REGIONC', 'state_name',\n",
       "       'BA_climate', 'TYPEHUQ', 'STORIES', 'YEARMADERANGE', 'TOTROOMS',\n",
       "       'WINDOWS', 'NUMFRIG', 'MICRO', 'DISHWASH', 'CWASHER', 'DRYER',\n",
       "       'TVCOLOR', 'TELLWORK', 'HEATHOME', 'EQUIPM', 'AIRCOND', 'NHSLDMEM',\n",
       "       'SQFTEST', 'KWH', 'TOTAL_BATH', 'TOTAL_COMP', 'TOTAL_LIGHT'],\n",
       "      dtype='object')"
      ]
     },
     "execution_count": 181,
     "metadata": {},
     "output_type": "execute_result"
    }
   ],
   "source": [
    "df.columns"
   ]
  },
  {
   "cell_type": "code",
   "execution_count": 182,
   "id": "bd4d95a1-26f2-4373-92f6-c1487fad1a72",
   "metadata": {},
   "outputs": [],
   "source": [
    "X , y = get_xy(df)\n",
    "\n",
    "X_train, X_test, y_train, y_test =  train_test_split(X,y, test_size=0.3)"
   ]
  },
  {
   "cell_type": "code",
   "execution_count": 183,
   "id": "0c1018c8-74a6-4312-9a57-c4b807cd7f9a",
   "metadata": {},
   "outputs": [],
   "source": [
    "to_ohe_encode = ['REGIONC', 'state_name','BA_climate','TYPEHUQ', \"EQUIPM\",\n",
    "                     'YEARMADERANGE', 'WINDOWS']\n",
    "\n",
    "to_scale = [\"NUMPORTEL\", \"STORIES\",\"SQFTEST\",\n",
    "            \"TOTROOMS\", \"NUMFRIG\", \"MICRO\", \"TVCOLOR\",\"NHSLDMEM\",\n",
    "            \"TOTAL_BATH\", \"TOTAL_COMP\", \"TOTAL_LIGHT\" ]\n",
    "\n",
    "min_max = MinMaxScaler()\n",
    "ohe = OneHotEncoder(sparse_output=False, handle_unknown='ignore')\n",
    "\n",
    "\n",
    "preprocessor = ColumnTransformer(transformers=[\n",
    "                                            ('min_max', min_max, to_scale),\n",
    "                                            ('ohe', ohe, to_ohe_encode)],\n",
    "                                            remainder = \"passthrough\")\n",
    "\n",
    "model = LinearRegression()\n",
    "\n",
    "pipe = Pipeline([('prep', preprocessor), ('model', model)])"
   ]
  },
  {
   "cell_type": "markdown",
   "id": "05062a62-039b-4752-89ee-bcfe59715ada",
   "metadata": {},
   "source": [
    "### Score - two features"
   ]
  },
  {
   "cell_type": "code",
   "execution_count": 184,
   "id": "d674b999-acd3-41b5-b7fc-51baff45620c",
   "metadata": {},
   "outputs": [],
   "source": [
    "y_train_p = np.log(y_train.astype(\"float\"))\n",
    "y_test_p = np.log(y_test.astype(\"float\"))"
   ]
  },
  {
   "cell_type": "code",
   "execution_count": 185,
   "id": "e583fb60-070f-4e25-b698-185e98d187d5",
   "metadata": {},
   "outputs": [
    {
     "data": {
      "text/plain": [
       "0.5064290079231559"
      ]
     },
     "execution_count": 185,
     "metadata": {},
     "output_type": "execute_result"
    }
   ],
   "source": [
    "cross_validate(pipe, X_train, y_train, cv =5)[\"test_score\"].mean()"
   ]
  },
  {
   "cell_type": "code",
   "execution_count": 186,
   "id": "b4613c53-0053-4c94-bd37-40626ce647ad",
   "metadata": {},
   "outputs": [
    {
     "data": {
      "text/plain": [
       "0.5390166210563248"
      ]
     },
     "execution_count": 186,
     "metadata": {},
     "output_type": "execute_result"
    }
   ],
   "source": [
    "cross_validate(pipe, X_train, y_train_p, cv =5)[\"test_score\"].mean()"
   ]
  },
  {
   "cell_type": "code",
   "execution_count": 187,
   "id": "632cc5a7-7f20-41a7-b228-ade235fd1903",
   "metadata": {},
   "outputs": [
    {
     "data": {
      "text/html": [
       "<style>#sk-container-id-8 {color: black;}#sk-container-id-8 pre{padding: 0;}#sk-container-id-8 div.sk-toggleable {background-color: white;}#sk-container-id-8 label.sk-toggleable__label {cursor: pointer;display: block;width: 100%;margin-bottom: 0;padding: 0.3em;box-sizing: border-box;text-align: center;}#sk-container-id-8 label.sk-toggleable__label-arrow:before {content: \"▸\";float: left;margin-right: 0.25em;color: #696969;}#sk-container-id-8 label.sk-toggleable__label-arrow:hover:before {color: black;}#sk-container-id-8 div.sk-estimator:hover label.sk-toggleable__label-arrow:before {color: black;}#sk-container-id-8 div.sk-toggleable__content {max-height: 0;max-width: 0;overflow: hidden;text-align: left;background-color: #f0f8ff;}#sk-container-id-8 div.sk-toggleable__content pre {margin: 0.2em;color: black;border-radius: 0.25em;background-color: #f0f8ff;}#sk-container-id-8 input.sk-toggleable__control:checked~div.sk-toggleable__content {max-height: 200px;max-width: 100%;overflow: auto;}#sk-container-id-8 input.sk-toggleable__control:checked~label.sk-toggleable__label-arrow:before {content: \"▾\";}#sk-container-id-8 div.sk-estimator input.sk-toggleable__control:checked~label.sk-toggleable__label {background-color: #d4ebff;}#sk-container-id-8 div.sk-label input.sk-toggleable__control:checked~label.sk-toggleable__label {background-color: #d4ebff;}#sk-container-id-8 input.sk-hidden--visually {border: 0;clip: rect(1px 1px 1px 1px);clip: rect(1px, 1px, 1px, 1px);height: 1px;margin: -1px;overflow: hidden;padding: 0;position: absolute;width: 1px;}#sk-container-id-8 div.sk-estimator {font-family: monospace;background-color: #f0f8ff;border: 1px dotted black;border-radius: 0.25em;box-sizing: border-box;margin-bottom: 0.5em;}#sk-container-id-8 div.sk-estimator:hover {background-color: #d4ebff;}#sk-container-id-8 div.sk-parallel-item::after {content: \"\";width: 100%;border-bottom: 1px solid gray;flex-grow: 1;}#sk-container-id-8 div.sk-label:hover label.sk-toggleable__label {background-color: #d4ebff;}#sk-container-id-8 div.sk-serial::before {content: \"\";position: absolute;border-left: 1px solid gray;box-sizing: border-box;top: 0;bottom: 0;left: 50%;z-index: 0;}#sk-container-id-8 div.sk-serial {display: flex;flex-direction: column;align-items: center;background-color: white;padding-right: 0.2em;padding-left: 0.2em;position: relative;}#sk-container-id-8 div.sk-item {position: relative;z-index: 1;}#sk-container-id-8 div.sk-parallel {display: flex;align-items: stretch;justify-content: center;background-color: white;position: relative;}#sk-container-id-8 div.sk-item::before, #sk-container-id-8 div.sk-parallel-item::before {content: \"\";position: absolute;border-left: 1px solid gray;box-sizing: border-box;top: 0;bottom: 0;left: 50%;z-index: -1;}#sk-container-id-8 div.sk-parallel-item {display: flex;flex-direction: column;z-index: 1;position: relative;background-color: white;}#sk-container-id-8 div.sk-parallel-item:first-child::after {align-self: flex-end;width: 50%;}#sk-container-id-8 div.sk-parallel-item:last-child::after {align-self: flex-start;width: 50%;}#sk-container-id-8 div.sk-parallel-item:only-child::after {width: 0;}#sk-container-id-8 div.sk-dashed-wrapped {border: 1px dashed gray;margin: 0 0.4em 0.5em 0.4em;box-sizing: border-box;padding-bottom: 0.4em;background-color: white;}#sk-container-id-8 div.sk-label label {font-family: monospace;font-weight: bold;display: inline-block;line-height: 1.2em;}#sk-container-id-8 div.sk-label-container {text-align: center;}#sk-container-id-8 div.sk-container {/* jupyter's `normalize.less` sets `[hidden] { display: none; }` but bootstrap.min.css set `[hidden] { display: none !important; }` so we also need the `!important` here to be able to override the default hidden behavior on the sphinx rendered scikit-learn.org. See: https://github.com/scikit-learn/scikit-learn/issues/21755 */display: inline-block !important;position: relative;}#sk-container-id-8 div.sk-text-repr-fallback {display: none;}</style><div id=\"sk-container-id-8\" class=\"sk-top-container\"><div class=\"sk-text-repr-fallback\"><pre>Pipeline(steps=[(&#x27;prep&#x27;,\n",
       "                 ColumnTransformer(remainder=&#x27;passthrough&#x27;,\n",
       "                                   transformers=[(&#x27;min_max&#x27;, MinMaxScaler(),\n",
       "                                                  [&#x27;NUMPORTEL&#x27;, &#x27;STORIES&#x27;,\n",
       "                                                   &#x27;SQFTEST&#x27;, &#x27;TOTROOMS&#x27;,\n",
       "                                                   &#x27;NUMFRIG&#x27;, &#x27;MICRO&#x27;,\n",
       "                                                   &#x27;TVCOLOR&#x27;, &#x27;NHSLDMEM&#x27;,\n",
       "                                                   &#x27;TOTAL_BATH&#x27;, &#x27;TOTAL_COMP&#x27;,\n",
       "                                                   &#x27;TOTAL_LIGHT&#x27;]),\n",
       "                                                 (&#x27;ohe&#x27;,\n",
       "                                                  OneHotEncoder(handle_unknown=&#x27;ignore&#x27;,\n",
       "                                                                sparse_output=False),\n",
       "                                                  [&#x27;REGIONC&#x27;, &#x27;state_name&#x27;,\n",
       "                                                   &#x27;BA_climate&#x27;, &#x27;TYPEHUQ&#x27;,\n",
       "                                                   &#x27;EQUIPM&#x27;, &#x27;YEARMADERANGE&#x27;,\n",
       "                                                   &#x27;WINDOWS&#x27;])])),\n",
       "                (&#x27;model&#x27;, LinearRegression())])</pre><b>In a Jupyter environment, please rerun this cell to show the HTML representation or trust the notebook. <br />On GitHub, the HTML representation is unable to render, please try loading this page with nbviewer.org.</b></div><div class=\"sk-container\" hidden><div class=\"sk-item sk-dashed-wrapped\"><div class=\"sk-label-container\"><div class=\"sk-label sk-toggleable\"><input class=\"sk-toggleable__control sk-hidden--visually\" id=\"sk-estimator-id-64\" type=\"checkbox\" ><label for=\"sk-estimator-id-64\" class=\"sk-toggleable__label sk-toggleable__label-arrow\">Pipeline</label><div class=\"sk-toggleable__content\"><pre>Pipeline(steps=[(&#x27;prep&#x27;,\n",
       "                 ColumnTransformer(remainder=&#x27;passthrough&#x27;,\n",
       "                                   transformers=[(&#x27;min_max&#x27;, MinMaxScaler(),\n",
       "                                                  [&#x27;NUMPORTEL&#x27;, &#x27;STORIES&#x27;,\n",
       "                                                   &#x27;SQFTEST&#x27;, &#x27;TOTROOMS&#x27;,\n",
       "                                                   &#x27;NUMFRIG&#x27;, &#x27;MICRO&#x27;,\n",
       "                                                   &#x27;TVCOLOR&#x27;, &#x27;NHSLDMEM&#x27;,\n",
       "                                                   &#x27;TOTAL_BATH&#x27;, &#x27;TOTAL_COMP&#x27;,\n",
       "                                                   &#x27;TOTAL_LIGHT&#x27;]),\n",
       "                                                 (&#x27;ohe&#x27;,\n",
       "                                                  OneHotEncoder(handle_unknown=&#x27;ignore&#x27;,\n",
       "                                                                sparse_output=False),\n",
       "                                                  [&#x27;REGIONC&#x27;, &#x27;state_name&#x27;,\n",
       "                                                   &#x27;BA_climate&#x27;, &#x27;TYPEHUQ&#x27;,\n",
       "                                                   &#x27;EQUIPM&#x27;, &#x27;YEARMADERANGE&#x27;,\n",
       "                                                   &#x27;WINDOWS&#x27;])])),\n",
       "                (&#x27;model&#x27;, LinearRegression())])</pre></div></div></div><div class=\"sk-serial\"><div class=\"sk-item sk-dashed-wrapped\"><div class=\"sk-label-container\"><div class=\"sk-label sk-toggleable\"><input class=\"sk-toggleable__control sk-hidden--visually\" id=\"sk-estimator-id-65\" type=\"checkbox\" ><label for=\"sk-estimator-id-65\" class=\"sk-toggleable__label sk-toggleable__label-arrow\">prep: ColumnTransformer</label><div class=\"sk-toggleable__content\"><pre>ColumnTransformer(remainder=&#x27;passthrough&#x27;,\n",
       "                  transformers=[(&#x27;min_max&#x27;, MinMaxScaler(),\n",
       "                                 [&#x27;NUMPORTEL&#x27;, &#x27;STORIES&#x27;, &#x27;SQFTEST&#x27;, &#x27;TOTROOMS&#x27;,\n",
       "                                  &#x27;NUMFRIG&#x27;, &#x27;MICRO&#x27;, &#x27;TVCOLOR&#x27;, &#x27;NHSLDMEM&#x27;,\n",
       "                                  &#x27;TOTAL_BATH&#x27;, &#x27;TOTAL_COMP&#x27;, &#x27;TOTAL_LIGHT&#x27;]),\n",
       "                                (&#x27;ohe&#x27;,\n",
       "                                 OneHotEncoder(handle_unknown=&#x27;ignore&#x27;,\n",
       "                                               sparse_output=False),\n",
       "                                 [&#x27;REGIONC&#x27;, &#x27;state_name&#x27;, &#x27;BA_climate&#x27;,\n",
       "                                  &#x27;TYPEHUQ&#x27;, &#x27;EQUIPM&#x27;, &#x27;YEARMADERANGE&#x27;,\n",
       "                                  &#x27;WINDOWS&#x27;])])</pre></div></div></div><div class=\"sk-parallel\"><div class=\"sk-parallel-item\"><div class=\"sk-item\"><div class=\"sk-label-container\"><div class=\"sk-label sk-toggleable\"><input class=\"sk-toggleable__control sk-hidden--visually\" id=\"sk-estimator-id-66\" type=\"checkbox\" ><label for=\"sk-estimator-id-66\" class=\"sk-toggleable__label sk-toggleable__label-arrow\">min_max</label><div class=\"sk-toggleable__content\"><pre>[&#x27;NUMPORTEL&#x27;, &#x27;STORIES&#x27;, &#x27;SQFTEST&#x27;, &#x27;TOTROOMS&#x27;, &#x27;NUMFRIG&#x27;, &#x27;MICRO&#x27;, &#x27;TVCOLOR&#x27;, &#x27;NHSLDMEM&#x27;, &#x27;TOTAL_BATH&#x27;, &#x27;TOTAL_COMP&#x27;, &#x27;TOTAL_LIGHT&#x27;]</pre></div></div></div><div class=\"sk-serial\"><div class=\"sk-item\"><div class=\"sk-estimator sk-toggleable\"><input class=\"sk-toggleable__control sk-hidden--visually\" id=\"sk-estimator-id-67\" type=\"checkbox\" ><label for=\"sk-estimator-id-67\" class=\"sk-toggleable__label sk-toggleable__label-arrow\">MinMaxScaler</label><div class=\"sk-toggleable__content\"><pre>MinMaxScaler()</pre></div></div></div></div></div></div><div class=\"sk-parallel-item\"><div class=\"sk-item\"><div class=\"sk-label-container\"><div class=\"sk-label sk-toggleable\"><input class=\"sk-toggleable__control sk-hidden--visually\" id=\"sk-estimator-id-68\" type=\"checkbox\" ><label for=\"sk-estimator-id-68\" class=\"sk-toggleable__label sk-toggleable__label-arrow\">ohe</label><div class=\"sk-toggleable__content\"><pre>[&#x27;REGIONC&#x27;, &#x27;state_name&#x27;, &#x27;BA_climate&#x27;, &#x27;TYPEHUQ&#x27;, &#x27;EQUIPM&#x27;, &#x27;YEARMADERANGE&#x27;, &#x27;WINDOWS&#x27;]</pre></div></div></div><div class=\"sk-serial\"><div class=\"sk-item\"><div class=\"sk-estimator sk-toggleable\"><input class=\"sk-toggleable__control sk-hidden--visually\" id=\"sk-estimator-id-69\" type=\"checkbox\" ><label for=\"sk-estimator-id-69\" class=\"sk-toggleable__label sk-toggleable__label-arrow\">OneHotEncoder</label><div class=\"sk-toggleable__content\"><pre>OneHotEncoder(handle_unknown=&#x27;ignore&#x27;, sparse_output=False)</pre></div></div></div></div></div></div><div class=\"sk-parallel-item\"><div class=\"sk-item\"><div class=\"sk-label-container\"><div class=\"sk-label sk-toggleable\"><input class=\"sk-toggleable__control sk-hidden--visually\" id=\"sk-estimator-id-70\" type=\"checkbox\" ><label for=\"sk-estimator-id-70\" class=\"sk-toggleable__label sk-toggleable__label-arrow\">remainder</label><div class=\"sk-toggleable__content\"><pre>[&#x27;SWIMPOOL&#x27;, &#x27;SOLAR&#x27;, &#x27;SMARTMETER&#x27;, &#x27;DISHWASH&#x27;, &#x27;CWASHER&#x27;, &#x27;DRYER&#x27;, &#x27;TELLWORK&#x27;, &#x27;HEATHOME&#x27;, &#x27;AIRCOND&#x27;]</pre></div></div></div><div class=\"sk-serial\"><div class=\"sk-item\"><div class=\"sk-estimator sk-toggleable\"><input class=\"sk-toggleable__control sk-hidden--visually\" id=\"sk-estimator-id-71\" type=\"checkbox\" ><label for=\"sk-estimator-id-71\" class=\"sk-toggleable__label sk-toggleable__label-arrow\">passthrough</label><div class=\"sk-toggleable__content\"><pre>passthrough</pre></div></div></div></div></div></div></div></div><div class=\"sk-item\"><div class=\"sk-estimator sk-toggleable\"><input class=\"sk-toggleable__control sk-hidden--visually\" id=\"sk-estimator-id-72\" type=\"checkbox\" ><label for=\"sk-estimator-id-72\" class=\"sk-toggleable__label sk-toggleable__label-arrow\">LinearRegression</label><div class=\"sk-toggleable__content\"><pre>LinearRegression()</pre></div></div></div></div></div></div></div>"
      ],
      "text/plain": [
       "Pipeline(steps=[('prep',\n",
       "                 ColumnTransformer(remainder='passthrough',\n",
       "                                   transformers=[('min_max', MinMaxScaler(),\n",
       "                                                  ['NUMPORTEL', 'STORIES',\n",
       "                                                   'SQFTEST', 'TOTROOMS',\n",
       "                                                   'NUMFRIG', 'MICRO',\n",
       "                                                   'TVCOLOR', 'NHSLDMEM',\n",
       "                                                   'TOTAL_BATH', 'TOTAL_COMP',\n",
       "                                                   'TOTAL_LIGHT']),\n",
       "                                                 ('ohe',\n",
       "                                                  OneHotEncoder(handle_unknown='ignore',\n",
       "                                                                sparse_output=False),\n",
       "                                                  ['REGIONC', 'state_name',\n",
       "                                                   'BA_climate', 'TYPEHUQ',\n",
       "                                                   'EQUIPM', 'YEARMADERANGE',\n",
       "                                                   'WINDOWS'])])),\n",
       "                ('model', LinearRegression())])"
      ]
     },
     "execution_count": 187,
     "metadata": {},
     "output_type": "execute_result"
    }
   ],
   "source": [
    "pipe.fit(X_train, y_train_p)"
   ]
  },
  {
   "cell_type": "code",
   "execution_count": 188,
   "id": "c5b33a1f-c516-4cb3-be09-9bc4ffe29e96",
   "metadata": {},
   "outputs": [
    {
     "data": {
      "text/plain": [
       "0.5248544499483565"
      ]
     },
     "execution_count": 188,
     "metadata": {},
     "output_type": "execute_result"
    }
   ],
   "source": [
    "pipe.score(X_test, y_test_p)"
   ]
  },
  {
   "cell_type": "code",
   "execution_count": 215,
   "id": "51913641-42dd-43ad-b985-53a4e204e92b",
   "metadata": {
    "scrolled": true
   },
   "outputs": [
    {
     "data": {
      "text/html": [
       "<style>#sk-container-id-12 {color: black;}#sk-container-id-12 pre{padding: 0;}#sk-container-id-12 div.sk-toggleable {background-color: white;}#sk-container-id-12 label.sk-toggleable__label {cursor: pointer;display: block;width: 100%;margin-bottom: 0;padding: 0.3em;box-sizing: border-box;text-align: center;}#sk-container-id-12 label.sk-toggleable__label-arrow:before {content: \"▸\";float: left;margin-right: 0.25em;color: #696969;}#sk-container-id-12 label.sk-toggleable__label-arrow:hover:before {color: black;}#sk-container-id-12 div.sk-estimator:hover label.sk-toggleable__label-arrow:before {color: black;}#sk-container-id-12 div.sk-toggleable__content {max-height: 0;max-width: 0;overflow: hidden;text-align: left;background-color: #f0f8ff;}#sk-container-id-12 div.sk-toggleable__content pre {margin: 0.2em;color: black;border-radius: 0.25em;background-color: #f0f8ff;}#sk-container-id-12 input.sk-toggleable__control:checked~div.sk-toggleable__content {max-height: 200px;max-width: 100%;overflow: auto;}#sk-container-id-12 input.sk-toggleable__control:checked~label.sk-toggleable__label-arrow:before {content: \"▾\";}#sk-container-id-12 div.sk-estimator input.sk-toggleable__control:checked~label.sk-toggleable__label {background-color: #d4ebff;}#sk-container-id-12 div.sk-label input.sk-toggleable__control:checked~label.sk-toggleable__label {background-color: #d4ebff;}#sk-container-id-12 input.sk-hidden--visually {border: 0;clip: rect(1px 1px 1px 1px);clip: rect(1px, 1px, 1px, 1px);height: 1px;margin: -1px;overflow: hidden;padding: 0;position: absolute;width: 1px;}#sk-container-id-12 div.sk-estimator {font-family: monospace;background-color: #f0f8ff;border: 1px dotted black;border-radius: 0.25em;box-sizing: border-box;margin-bottom: 0.5em;}#sk-container-id-12 div.sk-estimator:hover {background-color: #d4ebff;}#sk-container-id-12 div.sk-parallel-item::after {content: \"\";width: 100%;border-bottom: 1px solid gray;flex-grow: 1;}#sk-container-id-12 div.sk-label:hover label.sk-toggleable__label {background-color: #d4ebff;}#sk-container-id-12 div.sk-serial::before {content: \"\";position: absolute;border-left: 1px solid gray;box-sizing: border-box;top: 0;bottom: 0;left: 50%;z-index: 0;}#sk-container-id-12 div.sk-serial {display: flex;flex-direction: column;align-items: center;background-color: white;padding-right: 0.2em;padding-left: 0.2em;position: relative;}#sk-container-id-12 div.sk-item {position: relative;z-index: 1;}#sk-container-id-12 div.sk-parallel {display: flex;align-items: stretch;justify-content: center;background-color: white;position: relative;}#sk-container-id-12 div.sk-item::before, #sk-container-id-12 div.sk-parallel-item::before {content: \"\";position: absolute;border-left: 1px solid gray;box-sizing: border-box;top: 0;bottom: 0;left: 50%;z-index: -1;}#sk-container-id-12 div.sk-parallel-item {display: flex;flex-direction: column;z-index: 1;position: relative;background-color: white;}#sk-container-id-12 div.sk-parallel-item:first-child::after {align-self: flex-end;width: 50%;}#sk-container-id-12 div.sk-parallel-item:last-child::after {align-self: flex-start;width: 50%;}#sk-container-id-12 div.sk-parallel-item:only-child::after {width: 0;}#sk-container-id-12 div.sk-dashed-wrapped {border: 1px dashed gray;margin: 0 0.4em 0.5em 0.4em;box-sizing: border-box;padding-bottom: 0.4em;background-color: white;}#sk-container-id-12 div.sk-label label {font-family: monospace;font-weight: bold;display: inline-block;line-height: 1.2em;}#sk-container-id-12 div.sk-label-container {text-align: center;}#sk-container-id-12 div.sk-container {/* jupyter's `normalize.less` sets `[hidden] { display: none; }` but bootstrap.min.css set `[hidden] { display: none !important; }` so we also need the `!important` here to be able to override the default hidden behavior on the sphinx rendered scikit-learn.org. See: https://github.com/scikit-learn/scikit-learn/issues/21755 */display: inline-block !important;position: relative;}#sk-container-id-12 div.sk-text-repr-fallback {display: none;}</style><div id=\"sk-container-id-12\" class=\"sk-top-container\"><div class=\"sk-text-repr-fallback\"><pre>ColumnTransformer(remainder=&#x27;passthrough&#x27;,\n",
       "                  transformers=[(&#x27;min_max&#x27;, MinMaxScaler(),\n",
       "                                 [&#x27;NUMPORTEL&#x27;, &#x27;STORIES&#x27;, &#x27;SQFTEST&#x27;, &#x27;TOTROOMS&#x27;,\n",
       "                                  &#x27;NUMFRIG&#x27;, &#x27;MICRO&#x27;, &#x27;TVCOLOR&#x27;, &#x27;NHSLDMEM&#x27;,\n",
       "                                  &#x27;TOTAL_BATH&#x27;, &#x27;TOTAL_COMP&#x27;, &#x27;TOTAL_LIGHT&#x27;]),\n",
       "                                (&#x27;ohe&#x27;,\n",
       "                                 OneHotEncoder(handle_unknown=&#x27;ignore&#x27;,\n",
       "                                               sparse_output=False),\n",
       "                                 [&#x27;REGIONC&#x27;, &#x27;state_name&#x27;, &#x27;BA_climate&#x27;,\n",
       "                                  &#x27;TYPEHUQ&#x27;, &#x27;EQUIPM&#x27;, &#x27;YEARMADERANGE&#x27;,\n",
       "                                  &#x27;WINDOWS&#x27;])])</pre><b>In a Jupyter environment, please rerun this cell to show the HTML representation or trust the notebook. <br />On GitHub, the HTML representation is unable to render, please try loading this page with nbviewer.org.</b></div><div class=\"sk-container\" hidden><div class=\"sk-item sk-dashed-wrapped\"><div class=\"sk-label-container\"><div class=\"sk-label sk-toggleable\"><input class=\"sk-toggleable__control sk-hidden--visually\" id=\"sk-estimator-id-94\" type=\"checkbox\" ><label for=\"sk-estimator-id-94\" class=\"sk-toggleable__label sk-toggleable__label-arrow\">ColumnTransformer</label><div class=\"sk-toggleable__content\"><pre>ColumnTransformer(remainder=&#x27;passthrough&#x27;,\n",
       "                  transformers=[(&#x27;min_max&#x27;, MinMaxScaler(),\n",
       "                                 [&#x27;NUMPORTEL&#x27;, &#x27;STORIES&#x27;, &#x27;SQFTEST&#x27;, &#x27;TOTROOMS&#x27;,\n",
       "                                  &#x27;NUMFRIG&#x27;, &#x27;MICRO&#x27;, &#x27;TVCOLOR&#x27;, &#x27;NHSLDMEM&#x27;,\n",
       "                                  &#x27;TOTAL_BATH&#x27;, &#x27;TOTAL_COMP&#x27;, &#x27;TOTAL_LIGHT&#x27;]),\n",
       "                                (&#x27;ohe&#x27;,\n",
       "                                 OneHotEncoder(handle_unknown=&#x27;ignore&#x27;,\n",
       "                                               sparse_output=False),\n",
       "                                 [&#x27;REGIONC&#x27;, &#x27;state_name&#x27;, &#x27;BA_climate&#x27;,\n",
       "                                  &#x27;TYPEHUQ&#x27;, &#x27;EQUIPM&#x27;, &#x27;YEARMADERANGE&#x27;,\n",
       "                                  &#x27;WINDOWS&#x27;])])</pre></div></div></div><div class=\"sk-parallel\"><div class=\"sk-parallel-item\"><div class=\"sk-item\"><div class=\"sk-label-container\"><div class=\"sk-label sk-toggleable\"><input class=\"sk-toggleable__control sk-hidden--visually\" id=\"sk-estimator-id-95\" type=\"checkbox\" ><label for=\"sk-estimator-id-95\" class=\"sk-toggleable__label sk-toggleable__label-arrow\">min_max</label><div class=\"sk-toggleable__content\"><pre>[&#x27;NUMPORTEL&#x27;, &#x27;STORIES&#x27;, &#x27;SQFTEST&#x27;, &#x27;TOTROOMS&#x27;, &#x27;NUMFRIG&#x27;, &#x27;MICRO&#x27;, &#x27;TVCOLOR&#x27;, &#x27;NHSLDMEM&#x27;, &#x27;TOTAL_BATH&#x27;, &#x27;TOTAL_COMP&#x27;, &#x27;TOTAL_LIGHT&#x27;]</pre></div></div></div><div class=\"sk-serial\"><div class=\"sk-item\"><div class=\"sk-estimator sk-toggleable\"><input class=\"sk-toggleable__control sk-hidden--visually\" id=\"sk-estimator-id-96\" type=\"checkbox\" ><label for=\"sk-estimator-id-96\" class=\"sk-toggleable__label sk-toggleable__label-arrow\">MinMaxScaler</label><div class=\"sk-toggleable__content\"><pre>MinMaxScaler()</pre></div></div></div></div></div></div><div class=\"sk-parallel-item\"><div class=\"sk-item\"><div class=\"sk-label-container\"><div class=\"sk-label sk-toggleable\"><input class=\"sk-toggleable__control sk-hidden--visually\" id=\"sk-estimator-id-97\" type=\"checkbox\" ><label for=\"sk-estimator-id-97\" class=\"sk-toggleable__label sk-toggleable__label-arrow\">ohe</label><div class=\"sk-toggleable__content\"><pre>[&#x27;REGIONC&#x27;, &#x27;state_name&#x27;, &#x27;BA_climate&#x27;, &#x27;TYPEHUQ&#x27;, &#x27;EQUIPM&#x27;, &#x27;YEARMADERANGE&#x27;, &#x27;WINDOWS&#x27;]</pre></div></div></div><div class=\"sk-serial\"><div class=\"sk-item\"><div class=\"sk-estimator sk-toggleable\"><input class=\"sk-toggleable__control sk-hidden--visually\" id=\"sk-estimator-id-98\" type=\"checkbox\" ><label for=\"sk-estimator-id-98\" class=\"sk-toggleable__label sk-toggleable__label-arrow\">OneHotEncoder</label><div class=\"sk-toggleable__content\"><pre>OneHotEncoder(handle_unknown=&#x27;ignore&#x27;, sparse_output=False)</pre></div></div></div></div></div></div><div class=\"sk-parallel-item\"><div class=\"sk-item\"><div class=\"sk-label-container\"><div class=\"sk-label sk-toggleable\"><input class=\"sk-toggleable__control sk-hidden--visually\" id=\"sk-estimator-id-99\" type=\"checkbox\" ><label for=\"sk-estimator-id-99\" class=\"sk-toggleable__label sk-toggleable__label-arrow\">remainder</label><div class=\"sk-toggleable__content\"><pre>[&#x27;SWIMPOOL&#x27;, &#x27;SOLAR&#x27;, &#x27;SMARTMETER&#x27;, &#x27;DISHWASH&#x27;, &#x27;CWASHER&#x27;, &#x27;DRYER&#x27;, &#x27;TELLWORK&#x27;, &#x27;HEATHOME&#x27;, &#x27;AIRCOND&#x27;]</pre></div></div></div><div class=\"sk-serial\"><div class=\"sk-item\"><div class=\"sk-estimator sk-toggleable\"><input class=\"sk-toggleable__control sk-hidden--visually\" id=\"sk-estimator-id-100\" type=\"checkbox\" ><label for=\"sk-estimator-id-100\" class=\"sk-toggleable__label sk-toggleable__label-arrow\">passthrough</label><div class=\"sk-toggleable__content\"><pre>passthrough</pre></div></div></div></div></div></div></div></div></div></div>"
      ],
      "text/plain": [
       "ColumnTransformer(remainder='passthrough',\n",
       "                  transformers=[('min_max', MinMaxScaler(),\n",
       "                                 ['NUMPORTEL', 'STORIES', 'SQFTEST', 'TOTROOMS',\n",
       "                                  'NUMFRIG', 'MICRO', 'TVCOLOR', 'NHSLDMEM',\n",
       "                                  'TOTAL_BATH', 'TOTAL_COMP', 'TOTAL_LIGHT']),\n",
       "                                ('ohe',\n",
       "                                 OneHotEncoder(handle_unknown='ignore',\n",
       "                                               sparse_output=False),\n",
       "                                 ['REGIONC', 'state_name', 'BA_climate',\n",
       "                                  'TYPEHUQ', 'EQUIPM', 'YEARMADERANGE',\n",
       "                                  'WINDOWS'])])"
      ]
     },
     "execution_count": 215,
     "metadata": {},
     "output_type": "execute_result"
    }
   ],
   "source": [
    "preprocessor.fit(X_train)"
   ]
  },
  {
   "cell_type": "code",
   "execution_count": 216,
   "id": "50eecffd-d89b-4aa0-9ba9-605d7c10a1e9",
   "metadata": {},
   "outputs": [
    {
     "ename": "AttributeError",
     "evalue": "'function' object has no attribute 'transform'",
     "output_type": "error",
     "traceback": [
      "\u001b[0;31m---------------------------------------------------------------------------\u001b[0m",
      "\u001b[0;31mAttributeError\u001b[0m                            Traceback (most recent call last)",
      "Cell \u001b[0;32mIn[216], line 1\u001b[0m\n\u001b[0;32m----> 1\u001b[0m X_trans \u001b[38;5;241m=\u001b[39m \u001b[43mpreprocessing\u001b[49m\u001b[38;5;241;43m.\u001b[39;49m\u001b[43mtransform\u001b[49m(X_train)\n",
      "\u001b[0;31mAttributeError\u001b[0m: 'function' object has no attribute 'transform'"
     ]
    }
   ],
   "source": [
    "X_trans = preprocessing.transform(X_train)"
   ]
  },
  {
   "cell_type": "code",
   "execution_count": 198,
   "id": "f3fbf713-bb04-4286-b7d0-eb6deb511d33",
   "metadata": {},
   "outputs": [
    {
     "data": {
      "text/plain": [
       "array([[0.0, 0.3333333333333333, 0.10348360655737704, ..., 0, 1, 1],\n",
       "       [0.0, 0.0, 0.07581967213114754, ..., 0, 1, 1],\n",
       "       [0.0, 0.0, 0.13934426229508196, ..., 1, 0, 1],\n",
       "       ...,\n",
       "       [0.0, 0.0, 0.05737704918032786, ..., 0, 1, 1],\n",
       "       [0.0, 0.3333333333333333, 0.11885245901639344, ..., 0, 0, 0],\n",
       "       [0.0, 0.3333333333333333, 0.2827868852459017, ..., 1, 1, 1]],\n",
       "      dtype=object)"
      ]
     },
     "execution_count": 198,
     "metadata": {},
     "output_type": "execute_result"
    }
   ],
   "source": [
    "preprocessor.transform(X_test)"
   ]
  },
  {
   "cell_type": "code",
   "execution_count": 199,
   "id": "e06e1bff-4239-42df-8cd3-64a343b5d0f9",
   "metadata": {},
   "outputs": [],
   "source": [
    "model = LinearRegression()"
   ]
  },
  {
   "cell_type": "code",
   "execution_count": 204,
   "id": "1b3414d9-19be-49b4-8af7-1507b88f775a",
   "metadata": {},
   "outputs": [
    {
     "data": {
      "text/html": [
       "<div>\n",
       "<style scoped>\n",
       "    .dataframe tbody tr th:only-of-type {\n",
       "        vertical-align: middle;\n",
       "    }\n",
       "\n",
       "    .dataframe tbody tr th {\n",
       "        vertical-align: top;\n",
       "    }\n",
       "\n",
       "    .dataframe thead th {\n",
       "        text-align: right;\n",
       "    }\n",
       "</style>\n",
       "<table border=\"1\" class=\"dataframe\">\n",
       "  <thead>\n",
       "    <tr style=\"text-align: right;\">\n",
       "      <th></th>\n",
       "      <th>KWH</th>\n",
       "    </tr>\n",
       "  </thead>\n",
       "  <tbody>\n",
       "    <tr>\n",
       "      <th>12406</th>\n",
       "      <td>9.299265</td>\n",
       "    </tr>\n",
       "    <tr>\n",
       "      <th>2216</th>\n",
       "      <td>9.169833</td>\n",
       "    </tr>\n",
       "    <tr>\n",
       "      <th>12653</th>\n",
       "      <td>9.929013</td>\n",
       "    </tr>\n",
       "    <tr>\n",
       "      <th>7637</th>\n",
       "      <td>9.655036</td>\n",
       "    </tr>\n",
       "    <tr>\n",
       "      <th>7773</th>\n",
       "      <td>8.503828</td>\n",
       "    </tr>\n",
       "    <tr>\n",
       "      <th>...</th>\n",
       "      <td>...</td>\n",
       "    </tr>\n",
       "    <tr>\n",
       "      <th>11333</th>\n",
       "      <td>9.552401</td>\n",
       "    </tr>\n",
       "    <tr>\n",
       "      <th>11213</th>\n",
       "      <td>8.983439</td>\n",
       "    </tr>\n",
       "    <tr>\n",
       "      <th>12809</th>\n",
       "      <td>9.314577</td>\n",
       "    </tr>\n",
       "    <tr>\n",
       "      <th>427</th>\n",
       "      <td>9.867064</td>\n",
       "    </tr>\n",
       "    <tr>\n",
       "      <th>15594</th>\n",
       "      <td>9.512615</td>\n",
       "    </tr>\n",
       "  </tbody>\n",
       "</table>\n",
       "<p>12947 rows × 1 columns</p>\n",
       "</div>"
      ],
      "text/plain": [
       "            KWH\n",
       "12406  9.299265\n",
       "2216   9.169833\n",
       "12653  9.929013\n",
       "7637   9.655036\n",
       "7773   8.503828\n",
       "...         ...\n",
       "11333  9.552401\n",
       "11213  8.983439\n",
       "12809  9.314577\n",
       "427    9.867064\n",
       "15594  9.512615\n",
       "\n",
       "[12947 rows x 1 columns]"
      ]
     },
     "execution_count": 204,
     "metadata": {},
     "output_type": "execute_result"
    }
   ],
   "source": [
    "pd.DataFrame(y_train_p)"
   ]
  },
  {
   "cell_type": "code",
   "execution_count": 210,
   "id": "37ae67b8-28e9-424b-869c-fbb5da72968a",
   "metadata": {},
   "outputs": [
    {
     "data": {
      "text/plain": [
       "12406    9.299265\n",
       "2216     9.169833\n",
       "12653    9.929013\n",
       "7637     9.655036\n",
       "7773     8.503828\n",
       "           ...   \n",
       "11333    9.552401\n",
       "11213    8.983439\n",
       "12809    9.314577\n",
       "427      9.867064\n",
       "15594    9.512615\n",
       "Name: KWH, Length: 12947, dtype: float64"
      ]
     },
     "execution_count": 210,
     "metadata": {},
     "output_type": "execute_result"
    }
   ],
   "source": [
    "y_train_p"
   ]
  },
  {
   "cell_type": "code",
   "execution_count": 209,
   "id": "c19befc2-4b9f-46ba-a023-60ccf5720528",
   "metadata": {},
   "outputs": [
    {
     "ename": "AttributeError",
     "evalue": "'DataFrame' object has no attribute 'reshape'",
     "output_type": "error",
     "traceback": [
      "\u001b[0;31m---------------------------------------------------------------------------\u001b[0m",
      "\u001b[0;31mAttributeError\u001b[0m                            Traceback (most recent call last)",
      "\u001b[0;32m/tmp/ipykernel_140127/3861406788.py\u001b[0m in \u001b[0;36m?\u001b[0;34m()\u001b[0m\n\u001b[0;32m----> 1\u001b[0;31m \u001b[0mmodel\u001b[0m\u001b[0;34m.\u001b[0m\u001b[0mfit\u001b[0m\u001b[0;34m(\u001b[0m\u001b[0mX_trans\u001b[0m\u001b[0;34m,\u001b[0m \u001b[0mpd\u001b[0m\u001b[0;34m.\u001b[0m\u001b[0mDataFrame\u001b[0m\u001b[0;34m(\u001b[0m\u001b[0my_train_p\u001b[0m\u001b[0;34m)\u001b[0m\u001b[0;34m.\u001b[0m\u001b[0mreshape\u001b[0m\u001b[0;34m(\u001b[0m\u001b[0;34m-\u001b[0m\u001b[0;36m1\u001b[0m\u001b[0;34m,\u001b[0m\u001b[0;36m1\u001b[0m\u001b[0;34m)\u001b[0m\u001b[0;34m)\u001b[0m\u001b[0;34m\u001b[0m\u001b[0;34m\u001b[0m\u001b[0m\n\u001b[0m",
      "\u001b[0;32m~/.pyenv/versions/3.10.6/envs/01-household-energy/lib/python3.10/site-packages/pandas/core/generic.py\u001b[0m in \u001b[0;36m?\u001b[0;34m(self, name)\u001b[0m\n\u001b[1;32m   5483\u001b[0m             \u001b[0;32mand\u001b[0m \u001b[0mname\u001b[0m \u001b[0;32mnot\u001b[0m \u001b[0;32min\u001b[0m \u001b[0mself\u001b[0m\u001b[0;34m.\u001b[0m\u001b[0m_accessors\u001b[0m\u001b[0;34m\u001b[0m\u001b[0;34m\u001b[0m\u001b[0m\n\u001b[1;32m   5484\u001b[0m             \u001b[0;32mand\u001b[0m \u001b[0mself\u001b[0m\u001b[0;34m.\u001b[0m\u001b[0m_info_axis\u001b[0m\u001b[0;34m.\u001b[0m\u001b[0m_can_hold_identifiers_and_holds_name\u001b[0m\u001b[0;34m(\u001b[0m\u001b[0mname\u001b[0m\u001b[0;34m)\u001b[0m\u001b[0;34m\u001b[0m\u001b[0;34m\u001b[0m\u001b[0m\n\u001b[1;32m   5485\u001b[0m         ):\n\u001b[1;32m   5486\u001b[0m             \u001b[0;32mreturn\u001b[0m \u001b[0mself\u001b[0m\u001b[0;34m[\u001b[0m\u001b[0mname\u001b[0m\u001b[0;34m]\u001b[0m\u001b[0;34m\u001b[0m\u001b[0;34m\u001b[0m\u001b[0m\n\u001b[0;32m-> 5487\u001b[0;31m         \u001b[0;32mreturn\u001b[0m \u001b[0mobject\u001b[0m\u001b[0;34m.\u001b[0m\u001b[0m__getattribute__\u001b[0m\u001b[0;34m(\u001b[0m\u001b[0mself\u001b[0m\u001b[0;34m,\u001b[0m \u001b[0mname\u001b[0m\u001b[0;34m)\u001b[0m\u001b[0;34m\u001b[0m\u001b[0;34m\u001b[0m\u001b[0m\n\u001b[0m",
      "\u001b[0;31mAttributeError\u001b[0m: 'DataFrame' object has no attribute 'reshape'"
     ]
    }
   ],
   "source": [
    "model.fit(X_trans, pd.DataFrame(y_train_p).reshape(-1,1))"
   ]
  },
  {
   "cell_type": "code",
   "execution_count": 192,
   "id": "74bb501a-f6cc-489e-bb56-cbfc0844841e",
   "metadata": {},
   "outputs": [
    {
     "data": {
      "text/html": [
       "<div>\n",
       "<style scoped>\n",
       "    .dataframe tbody tr th:only-of-type {\n",
       "        vertical-align: middle;\n",
       "    }\n",
       "\n",
       "    .dataframe tbody tr th {\n",
       "        vertical-align: top;\n",
       "    }\n",
       "\n",
       "    .dataframe thead th {\n",
       "        text-align: right;\n",
       "    }\n",
       "</style>\n",
       "<table border=\"1\" class=\"dataframe\">\n",
       "  <thead>\n",
       "    <tr style=\"text-align: right;\">\n",
       "      <th></th>\n",
       "      <th>SWIMPOOL</th>\n",
       "      <th>NUMPORTEL</th>\n",
       "      <th>SOLAR</th>\n",
       "      <th>SMARTMETER</th>\n",
       "      <th>REGIONC</th>\n",
       "      <th>state_name</th>\n",
       "      <th>BA_climate</th>\n",
       "      <th>TYPEHUQ</th>\n",
       "      <th>STORIES</th>\n",
       "      <th>YEARMADERANGE</th>\n",
       "      <th>...</th>\n",
       "      <th>TVCOLOR</th>\n",
       "      <th>TELLWORK</th>\n",
       "      <th>HEATHOME</th>\n",
       "      <th>EQUIPM</th>\n",
       "      <th>AIRCOND</th>\n",
       "      <th>NHSLDMEM</th>\n",
       "      <th>SQFTEST</th>\n",
       "      <th>TOTAL_BATH</th>\n",
       "      <th>TOTAL_COMP</th>\n",
       "      <th>TOTAL_LIGHT</th>\n",
       "    </tr>\n",
       "  </thead>\n",
       "  <tbody>\n",
       "    <tr>\n",
       "      <th>0</th>\n",
       "      <td>0</td>\n",
       "      <td>0</td>\n",
       "      <td>0</td>\n",
       "      <td>0</td>\n",
       "      <td>NORTHEAST</td>\n",
       "      <td>New York</td>\n",
       "      <td>Cold</td>\n",
       "      <td>Single_detached</td>\n",
       "      <td>2</td>\n",
       "      <td>Before_50</td>\n",
       "      <td>...</td>\n",
       "      <td>1</td>\n",
       "      <td>0</td>\n",
       "      <td>1</td>\n",
       "      <td>Furnace</td>\n",
       "      <td>1</td>\n",
       "      <td>2</td>\n",
       "      <td>1250</td>\n",
       "      <td>2</td>\n",
       "      <td>3</td>\n",
       "      <td>4</td>\n",
       "    </tr>\n",
       "  </tbody>\n",
       "</table>\n",
       "<p>1 rows × 27 columns</p>\n",
       "</div>"
      ],
      "text/plain": [
       "   SWIMPOOL  NUMPORTEL  SOLAR  SMARTMETER    REGIONC state_name BA_climate  \\\n",
       "0         0          0      0           0  NORTHEAST   New York       Cold   \n",
       "\n",
       "           TYPEHUQ  STORIES YEARMADERANGE  ...  TVCOLOR  TELLWORK  HEATHOME  \\\n",
       "0  Single_detached        2     Before_50  ...        1         0         1   \n",
       "\n",
       "    EQUIPM  AIRCOND  NHSLDMEM  SQFTEST  TOTAL_BATH  TOTAL_COMP  TOTAL_LIGHT  \n",
       "0  Furnace        1         2     1250           2           3            4  \n",
       "\n",
       "[1 rows x 27 columns]"
      ]
     },
     "execution_count": 192,
     "metadata": {},
     "output_type": "execute_result"
    }
   ],
   "source": [
    "make_X_new(X_test.iloc[0,:])"
   ]
  },
  {
   "cell_type": "code",
   "execution_count": 193,
   "id": "34cc4abe-afc5-472e-9440-ac30f637deac",
   "metadata": {},
   "outputs": [
    {
     "ename": "TypeError",
     "evalue": "ufunc 'isnan' not supported for the input types, and the inputs could not be safely coerced to any supported types according to the casting rule ''safe''",
     "output_type": "error",
     "traceback": [
      "\u001b[0;31m---------------------------------------------------------------------------\u001b[0m",
      "\u001b[0;31mTypeError\u001b[0m                                 Traceback (most recent call last)",
      "Cell \u001b[0;32mIn[193], line 1\u001b[0m\n\u001b[0;32m----> 1\u001b[0m \u001b[43mpipe\u001b[49m\u001b[38;5;241;43m.\u001b[39;49m\u001b[43mpredict\u001b[49m\u001b[43m(\u001b[49m\u001b[43mmake_X_new\u001b[49m\u001b[43m(\u001b[49m\u001b[43mX_test\u001b[49m\u001b[38;5;241;43m.\u001b[39;49m\u001b[43miloc\u001b[49m\u001b[43m[\u001b[49m\u001b[38;5;241;43m0\u001b[39;49m\u001b[43m,\u001b[49m\u001b[43m:\u001b[49m\u001b[43m]\u001b[49m\u001b[43m)\u001b[49m\u001b[43m)\u001b[49m\n",
      "File \u001b[0;32m~/.pyenv/versions/3.10.6/envs/01-household-energy/lib/python3.10/site-packages/sklearn/pipeline.py:514\u001b[0m, in \u001b[0;36mPipeline.predict\u001b[0;34m(self, X, **predict_params)\u001b[0m\n\u001b[1;32m    512\u001b[0m Xt \u001b[38;5;241m=\u001b[39m X\n\u001b[1;32m    513\u001b[0m \u001b[38;5;28;01mfor\u001b[39;00m _, name, transform \u001b[38;5;129;01min\u001b[39;00m \u001b[38;5;28mself\u001b[39m\u001b[38;5;241m.\u001b[39m_iter(with_final\u001b[38;5;241m=\u001b[39m\u001b[38;5;28;01mFalse\u001b[39;00m):\n\u001b[0;32m--> 514\u001b[0m     Xt \u001b[38;5;241m=\u001b[39m \u001b[43mtransform\u001b[49m\u001b[38;5;241;43m.\u001b[39;49m\u001b[43mtransform\u001b[49m\u001b[43m(\u001b[49m\u001b[43mXt\u001b[49m\u001b[43m)\u001b[49m\n\u001b[1;32m    515\u001b[0m \u001b[38;5;28;01mreturn\u001b[39;00m \u001b[38;5;28mself\u001b[39m\u001b[38;5;241m.\u001b[39msteps[\u001b[38;5;241m-\u001b[39m\u001b[38;5;241m1\u001b[39m][\u001b[38;5;241m1\u001b[39m]\u001b[38;5;241m.\u001b[39mpredict(Xt, \u001b[38;5;241m*\u001b[39m\u001b[38;5;241m*\u001b[39mpredict_params)\n",
      "File \u001b[0;32m~/.pyenv/versions/3.10.6/envs/01-household-energy/lib/python3.10/site-packages/sklearn/utils/_set_output.py:157\u001b[0m, in \u001b[0;36m_wrap_method_output.<locals>.wrapped\u001b[0;34m(self, X, *args, **kwargs)\u001b[0m\n\u001b[1;32m    155\u001b[0m \u001b[38;5;129m@wraps\u001b[39m(f)\n\u001b[1;32m    156\u001b[0m \u001b[38;5;28;01mdef\u001b[39;00m \u001b[38;5;21mwrapped\u001b[39m(\u001b[38;5;28mself\u001b[39m, X, \u001b[38;5;241m*\u001b[39margs, \u001b[38;5;241m*\u001b[39m\u001b[38;5;241m*\u001b[39mkwargs):\n\u001b[0;32m--> 157\u001b[0m     data_to_wrap \u001b[38;5;241m=\u001b[39m \u001b[43mf\u001b[49m\u001b[43m(\u001b[49m\u001b[38;5;28;43mself\u001b[39;49m\u001b[43m,\u001b[49m\u001b[43m \u001b[49m\u001b[43mX\u001b[49m\u001b[43m,\u001b[49m\u001b[43m \u001b[49m\u001b[38;5;241;43m*\u001b[39;49m\u001b[43margs\u001b[49m\u001b[43m,\u001b[49m\u001b[43m \u001b[49m\u001b[38;5;241;43m*\u001b[39;49m\u001b[38;5;241;43m*\u001b[39;49m\u001b[43mkwargs\u001b[49m\u001b[43m)\u001b[49m\n\u001b[1;32m    158\u001b[0m     \u001b[38;5;28;01mif\u001b[39;00m \u001b[38;5;28misinstance\u001b[39m(data_to_wrap, \u001b[38;5;28mtuple\u001b[39m):\n\u001b[1;32m    159\u001b[0m         \u001b[38;5;66;03m# only wrap the first output for cross decomposition\u001b[39;00m\n\u001b[1;32m    160\u001b[0m         return_tuple \u001b[38;5;241m=\u001b[39m (\n\u001b[1;32m    161\u001b[0m             _wrap_data_with_container(method, data_to_wrap[\u001b[38;5;241m0\u001b[39m], X, \u001b[38;5;28mself\u001b[39m),\n\u001b[1;32m    162\u001b[0m             \u001b[38;5;241m*\u001b[39mdata_to_wrap[\u001b[38;5;241m1\u001b[39m:],\n\u001b[1;32m    163\u001b[0m         )\n",
      "File \u001b[0;32m~/.pyenv/versions/3.10.6/envs/01-household-energy/lib/python3.10/site-packages/sklearn/compose/_column_transformer.py:827\u001b[0m, in \u001b[0;36mColumnTransformer.transform\u001b[0;34m(self, X)\u001b[0m\n\u001b[1;32m    822\u001b[0m \u001b[38;5;28;01melse\u001b[39;00m:\n\u001b[1;32m    823\u001b[0m     \u001b[38;5;66;03m# ndarray was used for fitting or transforming, thus we only\u001b[39;00m\n\u001b[1;32m    824\u001b[0m     \u001b[38;5;66;03m# check that n_features_in_ is consistent\u001b[39;00m\n\u001b[1;32m    825\u001b[0m     \u001b[38;5;28mself\u001b[39m\u001b[38;5;241m.\u001b[39m_check_n_features(X, reset\u001b[38;5;241m=\u001b[39m\u001b[38;5;28;01mFalse\u001b[39;00m)\n\u001b[0;32m--> 827\u001b[0m Xs \u001b[38;5;241m=\u001b[39m \u001b[38;5;28;43mself\u001b[39;49m\u001b[38;5;241;43m.\u001b[39;49m\u001b[43m_fit_transform\u001b[49m\u001b[43m(\u001b[49m\n\u001b[1;32m    828\u001b[0m \u001b[43m    \u001b[49m\u001b[43mX\u001b[49m\u001b[43m,\u001b[49m\n\u001b[1;32m    829\u001b[0m \u001b[43m    \u001b[49m\u001b[38;5;28;43;01mNone\u001b[39;49;00m\u001b[43m,\u001b[49m\n\u001b[1;32m    830\u001b[0m \u001b[43m    \u001b[49m\u001b[43m_transform_one\u001b[49m\u001b[43m,\u001b[49m\n\u001b[1;32m    831\u001b[0m \u001b[43m    \u001b[49m\u001b[43mfitted\u001b[49m\u001b[38;5;241;43m=\u001b[39;49m\u001b[38;5;28;43;01mTrue\u001b[39;49;00m\u001b[43m,\u001b[49m\n\u001b[1;32m    832\u001b[0m \u001b[43m    \u001b[49m\u001b[43mcolumn_as_strings\u001b[49m\u001b[38;5;241;43m=\u001b[39;49m\u001b[43mfit_dataframe_and_transform_dataframe\u001b[49m\u001b[43m,\u001b[49m\n\u001b[1;32m    833\u001b[0m \u001b[43m\u001b[49m\u001b[43m)\u001b[49m\n\u001b[1;32m    834\u001b[0m \u001b[38;5;28mself\u001b[39m\u001b[38;5;241m.\u001b[39m_validate_output(Xs)\n\u001b[1;32m    836\u001b[0m \u001b[38;5;28;01mif\u001b[39;00m \u001b[38;5;129;01mnot\u001b[39;00m Xs:\n\u001b[1;32m    837\u001b[0m     \u001b[38;5;66;03m# All transformers are None\u001b[39;00m\n",
      "File \u001b[0;32m~/.pyenv/versions/3.10.6/envs/01-household-energy/lib/python3.10/site-packages/sklearn/compose/_column_transformer.py:681\u001b[0m, in \u001b[0;36mColumnTransformer._fit_transform\u001b[0;34m(self, X, y, func, fitted, column_as_strings)\u001b[0m\n\u001b[1;32m    675\u001b[0m transformers \u001b[38;5;241m=\u001b[39m \u001b[38;5;28mlist\u001b[39m(\n\u001b[1;32m    676\u001b[0m     \u001b[38;5;28mself\u001b[39m\u001b[38;5;241m.\u001b[39m_iter(\n\u001b[1;32m    677\u001b[0m         fitted\u001b[38;5;241m=\u001b[39mfitted, replace_strings\u001b[38;5;241m=\u001b[39m\u001b[38;5;28;01mTrue\u001b[39;00m, column_as_strings\u001b[38;5;241m=\u001b[39mcolumn_as_strings\n\u001b[1;32m    678\u001b[0m     )\n\u001b[1;32m    679\u001b[0m )\n\u001b[1;32m    680\u001b[0m \u001b[38;5;28;01mtry\u001b[39;00m:\n\u001b[0;32m--> 681\u001b[0m     \u001b[38;5;28;01mreturn\u001b[39;00m \u001b[43mParallel\u001b[49m\u001b[43m(\u001b[49m\u001b[43mn_jobs\u001b[49m\u001b[38;5;241;43m=\u001b[39;49m\u001b[38;5;28;43mself\u001b[39;49m\u001b[38;5;241;43m.\u001b[39;49m\u001b[43mn_jobs\u001b[49m\u001b[43m)\u001b[49m\u001b[43m(\u001b[49m\n\u001b[1;32m    682\u001b[0m \u001b[43m        \u001b[49m\u001b[43mdelayed\u001b[49m\u001b[43m(\u001b[49m\u001b[43mfunc\u001b[49m\u001b[43m)\u001b[49m\u001b[43m(\u001b[49m\n\u001b[1;32m    683\u001b[0m \u001b[43m            \u001b[49m\u001b[43mtransformer\u001b[49m\u001b[38;5;241;43m=\u001b[39;49m\u001b[43mclone\u001b[49m\u001b[43m(\u001b[49m\u001b[43mtrans\u001b[49m\u001b[43m)\u001b[49m\u001b[43m \u001b[49m\u001b[38;5;28;43;01mif\u001b[39;49;00m\u001b[43m \u001b[49m\u001b[38;5;129;43;01mnot\u001b[39;49;00m\u001b[43m \u001b[49m\u001b[43mfitted\u001b[49m\u001b[43m \u001b[49m\u001b[38;5;28;43;01melse\u001b[39;49;00m\u001b[43m \u001b[49m\u001b[43mtrans\u001b[49m\u001b[43m,\u001b[49m\n\u001b[1;32m    684\u001b[0m \u001b[43m            \u001b[49m\u001b[43mX\u001b[49m\u001b[38;5;241;43m=\u001b[39;49m\u001b[43m_safe_indexing\u001b[49m\u001b[43m(\u001b[49m\u001b[43mX\u001b[49m\u001b[43m,\u001b[49m\u001b[43m \u001b[49m\u001b[43mcolumn\u001b[49m\u001b[43m,\u001b[49m\u001b[43m \u001b[49m\u001b[43maxis\u001b[49m\u001b[38;5;241;43m=\u001b[39;49m\u001b[38;5;241;43m1\u001b[39;49m\u001b[43m)\u001b[49m\u001b[43m,\u001b[49m\n\u001b[1;32m    685\u001b[0m \u001b[43m            \u001b[49m\u001b[43my\u001b[49m\u001b[38;5;241;43m=\u001b[39;49m\u001b[43my\u001b[49m\u001b[43m,\u001b[49m\n\u001b[1;32m    686\u001b[0m \u001b[43m            \u001b[49m\u001b[43mweight\u001b[49m\u001b[38;5;241;43m=\u001b[39;49m\u001b[43mweight\u001b[49m\u001b[43m,\u001b[49m\n\u001b[1;32m    687\u001b[0m \u001b[43m            \u001b[49m\u001b[43mmessage_clsname\u001b[49m\u001b[38;5;241;43m=\u001b[39;49m\u001b[38;5;124;43m\"\u001b[39;49m\u001b[38;5;124;43mColumnTransformer\u001b[39;49m\u001b[38;5;124;43m\"\u001b[39;49m\u001b[43m,\u001b[49m\n\u001b[1;32m    688\u001b[0m \u001b[43m            \u001b[49m\u001b[43mmessage\u001b[49m\u001b[38;5;241;43m=\u001b[39;49m\u001b[38;5;28;43mself\u001b[39;49m\u001b[38;5;241;43m.\u001b[39;49m\u001b[43m_log_message\u001b[49m\u001b[43m(\u001b[49m\u001b[43mname\u001b[49m\u001b[43m,\u001b[49m\u001b[43m \u001b[49m\u001b[43midx\u001b[49m\u001b[43m,\u001b[49m\u001b[43m \u001b[49m\u001b[38;5;28;43mlen\u001b[39;49m\u001b[43m(\u001b[49m\u001b[43mtransformers\u001b[49m\u001b[43m)\u001b[49m\u001b[43m)\u001b[49m\u001b[43m,\u001b[49m\n\u001b[1;32m    689\u001b[0m \u001b[43m        \u001b[49m\u001b[43m)\u001b[49m\n\u001b[1;32m    690\u001b[0m \u001b[43m        \u001b[49m\u001b[38;5;28;43;01mfor\u001b[39;49;00m\u001b[43m \u001b[49m\u001b[43midx\u001b[49m\u001b[43m,\u001b[49m\u001b[43m \u001b[49m\u001b[43m(\u001b[49m\u001b[43mname\u001b[49m\u001b[43m,\u001b[49m\u001b[43m \u001b[49m\u001b[43mtrans\u001b[49m\u001b[43m,\u001b[49m\u001b[43m \u001b[49m\u001b[43mcolumn\u001b[49m\u001b[43m,\u001b[49m\u001b[43m \u001b[49m\u001b[43mweight\u001b[49m\u001b[43m)\u001b[49m\u001b[43m \u001b[49m\u001b[38;5;129;43;01min\u001b[39;49;00m\u001b[43m \u001b[49m\u001b[38;5;28;43menumerate\u001b[39;49m\u001b[43m(\u001b[49m\u001b[43mtransformers\u001b[49m\u001b[43m,\u001b[49m\u001b[43m \u001b[49m\u001b[38;5;241;43m1\u001b[39;49m\u001b[43m)\u001b[49m\n\u001b[1;32m    691\u001b[0m \u001b[43m    \u001b[49m\u001b[43m)\u001b[49m\n\u001b[1;32m    692\u001b[0m \u001b[38;5;28;01mexcept\u001b[39;00m \u001b[38;5;167;01mValueError\u001b[39;00m \u001b[38;5;28;01mas\u001b[39;00m e:\n\u001b[1;32m    693\u001b[0m     \u001b[38;5;28;01mif\u001b[39;00m \u001b[38;5;124m\"\u001b[39m\u001b[38;5;124mExpected 2D array, got 1D array instead\u001b[39m\u001b[38;5;124m\"\u001b[39m \u001b[38;5;129;01min\u001b[39;00m \u001b[38;5;28mstr\u001b[39m(e):\n",
      "File \u001b[0;32m~/.pyenv/versions/3.10.6/envs/01-household-energy/lib/python3.10/site-packages/sklearn/utils/parallel.py:65\u001b[0m, in \u001b[0;36mParallel.__call__\u001b[0;34m(self, iterable)\u001b[0m\n\u001b[1;32m     60\u001b[0m config \u001b[38;5;241m=\u001b[39m get_config()\n\u001b[1;32m     61\u001b[0m iterable_with_config \u001b[38;5;241m=\u001b[39m (\n\u001b[1;32m     62\u001b[0m     (_with_config(delayed_func, config), args, kwargs)\n\u001b[1;32m     63\u001b[0m     \u001b[38;5;28;01mfor\u001b[39;00m delayed_func, args, kwargs \u001b[38;5;129;01min\u001b[39;00m iterable\n\u001b[1;32m     64\u001b[0m )\n\u001b[0;32m---> 65\u001b[0m \u001b[38;5;28;01mreturn\u001b[39;00m \u001b[38;5;28;43msuper\u001b[39;49m\u001b[43m(\u001b[49m\u001b[43m)\u001b[49m\u001b[38;5;241;43m.\u001b[39;49m\u001b[38;5;21;43m__call__\u001b[39;49m\u001b[43m(\u001b[49m\u001b[43miterable_with_config\u001b[49m\u001b[43m)\u001b[49m\n",
      "File \u001b[0;32m~/.pyenv/versions/3.10.6/envs/01-household-energy/lib/python3.10/site-packages/joblib/parallel.py:1863\u001b[0m, in \u001b[0;36mParallel.__call__\u001b[0;34m(self, iterable)\u001b[0m\n\u001b[1;32m   1861\u001b[0m     output \u001b[38;5;241m=\u001b[39m \u001b[38;5;28mself\u001b[39m\u001b[38;5;241m.\u001b[39m_get_sequential_output(iterable)\n\u001b[1;32m   1862\u001b[0m     \u001b[38;5;28mnext\u001b[39m(output)\n\u001b[0;32m-> 1863\u001b[0m     \u001b[38;5;28;01mreturn\u001b[39;00m output \u001b[38;5;28;01mif\u001b[39;00m \u001b[38;5;28mself\u001b[39m\u001b[38;5;241m.\u001b[39mreturn_generator \u001b[38;5;28;01melse\u001b[39;00m \u001b[38;5;28;43mlist\u001b[39;49m\u001b[43m(\u001b[49m\u001b[43moutput\u001b[49m\u001b[43m)\u001b[49m\n\u001b[1;32m   1865\u001b[0m \u001b[38;5;66;03m# Let's create an ID that uniquely identifies the current call. If the\u001b[39;00m\n\u001b[1;32m   1866\u001b[0m \u001b[38;5;66;03m# call is interrupted early and that the same instance is immediately\u001b[39;00m\n\u001b[1;32m   1867\u001b[0m \u001b[38;5;66;03m# re-used, this id will be used to prevent workers that were\u001b[39;00m\n\u001b[1;32m   1868\u001b[0m \u001b[38;5;66;03m# concurrently finalizing a task from the previous call to run the\u001b[39;00m\n\u001b[1;32m   1869\u001b[0m \u001b[38;5;66;03m# callback.\u001b[39;00m\n\u001b[1;32m   1870\u001b[0m \u001b[38;5;28;01mwith\u001b[39;00m \u001b[38;5;28mself\u001b[39m\u001b[38;5;241m.\u001b[39m_lock:\n",
      "File \u001b[0;32m~/.pyenv/versions/3.10.6/envs/01-household-energy/lib/python3.10/site-packages/joblib/parallel.py:1792\u001b[0m, in \u001b[0;36mParallel._get_sequential_output\u001b[0;34m(self, iterable)\u001b[0m\n\u001b[1;32m   1790\u001b[0m \u001b[38;5;28mself\u001b[39m\u001b[38;5;241m.\u001b[39mn_dispatched_batches \u001b[38;5;241m+\u001b[39m\u001b[38;5;241m=\u001b[39m \u001b[38;5;241m1\u001b[39m\n\u001b[1;32m   1791\u001b[0m \u001b[38;5;28mself\u001b[39m\u001b[38;5;241m.\u001b[39mn_dispatched_tasks \u001b[38;5;241m+\u001b[39m\u001b[38;5;241m=\u001b[39m \u001b[38;5;241m1\u001b[39m\n\u001b[0;32m-> 1792\u001b[0m res \u001b[38;5;241m=\u001b[39m \u001b[43mfunc\u001b[49m\u001b[43m(\u001b[49m\u001b[38;5;241;43m*\u001b[39;49m\u001b[43margs\u001b[49m\u001b[43m,\u001b[49m\u001b[43m \u001b[49m\u001b[38;5;241;43m*\u001b[39;49m\u001b[38;5;241;43m*\u001b[39;49m\u001b[43mkwargs\u001b[49m\u001b[43m)\u001b[49m\n\u001b[1;32m   1793\u001b[0m \u001b[38;5;28mself\u001b[39m\u001b[38;5;241m.\u001b[39mn_completed_tasks \u001b[38;5;241m+\u001b[39m\u001b[38;5;241m=\u001b[39m \u001b[38;5;241m1\u001b[39m\n\u001b[1;32m   1794\u001b[0m \u001b[38;5;28mself\u001b[39m\u001b[38;5;241m.\u001b[39mprint_progress()\n",
      "File \u001b[0;32m~/.pyenv/versions/3.10.6/envs/01-household-energy/lib/python3.10/site-packages/sklearn/utils/parallel.py:127\u001b[0m, in \u001b[0;36m_FuncWrapper.__call__\u001b[0;34m(self, *args, **kwargs)\u001b[0m\n\u001b[1;32m    125\u001b[0m     config \u001b[38;5;241m=\u001b[39m {}\n\u001b[1;32m    126\u001b[0m \u001b[38;5;28;01mwith\u001b[39;00m config_context(\u001b[38;5;241m*\u001b[39m\u001b[38;5;241m*\u001b[39mconfig):\n\u001b[0;32m--> 127\u001b[0m     \u001b[38;5;28;01mreturn\u001b[39;00m \u001b[38;5;28;43mself\u001b[39;49m\u001b[38;5;241;43m.\u001b[39;49m\u001b[43mfunction\u001b[49m\u001b[43m(\u001b[49m\u001b[38;5;241;43m*\u001b[39;49m\u001b[43margs\u001b[49m\u001b[43m,\u001b[49m\u001b[43m \u001b[49m\u001b[38;5;241;43m*\u001b[39;49m\u001b[38;5;241;43m*\u001b[39;49m\u001b[43mkwargs\u001b[49m\u001b[43m)\u001b[49m\n",
      "File \u001b[0;32m~/.pyenv/versions/3.10.6/envs/01-household-energy/lib/python3.10/site-packages/sklearn/pipeline.py:940\u001b[0m, in \u001b[0;36m_transform_one\u001b[0;34m(transformer, X, y, weight, **fit_params)\u001b[0m\n\u001b[1;32m    939\u001b[0m \u001b[38;5;28;01mdef\u001b[39;00m \u001b[38;5;21m_transform_one\u001b[39m(transformer, X, y, weight, \u001b[38;5;241m*\u001b[39m\u001b[38;5;241m*\u001b[39mfit_params):\n\u001b[0;32m--> 940\u001b[0m     res \u001b[38;5;241m=\u001b[39m \u001b[43mtransformer\u001b[49m\u001b[38;5;241;43m.\u001b[39;49m\u001b[43mtransform\u001b[49m\u001b[43m(\u001b[49m\u001b[43mX\u001b[49m\u001b[43m)\u001b[49m\n\u001b[1;32m    941\u001b[0m     \u001b[38;5;66;03m# if we have a weight for this transformer, multiply output\u001b[39;00m\n\u001b[1;32m    942\u001b[0m     \u001b[38;5;28;01mif\u001b[39;00m weight \u001b[38;5;129;01mis\u001b[39;00m \u001b[38;5;28;01mNone\u001b[39;00m:\n",
      "File \u001b[0;32m~/.pyenv/versions/3.10.6/envs/01-household-energy/lib/python3.10/site-packages/sklearn/utils/_set_output.py:157\u001b[0m, in \u001b[0;36m_wrap_method_output.<locals>.wrapped\u001b[0;34m(self, X, *args, **kwargs)\u001b[0m\n\u001b[1;32m    155\u001b[0m \u001b[38;5;129m@wraps\u001b[39m(f)\n\u001b[1;32m    156\u001b[0m \u001b[38;5;28;01mdef\u001b[39;00m \u001b[38;5;21mwrapped\u001b[39m(\u001b[38;5;28mself\u001b[39m, X, \u001b[38;5;241m*\u001b[39margs, \u001b[38;5;241m*\u001b[39m\u001b[38;5;241m*\u001b[39mkwargs):\n\u001b[0;32m--> 157\u001b[0m     data_to_wrap \u001b[38;5;241m=\u001b[39m \u001b[43mf\u001b[49m\u001b[43m(\u001b[49m\u001b[38;5;28;43mself\u001b[39;49m\u001b[43m,\u001b[49m\u001b[43m \u001b[49m\u001b[43mX\u001b[49m\u001b[43m,\u001b[49m\u001b[43m \u001b[49m\u001b[38;5;241;43m*\u001b[39;49m\u001b[43margs\u001b[49m\u001b[43m,\u001b[49m\u001b[43m \u001b[49m\u001b[38;5;241;43m*\u001b[39;49m\u001b[38;5;241;43m*\u001b[39;49m\u001b[43mkwargs\u001b[49m\u001b[43m)\u001b[49m\n\u001b[1;32m    158\u001b[0m     \u001b[38;5;28;01mif\u001b[39;00m \u001b[38;5;28misinstance\u001b[39m(data_to_wrap, \u001b[38;5;28mtuple\u001b[39m):\n\u001b[1;32m    159\u001b[0m         \u001b[38;5;66;03m# only wrap the first output for cross decomposition\u001b[39;00m\n\u001b[1;32m    160\u001b[0m         return_tuple \u001b[38;5;241m=\u001b[39m (\n\u001b[1;32m    161\u001b[0m             _wrap_data_with_container(method, data_to_wrap[\u001b[38;5;241m0\u001b[39m], X, \u001b[38;5;28mself\u001b[39m),\n\u001b[1;32m    162\u001b[0m             \u001b[38;5;241m*\u001b[39mdata_to_wrap[\u001b[38;5;241m1\u001b[39m:],\n\u001b[1;32m    163\u001b[0m         )\n",
      "File \u001b[0;32m~/.pyenv/versions/3.10.6/envs/01-household-energy/lib/python3.10/site-packages/sklearn/preprocessing/_encoders.py:1027\u001b[0m, in \u001b[0;36mOneHotEncoder.transform\u001b[0;34m(self, X)\u001b[0m\n\u001b[1;32m   1022\u001b[0m \u001b[38;5;66;03m# validation of X happens in _check_X called by _transform\u001b[39;00m\n\u001b[1;32m   1023\u001b[0m warn_on_unknown \u001b[38;5;241m=\u001b[39m \u001b[38;5;28mself\u001b[39m\u001b[38;5;241m.\u001b[39mdrop \u001b[38;5;129;01mis\u001b[39;00m \u001b[38;5;129;01mnot\u001b[39;00m \u001b[38;5;28;01mNone\u001b[39;00m \u001b[38;5;129;01mand\u001b[39;00m \u001b[38;5;28mself\u001b[39m\u001b[38;5;241m.\u001b[39mhandle_unknown \u001b[38;5;129;01min\u001b[39;00m {\n\u001b[1;32m   1024\u001b[0m     \u001b[38;5;124m\"\u001b[39m\u001b[38;5;124mignore\u001b[39m\u001b[38;5;124m\"\u001b[39m,\n\u001b[1;32m   1025\u001b[0m     \u001b[38;5;124m\"\u001b[39m\u001b[38;5;124minfrequent_if_exist\u001b[39m\u001b[38;5;124m\"\u001b[39m,\n\u001b[1;32m   1026\u001b[0m }\n\u001b[0;32m-> 1027\u001b[0m X_int, X_mask \u001b[38;5;241m=\u001b[39m \u001b[38;5;28;43mself\u001b[39;49m\u001b[38;5;241;43m.\u001b[39;49m\u001b[43m_transform\u001b[49m\u001b[43m(\u001b[49m\n\u001b[1;32m   1028\u001b[0m \u001b[43m    \u001b[49m\u001b[43mX\u001b[49m\u001b[43m,\u001b[49m\n\u001b[1;32m   1029\u001b[0m \u001b[43m    \u001b[49m\u001b[43mhandle_unknown\u001b[49m\u001b[38;5;241;43m=\u001b[39;49m\u001b[38;5;28;43mself\u001b[39;49m\u001b[38;5;241;43m.\u001b[39;49m\u001b[43mhandle_unknown\u001b[49m\u001b[43m,\u001b[49m\n\u001b[1;32m   1030\u001b[0m \u001b[43m    \u001b[49m\u001b[43mforce_all_finite\u001b[49m\u001b[38;5;241;43m=\u001b[39;49m\u001b[38;5;124;43m\"\u001b[39;49m\u001b[38;5;124;43mallow-nan\u001b[39;49m\u001b[38;5;124;43m\"\u001b[39;49m\u001b[43m,\u001b[49m\n\u001b[1;32m   1031\u001b[0m \u001b[43m    \u001b[49m\u001b[43mwarn_on_unknown\u001b[49m\u001b[38;5;241;43m=\u001b[39;49m\u001b[43mwarn_on_unknown\u001b[49m\u001b[43m,\u001b[49m\n\u001b[1;32m   1032\u001b[0m \u001b[43m\u001b[49m\u001b[43m)\u001b[49m\n\u001b[1;32m   1034\u001b[0m n_samples, n_features \u001b[38;5;241m=\u001b[39m X_int\u001b[38;5;241m.\u001b[39mshape\n\u001b[1;32m   1036\u001b[0m \u001b[38;5;28;01mif\u001b[39;00m \u001b[38;5;28mself\u001b[39m\u001b[38;5;241m.\u001b[39m_drop_idx_after_grouping \u001b[38;5;129;01mis\u001b[39;00m \u001b[38;5;129;01mnot\u001b[39;00m \u001b[38;5;28;01mNone\u001b[39;00m:\n",
      "File \u001b[0;32m~/.pyenv/versions/3.10.6/envs/01-household-energy/lib/python3.10/site-packages/sklearn/preprocessing/_encoders.py:192\u001b[0m, in \u001b[0;36m_BaseEncoder._transform\u001b[0;34m(self, X, handle_unknown, force_all_finite, warn_on_unknown, ignore_category_indices)\u001b[0m\n\u001b[1;32m    190\u001b[0m \u001b[38;5;28;01mfor\u001b[39;00m i \u001b[38;5;129;01min\u001b[39;00m \u001b[38;5;28mrange\u001b[39m(n_features):\n\u001b[1;32m    191\u001b[0m     Xi \u001b[38;5;241m=\u001b[39m X_list[i]\n\u001b[0;32m--> 192\u001b[0m     diff, valid_mask \u001b[38;5;241m=\u001b[39m \u001b[43m_check_unknown\u001b[49m\u001b[43m(\u001b[49m\u001b[43mXi\u001b[49m\u001b[43m,\u001b[49m\u001b[43m \u001b[49m\u001b[38;5;28;43mself\u001b[39;49m\u001b[38;5;241;43m.\u001b[39;49m\u001b[43mcategories_\u001b[49m\u001b[43m[\u001b[49m\u001b[43mi\u001b[49m\u001b[43m]\u001b[49m\u001b[43m,\u001b[49m\u001b[43m \u001b[49m\u001b[43mreturn_mask\u001b[49m\u001b[38;5;241;43m=\u001b[39;49m\u001b[38;5;28;43;01mTrue\u001b[39;49;00m\u001b[43m)\u001b[49m\n\u001b[1;32m    194\u001b[0m     \u001b[38;5;28;01mif\u001b[39;00m \u001b[38;5;129;01mnot\u001b[39;00m np\u001b[38;5;241m.\u001b[39mall(valid_mask):\n\u001b[1;32m    195\u001b[0m         \u001b[38;5;28;01mif\u001b[39;00m handle_unknown \u001b[38;5;241m==\u001b[39m \u001b[38;5;124m\"\u001b[39m\u001b[38;5;124merror\u001b[39m\u001b[38;5;124m\"\u001b[39m:\n",
      "File \u001b[0;32m~/.pyenv/versions/3.10.6/envs/01-household-energy/lib/python3.10/site-packages/sklearn/utils/_encode.py:304\u001b[0m, in \u001b[0;36m_check_unknown\u001b[0;34m(values, known_values, return_mask)\u001b[0m\n\u001b[1;32m    301\u001b[0m         valid_mask \u001b[38;5;241m=\u001b[39m np\u001b[38;5;241m.\u001b[39mones(\u001b[38;5;28mlen\u001b[39m(values), dtype\u001b[38;5;241m=\u001b[39m\u001b[38;5;28mbool\u001b[39m)\n\u001b[1;32m    303\u001b[0m \u001b[38;5;66;03m# check for nans in the known_values\u001b[39;00m\n\u001b[0;32m--> 304\u001b[0m \u001b[38;5;28;01mif\u001b[39;00m \u001b[43mnp\u001b[49m\u001b[38;5;241;43m.\u001b[39;49m\u001b[43misnan\u001b[49m\u001b[43m(\u001b[49m\u001b[43mknown_values\u001b[49m\u001b[43m)\u001b[49m\u001b[38;5;241m.\u001b[39many():\n\u001b[1;32m    305\u001b[0m     diff_is_nan \u001b[38;5;241m=\u001b[39m np\u001b[38;5;241m.\u001b[39misnan(diff)\n\u001b[1;32m    306\u001b[0m     \u001b[38;5;28;01mif\u001b[39;00m diff_is_nan\u001b[38;5;241m.\u001b[39many():\n\u001b[1;32m    307\u001b[0m         \u001b[38;5;66;03m# removes nan from valid_mask\u001b[39;00m\n",
      "\u001b[0;31mTypeError\u001b[0m: ufunc 'isnan' not supported for the input types, and the inputs could not be safely coerced to any supported types according to the casting rule ''safe''"
     ]
    }
   ],
   "source": [
    "pipe.predict(make_X_new(X_test.iloc[0,:]))"
   ]
  },
  {
   "cell_type": "code",
   "execution_count": 158,
   "id": "21cfaf84-889b-46b5-912f-2c4423a5a667",
   "metadata": {},
   "outputs": [
    {
     "data": {
      "text/html": [
       "<div>\n",
       "<style scoped>\n",
       "    .dataframe tbody tr th:only-of-type {\n",
       "        vertical-align: middle;\n",
       "    }\n",
       "\n",
       "    .dataframe tbody tr th {\n",
       "        vertical-align: top;\n",
       "    }\n",
       "\n",
       "    .dataframe thead th {\n",
       "        text-align: right;\n",
       "    }\n",
       "</style>\n",
       "<table border=\"1\" class=\"dataframe\">\n",
       "  <thead>\n",
       "    <tr style=\"text-align: right;\">\n",
       "      <th></th>\n",
       "      <th>SWIMPOOL</th>\n",
       "      <th>NUMPORTEL</th>\n",
       "      <th>SOLAR</th>\n",
       "      <th>SMARTMETER</th>\n",
       "      <th>REGIONC</th>\n",
       "      <th>state_name</th>\n",
       "      <th>BA_climate</th>\n",
       "      <th>TYPEHUQ</th>\n",
       "      <th>STORIES</th>\n",
       "      <th>YEARMADERANGE</th>\n",
       "      <th>...</th>\n",
       "      <th>TVCOLOR</th>\n",
       "      <th>TELLWORK</th>\n",
       "      <th>HEATHOME</th>\n",
       "      <th>EQUIPM</th>\n",
       "      <th>AIRCOND</th>\n",
       "      <th>NHSLDMEM</th>\n",
       "      <th>SQFTEST</th>\n",
       "      <th>TOTAL_BATH</th>\n",
       "      <th>TOTAL_COMP</th>\n",
       "      <th>TOTAL_LIGHT</th>\n",
       "    </tr>\n",
       "  </thead>\n",
       "  <tbody>\n",
       "    <tr>\n",
       "      <th>0</th>\n",
       "      <td>0</td>\n",
       "      <td>0</td>\n",
       "      <td>0</td>\n",
       "      <td>1</td>\n",
       "      <td>SOUTH</td>\n",
       "      <td>Florida</td>\n",
       "      <td>Hot-Humid</td>\n",
       "      <td>Single_detached</td>\n",
       "      <td>1</td>\n",
       "      <td>2016-20</td>\n",
       "      <td>...</td>\n",
       "      <td>4</td>\n",
       "      <td>0</td>\n",
       "      <td>0</td>\n",
       "      <td>Other</td>\n",
       "      <td>1</td>\n",
       "      <td>7</td>\n",
       "      <td>2200</td>\n",
       "      <td>2</td>\n",
       "      <td>1</td>\n",
       "      <td>6</td>\n",
       "    </tr>\n",
       "  </tbody>\n",
       "</table>\n",
       "<p>1 rows × 27 columns</p>\n",
       "</div>"
      ],
      "text/plain": [
       "   SWIMPOOL  NUMPORTEL  SOLAR  SMARTMETER REGIONC state_name BA_climate  \\\n",
       "0         0          0      0           1   SOUTH    Florida  Hot-Humid   \n",
       "\n",
       "           TYPEHUQ  STORIES YEARMADERANGE  ...  TVCOLOR  TELLWORK  HEATHOME  \\\n",
       "0  Single_detached        1       2016-20  ...        4         0         0   \n",
       "\n",
       "   EQUIPM  AIRCOND  NHSLDMEM  SQFTEST  TOTAL_BATH  TOTAL_COMP  TOTAL_LIGHT  \n",
       "0   Other        1         7     2200           2           1            6  \n",
       "\n",
       "[1 rows x 27 columns]"
      ]
     },
     "execution_count": 158,
     "metadata": {},
     "output_type": "execute_result"
    }
   ],
   "source": [
    "make_X_new(X_test.iloc[0,:])"
   ]
  },
  {
   "cell_type": "code",
   "execution_count": 159,
   "id": "739ca1a5-7dd8-4912-8432-a67848b958a3",
   "metadata": {},
   "outputs": [
    {
     "ename": "TypeError",
     "evalue": "ufunc 'isnan' not supported for the input types, and the inputs could not be safely coerced to any supported types according to the casting rule ''safe''",
     "output_type": "error",
     "traceback": [
      "\u001b[0;31m---------------------------------------------------------------------------\u001b[0m",
      "\u001b[0;31mTypeError\u001b[0m                                 Traceback (most recent call last)",
      "Cell \u001b[0;32mIn[159], line 1\u001b[0m\n\u001b[0;32m----> 1\u001b[0m \u001b[43mpipe\u001b[49m\u001b[38;5;241;43m.\u001b[39;49m\u001b[43mpredict\u001b[49m\u001b[43m(\u001b[49m\u001b[43mmake_X_new\u001b[49m\u001b[43m(\u001b[49m\u001b[43mX_test\u001b[49m\u001b[38;5;241;43m.\u001b[39;49m\u001b[43miloc\u001b[49m\u001b[43m[\u001b[49m\u001b[38;5;241;43m0\u001b[39;49m\u001b[43m,\u001b[49m\u001b[43m:\u001b[49m\u001b[43m]\u001b[49m\u001b[43m)\u001b[49m\u001b[43m)\u001b[49m\n",
      "File \u001b[0;32m~/.pyenv/versions/3.10.6/envs/01-household-energy/lib/python3.10/site-packages/sklearn/pipeline.py:514\u001b[0m, in \u001b[0;36mPipeline.predict\u001b[0;34m(self, X, **predict_params)\u001b[0m\n\u001b[1;32m    512\u001b[0m Xt \u001b[38;5;241m=\u001b[39m X\n\u001b[1;32m    513\u001b[0m \u001b[38;5;28;01mfor\u001b[39;00m _, name, transform \u001b[38;5;129;01min\u001b[39;00m \u001b[38;5;28mself\u001b[39m\u001b[38;5;241m.\u001b[39m_iter(with_final\u001b[38;5;241m=\u001b[39m\u001b[38;5;28;01mFalse\u001b[39;00m):\n\u001b[0;32m--> 514\u001b[0m     Xt \u001b[38;5;241m=\u001b[39m \u001b[43mtransform\u001b[49m\u001b[38;5;241;43m.\u001b[39;49m\u001b[43mtransform\u001b[49m\u001b[43m(\u001b[49m\u001b[43mXt\u001b[49m\u001b[43m)\u001b[49m\n\u001b[1;32m    515\u001b[0m \u001b[38;5;28;01mreturn\u001b[39;00m \u001b[38;5;28mself\u001b[39m\u001b[38;5;241m.\u001b[39msteps[\u001b[38;5;241m-\u001b[39m\u001b[38;5;241m1\u001b[39m][\u001b[38;5;241m1\u001b[39m]\u001b[38;5;241m.\u001b[39mpredict(Xt, \u001b[38;5;241m*\u001b[39m\u001b[38;5;241m*\u001b[39mpredict_params)\n",
      "File \u001b[0;32m~/.pyenv/versions/3.10.6/envs/01-household-energy/lib/python3.10/site-packages/sklearn/utils/_set_output.py:157\u001b[0m, in \u001b[0;36m_wrap_method_output.<locals>.wrapped\u001b[0;34m(self, X, *args, **kwargs)\u001b[0m\n\u001b[1;32m    155\u001b[0m \u001b[38;5;129m@wraps\u001b[39m(f)\n\u001b[1;32m    156\u001b[0m \u001b[38;5;28;01mdef\u001b[39;00m \u001b[38;5;21mwrapped\u001b[39m(\u001b[38;5;28mself\u001b[39m, X, \u001b[38;5;241m*\u001b[39margs, \u001b[38;5;241m*\u001b[39m\u001b[38;5;241m*\u001b[39mkwargs):\n\u001b[0;32m--> 157\u001b[0m     data_to_wrap \u001b[38;5;241m=\u001b[39m \u001b[43mf\u001b[49m\u001b[43m(\u001b[49m\u001b[38;5;28;43mself\u001b[39;49m\u001b[43m,\u001b[49m\u001b[43m \u001b[49m\u001b[43mX\u001b[49m\u001b[43m,\u001b[49m\u001b[43m \u001b[49m\u001b[38;5;241;43m*\u001b[39;49m\u001b[43margs\u001b[49m\u001b[43m,\u001b[49m\u001b[43m \u001b[49m\u001b[38;5;241;43m*\u001b[39;49m\u001b[38;5;241;43m*\u001b[39;49m\u001b[43mkwargs\u001b[49m\u001b[43m)\u001b[49m\n\u001b[1;32m    158\u001b[0m     \u001b[38;5;28;01mif\u001b[39;00m \u001b[38;5;28misinstance\u001b[39m(data_to_wrap, \u001b[38;5;28mtuple\u001b[39m):\n\u001b[1;32m    159\u001b[0m         \u001b[38;5;66;03m# only wrap the first output for cross decomposition\u001b[39;00m\n\u001b[1;32m    160\u001b[0m         return_tuple \u001b[38;5;241m=\u001b[39m (\n\u001b[1;32m    161\u001b[0m             _wrap_data_with_container(method, data_to_wrap[\u001b[38;5;241m0\u001b[39m], X, \u001b[38;5;28mself\u001b[39m),\n\u001b[1;32m    162\u001b[0m             \u001b[38;5;241m*\u001b[39mdata_to_wrap[\u001b[38;5;241m1\u001b[39m:],\n\u001b[1;32m    163\u001b[0m         )\n",
      "File \u001b[0;32m~/.pyenv/versions/3.10.6/envs/01-household-energy/lib/python3.10/site-packages/sklearn/compose/_column_transformer.py:827\u001b[0m, in \u001b[0;36mColumnTransformer.transform\u001b[0;34m(self, X)\u001b[0m\n\u001b[1;32m    822\u001b[0m \u001b[38;5;28;01melse\u001b[39;00m:\n\u001b[1;32m    823\u001b[0m     \u001b[38;5;66;03m# ndarray was used for fitting or transforming, thus we only\u001b[39;00m\n\u001b[1;32m    824\u001b[0m     \u001b[38;5;66;03m# check that n_features_in_ is consistent\u001b[39;00m\n\u001b[1;32m    825\u001b[0m     \u001b[38;5;28mself\u001b[39m\u001b[38;5;241m.\u001b[39m_check_n_features(X, reset\u001b[38;5;241m=\u001b[39m\u001b[38;5;28;01mFalse\u001b[39;00m)\n\u001b[0;32m--> 827\u001b[0m Xs \u001b[38;5;241m=\u001b[39m \u001b[38;5;28;43mself\u001b[39;49m\u001b[38;5;241;43m.\u001b[39;49m\u001b[43m_fit_transform\u001b[49m\u001b[43m(\u001b[49m\n\u001b[1;32m    828\u001b[0m \u001b[43m    \u001b[49m\u001b[43mX\u001b[49m\u001b[43m,\u001b[49m\n\u001b[1;32m    829\u001b[0m \u001b[43m    \u001b[49m\u001b[38;5;28;43;01mNone\u001b[39;49;00m\u001b[43m,\u001b[49m\n\u001b[1;32m    830\u001b[0m \u001b[43m    \u001b[49m\u001b[43m_transform_one\u001b[49m\u001b[43m,\u001b[49m\n\u001b[1;32m    831\u001b[0m \u001b[43m    \u001b[49m\u001b[43mfitted\u001b[49m\u001b[38;5;241;43m=\u001b[39;49m\u001b[38;5;28;43;01mTrue\u001b[39;49;00m\u001b[43m,\u001b[49m\n\u001b[1;32m    832\u001b[0m \u001b[43m    \u001b[49m\u001b[43mcolumn_as_strings\u001b[49m\u001b[38;5;241;43m=\u001b[39;49m\u001b[43mfit_dataframe_and_transform_dataframe\u001b[49m\u001b[43m,\u001b[49m\n\u001b[1;32m    833\u001b[0m \u001b[43m\u001b[49m\u001b[43m)\u001b[49m\n\u001b[1;32m    834\u001b[0m \u001b[38;5;28mself\u001b[39m\u001b[38;5;241m.\u001b[39m_validate_output(Xs)\n\u001b[1;32m    836\u001b[0m \u001b[38;5;28;01mif\u001b[39;00m \u001b[38;5;129;01mnot\u001b[39;00m Xs:\n\u001b[1;32m    837\u001b[0m     \u001b[38;5;66;03m# All transformers are None\u001b[39;00m\n",
      "File \u001b[0;32m~/.pyenv/versions/3.10.6/envs/01-household-energy/lib/python3.10/site-packages/sklearn/compose/_column_transformer.py:681\u001b[0m, in \u001b[0;36mColumnTransformer._fit_transform\u001b[0;34m(self, X, y, func, fitted, column_as_strings)\u001b[0m\n\u001b[1;32m    675\u001b[0m transformers \u001b[38;5;241m=\u001b[39m \u001b[38;5;28mlist\u001b[39m(\n\u001b[1;32m    676\u001b[0m     \u001b[38;5;28mself\u001b[39m\u001b[38;5;241m.\u001b[39m_iter(\n\u001b[1;32m    677\u001b[0m         fitted\u001b[38;5;241m=\u001b[39mfitted, replace_strings\u001b[38;5;241m=\u001b[39m\u001b[38;5;28;01mTrue\u001b[39;00m, column_as_strings\u001b[38;5;241m=\u001b[39mcolumn_as_strings\n\u001b[1;32m    678\u001b[0m     )\n\u001b[1;32m    679\u001b[0m )\n\u001b[1;32m    680\u001b[0m \u001b[38;5;28;01mtry\u001b[39;00m:\n\u001b[0;32m--> 681\u001b[0m     \u001b[38;5;28;01mreturn\u001b[39;00m \u001b[43mParallel\u001b[49m\u001b[43m(\u001b[49m\u001b[43mn_jobs\u001b[49m\u001b[38;5;241;43m=\u001b[39;49m\u001b[38;5;28;43mself\u001b[39;49m\u001b[38;5;241;43m.\u001b[39;49m\u001b[43mn_jobs\u001b[49m\u001b[43m)\u001b[49m\u001b[43m(\u001b[49m\n\u001b[1;32m    682\u001b[0m \u001b[43m        \u001b[49m\u001b[43mdelayed\u001b[49m\u001b[43m(\u001b[49m\u001b[43mfunc\u001b[49m\u001b[43m)\u001b[49m\u001b[43m(\u001b[49m\n\u001b[1;32m    683\u001b[0m \u001b[43m            \u001b[49m\u001b[43mtransformer\u001b[49m\u001b[38;5;241;43m=\u001b[39;49m\u001b[43mclone\u001b[49m\u001b[43m(\u001b[49m\u001b[43mtrans\u001b[49m\u001b[43m)\u001b[49m\u001b[43m \u001b[49m\u001b[38;5;28;43;01mif\u001b[39;49;00m\u001b[43m \u001b[49m\u001b[38;5;129;43;01mnot\u001b[39;49;00m\u001b[43m \u001b[49m\u001b[43mfitted\u001b[49m\u001b[43m \u001b[49m\u001b[38;5;28;43;01melse\u001b[39;49;00m\u001b[43m \u001b[49m\u001b[43mtrans\u001b[49m\u001b[43m,\u001b[49m\n\u001b[1;32m    684\u001b[0m \u001b[43m            \u001b[49m\u001b[43mX\u001b[49m\u001b[38;5;241;43m=\u001b[39;49m\u001b[43m_safe_indexing\u001b[49m\u001b[43m(\u001b[49m\u001b[43mX\u001b[49m\u001b[43m,\u001b[49m\u001b[43m \u001b[49m\u001b[43mcolumn\u001b[49m\u001b[43m,\u001b[49m\u001b[43m \u001b[49m\u001b[43maxis\u001b[49m\u001b[38;5;241;43m=\u001b[39;49m\u001b[38;5;241;43m1\u001b[39;49m\u001b[43m)\u001b[49m\u001b[43m,\u001b[49m\n\u001b[1;32m    685\u001b[0m \u001b[43m            \u001b[49m\u001b[43my\u001b[49m\u001b[38;5;241;43m=\u001b[39;49m\u001b[43my\u001b[49m\u001b[43m,\u001b[49m\n\u001b[1;32m    686\u001b[0m \u001b[43m            \u001b[49m\u001b[43mweight\u001b[49m\u001b[38;5;241;43m=\u001b[39;49m\u001b[43mweight\u001b[49m\u001b[43m,\u001b[49m\n\u001b[1;32m    687\u001b[0m \u001b[43m            \u001b[49m\u001b[43mmessage_clsname\u001b[49m\u001b[38;5;241;43m=\u001b[39;49m\u001b[38;5;124;43m\"\u001b[39;49m\u001b[38;5;124;43mColumnTransformer\u001b[39;49m\u001b[38;5;124;43m\"\u001b[39;49m\u001b[43m,\u001b[49m\n\u001b[1;32m    688\u001b[0m \u001b[43m            \u001b[49m\u001b[43mmessage\u001b[49m\u001b[38;5;241;43m=\u001b[39;49m\u001b[38;5;28;43mself\u001b[39;49m\u001b[38;5;241;43m.\u001b[39;49m\u001b[43m_log_message\u001b[49m\u001b[43m(\u001b[49m\u001b[43mname\u001b[49m\u001b[43m,\u001b[49m\u001b[43m \u001b[49m\u001b[43midx\u001b[49m\u001b[43m,\u001b[49m\u001b[43m \u001b[49m\u001b[38;5;28;43mlen\u001b[39;49m\u001b[43m(\u001b[49m\u001b[43mtransformers\u001b[49m\u001b[43m)\u001b[49m\u001b[43m)\u001b[49m\u001b[43m,\u001b[49m\n\u001b[1;32m    689\u001b[0m \u001b[43m        \u001b[49m\u001b[43m)\u001b[49m\n\u001b[1;32m    690\u001b[0m \u001b[43m        \u001b[49m\u001b[38;5;28;43;01mfor\u001b[39;49;00m\u001b[43m \u001b[49m\u001b[43midx\u001b[49m\u001b[43m,\u001b[49m\u001b[43m \u001b[49m\u001b[43m(\u001b[49m\u001b[43mname\u001b[49m\u001b[43m,\u001b[49m\u001b[43m \u001b[49m\u001b[43mtrans\u001b[49m\u001b[43m,\u001b[49m\u001b[43m \u001b[49m\u001b[43mcolumn\u001b[49m\u001b[43m,\u001b[49m\u001b[43m \u001b[49m\u001b[43mweight\u001b[49m\u001b[43m)\u001b[49m\u001b[43m \u001b[49m\u001b[38;5;129;43;01min\u001b[39;49;00m\u001b[43m \u001b[49m\u001b[38;5;28;43menumerate\u001b[39;49m\u001b[43m(\u001b[49m\u001b[43mtransformers\u001b[49m\u001b[43m,\u001b[49m\u001b[43m \u001b[49m\u001b[38;5;241;43m1\u001b[39;49m\u001b[43m)\u001b[49m\n\u001b[1;32m    691\u001b[0m \u001b[43m    \u001b[49m\u001b[43m)\u001b[49m\n\u001b[1;32m    692\u001b[0m \u001b[38;5;28;01mexcept\u001b[39;00m \u001b[38;5;167;01mValueError\u001b[39;00m \u001b[38;5;28;01mas\u001b[39;00m e:\n\u001b[1;32m    693\u001b[0m     \u001b[38;5;28;01mif\u001b[39;00m \u001b[38;5;124m\"\u001b[39m\u001b[38;5;124mExpected 2D array, got 1D array instead\u001b[39m\u001b[38;5;124m\"\u001b[39m \u001b[38;5;129;01min\u001b[39;00m \u001b[38;5;28mstr\u001b[39m(e):\n",
      "File \u001b[0;32m~/.pyenv/versions/3.10.6/envs/01-household-energy/lib/python3.10/site-packages/sklearn/utils/parallel.py:65\u001b[0m, in \u001b[0;36mParallel.__call__\u001b[0;34m(self, iterable)\u001b[0m\n\u001b[1;32m     60\u001b[0m config \u001b[38;5;241m=\u001b[39m get_config()\n\u001b[1;32m     61\u001b[0m iterable_with_config \u001b[38;5;241m=\u001b[39m (\n\u001b[1;32m     62\u001b[0m     (_with_config(delayed_func, config), args, kwargs)\n\u001b[1;32m     63\u001b[0m     \u001b[38;5;28;01mfor\u001b[39;00m delayed_func, args, kwargs \u001b[38;5;129;01min\u001b[39;00m iterable\n\u001b[1;32m     64\u001b[0m )\n\u001b[0;32m---> 65\u001b[0m \u001b[38;5;28;01mreturn\u001b[39;00m \u001b[38;5;28;43msuper\u001b[39;49m\u001b[43m(\u001b[49m\u001b[43m)\u001b[49m\u001b[38;5;241;43m.\u001b[39;49m\u001b[38;5;21;43m__call__\u001b[39;49m\u001b[43m(\u001b[49m\u001b[43miterable_with_config\u001b[49m\u001b[43m)\u001b[49m\n",
      "File \u001b[0;32m~/.pyenv/versions/3.10.6/envs/01-household-energy/lib/python3.10/site-packages/joblib/parallel.py:1863\u001b[0m, in \u001b[0;36mParallel.__call__\u001b[0;34m(self, iterable)\u001b[0m\n\u001b[1;32m   1861\u001b[0m     output \u001b[38;5;241m=\u001b[39m \u001b[38;5;28mself\u001b[39m\u001b[38;5;241m.\u001b[39m_get_sequential_output(iterable)\n\u001b[1;32m   1862\u001b[0m     \u001b[38;5;28mnext\u001b[39m(output)\n\u001b[0;32m-> 1863\u001b[0m     \u001b[38;5;28;01mreturn\u001b[39;00m output \u001b[38;5;28;01mif\u001b[39;00m \u001b[38;5;28mself\u001b[39m\u001b[38;5;241m.\u001b[39mreturn_generator \u001b[38;5;28;01melse\u001b[39;00m \u001b[38;5;28;43mlist\u001b[39;49m\u001b[43m(\u001b[49m\u001b[43moutput\u001b[49m\u001b[43m)\u001b[49m\n\u001b[1;32m   1865\u001b[0m \u001b[38;5;66;03m# Let's create an ID that uniquely identifies the current call. If the\u001b[39;00m\n\u001b[1;32m   1866\u001b[0m \u001b[38;5;66;03m# call is interrupted early and that the same instance is immediately\u001b[39;00m\n\u001b[1;32m   1867\u001b[0m \u001b[38;5;66;03m# re-used, this id will be used to prevent workers that were\u001b[39;00m\n\u001b[1;32m   1868\u001b[0m \u001b[38;5;66;03m# concurrently finalizing a task from the previous call to run the\u001b[39;00m\n\u001b[1;32m   1869\u001b[0m \u001b[38;5;66;03m# callback.\u001b[39;00m\n\u001b[1;32m   1870\u001b[0m \u001b[38;5;28;01mwith\u001b[39;00m \u001b[38;5;28mself\u001b[39m\u001b[38;5;241m.\u001b[39m_lock:\n",
      "File \u001b[0;32m~/.pyenv/versions/3.10.6/envs/01-household-energy/lib/python3.10/site-packages/joblib/parallel.py:1792\u001b[0m, in \u001b[0;36mParallel._get_sequential_output\u001b[0;34m(self, iterable)\u001b[0m\n\u001b[1;32m   1790\u001b[0m \u001b[38;5;28mself\u001b[39m\u001b[38;5;241m.\u001b[39mn_dispatched_batches \u001b[38;5;241m+\u001b[39m\u001b[38;5;241m=\u001b[39m \u001b[38;5;241m1\u001b[39m\n\u001b[1;32m   1791\u001b[0m \u001b[38;5;28mself\u001b[39m\u001b[38;5;241m.\u001b[39mn_dispatched_tasks \u001b[38;5;241m+\u001b[39m\u001b[38;5;241m=\u001b[39m \u001b[38;5;241m1\u001b[39m\n\u001b[0;32m-> 1792\u001b[0m res \u001b[38;5;241m=\u001b[39m \u001b[43mfunc\u001b[49m\u001b[43m(\u001b[49m\u001b[38;5;241;43m*\u001b[39;49m\u001b[43margs\u001b[49m\u001b[43m,\u001b[49m\u001b[43m \u001b[49m\u001b[38;5;241;43m*\u001b[39;49m\u001b[38;5;241;43m*\u001b[39;49m\u001b[43mkwargs\u001b[49m\u001b[43m)\u001b[49m\n\u001b[1;32m   1793\u001b[0m \u001b[38;5;28mself\u001b[39m\u001b[38;5;241m.\u001b[39mn_completed_tasks \u001b[38;5;241m+\u001b[39m\u001b[38;5;241m=\u001b[39m \u001b[38;5;241m1\u001b[39m\n\u001b[1;32m   1794\u001b[0m \u001b[38;5;28mself\u001b[39m\u001b[38;5;241m.\u001b[39mprint_progress()\n",
      "File \u001b[0;32m~/.pyenv/versions/3.10.6/envs/01-household-energy/lib/python3.10/site-packages/sklearn/utils/parallel.py:127\u001b[0m, in \u001b[0;36m_FuncWrapper.__call__\u001b[0;34m(self, *args, **kwargs)\u001b[0m\n\u001b[1;32m    125\u001b[0m     config \u001b[38;5;241m=\u001b[39m {}\n\u001b[1;32m    126\u001b[0m \u001b[38;5;28;01mwith\u001b[39;00m config_context(\u001b[38;5;241m*\u001b[39m\u001b[38;5;241m*\u001b[39mconfig):\n\u001b[0;32m--> 127\u001b[0m     \u001b[38;5;28;01mreturn\u001b[39;00m \u001b[38;5;28;43mself\u001b[39;49m\u001b[38;5;241;43m.\u001b[39;49m\u001b[43mfunction\u001b[49m\u001b[43m(\u001b[49m\u001b[38;5;241;43m*\u001b[39;49m\u001b[43margs\u001b[49m\u001b[43m,\u001b[49m\u001b[43m \u001b[49m\u001b[38;5;241;43m*\u001b[39;49m\u001b[38;5;241;43m*\u001b[39;49m\u001b[43mkwargs\u001b[49m\u001b[43m)\u001b[49m\n",
      "File \u001b[0;32m~/.pyenv/versions/3.10.6/envs/01-household-energy/lib/python3.10/site-packages/sklearn/pipeline.py:940\u001b[0m, in \u001b[0;36m_transform_one\u001b[0;34m(transformer, X, y, weight, **fit_params)\u001b[0m\n\u001b[1;32m    939\u001b[0m \u001b[38;5;28;01mdef\u001b[39;00m \u001b[38;5;21m_transform_one\u001b[39m(transformer, X, y, weight, \u001b[38;5;241m*\u001b[39m\u001b[38;5;241m*\u001b[39mfit_params):\n\u001b[0;32m--> 940\u001b[0m     res \u001b[38;5;241m=\u001b[39m \u001b[43mtransformer\u001b[49m\u001b[38;5;241;43m.\u001b[39;49m\u001b[43mtransform\u001b[49m\u001b[43m(\u001b[49m\u001b[43mX\u001b[49m\u001b[43m)\u001b[49m\n\u001b[1;32m    941\u001b[0m     \u001b[38;5;66;03m# if we have a weight for this transformer, multiply output\u001b[39;00m\n\u001b[1;32m    942\u001b[0m     \u001b[38;5;28;01mif\u001b[39;00m weight \u001b[38;5;129;01mis\u001b[39;00m \u001b[38;5;28;01mNone\u001b[39;00m:\n",
      "File \u001b[0;32m~/.pyenv/versions/3.10.6/envs/01-household-energy/lib/python3.10/site-packages/sklearn/utils/_set_output.py:157\u001b[0m, in \u001b[0;36m_wrap_method_output.<locals>.wrapped\u001b[0;34m(self, X, *args, **kwargs)\u001b[0m\n\u001b[1;32m    155\u001b[0m \u001b[38;5;129m@wraps\u001b[39m(f)\n\u001b[1;32m    156\u001b[0m \u001b[38;5;28;01mdef\u001b[39;00m \u001b[38;5;21mwrapped\u001b[39m(\u001b[38;5;28mself\u001b[39m, X, \u001b[38;5;241m*\u001b[39margs, \u001b[38;5;241m*\u001b[39m\u001b[38;5;241m*\u001b[39mkwargs):\n\u001b[0;32m--> 157\u001b[0m     data_to_wrap \u001b[38;5;241m=\u001b[39m \u001b[43mf\u001b[49m\u001b[43m(\u001b[49m\u001b[38;5;28;43mself\u001b[39;49m\u001b[43m,\u001b[49m\u001b[43m \u001b[49m\u001b[43mX\u001b[49m\u001b[43m,\u001b[49m\u001b[43m \u001b[49m\u001b[38;5;241;43m*\u001b[39;49m\u001b[43margs\u001b[49m\u001b[43m,\u001b[49m\u001b[43m \u001b[49m\u001b[38;5;241;43m*\u001b[39;49m\u001b[38;5;241;43m*\u001b[39;49m\u001b[43mkwargs\u001b[49m\u001b[43m)\u001b[49m\n\u001b[1;32m    158\u001b[0m     \u001b[38;5;28;01mif\u001b[39;00m \u001b[38;5;28misinstance\u001b[39m(data_to_wrap, \u001b[38;5;28mtuple\u001b[39m):\n\u001b[1;32m    159\u001b[0m         \u001b[38;5;66;03m# only wrap the first output for cross decomposition\u001b[39;00m\n\u001b[1;32m    160\u001b[0m         return_tuple \u001b[38;5;241m=\u001b[39m (\n\u001b[1;32m    161\u001b[0m             _wrap_data_with_container(method, data_to_wrap[\u001b[38;5;241m0\u001b[39m], X, \u001b[38;5;28mself\u001b[39m),\n\u001b[1;32m    162\u001b[0m             \u001b[38;5;241m*\u001b[39mdata_to_wrap[\u001b[38;5;241m1\u001b[39m:],\n\u001b[1;32m    163\u001b[0m         )\n",
      "File \u001b[0;32m~/.pyenv/versions/3.10.6/envs/01-household-energy/lib/python3.10/site-packages/sklearn/preprocessing/_encoders.py:1027\u001b[0m, in \u001b[0;36mOneHotEncoder.transform\u001b[0;34m(self, X)\u001b[0m\n\u001b[1;32m   1022\u001b[0m \u001b[38;5;66;03m# validation of X happens in _check_X called by _transform\u001b[39;00m\n\u001b[1;32m   1023\u001b[0m warn_on_unknown \u001b[38;5;241m=\u001b[39m \u001b[38;5;28mself\u001b[39m\u001b[38;5;241m.\u001b[39mdrop \u001b[38;5;129;01mis\u001b[39;00m \u001b[38;5;129;01mnot\u001b[39;00m \u001b[38;5;28;01mNone\u001b[39;00m \u001b[38;5;129;01mand\u001b[39;00m \u001b[38;5;28mself\u001b[39m\u001b[38;5;241m.\u001b[39mhandle_unknown \u001b[38;5;129;01min\u001b[39;00m {\n\u001b[1;32m   1024\u001b[0m     \u001b[38;5;124m\"\u001b[39m\u001b[38;5;124mignore\u001b[39m\u001b[38;5;124m\"\u001b[39m,\n\u001b[1;32m   1025\u001b[0m     \u001b[38;5;124m\"\u001b[39m\u001b[38;5;124minfrequent_if_exist\u001b[39m\u001b[38;5;124m\"\u001b[39m,\n\u001b[1;32m   1026\u001b[0m }\n\u001b[0;32m-> 1027\u001b[0m X_int, X_mask \u001b[38;5;241m=\u001b[39m \u001b[38;5;28;43mself\u001b[39;49m\u001b[38;5;241;43m.\u001b[39;49m\u001b[43m_transform\u001b[49m\u001b[43m(\u001b[49m\n\u001b[1;32m   1028\u001b[0m \u001b[43m    \u001b[49m\u001b[43mX\u001b[49m\u001b[43m,\u001b[49m\n\u001b[1;32m   1029\u001b[0m \u001b[43m    \u001b[49m\u001b[43mhandle_unknown\u001b[49m\u001b[38;5;241;43m=\u001b[39;49m\u001b[38;5;28;43mself\u001b[39;49m\u001b[38;5;241;43m.\u001b[39;49m\u001b[43mhandle_unknown\u001b[49m\u001b[43m,\u001b[49m\n\u001b[1;32m   1030\u001b[0m \u001b[43m    \u001b[49m\u001b[43mforce_all_finite\u001b[49m\u001b[38;5;241;43m=\u001b[39;49m\u001b[38;5;124;43m\"\u001b[39;49m\u001b[38;5;124;43mallow-nan\u001b[39;49m\u001b[38;5;124;43m\"\u001b[39;49m\u001b[43m,\u001b[49m\n\u001b[1;32m   1031\u001b[0m \u001b[43m    \u001b[49m\u001b[43mwarn_on_unknown\u001b[49m\u001b[38;5;241;43m=\u001b[39;49m\u001b[43mwarn_on_unknown\u001b[49m\u001b[43m,\u001b[49m\n\u001b[1;32m   1032\u001b[0m \u001b[43m\u001b[49m\u001b[43m)\u001b[49m\n\u001b[1;32m   1034\u001b[0m n_samples, n_features \u001b[38;5;241m=\u001b[39m X_int\u001b[38;5;241m.\u001b[39mshape\n\u001b[1;32m   1036\u001b[0m \u001b[38;5;28;01mif\u001b[39;00m \u001b[38;5;28mself\u001b[39m\u001b[38;5;241m.\u001b[39m_drop_idx_after_grouping \u001b[38;5;129;01mis\u001b[39;00m \u001b[38;5;129;01mnot\u001b[39;00m \u001b[38;5;28;01mNone\u001b[39;00m:\n",
      "File \u001b[0;32m~/.pyenv/versions/3.10.6/envs/01-household-energy/lib/python3.10/site-packages/sklearn/preprocessing/_encoders.py:192\u001b[0m, in \u001b[0;36m_BaseEncoder._transform\u001b[0;34m(self, X, handle_unknown, force_all_finite, warn_on_unknown, ignore_category_indices)\u001b[0m\n\u001b[1;32m    190\u001b[0m \u001b[38;5;28;01mfor\u001b[39;00m i \u001b[38;5;129;01min\u001b[39;00m \u001b[38;5;28mrange\u001b[39m(n_features):\n\u001b[1;32m    191\u001b[0m     Xi \u001b[38;5;241m=\u001b[39m X_list[i]\n\u001b[0;32m--> 192\u001b[0m     diff, valid_mask \u001b[38;5;241m=\u001b[39m \u001b[43m_check_unknown\u001b[49m\u001b[43m(\u001b[49m\u001b[43mXi\u001b[49m\u001b[43m,\u001b[49m\u001b[43m \u001b[49m\u001b[38;5;28;43mself\u001b[39;49m\u001b[38;5;241;43m.\u001b[39;49m\u001b[43mcategories_\u001b[49m\u001b[43m[\u001b[49m\u001b[43mi\u001b[49m\u001b[43m]\u001b[49m\u001b[43m,\u001b[49m\u001b[43m \u001b[49m\u001b[43mreturn_mask\u001b[49m\u001b[38;5;241;43m=\u001b[39;49m\u001b[38;5;28;43;01mTrue\u001b[39;49;00m\u001b[43m)\u001b[49m\n\u001b[1;32m    194\u001b[0m     \u001b[38;5;28;01mif\u001b[39;00m \u001b[38;5;129;01mnot\u001b[39;00m np\u001b[38;5;241m.\u001b[39mall(valid_mask):\n\u001b[1;32m    195\u001b[0m         \u001b[38;5;28;01mif\u001b[39;00m handle_unknown \u001b[38;5;241m==\u001b[39m \u001b[38;5;124m\"\u001b[39m\u001b[38;5;124merror\u001b[39m\u001b[38;5;124m\"\u001b[39m:\n",
      "File \u001b[0;32m~/.pyenv/versions/3.10.6/envs/01-household-energy/lib/python3.10/site-packages/sklearn/utils/_encode.py:304\u001b[0m, in \u001b[0;36m_check_unknown\u001b[0;34m(values, known_values, return_mask)\u001b[0m\n\u001b[1;32m    301\u001b[0m         valid_mask \u001b[38;5;241m=\u001b[39m np\u001b[38;5;241m.\u001b[39mones(\u001b[38;5;28mlen\u001b[39m(values), dtype\u001b[38;5;241m=\u001b[39m\u001b[38;5;28mbool\u001b[39m)\n\u001b[1;32m    303\u001b[0m \u001b[38;5;66;03m# check for nans in the known_values\u001b[39;00m\n\u001b[0;32m--> 304\u001b[0m \u001b[38;5;28;01mif\u001b[39;00m \u001b[43mnp\u001b[49m\u001b[38;5;241;43m.\u001b[39;49m\u001b[43misnan\u001b[49m\u001b[43m(\u001b[49m\u001b[43mknown_values\u001b[49m\u001b[43m)\u001b[49m\u001b[38;5;241m.\u001b[39many():\n\u001b[1;32m    305\u001b[0m     diff_is_nan \u001b[38;5;241m=\u001b[39m np\u001b[38;5;241m.\u001b[39misnan(diff)\n\u001b[1;32m    306\u001b[0m     \u001b[38;5;28;01mif\u001b[39;00m diff_is_nan\u001b[38;5;241m.\u001b[39many():\n\u001b[1;32m    307\u001b[0m         \u001b[38;5;66;03m# removes nan from valid_mask\u001b[39;00m\n",
      "\u001b[0;31mTypeError\u001b[0m: ufunc 'isnan' not supported for the input types, and the inputs could not be safely coerced to any supported types according to the casting rule ''safe''"
     ]
    }
   ],
   "source": [
    "pipe.predict(make_X_new(X_test.iloc[0,:]))"
   ]
  },
  {
   "cell_type": "markdown",
   "id": "c28d6ed5-7ba7-4f16-b99c-6e841101afeb",
   "metadata": {},
   "source": [
    "### Score - all features"
   ]
  },
  {
   "cell_type": "code",
   "execution_count": 111,
   "id": "7beb678c-b877-49b2-bcf9-ab320f342291",
   "metadata": {},
   "outputs": [],
   "source": [
    "import pandas as pd\n",
    "import numpy as np\n",
    "from sklearn.impute import SimpleImputer\n",
    "from sklearn.pipeline import Pipeline\n",
    "from sklearn.impute import SimpleImputer\n",
    "from sklearn.compose import ColumnTransformer\n",
    "from sklearn.preprocessing import OneHotEncoder\n",
    "\n",
    "def filter_data(df,min_perc=0.005, max_perc=0.995):\n",
    "    df = df.copy()\n",
    "\n",
    "    #Get rid of outliers#\n",
    "    percentile_min = df['KWH'].quantile(min_perc)\n",
    "    percentile_max = df['KWH'].quantile(max_perc)\n",
    "\n",
    "    # Filter the DataFrame based on the specified percentiles\n",
    "    df = df[(df['KWH'] >= percentile_min) & (df['KWH'] <= percentile_max)]\n",
    "    return df\n",
    "\n",
    "\n",
    "def clean_data(df,min_perc=0.005, max_perc=0.995):\n",
    "    \"\"\"This set cleans the data to have it in the correct format before preprocessing\"\"\"\n",
    "\n",
    "    #Maping features\n",
    "    TYPEHUQ_map = {1: \"Mobile\", 2: \"Single_detached\",3: \"Single_attached\",\n",
    "                   4: \"Appartment_small\" ,5: \"Appartment_big\"}\n",
    "    YEARMADERANGE_map = {1: \"Before_50\", 2:\"50-59\", 3:\"60-69\",\n",
    "                         4: \"70-79\", 5: \"80-89\", 6:\"90-99\", 7:\"00-09\",\n",
    "                         8:\"2010-15\", 9:\"2016-20\" }\n",
    "    WALLTYPE_map = {1:\"Brick\",2:\"Wood\",3:\"Siding\",4:\"Stucco\",5:\"Shingle\",\n",
    "                    6:\"Stone\",7:\"Concrete\",99:\"Other\"}\n",
    "    ROOFTYPE_map = {1 : \"Ceramic\", 2 : \"Wood\", 3 : \"Metal\", 4: \"Slate\",\n",
    "                    5: \"Shingle\", 6: \"Concrete\", 99: \"Other\", -2:\"Other\"}\n",
    "    EQUIPM_map = {3:\"Furnace\", 2: \"Steam\", 4: \"Central_heat\", 13: \"Ductless_heat\",\n",
    "                5: \"Electric_units\", 7: \"Room_heater\", 8 : \"Wood\",\n",
    "                10:\"Electric_heater\", 99:\"Other\", -2:\"Other\"}\n",
    "\n",
    "    dics_transform = [TYPEHUQ_map, YEARMADERANGE_map, WALLTYPE_map, ROOFTYPE_map, EQUIPM_map]\n",
    "    columns_to_transform = [\"TYPEHUQ\", \"YEARMADERANGE\", \"WALLTYPE\", \"ROOFTYPE\", \"EQUIPM\"]\n",
    "\n",
    "    for x , y in zip(dics_transform,columns_to_transform):\n",
    "        df[y] = df[y].map(x)\n",
    "\n",
    "    #Combine new features\n",
    "    df[\"TOTAL_BATH\"] = df[\"NCOMBATH\"] + df[\"NHAFBATH\"]\n",
    "    df.drop( [\"NCOMBATH\", \"NHAFBATH\"] ,axis=1, inplace = True)\n",
    "\n",
    "    df[\"TOTAL_COMP\"] = df[\"DESKTOP\"] + df[\"NUMLAPTOP\"]\n",
    "    df.drop( [\"DESKTOP\", \"NUMLAPTOP\"] ,axis=1, inplace = True)\n",
    "\n",
    "    df[\"TOTAL_LIGHT\"] = df[\"LGTIN1TO4\"] + df[\"LGTIN4TO8\"] + df[\"LGTINMORE8\"]\n",
    "    df.drop( [\"LGTIN1TO4\", \"LGTIN4TO8\", \"LGTINMORE8\"] ,axis=1, inplace = True)\n",
    "\n",
    "    df[\"STORIES\"] = df[\"STORIES\"].replace(-2,1)\n",
    "    df[\"STORIES\"] = df[\"STORIES\"].replace(5,2)\n",
    "\n",
    "    #Impute features\n",
    "    features_imputer2 = ['SWIMPOOL', 'NUMPORTEL', 'SOLAR']\n",
    "    features_imputer4 = ['SMARTMETER']\n",
    "    #to_ohe_encode = ['REGIONC', 'state_name','BA_climate','TYPEHUQ','YEARMADERANGE','WALLTYPE','ROOFTYPE','WINDOWS','EQUIPM']\n",
    "\n",
    "    imputer_2 = SimpleImputer(strategy='constant', missing_values=-2, fill_value=0)\n",
    "    imputer_4 = SimpleImputer(strategy='constant', missing_values=-4, fill_value=0)\n",
    "    #ohe = OneHotEncoder(sparse_output=False, handle_unknown='ignore')\n",
    "\n",
    "    preprocessor = ColumnTransformer(transformers=[('imputer_2',imputer_2, features_imputer2),\n",
    "                                                ('imputer_4',imputer_4, features_imputer4)],\n",
    "                                                #('ohe', ohe, to_ohe_encode)],\n",
    "                                                    remainder = \"passthrough\")\n",
    "\n",
    "    preprocessor.fit(df)\n",
    "\n",
    "    cols = [x.split(\"__\")[1] for x in preprocessor.get_feature_names_out()]\n",
    "\n",
    "    df_clean = pd.DataFrame(preprocessor.transform(df),\n",
    "                       columns = cols)\n",
    "\n",
    "    return df_clean\n",
    "\n",
    "from sklearn.preprocessing import OneHotEncoder\n",
    "from sklearn.compose import ColumnTransformer\n",
    "from sklearn.preprocessing import MinMaxScaler\n",
    "\n",
    "\n",
    "to_ohe_encode = ['REGIONC', 'state_name','BA_climate','TYPEHUQ',\n",
    "                     'YEARMADERANGE','WALLTYPE','ROOFTYPE','WINDOWS','EQUIPM']\n",
    "to_scale = [\"NUMPORTEL\", \"STORIES\",\"SQFTEST\",\n",
    "            \"TOTROOMS\", \"NUMFRIG\", \"MICRO\", \"TVCOLOR\",\"NHSLDMEM\",\n",
    "            \"TOTAL_BATH\", \"TOTAL_COMP\", \"TOTAL_LIGHT\" ]\n",
    "\n",
    "min_max = MinMaxScaler()\n",
    "ohe = OneHotEncoder(sparse_output=False, handle_unknown='ignore')\n",
    "\n",
    "\n",
    "preprocessor = ColumnTransformer(transformers=[\n",
    "                                            ('min_max', min_max, to_scale),\n",
    "                                            ('ohe', ohe, to_ohe_encode)],\n",
    "                                            remainder = \"passthrough\")\n",
    "\n",
    "model = LinearRegression()\n",
    "\n",
    "pipe_2 = Pipeline([('prep', preprocessor), ('model', model)])"
   ]
  },
  {
   "cell_type": "code",
   "execution_count": 112,
   "id": "23e93a92-61f8-44d9-bb59-7f58576906a5",
   "metadata": {},
   "outputs": [],
   "source": [
    "df = call_data_url()"
   ]
  },
  {
   "cell_type": "code",
   "execution_count": 113,
   "id": "340b7e31-41ef-443e-b09a-cca705397af7",
   "metadata": {},
   "outputs": [],
   "source": [
    "df = clean_data(df)"
   ]
  },
  {
   "cell_type": "code",
   "execution_count": 114,
   "id": "c82bf801-e0c5-4f12-92de-015b157408f1",
   "metadata": {},
   "outputs": [
    {
     "data": {
      "text/plain": [
       "Index(['SWIMPOOL', 'NUMPORTEL', 'SOLAR', 'SMARTMETER', 'REGIONC', 'state_name',\n",
       "       'BA_climate', 'TYPEHUQ', 'STORIES', 'YEARMADERANGE', 'TOTROOMS',\n",
       "       'WALLTYPE', 'ROOFTYPE', 'WINDOWS', 'NUMFRIG', 'MICRO', 'DISHWASH',\n",
       "       'CWASHER', 'DRYER', 'TVCOLOR', 'TELLWORK', 'HEATHOME', 'EQUIPM',\n",
       "       'AIRCOND', 'NHSLDMEM', 'SQFTEST', 'KWH', 'TOTAL_BATH', 'TOTAL_COMP',\n",
       "       'TOTAL_LIGHT'],\n",
       "      dtype='object')"
      ]
     },
     "execution_count": 114,
     "metadata": {},
     "output_type": "execute_result"
    }
   ],
   "source": [
    "df.columns"
   ]
  },
  {
   "cell_type": "code",
   "execution_count": 115,
   "id": "a6dc6665-f3b6-468b-8256-3a61272f1e27",
   "metadata": {},
   "outputs": [],
   "source": [
    "X , y = get_xy(df)\n",
    "X_train, X_test, y_train, y_test =  train_test_split(X,y, test_size=0.3)\n",
    "\n",
    "y_train_p = np.log(y_train.astype(\"float\"))\n",
    "y_test_p = np.log(y_test.astype(\"float\"))"
   ]
  },
  {
   "cell_type": "code",
   "execution_count": 116,
   "id": "bcfdea53-3a2e-423d-8059-31673bfd001c",
   "metadata": {},
   "outputs": [
    {
     "data": {
      "text/plain": [
       "0.48715139693386833"
      ]
     },
     "execution_count": 116,
     "metadata": {},
     "output_type": "execute_result"
    }
   ],
   "source": [
    "cross_validate(pipe_2, X_train, y_train, cv =5)[\"test_score\"].mean()"
   ]
  },
  {
   "cell_type": "code",
   "execution_count": 117,
   "id": "446dc7a8-5e58-4501-a7a7-95f88b119bd5",
   "metadata": {},
   "outputs": [
    {
     "data": {
      "text/plain": [
       "0.5400254484470768"
      ]
     },
     "execution_count": 117,
     "metadata": {},
     "output_type": "execute_result"
    }
   ],
   "source": [
    "cross_validate(pipe_2, X_train, y_train_p, cv =5)[\"test_score\"].mean()"
   ]
  },
  {
   "cell_type": "code",
   "execution_count": 118,
   "id": "ba78d4e9-e1f6-4b8e-821e-6fcf1328a9c9",
   "metadata": {
    "scrolled": true
   },
   "outputs": [
    {
     "data": {
      "text/html": [
       "<style>#sk-container-id-5 {color: black;}#sk-container-id-5 pre{padding: 0;}#sk-container-id-5 div.sk-toggleable {background-color: white;}#sk-container-id-5 label.sk-toggleable__label {cursor: pointer;display: block;width: 100%;margin-bottom: 0;padding: 0.3em;box-sizing: border-box;text-align: center;}#sk-container-id-5 label.sk-toggleable__label-arrow:before {content: \"▸\";float: left;margin-right: 0.25em;color: #696969;}#sk-container-id-5 label.sk-toggleable__label-arrow:hover:before {color: black;}#sk-container-id-5 div.sk-estimator:hover label.sk-toggleable__label-arrow:before {color: black;}#sk-container-id-5 div.sk-toggleable__content {max-height: 0;max-width: 0;overflow: hidden;text-align: left;background-color: #f0f8ff;}#sk-container-id-5 div.sk-toggleable__content pre {margin: 0.2em;color: black;border-radius: 0.25em;background-color: #f0f8ff;}#sk-container-id-5 input.sk-toggleable__control:checked~div.sk-toggleable__content {max-height: 200px;max-width: 100%;overflow: auto;}#sk-container-id-5 input.sk-toggleable__control:checked~label.sk-toggleable__label-arrow:before {content: \"▾\";}#sk-container-id-5 div.sk-estimator input.sk-toggleable__control:checked~label.sk-toggleable__label {background-color: #d4ebff;}#sk-container-id-5 div.sk-label input.sk-toggleable__control:checked~label.sk-toggleable__label {background-color: #d4ebff;}#sk-container-id-5 input.sk-hidden--visually {border: 0;clip: rect(1px 1px 1px 1px);clip: rect(1px, 1px, 1px, 1px);height: 1px;margin: -1px;overflow: hidden;padding: 0;position: absolute;width: 1px;}#sk-container-id-5 div.sk-estimator {font-family: monospace;background-color: #f0f8ff;border: 1px dotted black;border-radius: 0.25em;box-sizing: border-box;margin-bottom: 0.5em;}#sk-container-id-5 div.sk-estimator:hover {background-color: #d4ebff;}#sk-container-id-5 div.sk-parallel-item::after {content: \"\";width: 100%;border-bottom: 1px solid gray;flex-grow: 1;}#sk-container-id-5 div.sk-label:hover label.sk-toggleable__label {background-color: #d4ebff;}#sk-container-id-5 div.sk-serial::before {content: \"\";position: absolute;border-left: 1px solid gray;box-sizing: border-box;top: 0;bottom: 0;left: 50%;z-index: 0;}#sk-container-id-5 div.sk-serial {display: flex;flex-direction: column;align-items: center;background-color: white;padding-right: 0.2em;padding-left: 0.2em;position: relative;}#sk-container-id-5 div.sk-item {position: relative;z-index: 1;}#sk-container-id-5 div.sk-parallel {display: flex;align-items: stretch;justify-content: center;background-color: white;position: relative;}#sk-container-id-5 div.sk-item::before, #sk-container-id-5 div.sk-parallel-item::before {content: \"\";position: absolute;border-left: 1px solid gray;box-sizing: border-box;top: 0;bottom: 0;left: 50%;z-index: -1;}#sk-container-id-5 div.sk-parallel-item {display: flex;flex-direction: column;z-index: 1;position: relative;background-color: white;}#sk-container-id-5 div.sk-parallel-item:first-child::after {align-self: flex-end;width: 50%;}#sk-container-id-5 div.sk-parallel-item:last-child::after {align-self: flex-start;width: 50%;}#sk-container-id-5 div.sk-parallel-item:only-child::after {width: 0;}#sk-container-id-5 div.sk-dashed-wrapped {border: 1px dashed gray;margin: 0 0.4em 0.5em 0.4em;box-sizing: border-box;padding-bottom: 0.4em;background-color: white;}#sk-container-id-5 div.sk-label label {font-family: monospace;font-weight: bold;display: inline-block;line-height: 1.2em;}#sk-container-id-5 div.sk-label-container {text-align: center;}#sk-container-id-5 div.sk-container {/* jupyter's `normalize.less` sets `[hidden] { display: none; }` but bootstrap.min.css set `[hidden] { display: none !important; }` so we also need the `!important` here to be able to override the default hidden behavior on the sphinx rendered scikit-learn.org. See: https://github.com/scikit-learn/scikit-learn/issues/21755 */display: inline-block !important;position: relative;}#sk-container-id-5 div.sk-text-repr-fallback {display: none;}</style><div id=\"sk-container-id-5\" class=\"sk-top-container\"><div class=\"sk-text-repr-fallback\"><pre>Pipeline(steps=[(&#x27;prep&#x27;,\n",
       "                 ColumnTransformer(remainder=&#x27;passthrough&#x27;,\n",
       "                                   transformers=[(&#x27;min_max&#x27;, MinMaxScaler(),\n",
       "                                                  [&#x27;NUMPORTEL&#x27;, &#x27;STORIES&#x27;,\n",
       "                                                   &#x27;SQFTEST&#x27;, &#x27;TOTROOMS&#x27;,\n",
       "                                                   &#x27;NUMFRIG&#x27;, &#x27;MICRO&#x27;,\n",
       "                                                   &#x27;TVCOLOR&#x27;, &#x27;NHSLDMEM&#x27;,\n",
       "                                                   &#x27;TOTAL_BATH&#x27;, &#x27;TOTAL_COMP&#x27;,\n",
       "                                                   &#x27;TOTAL_LIGHT&#x27;]),\n",
       "                                                 (&#x27;ohe&#x27;,\n",
       "                                                  OneHotEncoder(handle_unknown=&#x27;ignore&#x27;,\n",
       "                                                                sparse_output=False),\n",
       "                                                  [&#x27;REGIONC&#x27;, &#x27;state_name&#x27;,\n",
       "                                                   &#x27;BA_climate&#x27;, &#x27;TYPEHUQ&#x27;,\n",
       "                                                   &#x27;YEARMADERANGE&#x27;, &#x27;WALLTYPE&#x27;,\n",
       "                                                   &#x27;ROOFTYPE&#x27;, &#x27;WINDOWS&#x27;,\n",
       "                                                   &#x27;EQUIPM&#x27;])])),\n",
       "                (&#x27;model&#x27;, LinearRegression())])</pre><b>In a Jupyter environment, please rerun this cell to show the HTML representation or trust the notebook. <br />On GitHub, the HTML representation is unable to render, please try loading this page with nbviewer.org.</b></div><div class=\"sk-container\" hidden><div class=\"sk-item sk-dashed-wrapped\"><div class=\"sk-label-container\"><div class=\"sk-label sk-toggleable\"><input class=\"sk-toggleable__control sk-hidden--visually\" id=\"sk-estimator-id-37\" type=\"checkbox\" ><label for=\"sk-estimator-id-37\" class=\"sk-toggleable__label sk-toggleable__label-arrow\">Pipeline</label><div class=\"sk-toggleable__content\"><pre>Pipeline(steps=[(&#x27;prep&#x27;,\n",
       "                 ColumnTransformer(remainder=&#x27;passthrough&#x27;,\n",
       "                                   transformers=[(&#x27;min_max&#x27;, MinMaxScaler(),\n",
       "                                                  [&#x27;NUMPORTEL&#x27;, &#x27;STORIES&#x27;,\n",
       "                                                   &#x27;SQFTEST&#x27;, &#x27;TOTROOMS&#x27;,\n",
       "                                                   &#x27;NUMFRIG&#x27;, &#x27;MICRO&#x27;,\n",
       "                                                   &#x27;TVCOLOR&#x27;, &#x27;NHSLDMEM&#x27;,\n",
       "                                                   &#x27;TOTAL_BATH&#x27;, &#x27;TOTAL_COMP&#x27;,\n",
       "                                                   &#x27;TOTAL_LIGHT&#x27;]),\n",
       "                                                 (&#x27;ohe&#x27;,\n",
       "                                                  OneHotEncoder(handle_unknown=&#x27;ignore&#x27;,\n",
       "                                                                sparse_output=False),\n",
       "                                                  [&#x27;REGIONC&#x27;, &#x27;state_name&#x27;,\n",
       "                                                   &#x27;BA_climate&#x27;, &#x27;TYPEHUQ&#x27;,\n",
       "                                                   &#x27;YEARMADERANGE&#x27;, &#x27;WALLTYPE&#x27;,\n",
       "                                                   &#x27;ROOFTYPE&#x27;, &#x27;WINDOWS&#x27;,\n",
       "                                                   &#x27;EQUIPM&#x27;])])),\n",
       "                (&#x27;model&#x27;, LinearRegression())])</pre></div></div></div><div class=\"sk-serial\"><div class=\"sk-item sk-dashed-wrapped\"><div class=\"sk-label-container\"><div class=\"sk-label sk-toggleable\"><input class=\"sk-toggleable__control sk-hidden--visually\" id=\"sk-estimator-id-38\" type=\"checkbox\" ><label for=\"sk-estimator-id-38\" class=\"sk-toggleable__label sk-toggleable__label-arrow\">prep: ColumnTransformer</label><div class=\"sk-toggleable__content\"><pre>ColumnTransformer(remainder=&#x27;passthrough&#x27;,\n",
       "                  transformers=[(&#x27;min_max&#x27;, MinMaxScaler(),\n",
       "                                 [&#x27;NUMPORTEL&#x27;, &#x27;STORIES&#x27;, &#x27;SQFTEST&#x27;, &#x27;TOTROOMS&#x27;,\n",
       "                                  &#x27;NUMFRIG&#x27;, &#x27;MICRO&#x27;, &#x27;TVCOLOR&#x27;, &#x27;NHSLDMEM&#x27;,\n",
       "                                  &#x27;TOTAL_BATH&#x27;, &#x27;TOTAL_COMP&#x27;, &#x27;TOTAL_LIGHT&#x27;]),\n",
       "                                (&#x27;ohe&#x27;,\n",
       "                                 OneHotEncoder(handle_unknown=&#x27;ignore&#x27;,\n",
       "                                               sparse_output=False),\n",
       "                                 [&#x27;REGIONC&#x27;, &#x27;state_name&#x27;, &#x27;BA_climate&#x27;,\n",
       "                                  &#x27;TYPEHUQ&#x27;, &#x27;YEARMADERANGE&#x27;, &#x27;WALLTYPE&#x27;,\n",
       "                                  &#x27;ROOFTYPE&#x27;, &#x27;WINDOWS&#x27;, &#x27;EQUIPM&#x27;])])</pre></div></div></div><div class=\"sk-parallel\"><div class=\"sk-parallel-item\"><div class=\"sk-item\"><div class=\"sk-label-container\"><div class=\"sk-label sk-toggleable\"><input class=\"sk-toggleable__control sk-hidden--visually\" id=\"sk-estimator-id-39\" type=\"checkbox\" ><label for=\"sk-estimator-id-39\" class=\"sk-toggleable__label sk-toggleable__label-arrow\">min_max</label><div class=\"sk-toggleable__content\"><pre>[&#x27;NUMPORTEL&#x27;, &#x27;STORIES&#x27;, &#x27;SQFTEST&#x27;, &#x27;TOTROOMS&#x27;, &#x27;NUMFRIG&#x27;, &#x27;MICRO&#x27;, &#x27;TVCOLOR&#x27;, &#x27;NHSLDMEM&#x27;, &#x27;TOTAL_BATH&#x27;, &#x27;TOTAL_COMP&#x27;, &#x27;TOTAL_LIGHT&#x27;]</pre></div></div></div><div class=\"sk-serial\"><div class=\"sk-item\"><div class=\"sk-estimator sk-toggleable\"><input class=\"sk-toggleable__control sk-hidden--visually\" id=\"sk-estimator-id-40\" type=\"checkbox\" ><label for=\"sk-estimator-id-40\" class=\"sk-toggleable__label sk-toggleable__label-arrow\">MinMaxScaler</label><div class=\"sk-toggleable__content\"><pre>MinMaxScaler()</pre></div></div></div></div></div></div><div class=\"sk-parallel-item\"><div class=\"sk-item\"><div class=\"sk-label-container\"><div class=\"sk-label sk-toggleable\"><input class=\"sk-toggleable__control sk-hidden--visually\" id=\"sk-estimator-id-41\" type=\"checkbox\" ><label for=\"sk-estimator-id-41\" class=\"sk-toggleable__label sk-toggleable__label-arrow\">ohe</label><div class=\"sk-toggleable__content\"><pre>[&#x27;REGIONC&#x27;, &#x27;state_name&#x27;, &#x27;BA_climate&#x27;, &#x27;TYPEHUQ&#x27;, &#x27;YEARMADERANGE&#x27;, &#x27;WALLTYPE&#x27;, &#x27;ROOFTYPE&#x27;, &#x27;WINDOWS&#x27;, &#x27;EQUIPM&#x27;]</pre></div></div></div><div class=\"sk-serial\"><div class=\"sk-item\"><div class=\"sk-estimator sk-toggleable\"><input class=\"sk-toggleable__control sk-hidden--visually\" id=\"sk-estimator-id-42\" type=\"checkbox\" ><label for=\"sk-estimator-id-42\" class=\"sk-toggleable__label sk-toggleable__label-arrow\">OneHotEncoder</label><div class=\"sk-toggleable__content\"><pre>OneHotEncoder(handle_unknown=&#x27;ignore&#x27;, sparse_output=False)</pre></div></div></div></div></div></div><div class=\"sk-parallel-item\"><div class=\"sk-item\"><div class=\"sk-label-container\"><div class=\"sk-label sk-toggleable\"><input class=\"sk-toggleable__control sk-hidden--visually\" id=\"sk-estimator-id-43\" type=\"checkbox\" ><label for=\"sk-estimator-id-43\" class=\"sk-toggleable__label sk-toggleable__label-arrow\">remainder</label><div class=\"sk-toggleable__content\"><pre>[&#x27;SWIMPOOL&#x27;, &#x27;SOLAR&#x27;, &#x27;SMARTMETER&#x27;, &#x27;DISHWASH&#x27;, &#x27;CWASHER&#x27;, &#x27;DRYER&#x27;, &#x27;TELLWORK&#x27;, &#x27;HEATHOME&#x27;, &#x27;AIRCOND&#x27;]</pre></div></div></div><div class=\"sk-serial\"><div class=\"sk-item\"><div class=\"sk-estimator sk-toggleable\"><input class=\"sk-toggleable__control sk-hidden--visually\" id=\"sk-estimator-id-44\" type=\"checkbox\" ><label for=\"sk-estimator-id-44\" class=\"sk-toggleable__label sk-toggleable__label-arrow\">passthrough</label><div class=\"sk-toggleable__content\"><pre>passthrough</pre></div></div></div></div></div></div></div></div><div class=\"sk-item\"><div class=\"sk-estimator sk-toggleable\"><input class=\"sk-toggleable__control sk-hidden--visually\" id=\"sk-estimator-id-45\" type=\"checkbox\" ><label for=\"sk-estimator-id-45\" class=\"sk-toggleable__label sk-toggleable__label-arrow\">LinearRegression</label><div class=\"sk-toggleable__content\"><pre>LinearRegression()</pre></div></div></div></div></div></div></div>"
      ],
      "text/plain": [
       "Pipeline(steps=[('prep',\n",
       "                 ColumnTransformer(remainder='passthrough',\n",
       "                                   transformers=[('min_max', MinMaxScaler(),\n",
       "                                                  ['NUMPORTEL', 'STORIES',\n",
       "                                                   'SQFTEST', 'TOTROOMS',\n",
       "                                                   'NUMFRIG', 'MICRO',\n",
       "                                                   'TVCOLOR', 'NHSLDMEM',\n",
       "                                                   'TOTAL_BATH', 'TOTAL_COMP',\n",
       "                                                   'TOTAL_LIGHT']),\n",
       "                                                 ('ohe',\n",
       "                                                  OneHotEncoder(handle_unknown='ignore',\n",
       "                                                                sparse_output=False),\n",
       "                                                  ['REGIONC', 'state_name',\n",
       "                                                   'BA_climate', 'TYPEHUQ',\n",
       "                                                   'YEARMADERANGE', 'WALLTYPE',\n",
       "                                                   'ROOFTYPE', 'WINDOWS',\n",
       "                                                   'EQUIPM'])])),\n",
       "                ('model', LinearRegression())])"
      ]
     },
     "execution_count": 118,
     "metadata": {},
     "output_type": "execute_result"
    }
   ],
   "source": [
    "pipe_2.fit(X_train, y_train_p)"
   ]
  },
  {
   "cell_type": "code",
   "execution_count": 119,
   "id": "dfc19de3-de34-46f5-93aa-12b92ae753f5",
   "metadata": {},
   "outputs": [
    {
     "data": {
      "text/plain": [
       "0.5259557463577558"
      ]
     },
     "execution_count": 119,
     "metadata": {},
     "output_type": "execute_result"
    }
   ],
   "source": [
    "pipe_2.score(X_test, y_test_p)"
   ]
  },
  {
   "cell_type": "markdown",
   "id": "0e0bb639-b9ac-489c-91de-7a9c9a1ccc27",
   "metadata": {},
   "source": [
    "### Random Regressor"
   ]
  },
  {
   "cell_type": "code",
   "execution_count": 312,
   "id": "a96342ad-b9a3-4ebb-a72a-ae457b6e9e43",
   "metadata": {},
   "outputs": [],
   "source": [
    "df = call_data_url()"
   ]
  },
  {
   "cell_type": "code",
   "execution_count": 314,
   "id": "b8ecc423-a274-4541-8363-4abd8eff9000",
   "metadata": {},
   "outputs": [],
   "source": [
    "df = filter_data(df)\n",
    "df = clean_data(df)"
   ]
  },
  {
   "cell_type": "code",
   "execution_count": 317,
   "id": "644fc6b7-693d-4afe-9e31-11f89a0158ae",
   "metadata": {},
   "outputs": [],
   "source": [
    "X , y = get_xy(df)\n",
    "X_train , X_test, y_train , y_test = train_test_split(X, y , test_size=0.3)"
   ]
  },
  {
   "cell_type": "code",
   "execution_count": 43,
   "id": "286512f5-ad3e-44c0-9e71-dfe45ba9ec9a",
   "metadata": {},
   "outputs": [
    {
     "data": {
      "text/html": [
       "<div>\n",
       "<style scoped>\n",
       "    .dataframe tbody tr th:only-of-type {\n",
       "        vertical-align: middle;\n",
       "    }\n",
       "\n",
       "    .dataframe tbody tr th {\n",
       "        vertical-align: top;\n",
       "    }\n",
       "\n",
       "    .dataframe thead th {\n",
       "        text-align: right;\n",
       "    }\n",
       "</style>\n",
       "<table border=\"1\" class=\"dataframe\">\n",
       "  <thead>\n",
       "    <tr style=\"text-align: right;\">\n",
       "      <th></th>\n",
       "      <th>SWIMPOOL</th>\n",
       "      <th>NUMPORTEL</th>\n",
       "      <th>SOLAR</th>\n",
       "      <th>SMARTMETER</th>\n",
       "      <th>REGIONC</th>\n",
       "      <th>state_name</th>\n",
       "      <th>BA_climate</th>\n",
       "      <th>TYPEHUQ</th>\n",
       "      <th>STORIES</th>\n",
       "      <th>YEARMADERANGE</th>\n",
       "      <th>...</th>\n",
       "      <th>TVCOLOR</th>\n",
       "      <th>TELLWORK</th>\n",
       "      <th>HEATHOME</th>\n",
       "      <th>EQUIPM</th>\n",
       "      <th>AIRCOND</th>\n",
       "      <th>NHSLDMEM</th>\n",
       "      <th>SQFTEST</th>\n",
       "      <th>TOTAL_BATH</th>\n",
       "      <th>TOTAL_COMP</th>\n",
       "      <th>TOTAL_LIGHT</th>\n",
       "    </tr>\n",
       "  </thead>\n",
       "  <tbody>\n",
       "    <tr>\n",
       "      <th>0</th>\n",
       "      <td>0</td>\n",
       "      <td>0</td>\n",
       "      <td>0</td>\n",
       "      <td>0</td>\n",
       "      <td>WEST</td>\n",
       "      <td>New Mexico</td>\n",
       "      <td>Mixed-Dry</td>\n",
       "      <td>Single_detached</td>\n",
       "      <td>1</td>\n",
       "      <td>70-79</td>\n",
       "      <td>...</td>\n",
       "      <td>3</td>\n",
       "      <td>0</td>\n",
       "      <td>1</td>\n",
       "      <td>Furnace</td>\n",
       "      <td>1</td>\n",
       "      <td>2</td>\n",
       "      <td>2100</td>\n",
       "      <td>3</td>\n",
       "      <td>1</td>\n",
       "      <td>17</td>\n",
       "    </tr>\n",
       "  </tbody>\n",
       "</table>\n",
       "<p>1 rows × 29 columns</p>\n",
       "</div>"
      ],
      "text/plain": [
       "  SWIMPOOL NUMPORTEL SOLAR SMARTMETER REGIONC  state_name BA_climate  \\\n",
       "0        0         0     0          0    WEST  New Mexico  Mixed-Dry   \n",
       "\n",
       "           TYPEHUQ STORIES YEARMADERANGE  ... TVCOLOR TELLWORK HEATHOME  \\\n",
       "0  Single_detached       1         70-79  ...       3        0        1   \n",
       "\n",
       "    EQUIPM AIRCOND NHSLDMEM SQFTEST TOTAL_BATH TOTAL_COMP TOTAL_LIGHT  \n",
       "0  Furnace       1        2    2100          3          1          17  \n",
       "\n",
       "[1 rows x 29 columns]"
      ]
     },
     "execution_count": 43,
     "metadata": {},
     "output_type": "execute_result"
    }
   ],
   "source": [
    "#Needed for X predict\n",
    "pd.DataFrame(X.iloc[0,:]).T"
   ]
  },
  {
   "cell_type": "code",
   "execution_count": 318,
   "id": "c3598cd5-ed76-4a32-a611-bbaa9c5992b3",
   "metadata": {},
   "outputs": [],
   "source": [
    "from sklearn.ensemble import RandomForestRegressor\n",
    "\n",
    "to_ohe_encode = ['REGIONC', 'state_name','BA_climate','TYPEHUQ',\n",
    "                     'YEARMADERANGE','WALLTYPE','ROOFTYPE','WINDOWS','EQUIPM']\n",
    "\n",
    "to_scale = [\"NUMPORTEL\", \"STORIES\",\"SQFTEST\",\n",
    "            \"TOTROOMS\", \"NUMFRIG\", \"MICRO\", \"TVCOLOR\",\"NHSLDMEM\",\n",
    "            \"TOTAL_BATH\", \"TOTAL_COMP\", \"TOTAL_LIGHT\" ]\n",
    "\n",
    "min_max = MinMaxScaler()\n",
    "ohe = OneHotEncoder(sparse_output=False, handle_unknown='ignore')\n",
    "\n",
    "\n",
    "preprocessor = ColumnTransformer(transformers=[\n",
    "                                            ('min_max', min_max, to_scale),\n",
    "                                            ('ohe', ohe, to_ohe_encode)],\n",
    "                                            remainder = \"passthrough\")\n",
    "\n",
    "model = RandomForestRegressor()\n",
    "\n",
    "pipe_2 = Pipeline([('prep', preprocessor), ('model', model)])"
   ]
  },
  {
   "cell_type": "code",
   "execution_count": 13,
   "id": "51a74e80-76f3-4830-9b71-06ecdfc2be3c",
   "metadata": {},
   "outputs": [
    {
     "data": {
      "text/html": [
       "<style>#sk-container-id-1 {color: black;}#sk-container-id-1 pre{padding: 0;}#sk-container-id-1 div.sk-toggleable {background-color: white;}#sk-container-id-1 label.sk-toggleable__label {cursor: pointer;display: block;width: 100%;margin-bottom: 0;padding: 0.3em;box-sizing: border-box;text-align: center;}#sk-container-id-1 label.sk-toggleable__label-arrow:before {content: \"▸\";float: left;margin-right: 0.25em;color: #696969;}#sk-container-id-1 label.sk-toggleable__label-arrow:hover:before {color: black;}#sk-container-id-1 div.sk-estimator:hover label.sk-toggleable__label-arrow:before {color: black;}#sk-container-id-1 div.sk-toggleable__content {max-height: 0;max-width: 0;overflow: hidden;text-align: left;background-color: #f0f8ff;}#sk-container-id-1 div.sk-toggleable__content pre {margin: 0.2em;color: black;border-radius: 0.25em;background-color: #f0f8ff;}#sk-container-id-1 input.sk-toggleable__control:checked~div.sk-toggleable__content {max-height: 200px;max-width: 100%;overflow: auto;}#sk-container-id-1 input.sk-toggleable__control:checked~label.sk-toggleable__label-arrow:before {content: \"▾\";}#sk-container-id-1 div.sk-estimator input.sk-toggleable__control:checked~label.sk-toggleable__label {background-color: #d4ebff;}#sk-container-id-1 div.sk-label input.sk-toggleable__control:checked~label.sk-toggleable__label {background-color: #d4ebff;}#sk-container-id-1 input.sk-hidden--visually {border: 0;clip: rect(1px 1px 1px 1px);clip: rect(1px, 1px, 1px, 1px);height: 1px;margin: -1px;overflow: hidden;padding: 0;position: absolute;width: 1px;}#sk-container-id-1 div.sk-estimator {font-family: monospace;background-color: #f0f8ff;border: 1px dotted black;border-radius: 0.25em;box-sizing: border-box;margin-bottom: 0.5em;}#sk-container-id-1 div.sk-estimator:hover {background-color: #d4ebff;}#sk-container-id-1 div.sk-parallel-item::after {content: \"\";width: 100%;border-bottom: 1px solid gray;flex-grow: 1;}#sk-container-id-1 div.sk-label:hover label.sk-toggleable__label {background-color: #d4ebff;}#sk-container-id-1 div.sk-serial::before {content: \"\";position: absolute;border-left: 1px solid gray;box-sizing: border-box;top: 0;bottom: 0;left: 50%;z-index: 0;}#sk-container-id-1 div.sk-serial {display: flex;flex-direction: column;align-items: center;background-color: white;padding-right: 0.2em;padding-left: 0.2em;position: relative;}#sk-container-id-1 div.sk-item {position: relative;z-index: 1;}#sk-container-id-1 div.sk-parallel {display: flex;align-items: stretch;justify-content: center;background-color: white;position: relative;}#sk-container-id-1 div.sk-item::before, #sk-container-id-1 div.sk-parallel-item::before {content: \"\";position: absolute;border-left: 1px solid gray;box-sizing: border-box;top: 0;bottom: 0;left: 50%;z-index: -1;}#sk-container-id-1 div.sk-parallel-item {display: flex;flex-direction: column;z-index: 1;position: relative;background-color: white;}#sk-container-id-1 div.sk-parallel-item:first-child::after {align-self: flex-end;width: 50%;}#sk-container-id-1 div.sk-parallel-item:last-child::after {align-self: flex-start;width: 50%;}#sk-container-id-1 div.sk-parallel-item:only-child::after {width: 0;}#sk-container-id-1 div.sk-dashed-wrapped {border: 1px dashed gray;margin: 0 0.4em 0.5em 0.4em;box-sizing: border-box;padding-bottom: 0.4em;background-color: white;}#sk-container-id-1 div.sk-label label {font-family: monospace;font-weight: bold;display: inline-block;line-height: 1.2em;}#sk-container-id-1 div.sk-label-container {text-align: center;}#sk-container-id-1 div.sk-container {/* jupyter's `normalize.less` sets `[hidden] { display: none; }` but bootstrap.min.css set `[hidden] { display: none !important; }` so we also need the `!important` here to be able to override the default hidden behavior on the sphinx rendered scikit-learn.org. See: https://github.com/scikit-learn/scikit-learn/issues/21755 */display: inline-block !important;position: relative;}#sk-container-id-1 div.sk-text-repr-fallback {display: none;}</style><div id=\"sk-container-id-1\" class=\"sk-top-container\"><div class=\"sk-text-repr-fallback\"><pre>Pipeline(steps=[(&#x27;prep&#x27;,\n",
       "                 ColumnTransformer(remainder=&#x27;passthrough&#x27;,\n",
       "                                   transformers=[(&#x27;min_max&#x27;, MinMaxScaler(),\n",
       "                                                  [&#x27;NUMPORTEL&#x27;, &#x27;STORIES&#x27;,\n",
       "                                                   &#x27;SQFTEST&#x27;, &#x27;TOTROOMS&#x27;,\n",
       "                                                   &#x27;NUMFRIG&#x27;, &#x27;MICRO&#x27;,\n",
       "                                                   &#x27;TVCOLOR&#x27;, &#x27;NHSLDMEM&#x27;,\n",
       "                                                   &#x27;TOTAL_BATH&#x27;, &#x27;TOTAL_COMP&#x27;,\n",
       "                                                   &#x27;TOTAL_LIGHT&#x27;]),\n",
       "                                                 (&#x27;ohe&#x27;,\n",
       "                                                  OneHotEncoder(handle_unknown=&#x27;ignore&#x27;,\n",
       "                                                                sparse_output=False),\n",
       "                                                  [&#x27;REGIONC&#x27;, &#x27;state_name&#x27;,\n",
       "                                                   &#x27;BA_climate&#x27;, &#x27;TYPEHUQ&#x27;,\n",
       "                                                   &#x27;YEARMADERANGE&#x27;, &#x27;WALLTYPE&#x27;,\n",
       "                                                   &#x27;ROOFTYPE&#x27;, &#x27;WINDOWS&#x27;,\n",
       "                                                   &#x27;EQUIPM&#x27;])])),\n",
       "                (&#x27;model&#x27;, RandomForestRegressor())])</pre><b>In a Jupyter environment, please rerun this cell to show the HTML representation or trust the notebook. <br />On GitHub, the HTML representation is unable to render, please try loading this page with nbviewer.org.</b></div><div class=\"sk-container\" hidden><div class=\"sk-item sk-dashed-wrapped\"><div class=\"sk-label-container\"><div class=\"sk-label sk-toggleable\"><input class=\"sk-toggleable__control sk-hidden--visually\" id=\"sk-estimator-id-1\" type=\"checkbox\" ><label for=\"sk-estimator-id-1\" class=\"sk-toggleable__label sk-toggleable__label-arrow\">Pipeline</label><div class=\"sk-toggleable__content\"><pre>Pipeline(steps=[(&#x27;prep&#x27;,\n",
       "                 ColumnTransformer(remainder=&#x27;passthrough&#x27;,\n",
       "                                   transformers=[(&#x27;min_max&#x27;, MinMaxScaler(),\n",
       "                                                  [&#x27;NUMPORTEL&#x27;, &#x27;STORIES&#x27;,\n",
       "                                                   &#x27;SQFTEST&#x27;, &#x27;TOTROOMS&#x27;,\n",
       "                                                   &#x27;NUMFRIG&#x27;, &#x27;MICRO&#x27;,\n",
       "                                                   &#x27;TVCOLOR&#x27;, &#x27;NHSLDMEM&#x27;,\n",
       "                                                   &#x27;TOTAL_BATH&#x27;, &#x27;TOTAL_COMP&#x27;,\n",
       "                                                   &#x27;TOTAL_LIGHT&#x27;]),\n",
       "                                                 (&#x27;ohe&#x27;,\n",
       "                                                  OneHotEncoder(handle_unknown=&#x27;ignore&#x27;,\n",
       "                                                                sparse_output=False),\n",
       "                                                  [&#x27;REGIONC&#x27;, &#x27;state_name&#x27;,\n",
       "                                                   &#x27;BA_climate&#x27;, &#x27;TYPEHUQ&#x27;,\n",
       "                                                   &#x27;YEARMADERANGE&#x27;, &#x27;WALLTYPE&#x27;,\n",
       "                                                   &#x27;ROOFTYPE&#x27;, &#x27;WINDOWS&#x27;,\n",
       "                                                   &#x27;EQUIPM&#x27;])])),\n",
       "                (&#x27;model&#x27;, RandomForestRegressor())])</pre></div></div></div><div class=\"sk-serial\"><div class=\"sk-item sk-dashed-wrapped\"><div class=\"sk-label-container\"><div class=\"sk-label sk-toggleable\"><input class=\"sk-toggleable__control sk-hidden--visually\" id=\"sk-estimator-id-2\" type=\"checkbox\" ><label for=\"sk-estimator-id-2\" class=\"sk-toggleable__label sk-toggleable__label-arrow\">prep: ColumnTransformer</label><div class=\"sk-toggleable__content\"><pre>ColumnTransformer(remainder=&#x27;passthrough&#x27;,\n",
       "                  transformers=[(&#x27;min_max&#x27;, MinMaxScaler(),\n",
       "                                 [&#x27;NUMPORTEL&#x27;, &#x27;STORIES&#x27;, &#x27;SQFTEST&#x27;, &#x27;TOTROOMS&#x27;,\n",
       "                                  &#x27;NUMFRIG&#x27;, &#x27;MICRO&#x27;, &#x27;TVCOLOR&#x27;, &#x27;NHSLDMEM&#x27;,\n",
       "                                  &#x27;TOTAL_BATH&#x27;, &#x27;TOTAL_COMP&#x27;, &#x27;TOTAL_LIGHT&#x27;]),\n",
       "                                (&#x27;ohe&#x27;,\n",
       "                                 OneHotEncoder(handle_unknown=&#x27;ignore&#x27;,\n",
       "                                               sparse_output=False),\n",
       "                                 [&#x27;REGIONC&#x27;, &#x27;state_name&#x27;, &#x27;BA_climate&#x27;,\n",
       "                                  &#x27;TYPEHUQ&#x27;, &#x27;YEARMADERANGE&#x27;, &#x27;WALLTYPE&#x27;,\n",
       "                                  &#x27;ROOFTYPE&#x27;, &#x27;WINDOWS&#x27;, &#x27;EQUIPM&#x27;])])</pre></div></div></div><div class=\"sk-parallel\"><div class=\"sk-parallel-item\"><div class=\"sk-item\"><div class=\"sk-label-container\"><div class=\"sk-label sk-toggleable\"><input class=\"sk-toggleable__control sk-hidden--visually\" id=\"sk-estimator-id-3\" type=\"checkbox\" ><label for=\"sk-estimator-id-3\" class=\"sk-toggleable__label sk-toggleable__label-arrow\">min_max</label><div class=\"sk-toggleable__content\"><pre>[&#x27;NUMPORTEL&#x27;, &#x27;STORIES&#x27;, &#x27;SQFTEST&#x27;, &#x27;TOTROOMS&#x27;, &#x27;NUMFRIG&#x27;, &#x27;MICRO&#x27;, &#x27;TVCOLOR&#x27;, &#x27;NHSLDMEM&#x27;, &#x27;TOTAL_BATH&#x27;, &#x27;TOTAL_COMP&#x27;, &#x27;TOTAL_LIGHT&#x27;]</pre></div></div></div><div class=\"sk-serial\"><div class=\"sk-item\"><div class=\"sk-estimator sk-toggleable\"><input class=\"sk-toggleable__control sk-hidden--visually\" id=\"sk-estimator-id-4\" type=\"checkbox\" ><label for=\"sk-estimator-id-4\" class=\"sk-toggleable__label sk-toggleable__label-arrow\">MinMaxScaler</label><div class=\"sk-toggleable__content\"><pre>MinMaxScaler()</pre></div></div></div></div></div></div><div class=\"sk-parallel-item\"><div class=\"sk-item\"><div class=\"sk-label-container\"><div class=\"sk-label sk-toggleable\"><input class=\"sk-toggleable__control sk-hidden--visually\" id=\"sk-estimator-id-5\" type=\"checkbox\" ><label for=\"sk-estimator-id-5\" class=\"sk-toggleable__label sk-toggleable__label-arrow\">ohe</label><div class=\"sk-toggleable__content\"><pre>[&#x27;REGIONC&#x27;, &#x27;state_name&#x27;, &#x27;BA_climate&#x27;, &#x27;TYPEHUQ&#x27;, &#x27;YEARMADERANGE&#x27;, &#x27;WALLTYPE&#x27;, &#x27;ROOFTYPE&#x27;, &#x27;WINDOWS&#x27;, &#x27;EQUIPM&#x27;]</pre></div></div></div><div class=\"sk-serial\"><div class=\"sk-item\"><div class=\"sk-estimator sk-toggleable\"><input class=\"sk-toggleable__control sk-hidden--visually\" id=\"sk-estimator-id-6\" type=\"checkbox\" ><label for=\"sk-estimator-id-6\" class=\"sk-toggleable__label sk-toggleable__label-arrow\">OneHotEncoder</label><div class=\"sk-toggleable__content\"><pre>OneHotEncoder(handle_unknown=&#x27;ignore&#x27;, sparse_output=False)</pre></div></div></div></div></div></div><div class=\"sk-parallel-item\"><div class=\"sk-item\"><div class=\"sk-label-container\"><div class=\"sk-label sk-toggleable\"><input class=\"sk-toggleable__control sk-hidden--visually\" id=\"sk-estimator-id-7\" type=\"checkbox\" ><label for=\"sk-estimator-id-7\" class=\"sk-toggleable__label sk-toggleable__label-arrow\">remainder</label><div class=\"sk-toggleable__content\"><pre>[&#x27;SWIMPOOL&#x27;, &#x27;SOLAR&#x27;, &#x27;SMARTMETER&#x27;, &#x27;DISHWASH&#x27;, &#x27;CWASHER&#x27;, &#x27;DRYER&#x27;, &#x27;TELLWORK&#x27;, &#x27;HEATHOME&#x27;, &#x27;AIRCOND&#x27;]</pre></div></div></div><div class=\"sk-serial\"><div class=\"sk-item\"><div class=\"sk-estimator sk-toggleable\"><input class=\"sk-toggleable__control sk-hidden--visually\" id=\"sk-estimator-id-8\" type=\"checkbox\" ><label for=\"sk-estimator-id-8\" class=\"sk-toggleable__label sk-toggleable__label-arrow\">passthrough</label><div class=\"sk-toggleable__content\"><pre>passthrough</pre></div></div></div></div></div></div></div></div><div class=\"sk-item\"><div class=\"sk-estimator sk-toggleable\"><input class=\"sk-toggleable__control sk-hidden--visually\" id=\"sk-estimator-id-9\" type=\"checkbox\" ><label for=\"sk-estimator-id-9\" class=\"sk-toggleable__label sk-toggleable__label-arrow\">RandomForestRegressor</label><div class=\"sk-toggleable__content\"><pre>RandomForestRegressor()</pre></div></div></div></div></div></div></div>"
      ],
      "text/plain": [
       "Pipeline(steps=[('prep',\n",
       "                 ColumnTransformer(remainder='passthrough',\n",
       "                                   transformers=[('min_max', MinMaxScaler(),\n",
       "                                                  ['NUMPORTEL', 'STORIES',\n",
       "                                                   'SQFTEST', 'TOTROOMS',\n",
       "                                                   'NUMFRIG', 'MICRO',\n",
       "                                                   'TVCOLOR', 'NHSLDMEM',\n",
       "                                                   'TOTAL_BATH', 'TOTAL_COMP',\n",
       "                                                   'TOTAL_LIGHT']),\n",
       "                                                 ('ohe',\n",
       "                                                  OneHotEncoder(handle_unknown='ignore',\n",
       "                                                                sparse_output=False),\n",
       "                                                  ['REGIONC', 'state_name',\n",
       "                                                   'BA_climate', 'TYPEHUQ',\n",
       "                                                   'YEARMADERANGE', 'WALLTYPE',\n",
       "                                                   'ROOFTYPE', 'WINDOWS',\n",
       "                                                   'EQUIPM'])])),\n",
       "                ('model', RandomForestRegressor())])"
      ]
     },
     "execution_count": 13,
     "metadata": {},
     "output_type": "execute_result"
    }
   ],
   "source": [
    "pipe_2.fit(X_train,y_train)"
   ]
  },
  {
   "cell_type": "code",
   "execution_count": 15,
   "id": "df224537-328d-4aca-bd44-2c9a861843f2",
   "metadata": {},
   "outputs": [
    {
     "data": {
      "text/plain": [
       "0.46195432428379035"
      ]
     },
     "execution_count": 15,
     "metadata": {},
     "output_type": "execute_result"
    }
   ],
   "source": [
    "pipe_2.score(X_test,y_test)"
   ]
  },
  {
   "cell_type": "code",
   "execution_count": 320,
   "id": "728689de-c281-47eb-b576-b782479d9c84",
   "metadata": {},
   "outputs": [
    {
     "data": {
      "text/html": [
       "<style>#sk-container-id-20 {color: black;}#sk-container-id-20 pre{padding: 0;}#sk-container-id-20 div.sk-toggleable {background-color: white;}#sk-container-id-20 label.sk-toggleable__label {cursor: pointer;display: block;width: 100%;margin-bottom: 0;padding: 0.3em;box-sizing: border-box;text-align: center;}#sk-container-id-20 label.sk-toggleable__label-arrow:before {content: \"▸\";float: left;margin-right: 0.25em;color: #696969;}#sk-container-id-20 label.sk-toggleable__label-arrow:hover:before {color: black;}#sk-container-id-20 div.sk-estimator:hover label.sk-toggleable__label-arrow:before {color: black;}#sk-container-id-20 div.sk-toggleable__content {max-height: 0;max-width: 0;overflow: hidden;text-align: left;background-color: #f0f8ff;}#sk-container-id-20 div.sk-toggleable__content pre {margin: 0.2em;color: black;border-radius: 0.25em;background-color: #f0f8ff;}#sk-container-id-20 input.sk-toggleable__control:checked~div.sk-toggleable__content {max-height: 200px;max-width: 100%;overflow: auto;}#sk-container-id-20 input.sk-toggleable__control:checked~label.sk-toggleable__label-arrow:before {content: \"▾\";}#sk-container-id-20 div.sk-estimator input.sk-toggleable__control:checked~label.sk-toggleable__label {background-color: #d4ebff;}#sk-container-id-20 div.sk-label input.sk-toggleable__control:checked~label.sk-toggleable__label {background-color: #d4ebff;}#sk-container-id-20 input.sk-hidden--visually {border: 0;clip: rect(1px 1px 1px 1px);clip: rect(1px, 1px, 1px, 1px);height: 1px;margin: -1px;overflow: hidden;padding: 0;position: absolute;width: 1px;}#sk-container-id-20 div.sk-estimator {font-family: monospace;background-color: #f0f8ff;border: 1px dotted black;border-radius: 0.25em;box-sizing: border-box;margin-bottom: 0.5em;}#sk-container-id-20 div.sk-estimator:hover {background-color: #d4ebff;}#sk-container-id-20 div.sk-parallel-item::after {content: \"\";width: 100%;border-bottom: 1px solid gray;flex-grow: 1;}#sk-container-id-20 div.sk-label:hover label.sk-toggleable__label {background-color: #d4ebff;}#sk-container-id-20 div.sk-serial::before {content: \"\";position: absolute;border-left: 1px solid gray;box-sizing: border-box;top: 0;bottom: 0;left: 50%;z-index: 0;}#sk-container-id-20 div.sk-serial {display: flex;flex-direction: column;align-items: center;background-color: white;padding-right: 0.2em;padding-left: 0.2em;position: relative;}#sk-container-id-20 div.sk-item {position: relative;z-index: 1;}#sk-container-id-20 div.sk-parallel {display: flex;align-items: stretch;justify-content: center;background-color: white;position: relative;}#sk-container-id-20 div.sk-item::before, #sk-container-id-20 div.sk-parallel-item::before {content: \"\";position: absolute;border-left: 1px solid gray;box-sizing: border-box;top: 0;bottom: 0;left: 50%;z-index: -1;}#sk-container-id-20 div.sk-parallel-item {display: flex;flex-direction: column;z-index: 1;position: relative;background-color: white;}#sk-container-id-20 div.sk-parallel-item:first-child::after {align-self: flex-end;width: 50%;}#sk-container-id-20 div.sk-parallel-item:last-child::after {align-self: flex-start;width: 50%;}#sk-container-id-20 div.sk-parallel-item:only-child::after {width: 0;}#sk-container-id-20 div.sk-dashed-wrapped {border: 1px dashed gray;margin: 0 0.4em 0.5em 0.4em;box-sizing: border-box;padding-bottom: 0.4em;background-color: white;}#sk-container-id-20 div.sk-label label {font-family: monospace;font-weight: bold;display: inline-block;line-height: 1.2em;}#sk-container-id-20 div.sk-label-container {text-align: center;}#sk-container-id-20 div.sk-container {/* jupyter's `normalize.less` sets `[hidden] { display: none; }` but bootstrap.min.css set `[hidden] { display: none !important; }` so we also need the `!important` here to be able to override the default hidden behavior on the sphinx rendered scikit-learn.org. See: https://github.com/scikit-learn/scikit-learn/issues/21755 */display: inline-block !important;position: relative;}#sk-container-id-20 div.sk-text-repr-fallback {display: none;}</style><div id=\"sk-container-id-20\" class=\"sk-top-container\"><div class=\"sk-text-repr-fallback\"><pre>ColumnTransformer(remainder=&#x27;passthrough&#x27;,\n",
       "                  transformers=[(&#x27;min_max&#x27;, MinMaxScaler(),\n",
       "                                 [&#x27;NUMPORTEL&#x27;, &#x27;STORIES&#x27;, &#x27;SQFTEST&#x27;, &#x27;TOTROOMS&#x27;,\n",
       "                                  &#x27;NUMFRIG&#x27;, &#x27;MICRO&#x27;, &#x27;TVCOLOR&#x27;, &#x27;NHSLDMEM&#x27;,\n",
       "                                  &#x27;TOTAL_BATH&#x27;, &#x27;TOTAL_COMP&#x27;, &#x27;TOTAL_LIGHT&#x27;]),\n",
       "                                (&#x27;ohe&#x27;,\n",
       "                                 OneHotEncoder(handle_unknown=&#x27;ignore&#x27;,\n",
       "                                               sparse_output=False),\n",
       "                                 [&#x27;REGIONC&#x27;, &#x27;state_name&#x27;, &#x27;BA_climate&#x27;,\n",
       "                                  &#x27;TYPEHUQ&#x27;, &#x27;YEARMADERANGE&#x27;, &#x27;WALLTYPE&#x27;,\n",
       "                                  &#x27;ROOFTYPE&#x27;, &#x27;WINDOWS&#x27;, &#x27;EQUIPM&#x27;])])</pre><b>In a Jupyter environment, please rerun this cell to show the HTML representation or trust the notebook. <br />On GitHub, the HTML representation is unable to render, please try loading this page with nbviewer.org.</b></div><div class=\"sk-container\" hidden><div class=\"sk-item sk-dashed-wrapped\"><div class=\"sk-label-container\"><div class=\"sk-label sk-toggleable\"><input class=\"sk-toggleable__control sk-hidden--visually\" id=\"sk-estimator-id-132\" type=\"checkbox\" ><label for=\"sk-estimator-id-132\" class=\"sk-toggleable__label sk-toggleable__label-arrow\">ColumnTransformer</label><div class=\"sk-toggleable__content\"><pre>ColumnTransformer(remainder=&#x27;passthrough&#x27;,\n",
       "                  transformers=[(&#x27;min_max&#x27;, MinMaxScaler(),\n",
       "                                 [&#x27;NUMPORTEL&#x27;, &#x27;STORIES&#x27;, &#x27;SQFTEST&#x27;, &#x27;TOTROOMS&#x27;,\n",
       "                                  &#x27;NUMFRIG&#x27;, &#x27;MICRO&#x27;, &#x27;TVCOLOR&#x27;, &#x27;NHSLDMEM&#x27;,\n",
       "                                  &#x27;TOTAL_BATH&#x27;, &#x27;TOTAL_COMP&#x27;, &#x27;TOTAL_LIGHT&#x27;]),\n",
       "                                (&#x27;ohe&#x27;,\n",
       "                                 OneHotEncoder(handle_unknown=&#x27;ignore&#x27;,\n",
       "                                               sparse_output=False),\n",
       "                                 [&#x27;REGIONC&#x27;, &#x27;state_name&#x27;, &#x27;BA_climate&#x27;,\n",
       "                                  &#x27;TYPEHUQ&#x27;, &#x27;YEARMADERANGE&#x27;, &#x27;WALLTYPE&#x27;,\n",
       "                                  &#x27;ROOFTYPE&#x27;, &#x27;WINDOWS&#x27;, &#x27;EQUIPM&#x27;])])</pre></div></div></div><div class=\"sk-parallel\"><div class=\"sk-parallel-item\"><div class=\"sk-item\"><div class=\"sk-label-container\"><div class=\"sk-label sk-toggleable\"><input class=\"sk-toggleable__control sk-hidden--visually\" id=\"sk-estimator-id-133\" type=\"checkbox\" ><label for=\"sk-estimator-id-133\" class=\"sk-toggleable__label sk-toggleable__label-arrow\">min_max</label><div class=\"sk-toggleable__content\"><pre>[&#x27;NUMPORTEL&#x27;, &#x27;STORIES&#x27;, &#x27;SQFTEST&#x27;, &#x27;TOTROOMS&#x27;, &#x27;NUMFRIG&#x27;, &#x27;MICRO&#x27;, &#x27;TVCOLOR&#x27;, &#x27;NHSLDMEM&#x27;, &#x27;TOTAL_BATH&#x27;, &#x27;TOTAL_COMP&#x27;, &#x27;TOTAL_LIGHT&#x27;]</pre></div></div></div><div class=\"sk-serial\"><div class=\"sk-item\"><div class=\"sk-estimator sk-toggleable\"><input class=\"sk-toggleable__control sk-hidden--visually\" id=\"sk-estimator-id-134\" type=\"checkbox\" ><label for=\"sk-estimator-id-134\" class=\"sk-toggleable__label sk-toggleable__label-arrow\">MinMaxScaler</label><div class=\"sk-toggleable__content\"><pre>MinMaxScaler()</pre></div></div></div></div></div></div><div class=\"sk-parallel-item\"><div class=\"sk-item\"><div class=\"sk-label-container\"><div class=\"sk-label sk-toggleable\"><input class=\"sk-toggleable__control sk-hidden--visually\" id=\"sk-estimator-id-135\" type=\"checkbox\" ><label for=\"sk-estimator-id-135\" class=\"sk-toggleable__label sk-toggleable__label-arrow\">ohe</label><div class=\"sk-toggleable__content\"><pre>[&#x27;REGIONC&#x27;, &#x27;state_name&#x27;, &#x27;BA_climate&#x27;, &#x27;TYPEHUQ&#x27;, &#x27;YEARMADERANGE&#x27;, &#x27;WALLTYPE&#x27;, &#x27;ROOFTYPE&#x27;, &#x27;WINDOWS&#x27;, &#x27;EQUIPM&#x27;]</pre></div></div></div><div class=\"sk-serial\"><div class=\"sk-item\"><div class=\"sk-estimator sk-toggleable\"><input class=\"sk-toggleable__control sk-hidden--visually\" id=\"sk-estimator-id-136\" type=\"checkbox\" ><label for=\"sk-estimator-id-136\" class=\"sk-toggleable__label sk-toggleable__label-arrow\">OneHotEncoder</label><div class=\"sk-toggleable__content\"><pre>OneHotEncoder(handle_unknown=&#x27;ignore&#x27;, sparse_output=False)</pre></div></div></div></div></div></div><div class=\"sk-parallel-item\"><div class=\"sk-item\"><div class=\"sk-label-container\"><div class=\"sk-label sk-toggleable\"><input class=\"sk-toggleable__control sk-hidden--visually\" id=\"sk-estimator-id-137\" type=\"checkbox\" ><label for=\"sk-estimator-id-137\" class=\"sk-toggleable__label sk-toggleable__label-arrow\">remainder</label><div class=\"sk-toggleable__content\"><pre>[&#x27;SWIMPOOL&#x27;, &#x27;SOLAR&#x27;, &#x27;SMARTMETER&#x27;, &#x27;DISHWASH&#x27;, &#x27;CWASHER&#x27;, &#x27;DRYER&#x27;, &#x27;TELLWORK&#x27;, &#x27;HEATHOME&#x27;, &#x27;AIRCOND&#x27;]</pre></div></div></div><div class=\"sk-serial\"><div class=\"sk-item\"><div class=\"sk-estimator sk-toggleable\"><input class=\"sk-toggleable__control sk-hidden--visually\" id=\"sk-estimator-id-138\" type=\"checkbox\" ><label for=\"sk-estimator-id-138\" class=\"sk-toggleable__label sk-toggleable__label-arrow\">passthrough</label><div class=\"sk-toggleable__content\"><pre>passthrough</pre></div></div></div></div></div></div></div></div></div></div>"
      ],
      "text/plain": [
       "ColumnTransformer(remainder='passthrough',\n",
       "                  transformers=[('min_max', MinMaxScaler(),\n",
       "                                 ['NUMPORTEL', 'STORIES', 'SQFTEST', 'TOTROOMS',\n",
       "                                  'NUMFRIG', 'MICRO', 'TVCOLOR', 'NHSLDMEM',\n",
       "                                  'TOTAL_BATH', 'TOTAL_COMP', 'TOTAL_LIGHT']),\n",
       "                                ('ohe',\n",
       "                                 OneHotEncoder(handle_unknown='ignore',\n",
       "                                               sparse_output=False),\n",
       "                                 ['REGIONC', 'state_name', 'BA_climate',\n",
       "                                  'TYPEHUQ', 'YEARMADERANGE', 'WALLTYPE',\n",
       "                                  'ROOFTYPE', 'WINDOWS', 'EQUIPM'])])"
      ]
     },
     "execution_count": 320,
     "metadata": {},
     "output_type": "execute_result"
    }
   ],
   "source": [
    "preprocessor.fit(X_train)"
   ]
  },
  {
   "cell_type": "code",
   "execution_count": 321,
   "id": "136ebddc-c1fc-47f2-87f3-a18ede76904a",
   "metadata": {},
   "outputs": [],
   "source": [
    "X_train_prep = preprocessor.transform(X_train)"
   ]
  },
  {
   "cell_type": "code",
   "execution_count": 322,
   "id": "703cf381-dc22-4e11-8d96-325055b7aee8",
   "metadata": {},
   "outputs": [],
   "source": [
    "model = RandomForestRegressor()"
   ]
  },
  {
   "cell_type": "code",
   "execution_count": 323,
   "id": "203ea515-64fe-477a-acf7-8deccd3789a1",
   "metadata": {},
   "outputs": [
    {
     "data": {
      "text/html": [
       "<style>#sk-container-id-21 {color: black;}#sk-container-id-21 pre{padding: 0;}#sk-container-id-21 div.sk-toggleable {background-color: white;}#sk-container-id-21 label.sk-toggleable__label {cursor: pointer;display: block;width: 100%;margin-bottom: 0;padding: 0.3em;box-sizing: border-box;text-align: center;}#sk-container-id-21 label.sk-toggleable__label-arrow:before {content: \"▸\";float: left;margin-right: 0.25em;color: #696969;}#sk-container-id-21 label.sk-toggleable__label-arrow:hover:before {color: black;}#sk-container-id-21 div.sk-estimator:hover label.sk-toggleable__label-arrow:before {color: black;}#sk-container-id-21 div.sk-toggleable__content {max-height: 0;max-width: 0;overflow: hidden;text-align: left;background-color: #f0f8ff;}#sk-container-id-21 div.sk-toggleable__content pre {margin: 0.2em;color: black;border-radius: 0.25em;background-color: #f0f8ff;}#sk-container-id-21 input.sk-toggleable__control:checked~div.sk-toggleable__content {max-height: 200px;max-width: 100%;overflow: auto;}#sk-container-id-21 input.sk-toggleable__control:checked~label.sk-toggleable__label-arrow:before {content: \"▾\";}#sk-container-id-21 div.sk-estimator input.sk-toggleable__control:checked~label.sk-toggleable__label {background-color: #d4ebff;}#sk-container-id-21 div.sk-label input.sk-toggleable__control:checked~label.sk-toggleable__label {background-color: #d4ebff;}#sk-container-id-21 input.sk-hidden--visually {border: 0;clip: rect(1px 1px 1px 1px);clip: rect(1px, 1px, 1px, 1px);height: 1px;margin: -1px;overflow: hidden;padding: 0;position: absolute;width: 1px;}#sk-container-id-21 div.sk-estimator {font-family: monospace;background-color: #f0f8ff;border: 1px dotted black;border-radius: 0.25em;box-sizing: border-box;margin-bottom: 0.5em;}#sk-container-id-21 div.sk-estimator:hover {background-color: #d4ebff;}#sk-container-id-21 div.sk-parallel-item::after {content: \"\";width: 100%;border-bottom: 1px solid gray;flex-grow: 1;}#sk-container-id-21 div.sk-label:hover label.sk-toggleable__label {background-color: #d4ebff;}#sk-container-id-21 div.sk-serial::before {content: \"\";position: absolute;border-left: 1px solid gray;box-sizing: border-box;top: 0;bottom: 0;left: 50%;z-index: 0;}#sk-container-id-21 div.sk-serial {display: flex;flex-direction: column;align-items: center;background-color: white;padding-right: 0.2em;padding-left: 0.2em;position: relative;}#sk-container-id-21 div.sk-item {position: relative;z-index: 1;}#sk-container-id-21 div.sk-parallel {display: flex;align-items: stretch;justify-content: center;background-color: white;position: relative;}#sk-container-id-21 div.sk-item::before, #sk-container-id-21 div.sk-parallel-item::before {content: \"\";position: absolute;border-left: 1px solid gray;box-sizing: border-box;top: 0;bottom: 0;left: 50%;z-index: -1;}#sk-container-id-21 div.sk-parallel-item {display: flex;flex-direction: column;z-index: 1;position: relative;background-color: white;}#sk-container-id-21 div.sk-parallel-item:first-child::after {align-self: flex-end;width: 50%;}#sk-container-id-21 div.sk-parallel-item:last-child::after {align-self: flex-start;width: 50%;}#sk-container-id-21 div.sk-parallel-item:only-child::after {width: 0;}#sk-container-id-21 div.sk-dashed-wrapped {border: 1px dashed gray;margin: 0 0.4em 0.5em 0.4em;box-sizing: border-box;padding-bottom: 0.4em;background-color: white;}#sk-container-id-21 div.sk-label label {font-family: monospace;font-weight: bold;display: inline-block;line-height: 1.2em;}#sk-container-id-21 div.sk-label-container {text-align: center;}#sk-container-id-21 div.sk-container {/* jupyter's `normalize.less` sets `[hidden] { display: none; }` but bootstrap.min.css set `[hidden] { display: none !important; }` so we also need the `!important` here to be able to override the default hidden behavior on the sphinx rendered scikit-learn.org. See: https://github.com/scikit-learn/scikit-learn/issues/21755 */display: inline-block !important;position: relative;}#sk-container-id-21 div.sk-text-repr-fallback {display: none;}</style><div id=\"sk-container-id-21\" class=\"sk-top-container\"><div class=\"sk-text-repr-fallback\"><pre>RandomForestRegressor()</pre><b>In a Jupyter environment, please rerun this cell to show the HTML representation or trust the notebook. <br />On GitHub, the HTML representation is unable to render, please try loading this page with nbviewer.org.</b></div><div class=\"sk-container\" hidden><div class=\"sk-item\"><div class=\"sk-estimator sk-toggleable\"><input class=\"sk-toggleable__control sk-hidden--visually\" id=\"sk-estimator-id-139\" type=\"checkbox\" checked><label for=\"sk-estimator-id-139\" class=\"sk-toggleable__label sk-toggleable__label-arrow\">RandomForestRegressor</label><div class=\"sk-toggleable__content\"><pre>RandomForestRegressor()</pre></div></div></div></div></div>"
      ],
      "text/plain": [
       "RandomForestRegressor()"
      ]
     },
     "execution_count": 323,
     "metadata": {},
     "output_type": "execute_result"
    }
   ],
   "source": [
    "model.fit(X_train_prep, y_train)"
   ]
  },
  {
   "cell_type": "code",
   "execution_count": 331,
   "id": "a179d0e9-b7d7-4ea3-901f-e1230717781b",
   "metadata": {},
   "outputs": [
    {
     "data": {
      "text/html": [
       "<div>\n",
       "<style scoped>\n",
       "    .dataframe tbody tr th:only-of-type {\n",
       "        vertical-align: middle;\n",
       "    }\n",
       "\n",
       "    .dataframe tbody tr th {\n",
       "        vertical-align: top;\n",
       "    }\n",
       "\n",
       "    .dataframe thead th {\n",
       "        text-align: right;\n",
       "    }\n",
       "</style>\n",
       "<table border=\"1\" class=\"dataframe\">\n",
       "  <thead>\n",
       "    <tr style=\"text-align: right;\">\n",
       "      <th></th>\n",
       "      <th>index</th>\n",
       "      <th>0</th>\n",
       "    </tr>\n",
       "  </thead>\n",
       "  <tbody>\n",
       "    <tr>\n",
       "      <th>5</th>\n",
       "      <td>min_max__MICRO</td>\n",
       "      <td>0.005087</td>\n",
       "    </tr>\n",
       "    <tr>\n",
       "      <th>7</th>\n",
       "      <td>min_max__NHSLDMEM</td>\n",
       "      <td>0.057803</td>\n",
       "    </tr>\n",
       "    <tr>\n",
       "      <th>4</th>\n",
       "      <td>min_max__NUMFRIG</td>\n",
       "      <td>0.030783</td>\n",
       "    </tr>\n",
       "    <tr>\n",
       "      <th>0</th>\n",
       "      <td>min_max__NUMPORTEL</td>\n",
       "      <td>0.018243</td>\n",
       "    </tr>\n",
       "    <tr>\n",
       "      <th>2</th>\n",
       "      <td>min_max__SQFTEST</td>\n",
       "      <td>0.188624</td>\n",
       "    </tr>\n",
       "    <tr>\n",
       "      <th>1</th>\n",
       "      <td>min_max__STORIES</td>\n",
       "      <td>0.008564</td>\n",
       "    </tr>\n",
       "    <tr>\n",
       "      <th>8</th>\n",
       "      <td>min_max__TOTAL_BATH</td>\n",
       "      <td>0.016074</td>\n",
       "    </tr>\n",
       "    <tr>\n",
       "      <th>9</th>\n",
       "      <td>min_max__TOTAL_COMP</td>\n",
       "      <td>0.024478</td>\n",
       "    </tr>\n",
       "    <tr>\n",
       "      <th>10</th>\n",
       "      <td>min_max__TOTAL_LIGHT</td>\n",
       "      <td>0.055183</td>\n",
       "    </tr>\n",
       "    <tr>\n",
       "      <th>3</th>\n",
       "      <td>min_max__TOTROOMS</td>\n",
       "      <td>0.046265</td>\n",
       "    </tr>\n",
       "    <tr>\n",
       "      <th>6</th>\n",
       "      <td>min_max__TVCOLOR</td>\n",
       "      <td>0.061874</td>\n",
       "    </tr>\n",
       "    <tr>\n",
       "      <th>66</th>\n",
       "      <td>ohe__BA_climate_Cold</td>\n",
       "      <td>0.004112</td>\n",
       "    </tr>\n",
       "    <tr>\n",
       "      <th>67</th>\n",
       "      <td>ohe__BA_climate_Hot-Dry</td>\n",
       "      <td>0.001887</td>\n",
       "    </tr>\n",
       "    <tr>\n",
       "      <th>68</th>\n",
       "      <td>ohe__BA_climate_Hot-Humid</td>\n",
       "      <td>0.002722</td>\n",
       "    </tr>\n",
       "    <tr>\n",
       "      <th>69</th>\n",
       "      <td>ohe__BA_climate_Marine</td>\n",
       "      <td>0.001457</td>\n",
       "    </tr>\n",
       "    <tr>\n",
       "      <th>70</th>\n",
       "      <td>ohe__BA_climate_Mixed-Dry</td>\n",
       "      <td>0.000370</td>\n",
       "    </tr>\n",
       "    <tr>\n",
       "      <th>71</th>\n",
       "      <td>ohe__BA_climate_Mixed-Humid</td>\n",
       "      <td>0.003980</td>\n",
       "    </tr>\n",
       "    <tr>\n",
       "      <th>72</th>\n",
       "      <td>ohe__BA_climate_Subarctic</td>\n",
       "      <td>0.000126</td>\n",
       "    </tr>\n",
       "    <tr>\n",
       "      <th>73</th>\n",
       "      <td>ohe__BA_climate_Very-Cold</td>\n",
       "      <td>0.002244</td>\n",
       "    </tr>\n",
       "    <tr>\n",
       "      <th>110</th>\n",
       "      <td>ohe__EQUIPM_Central_heat</td>\n",
       "      <td>0.036180</td>\n",
       "    </tr>\n",
       "    <tr>\n",
       "      <th>111</th>\n",
       "      <td>ohe__EQUIPM_Ductless_heat</td>\n",
       "      <td>0.001969</td>\n",
       "    </tr>\n",
       "    <tr>\n",
       "      <th>112</th>\n",
       "      <td>ohe__EQUIPM_Electric_heater</td>\n",
       "      <td>0.001520</td>\n",
       "    </tr>\n",
       "    <tr>\n",
       "      <th>113</th>\n",
       "      <td>ohe__EQUIPM_Electric_units</td>\n",
       "      <td>0.020575</td>\n",
       "    </tr>\n",
       "    <tr>\n",
       "      <th>114</th>\n",
       "      <td>ohe__EQUIPM_Furnace</td>\n",
       "      <td>0.007426</td>\n",
       "    </tr>\n",
       "    <tr>\n",
       "      <th>115</th>\n",
       "      <td>ohe__EQUIPM_Other</td>\n",
       "      <td>0.001532</td>\n",
       "    </tr>\n",
       "    <tr>\n",
       "      <th>116</th>\n",
       "      <td>ohe__EQUIPM_Room_heater</td>\n",
       "      <td>0.001171</td>\n",
       "    </tr>\n",
       "    <tr>\n",
       "      <th>117</th>\n",
       "      <td>ohe__EQUIPM_Steam</td>\n",
       "      <td>0.003259</td>\n",
       "    </tr>\n",
       "    <tr>\n",
       "      <th>118</th>\n",
       "      <td>ohe__EQUIPM_Wood</td>\n",
       "      <td>0.002158</td>\n",
       "    </tr>\n",
       "    <tr>\n",
       "      <th>11</th>\n",
       "      <td>ohe__REGIONC_MIDWEST</td>\n",
       "      <td>0.006702</td>\n",
       "    </tr>\n",
       "    <tr>\n",
       "      <th>12</th>\n",
       "      <td>ohe__REGIONC_NORTHEAST</td>\n",
       "      <td>0.002673</td>\n",
       "    </tr>\n",
       "    <tr>\n",
       "      <th>13</th>\n",
       "      <td>ohe__REGIONC_SOUTH</td>\n",
       "      <td>0.079936</td>\n",
       "    </tr>\n",
       "    <tr>\n",
       "      <th>14</th>\n",
       "      <td>ohe__REGIONC_WEST</td>\n",
       "      <td>0.001849</td>\n",
       "    </tr>\n",
       "    <tr>\n",
       "      <th>96</th>\n",
       "      <td>ohe__ROOFTYPE_Ceramic</td>\n",
       "      <td>0.002218</td>\n",
       "    </tr>\n",
       "    <tr>\n",
       "      <th>97</th>\n",
       "      <td>ohe__ROOFTYPE_Concrete</td>\n",
       "      <td>0.001435</td>\n",
       "    </tr>\n",
       "    <tr>\n",
       "      <th>98</th>\n",
       "      <td>ohe__ROOFTYPE_Metal</td>\n",
       "      <td>0.005215</td>\n",
       "    </tr>\n",
       "    <tr>\n",
       "      <th>99</th>\n",
       "      <td>ohe__ROOFTYPE_Other</td>\n",
       "      <td>0.005138</td>\n",
       "    </tr>\n",
       "    <tr>\n",
       "      <th>100</th>\n",
       "      <td>ohe__ROOFTYPE_Shingle</td>\n",
       "      <td>0.004487</td>\n",
       "    </tr>\n",
       "    <tr>\n",
       "      <th>101</th>\n",
       "      <td>ohe__ROOFTYPE_Slate</td>\n",
       "      <td>0.000759</td>\n",
       "    </tr>\n",
       "    <tr>\n",
       "      <th>102</th>\n",
       "      <td>ohe__ROOFTYPE_Wood</td>\n",
       "      <td>0.002176</td>\n",
       "    </tr>\n",
       "    <tr>\n",
       "      <th>74</th>\n",
       "      <td>ohe__TYPEHUQ_Appartment_big</td>\n",
       "      <td>0.003967</td>\n",
       "    </tr>\n",
       "    <tr>\n",
       "      <th>75</th>\n",
       "      <td>ohe__TYPEHUQ_Appartment_small</td>\n",
       "      <td>0.001741</td>\n",
       "    </tr>\n",
       "    <tr>\n",
       "      <th>76</th>\n",
       "      <td>ohe__TYPEHUQ_Mobile</td>\n",
       "      <td>0.008136</td>\n",
       "    </tr>\n",
       "    <tr>\n",
       "      <th>77</th>\n",
       "      <td>ohe__TYPEHUQ_Single_attached</td>\n",
       "      <td>0.003515</td>\n",
       "    </tr>\n",
       "    <tr>\n",
       "      <th>78</th>\n",
       "      <td>ohe__TYPEHUQ_Single_detached</td>\n",
       "      <td>0.009196</td>\n",
       "    </tr>\n",
       "    <tr>\n",
       "      <th>88</th>\n",
       "      <td>ohe__WALLTYPE_Brick</td>\n",
       "      <td>0.005246</td>\n",
       "    </tr>\n",
       "    <tr>\n",
       "      <th>89</th>\n",
       "      <td>ohe__WALLTYPE_Concrete</td>\n",
       "      <td>0.002468</td>\n",
       "    </tr>\n",
       "    <tr>\n",
       "      <th>90</th>\n",
       "      <td>ohe__WALLTYPE_Other</td>\n",
       "      <td>0.000219</td>\n",
       "    </tr>\n",
       "    <tr>\n",
       "      <th>91</th>\n",
       "      <td>ohe__WALLTYPE_Shingle</td>\n",
       "      <td>0.001128</td>\n",
       "    </tr>\n",
       "    <tr>\n",
       "      <th>92</th>\n",
       "      <td>ohe__WALLTYPE_Siding</td>\n",
       "      <td>0.007003</td>\n",
       "    </tr>\n",
       "    <tr>\n",
       "      <th>93</th>\n",
       "      <td>ohe__WALLTYPE_Stone</td>\n",
       "      <td>0.001105</td>\n",
       "    </tr>\n",
       "    <tr>\n",
       "      <th>94</th>\n",
       "      <td>ohe__WALLTYPE_Stucco</td>\n",
       "      <td>0.002464</td>\n",
       "    </tr>\n",
       "    <tr>\n",
       "      <th>95</th>\n",
       "      <td>ohe__WALLTYPE_Wood</td>\n",
       "      <td>0.004243</td>\n",
       "    </tr>\n",
       "    <tr>\n",
       "      <th>103</th>\n",
       "      <td>ohe__WINDOWS_1</td>\n",
       "      <td>0.000581</td>\n",
       "    </tr>\n",
       "    <tr>\n",
       "      <th>104</th>\n",
       "      <td>ohe__WINDOWS_2</td>\n",
       "      <td>0.002619</td>\n",
       "    </tr>\n",
       "    <tr>\n",
       "      <th>105</th>\n",
       "      <td>ohe__WINDOWS_3</td>\n",
       "      <td>0.005025</td>\n",
       "    </tr>\n",
       "    <tr>\n",
       "      <th>106</th>\n",
       "      <td>ohe__WINDOWS_4</td>\n",
       "      <td>0.007015</td>\n",
       "    </tr>\n",
       "    <tr>\n",
       "      <th>107</th>\n",
       "      <td>ohe__WINDOWS_5</td>\n",
       "      <td>0.004892</td>\n",
       "    </tr>\n",
       "    <tr>\n",
       "      <th>108</th>\n",
       "      <td>ohe__WINDOWS_6</td>\n",
       "      <td>0.004065</td>\n",
       "    </tr>\n",
       "    <tr>\n",
       "      <th>109</th>\n",
       "      <td>ohe__WINDOWS_7</td>\n",
       "      <td>0.002030</td>\n",
       "    </tr>\n",
       "    <tr>\n",
       "      <th>79</th>\n",
       "      <td>ohe__YEARMADERANGE_00-09</td>\n",
       "      <td>0.004789</td>\n",
       "    </tr>\n",
       "    <tr>\n",
       "      <th>80</th>\n",
       "      <td>ohe__YEARMADERANGE_2010-15</td>\n",
       "      <td>0.003794</td>\n",
       "    </tr>\n",
       "    <tr>\n",
       "      <th>81</th>\n",
       "      <td>ohe__YEARMADERANGE_2016-20</td>\n",
       "      <td>0.003025</td>\n",
       "    </tr>\n",
       "    <tr>\n",
       "      <th>82</th>\n",
       "      <td>ohe__YEARMADERANGE_50-59</td>\n",
       "      <td>0.004577</td>\n",
       "    </tr>\n",
       "    <tr>\n",
       "      <th>83</th>\n",
       "      <td>ohe__YEARMADERANGE_60-69</td>\n",
       "      <td>0.004090</td>\n",
       "    </tr>\n",
       "    <tr>\n",
       "      <th>84</th>\n",
       "      <td>ohe__YEARMADERANGE_70-79</td>\n",
       "      <td>0.008029</td>\n",
       "    </tr>\n",
       "    <tr>\n",
       "      <th>85</th>\n",
       "      <td>ohe__YEARMADERANGE_80-89</td>\n",
       "      <td>0.005842</td>\n",
       "    </tr>\n",
       "    <tr>\n",
       "      <th>86</th>\n",
       "      <td>ohe__YEARMADERANGE_90-99</td>\n",
       "      <td>0.005063</td>\n",
       "    </tr>\n",
       "    <tr>\n",
       "      <th>87</th>\n",
       "      <td>ohe__YEARMADERANGE_Before_50</td>\n",
       "      <td>0.005350</td>\n",
       "    </tr>\n",
       "    <tr>\n",
       "      <th>15</th>\n",
       "      <td>ohe__state_name_Alabama</td>\n",
       "      <td>0.001500</td>\n",
       "    </tr>\n",
       "    <tr>\n",
       "      <th>16</th>\n",
       "      <td>ohe__state_name_Alaska</td>\n",
       "      <td>0.000365</td>\n",
       "    </tr>\n",
       "    <tr>\n",
       "      <th>17</th>\n",
       "      <td>ohe__state_name_Arizona</td>\n",
       "      <td>0.005577</td>\n",
       "    </tr>\n",
       "    <tr>\n",
       "      <th>18</th>\n",
       "      <td>ohe__state_name_Arkansas</td>\n",
       "      <td>0.001807</td>\n",
       "    </tr>\n",
       "    <tr>\n",
       "      <th>19</th>\n",
       "      <td>ohe__state_name_California</td>\n",
       "      <td>0.004957</td>\n",
       "    </tr>\n",
       "    <tr>\n",
       "      <th>20</th>\n",
       "      <td>ohe__state_name_Colorado</td>\n",
       "      <td>0.000936</td>\n",
       "    </tr>\n",
       "    <tr>\n",
       "      <th>21</th>\n",
       "      <td>ohe__state_name_Connecticut</td>\n",
       "      <td>0.000811</td>\n",
       "    </tr>\n",
       "    <tr>\n",
       "      <th>22</th>\n",
       "      <td>ohe__state_name_Delaware</td>\n",
       "      <td>0.000812</td>\n",
       "    </tr>\n",
       "    <tr>\n",
       "      <th>23</th>\n",
       "      <td>ohe__state_name_District of Columbia</td>\n",
       "      <td>0.000613</td>\n",
       "    </tr>\n",
       "    <tr>\n",
       "      <th>24</th>\n",
       "      <td>ohe__state_name_Florida</td>\n",
       "      <td>0.001563</td>\n",
       "    </tr>\n",
       "    <tr>\n",
       "      <th>25</th>\n",
       "      <td>ohe__state_name_Georgia</td>\n",
       "      <td>0.001372</td>\n",
       "    </tr>\n",
       "    <tr>\n",
       "      <th>26</th>\n",
       "      <td>ohe__state_name_Hawaii</td>\n",
       "      <td>0.000366</td>\n",
       "    </tr>\n",
       "    <tr>\n",
       "      <th>27</th>\n",
       "      <td>ohe__state_name_Idaho</td>\n",
       "      <td>0.002058</td>\n",
       "    </tr>\n",
       "    <tr>\n",
       "      <th>28</th>\n",
       "      <td>ohe__state_name_Illinois</td>\n",
       "      <td>0.001443</td>\n",
       "    </tr>\n",
       "    <tr>\n",
       "      <th>29</th>\n",
       "      <td>ohe__state_name_Indiana</td>\n",
       "      <td>0.003393</td>\n",
       "    </tr>\n",
       "    <tr>\n",
       "      <th>30</th>\n",
       "      <td>ohe__state_name_Iowa</td>\n",
       "      <td>0.002022</td>\n",
       "    </tr>\n",
       "    <tr>\n",
       "      <th>31</th>\n",
       "      <td>ohe__state_name_Kansas</td>\n",
       "      <td>0.001352</td>\n",
       "    </tr>\n",
       "    <tr>\n",
       "      <th>32</th>\n",
       "      <td>ohe__state_name_Kentucky</td>\n",
       "      <td>0.001798</td>\n",
       "    </tr>\n",
       "    <tr>\n",
       "      <th>33</th>\n",
       "      <td>ohe__state_name_Louisiana</td>\n",
       "      <td>0.001545</td>\n",
       "    </tr>\n",
       "    <tr>\n",
       "      <th>34</th>\n",
       "      <td>ohe__state_name_Maine</td>\n",
       "      <td>0.000651</td>\n",
       "    </tr>\n",
       "    <tr>\n",
       "      <th>35</th>\n",
       "      <td>ohe__state_name_Maryland</td>\n",
       "      <td>0.001115</td>\n",
       "    </tr>\n",
       "    <tr>\n",
       "      <th>36</th>\n",
       "      <td>ohe__state_name_Massachusetts</td>\n",
       "      <td>0.001035</td>\n",
       "    </tr>\n",
       "    <tr>\n",
       "      <th>37</th>\n",
       "      <td>ohe__state_name_Michigan</td>\n",
       "      <td>0.001462</td>\n",
       "    </tr>\n",
       "    <tr>\n",
       "      <th>38</th>\n",
       "      <td>ohe__state_name_Minnesota</td>\n",
       "      <td>0.001431</td>\n",
       "    </tr>\n",
       "    <tr>\n",
       "      <th>39</th>\n",
       "      <td>ohe__state_name_Mississippi</td>\n",
       "      <td>0.001385</td>\n",
       "    </tr>\n",
       "    <tr>\n",
       "      <th>40</th>\n",
       "      <td>ohe__state_name_Missouri</td>\n",
       "      <td>0.002369</td>\n",
       "    </tr>\n",
       "    <tr>\n",
       "      <th>41</th>\n",
       "      <td>ohe__state_name_Montana</td>\n",
       "      <td>0.001407</td>\n",
       "    </tr>\n",
       "    <tr>\n",
       "      <th>42</th>\n",
       "      <td>ohe__state_name_Nebraska</td>\n",
       "      <td>0.001496</td>\n",
       "    </tr>\n",
       "    <tr>\n",
       "      <th>43</th>\n",
       "      <td>ohe__state_name_Nevada</td>\n",
       "      <td>0.003076</td>\n",
       "    </tr>\n",
       "    <tr>\n",
       "      <th>44</th>\n",
       "      <td>ohe__state_name_New Hampshire</td>\n",
       "      <td>0.000481</td>\n",
       "    </tr>\n",
       "    <tr>\n",
       "      <th>45</th>\n",
       "      <td>ohe__state_name_New Jersey</td>\n",
       "      <td>0.000834</td>\n",
       "    </tr>\n",
       "    <tr>\n",
       "      <th>46</th>\n",
       "      <td>ohe__state_name_New Mexico</td>\n",
       "      <td>0.000485</td>\n",
       "    </tr>\n",
       "    <tr>\n",
       "      <th>47</th>\n",
       "      <td>ohe__state_name_New York</td>\n",
       "      <td>0.002444</td>\n",
       "    </tr>\n",
       "    <tr>\n",
       "      <th>48</th>\n",
       "      <td>ohe__state_name_North Carolina</td>\n",
       "      <td>0.001715</td>\n",
       "    </tr>\n",
       "    <tr>\n",
       "      <th>49</th>\n",
       "      <td>ohe__state_name_North Dakota</td>\n",
       "      <td>0.003776</td>\n",
       "    </tr>\n",
       "    <tr>\n",
       "      <th>50</th>\n",
       "      <td>ohe__state_name_Ohio</td>\n",
       "      <td>0.002008</td>\n",
       "    </tr>\n",
       "    <tr>\n",
       "      <th>51</th>\n",
       "      <td>ohe__state_name_Oklahoma</td>\n",
       "      <td>0.001741</td>\n",
       "    </tr>\n",
       "    <tr>\n",
       "      <th>52</th>\n",
       "      <td>ohe__state_name_Oregon</td>\n",
       "      <td>0.003310</td>\n",
       "    </tr>\n",
       "    <tr>\n",
       "      <th>53</th>\n",
       "      <td>ohe__state_name_Pennsylvania</td>\n",
       "      <td>0.002350</td>\n",
       "    </tr>\n",
       "    <tr>\n",
       "      <th>54</th>\n",
       "      <td>ohe__state_name_Rhode Island</td>\n",
       "      <td>0.000433</td>\n",
       "    </tr>\n",
       "    <tr>\n",
       "      <th>55</th>\n",
       "      <td>ohe__state_name_South Carolina</td>\n",
       "      <td>0.001920</td>\n",
       "    </tr>\n",
       "    <tr>\n",
       "      <th>56</th>\n",
       "      <td>ohe__state_name_South Dakota</td>\n",
       "      <td>0.001497</td>\n",
       "    </tr>\n",
       "    <tr>\n",
       "      <th>57</th>\n",
       "      <td>ohe__state_name_Tennessee</td>\n",
       "      <td>0.001738</td>\n",
       "    </tr>\n",
       "    <tr>\n",
       "      <th>58</th>\n",
       "      <td>ohe__state_name_Texas</td>\n",
       "      <td>0.002354</td>\n",
       "    </tr>\n",
       "    <tr>\n",
       "      <th>59</th>\n",
       "      <td>ohe__state_name_Utah</td>\n",
       "      <td>0.000600</td>\n",
       "    </tr>\n",
       "    <tr>\n",
       "      <th>60</th>\n",
       "      <td>ohe__state_name_Vermont</td>\n",
       "      <td>0.000312</td>\n",
       "    </tr>\n",
       "    <tr>\n",
       "      <th>61</th>\n",
       "      <td>ohe__state_name_Virginia</td>\n",
       "      <td>0.005348</td>\n",
       "    </tr>\n",
       "    <tr>\n",
       "      <th>62</th>\n",
       "      <td>ohe__state_name_Washington</td>\n",
       "      <td>0.002913</td>\n",
       "    </tr>\n",
       "    <tr>\n",
       "      <th>63</th>\n",
       "      <td>ohe__state_name_West Virginia</td>\n",
       "      <td>0.001396</td>\n",
       "    </tr>\n",
       "    <tr>\n",
       "      <th>64</th>\n",
       "      <td>ohe__state_name_Wisconsin</td>\n",
       "      <td>0.001197</td>\n",
       "    </tr>\n",
       "    <tr>\n",
       "      <th>65</th>\n",
       "      <td>ohe__state_name_Wyoming</td>\n",
       "      <td>0.001414</td>\n",
       "    </tr>\n",
       "    <tr>\n",
       "      <th>127</th>\n",
       "      <td>remainder__AIRCOND</td>\n",
       "      <td>0.006833</td>\n",
       "    </tr>\n",
       "    <tr>\n",
       "      <th>123</th>\n",
       "      <td>remainder__CWASHER</td>\n",
       "      <td>0.004149</td>\n",
       "    </tr>\n",
       "    <tr>\n",
       "      <th>122</th>\n",
       "      <td>remainder__DISHWASH</td>\n",
       "      <td>0.004580</td>\n",
       "    </tr>\n",
       "    <tr>\n",
       "      <th>124</th>\n",
       "      <td>remainder__DRYER</td>\n",
       "      <td>0.007375</td>\n",
       "    </tr>\n",
       "    <tr>\n",
       "      <th>126</th>\n",
       "      <td>remainder__HEATHOME</td>\n",
       "      <td>0.001180</td>\n",
       "    </tr>\n",
       "    <tr>\n",
       "      <th>121</th>\n",
       "      <td>remainder__SMARTMETER</td>\n",
       "      <td>0.006888</td>\n",
       "    </tr>\n",
       "    <tr>\n",
       "      <th>120</th>\n",
       "      <td>remainder__SOLAR</td>\n",
       "      <td>0.002161</td>\n",
       "    </tr>\n",
       "    <tr>\n",
       "      <th>119</th>\n",
       "      <td>remainder__SWIMPOOL</td>\n",
       "      <td>0.031452</td>\n",
       "    </tr>\n",
       "    <tr>\n",
       "      <th>125</th>\n",
       "      <td>remainder__TELLWORK</td>\n",
       "      <td>0.005930</td>\n",
       "    </tr>\n",
       "  </tbody>\n",
       "</table>\n",
       "</div>"
      ],
      "text/plain": [
       "                                    index         0\n",
       "5                          min_max__MICRO  0.005087\n",
       "7                       min_max__NHSLDMEM  0.057803\n",
       "4                        min_max__NUMFRIG  0.030783\n",
       "0                      min_max__NUMPORTEL  0.018243\n",
       "2                        min_max__SQFTEST  0.188624\n",
       "1                        min_max__STORIES  0.008564\n",
       "8                     min_max__TOTAL_BATH  0.016074\n",
       "9                     min_max__TOTAL_COMP  0.024478\n",
       "10                   min_max__TOTAL_LIGHT  0.055183\n",
       "3                       min_max__TOTROOMS  0.046265\n",
       "6                        min_max__TVCOLOR  0.061874\n",
       "66                   ohe__BA_climate_Cold  0.004112\n",
       "67                ohe__BA_climate_Hot-Dry  0.001887\n",
       "68              ohe__BA_climate_Hot-Humid  0.002722\n",
       "69                 ohe__BA_climate_Marine  0.001457\n",
       "70              ohe__BA_climate_Mixed-Dry  0.000370\n",
       "71            ohe__BA_climate_Mixed-Humid  0.003980\n",
       "72              ohe__BA_climate_Subarctic  0.000126\n",
       "73              ohe__BA_climate_Very-Cold  0.002244\n",
       "110              ohe__EQUIPM_Central_heat  0.036180\n",
       "111             ohe__EQUIPM_Ductless_heat  0.001969\n",
       "112           ohe__EQUIPM_Electric_heater  0.001520\n",
       "113            ohe__EQUIPM_Electric_units  0.020575\n",
       "114                   ohe__EQUIPM_Furnace  0.007426\n",
       "115                     ohe__EQUIPM_Other  0.001532\n",
       "116               ohe__EQUIPM_Room_heater  0.001171\n",
       "117                     ohe__EQUIPM_Steam  0.003259\n",
       "118                      ohe__EQUIPM_Wood  0.002158\n",
       "11                   ohe__REGIONC_MIDWEST  0.006702\n",
       "12                 ohe__REGIONC_NORTHEAST  0.002673\n",
       "13                     ohe__REGIONC_SOUTH  0.079936\n",
       "14                      ohe__REGIONC_WEST  0.001849\n",
       "96                  ohe__ROOFTYPE_Ceramic  0.002218\n",
       "97                 ohe__ROOFTYPE_Concrete  0.001435\n",
       "98                    ohe__ROOFTYPE_Metal  0.005215\n",
       "99                    ohe__ROOFTYPE_Other  0.005138\n",
       "100                 ohe__ROOFTYPE_Shingle  0.004487\n",
       "101                   ohe__ROOFTYPE_Slate  0.000759\n",
       "102                    ohe__ROOFTYPE_Wood  0.002176\n",
       "74            ohe__TYPEHUQ_Appartment_big  0.003967\n",
       "75          ohe__TYPEHUQ_Appartment_small  0.001741\n",
       "76                    ohe__TYPEHUQ_Mobile  0.008136\n",
       "77           ohe__TYPEHUQ_Single_attached  0.003515\n",
       "78           ohe__TYPEHUQ_Single_detached  0.009196\n",
       "88                    ohe__WALLTYPE_Brick  0.005246\n",
       "89                 ohe__WALLTYPE_Concrete  0.002468\n",
       "90                    ohe__WALLTYPE_Other  0.000219\n",
       "91                  ohe__WALLTYPE_Shingle  0.001128\n",
       "92                   ohe__WALLTYPE_Siding  0.007003\n",
       "93                    ohe__WALLTYPE_Stone  0.001105\n",
       "94                   ohe__WALLTYPE_Stucco  0.002464\n",
       "95                     ohe__WALLTYPE_Wood  0.004243\n",
       "103                        ohe__WINDOWS_1  0.000581\n",
       "104                        ohe__WINDOWS_2  0.002619\n",
       "105                        ohe__WINDOWS_3  0.005025\n",
       "106                        ohe__WINDOWS_4  0.007015\n",
       "107                        ohe__WINDOWS_5  0.004892\n",
       "108                        ohe__WINDOWS_6  0.004065\n",
       "109                        ohe__WINDOWS_7  0.002030\n",
       "79               ohe__YEARMADERANGE_00-09  0.004789\n",
       "80             ohe__YEARMADERANGE_2010-15  0.003794\n",
       "81             ohe__YEARMADERANGE_2016-20  0.003025\n",
       "82               ohe__YEARMADERANGE_50-59  0.004577\n",
       "83               ohe__YEARMADERANGE_60-69  0.004090\n",
       "84               ohe__YEARMADERANGE_70-79  0.008029\n",
       "85               ohe__YEARMADERANGE_80-89  0.005842\n",
       "86               ohe__YEARMADERANGE_90-99  0.005063\n",
       "87           ohe__YEARMADERANGE_Before_50  0.005350\n",
       "15                ohe__state_name_Alabama  0.001500\n",
       "16                 ohe__state_name_Alaska  0.000365\n",
       "17                ohe__state_name_Arizona  0.005577\n",
       "18               ohe__state_name_Arkansas  0.001807\n",
       "19             ohe__state_name_California  0.004957\n",
       "20               ohe__state_name_Colorado  0.000936\n",
       "21            ohe__state_name_Connecticut  0.000811\n",
       "22               ohe__state_name_Delaware  0.000812\n",
       "23   ohe__state_name_District of Columbia  0.000613\n",
       "24                ohe__state_name_Florida  0.001563\n",
       "25                ohe__state_name_Georgia  0.001372\n",
       "26                 ohe__state_name_Hawaii  0.000366\n",
       "27                  ohe__state_name_Idaho  0.002058\n",
       "28               ohe__state_name_Illinois  0.001443\n",
       "29                ohe__state_name_Indiana  0.003393\n",
       "30                   ohe__state_name_Iowa  0.002022\n",
       "31                 ohe__state_name_Kansas  0.001352\n",
       "32               ohe__state_name_Kentucky  0.001798\n",
       "33              ohe__state_name_Louisiana  0.001545\n",
       "34                  ohe__state_name_Maine  0.000651\n",
       "35               ohe__state_name_Maryland  0.001115\n",
       "36          ohe__state_name_Massachusetts  0.001035\n",
       "37               ohe__state_name_Michigan  0.001462\n",
       "38              ohe__state_name_Minnesota  0.001431\n",
       "39            ohe__state_name_Mississippi  0.001385\n",
       "40               ohe__state_name_Missouri  0.002369\n",
       "41                ohe__state_name_Montana  0.001407\n",
       "42               ohe__state_name_Nebraska  0.001496\n",
       "43                 ohe__state_name_Nevada  0.003076\n",
       "44          ohe__state_name_New Hampshire  0.000481\n",
       "45             ohe__state_name_New Jersey  0.000834\n",
       "46             ohe__state_name_New Mexico  0.000485\n",
       "47               ohe__state_name_New York  0.002444\n",
       "48         ohe__state_name_North Carolina  0.001715\n",
       "49           ohe__state_name_North Dakota  0.003776\n",
       "50                   ohe__state_name_Ohio  0.002008\n",
       "51               ohe__state_name_Oklahoma  0.001741\n",
       "52                 ohe__state_name_Oregon  0.003310\n",
       "53           ohe__state_name_Pennsylvania  0.002350\n",
       "54           ohe__state_name_Rhode Island  0.000433\n",
       "55         ohe__state_name_South Carolina  0.001920\n",
       "56           ohe__state_name_South Dakota  0.001497\n",
       "57              ohe__state_name_Tennessee  0.001738\n",
       "58                  ohe__state_name_Texas  0.002354\n",
       "59                   ohe__state_name_Utah  0.000600\n",
       "60                ohe__state_name_Vermont  0.000312\n",
       "61               ohe__state_name_Virginia  0.005348\n",
       "62             ohe__state_name_Washington  0.002913\n",
       "63          ohe__state_name_West Virginia  0.001396\n",
       "64              ohe__state_name_Wisconsin  0.001197\n",
       "65                ohe__state_name_Wyoming  0.001414\n",
       "127                    remainder__AIRCOND  0.006833\n",
       "123                    remainder__CWASHER  0.004149\n",
       "122                   remainder__DISHWASH  0.004580\n",
       "124                      remainder__DRYER  0.007375\n",
       "126                   remainder__HEATHOME  0.001180\n",
       "121                 remainder__SMARTMETER  0.006888\n",
       "120                      remainder__SOLAR  0.002161\n",
       "119                   remainder__SWIMPOOL  0.031452\n",
       "125                   remainder__TELLWORK  0.005930"
      ]
     },
     "execution_count": 331,
     "metadata": {},
     "output_type": "execute_result"
    }
   ],
   "source": [
    "pd.set_option('display.max_rows', None)\n",
    "\n",
    "rfg_df = pd.DataFrame(model.feature_importances_, index=preprocessor.get_feature_names_out())\n",
    "\n",
    "rfg_df.reset_index().sort_values(by=\"index\")"
   ]
  },
  {
   "cell_type": "markdown",
   "id": "a29c0f13-434a-46e3-97c1-d6d735aae21b",
   "metadata": {},
   "source": [
    "### Testing model with all values"
   ]
  },
  {
   "cell_type": "code",
   "execution_count": 266,
   "id": "2551a638-e614-452e-bf61-fcd7b987523e",
   "metadata": {},
   "outputs": [],
   "source": [
    "df = call_data_url()"
   ]
  },
  {
   "cell_type": "code",
   "execution_count": 267,
   "id": "78ec9a8b-8901-44db-b113-65cc976d104d",
   "metadata": {},
   "outputs": [],
   "source": [
    "df = filter_data(df)"
   ]
  },
  {
   "cell_type": "code",
   "execution_count": 268,
   "id": "84ca3ba3-0dee-4b0b-8cac-fcbdd6d45197",
   "metadata": {},
   "outputs": [],
   "source": [
    "df = clean_data(df)"
   ]
  },
  {
   "cell_type": "code",
   "execution_count": 269,
   "id": "a01cddeb-af75-4a90-ad01-8bbd11728079",
   "metadata": {},
   "outputs": [],
   "source": [
    "X , y = get_xy(df)"
   ]
  },
  {
   "cell_type": "code",
   "execution_count": 270,
   "id": "03faf187-3afa-4c81-9178-67a0af28f8fa",
   "metadata": {},
   "outputs": [],
   "source": [
    "X_train, X_test, y_train, y_test =  train_test_split(X,y, test_size=0.3)\n",
    "y_train_p = np.log(y_train.astype(\"float\"))\n",
    "y_test_p = np.log(y_test.astype(\"float\"))"
   ]
  },
  {
   "cell_type": "code",
   "execution_count": 271,
   "id": "07505dae-1a8d-41f2-93e4-18e8192c5a56",
   "metadata": {},
   "outputs": [],
   "source": [
    "prep = preprocessing(X_train)"
   ]
  },
  {
   "cell_type": "code",
   "execution_count": 272,
   "id": "54379c7c-950e-40b5-883b-88cbffd8d8d8",
   "metadata": {},
   "outputs": [],
   "source": [
    "X_trans = prep.transform(X_train)"
   ]
  },
  {
   "cell_type": "code",
   "execution_count": 273,
   "id": "e5436512-3fed-4d93-9bc3-94376c31b2ec",
   "metadata": {},
   "outputs": [],
   "source": [
    "model = LinearRegression()"
   ]
  },
  {
   "cell_type": "code",
   "execution_count": 274,
   "id": "5e17b8bb-d66c-4849-92a9-b0671b5b8bff",
   "metadata": {},
   "outputs": [
    {
     "data": {
      "text/html": [
       "<style>#sk-container-id-17 {color: black;}#sk-container-id-17 pre{padding: 0;}#sk-container-id-17 div.sk-toggleable {background-color: white;}#sk-container-id-17 label.sk-toggleable__label {cursor: pointer;display: block;width: 100%;margin-bottom: 0;padding: 0.3em;box-sizing: border-box;text-align: center;}#sk-container-id-17 label.sk-toggleable__label-arrow:before {content: \"▸\";float: left;margin-right: 0.25em;color: #696969;}#sk-container-id-17 label.sk-toggleable__label-arrow:hover:before {color: black;}#sk-container-id-17 div.sk-estimator:hover label.sk-toggleable__label-arrow:before {color: black;}#sk-container-id-17 div.sk-toggleable__content {max-height: 0;max-width: 0;overflow: hidden;text-align: left;background-color: #f0f8ff;}#sk-container-id-17 div.sk-toggleable__content pre {margin: 0.2em;color: black;border-radius: 0.25em;background-color: #f0f8ff;}#sk-container-id-17 input.sk-toggleable__control:checked~div.sk-toggleable__content {max-height: 200px;max-width: 100%;overflow: auto;}#sk-container-id-17 input.sk-toggleable__control:checked~label.sk-toggleable__label-arrow:before {content: \"▾\";}#sk-container-id-17 div.sk-estimator input.sk-toggleable__control:checked~label.sk-toggleable__label {background-color: #d4ebff;}#sk-container-id-17 div.sk-label input.sk-toggleable__control:checked~label.sk-toggleable__label {background-color: #d4ebff;}#sk-container-id-17 input.sk-hidden--visually {border: 0;clip: rect(1px 1px 1px 1px);clip: rect(1px, 1px, 1px, 1px);height: 1px;margin: -1px;overflow: hidden;padding: 0;position: absolute;width: 1px;}#sk-container-id-17 div.sk-estimator {font-family: monospace;background-color: #f0f8ff;border: 1px dotted black;border-radius: 0.25em;box-sizing: border-box;margin-bottom: 0.5em;}#sk-container-id-17 div.sk-estimator:hover {background-color: #d4ebff;}#sk-container-id-17 div.sk-parallel-item::after {content: \"\";width: 100%;border-bottom: 1px solid gray;flex-grow: 1;}#sk-container-id-17 div.sk-label:hover label.sk-toggleable__label {background-color: #d4ebff;}#sk-container-id-17 div.sk-serial::before {content: \"\";position: absolute;border-left: 1px solid gray;box-sizing: border-box;top: 0;bottom: 0;left: 50%;z-index: 0;}#sk-container-id-17 div.sk-serial {display: flex;flex-direction: column;align-items: center;background-color: white;padding-right: 0.2em;padding-left: 0.2em;position: relative;}#sk-container-id-17 div.sk-item {position: relative;z-index: 1;}#sk-container-id-17 div.sk-parallel {display: flex;align-items: stretch;justify-content: center;background-color: white;position: relative;}#sk-container-id-17 div.sk-item::before, #sk-container-id-17 div.sk-parallel-item::before {content: \"\";position: absolute;border-left: 1px solid gray;box-sizing: border-box;top: 0;bottom: 0;left: 50%;z-index: -1;}#sk-container-id-17 div.sk-parallel-item {display: flex;flex-direction: column;z-index: 1;position: relative;background-color: white;}#sk-container-id-17 div.sk-parallel-item:first-child::after {align-self: flex-end;width: 50%;}#sk-container-id-17 div.sk-parallel-item:last-child::after {align-self: flex-start;width: 50%;}#sk-container-id-17 div.sk-parallel-item:only-child::after {width: 0;}#sk-container-id-17 div.sk-dashed-wrapped {border: 1px dashed gray;margin: 0 0.4em 0.5em 0.4em;box-sizing: border-box;padding-bottom: 0.4em;background-color: white;}#sk-container-id-17 div.sk-label label {font-family: monospace;font-weight: bold;display: inline-block;line-height: 1.2em;}#sk-container-id-17 div.sk-label-container {text-align: center;}#sk-container-id-17 div.sk-container {/* jupyter's `normalize.less` sets `[hidden] { display: none; }` but bootstrap.min.css set `[hidden] { display: none !important; }` so we also need the `!important` here to be able to override the default hidden behavior on the sphinx rendered scikit-learn.org. See: https://github.com/scikit-learn/scikit-learn/issues/21755 */display: inline-block !important;position: relative;}#sk-container-id-17 div.sk-text-repr-fallback {display: none;}</style><div id=\"sk-container-id-17\" class=\"sk-top-container\"><div class=\"sk-text-repr-fallback\"><pre>LinearRegression()</pre><b>In a Jupyter environment, please rerun this cell to show the HTML representation or trust the notebook. <br />On GitHub, the HTML representation is unable to render, please try loading this page with nbviewer.org.</b></div><div class=\"sk-container\" hidden><div class=\"sk-item\"><div class=\"sk-estimator sk-toggleable\"><input class=\"sk-toggleable__control sk-hidden--visually\" id=\"sk-estimator-id-123\" type=\"checkbox\" checked><label for=\"sk-estimator-id-123\" class=\"sk-toggleable__label sk-toggleable__label-arrow\">LinearRegression</label><div class=\"sk-toggleable__content\"><pre>LinearRegression()</pre></div></div></div></div></div>"
      ],
      "text/plain": [
       "LinearRegression()"
      ]
     },
     "execution_count": 274,
     "metadata": {},
     "output_type": "execute_result"
    }
   ],
   "source": [
    "model.fit(X_trans, y_train)"
   ]
  },
  {
   "cell_type": "code",
   "execution_count": 275,
   "id": "8c47c2c0-e635-4173-99b9-e87316498873",
   "metadata": {},
   "outputs": [
    {
     "data": {
      "text/plain": [
       "0.49268817807784976"
      ]
     },
     "execution_count": 275,
     "metadata": {},
     "output_type": "execute_result"
    }
   ],
   "source": [
    "cross_validate(model , X_trans, y_train, cv=5 )[\"test_score\"].mean()"
   ]
  },
  {
   "cell_type": "code",
   "execution_count": 276,
   "id": "941d6770-638b-466c-9a7e-0b6d25c0e803",
   "metadata": {},
   "outputs": [
    {
     "data": {
      "text/plain": [
       "0.5366381288240587"
      ]
     },
     "execution_count": 276,
     "metadata": {},
     "output_type": "execute_result"
    }
   ],
   "source": [
    "cross_validate(model , X_trans, y_train_p, cv=5 )[\"test_score\"].mean()"
   ]
  },
  {
   "cell_type": "code",
   "execution_count": 277,
   "id": "320f7c11-ad86-45e5-a761-4b9f9da55765",
   "metadata": {},
   "outputs": [],
   "source": [
    "X_test_trans = prep.transform(X_test)"
   ]
  },
  {
   "cell_type": "code",
   "execution_count": 293,
   "id": "582c2f10-91c5-4bb9-a14d-becf58889179",
   "metadata": {},
   "outputs": [
    {
     "data": {
      "text/html": [
       "<div>\n",
       "<style scoped>\n",
       "    .dataframe tbody tr th:only-of-type {\n",
       "        vertical-align: middle;\n",
       "    }\n",
       "\n",
       "    .dataframe tbody tr th {\n",
       "        vertical-align: top;\n",
       "    }\n",
       "\n",
       "    .dataframe thead th {\n",
       "        text-align: right;\n",
       "    }\n",
       "</style>\n",
       "<table border=\"1\" class=\"dataframe\">\n",
       "  <thead>\n",
       "    <tr style=\"text-align: right;\">\n",
       "      <th></th>\n",
       "      <th>0</th>\n",
       "      <th>1</th>\n",
       "      <th>2</th>\n",
       "      <th>3</th>\n",
       "      <th>4</th>\n",
       "      <th>5</th>\n",
       "      <th>6</th>\n",
       "      <th>7</th>\n",
       "      <th>8</th>\n",
       "      <th>9</th>\n",
       "      <th>...</th>\n",
       "      <th>118</th>\n",
       "      <th>119</th>\n",
       "      <th>120</th>\n",
       "      <th>121</th>\n",
       "      <th>122</th>\n",
       "      <th>123</th>\n",
       "      <th>124</th>\n",
       "      <th>125</th>\n",
       "      <th>126</th>\n",
       "      <th>127</th>\n",
       "    </tr>\n",
       "  </thead>\n",
       "  <tbody>\n",
       "    <tr>\n",
       "      <th>0</th>\n",
       "      <td>0.0</td>\n",
       "      <td>0.0</td>\n",
       "      <td>0.077053</td>\n",
       "      <td>0.285714</td>\n",
       "      <td>0.111111</td>\n",
       "      <td>0.333333</td>\n",
       "      <td>0.071429</td>\n",
       "      <td>0.5</td>\n",
       "      <td>0.2</td>\n",
       "      <td>0.090909</td>\n",
       "      <td>...</td>\n",
       "      <td>0.0</td>\n",
       "      <td>0</td>\n",
       "      <td>0</td>\n",
       "      <td>0</td>\n",
       "      <td>1</td>\n",
       "      <td>1</td>\n",
       "      <td>1</td>\n",
       "      <td>1</td>\n",
       "      <td>1</td>\n",
       "      <td>1</td>\n",
       "    </tr>\n",
       "  </tbody>\n",
       "</table>\n",
       "<p>1 rows × 128 columns</p>\n",
       "</div>"
      ],
      "text/plain": [
       "   0    1         2         3         4         5         6    7    8    \\\n",
       "0  0.0  0.0  0.077053  0.285714  0.111111  0.333333  0.071429  0.5  0.2   \n",
       "\n",
       "        9    ...  118 119 120 121 122 123 124 125 126 127  \n",
       "0  0.090909  ...  0.0   0   0   0   1   1   1   1   1   1  \n",
       "\n",
       "[1 rows x 128 columns]"
      ]
     },
     "execution_count": 293,
     "metadata": {},
     "output_type": "execute_result"
    }
   ],
   "source": [
    "pd.DataFrame(X_test_trans[0]).T"
   ]
  },
  {
   "cell_type": "code",
   "execution_count": 294,
   "id": "d4a2b794-a0d3-4c30-b0f9-078461eb0736",
   "metadata": {},
   "outputs": [
    {
     "data": {
      "text/plain": [
       "array([9544.])"
      ]
     },
     "execution_count": 294,
     "metadata": {},
     "output_type": "execute_result"
    }
   ],
   "source": [
    "model.predict(pd.DataFrame(X_test_trans[0]).T)"
   ]
  },
  {
   "cell_type": "markdown",
   "id": "dffd16a0-12c8-49f5-93e8-4b3d406911a8",
   "metadata": {},
   "source": [
    "### Without Roof and Wall"
   ]
  },
  {
   "cell_type": "code",
   "execution_count": 295,
   "id": "5247863b-fd17-4238-96ac-da4af8bc4a4f",
   "metadata": {},
   "outputs": [],
   "source": [
    "import pandas as pd\n",
    "import numpy as np\n",
    "from sklearn.impute import SimpleImputer\n",
    "from sklearn.pipeline import Pipeline\n",
    "from sklearn.impute import SimpleImputer\n",
    "from sklearn.compose import ColumnTransformer\n",
    "from sklearn.preprocessing import OneHotEncoder\n",
    "\n",
    "def clean_data_2(df,min_perc=0.005, max_perc=0.995):\n",
    "    \"\"\"This set cleans the data to have it in the correct format before preprocessing\"\"\"\n",
    "\n",
    "    #Maping features\n",
    "    TYPEHUQ_map = {1: \"Mobile\", 2: \"Single_detached\",3: \"Single_attached\",\n",
    "                   4: \"Appartment_small\" ,5: \"Appartment_big\"}\n",
    "    \n",
    "    YEARMADERANGE_map = {1: \"Before_50\", 2:\"50-59\", 3:\"60-69\",\n",
    "                         4: \"70-79\", 5: \"80-89\", 6:\"90-99\", 7:\"00-09\",\n",
    "                         8:\"2010-15\", 9:\"2016-20\" }\n",
    "    EQUIPM_map = {3:\"Furnace\", 2: \"Steam\", 4: \"Central_heat\", 13: \"Ductless_heat\",\n",
    "                5: \"Electric_units\", 7: \"Room_heater\", 8 : \"Wood\",\n",
    "                10:\"Electric_heater\", 99:\"Other\", -2:\"Other\"}\n",
    "\n",
    "    dics_transform = [TYPEHUQ_map, YEARMADERANGE_map, EQUIPM_map]\n",
    "    columns_to_transform = [\"TYPEHUQ\", \"YEARMADERANGE\", \"EQUIPM\"]\n",
    "\n",
    "    for x , y in zip(dics_transform,columns_to_transform):\n",
    "        df[y] = df[y].map(x)\n",
    "\n",
    "    #Combine new features\n",
    "    df[\"TOTAL_BATH\"] = df[\"NCOMBATH\"] + df[\"NHAFBATH\"]\n",
    "    df.drop( [\"NCOMBATH\", \"NHAFBATH\"] ,axis=1, inplace = True)\n",
    "\n",
    "    df[\"TOTAL_COMP\"] = df[\"DESKTOP\"] + df[\"NUMLAPTOP\"]\n",
    "    df.drop( [\"DESKTOP\", \"NUMLAPTOP\"] ,axis=1, inplace = True)\n",
    "\n",
    "    df[\"TOTAL_LIGHT\"] = df[\"LGTIN1TO4\"] + df[\"LGTIN4TO8\"] + df[\"LGTINMORE8\"]\n",
    "    df.drop( [\"LGTIN1TO4\", \"LGTIN4TO8\", \"LGTINMORE8\"] ,axis=1, inplace = True)\n",
    "\n",
    "    df[\"STORIES\"] = df[\"STORIES\"].replace(-2,1)\n",
    "    df[\"STORIES\"] = df[\"STORIES\"].replace(5,2)\n",
    "\n",
    "    #Impute features\n",
    "    features_imputer2 = ['SWIMPOOL', 'NUMPORTEL', 'SOLAR']\n",
    "    features_imputer4 = ['SMARTMETER']\n",
    "    #to_ohe_encode = ['REGIONC', 'state_name','BA_climate','TYPEHUQ','YEARMADERANGE','WALLTYPE','ROOFTYPE','WINDOWS','EQUIPM']\n",
    "\n",
    "    imputer_2 = SimpleImputer(strategy='constant', missing_values=-2, fill_value=0)\n",
    "    imputer_4 = SimpleImputer(strategy='constant', missing_values=-4, fill_value=0)\n",
    "    #ohe = OneHotEncoder(sparse_output=False, handle_unknown='ignore')\n",
    "\n",
    "    preprocessor = ColumnTransformer(transformers=[('imputer_2',imputer_2, features_imputer2),\n",
    "                                                ('imputer_4',imputer_4, features_imputer4)],\n",
    "                                                #('ohe', ohe, to_ohe_encode)],\n",
    "                                                    remainder = \"passthrough\")\n",
    "\n",
    "    preprocessor.fit(df)\n",
    "\n",
    "    cols = [x.split(\"__\")[1] for x in preprocessor.get_feature_names_out()]\n",
    "\n",
    "    df_clean = pd.DataFrame(preprocessor.transform(df),\n",
    "                       columns = cols)\n",
    "\n",
    "    return df_clean\n"
   ]
  },
  {
   "cell_type": "code",
   "execution_count": 348,
   "id": "3742e951-e07f-4848-bc39-cd6d2a82aa2b",
   "metadata": {},
   "outputs": [],
   "source": [
    "df_new = call_data_url()"
   ]
  },
  {
   "cell_type": "code",
   "execution_count": 349,
   "id": "2c36612a-b485-41a7-bc0d-3ffaedbd3878",
   "metadata": {},
   "outputs": [],
   "source": [
    "df = filter_data(df_new)\n",
    "df = clean_data_2(df_new)"
   ]
  },
  {
   "cell_type": "code",
   "execution_count": 350,
   "id": "08c1f946-337f-4c65-b7fe-e47148146310",
   "metadata": {},
   "outputs": [],
   "source": [
    "df = df.drop([\"WALLTYPE\", \"ROOFTYPE\"], axis = 1)"
   ]
  },
  {
   "cell_type": "code",
   "execution_count": 351,
   "id": "8f5ca937-98ae-4385-acdb-65af3ecaad5b",
   "metadata": {},
   "outputs": [
    {
     "data": {
      "text/plain": [
       "Index(['SWIMPOOL', 'NUMPORTEL', 'SOLAR', 'SMARTMETER', 'REGIONC', 'state_name',\n",
       "       'BA_climate', 'TYPEHUQ', 'STORIES', 'YEARMADERANGE', 'TOTROOMS',\n",
       "       'WINDOWS', 'NUMFRIG', 'MICRO', 'DISHWASH', 'CWASHER', 'DRYER',\n",
       "       'TVCOLOR', 'TELLWORK', 'HEATHOME', 'EQUIPM', 'AIRCOND', 'NHSLDMEM',\n",
       "       'SQFTEST', 'KWH', 'TOTAL_BATH', 'TOTAL_COMP', 'TOTAL_LIGHT'],\n",
       "      dtype='object')"
      ]
     },
     "execution_count": 351,
     "metadata": {},
     "output_type": "execute_result"
    }
   ],
   "source": [
    "df.columns"
   ]
  },
  {
   "cell_type": "code",
   "execution_count": 364,
   "id": "81f1fe6f-cb6f-45bb-bd3f-8ee591c1b0fa",
   "metadata": {},
   "outputs": [],
   "source": [
    "df_new = call_data_url()\n",
    "df = df_new.drop([\"WALLTYPE\", \"ROOFTYPE\"], axis = 1)\n",
    "df = filter_data(df)\n",
    "df = clean_data_2(df)\n",
    "X , y = get_xy(df)\n",
    "X_train, X_test, y_train, y_test =  train_test_split(X,y, test_size=0.3)\n",
    "y_train_p = np.log(y_train.astype(\"float\"))\n",
    "y_test_p = np.log(y_test.astype(\"float\"))"
   ]
  },
  {
   "cell_type": "code",
   "execution_count": 365,
   "id": "1916a081-2e81-4bc5-8039-0cd59d578912",
   "metadata": {},
   "outputs": [],
   "source": [
    "from sklearn.ensemble import RandomForestRegressor\n",
    "\n",
    "to_ohe_encode = ['REGIONC', 'state_name','BA_climate','TYPEHUQ',\n",
    "                     'YEARMADERANGE','WINDOWS','EQUIPM']\n",
    "\n",
    "to_scale = [\"NUMPORTEL\", \"STORIES\",\"SQFTEST\",\n",
    "            \"TOTROOMS\", \"NUMFRIG\", \"MICRO\", \"TVCOLOR\",\"NHSLDMEM\",\n",
    "            \"TOTAL_BATH\", \"TOTAL_COMP\", \"TOTAL_LIGHT\" ]\n",
    "\n",
    "min_max = MinMaxScaler()\n",
    "ohe = OneHotEncoder(sparse_output=False, handle_unknown='ignore')\n",
    "\n",
    "\n",
    "prep2 = ColumnTransformer(transformers=[\n",
    "                                            ('min_max', min_max, to_scale),\n",
    "                                            ('ohe', ohe, to_ohe_encode)],\n",
    "                                            remainder = \"passthrough\")\n",
    "\n",
    "pipe = Pipeline([(\"prep\", prep2 ),(\"model\", LinearRegression())])"
   ]
  },
  {
   "cell_type": "code",
   "execution_count": 366,
   "id": "03b55230-0214-4d90-b71d-e9565795d4ea",
   "metadata": {},
   "outputs": [
    {
     "data": {
      "text/html": [
       "<style>#sk-container-id-24 {color: black;}#sk-container-id-24 pre{padding: 0;}#sk-container-id-24 div.sk-toggleable {background-color: white;}#sk-container-id-24 label.sk-toggleable__label {cursor: pointer;display: block;width: 100%;margin-bottom: 0;padding: 0.3em;box-sizing: border-box;text-align: center;}#sk-container-id-24 label.sk-toggleable__label-arrow:before {content: \"▸\";float: left;margin-right: 0.25em;color: #696969;}#sk-container-id-24 label.sk-toggleable__label-arrow:hover:before {color: black;}#sk-container-id-24 div.sk-estimator:hover label.sk-toggleable__label-arrow:before {color: black;}#sk-container-id-24 div.sk-toggleable__content {max-height: 0;max-width: 0;overflow: hidden;text-align: left;background-color: #f0f8ff;}#sk-container-id-24 div.sk-toggleable__content pre {margin: 0.2em;color: black;border-radius: 0.25em;background-color: #f0f8ff;}#sk-container-id-24 input.sk-toggleable__control:checked~div.sk-toggleable__content {max-height: 200px;max-width: 100%;overflow: auto;}#sk-container-id-24 input.sk-toggleable__control:checked~label.sk-toggleable__label-arrow:before {content: \"▾\";}#sk-container-id-24 div.sk-estimator input.sk-toggleable__control:checked~label.sk-toggleable__label {background-color: #d4ebff;}#sk-container-id-24 div.sk-label input.sk-toggleable__control:checked~label.sk-toggleable__label {background-color: #d4ebff;}#sk-container-id-24 input.sk-hidden--visually {border: 0;clip: rect(1px 1px 1px 1px);clip: rect(1px, 1px, 1px, 1px);height: 1px;margin: -1px;overflow: hidden;padding: 0;position: absolute;width: 1px;}#sk-container-id-24 div.sk-estimator {font-family: monospace;background-color: #f0f8ff;border: 1px dotted black;border-radius: 0.25em;box-sizing: border-box;margin-bottom: 0.5em;}#sk-container-id-24 div.sk-estimator:hover {background-color: #d4ebff;}#sk-container-id-24 div.sk-parallel-item::after {content: \"\";width: 100%;border-bottom: 1px solid gray;flex-grow: 1;}#sk-container-id-24 div.sk-label:hover label.sk-toggleable__label {background-color: #d4ebff;}#sk-container-id-24 div.sk-serial::before {content: \"\";position: absolute;border-left: 1px solid gray;box-sizing: border-box;top: 0;bottom: 0;left: 50%;z-index: 0;}#sk-container-id-24 div.sk-serial {display: flex;flex-direction: column;align-items: center;background-color: white;padding-right: 0.2em;padding-left: 0.2em;position: relative;}#sk-container-id-24 div.sk-item {position: relative;z-index: 1;}#sk-container-id-24 div.sk-parallel {display: flex;align-items: stretch;justify-content: center;background-color: white;position: relative;}#sk-container-id-24 div.sk-item::before, #sk-container-id-24 div.sk-parallel-item::before {content: \"\";position: absolute;border-left: 1px solid gray;box-sizing: border-box;top: 0;bottom: 0;left: 50%;z-index: -1;}#sk-container-id-24 div.sk-parallel-item {display: flex;flex-direction: column;z-index: 1;position: relative;background-color: white;}#sk-container-id-24 div.sk-parallel-item:first-child::after {align-self: flex-end;width: 50%;}#sk-container-id-24 div.sk-parallel-item:last-child::after {align-self: flex-start;width: 50%;}#sk-container-id-24 div.sk-parallel-item:only-child::after {width: 0;}#sk-container-id-24 div.sk-dashed-wrapped {border: 1px dashed gray;margin: 0 0.4em 0.5em 0.4em;box-sizing: border-box;padding-bottom: 0.4em;background-color: white;}#sk-container-id-24 div.sk-label label {font-family: monospace;font-weight: bold;display: inline-block;line-height: 1.2em;}#sk-container-id-24 div.sk-label-container {text-align: center;}#sk-container-id-24 div.sk-container {/* jupyter's `normalize.less` sets `[hidden] { display: none; }` but bootstrap.min.css set `[hidden] { display: none !important; }` so we also need the `!important` here to be able to override the default hidden behavior on the sphinx rendered scikit-learn.org. See: https://github.com/scikit-learn/scikit-learn/issues/21755 */display: inline-block !important;position: relative;}#sk-container-id-24 div.sk-text-repr-fallback {display: none;}</style><div id=\"sk-container-id-24\" class=\"sk-top-container\"><div class=\"sk-text-repr-fallback\"><pre>Pipeline(steps=[(&#x27;prep&#x27;,\n",
       "                 ColumnTransformer(remainder=&#x27;passthrough&#x27;,\n",
       "                                   transformers=[(&#x27;min_max&#x27;, MinMaxScaler(),\n",
       "                                                  [&#x27;NUMPORTEL&#x27;, &#x27;STORIES&#x27;,\n",
       "                                                   &#x27;SQFTEST&#x27;, &#x27;TOTROOMS&#x27;,\n",
       "                                                   &#x27;NUMFRIG&#x27;, &#x27;MICRO&#x27;,\n",
       "                                                   &#x27;TVCOLOR&#x27;, &#x27;NHSLDMEM&#x27;,\n",
       "                                                   &#x27;TOTAL_BATH&#x27;, &#x27;TOTAL_COMP&#x27;,\n",
       "                                                   &#x27;TOTAL_LIGHT&#x27;]),\n",
       "                                                 (&#x27;ohe&#x27;,\n",
       "                                                  OneHotEncoder(handle_unknown=&#x27;ignore&#x27;,\n",
       "                                                                sparse_output=False),\n",
       "                                                  [&#x27;REGIONC&#x27;, &#x27;state_name&#x27;,\n",
       "                                                   &#x27;BA_climate&#x27;, &#x27;TYPEHUQ&#x27;,\n",
       "                                                   &#x27;YEARMADERANGE&#x27;, &#x27;WINDOWS&#x27;,\n",
       "                                                   &#x27;EQUIPM&#x27;])])),\n",
       "                (&#x27;model&#x27;, LinearRegression())])</pre><b>In a Jupyter environment, please rerun this cell to show the HTML representation or trust the notebook. <br />On GitHub, the HTML representation is unable to render, please try loading this page with nbviewer.org.</b></div><div class=\"sk-container\" hidden><div class=\"sk-item sk-dashed-wrapped\"><div class=\"sk-label-container\"><div class=\"sk-label sk-toggleable\"><input class=\"sk-toggleable__control sk-hidden--visually\" id=\"sk-estimator-id-158\" type=\"checkbox\" ><label for=\"sk-estimator-id-158\" class=\"sk-toggleable__label sk-toggleable__label-arrow\">Pipeline</label><div class=\"sk-toggleable__content\"><pre>Pipeline(steps=[(&#x27;prep&#x27;,\n",
       "                 ColumnTransformer(remainder=&#x27;passthrough&#x27;,\n",
       "                                   transformers=[(&#x27;min_max&#x27;, MinMaxScaler(),\n",
       "                                                  [&#x27;NUMPORTEL&#x27;, &#x27;STORIES&#x27;,\n",
       "                                                   &#x27;SQFTEST&#x27;, &#x27;TOTROOMS&#x27;,\n",
       "                                                   &#x27;NUMFRIG&#x27;, &#x27;MICRO&#x27;,\n",
       "                                                   &#x27;TVCOLOR&#x27;, &#x27;NHSLDMEM&#x27;,\n",
       "                                                   &#x27;TOTAL_BATH&#x27;, &#x27;TOTAL_COMP&#x27;,\n",
       "                                                   &#x27;TOTAL_LIGHT&#x27;]),\n",
       "                                                 (&#x27;ohe&#x27;,\n",
       "                                                  OneHotEncoder(handle_unknown=&#x27;ignore&#x27;,\n",
       "                                                                sparse_output=False),\n",
       "                                                  [&#x27;REGIONC&#x27;, &#x27;state_name&#x27;,\n",
       "                                                   &#x27;BA_climate&#x27;, &#x27;TYPEHUQ&#x27;,\n",
       "                                                   &#x27;YEARMADERANGE&#x27;, &#x27;WINDOWS&#x27;,\n",
       "                                                   &#x27;EQUIPM&#x27;])])),\n",
       "                (&#x27;model&#x27;, LinearRegression())])</pre></div></div></div><div class=\"sk-serial\"><div class=\"sk-item sk-dashed-wrapped\"><div class=\"sk-label-container\"><div class=\"sk-label sk-toggleable\"><input class=\"sk-toggleable__control sk-hidden--visually\" id=\"sk-estimator-id-159\" type=\"checkbox\" ><label for=\"sk-estimator-id-159\" class=\"sk-toggleable__label sk-toggleable__label-arrow\">prep: ColumnTransformer</label><div class=\"sk-toggleable__content\"><pre>ColumnTransformer(remainder=&#x27;passthrough&#x27;,\n",
       "                  transformers=[(&#x27;min_max&#x27;, MinMaxScaler(),\n",
       "                                 [&#x27;NUMPORTEL&#x27;, &#x27;STORIES&#x27;, &#x27;SQFTEST&#x27;, &#x27;TOTROOMS&#x27;,\n",
       "                                  &#x27;NUMFRIG&#x27;, &#x27;MICRO&#x27;, &#x27;TVCOLOR&#x27;, &#x27;NHSLDMEM&#x27;,\n",
       "                                  &#x27;TOTAL_BATH&#x27;, &#x27;TOTAL_COMP&#x27;, &#x27;TOTAL_LIGHT&#x27;]),\n",
       "                                (&#x27;ohe&#x27;,\n",
       "                                 OneHotEncoder(handle_unknown=&#x27;ignore&#x27;,\n",
       "                                               sparse_output=False),\n",
       "                                 [&#x27;REGIONC&#x27;, &#x27;state_name&#x27;, &#x27;BA_climate&#x27;,\n",
       "                                  &#x27;TYPEHUQ&#x27;, &#x27;YEARMADERANGE&#x27;, &#x27;WINDOWS&#x27;,\n",
       "                                  &#x27;EQUIPM&#x27;])])</pre></div></div></div><div class=\"sk-parallel\"><div class=\"sk-parallel-item\"><div class=\"sk-item\"><div class=\"sk-label-container\"><div class=\"sk-label sk-toggleable\"><input class=\"sk-toggleable__control sk-hidden--visually\" id=\"sk-estimator-id-160\" type=\"checkbox\" ><label for=\"sk-estimator-id-160\" class=\"sk-toggleable__label sk-toggleable__label-arrow\">min_max</label><div class=\"sk-toggleable__content\"><pre>[&#x27;NUMPORTEL&#x27;, &#x27;STORIES&#x27;, &#x27;SQFTEST&#x27;, &#x27;TOTROOMS&#x27;, &#x27;NUMFRIG&#x27;, &#x27;MICRO&#x27;, &#x27;TVCOLOR&#x27;, &#x27;NHSLDMEM&#x27;, &#x27;TOTAL_BATH&#x27;, &#x27;TOTAL_COMP&#x27;, &#x27;TOTAL_LIGHT&#x27;]</pre></div></div></div><div class=\"sk-serial\"><div class=\"sk-item\"><div class=\"sk-estimator sk-toggleable\"><input class=\"sk-toggleable__control sk-hidden--visually\" id=\"sk-estimator-id-161\" type=\"checkbox\" ><label for=\"sk-estimator-id-161\" class=\"sk-toggleable__label sk-toggleable__label-arrow\">MinMaxScaler</label><div class=\"sk-toggleable__content\"><pre>MinMaxScaler()</pre></div></div></div></div></div></div><div class=\"sk-parallel-item\"><div class=\"sk-item\"><div class=\"sk-label-container\"><div class=\"sk-label sk-toggleable\"><input class=\"sk-toggleable__control sk-hidden--visually\" id=\"sk-estimator-id-162\" type=\"checkbox\" ><label for=\"sk-estimator-id-162\" class=\"sk-toggleable__label sk-toggleable__label-arrow\">ohe</label><div class=\"sk-toggleable__content\"><pre>[&#x27;REGIONC&#x27;, &#x27;state_name&#x27;, &#x27;BA_climate&#x27;, &#x27;TYPEHUQ&#x27;, &#x27;YEARMADERANGE&#x27;, &#x27;WINDOWS&#x27;, &#x27;EQUIPM&#x27;]</pre></div></div></div><div class=\"sk-serial\"><div class=\"sk-item\"><div class=\"sk-estimator sk-toggleable\"><input class=\"sk-toggleable__control sk-hidden--visually\" id=\"sk-estimator-id-163\" type=\"checkbox\" ><label for=\"sk-estimator-id-163\" class=\"sk-toggleable__label sk-toggleable__label-arrow\">OneHotEncoder</label><div class=\"sk-toggleable__content\"><pre>OneHotEncoder(handle_unknown=&#x27;ignore&#x27;, sparse_output=False)</pre></div></div></div></div></div></div><div class=\"sk-parallel-item\"><div class=\"sk-item\"><div class=\"sk-label-container\"><div class=\"sk-label sk-toggleable\"><input class=\"sk-toggleable__control sk-hidden--visually\" id=\"sk-estimator-id-164\" type=\"checkbox\" ><label for=\"sk-estimator-id-164\" class=\"sk-toggleable__label sk-toggleable__label-arrow\">remainder</label><div class=\"sk-toggleable__content\"><pre>[&#x27;SWIMPOOL&#x27;, &#x27;SOLAR&#x27;, &#x27;SMARTMETER&#x27;, &#x27;DISHWASH&#x27;, &#x27;CWASHER&#x27;, &#x27;DRYER&#x27;, &#x27;TELLWORK&#x27;, &#x27;HEATHOME&#x27;, &#x27;AIRCOND&#x27;]</pre></div></div></div><div class=\"sk-serial\"><div class=\"sk-item\"><div class=\"sk-estimator sk-toggleable\"><input class=\"sk-toggleable__control sk-hidden--visually\" id=\"sk-estimator-id-165\" type=\"checkbox\" ><label for=\"sk-estimator-id-165\" class=\"sk-toggleable__label sk-toggleable__label-arrow\">passthrough</label><div class=\"sk-toggleable__content\"><pre>passthrough</pre></div></div></div></div></div></div></div></div><div class=\"sk-item\"><div class=\"sk-estimator sk-toggleable\"><input class=\"sk-toggleable__control sk-hidden--visually\" id=\"sk-estimator-id-166\" type=\"checkbox\" ><label for=\"sk-estimator-id-166\" class=\"sk-toggleable__label sk-toggleable__label-arrow\">LinearRegression</label><div class=\"sk-toggleable__content\"><pre>LinearRegression()</pre></div></div></div></div></div></div></div>"
      ],
      "text/plain": [
       "Pipeline(steps=[('prep',\n",
       "                 ColumnTransformer(remainder='passthrough',\n",
       "                                   transformers=[('min_max', MinMaxScaler(),\n",
       "                                                  ['NUMPORTEL', 'STORIES',\n",
       "                                                   'SQFTEST', 'TOTROOMS',\n",
       "                                                   'NUMFRIG', 'MICRO',\n",
       "                                                   'TVCOLOR', 'NHSLDMEM',\n",
       "                                                   'TOTAL_BATH', 'TOTAL_COMP',\n",
       "                                                   'TOTAL_LIGHT']),\n",
       "                                                 ('ohe',\n",
       "                                                  OneHotEncoder(handle_unknown='ignore',\n",
       "                                                                sparse_output=False),\n",
       "                                                  ['REGIONC', 'state_name',\n",
       "                                                   'BA_climate', 'TYPEHUQ',\n",
       "                                                   'YEARMADERANGE', 'WINDOWS',\n",
       "                                                   'EQUIPM'])])),\n",
       "                ('model', LinearRegression())])"
      ]
     },
     "execution_count": 366,
     "metadata": {},
     "output_type": "execute_result"
    }
   ],
   "source": [
    "pipe.fit(X_train, y_train_p)"
   ]
  },
  {
   "cell_type": "code",
   "execution_count": 367,
   "id": "8c1fef73-eccd-4797-9403-9a001d206cd0",
   "metadata": {},
   "outputs": [
    {
     "data": {
      "text/plain": [
       "0.5392127310243101"
      ]
     },
     "execution_count": 367,
     "metadata": {},
     "output_type": "execute_result"
    }
   ],
   "source": [
    "cross_validate(pipe, X_train, y_train_p, cv = 5)[\"test_score\"].mean()"
   ]
  },
  {
   "cell_type": "markdown",
   "id": "c72efd5b-9981-462c-b2a0-8cbae17c9a57",
   "metadata": {},
   "source": [
    "## Elastic Net"
   ]
  },
  {
   "cell_type": "code",
   "execution_count": 22,
   "id": "a4d8d0d7-2338-47b7-a049-2476f74a69b9",
   "metadata": {},
   "outputs": [],
   "source": [
    "df_new = call_data_url()\n",
    "df = df_new.drop([\"WALLTYPE\", \"ROOFTYPE\"], axis = 1)\n",
    "df = filter_data(df)\n",
    "df = clean_data_without(df)\n",
    "X , y = get_xy(df)\n",
    "X_train, X_test, y_train, y_test =  train_test_split(X,y, test_size=0.3)\n",
    "y_train_p = np.log(y_train.astype(\"float\"))\n",
    "y_test_p = np.log(y_test.astype(\"float\"))"
   ]
  },
  {
   "cell_type": "code",
   "execution_count": 31,
   "id": "20c9ffec-0049-4747-bc1a-77583087c845",
   "metadata": {},
   "outputs": [
    {
     "data": {
      "text/html": [
       "<div>\n",
       "<style scoped>\n",
       "    .dataframe tbody tr th:only-of-type {\n",
       "        vertical-align: middle;\n",
       "    }\n",
       "\n",
       "    .dataframe tbody tr th {\n",
       "        vertical-align: top;\n",
       "    }\n",
       "\n",
       "    .dataframe thead th {\n",
       "        text-align: right;\n",
       "    }\n",
       "</style>\n",
       "<table border=\"1\" class=\"dataframe\">\n",
       "  <thead>\n",
       "    <tr style=\"text-align: right;\">\n",
       "      <th></th>\n",
       "      <th>SWIMPOOL</th>\n",
       "      <th>NUMPORTEL</th>\n",
       "      <th>SOLAR</th>\n",
       "      <th>SMARTMETER</th>\n",
       "      <th>REGIONC</th>\n",
       "      <th>state_name</th>\n",
       "      <th>BA_climate</th>\n",
       "      <th>TYPEHUQ</th>\n",
       "      <th>STORIES</th>\n",
       "      <th>YEARMADERANGE</th>\n",
       "      <th>...</th>\n",
       "      <th>TVCOLOR</th>\n",
       "      <th>TELLWORK</th>\n",
       "      <th>HEATHOME</th>\n",
       "      <th>EQUIPM</th>\n",
       "      <th>AIRCOND</th>\n",
       "      <th>NHSLDMEM</th>\n",
       "      <th>SQFTEST</th>\n",
       "      <th>TOTAL_BATH</th>\n",
       "      <th>TOTAL_COMP</th>\n",
       "      <th>TOTAL_LIGHT</th>\n",
       "    </tr>\n",
       "  </thead>\n",
       "  <tbody>\n",
       "    <tr>\n",
       "      <th>2004</th>\n",
       "      <td>0</td>\n",
       "      <td>0</td>\n",
       "      <td>0</td>\n",
       "      <td>0</td>\n",
       "      <td>SOUTH</td>\n",
       "      <td>Georgia</td>\n",
       "      <td>Mixed-Humid</td>\n",
       "      <td>Single_detached</td>\n",
       "      <td>2</td>\n",
       "      <td>2016-20</td>\n",
       "      <td>...</td>\n",
       "      <td>4</td>\n",
       "      <td>0</td>\n",
       "      <td>1</td>\n",
       "      <td>Furnace</td>\n",
       "      <td>1</td>\n",
       "      <td>2</td>\n",
       "      <td>2980</td>\n",
       "      <td>3</td>\n",
       "      <td>1</td>\n",
       "      <td>22</td>\n",
       "    </tr>\n",
       "    <tr>\n",
       "      <th>1580</th>\n",
       "      <td>0</td>\n",
       "      <td>0</td>\n",
       "      <td>0</td>\n",
       "      <td>0</td>\n",
       "      <td>SOUTH</td>\n",
       "      <td>Kentucky</td>\n",
       "      <td>Mixed-Humid</td>\n",
       "      <td>Single_detached</td>\n",
       "      <td>1</td>\n",
       "      <td>Before_50</td>\n",
       "      <td>...</td>\n",
       "      <td>2</td>\n",
       "      <td>0</td>\n",
       "      <td>1</td>\n",
       "      <td>Furnace</td>\n",
       "      <td>1</td>\n",
       "      <td>5</td>\n",
       "      <td>1180</td>\n",
       "      <td>1</td>\n",
       "      <td>0</td>\n",
       "      <td>12</td>\n",
       "    </tr>\n",
       "    <tr>\n",
       "      <th>2558</th>\n",
       "      <td>0</td>\n",
       "      <td>0</td>\n",
       "      <td>0</td>\n",
       "      <td>0</td>\n",
       "      <td>SOUTH</td>\n",
       "      <td>North Carolina</td>\n",
       "      <td>Mixed-Humid</td>\n",
       "      <td>Single_detached</td>\n",
       "      <td>1</td>\n",
       "      <td>60-69</td>\n",
       "      <td>...</td>\n",
       "      <td>1</td>\n",
       "      <td>0</td>\n",
       "      <td>1</td>\n",
       "      <td>Furnace</td>\n",
       "      <td>1</td>\n",
       "      <td>1</td>\n",
       "      <td>1650</td>\n",
       "      <td>2</td>\n",
       "      <td>0</td>\n",
       "      <td>3</td>\n",
       "    </tr>\n",
       "    <tr>\n",
       "      <th>17282</th>\n",
       "      <td>0</td>\n",
       "      <td>0</td>\n",
       "      <td>0</td>\n",
       "      <td>0</td>\n",
       "      <td>SOUTH</td>\n",
       "      <td>Virginia</td>\n",
       "      <td>Mixed-Humid</td>\n",
       "      <td>Single_detached</td>\n",
       "      <td>1</td>\n",
       "      <td>50-59</td>\n",
       "      <td>...</td>\n",
       "      <td>1</td>\n",
       "      <td>0</td>\n",
       "      <td>1</td>\n",
       "      <td>Furnace</td>\n",
       "      <td>1</td>\n",
       "      <td>1</td>\n",
       "      <td>1250</td>\n",
       "      <td>1</td>\n",
       "      <td>0</td>\n",
       "      <td>2</td>\n",
       "    </tr>\n",
       "    <tr>\n",
       "      <th>12635</th>\n",
       "      <td>1</td>\n",
       "      <td>1</td>\n",
       "      <td>0</td>\n",
       "      <td>0</td>\n",
       "      <td>WEST</td>\n",
       "      <td>California</td>\n",
       "      <td>Hot-Dry</td>\n",
       "      <td>Single_detached</td>\n",
       "      <td>2</td>\n",
       "      <td>Before_50</td>\n",
       "      <td>...</td>\n",
       "      <td>3</td>\n",
       "      <td>1</td>\n",
       "      <td>1</td>\n",
       "      <td>Furnace</td>\n",
       "      <td>1</td>\n",
       "      <td>3</td>\n",
       "      <td>3070</td>\n",
       "      <td>4</td>\n",
       "      <td>2</td>\n",
       "      <td>48</td>\n",
       "    </tr>\n",
       "    <tr>\n",
       "      <th>...</th>\n",
       "      <td>...</td>\n",
       "      <td>...</td>\n",
       "      <td>...</td>\n",
       "      <td>...</td>\n",
       "      <td>...</td>\n",
       "      <td>...</td>\n",
       "      <td>...</td>\n",
       "      <td>...</td>\n",
       "      <td>...</td>\n",
       "      <td>...</td>\n",
       "      <td>...</td>\n",
       "      <td>...</td>\n",
       "      <td>...</td>\n",
       "      <td>...</td>\n",
       "      <td>...</td>\n",
       "      <td>...</td>\n",
       "      <td>...</td>\n",
       "      <td>...</td>\n",
       "      <td>...</td>\n",
       "      <td>...</td>\n",
       "      <td>...</td>\n",
       "    </tr>\n",
       "    <tr>\n",
       "      <th>7481</th>\n",
       "      <td>0</td>\n",
       "      <td>0</td>\n",
       "      <td>0</td>\n",
       "      <td>0</td>\n",
       "      <td>WEST</td>\n",
       "      <td>Nevada</td>\n",
       "      <td>Hot-Dry</td>\n",
       "      <td>Appartment_big</td>\n",
       "      <td>1</td>\n",
       "      <td>90-99</td>\n",
       "      <td>...</td>\n",
       "      <td>1</td>\n",
       "      <td>0</td>\n",
       "      <td>1</td>\n",
       "      <td>Furnace</td>\n",
       "      <td>1</td>\n",
       "      <td>2</td>\n",
       "      <td>620</td>\n",
       "      <td>1</td>\n",
       "      <td>0</td>\n",
       "      <td>8</td>\n",
       "    </tr>\n",
       "    <tr>\n",
       "      <th>4068</th>\n",
       "      <td>0</td>\n",
       "      <td>0</td>\n",
       "      <td>0</td>\n",
       "      <td>0</td>\n",
       "      <td>NORTHEAST</td>\n",
       "      <td>Connecticut</td>\n",
       "      <td>Cold</td>\n",
       "      <td>Single_detached</td>\n",
       "      <td>1</td>\n",
       "      <td>70-79</td>\n",
       "      <td>...</td>\n",
       "      <td>2</td>\n",
       "      <td>0</td>\n",
       "      <td>1</td>\n",
       "      <td>Electric_units</td>\n",
       "      <td>1</td>\n",
       "      <td>2</td>\n",
       "      <td>1700</td>\n",
       "      <td>2</td>\n",
       "      <td>2</td>\n",
       "      <td>15</td>\n",
       "    </tr>\n",
       "    <tr>\n",
       "      <th>13600</th>\n",
       "      <td>0</td>\n",
       "      <td>2</td>\n",
       "      <td>0</td>\n",
       "      <td>1</td>\n",
       "      <td>WEST</td>\n",
       "      <td>Oregon</td>\n",
       "      <td>Cold</td>\n",
       "      <td>Single_detached</td>\n",
       "      <td>1</td>\n",
       "      <td>Before_50</td>\n",
       "      <td>...</td>\n",
       "      <td>1</td>\n",
       "      <td>0</td>\n",
       "      <td>1</td>\n",
       "      <td>Electric_heater</td>\n",
       "      <td>0</td>\n",
       "      <td>1</td>\n",
       "      <td>1300</td>\n",
       "      <td>2</td>\n",
       "      <td>1</td>\n",
       "      <td>5</td>\n",
       "    </tr>\n",
       "    <tr>\n",
       "      <th>7729</th>\n",
       "      <td>0</td>\n",
       "      <td>0</td>\n",
       "      <td>0</td>\n",
       "      <td>1</td>\n",
       "      <td>MIDWEST</td>\n",
       "      <td>Ohio</td>\n",
       "      <td>Cold</td>\n",
       "      <td>Mobile</td>\n",
       "      <td>1</td>\n",
       "      <td>00-09</td>\n",
       "      <td>...</td>\n",
       "      <td>3</td>\n",
       "      <td>0</td>\n",
       "      <td>1</td>\n",
       "      <td>Furnace</td>\n",
       "      <td>1</td>\n",
       "      <td>4</td>\n",
       "      <td>1280</td>\n",
       "      <td>2</td>\n",
       "      <td>3</td>\n",
       "      <td>17</td>\n",
       "    </tr>\n",
       "    <tr>\n",
       "      <th>14385</th>\n",
       "      <td>0</td>\n",
       "      <td>0</td>\n",
       "      <td>0</td>\n",
       "      <td>0</td>\n",
       "      <td>SOUTH</td>\n",
       "      <td>Texas</td>\n",
       "      <td>Hot-Humid</td>\n",
       "      <td>Single_attached</td>\n",
       "      <td>3</td>\n",
       "      <td>90-99</td>\n",
       "      <td>...</td>\n",
       "      <td>1</td>\n",
       "      <td>0</td>\n",
       "      <td>1</td>\n",
       "      <td>Central_heat</td>\n",
       "      <td>1</td>\n",
       "      <td>1</td>\n",
       "      <td>2310</td>\n",
       "      <td>3</td>\n",
       "      <td>2</td>\n",
       "      <td>11</td>\n",
       "    </tr>\n",
       "  </tbody>\n",
       "</table>\n",
       "<p>12817 rows × 27 columns</p>\n",
       "</div>"
      ],
      "text/plain": [
       "      SWIMPOOL NUMPORTEL SOLAR SMARTMETER    REGIONC      state_name  \\\n",
       "2004         0         0     0          0      SOUTH         Georgia   \n",
       "1580         0         0     0          0      SOUTH        Kentucky   \n",
       "2558         0         0     0          0      SOUTH  North Carolina   \n",
       "17282        0         0     0          0      SOUTH        Virginia   \n",
       "12635        1         1     0          0       WEST      California   \n",
       "...        ...       ...   ...        ...        ...             ...   \n",
       "7481         0         0     0          0       WEST          Nevada   \n",
       "4068         0         0     0          0  NORTHEAST     Connecticut   \n",
       "13600        0         2     0          1       WEST          Oregon   \n",
       "7729         0         0     0          1    MIDWEST            Ohio   \n",
       "14385        0         0     0          0      SOUTH           Texas   \n",
       "\n",
       "        BA_climate          TYPEHUQ STORIES YEARMADERANGE  ... TVCOLOR  \\\n",
       "2004   Mixed-Humid  Single_detached       2       2016-20  ...       4   \n",
       "1580   Mixed-Humid  Single_detached       1     Before_50  ...       2   \n",
       "2558   Mixed-Humid  Single_detached       1         60-69  ...       1   \n",
       "17282  Mixed-Humid  Single_detached       1         50-59  ...       1   \n",
       "12635      Hot-Dry  Single_detached       2     Before_50  ...       3   \n",
       "...            ...              ...     ...           ...  ...     ...   \n",
       "7481       Hot-Dry   Appartment_big       1         90-99  ...       1   \n",
       "4068          Cold  Single_detached       1         70-79  ...       2   \n",
       "13600         Cold  Single_detached       1     Before_50  ...       1   \n",
       "7729          Cold           Mobile       1         00-09  ...       3   \n",
       "14385    Hot-Humid  Single_attached       3         90-99  ...       1   \n",
       "\n",
       "      TELLWORK HEATHOME           EQUIPM AIRCOND NHSLDMEM SQFTEST TOTAL_BATH  \\\n",
       "2004         0        1          Furnace       1        2    2980          3   \n",
       "1580         0        1          Furnace       1        5    1180          1   \n",
       "2558         0        1          Furnace       1        1    1650          2   \n",
       "17282        0        1          Furnace       1        1    1250          1   \n",
       "12635        1        1          Furnace       1        3    3070          4   \n",
       "...        ...      ...              ...     ...      ...     ...        ...   \n",
       "7481         0        1          Furnace       1        2     620          1   \n",
       "4068         0        1   Electric_units       1        2    1700          2   \n",
       "13600        0        1  Electric_heater       0        1    1300          2   \n",
       "7729         0        1          Furnace       1        4    1280          2   \n",
       "14385        0        1     Central_heat       1        1    2310          3   \n",
       "\n",
       "      TOTAL_COMP TOTAL_LIGHT  \n",
       "2004           1          22  \n",
       "1580           0          12  \n",
       "2558           0           3  \n",
       "17282          0           2  \n",
       "12635          2          48  \n",
       "...          ...         ...  \n",
       "7481           0           8  \n",
       "4068           2          15  \n",
       "13600          1           5  \n",
       "7729           3          17  \n",
       "14385          2          11  \n",
       "\n",
       "[12817 rows x 27 columns]"
      ]
     },
     "execution_count": 31,
     "metadata": {},
     "output_type": "execute_result"
    }
   ],
   "source": [
    "X_train"
   ]
  },
  {
   "cell_type": "code",
   "execution_count": 32,
   "id": "212dbcb1-1b30-4307-99ed-a17983a31ff0",
   "metadata": {},
   "outputs": [],
   "source": [
    "from sklearn.linear_model import ElasticNet\n",
    "\n",
    "to_ohe_encode = ['REGIONC', 'state_name','BA_climate','TYPEHUQ',\n",
    "                     'YEARMADERANGE','WINDOWS','EQUIPM']\n",
    "\n",
    "to_scale = [\"NUMPORTEL\", \"STORIES\",\"SQFTEST\",\n",
    "            \"TOTROOMS\", \"NUMFRIG\", \"MICRO\", \"TVCOLOR\",\"NHSLDMEM\",\n",
    "            \"TOTAL_BATH\", \"TOTAL_COMP\", \"TOTAL_LIGHT\" ]\n",
    "\n",
    "min_max = MinMaxScaler()\n",
    "ohe = OneHotEncoder(sparse_output=False, handle_unknown='ignore')\n",
    "\n",
    "\n",
    "prep2 = ColumnTransformer(transformers=[\n",
    "                                            ('min_max', min_max, to_scale),\n",
    "                                            ('ohe', ohe, to_ohe_encode)],\n",
    "                                            remainder = \"passthrough\")\n",
    "\n",
    "pipe = Pipeline([(\"prep\", prep2 ),(\"model\", ElasticNet())])"
   ]
  },
  {
   "cell_type": "code",
   "execution_count": 28,
   "id": "adee9dc8-bf99-4437-aa26-6aff7d70aaa0",
   "metadata": {},
   "outputs": [],
   "source": [
    "from sklearn.model_selection import GridSearchCV"
   ]
  },
  {
   "cell_type": "code",
   "execution_count": 33,
   "id": "0747ff2d-7a61-406c-9989-d9bf558992e8",
   "metadata": {},
   "outputs": [],
   "source": [
    "params = {'model__alpha':[0.001, 0.01, 0.1, 1, 10], \n",
    "          'model__l1_ratio':[0.1,0.2, 0.5,0.8]}"
   ]
  },
  {
   "cell_type": "code",
   "execution_count": 34,
   "id": "649d6967-cc71-4769-b919-fc453e124856",
   "metadata": {},
   "outputs": [],
   "source": [
    "search = GridSearchCV(pipe, param_grid=params)"
   ]
  },
  {
   "cell_type": "code",
   "execution_count": 35,
   "id": "4d98e5b2-84e7-4563-8d0b-d321a8d2bb7e",
   "metadata": {
    "scrolled": true
   },
   "outputs": [
    {
     "data": {
      "text/html": [
       "<style>#sk-container-id-2 {color: black;}#sk-container-id-2 pre{padding: 0;}#sk-container-id-2 div.sk-toggleable {background-color: white;}#sk-container-id-2 label.sk-toggleable__label {cursor: pointer;display: block;width: 100%;margin-bottom: 0;padding: 0.3em;box-sizing: border-box;text-align: center;}#sk-container-id-2 label.sk-toggleable__label-arrow:before {content: \"▸\";float: left;margin-right: 0.25em;color: #696969;}#sk-container-id-2 label.sk-toggleable__label-arrow:hover:before {color: black;}#sk-container-id-2 div.sk-estimator:hover label.sk-toggleable__label-arrow:before {color: black;}#sk-container-id-2 div.sk-toggleable__content {max-height: 0;max-width: 0;overflow: hidden;text-align: left;background-color: #f0f8ff;}#sk-container-id-2 div.sk-toggleable__content pre {margin: 0.2em;color: black;border-radius: 0.25em;background-color: #f0f8ff;}#sk-container-id-2 input.sk-toggleable__control:checked~div.sk-toggleable__content {max-height: 200px;max-width: 100%;overflow: auto;}#sk-container-id-2 input.sk-toggleable__control:checked~label.sk-toggleable__label-arrow:before {content: \"▾\";}#sk-container-id-2 div.sk-estimator input.sk-toggleable__control:checked~label.sk-toggleable__label {background-color: #d4ebff;}#sk-container-id-2 div.sk-label input.sk-toggleable__control:checked~label.sk-toggleable__label {background-color: #d4ebff;}#sk-container-id-2 input.sk-hidden--visually {border: 0;clip: rect(1px 1px 1px 1px);clip: rect(1px, 1px, 1px, 1px);height: 1px;margin: -1px;overflow: hidden;padding: 0;position: absolute;width: 1px;}#sk-container-id-2 div.sk-estimator {font-family: monospace;background-color: #f0f8ff;border: 1px dotted black;border-radius: 0.25em;box-sizing: border-box;margin-bottom: 0.5em;}#sk-container-id-2 div.sk-estimator:hover {background-color: #d4ebff;}#sk-container-id-2 div.sk-parallel-item::after {content: \"\";width: 100%;border-bottom: 1px solid gray;flex-grow: 1;}#sk-container-id-2 div.sk-label:hover label.sk-toggleable__label {background-color: #d4ebff;}#sk-container-id-2 div.sk-serial::before {content: \"\";position: absolute;border-left: 1px solid gray;box-sizing: border-box;top: 0;bottom: 0;left: 50%;z-index: 0;}#sk-container-id-2 div.sk-serial {display: flex;flex-direction: column;align-items: center;background-color: white;padding-right: 0.2em;padding-left: 0.2em;position: relative;}#sk-container-id-2 div.sk-item {position: relative;z-index: 1;}#sk-container-id-2 div.sk-parallel {display: flex;align-items: stretch;justify-content: center;background-color: white;position: relative;}#sk-container-id-2 div.sk-item::before, #sk-container-id-2 div.sk-parallel-item::before {content: \"\";position: absolute;border-left: 1px solid gray;box-sizing: border-box;top: 0;bottom: 0;left: 50%;z-index: -1;}#sk-container-id-2 div.sk-parallel-item {display: flex;flex-direction: column;z-index: 1;position: relative;background-color: white;}#sk-container-id-2 div.sk-parallel-item:first-child::after {align-self: flex-end;width: 50%;}#sk-container-id-2 div.sk-parallel-item:last-child::after {align-self: flex-start;width: 50%;}#sk-container-id-2 div.sk-parallel-item:only-child::after {width: 0;}#sk-container-id-2 div.sk-dashed-wrapped {border: 1px dashed gray;margin: 0 0.4em 0.5em 0.4em;box-sizing: border-box;padding-bottom: 0.4em;background-color: white;}#sk-container-id-2 div.sk-label label {font-family: monospace;font-weight: bold;display: inline-block;line-height: 1.2em;}#sk-container-id-2 div.sk-label-container {text-align: center;}#sk-container-id-2 div.sk-container {/* jupyter's `normalize.less` sets `[hidden] { display: none; }` but bootstrap.min.css set `[hidden] { display: none !important; }` so we also need the `!important` here to be able to override the default hidden behavior on the sphinx rendered scikit-learn.org. See: https://github.com/scikit-learn/scikit-learn/issues/21755 */display: inline-block !important;position: relative;}#sk-container-id-2 div.sk-text-repr-fallback {display: none;}</style><div id=\"sk-container-id-2\" class=\"sk-top-container\"><div class=\"sk-text-repr-fallback\"><pre>GridSearchCV(estimator=Pipeline(steps=[(&#x27;prep&#x27;,\n",
       "                                        ColumnTransformer(remainder=&#x27;passthrough&#x27;,\n",
       "                                                          transformers=[(&#x27;min_max&#x27;,\n",
       "                                                                         MinMaxScaler(),\n",
       "                                                                         [&#x27;NUMPORTEL&#x27;,\n",
       "                                                                          &#x27;STORIES&#x27;,\n",
       "                                                                          &#x27;SQFTEST&#x27;,\n",
       "                                                                          &#x27;TOTROOMS&#x27;,\n",
       "                                                                          &#x27;NUMFRIG&#x27;,\n",
       "                                                                          &#x27;MICRO&#x27;,\n",
       "                                                                          &#x27;TVCOLOR&#x27;,\n",
       "                                                                          &#x27;NHSLDMEM&#x27;,\n",
       "                                                                          &#x27;TOTAL_BATH&#x27;,\n",
       "                                                                          &#x27;TOTAL_COMP&#x27;,\n",
       "                                                                          &#x27;TOTAL_LIGHT&#x27;]),\n",
       "                                                                        (&#x27;ohe&#x27;,\n",
       "                                                                         OneHotEncoder(handle_unknown=&#x27;ignore&#x27;,\n",
       "                                                                                       sparse_output=False),\n",
       "                                                                         [&#x27;REGIONC&#x27;,\n",
       "                                                                          &#x27;state_name&#x27;,\n",
       "                                                                          &#x27;BA_climate&#x27;,\n",
       "                                                                          &#x27;TYPEHUQ&#x27;,\n",
       "                                                                          &#x27;YEARMADERANGE&#x27;,\n",
       "                                                                          &#x27;WINDOWS&#x27;,\n",
       "                                                                          &#x27;EQUIPM&#x27;])])),\n",
       "                                       (&#x27;model&#x27;, ElasticNet())]),\n",
       "             param_grid={&#x27;model__alpha&#x27;: [0.001, 0.01, 0.1, 1, 10],\n",
       "                         &#x27;model__l1_ratio&#x27;: [0.1, 0.2, 0.5, 0.8]})</pre><b>In a Jupyter environment, please rerun this cell to show the HTML representation or trust the notebook. <br />On GitHub, the HTML representation is unable to render, please try loading this page with nbviewer.org.</b></div><div class=\"sk-container\" hidden><div class=\"sk-item sk-dashed-wrapped\"><div class=\"sk-label-container\"><div class=\"sk-label sk-toggleable\"><input class=\"sk-toggleable__control sk-hidden--visually\" id=\"sk-estimator-id-11\" type=\"checkbox\" ><label for=\"sk-estimator-id-11\" class=\"sk-toggleable__label sk-toggleable__label-arrow\">GridSearchCV</label><div class=\"sk-toggleable__content\"><pre>GridSearchCV(estimator=Pipeline(steps=[(&#x27;prep&#x27;,\n",
       "                                        ColumnTransformer(remainder=&#x27;passthrough&#x27;,\n",
       "                                                          transformers=[(&#x27;min_max&#x27;,\n",
       "                                                                         MinMaxScaler(),\n",
       "                                                                         [&#x27;NUMPORTEL&#x27;,\n",
       "                                                                          &#x27;STORIES&#x27;,\n",
       "                                                                          &#x27;SQFTEST&#x27;,\n",
       "                                                                          &#x27;TOTROOMS&#x27;,\n",
       "                                                                          &#x27;NUMFRIG&#x27;,\n",
       "                                                                          &#x27;MICRO&#x27;,\n",
       "                                                                          &#x27;TVCOLOR&#x27;,\n",
       "                                                                          &#x27;NHSLDMEM&#x27;,\n",
       "                                                                          &#x27;TOTAL_BATH&#x27;,\n",
       "                                                                          &#x27;TOTAL_COMP&#x27;,\n",
       "                                                                          &#x27;TOTAL_LIGHT&#x27;]),\n",
       "                                                                        (&#x27;ohe&#x27;,\n",
       "                                                                         OneHotEncoder(handle_unknown=&#x27;ignore&#x27;,\n",
       "                                                                                       sparse_output=False),\n",
       "                                                                         [&#x27;REGIONC&#x27;,\n",
       "                                                                          &#x27;state_name&#x27;,\n",
       "                                                                          &#x27;BA_climate&#x27;,\n",
       "                                                                          &#x27;TYPEHUQ&#x27;,\n",
       "                                                                          &#x27;YEARMADERANGE&#x27;,\n",
       "                                                                          &#x27;WINDOWS&#x27;,\n",
       "                                                                          &#x27;EQUIPM&#x27;])])),\n",
       "                                       (&#x27;model&#x27;, ElasticNet())]),\n",
       "             param_grid={&#x27;model__alpha&#x27;: [0.001, 0.01, 0.1, 1, 10],\n",
       "                         &#x27;model__l1_ratio&#x27;: [0.1, 0.2, 0.5, 0.8]})</pre></div></div></div><div class=\"sk-parallel\"><div class=\"sk-parallel-item\"><div class=\"sk-item\"><div class=\"sk-label-container\"><div class=\"sk-label sk-toggleable\"><input class=\"sk-toggleable__control sk-hidden--visually\" id=\"sk-estimator-id-12\" type=\"checkbox\" ><label for=\"sk-estimator-id-12\" class=\"sk-toggleable__label sk-toggleable__label-arrow\">estimator: Pipeline</label><div class=\"sk-toggleable__content\"><pre>Pipeline(steps=[(&#x27;prep&#x27;,\n",
       "                 ColumnTransformer(remainder=&#x27;passthrough&#x27;,\n",
       "                                   transformers=[(&#x27;min_max&#x27;, MinMaxScaler(),\n",
       "                                                  [&#x27;NUMPORTEL&#x27;, &#x27;STORIES&#x27;,\n",
       "                                                   &#x27;SQFTEST&#x27;, &#x27;TOTROOMS&#x27;,\n",
       "                                                   &#x27;NUMFRIG&#x27;, &#x27;MICRO&#x27;,\n",
       "                                                   &#x27;TVCOLOR&#x27;, &#x27;NHSLDMEM&#x27;,\n",
       "                                                   &#x27;TOTAL_BATH&#x27;, &#x27;TOTAL_COMP&#x27;,\n",
       "                                                   &#x27;TOTAL_LIGHT&#x27;]),\n",
       "                                                 (&#x27;ohe&#x27;,\n",
       "                                                  OneHotEncoder(handle_unknown=&#x27;ignore&#x27;,\n",
       "                                                                sparse_output=False),\n",
       "                                                  [&#x27;REGIONC&#x27;, &#x27;state_name&#x27;,\n",
       "                                                   &#x27;BA_climate&#x27;, &#x27;TYPEHUQ&#x27;,\n",
       "                                                   &#x27;YEARMADERANGE&#x27;, &#x27;WINDOWS&#x27;,\n",
       "                                                   &#x27;EQUIPM&#x27;])])),\n",
       "                (&#x27;model&#x27;, ElasticNet())])</pre></div></div></div><div class=\"sk-serial\"><div class=\"sk-item\"><div class=\"sk-serial\"><div class=\"sk-item sk-dashed-wrapped\"><div class=\"sk-label-container\"><div class=\"sk-label sk-toggleable\"><input class=\"sk-toggleable__control sk-hidden--visually\" id=\"sk-estimator-id-13\" type=\"checkbox\" ><label for=\"sk-estimator-id-13\" class=\"sk-toggleable__label sk-toggleable__label-arrow\">prep: ColumnTransformer</label><div class=\"sk-toggleable__content\"><pre>ColumnTransformer(remainder=&#x27;passthrough&#x27;,\n",
       "                  transformers=[(&#x27;min_max&#x27;, MinMaxScaler(),\n",
       "                                 [&#x27;NUMPORTEL&#x27;, &#x27;STORIES&#x27;, &#x27;SQFTEST&#x27;, &#x27;TOTROOMS&#x27;,\n",
       "                                  &#x27;NUMFRIG&#x27;, &#x27;MICRO&#x27;, &#x27;TVCOLOR&#x27;, &#x27;NHSLDMEM&#x27;,\n",
       "                                  &#x27;TOTAL_BATH&#x27;, &#x27;TOTAL_COMP&#x27;, &#x27;TOTAL_LIGHT&#x27;]),\n",
       "                                (&#x27;ohe&#x27;,\n",
       "                                 OneHotEncoder(handle_unknown=&#x27;ignore&#x27;,\n",
       "                                               sparse_output=False),\n",
       "                                 [&#x27;REGIONC&#x27;, &#x27;state_name&#x27;, &#x27;BA_climate&#x27;,\n",
       "                                  &#x27;TYPEHUQ&#x27;, &#x27;YEARMADERANGE&#x27;, &#x27;WINDOWS&#x27;,\n",
       "                                  &#x27;EQUIPM&#x27;])])</pre></div></div></div><div class=\"sk-parallel\"><div class=\"sk-parallel-item\"><div class=\"sk-item\"><div class=\"sk-label-container\"><div class=\"sk-label sk-toggleable\"><input class=\"sk-toggleable__control sk-hidden--visually\" id=\"sk-estimator-id-14\" type=\"checkbox\" ><label for=\"sk-estimator-id-14\" class=\"sk-toggleable__label sk-toggleable__label-arrow\">min_max</label><div class=\"sk-toggleable__content\"><pre>[&#x27;NUMPORTEL&#x27;, &#x27;STORIES&#x27;, &#x27;SQFTEST&#x27;, &#x27;TOTROOMS&#x27;, &#x27;NUMFRIG&#x27;, &#x27;MICRO&#x27;, &#x27;TVCOLOR&#x27;, &#x27;NHSLDMEM&#x27;, &#x27;TOTAL_BATH&#x27;, &#x27;TOTAL_COMP&#x27;, &#x27;TOTAL_LIGHT&#x27;]</pre></div></div></div><div class=\"sk-serial\"><div class=\"sk-item\"><div class=\"sk-estimator sk-toggleable\"><input class=\"sk-toggleable__control sk-hidden--visually\" id=\"sk-estimator-id-15\" type=\"checkbox\" ><label for=\"sk-estimator-id-15\" class=\"sk-toggleable__label sk-toggleable__label-arrow\">MinMaxScaler</label><div class=\"sk-toggleable__content\"><pre>MinMaxScaler()</pre></div></div></div></div></div></div><div class=\"sk-parallel-item\"><div class=\"sk-item\"><div class=\"sk-label-container\"><div class=\"sk-label sk-toggleable\"><input class=\"sk-toggleable__control sk-hidden--visually\" id=\"sk-estimator-id-16\" type=\"checkbox\" ><label for=\"sk-estimator-id-16\" class=\"sk-toggleable__label sk-toggleable__label-arrow\">ohe</label><div class=\"sk-toggleable__content\"><pre>[&#x27;REGIONC&#x27;, &#x27;state_name&#x27;, &#x27;BA_climate&#x27;, &#x27;TYPEHUQ&#x27;, &#x27;YEARMADERANGE&#x27;, &#x27;WINDOWS&#x27;, &#x27;EQUIPM&#x27;]</pre></div></div></div><div class=\"sk-serial\"><div class=\"sk-item\"><div class=\"sk-estimator sk-toggleable\"><input class=\"sk-toggleable__control sk-hidden--visually\" id=\"sk-estimator-id-17\" type=\"checkbox\" ><label for=\"sk-estimator-id-17\" class=\"sk-toggleable__label sk-toggleable__label-arrow\">OneHotEncoder</label><div class=\"sk-toggleable__content\"><pre>OneHotEncoder(handle_unknown=&#x27;ignore&#x27;, sparse_output=False)</pre></div></div></div></div></div></div><div class=\"sk-parallel-item\"><div class=\"sk-item\"><div class=\"sk-label-container\"><div class=\"sk-label sk-toggleable\"><input class=\"sk-toggleable__control sk-hidden--visually\" id=\"sk-estimator-id-18\" type=\"checkbox\" ><label for=\"sk-estimator-id-18\" class=\"sk-toggleable__label sk-toggleable__label-arrow\">remainder</label><div class=\"sk-toggleable__content\"><pre></pre></div></div></div><div class=\"sk-serial\"><div class=\"sk-item\"><div class=\"sk-estimator sk-toggleable\"><input class=\"sk-toggleable__control sk-hidden--visually\" id=\"sk-estimator-id-19\" type=\"checkbox\" ><label for=\"sk-estimator-id-19\" class=\"sk-toggleable__label sk-toggleable__label-arrow\">passthrough</label><div class=\"sk-toggleable__content\"><pre>passthrough</pre></div></div></div></div></div></div></div></div><div class=\"sk-item\"><div class=\"sk-estimator sk-toggleable\"><input class=\"sk-toggleable__control sk-hidden--visually\" id=\"sk-estimator-id-20\" type=\"checkbox\" ><label for=\"sk-estimator-id-20\" class=\"sk-toggleable__label sk-toggleable__label-arrow\">ElasticNet</label><div class=\"sk-toggleable__content\"><pre>ElasticNet()</pre></div></div></div></div></div></div></div></div></div></div></div></div>"
      ],
      "text/plain": [
       "GridSearchCV(estimator=Pipeline(steps=[('prep',\n",
       "                                        ColumnTransformer(remainder='passthrough',\n",
       "                                                          transformers=[('min_max',\n",
       "                                                                         MinMaxScaler(),\n",
       "                                                                         ['NUMPORTEL',\n",
       "                                                                          'STORIES',\n",
       "                                                                          'SQFTEST',\n",
       "                                                                          'TOTROOMS',\n",
       "                                                                          'NUMFRIG',\n",
       "                                                                          'MICRO',\n",
       "                                                                          'TVCOLOR',\n",
       "                                                                          'NHSLDMEM',\n",
       "                                                                          'TOTAL_BATH',\n",
       "                                                                          'TOTAL_COMP',\n",
       "                                                                          'TOTAL_LIGHT']),\n",
       "                                                                        ('ohe',\n",
       "                                                                         OneHotEncoder(handle_unknown='ignore',\n",
       "                                                                                       sparse_output=False),\n",
       "                                                                         ['REGIONC',\n",
       "                                                                          'state_name',\n",
       "                                                                          'BA_climate',\n",
       "                                                                          'TYPEHUQ',\n",
       "                                                                          'YEARMADERANGE',\n",
       "                                                                          'WINDOWS',\n",
       "                                                                          'EQUIPM'])])),\n",
       "                                       ('model', ElasticNet())]),\n",
       "             param_grid={'model__alpha': [0.001, 0.01, 0.1, 1, 10],\n",
       "                         'model__l1_ratio': [0.1, 0.2, 0.5, 0.8]})"
      ]
     },
     "execution_count": 35,
     "metadata": {},
     "output_type": "execute_result"
    }
   ],
   "source": [
    "search.fit(X_train, y_train_p)"
   ]
  },
  {
   "cell_type": "code",
   "execution_count": 36,
   "id": "82ff696e-64b5-4c30-92c8-24ff5136578e",
   "metadata": {},
   "outputs": [
    {
     "data": {
      "text/plain": [
       "0.5422175834725463"
      ]
     },
     "execution_count": 36,
     "metadata": {},
     "output_type": "execute_result"
    }
   ],
   "source": [
    "search.best_score_"
   ]
  },
  {
   "cell_type": "code",
   "execution_count": 30,
   "id": "a44b572e-b155-4a8d-983b-2b5be690bc08",
   "metadata": {},
   "outputs": [
    {
     "data": {
      "text/plain": [
       "{'fit_time': array([0.12209702, 0.13957977, 0.14752269, 0.1435442 , 0.14555979]),\n",
       " 'score_time': array([0.03126574, 0.02787924, 0.02887201, 0.04096174, 0.02188373]),\n",
       " 'test_score': array([-1.75000429e-06, -2.31601231e-06, -1.36734691e-06, -4.78692418e-04,\n",
       "        -5.80409686e-04])}"
      ]
     },
     "execution_count": 30,
     "metadata": {},
     "output_type": "execute_result"
    }
   ],
   "source": [
    "cross_validate(pipe, X_train, y_train_p, cv =5 )"
   ]
  },
  {
   "cell_type": "code",
   "execution_count": 15,
   "id": "a69557de-ab87-48da-8927-611e34672141",
   "metadata": {},
   "outputs": [
    {
     "ename": "NotFittedError",
     "evalue": "This ColumnTransformer instance is not fitted yet. Call 'fit' with appropriate arguments before using this estimator.",
     "output_type": "error",
     "traceback": [
      "\u001b[0;31m---------------------------------------------------------------------------\u001b[0m",
      "\u001b[0;31mNotFittedError\u001b[0m                            Traceback (most recent call last)",
      "Cell \u001b[0;32mIn[15], line 1\u001b[0m\n\u001b[0;32m----> 1\u001b[0m X_trans \u001b[38;5;241m=\u001b[39m \u001b[43mprep2\u001b[49m\u001b[38;5;241;43m.\u001b[39;49m\u001b[43mtransform\u001b[49m\u001b[43m(\u001b[49m\u001b[43mX_train\u001b[49m\u001b[43m)\u001b[49m\n\u001b[1;32m      2\u001b[0m X_trans_test \u001b[38;5;241m=\u001b[39m prep2\u001b[38;5;241m.\u001b[39mtransform(X_test)\n",
      "File \u001b[0;32m~/.pyenv/versions/3.10.6/envs/01-household-energy/lib/python3.10/site-packages/sklearn/utils/_set_output.py:157\u001b[0m, in \u001b[0;36m_wrap_method_output.<locals>.wrapped\u001b[0;34m(self, X, *args, **kwargs)\u001b[0m\n\u001b[1;32m    155\u001b[0m \u001b[38;5;129m@wraps\u001b[39m(f)\n\u001b[1;32m    156\u001b[0m \u001b[38;5;28;01mdef\u001b[39;00m \u001b[38;5;21mwrapped\u001b[39m(\u001b[38;5;28mself\u001b[39m, X, \u001b[38;5;241m*\u001b[39margs, \u001b[38;5;241m*\u001b[39m\u001b[38;5;241m*\u001b[39mkwargs):\n\u001b[0;32m--> 157\u001b[0m     data_to_wrap \u001b[38;5;241m=\u001b[39m \u001b[43mf\u001b[49m\u001b[43m(\u001b[49m\u001b[38;5;28;43mself\u001b[39;49m\u001b[43m,\u001b[49m\u001b[43m \u001b[49m\u001b[43mX\u001b[49m\u001b[43m,\u001b[49m\u001b[43m \u001b[49m\u001b[38;5;241;43m*\u001b[39;49m\u001b[43margs\u001b[49m\u001b[43m,\u001b[49m\u001b[43m \u001b[49m\u001b[38;5;241;43m*\u001b[39;49m\u001b[38;5;241;43m*\u001b[39;49m\u001b[43mkwargs\u001b[49m\u001b[43m)\u001b[49m\n\u001b[1;32m    158\u001b[0m     \u001b[38;5;28;01mif\u001b[39;00m \u001b[38;5;28misinstance\u001b[39m(data_to_wrap, \u001b[38;5;28mtuple\u001b[39m):\n\u001b[1;32m    159\u001b[0m         \u001b[38;5;66;03m# only wrap the first output for cross decomposition\u001b[39;00m\n\u001b[1;32m    160\u001b[0m         return_tuple \u001b[38;5;241m=\u001b[39m (\n\u001b[1;32m    161\u001b[0m             _wrap_data_with_container(method, data_to_wrap[\u001b[38;5;241m0\u001b[39m], X, \u001b[38;5;28mself\u001b[39m),\n\u001b[1;32m    162\u001b[0m             \u001b[38;5;241m*\u001b[39mdata_to_wrap[\u001b[38;5;241m1\u001b[39m:],\n\u001b[1;32m    163\u001b[0m         )\n",
      "File \u001b[0;32m~/.pyenv/versions/3.10.6/envs/01-household-energy/lib/python3.10/site-packages/sklearn/compose/_column_transformer.py:797\u001b[0m, in \u001b[0;36mColumnTransformer.transform\u001b[0;34m(self, X)\u001b[0m\n\u001b[1;32m    780\u001b[0m \u001b[38;5;28;01mdef\u001b[39;00m \u001b[38;5;21mtransform\u001b[39m(\u001b[38;5;28mself\u001b[39m, X):\n\u001b[1;32m    781\u001b[0m \u001b[38;5;250m    \u001b[39m\u001b[38;5;124;03m\"\"\"Transform X separately by each transformer, concatenate results.\u001b[39;00m\n\u001b[1;32m    782\u001b[0m \n\u001b[1;32m    783\u001b[0m \u001b[38;5;124;03m    Parameters\u001b[39;00m\n\u001b[0;32m   (...)\u001b[0m\n\u001b[1;32m    795\u001b[0m \u001b[38;5;124;03m        sparse matrices.\u001b[39;00m\n\u001b[1;32m    796\u001b[0m \u001b[38;5;124;03m    \"\"\"\u001b[39;00m\n\u001b[0;32m--> 797\u001b[0m     \u001b[43mcheck_is_fitted\u001b[49m\u001b[43m(\u001b[49m\u001b[38;5;28;43mself\u001b[39;49m\u001b[43m)\u001b[49m\n\u001b[1;32m    798\u001b[0m     X \u001b[38;5;241m=\u001b[39m _check_X(X)\n\u001b[1;32m    800\u001b[0m     fit_dataframe_and_transform_dataframe \u001b[38;5;241m=\u001b[39m \u001b[38;5;28mhasattr\u001b[39m(\n\u001b[1;32m    801\u001b[0m         \u001b[38;5;28mself\u001b[39m, \u001b[38;5;124m\"\u001b[39m\u001b[38;5;124mfeature_names_in_\u001b[39m\u001b[38;5;124m\"\u001b[39m\n\u001b[1;32m    802\u001b[0m     ) \u001b[38;5;129;01mand\u001b[39;00m \u001b[38;5;28mhasattr\u001b[39m(X, \u001b[38;5;124m\"\u001b[39m\u001b[38;5;124mcolumns\u001b[39m\u001b[38;5;124m\"\u001b[39m)\n",
      "File \u001b[0;32m~/.pyenv/versions/3.10.6/envs/01-household-energy/lib/python3.10/site-packages/sklearn/utils/validation.py:1461\u001b[0m, in \u001b[0;36mcheck_is_fitted\u001b[0;34m(estimator, attributes, msg, all_or_any)\u001b[0m\n\u001b[1;32m   1458\u001b[0m     \u001b[38;5;28;01mraise\u001b[39;00m \u001b[38;5;167;01mTypeError\u001b[39;00m(\u001b[38;5;124m\"\u001b[39m\u001b[38;5;132;01m%s\u001b[39;00m\u001b[38;5;124m is not an estimator instance.\u001b[39m\u001b[38;5;124m\"\u001b[39m \u001b[38;5;241m%\u001b[39m (estimator))\n\u001b[1;32m   1460\u001b[0m \u001b[38;5;28;01mif\u001b[39;00m \u001b[38;5;129;01mnot\u001b[39;00m _is_fitted(estimator, attributes, all_or_any):\n\u001b[0;32m-> 1461\u001b[0m     \u001b[38;5;28;01mraise\u001b[39;00m NotFittedError(msg \u001b[38;5;241m%\u001b[39m {\u001b[38;5;124m\"\u001b[39m\u001b[38;5;124mname\u001b[39m\u001b[38;5;124m\"\u001b[39m: \u001b[38;5;28mtype\u001b[39m(estimator)\u001b[38;5;241m.\u001b[39m\u001b[38;5;18m__name__\u001b[39m})\n",
      "\u001b[0;31mNotFittedError\u001b[0m: This ColumnTransformer instance is not fitted yet. Call 'fit' with appropriate arguments before using this estimator."
     ]
    }
   ],
   "source": [
    "X_trans = prep2.transform(X_train)\n",
    "X_trans_test = prep2.transform(X_test)"
   ]
  },
  {
   "cell_type": "code",
   "execution_count": null,
   "id": "1b046925-c66b-4ba6-b847-4f6d2af460c9",
   "metadata": {},
   "outputs": [],
   "source": [
    "model = LinearRegression()\n",
    "model.fit(X_trans, y_train)"
   ]
  },
  {
   "cell_type": "code",
   "execution_count": 309,
   "id": "a5ca7e74-d683-436c-874f-43c30216598e",
   "metadata": {},
   "outputs": [
    {
     "data": {
      "text/plain": [
       "0.49769718217717623"
      ]
     },
     "execution_count": 309,
     "metadata": {},
     "output_type": "execute_result"
    }
   ],
   "source": [
    "cross_validate(model , X_trans, y_train, cv=5 )[\"test_score\"].mean()"
   ]
  },
  {
   "cell_type": "code",
   "execution_count": 310,
   "id": "624eff23-a126-408a-a077-9258a0b096e0",
   "metadata": {},
   "outputs": [
    {
     "data": {
      "text/plain": [
       "0.5302786418145256"
      ]
     },
     "execution_count": 310,
     "metadata": {},
     "output_type": "execute_result"
    }
   ],
   "source": [
    "cross_validate(model , X_trans, y_train_p, cv=5 )[\"test_score\"].mean()"
   ]
  },
  {
   "cell_type": "code",
   "execution_count": 339,
   "id": "f8664b52-ac9b-4e48-a47f-13b8e7cf34f7",
   "metadata": {},
   "outputs": [],
   "source": [
    "from household_package.registry import load_model_locally_log\n",
    "import os "
   ]
  },
  {
   "cell_type": "code",
   "execution_count": 340,
   "id": "edaab037-c47b-4ff8-8107-121f71d17f94",
   "metadata": {},
   "outputs": [
    {
     "name": "stdout",
     "output_type": "stream",
     "text": [
      "[<Blob: 01_household_energy, models/baseline_20231129-122043.pkl, 1701256844126884>, <Blob: 01_household_energy, models/baseline_20231129-131320.pkl, 1701260000941981>, <Blob: 01_household_energy, models/baseline_20231130-102940.pkl, 1701337090569311>, <Blob: 01_household_energy, models/baseline_20231201-151102.pkl, 1701439862204187>]\n"
     ]
    }
   ],
   "source": [
    "client = storage.Client()\n",
    "blobs = list(client.get_bucket(BUCKET_NAME).list_blobs(prefix=\"model\"))\n",
    "print(blobs)\n",
    "    #print(blobs)\n",
    "latest_blob = max(blobs, key=lambda x: x.updated)\n",
    "        #print(latest_blob.name)\n",
    "latest_model_path_to_save = os.path.join(LOCAL_REGISTRY_PATH, latest_blob.name)\n",
    "latest_blob.download_to_filename(latest_model_path_to_save)\n",
    "\n",
    "with open(latest_model_path_to_save , 'rb') as f:\n",
    "    latest_model = pickle.load(f)"
   ]
  },
  {
   "cell_type": "code",
   "execution_count": 341,
   "id": "9b3271f1-5078-42db-9915-cf4f5dfdaac9",
   "metadata": {},
   "outputs": [
    {
     "data": {
      "text/html": [
       "<style>#sk-container-id-22 {color: black;}#sk-container-id-22 pre{padding: 0;}#sk-container-id-22 div.sk-toggleable {background-color: white;}#sk-container-id-22 label.sk-toggleable__label {cursor: pointer;display: block;width: 100%;margin-bottom: 0;padding: 0.3em;box-sizing: border-box;text-align: center;}#sk-container-id-22 label.sk-toggleable__label-arrow:before {content: \"▸\";float: left;margin-right: 0.25em;color: #696969;}#sk-container-id-22 label.sk-toggleable__label-arrow:hover:before {color: black;}#sk-container-id-22 div.sk-estimator:hover label.sk-toggleable__label-arrow:before {color: black;}#sk-container-id-22 div.sk-toggleable__content {max-height: 0;max-width: 0;overflow: hidden;text-align: left;background-color: #f0f8ff;}#sk-container-id-22 div.sk-toggleable__content pre {margin: 0.2em;color: black;border-radius: 0.25em;background-color: #f0f8ff;}#sk-container-id-22 input.sk-toggleable__control:checked~div.sk-toggleable__content {max-height: 200px;max-width: 100%;overflow: auto;}#sk-container-id-22 input.sk-toggleable__control:checked~label.sk-toggleable__label-arrow:before {content: \"▾\";}#sk-container-id-22 div.sk-estimator input.sk-toggleable__control:checked~label.sk-toggleable__label {background-color: #d4ebff;}#sk-container-id-22 div.sk-label input.sk-toggleable__control:checked~label.sk-toggleable__label {background-color: #d4ebff;}#sk-container-id-22 input.sk-hidden--visually {border: 0;clip: rect(1px 1px 1px 1px);clip: rect(1px, 1px, 1px, 1px);height: 1px;margin: -1px;overflow: hidden;padding: 0;position: absolute;width: 1px;}#sk-container-id-22 div.sk-estimator {font-family: monospace;background-color: #f0f8ff;border: 1px dotted black;border-radius: 0.25em;box-sizing: border-box;margin-bottom: 0.5em;}#sk-container-id-22 div.sk-estimator:hover {background-color: #d4ebff;}#sk-container-id-22 div.sk-parallel-item::after {content: \"\";width: 100%;border-bottom: 1px solid gray;flex-grow: 1;}#sk-container-id-22 div.sk-label:hover label.sk-toggleable__label {background-color: #d4ebff;}#sk-container-id-22 div.sk-serial::before {content: \"\";position: absolute;border-left: 1px solid gray;box-sizing: border-box;top: 0;bottom: 0;left: 50%;z-index: 0;}#sk-container-id-22 div.sk-serial {display: flex;flex-direction: column;align-items: center;background-color: white;padding-right: 0.2em;padding-left: 0.2em;position: relative;}#sk-container-id-22 div.sk-item {position: relative;z-index: 1;}#sk-container-id-22 div.sk-parallel {display: flex;align-items: stretch;justify-content: center;background-color: white;position: relative;}#sk-container-id-22 div.sk-item::before, #sk-container-id-22 div.sk-parallel-item::before {content: \"\";position: absolute;border-left: 1px solid gray;box-sizing: border-box;top: 0;bottom: 0;left: 50%;z-index: -1;}#sk-container-id-22 div.sk-parallel-item {display: flex;flex-direction: column;z-index: 1;position: relative;background-color: white;}#sk-container-id-22 div.sk-parallel-item:first-child::after {align-self: flex-end;width: 50%;}#sk-container-id-22 div.sk-parallel-item:last-child::after {align-self: flex-start;width: 50%;}#sk-container-id-22 div.sk-parallel-item:only-child::after {width: 0;}#sk-container-id-22 div.sk-dashed-wrapped {border: 1px dashed gray;margin: 0 0.4em 0.5em 0.4em;box-sizing: border-box;padding-bottom: 0.4em;background-color: white;}#sk-container-id-22 div.sk-label label {font-family: monospace;font-weight: bold;display: inline-block;line-height: 1.2em;}#sk-container-id-22 div.sk-label-container {text-align: center;}#sk-container-id-22 div.sk-container {/* jupyter's `normalize.less` sets `[hidden] { display: none; }` but bootstrap.min.css set `[hidden] { display: none !important; }` so we also need the `!important` here to be able to override the default hidden behavior on the sphinx rendered scikit-learn.org. See: https://github.com/scikit-learn/scikit-learn/issues/21755 */display: inline-block !important;position: relative;}#sk-container-id-22 div.sk-text-repr-fallback {display: none;}</style><div id=\"sk-container-id-22\" class=\"sk-top-container\"><div class=\"sk-text-repr-fallback\"><pre>Pipeline(steps=[(&#x27;prep&#x27;,\n",
       "                 ColumnTransformer(remainder=&#x27;passthrough&#x27;,\n",
       "                                   transformers=[(&#x27;min_max&#x27;, MinMaxScaler(),\n",
       "                                                  [&#x27;NUMPORTEL&#x27;, &#x27;STORIES&#x27;,\n",
       "                                                   &#x27;SQFTEST&#x27;, &#x27;TOTROOMS&#x27;,\n",
       "                                                   &#x27;NUMFRIG&#x27;, &#x27;MICRO&#x27;,\n",
       "                                                   &#x27;TVCOLOR&#x27;, &#x27;NHSLDMEM&#x27;,\n",
       "                                                   &#x27;TOTAL_BATH&#x27;, &#x27;TOTAL_COMP&#x27;,\n",
       "                                                   &#x27;TOTAL_LIGHT&#x27;]),\n",
       "                                                 (&#x27;ohe&#x27;,\n",
       "                                                  OneHotEncoder(handle_unknown=&#x27;ignore&#x27;,\n",
       "                                                                sparse_output=False),\n",
       "                                                  [&#x27;REGIONC&#x27;, &#x27;state_name&#x27;,\n",
       "                                                   &#x27;BA_climate&#x27;, &#x27;TYPEHUQ&#x27;,\n",
       "                                                   &#x27;YEARMADERANGE&#x27;, &#x27;WINDOWS&#x27;,\n",
       "                                                   &#x27;EQUIPM&#x27;])])),\n",
       "                (&#x27;model&#x27;, LinearRegression())])</pre><b>In a Jupyter environment, please rerun this cell to show the HTML representation or trust the notebook. <br />On GitHub, the HTML representation is unable to render, please try loading this page with nbviewer.org.</b></div><div class=\"sk-container\" hidden><div class=\"sk-item sk-dashed-wrapped\"><div class=\"sk-label-container\"><div class=\"sk-label sk-toggleable\"><input class=\"sk-toggleable__control sk-hidden--visually\" id=\"sk-estimator-id-140\" type=\"checkbox\" ><label for=\"sk-estimator-id-140\" class=\"sk-toggleable__label sk-toggleable__label-arrow\">Pipeline</label><div class=\"sk-toggleable__content\"><pre>Pipeline(steps=[(&#x27;prep&#x27;,\n",
       "                 ColumnTransformer(remainder=&#x27;passthrough&#x27;,\n",
       "                                   transformers=[(&#x27;min_max&#x27;, MinMaxScaler(),\n",
       "                                                  [&#x27;NUMPORTEL&#x27;, &#x27;STORIES&#x27;,\n",
       "                                                   &#x27;SQFTEST&#x27;, &#x27;TOTROOMS&#x27;,\n",
       "                                                   &#x27;NUMFRIG&#x27;, &#x27;MICRO&#x27;,\n",
       "                                                   &#x27;TVCOLOR&#x27;, &#x27;NHSLDMEM&#x27;,\n",
       "                                                   &#x27;TOTAL_BATH&#x27;, &#x27;TOTAL_COMP&#x27;,\n",
       "                                                   &#x27;TOTAL_LIGHT&#x27;]),\n",
       "                                                 (&#x27;ohe&#x27;,\n",
       "                                                  OneHotEncoder(handle_unknown=&#x27;ignore&#x27;,\n",
       "                                                                sparse_output=False),\n",
       "                                                  [&#x27;REGIONC&#x27;, &#x27;state_name&#x27;,\n",
       "                                                   &#x27;BA_climate&#x27;, &#x27;TYPEHUQ&#x27;,\n",
       "                                                   &#x27;YEARMADERANGE&#x27;, &#x27;WINDOWS&#x27;,\n",
       "                                                   &#x27;EQUIPM&#x27;])])),\n",
       "                (&#x27;model&#x27;, LinearRegression())])</pre></div></div></div><div class=\"sk-serial\"><div class=\"sk-item sk-dashed-wrapped\"><div class=\"sk-label-container\"><div class=\"sk-label sk-toggleable\"><input class=\"sk-toggleable__control sk-hidden--visually\" id=\"sk-estimator-id-141\" type=\"checkbox\" ><label for=\"sk-estimator-id-141\" class=\"sk-toggleable__label sk-toggleable__label-arrow\">prep: ColumnTransformer</label><div class=\"sk-toggleable__content\"><pre>ColumnTransformer(remainder=&#x27;passthrough&#x27;,\n",
       "                  transformers=[(&#x27;min_max&#x27;, MinMaxScaler(),\n",
       "                                 [&#x27;NUMPORTEL&#x27;, &#x27;STORIES&#x27;, &#x27;SQFTEST&#x27;, &#x27;TOTROOMS&#x27;,\n",
       "                                  &#x27;NUMFRIG&#x27;, &#x27;MICRO&#x27;, &#x27;TVCOLOR&#x27;, &#x27;NHSLDMEM&#x27;,\n",
       "                                  &#x27;TOTAL_BATH&#x27;, &#x27;TOTAL_COMP&#x27;, &#x27;TOTAL_LIGHT&#x27;]),\n",
       "                                (&#x27;ohe&#x27;,\n",
       "                                 OneHotEncoder(handle_unknown=&#x27;ignore&#x27;,\n",
       "                                               sparse_output=False),\n",
       "                                 [&#x27;REGIONC&#x27;, &#x27;state_name&#x27;, &#x27;BA_climate&#x27;,\n",
       "                                  &#x27;TYPEHUQ&#x27;, &#x27;YEARMADERANGE&#x27;, &#x27;WINDOWS&#x27;,\n",
       "                                  &#x27;EQUIPM&#x27;])])</pre></div></div></div><div class=\"sk-parallel\"><div class=\"sk-parallel-item\"><div class=\"sk-item\"><div class=\"sk-label-container\"><div class=\"sk-label sk-toggleable\"><input class=\"sk-toggleable__control sk-hidden--visually\" id=\"sk-estimator-id-142\" type=\"checkbox\" ><label for=\"sk-estimator-id-142\" class=\"sk-toggleable__label sk-toggleable__label-arrow\">min_max</label><div class=\"sk-toggleable__content\"><pre>[&#x27;NUMPORTEL&#x27;, &#x27;STORIES&#x27;, &#x27;SQFTEST&#x27;, &#x27;TOTROOMS&#x27;, &#x27;NUMFRIG&#x27;, &#x27;MICRO&#x27;, &#x27;TVCOLOR&#x27;, &#x27;NHSLDMEM&#x27;, &#x27;TOTAL_BATH&#x27;, &#x27;TOTAL_COMP&#x27;, &#x27;TOTAL_LIGHT&#x27;]</pre></div></div></div><div class=\"sk-serial\"><div class=\"sk-item\"><div class=\"sk-estimator sk-toggleable\"><input class=\"sk-toggleable__control sk-hidden--visually\" id=\"sk-estimator-id-143\" type=\"checkbox\" ><label for=\"sk-estimator-id-143\" class=\"sk-toggleable__label sk-toggleable__label-arrow\">MinMaxScaler</label><div class=\"sk-toggleable__content\"><pre>MinMaxScaler()</pre></div></div></div></div></div></div><div class=\"sk-parallel-item\"><div class=\"sk-item\"><div class=\"sk-label-container\"><div class=\"sk-label sk-toggleable\"><input class=\"sk-toggleable__control sk-hidden--visually\" id=\"sk-estimator-id-144\" type=\"checkbox\" ><label for=\"sk-estimator-id-144\" class=\"sk-toggleable__label sk-toggleable__label-arrow\">ohe</label><div class=\"sk-toggleable__content\"><pre>[&#x27;REGIONC&#x27;, &#x27;state_name&#x27;, &#x27;BA_climate&#x27;, &#x27;TYPEHUQ&#x27;, &#x27;YEARMADERANGE&#x27;, &#x27;WINDOWS&#x27;, &#x27;EQUIPM&#x27;]</pre></div></div></div><div class=\"sk-serial\"><div class=\"sk-item\"><div class=\"sk-estimator sk-toggleable\"><input class=\"sk-toggleable__control sk-hidden--visually\" id=\"sk-estimator-id-145\" type=\"checkbox\" ><label for=\"sk-estimator-id-145\" class=\"sk-toggleable__label sk-toggleable__label-arrow\">OneHotEncoder</label><div class=\"sk-toggleable__content\"><pre>OneHotEncoder(handle_unknown=&#x27;ignore&#x27;, sparse_output=False)</pre></div></div></div></div></div></div><div class=\"sk-parallel-item\"><div class=\"sk-item\"><div class=\"sk-label-container\"><div class=\"sk-label sk-toggleable\"><input class=\"sk-toggleable__control sk-hidden--visually\" id=\"sk-estimator-id-146\" type=\"checkbox\" ><label for=\"sk-estimator-id-146\" class=\"sk-toggleable__label sk-toggleable__label-arrow\">remainder</label><div class=\"sk-toggleable__content\"><pre>[&#x27;SWIMPOOL&#x27;, &#x27;SOLAR&#x27;, &#x27;SMARTMETER&#x27;, &#x27;DISHWASH&#x27;, &#x27;CWASHER&#x27;, &#x27;DRYER&#x27;, &#x27;TELLWORK&#x27;, &#x27;HEATHOME&#x27;, &#x27;AIRCOND&#x27;]</pre></div></div></div><div class=\"sk-serial\"><div class=\"sk-item\"><div class=\"sk-estimator sk-toggleable\"><input class=\"sk-toggleable__control sk-hidden--visually\" id=\"sk-estimator-id-147\" type=\"checkbox\" ><label for=\"sk-estimator-id-147\" class=\"sk-toggleable__label sk-toggleable__label-arrow\">passthrough</label><div class=\"sk-toggleable__content\"><pre>passthrough</pre></div></div></div></div></div></div></div></div><div class=\"sk-item\"><div class=\"sk-estimator sk-toggleable\"><input class=\"sk-toggleable__control sk-hidden--visually\" id=\"sk-estimator-id-148\" type=\"checkbox\" ><label for=\"sk-estimator-id-148\" class=\"sk-toggleable__label sk-toggleable__label-arrow\">LinearRegression</label><div class=\"sk-toggleable__content\"><pre>LinearRegression()</pre></div></div></div></div></div></div></div>"
      ],
      "text/plain": [
       "Pipeline(steps=[('prep',\n",
       "                 ColumnTransformer(remainder='passthrough',\n",
       "                                   transformers=[('min_max', MinMaxScaler(),\n",
       "                                                  ['NUMPORTEL', 'STORIES',\n",
       "                                                   'SQFTEST', 'TOTROOMS',\n",
       "                                                   'NUMFRIG', 'MICRO',\n",
       "                                                   'TVCOLOR', 'NHSLDMEM',\n",
       "                                                   'TOTAL_BATH', 'TOTAL_COMP',\n",
       "                                                   'TOTAL_LIGHT']),\n",
       "                                                 ('ohe',\n",
       "                                                  OneHotEncoder(handle_unknown='ignore',\n",
       "                                                                sparse_output=False),\n",
       "                                                  ['REGIONC', 'state_name',\n",
       "                                                   'BA_climate', 'TYPEHUQ',\n",
       "                                                   'YEARMADERANGE', 'WINDOWS',\n",
       "                                                   'EQUIPM'])])),\n",
       "                ('model', LinearRegression())])"
      ]
     },
     "execution_count": 341,
     "metadata": {},
     "output_type": "execute_result"
    }
   ],
   "source": [
    "latest_model"
   ]
  },
  {
   "cell_type": "code",
   "execution_count": 346,
   "id": "ff94bb14-46ec-419f-8fb2-f6fbc6936bcb",
   "metadata": {},
   "outputs": [],
   "source": [
    "X , y = get_xy(df)\n",
    "X_train, X_test, y_train, y_test =  train_test_split(X,y, test_size=0.3)\n",
    "y_train_p = np.log(y_train.astype(\"float\"))\n",
    "y_test_p = np.log(y_test.astype(\"float\"))"
   ]
  },
  {
   "cell_type": "code",
   "execution_count": 347,
   "id": "2bc1c0ab-d96b-4588-8492-39ffc068502d",
   "metadata": {},
   "outputs": [
    {
     "data": {
      "text/plain": [
       "0.5491828147668718"
      ]
     },
     "execution_count": 347,
     "metadata": {},
     "output_type": "execute_result"
    }
   ],
   "source": [
    "latest_model.score(X_test, y_test_p)"
   ]
  },
  {
   "cell_type": "markdown",
   "id": "0544f90b-e5d6-4fc8-8cc7-31147c4811bb",
   "metadata": {},
   "source": [
    "#### Linear Regression"
   ]
  },
  {
   "cell_type": "code",
   "execution_count": 84,
   "id": "52fd72a0-7442-454f-a6a4-3f0940f07e11",
   "metadata": {},
   "outputs": [],
   "source": [
    "df_new = call_data_url()\n",
    "df = df_new.drop([\"WALLTYPE\", \"ROOFTYPE\", \"TELLWORK\",\"SOLAR\", \"SMARTMETER\"], axis = 1)\n",
    "df = filter_data(df)\n",
    "df = clean_data_2(df)\n",
    "\n",
    "X , y = get_xy(df)\n",
    "X_train, X_test, y_train, y_test =  train_test_split(X,y, test_size=0.3)\n",
    "y_train_p = np.log(y_train.astype(\"float\"))\n",
    "y_test_p = np.log(y_test.astype(\"float\"))"
   ]
  },
  {
   "cell_type": "code",
   "execution_count": 85,
   "id": "18102ed0-b187-470e-86a6-7932eb0b355b",
   "metadata": {},
   "outputs": [
    {
     "data": {
      "text/plain": [
       "Index(['SWIMPOOL', 'NUMPORTEL', 'REGIONC', 'state_name', 'BA_climate',\n",
       "       'TYPEHUQ', 'STORIES', 'YEARMADERANGE', 'TOTROOMS', 'WINDOWS', 'NUMFRIG',\n",
       "       'MICRO', 'DISHWASH', 'CWASHER', 'DRYER', 'TVCOLOR', 'HEATHOME',\n",
       "       'EQUIPM', 'AIRCOND', 'NHSLDMEM', 'SQFTEST', 'TOTAL_BATH', 'TOTAL_COMP',\n",
       "       'TOTAL_LIGHT'],\n",
       "      dtype='object')"
      ]
     },
     "execution_count": 85,
     "metadata": {},
     "output_type": "execute_result"
    }
   ],
   "source": [
    "X_train.columns"
   ]
  },
  {
   "cell_type": "code",
   "execution_count": 86,
   "id": "2b3d4c97-3587-4f45-bcdc-b0c1c6e07f1c",
   "metadata": {},
   "outputs": [],
   "source": [
    "import pandas as pd\n",
    "import numpy as np\n",
    "from sklearn.impute import SimpleImputer\n",
    "from sklearn.pipeline import Pipeline\n",
    "from sklearn.impute import SimpleImputer\n",
    "from sklearn.compose import ColumnTransformer\n",
    "from sklearn.preprocessing import OneHotEncoder\n",
    "\n",
    "def clean_data_2(df,min_perc=0.005, max_perc=0.995):\n",
    "    \"\"\"This set cleans the data to have it in the correct format before preprocessing\"\"\"\n",
    "\n",
    "    #Maping features\n",
    "    TYPEHUQ_map = {1: \"Mobile\", 2: \"Single_detached\",3: \"Single_attached\",\n",
    "                   4: \"Appartment_small\" ,5: \"Appartment_big\"}\n",
    "    \n",
    "    YEARMADERANGE_map = {1: \"Before_50\", 2:\"50-59\", 3:\"60-69\",\n",
    "                         4: \"70-79\", 5: \"80-89\", 6:\"90-99\", 7:\"00-09\",\n",
    "                         8:\"2010-15\", 9:\"2016-20\" }\n",
    "    EQUIPM_map = {3:\"Furnace\", 2: \"Steam\", 4: \"Central_heat\", 13: \"Ductless_heat\",\n",
    "                5: \"Electric_units\", 7: \"Room_heater\", 8 : \"Wood\",\n",
    "                10:\"Electric_heater\", 99:\"Other\", -2:\"Other\"}\n",
    "\n",
    "    dics_transform = [TYPEHUQ_map, YEARMADERANGE_map, EQUIPM_map]\n",
    "    columns_to_transform = [\"TYPEHUQ\", \"YEARMADERANGE\", \"EQUIPM\"]\n",
    "\n",
    "    for x , y in zip(dics_transform,columns_to_transform):\n",
    "        df[y] = df[y].map(x)\n",
    "\n",
    "    #Combine new features\n",
    "    df[\"TOTAL_BATH\"] = df[\"NCOMBATH\"] + df[\"NHAFBATH\"]\n",
    "    df.drop( [\"NCOMBATH\", \"NHAFBATH\"] ,axis=1, inplace = True)\n",
    "\n",
    "    df[\"TOTAL_COMP\"] = df[\"DESKTOP\"] + df[\"NUMLAPTOP\"]\n",
    "    df.drop( [\"DESKTOP\", \"NUMLAPTOP\"] ,axis=1, inplace = True)\n",
    "\n",
    "    df[\"TOTAL_LIGHT\"] = df[\"LGTIN1TO4\"] + df[\"LGTIN4TO8\"] + df[\"LGTINMORE8\"]\n",
    "    df.drop( [\"LGTIN1TO4\", \"LGTIN4TO8\", \"LGTINMORE8\"] ,axis=1, inplace = True)\n",
    "\n",
    "    df[\"STORIES\"] = df[\"STORIES\"].replace(-2,1)\n",
    "    df[\"STORIES\"] = df[\"STORIES\"].replace(5,2)\n",
    "\n",
    "    #Impute features\n",
    "    features_imputer2 = ['SWIMPOOL', 'NUMPORTEL']\n",
    "    features_imputer4 = ['SMARTMETER']\n",
    "    #to_ohe_encode = ['REGIONC', 'state_name','BA_climate','TYPEHUQ','YEARMADERANGE','WALLTYPE','ROOFTYPE','WINDOWS','EQUIPM']\n",
    "\n",
    "    imputer_2 = SimpleImputer(strategy='constant', missing_values=-2, fill_value=0)\n",
    "    imputer_4 = SimpleImputer(strategy='constant', missing_values=-4, fill_value=0)\n",
    "    #ohe = OneHotEncoder(sparse_output=False, handle_unknown='ignore')\n",
    "\n",
    "    preprocessor = ColumnTransformer(transformers=[('imputer_2',imputer_2, features_imputer2),\n",
    "                                                #('imputer_4',imputer_4, features_imputer4)],\n",
    "                                                #('ohe', ohe, to_ohe_encode)],\n",
    "                                                  ], remainder = \"passthrough\")\n",
    "\n",
    "    preprocessor.fit(df)\n",
    "\n",
    "    cols = [x.split(\"__\")[1] for x in preprocessor.get_feature_names_out()]\n",
    "\n",
    "    df_clean = pd.DataFrame(preprocessor.transform(df),\n",
    "                       columns = cols)\n",
    "\n",
    "    return df_clean\n"
   ]
  },
  {
   "cell_type": "code",
   "execution_count": 78,
   "id": "98b6302c-7664-4f14-9357-744039b76bd6",
   "metadata": {},
   "outputs": [
    {
     "data": {
      "text/plain": [
       "Index(['SWIMPOOL', 'NUMPORTEL', 'SMARTMETER', 'REGIONC', 'state_name',\n",
       "       'BA_climate', 'TYPEHUQ', 'STORIES', 'YEARMADERANGE', 'TOTROOMS',\n",
       "       'WINDOWS', 'NUMFRIG', 'MICRO', 'DISHWASH', 'CWASHER', 'DRYER',\n",
       "       'TVCOLOR', 'HEATHOME', 'EQUIPM', 'AIRCOND', 'NHSLDMEM', 'SQFTEST',\n",
       "       'KWH', 'TOTAL_BATH', 'TOTAL_COMP', 'TOTAL_LIGHT'],\n",
       "      dtype='object')"
      ]
     },
     "execution_count": 78,
     "metadata": {},
     "output_type": "execute_result"
    }
   ],
   "source": [
    "df.columns"
   ]
  },
  {
   "cell_type": "code",
   "execution_count": 87,
   "id": "e8c94e90-3e35-49d3-a530-a84f5c8f55f9",
   "metadata": {},
   "outputs": [],
   "source": [
    "from sklearn.linear_model import ElasticNet\n",
    "\n",
    "to_ohe_encode = ['REGIONC', 'state_name','BA_climate','TYPEHUQ',\n",
    "                     'YEARMADERANGE','WINDOWS','EQUIPM']\n",
    "\n",
    "to_scale = [\"NUMPORTEL\", \"STORIES\",\"SQFTEST\",\n",
    "            \"TOTROOMS\", \"NUMFRIG\", \"MICRO\", \"TVCOLOR\",\"NHSLDMEM\",\n",
    "            \"TOTAL_BATH\", \"TOTAL_COMP\", \"TOTAL_LIGHT\" ]\n",
    "\n",
    "min_max = MinMaxScaler()\n",
    "ohe = OneHotEncoder(sparse_output=False, handle_unknown='ignore')\n",
    "\n",
    "\n",
    "prep2 = ColumnTransformer(transformers=[\n",
    "                                            ('min_max', min_max, to_scale),\n",
    "                                            ('ohe', ohe, to_ohe_encode)],\n",
    "                                            remainder = \"passthrough\")\n",
    "\n",
    "pipe = Pipeline([(\"prep\", prep2 ),(\"model\", LinearRegression())])"
   ]
  },
  {
   "cell_type": "code",
   "execution_count": 80,
   "id": "e134fd65-7b41-4edd-ad2f-0129211bad7a",
   "metadata": {},
   "outputs": [
    {
     "data": {
      "text/plain": [
       "0.5401287742107884"
      ]
     },
     "execution_count": 80,
     "metadata": {},
     "output_type": "execute_result"
    }
   ],
   "source": [
    "#with Tellwork\n",
    "cross_validate(pipe, X_train, y_train_p, cv=5)[\"test_score\"].mean()"
   ]
  },
  {
   "cell_type": "code",
   "execution_count": 81,
   "id": "ae3ae660-54fb-4ede-964f-7549d0fba0dd",
   "metadata": {},
   "outputs": [
    {
     "data": {
      "text/plain": [
       "0.5401287742107884"
      ]
     },
     "execution_count": 81,
     "metadata": {},
     "output_type": "execute_result"
    }
   ],
   "source": [
    "#without Tellwork\n",
    "cross_validate(pipe, X_train, y_train_p, cv=5)[\"test_score\"].mean()"
   ]
  },
  {
   "cell_type": "code",
   "execution_count": 88,
   "id": "6d38fc40-5b88-410a-ba42-dc8d790ca206",
   "metadata": {},
   "outputs": [
    {
     "data": {
      "text/plain": [
       "0.5380990169092557"
      ]
     },
     "execution_count": 88,
     "metadata": {},
     "output_type": "execute_result"
    }
   ],
   "source": [
    "cross_validate(pipe, X_train, y_train_p, cv=5)[\"test_score\"].mean()"
   ]
  },
  {
   "cell_type": "code",
   "execution_count": null,
   "id": "e40037a4-b5fe-44fe-b37b-bbd5c50f8a1b",
   "metadata": {},
   "outputs": [],
   "source": []
  }
 ],
 "metadata": {
  "kernelspec": {
   "display_name": "Python 3 (ipykernel)",
   "language": "python",
   "name": "python3"
  },
  "language_info": {
   "codemirror_mode": {
    "name": "ipython",
    "version": 3
   },
   "file_extension": ".py",
   "mimetype": "text/x-python",
   "name": "python",
   "nbconvert_exporter": "python",
   "pygments_lexer": "ipython3",
   "version": "3.10.6"
  }
 },
 "nbformat": 4,
 "nbformat_minor": 5
}
