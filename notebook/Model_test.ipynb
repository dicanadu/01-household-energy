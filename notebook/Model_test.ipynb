{
 "cells": [
  {
   "cell_type": "code",
   "execution_count": 1,
   "id": "51666399-8599-4327-9686-5a06b4281e34",
   "metadata": {},
   "outputs": [],
   "source": [
    "%load_ext autoreload\n",
    "%autoreload 2"
   ]
  },
  {
   "cell_type": "code",
   "execution_count": 2,
   "id": "5ae5f63e-5d7b-4b77-b02b-45fe82f415fc",
   "metadata": {},
   "outputs": [],
   "source": [
    "import numpy as np\n",
    "from household_package.data import call_data_url\n",
    "from household_package.clean import clean_data\n",
    "from sklearn.pipeline import Pipeline\n",
    "from sklearn.linear_model import LinearRegression\n",
    "from sklearn.compose import ColumnTransformer\n",
    "from sklearn.preprocessing import MinMaxScaler\n",
    "from sklearn.preprocessing import OneHotEncoder\n",
    "from sklearn.model_selection import train_test_split\n",
    "from household_package.model import get_xy\n",
    "from household_package.clean import filter_data\n",
    "from household_package.registry import load_model\n",
    "import pandas as pd\n",
    "from household_package.registry import save_model\n",
    "import pickle"
   ]
  },
  {
   "cell_type": "code",
   "execution_count": 98,
   "id": "85d857f4-c409-43eb-875c-10d9f94680fd",
   "metadata": {},
   "outputs": [],
   "source": [
    "BQ_DATASET"
   ]
  },
  {
   "cell_type": "code",
   "execution_count": 99,
   "id": "998ee8cc-3244-4517-8552-07b801e7325e",
   "metadata": {},
   "outputs": [],
   "source": [
    "BUCKET_NAME=\"01_household_energy\"\n",
    "LOCAL_REGISTRY_PATH = \"../model_h5/loaded/\"\n"
   ]
  },
  {
   "cell_type": "code",
   "execution_count": 49,
   "id": "d5a8ca6d-691a-4cf0-8bfa-9e8462517592",
   "metadata": {},
   "outputs": [],
   "source": [
    "df_raw = call_data_url()"
   ]
  },
  {
   "cell_type": "code",
   "execution_count": 50,
   "id": "04f6623d-25f0-43b7-b845-491bf4373fe1",
   "metadata": {},
   "outputs": [],
   "source": [
    "user_input = user_input = {\n",
    "  \"TYPEHUQ\": 1,\n",
    "  \"NHSLDMEM\": 1,\n",
    "  \"state_name\": \"Alabama\",\n",
    "  \"REGIONC\": \"SOUTH\",\n",
    "  \"BA_climate\": \"Hot-Humid\",\n",
    "  \"SQFTEST\": 240,\n",
    "  \"STORIES\": 1,\n",
    "  \"YEARMADERANGE\": 1,\n",
    "  \"NCOMBATH\": 0,\n",
    "  \"NHAFBATH\": 0,\n",
    "  \"TOTROOMS\": 1,\n",
    "  \"WALLTYPE\": 1,\n",
    "  \"ROOFTYPE\": 1,\n",
    "  \"WINDOWS\": 1,\n",
    "  \"SWIMPOOL\": 1,\n",
    "  \"SOLAR\": 1,\n",
    "  \"SMARTMETER\": 1,\n",
    "  \"TELLWORK\": 1,\n",
    "  \"DESKTOP\": 0,\n",
    "  \"NUMLAPTOP\": 0,\n",
    "  \"TVCOLOR\": 0,\n",
    "  \"DISHWASH\": 1,\n",
    "  \"MICRO\": 0,\n",
    "  \"NUMFRIG\": 0,\n",
    "  \"CWASHER\": 1,\n",
    "  \"DRYER\": 1,\n",
    "  \"LGTIN1TO4\": 0,\n",
    "  \"LGTIN4TO8\": 0,\n",
    "  \"LGTINMORE8\": 0,\n",
    "  \"AIRCOND\": 1,\n",
    "  \"EQUIPM\": 3,\n",
    "  \"HEATHOME\": 1,\n",
    "  \"NUMPORTEL\": 0\n",
    "}"
   ]
  },
  {
   "cell_type": "code",
   "execution_count": 51,
   "id": "52935421-345e-4a5c-8cd5-c0ebcfde3676",
   "metadata": {},
   "outputs": [],
   "source": [
    "def make_X_new(user_input):\n",
    "    \"\"\"\n",
    "    This functions takes a dictionary coming from user inputs\n",
    "    and makes a one row of X for model prediciton.\n",
    "    \"\"\"\n",
    "    ## get all the passed arguments\n",
    "    #user_inputs = locals().copy()\n",
    "    X_new = pd.DataFrame({k:[v] for k,v in user_input.items()})\n",
    "    return X_new\n"
   ]
  },
  {
   "cell_type": "code",
   "execution_count": 42,
   "id": "c7bc579d-1f20-4994-8e30-c8dfdf59bf1a",
   "metadata": {},
   "outputs": [],
   "source": [
    "X_new = make_X_new(user_input)"
   ]
  },
  {
   "cell_type": "code",
   "execution_count": 28,
   "id": "648f5df2-6854-42c9-817d-1f6813816a6b",
   "metadata": {},
   "outputs": [],
   "source": [
    "#X_row_new = pd.DataFrame(pd.Series(user_input)).T"
   ]
  },
  {
   "cell_type": "code",
   "execution_count": 43,
   "id": "1e9fc75e-11d3-443f-9e89-71643ca9a8b3",
   "metadata": {},
   "outputs": [],
   "source": [
    "X_row_new = clean_data(X_new)"
   ]
  },
  {
   "cell_type": "code",
   "execution_count": 44,
   "id": "ba47c367-efc5-4012-900d-eacf57b65cd9",
   "metadata": {},
   "outputs": [
    {
     "data": {
      "text/html": [
       "<div>\n",
       "<style scoped>\n",
       "    .dataframe tbody tr th:only-of-type {\n",
       "        vertical-align: middle;\n",
       "    }\n",
       "\n",
       "    .dataframe tbody tr th {\n",
       "        vertical-align: top;\n",
       "    }\n",
       "\n",
       "    .dataframe thead th {\n",
       "        text-align: right;\n",
       "    }\n",
       "</style>\n",
       "<table border=\"1\" class=\"dataframe\">\n",
       "  <thead>\n",
       "    <tr style=\"text-align: right;\">\n",
       "      <th></th>\n",
       "      <th>SWIMPOOL</th>\n",
       "      <th>NUMPORTEL</th>\n",
       "      <th>SOLAR</th>\n",
       "      <th>SMARTMETER</th>\n",
       "      <th>TYPEHUQ</th>\n",
       "      <th>NHSLDMEM</th>\n",
       "      <th>state_name</th>\n",
       "      <th>REGIONC</th>\n",
       "      <th>BA_climate</th>\n",
       "      <th>SQFTEST</th>\n",
       "      <th>...</th>\n",
       "      <th>MICRO</th>\n",
       "      <th>NUMFRIG</th>\n",
       "      <th>CWASHER</th>\n",
       "      <th>DRYER</th>\n",
       "      <th>AIRCOND</th>\n",
       "      <th>EQUIPM</th>\n",
       "      <th>HEATHOME</th>\n",
       "      <th>TOTAL_BATH</th>\n",
       "      <th>TOTAL_COMP</th>\n",
       "      <th>TOTAL_LIGHT</th>\n",
       "    </tr>\n",
       "  </thead>\n",
       "  <tbody>\n",
       "    <tr>\n",
       "      <th>0</th>\n",
       "      <td>1</td>\n",
       "      <td>0</td>\n",
       "      <td>1</td>\n",
       "      <td>1</td>\n",
       "      <td>Mobile</td>\n",
       "      <td>1</td>\n",
       "      <td>Alabama</td>\n",
       "      <td>SOUTH</td>\n",
       "      <td>Hot-Humid</td>\n",
       "      <td>240</td>\n",
       "      <td>...</td>\n",
       "      <td>0</td>\n",
       "      <td>0</td>\n",
       "      <td>1</td>\n",
       "      <td>1</td>\n",
       "      <td>1</td>\n",
       "      <td>Furnace</td>\n",
       "      <td>1</td>\n",
       "      <td>0</td>\n",
       "      <td>0</td>\n",
       "      <td>0</td>\n",
       "    </tr>\n",
       "  </tbody>\n",
       "</table>\n",
       "<p>1 rows × 29 columns</p>\n",
       "</div>"
      ],
      "text/plain": [
       "  SWIMPOOL NUMPORTEL SOLAR SMARTMETER TYPEHUQ NHSLDMEM state_name REGIONC  \\\n",
       "0        1         0     1          1  Mobile        1    Alabama   SOUTH   \n",
       "\n",
       "  BA_climate SQFTEST  ... MICRO NUMFRIG CWASHER DRYER AIRCOND   EQUIPM  \\\n",
       "0  Hot-Humid     240  ...     0       0       1     1       1  Furnace   \n",
       "\n",
       "  HEATHOME TOTAL_BATH TOTAL_COMP TOTAL_LIGHT  \n",
       "0        1          0          0           0  \n",
       "\n",
       "[1 rows x 29 columns]"
      ]
     },
     "execution_count": 44,
     "metadata": {},
     "output_type": "execute_result"
    }
   ],
   "source": [
    "X_row_new"
   ]
  },
  {
   "cell_type": "code",
   "execution_count": 59,
   "id": "47f9931c-2f3e-4a59-82af-eb4dd68edd35",
   "metadata": {},
   "outputs": [],
   "source": [
    "from google.cloud import storage\n",
    "client = storage.Client()\n",
    "blobs = list(client.get_bucket(BUCKET_NAME).list_blobs(prefix=\"model\"))"
   ]
  },
  {
   "cell_type": "code",
   "execution_count": 60,
   "id": "f69592eb-56b0-440b-a437-3db8737058da",
   "metadata": {},
   "outputs": [
    {
     "data": {
      "text/plain": [
       "[<Blob: 01_household_energy, models/baseline_20231129-122043.pkl, 1701256844126884>,\n",
       " <Blob: 01_household_energy, models/baseline_20231129-131320.pkl, 1701260000941981>,\n",
       " <Blob: 01_household_energy, models/baseline_20231130-102940.pkl, 1701337090569311>]"
      ]
     },
     "execution_count": 60,
     "metadata": {},
     "output_type": "execute_result"
    }
   ],
   "source": [
    "blobs"
   ]
  },
  {
   "cell_type": "code",
   "execution_count": 101,
   "id": "3f2a5e9c-e2e9-4d97-9bd5-c1857f67a3bf",
   "metadata": {},
   "outputs": [
    {
     "name": "stdout",
     "output_type": "stream",
     "text": [
      "../model_h5/loaded/models/baseline_20231130-102940.pkl\n"
     ]
    }
   ],
   "source": [
    "latest_blob = max(blobs, key=lambda x: x.updated)\n",
    "#print(latest_blob.name)\n",
    "latest_model_path_to_save = os.path.join(LOCAL_REGISTRY_PATH, latest_blob.name)\n",
    "print(latest_model_path_to_save)\n",
    "latest_blob.download_to_filename(latest_model_path_to_save)\n",
    "# for sklearn (baseline)\n",
    "with open(latest_model_path_to_save , 'rb') as f:\n",
    "    latest_model = pickle.load(f)"
   ]
  },
  {
   "cell_type": "code",
   "execution_count": 70,
   "id": "223822c2-b3d7-4134-b253-838d9797d6ab",
   "metadata": {},
   "outputs": [
    {
     "data": {
      "text/plain": [
       "array([11040.])"
      ]
     },
     "execution_count": 70,
     "metadata": {},
     "output_type": "execute_result"
    }
   ],
   "source": [
    "latest_model.predict(X_row_new)"
   ]
  },
  {
   "cell_type": "code",
   "execution_count": 3,
   "id": "10d3f3f6-33b0-45ca-951b-688c6cb372bb",
   "metadata": {},
   "outputs": [
    {
     "ename": "ValueError",
     "evalue": "Cannot determine path without bucket name.",
     "output_type": "error",
     "traceback": [
      "\u001b[0;31m---------------------------------------------------------------------------\u001b[0m",
      "\u001b[0;31mValueError\u001b[0m                                Traceback (most recent call last)",
      "Cell \u001b[0;32mIn[3], line 1\u001b[0m\n\u001b[0;32m----> 1\u001b[0m model \u001b[38;5;241m=\u001b[39m \u001b[43mload_model\u001b[49m\u001b[43m(\u001b[49m\u001b[43m)\u001b[49m\n",
      "File \u001b[0;32m~/.pyenv/versions/3.10.6/envs/01-household-energy/lib/python3.10/site-packages/household_package/registry.py:49\u001b[0m, in \u001b[0;36mload_model\u001b[0;34m(model_type)\u001b[0m\n\u001b[1;32m     42\u001b[0m \u001b[38;5;250m\u001b[39m\u001b[38;5;124;03m\"\"\"\u001b[39;00m\n\u001b[1;32m     43\u001b[0m \u001b[38;5;124;03mReturn a saved model:\u001b[39;00m\n\u001b[1;32m     44\u001b[0m \u001b[38;5;124;03m- locally (latest one in alphabetical order)\u001b[39;00m\n\u001b[1;32m     45\u001b[0m \u001b[38;5;124;03m- or from GCS (most recent one) if MODEL_TARGET=='gcs'  --> for unit 02 only\u001b[39;00m\n\u001b[1;32m     46\u001b[0m \u001b[38;5;124;03mReturn None (but do not Raise) if no model is found\u001b[39;00m\n\u001b[1;32m     47\u001b[0m \u001b[38;5;124;03m\"\"\"\u001b[39;00m\n\u001b[1;32m     48\u001b[0m client \u001b[38;5;241m=\u001b[39m storage\u001b[38;5;241m.\u001b[39mClient()\n\u001b[0;32m---> 49\u001b[0m blobs \u001b[38;5;241m=\u001b[39m \u001b[38;5;28mlist\u001b[39m(\u001b[43mclient\u001b[49m\u001b[38;5;241;43m.\u001b[39;49m\u001b[43mget_bucket\u001b[49m\u001b[43m(\u001b[49m\u001b[43mBUCKET_NAME\u001b[49m\u001b[43m)\u001b[49m\u001b[38;5;241m.\u001b[39mlist_blobs(prefix\u001b[38;5;241m=\u001b[39m\u001b[38;5;124m\"\u001b[39m\u001b[38;5;124mmodel\u001b[39m\u001b[38;5;124m\"\u001b[39m))\n\u001b[1;32m     50\u001b[0m \u001b[38;5;66;03m#print(blobs)\u001b[39;00m\n\u001b[1;32m     51\u001b[0m \u001b[38;5;28;01mtry\u001b[39;00m:\n\u001b[1;32m     52\u001b[0m     \u001b[38;5;66;03m# latest_blob = max(blobs, key=lambda x: x.updated)\u001b[39;00m\n\u001b[1;32m     53\u001b[0m     \u001b[38;5;66;03m#print(latest_blob.name)\u001b[39;00m\n\u001b[1;32m     54\u001b[0m     \u001b[38;5;66;03m# latest_model_path_to_save = os.path.join(LOCAL_REGISTRY_PATH, latest_blob.name)\u001b[39;00m\n",
      "File \u001b[0;32m~/.pyenv/versions/3.10.6/envs/01-household-energy/lib/python3.10/site-packages/google/cloud/storage/client.py:782\u001b[0m, in \u001b[0;36mClient.get_bucket\u001b[0;34m(self, bucket_or_name, timeout, if_metageneration_match, if_metageneration_not_match, retry)\u001b[0m\n\u001b[1;32m    734\u001b[0m \u001b[38;5;250m\u001b[39m\u001b[38;5;124;03m\"\"\"Retrieve a bucket via a GET request.\u001b[39;00m\n\u001b[1;32m    735\u001b[0m \n\u001b[1;32m    736\u001b[0m \u001b[38;5;124;03mSee [API reference docs](https://cloud.google.com/storage/docs/json_api/v1/buckets/get) and a [code sample](https://cloud.google.com/storage/docs/samples/storage-get-bucket-metadata#storage_get_bucket_metadata-python).\u001b[39;00m\n\u001b[0;32m   (...)\u001b[0m\n\u001b[1;32m    779\u001b[0m \u001b[38;5;124;03m        If the bucket is not found.\u001b[39;00m\n\u001b[1;32m    780\u001b[0m \u001b[38;5;124;03m\"\"\"\u001b[39;00m\n\u001b[1;32m    781\u001b[0m bucket \u001b[38;5;241m=\u001b[39m \u001b[38;5;28mself\u001b[39m\u001b[38;5;241m.\u001b[39m_bucket_arg_to_bucket(bucket_or_name)\n\u001b[0;32m--> 782\u001b[0m \u001b[43mbucket\u001b[49m\u001b[38;5;241;43m.\u001b[39;49m\u001b[43mreload\u001b[49m\u001b[43m(\u001b[49m\n\u001b[1;32m    783\u001b[0m \u001b[43m    \u001b[49m\u001b[43mclient\u001b[49m\u001b[38;5;241;43m=\u001b[39;49m\u001b[38;5;28;43mself\u001b[39;49m\u001b[43m,\u001b[49m\n\u001b[1;32m    784\u001b[0m \u001b[43m    \u001b[49m\u001b[43mtimeout\u001b[49m\u001b[38;5;241;43m=\u001b[39;49m\u001b[43mtimeout\u001b[49m\u001b[43m,\u001b[49m\n\u001b[1;32m    785\u001b[0m \u001b[43m    \u001b[49m\u001b[43mif_metageneration_match\u001b[49m\u001b[38;5;241;43m=\u001b[39;49m\u001b[43mif_metageneration_match\u001b[49m\u001b[43m,\u001b[49m\n\u001b[1;32m    786\u001b[0m \u001b[43m    \u001b[49m\u001b[43mif_metageneration_not_match\u001b[49m\u001b[38;5;241;43m=\u001b[39;49m\u001b[43mif_metageneration_not_match\u001b[49m\u001b[43m,\u001b[49m\n\u001b[1;32m    787\u001b[0m \u001b[43m    \u001b[49m\u001b[43mretry\u001b[49m\u001b[38;5;241;43m=\u001b[39;49m\u001b[43mretry\u001b[49m\u001b[43m,\u001b[49m\n\u001b[1;32m    788\u001b[0m \u001b[43m\u001b[49m\u001b[43m)\u001b[49m\n\u001b[1;32m    789\u001b[0m \u001b[38;5;28;01mreturn\u001b[39;00m bucket\n",
      "File \u001b[0;32m~/.pyenv/versions/3.10.6/envs/01-household-energy/lib/python3.10/site-packages/google/cloud/storage/bucket.py:1075\u001b[0m, in \u001b[0;36mBucket.reload\u001b[0;34m(self, client, projection, timeout, if_etag_match, if_etag_not_match, if_metageneration_match, if_metageneration_not_match, retry)\u001b[0m\n\u001b[1;32m   1025\u001b[0m \u001b[38;5;28;01mdef\u001b[39;00m \u001b[38;5;21mreload\u001b[39m(\n\u001b[1;32m   1026\u001b[0m     \u001b[38;5;28mself\u001b[39m,\n\u001b[1;32m   1027\u001b[0m     client\u001b[38;5;241m=\u001b[39m\u001b[38;5;28;01mNone\u001b[39;00m,\n\u001b[0;32m   (...)\u001b[0m\n\u001b[1;32m   1034\u001b[0m     retry\u001b[38;5;241m=\u001b[39mDEFAULT_RETRY,\n\u001b[1;32m   1035\u001b[0m ):\n\u001b[1;32m   1036\u001b[0m \u001b[38;5;250m    \u001b[39m\u001b[38;5;124;03m\"\"\"Reload properties from Cloud Storage.\u001b[39;00m\n\u001b[1;32m   1037\u001b[0m \n\u001b[1;32m   1038\u001b[0m \u001b[38;5;124;03m    If :attr:`user_project` is set, bills the API request to that project.\u001b[39;00m\n\u001b[0;32m   (...)\u001b[0m\n\u001b[1;32m   1073\u001b[0m \u001b[38;5;124;03m        (Optional) How to retry the RPC. See: :ref:`configuring_retries`\u001b[39;00m\n\u001b[1;32m   1074\u001b[0m \u001b[38;5;124;03m    \"\"\"\u001b[39;00m\n\u001b[0;32m-> 1075\u001b[0m     \u001b[38;5;28;43msuper\u001b[39;49m\u001b[43m(\u001b[49m\u001b[43mBucket\u001b[49m\u001b[43m,\u001b[49m\u001b[43m \u001b[49m\u001b[38;5;28;43mself\u001b[39;49m\u001b[43m)\u001b[49m\u001b[38;5;241;43m.\u001b[39;49m\u001b[43mreload\u001b[49m\u001b[43m(\u001b[49m\n\u001b[1;32m   1076\u001b[0m \u001b[43m        \u001b[49m\u001b[43mclient\u001b[49m\u001b[38;5;241;43m=\u001b[39;49m\u001b[43mclient\u001b[49m\u001b[43m,\u001b[49m\n\u001b[1;32m   1077\u001b[0m \u001b[43m        \u001b[49m\u001b[43mprojection\u001b[49m\u001b[38;5;241;43m=\u001b[39;49m\u001b[43mprojection\u001b[49m\u001b[43m,\u001b[49m\n\u001b[1;32m   1078\u001b[0m \u001b[43m        \u001b[49m\u001b[43mtimeout\u001b[49m\u001b[38;5;241;43m=\u001b[39;49m\u001b[43mtimeout\u001b[49m\u001b[43m,\u001b[49m\n\u001b[1;32m   1079\u001b[0m \u001b[43m        \u001b[49m\u001b[43mif_etag_match\u001b[49m\u001b[38;5;241;43m=\u001b[39;49m\u001b[43mif_etag_match\u001b[49m\u001b[43m,\u001b[49m\n\u001b[1;32m   1080\u001b[0m \u001b[43m        \u001b[49m\u001b[43mif_etag_not_match\u001b[49m\u001b[38;5;241;43m=\u001b[39;49m\u001b[43mif_etag_not_match\u001b[49m\u001b[43m,\u001b[49m\n\u001b[1;32m   1081\u001b[0m \u001b[43m        \u001b[49m\u001b[43mif_metageneration_match\u001b[49m\u001b[38;5;241;43m=\u001b[39;49m\u001b[43mif_metageneration_match\u001b[49m\u001b[43m,\u001b[49m\n\u001b[1;32m   1082\u001b[0m \u001b[43m        \u001b[49m\u001b[43mif_metageneration_not_match\u001b[49m\u001b[38;5;241;43m=\u001b[39;49m\u001b[43mif_metageneration_not_match\u001b[49m\u001b[43m,\u001b[49m\n\u001b[1;32m   1083\u001b[0m \u001b[43m        \u001b[49m\u001b[43mretry\u001b[49m\u001b[38;5;241;43m=\u001b[39;49m\u001b[43mretry\u001b[49m\u001b[43m,\u001b[49m\n\u001b[1;32m   1084\u001b[0m \u001b[43m    \u001b[49m\u001b[43m)\u001b[49m\n",
      "File \u001b[0;32m~/.pyenv/versions/3.10.6/envs/01-household-energy/lib/python3.10/site-packages/google/cloud/storage/_helpers.py:247\u001b[0m, in \u001b[0;36m_PropertyMixin.reload\u001b[0;34m(self, client, projection, if_etag_match, if_etag_not_match, if_generation_match, if_generation_not_match, if_metageneration_match, if_metageneration_not_match, timeout, retry)\u001b[0m\n\u001b[1;32m    242\u001b[0m headers \u001b[38;5;241m=\u001b[39m \u001b[38;5;28mself\u001b[39m\u001b[38;5;241m.\u001b[39m_encryption_headers()\n\u001b[1;32m    243\u001b[0m _add_etag_match_headers(\n\u001b[1;32m    244\u001b[0m     headers, if_etag_match\u001b[38;5;241m=\u001b[39mif_etag_match, if_etag_not_match\u001b[38;5;241m=\u001b[39mif_etag_not_match\n\u001b[1;32m    245\u001b[0m )\n\u001b[1;32m    246\u001b[0m api_response \u001b[38;5;241m=\u001b[39m client\u001b[38;5;241m.\u001b[39m_get_resource(\n\u001b[0;32m--> 247\u001b[0m     \u001b[38;5;28;43mself\u001b[39;49m\u001b[38;5;241;43m.\u001b[39;49m\u001b[43mpath\u001b[49m,\n\u001b[1;32m    248\u001b[0m     query_params\u001b[38;5;241m=\u001b[39mquery_params,\n\u001b[1;32m    249\u001b[0m     headers\u001b[38;5;241m=\u001b[39mheaders,\n\u001b[1;32m    250\u001b[0m     timeout\u001b[38;5;241m=\u001b[39mtimeout,\n\u001b[1;32m    251\u001b[0m     retry\u001b[38;5;241m=\u001b[39mretry,\n\u001b[1;32m    252\u001b[0m     _target_object\u001b[38;5;241m=\u001b[39m\u001b[38;5;28mself\u001b[39m,\n\u001b[1;32m    253\u001b[0m )\n\u001b[1;32m    254\u001b[0m \u001b[38;5;28mself\u001b[39m\u001b[38;5;241m.\u001b[39m_set_properties(api_response)\n",
      "File \u001b[0;32m~/.pyenv/versions/3.10.6/envs/01-household-energy/lib/python3.10/site-packages/google/cloud/storage/bucket.py:1165\u001b[0m, in \u001b[0;36mBucket.path\u001b[0;34m(self)\u001b[0m\n\u001b[1;32m   1163\u001b[0m \u001b[38;5;250m\u001b[39m\u001b[38;5;124;03m\"\"\"The URL path to this bucket.\"\"\"\u001b[39;00m\n\u001b[1;32m   1164\u001b[0m \u001b[38;5;28;01mif\u001b[39;00m \u001b[38;5;129;01mnot\u001b[39;00m \u001b[38;5;28mself\u001b[39m\u001b[38;5;241m.\u001b[39mname:\n\u001b[0;32m-> 1165\u001b[0m     \u001b[38;5;28;01mraise\u001b[39;00m \u001b[38;5;167;01mValueError\u001b[39;00m(\u001b[38;5;124m\"\u001b[39m\u001b[38;5;124mCannot determine path without bucket name.\u001b[39m\u001b[38;5;124m\"\u001b[39m)\n\u001b[1;32m   1167\u001b[0m \u001b[38;5;28;01mreturn\u001b[39;00m \u001b[38;5;28mself\u001b[39m\u001b[38;5;241m.\u001b[39mpath_helper(\u001b[38;5;28mself\u001b[39m\u001b[38;5;241m.\u001b[39mname)\n",
      "\u001b[0;31mValueError\u001b[0m: Cannot determine path without bucket name."
     ]
    }
   ],
   "source": [
    "model = load_model()"
   ]
  },
  {
   "cell_type": "code",
   "execution_count": 31,
   "id": "3683324e-1369-4495-a452-15ec35c5a443",
   "metadata": {},
   "outputs": [],
   "source": [
    "\n",
    "#percentile_min = df_raw['KWH'].quantile(0.005)\n",
    "#percentile_max = df_raw['KWH'].quantile(0.995)\n",
    "\n",
    "# Filter the DataFrame based on the specified percentiles\n",
    "#filtered_df = df_raw[(df_raw['KWH'] >= percentile_min) & (df_raw['KWH'] <= percentile_max)]\n",
    "#filtered_df"
   ]
  },
  {
   "cell_type": "code",
   "execution_count": 18,
   "id": "69b139c3-33cf-4835-b06b-5324e31b5481",
   "metadata": {},
   "outputs": [],
   "source": [
    "df = clean_data(df_raw)"
   ]
  },
  {
   "cell_type": "code",
   "execution_count": 21,
   "id": "bd4d95a1-26f2-4373-92f6-c1487fad1a72",
   "metadata": {},
   "outputs": [],
   "source": [
    "X , y = get_xy(df)\n",
    "\n",
    "X_train, X_test, y_train, y_test =  train_test_split(X,y, test_size=0.3)"
   ]
  },
  {
   "cell_type": "code",
   "execution_count": 22,
   "id": "0c1018c8-74a6-4312-9a57-c4b807cd7f9a",
   "metadata": {},
   "outputs": [],
   "source": [
    "to_ohe_encode = ['REGIONC', 'state_name','BA_climate','TYPEHUQ',\n",
    "                     'YEARMADERANGE','WALLTYPE','ROOFTYPE','WINDOWS','EQUIPM']\n",
    "to_scale = [\"NUMPORTEL\", \"STORIES\",\"SQFTEST\",\n",
    "            \"TOTROOMS\", \"NUMFRIG\", \"MICRO\", \"TVCOLOR\",\"NHSLDMEM\",\n",
    "            \"TOTAL_BATH\", \"TOTAL_COMP\", \"TOTAL_LIGHT\" ]\n",
    "\n",
    "min_max = MinMaxScaler()\n",
    "ohe = OneHotEncoder(sparse_output=False, handle_unknown='ignore')\n",
    "\n",
    "\n",
    "preprocessor = ColumnTransformer(transformers=[\n",
    "                                            ('min_max', min_max, to_scale),\n",
    "                                            ('ohe', ohe, to_ohe_encode)],\n",
    "                                            remainder = \"passthrough\")\n",
    "\n",
    "model = LinearRegression()\n",
    "\n",
    "pipe = Pipeline([('prep', preprocessor), ('model', model)])"
   ]
  },
  {
   "cell_type": "code",
   "execution_count": 23,
   "id": "ef1941e2-afac-414f-853a-c5e512fae38c",
   "metadata": {},
   "outputs": [],
   "source": [
    "model = pipe.fit(X_train, y_train)"
   ]
  },
  {
   "cell_type": "code",
   "execution_count": 46,
   "id": "a96342ad-b9a3-4ebb-a72a-ae457b6e9e43",
   "metadata": {},
   "outputs": [
    {
     "data": {
      "text/plain": [
       "0.5055383972861784"
      ]
     },
     "execution_count": 46,
     "metadata": {},
     "output_type": "execute_result"
    }
   ],
   "source": [
    "model.score(X_test,y_test)"
   ]
  },
  {
   "cell_type": "code",
   "execution_count": 45,
   "id": "25dcda4b-d894-4e81-8c0e-2b5d1294dff9",
   "metadata": {},
   "outputs": [
    {
     "data": {
      "text/plain": [
       "array([11760.])"
      ]
     },
     "execution_count": 45,
     "metadata": {},
     "output_type": "execute_result"
    }
   ],
   "source": [
    "model.predict(X_row_new)"
   ]
  },
  {
   "cell_type": "code",
   "execution_count": 34,
   "id": "644fc6b7-693d-4afe-9e31-11f89a0158ae",
   "metadata": {},
   "outputs": [],
   "source": [
    "X = df.drop('KWH',axis=1)"
   ]
  },
  {
   "cell_type": "code",
   "execution_count": 43,
   "id": "286512f5-ad3e-44c0-9e71-dfe45ba9ec9a",
   "metadata": {},
   "outputs": [
    {
     "data": {
      "text/html": [
       "<div>\n",
       "<style scoped>\n",
       "    .dataframe tbody tr th:only-of-type {\n",
       "        vertical-align: middle;\n",
       "    }\n",
       "\n",
       "    .dataframe tbody tr th {\n",
       "        vertical-align: top;\n",
       "    }\n",
       "\n",
       "    .dataframe thead th {\n",
       "        text-align: right;\n",
       "    }\n",
       "</style>\n",
       "<table border=\"1\" class=\"dataframe\">\n",
       "  <thead>\n",
       "    <tr style=\"text-align: right;\">\n",
       "      <th></th>\n",
       "      <th>SWIMPOOL</th>\n",
       "      <th>NUMPORTEL</th>\n",
       "      <th>SOLAR</th>\n",
       "      <th>SMARTMETER</th>\n",
       "      <th>REGIONC</th>\n",
       "      <th>state_name</th>\n",
       "      <th>BA_climate</th>\n",
       "      <th>TYPEHUQ</th>\n",
       "      <th>STORIES</th>\n",
       "      <th>YEARMADERANGE</th>\n",
       "      <th>...</th>\n",
       "      <th>TVCOLOR</th>\n",
       "      <th>TELLWORK</th>\n",
       "      <th>HEATHOME</th>\n",
       "      <th>EQUIPM</th>\n",
       "      <th>AIRCOND</th>\n",
       "      <th>NHSLDMEM</th>\n",
       "      <th>SQFTEST</th>\n",
       "      <th>TOTAL_BATH</th>\n",
       "      <th>TOTAL_COMP</th>\n",
       "      <th>TOTAL_LIGHT</th>\n",
       "    </tr>\n",
       "  </thead>\n",
       "  <tbody>\n",
       "    <tr>\n",
       "      <th>0</th>\n",
       "      <td>0</td>\n",
       "      <td>0</td>\n",
       "      <td>0</td>\n",
       "      <td>0</td>\n",
       "      <td>WEST</td>\n",
       "      <td>New Mexico</td>\n",
       "      <td>Mixed-Dry</td>\n",
       "      <td>Single_detached</td>\n",
       "      <td>1</td>\n",
       "      <td>70-79</td>\n",
       "      <td>...</td>\n",
       "      <td>3</td>\n",
       "      <td>0</td>\n",
       "      <td>1</td>\n",
       "      <td>Furnace</td>\n",
       "      <td>1</td>\n",
       "      <td>2</td>\n",
       "      <td>2100</td>\n",
       "      <td>3</td>\n",
       "      <td>1</td>\n",
       "      <td>17</td>\n",
       "    </tr>\n",
       "  </tbody>\n",
       "</table>\n",
       "<p>1 rows × 29 columns</p>\n",
       "</div>"
      ],
      "text/plain": [
       "  SWIMPOOL NUMPORTEL SOLAR SMARTMETER REGIONC  state_name BA_climate  \\\n",
       "0        0         0     0          0    WEST  New Mexico  Mixed-Dry   \n",
       "\n",
       "           TYPEHUQ STORIES YEARMADERANGE  ... TVCOLOR TELLWORK HEATHOME  \\\n",
       "0  Single_detached       1         70-79  ...       3        0        1   \n",
       "\n",
       "    EQUIPM AIRCOND NHSLDMEM SQFTEST TOTAL_BATH TOTAL_COMP TOTAL_LIGHT  \n",
       "0  Furnace       1        2    2100          3          1          17  \n",
       "\n",
       "[1 rows x 29 columns]"
      ]
     },
     "execution_count": 43,
     "metadata": {},
     "output_type": "execute_result"
    }
   ],
   "source": [
    "pd.DataFrame(X.iloc[0,:]).T"
   ]
  },
  {
   "cell_type": "code",
   "execution_count": 44,
   "id": "fa29245a-dbf0-4d18-ae8d-b3d6d2695411",
   "metadata": {},
   "outputs": [
    {
     "data": {
      "text/plain": [
       "array([10640.])"
      ]
     },
     "execution_count": 44,
     "metadata": {},
     "output_type": "execute_result"
    }
   ],
   "source": [
    "pipe.predict(pd.DataFrame(X.iloc[0,:]).T)"
   ]
  },
  {
   "cell_type": "code",
   "execution_count": 23,
   "id": "c3598cd5-ed76-4a32-a611-bbaa9c5992b3",
   "metadata": {},
   "outputs": [
    {
     "ename": "ValueError",
     "evalue": "X does not contain any features, but ColumnTransformer is expecting 29 features",
     "output_type": "error",
     "traceback": [
      "\u001b[0;31m---------------------------------------------------------------------------\u001b[0m",
      "\u001b[0;31mTypeError\u001b[0m                                 Traceback (most recent call last)",
      "File \u001b[0;32m~/.pyenv/versions/3.10.6/envs/01-household-energy/lib/python3.10/site-packages/sklearn/base.py:392\u001b[0m, in \u001b[0;36mBaseEstimator._check_n_features\u001b[0;34m(self, X, reset)\u001b[0m\n\u001b[1;32m    391\u001b[0m \u001b[38;5;28;01mtry\u001b[39;00m:\n\u001b[0;32m--> 392\u001b[0m     n_features \u001b[38;5;241m=\u001b[39m \u001b[43m_num_features\u001b[49m\u001b[43m(\u001b[49m\u001b[43mX\u001b[49m\u001b[43m)\u001b[49m\n\u001b[1;32m    393\u001b[0m \u001b[38;5;28;01mexcept\u001b[39;00m \u001b[38;5;167;01mTypeError\u001b[39;00m \u001b[38;5;28;01mas\u001b[39;00m e:\n",
      "File \u001b[0;32m~/.pyenv/versions/3.10.6/envs/01-household-energy/lib/python3.10/site-packages/sklearn/utils/validation.py:311\u001b[0m, in \u001b[0;36m_num_features\u001b[0;34m(X)\u001b[0m\n\u001b[1;32m    310\u001b[0m     message \u001b[38;5;241m+\u001b[39m\u001b[38;5;241m=\u001b[39m \u001b[38;5;124mf\u001b[39m\u001b[38;5;124m\"\u001b[39m\u001b[38;5;124m with shape \u001b[39m\u001b[38;5;132;01m{\u001b[39;00mX\u001b[38;5;241m.\u001b[39mshape\u001b[38;5;132;01m}\u001b[39;00m\u001b[38;5;124m\"\u001b[39m\n\u001b[0;32m--> 311\u001b[0m     \u001b[38;5;28;01mraise\u001b[39;00m \u001b[38;5;167;01mTypeError\u001b[39;00m(message)\n\u001b[1;32m    312\u001b[0m \u001b[38;5;28;01mreturn\u001b[39;00m X\u001b[38;5;241m.\u001b[39mshape[\u001b[38;5;241m1\u001b[39m]\n",
      "\u001b[0;31mTypeError\u001b[0m: Unable to find the number of features from X of type pandas.core.series.Series with shape (30,)",
      "\nThe above exception was the direct cause of the following exception:\n",
      "\u001b[0;31mValueError\u001b[0m                                Traceback (most recent call last)",
      "Cell \u001b[0;32mIn[23], line 1\u001b[0m\n\u001b[0;32m----> 1\u001b[0m \u001b[43mpipe\u001b[49m\u001b[38;5;241;43m.\u001b[39;49m\u001b[43mpredict\u001b[49m\u001b[43m(\u001b[49m\u001b[43mdf\u001b[49m\u001b[38;5;241;43m.\u001b[39;49m\u001b[43miloc\u001b[49m\u001b[43m[\u001b[49m\u001b[38;5;241;43m0\u001b[39;49m\u001b[43m,\u001b[49m\u001b[43m:\u001b[49m\u001b[43m]\u001b[49m\u001b[43m)\u001b[49m\n",
      "File \u001b[0;32m~/.pyenv/versions/3.10.6/envs/01-household-energy/lib/python3.10/site-packages/sklearn/pipeline.py:514\u001b[0m, in \u001b[0;36mPipeline.predict\u001b[0;34m(self, X, **predict_params)\u001b[0m\n\u001b[1;32m    512\u001b[0m Xt \u001b[38;5;241m=\u001b[39m X\n\u001b[1;32m    513\u001b[0m \u001b[38;5;28;01mfor\u001b[39;00m _, name, transform \u001b[38;5;129;01min\u001b[39;00m \u001b[38;5;28mself\u001b[39m\u001b[38;5;241m.\u001b[39m_iter(with_final\u001b[38;5;241m=\u001b[39m\u001b[38;5;28;01mFalse\u001b[39;00m):\n\u001b[0;32m--> 514\u001b[0m     Xt \u001b[38;5;241m=\u001b[39m \u001b[43mtransform\u001b[49m\u001b[38;5;241;43m.\u001b[39;49m\u001b[43mtransform\u001b[49m\u001b[43m(\u001b[49m\u001b[43mXt\u001b[49m\u001b[43m)\u001b[49m\n\u001b[1;32m    515\u001b[0m \u001b[38;5;28;01mreturn\u001b[39;00m \u001b[38;5;28mself\u001b[39m\u001b[38;5;241m.\u001b[39msteps[\u001b[38;5;241m-\u001b[39m\u001b[38;5;241m1\u001b[39m][\u001b[38;5;241m1\u001b[39m]\u001b[38;5;241m.\u001b[39mpredict(Xt, \u001b[38;5;241m*\u001b[39m\u001b[38;5;241m*\u001b[39mpredict_params)\n",
      "File \u001b[0;32m~/.pyenv/versions/3.10.6/envs/01-household-energy/lib/python3.10/site-packages/sklearn/utils/_set_output.py:157\u001b[0m, in \u001b[0;36m_wrap_method_output.<locals>.wrapped\u001b[0;34m(self, X, *args, **kwargs)\u001b[0m\n\u001b[1;32m    155\u001b[0m \u001b[38;5;129m@wraps\u001b[39m(f)\n\u001b[1;32m    156\u001b[0m \u001b[38;5;28;01mdef\u001b[39;00m \u001b[38;5;21mwrapped\u001b[39m(\u001b[38;5;28mself\u001b[39m, X, \u001b[38;5;241m*\u001b[39margs, \u001b[38;5;241m*\u001b[39m\u001b[38;5;241m*\u001b[39mkwargs):\n\u001b[0;32m--> 157\u001b[0m     data_to_wrap \u001b[38;5;241m=\u001b[39m \u001b[43mf\u001b[49m\u001b[43m(\u001b[49m\u001b[38;5;28;43mself\u001b[39;49m\u001b[43m,\u001b[49m\u001b[43m \u001b[49m\u001b[43mX\u001b[49m\u001b[43m,\u001b[49m\u001b[43m \u001b[49m\u001b[38;5;241;43m*\u001b[39;49m\u001b[43margs\u001b[49m\u001b[43m,\u001b[49m\u001b[43m \u001b[49m\u001b[38;5;241;43m*\u001b[39;49m\u001b[38;5;241;43m*\u001b[39;49m\u001b[43mkwargs\u001b[49m\u001b[43m)\u001b[49m\n\u001b[1;32m    158\u001b[0m     \u001b[38;5;28;01mif\u001b[39;00m \u001b[38;5;28misinstance\u001b[39m(data_to_wrap, \u001b[38;5;28mtuple\u001b[39m):\n\u001b[1;32m    159\u001b[0m         \u001b[38;5;66;03m# only wrap the first output for cross decomposition\u001b[39;00m\n\u001b[1;32m    160\u001b[0m         return_tuple \u001b[38;5;241m=\u001b[39m (\n\u001b[1;32m    161\u001b[0m             _wrap_data_with_container(method, data_to_wrap[\u001b[38;5;241m0\u001b[39m], X, \u001b[38;5;28mself\u001b[39m),\n\u001b[1;32m    162\u001b[0m             \u001b[38;5;241m*\u001b[39mdata_to_wrap[\u001b[38;5;241m1\u001b[39m:],\n\u001b[1;32m    163\u001b[0m         )\n",
      "File \u001b[0;32m~/.pyenv/versions/3.10.6/envs/01-household-energy/lib/python3.10/site-packages/sklearn/compose/_column_transformer.py:825\u001b[0m, in \u001b[0;36mColumnTransformer.transform\u001b[0;34m(self, X)\u001b[0m\n\u001b[1;32m    821\u001b[0m         \u001b[38;5;28;01mraise\u001b[39;00m \u001b[38;5;167;01mValueError\u001b[39;00m(\u001b[38;5;124mf\u001b[39m\u001b[38;5;124m\"\u001b[39m\u001b[38;5;124mcolumns are missing: \u001b[39m\u001b[38;5;132;01m{\u001b[39;00mdiff\u001b[38;5;132;01m}\u001b[39;00m\u001b[38;5;124m\"\u001b[39m)\n\u001b[1;32m    822\u001b[0m \u001b[38;5;28;01melse\u001b[39;00m:\n\u001b[1;32m    823\u001b[0m     \u001b[38;5;66;03m# ndarray was used for fitting or transforming, thus we only\u001b[39;00m\n\u001b[1;32m    824\u001b[0m     \u001b[38;5;66;03m# check that n_features_in_ is consistent\u001b[39;00m\n\u001b[0;32m--> 825\u001b[0m     \u001b[38;5;28;43mself\u001b[39;49m\u001b[38;5;241;43m.\u001b[39;49m\u001b[43m_check_n_features\u001b[49m\u001b[43m(\u001b[49m\u001b[43mX\u001b[49m\u001b[43m,\u001b[49m\u001b[43m \u001b[49m\u001b[43mreset\u001b[49m\u001b[38;5;241;43m=\u001b[39;49m\u001b[38;5;28;43;01mFalse\u001b[39;49;00m\u001b[43m)\u001b[49m\n\u001b[1;32m    827\u001b[0m Xs \u001b[38;5;241m=\u001b[39m \u001b[38;5;28mself\u001b[39m\u001b[38;5;241m.\u001b[39m_fit_transform(\n\u001b[1;32m    828\u001b[0m     X,\n\u001b[1;32m    829\u001b[0m     \u001b[38;5;28;01mNone\u001b[39;00m,\n\u001b[0;32m   (...)\u001b[0m\n\u001b[1;32m    832\u001b[0m     column_as_strings\u001b[38;5;241m=\u001b[39mfit_dataframe_and_transform_dataframe,\n\u001b[1;32m    833\u001b[0m )\n\u001b[1;32m    834\u001b[0m \u001b[38;5;28mself\u001b[39m\u001b[38;5;241m.\u001b[39m_validate_output(Xs)\n",
      "File \u001b[0;32m~/.pyenv/versions/3.10.6/envs/01-household-energy/lib/python3.10/site-packages/sklearn/base.py:395\u001b[0m, in \u001b[0;36mBaseEstimator._check_n_features\u001b[0;34m(self, X, reset)\u001b[0m\n\u001b[1;32m    393\u001b[0m \u001b[38;5;28;01mexcept\u001b[39;00m \u001b[38;5;167;01mTypeError\u001b[39;00m \u001b[38;5;28;01mas\u001b[39;00m e:\n\u001b[1;32m    394\u001b[0m     \u001b[38;5;28;01mif\u001b[39;00m \u001b[38;5;129;01mnot\u001b[39;00m reset \u001b[38;5;129;01mand\u001b[39;00m \u001b[38;5;28mhasattr\u001b[39m(\u001b[38;5;28mself\u001b[39m, \u001b[38;5;124m\"\u001b[39m\u001b[38;5;124mn_features_in_\u001b[39m\u001b[38;5;124m\"\u001b[39m):\n\u001b[0;32m--> 395\u001b[0m         \u001b[38;5;28;01mraise\u001b[39;00m \u001b[38;5;167;01mValueError\u001b[39;00m(\n\u001b[1;32m    396\u001b[0m             \u001b[38;5;124m\"\u001b[39m\u001b[38;5;124mX does not contain any features, but \u001b[39m\u001b[38;5;124m\"\u001b[39m\n\u001b[1;32m    397\u001b[0m             \u001b[38;5;124mf\u001b[39m\u001b[38;5;124m\"\u001b[39m\u001b[38;5;132;01m{\u001b[39;00m\u001b[38;5;28mself\u001b[39m\u001b[38;5;241m.\u001b[39m\u001b[38;5;18m__class__\u001b[39m\u001b[38;5;241m.\u001b[39m\u001b[38;5;18m__name__\u001b[39m\u001b[38;5;132;01m}\u001b[39;00m\u001b[38;5;124m is expecting \u001b[39m\u001b[38;5;124m\"\u001b[39m\n\u001b[1;32m    398\u001b[0m             \u001b[38;5;124mf\u001b[39m\u001b[38;5;124m\"\u001b[39m\u001b[38;5;132;01m{\u001b[39;00m\u001b[38;5;28mself\u001b[39m\u001b[38;5;241m.\u001b[39mn_features_in_\u001b[38;5;132;01m}\u001b[39;00m\u001b[38;5;124m features\u001b[39m\u001b[38;5;124m\"\u001b[39m\n\u001b[1;32m    399\u001b[0m         ) \u001b[38;5;28;01mfrom\u001b[39;00m \u001b[38;5;21;01me\u001b[39;00m\n\u001b[1;32m    400\u001b[0m     \u001b[38;5;66;03m# If the number of features is not defined and reset=True,\u001b[39;00m\n\u001b[1;32m    401\u001b[0m     \u001b[38;5;66;03m# then we skip this check\u001b[39;00m\n\u001b[1;32m    402\u001b[0m     \u001b[38;5;28;01mreturn\u001b[39;00m\n",
      "\u001b[0;31mValueError\u001b[0m: X does not contain any features, but ColumnTransformer is expecting 29 features"
     ]
    }
   ],
   "source": []
  },
  {
   "cell_type": "code",
   "execution_count": null,
   "id": "51a74e80-76f3-4830-9b71-06ecdfc2be3c",
   "metadata": {},
   "outputs": [],
   "source": []
  }
 ],
 "metadata": {
  "kernelspec": {
   "display_name": "Python 3 (ipykernel)",
   "language": "python",
   "name": "python3"
  },
  "language_info": {
   "codemirror_mode": {
    "name": "ipython",
    "version": 3
   },
   "file_extension": ".py",
   "mimetype": "text/x-python",
   "name": "python",
   "nbconvert_exporter": "python",
   "pygments_lexer": "ipython3",
   "version": "3.10.6"
  }
 },
 "nbformat": 4,
 "nbformat_minor": 5
}
