{
 "cells": [
  {
   "cell_type": "markdown",
   "metadata": {},
   "source": [
    "# Create dictionaries for steamlit app data\n",
    "\n",
    "use lewagon pyenv for any case"
   ]
  },
  {
   "cell_type": "code",
   "execution_count": 8,
   "metadata": {},
   "outputs": [],
   "source": [
    "import pandas as pd\n"
   ]
  },
  {
   "cell_type": "markdown",
   "metadata": {},
   "source": [
    "---\n",
    "\n",
    "# original data\n"
   ]
  },
  {
   "cell_type": "code",
   "execution_count": 9,
   "metadata": {},
   "outputs": [],
   "source": [
    "raw = pd.read_csv('../raw_data/recs2020_public_v6.csv')\n"
   ]
  },
  {
   "cell_type": "code",
   "execution_count": 10,
   "metadata": {},
   "outputs": [],
   "source": [
    "# these columns are currently in the model\n",
    "model_columns = [\"REGIONC\", \"state_name\", \"BA_climate\", \"TYPEHUQ\", \"STORIES\", \"YEARMADERANGE\", \"NCOMBATH\", \"NHAFBATH\", \"TOTROOMS\", \"WALLTYPE\", \"ROOFTYPE\", \"WINDOWS\",\n",
    "           \"SWIMPOOL\", \"NUMFRIG\", \"MICRO\", \"DISHWASH\", \"CWASHER\", \"DRYER\", \"TVCOLOR\", \"DESKTOP\", \"NUMLAPTOP\",\n",
    "           \"TELLWORK\",\"HEATHOME\", \"EQUIPM\", \"NUMPORTEL\", \"AIRCOND\", \"LGTIN1TO4\", \"LGTIN4TO8\", \"LGTINMORE8\", \"SMARTMETER\", \"SOLAR\", \"NHSLDMEM\", \"SQFTEST\"\n",
    "          #,\"KWH\"\n",
    "           ]\n"
   ]
  },
  {
   "cell_type": "code",
   "execution_count": 11,
   "metadata": {},
   "outputs": [
    {
     "name": "stdout",
     "output_type": "stream",
     "text": [
      "Requirement already satisfied: openpyxl in /home/svetlana/.pyenv/versions/3.10.6/envs/01-household-energy/lib/python3.10/site-packages (3.1.2)\n",
      "Requirement already satisfied: et-xmlfile in /home/svetlana/.pyenv/versions/3.10.6/envs/01-household-energy/lib/python3.10/site-packages (from openpyxl) (1.1.0)\n"
     ]
    }
   ],
   "source": [
    "#! pip install openpyxl\n"
   ]
  },
  {
   "cell_type": "code",
   "execution_count": 12,
   "metadata": {},
   "outputs": [
    {
     "data": {
      "text/html": [
       "<div>\n",
       "<style scoped>\n",
       "    .dataframe tbody tr th:only-of-type {\n",
       "        vertical-align: middle;\n",
       "    }\n",
       "\n",
       "    .dataframe tbody tr th {\n",
       "        vertical-align: top;\n",
       "    }\n",
       "\n",
       "    .dataframe thead th {\n",
       "        text-align: right;\n",
       "    }\n",
       "</style>\n",
       "<table border=\"1\" class=\"dataframe\">\n",
       "  <thead>\n",
       "    <tr style=\"text-align: right;\">\n",
       "      <th></th>\n",
       "      <th>Variable</th>\n",
       "      <th>Type</th>\n",
       "      <th>Description and Labels</th>\n",
       "      <th>Response Codes</th>\n",
       "      <th>Section</th>\n",
       "    </tr>\n",
       "  </thead>\n",
       "  <tbody>\n",
       "    <tr>\n",
       "      <th>0</th>\n",
       "      <td>DOEID</td>\n",
       "      <td>Num</td>\n",
       "      <td>Unique identifier for each respondent</td>\n",
       "      <td>100001-118496</td>\n",
       "      <td>ADMIN</td>\n",
       "    </tr>\n",
       "    <tr>\n",
       "      <th>1</th>\n",
       "      <td>REGIONC</td>\n",
       "      <td>Char</td>\n",
       "      <td>Census Region</td>\n",
       "      <td>Midwest\\nNortheast\\nSouth\\nWest</td>\n",
       "      <td>GEOGRAPHY</td>\n",
       "    </tr>\n",
       "    <tr>\n",
       "      <th>2</th>\n",
       "      <td>DIVISION</td>\n",
       "      <td>Char</td>\n",
       "      <td>Census Division, Mountain Division is divided ...</td>\n",
       "      <td>East North Central\\nEast South Central\\nMiddle...</td>\n",
       "      <td>GEOGRAPHY</td>\n",
       "    </tr>\n",
       "    <tr>\n",
       "      <th>3</th>\n",
       "      <td>STATE_FIPS</td>\n",
       "      <td>Char</td>\n",
       "      <td>State Federal Information Processing System Code</td>\n",
       "      <td>state_dictionary!A1</td>\n",
       "      <td>GEOGRAPHY</td>\n",
       "    </tr>\n",
       "    <tr>\n",
       "      <th>4</th>\n",
       "      <td>state_postal</td>\n",
       "      <td>Char</td>\n",
       "      <td>State Postal Code</td>\n",
       "      <td>state_dictionary!A1</td>\n",
       "      <td>GEOGRAPHY</td>\n",
       "    </tr>\n",
       "  </tbody>\n",
       "</table>\n",
       "</div>"
      ],
      "text/plain": [
       "       Variable  Type                             Description and Labels  \\\n",
       "0         DOEID   Num              Unique identifier for each respondent   \n",
       "1       REGIONC  Char                                      Census Region   \n",
       "2      DIVISION  Char  Census Division, Mountain Division is divided ...   \n",
       "3    STATE_FIPS  Char   State Federal Information Processing System Code   \n",
       "4  state_postal  Char                                  State Postal Code   \n",
       "\n",
       "                                      Response Codes    Section  \n",
       "0                                      100001-118496      ADMIN  \n",
       "1                    Midwest\\nNortheast\\nSouth\\nWest  GEOGRAPHY  \n",
       "2  East North Central\\nEast South Central\\nMiddle...  GEOGRAPHY  \n",
       "3                                state_dictionary!A1  GEOGRAPHY  \n",
       "4                                state_dictionary!A1  GEOGRAPHY  "
      ]
     },
     "execution_count": 12,
     "metadata": {},
     "output_type": "execute_result"
    }
   ],
   "source": [
    "codebook = pd.read_excel(\n",
    "    '../raw_data/RECS 2020 Codebook for Public File - v6.xlsx'\n",
    "    , header=1)\n",
    "codebook.head()\n"
   ]
  },
  {
   "cell_type": "code",
   "execution_count": 13,
   "metadata": {},
   "outputs": [
    {
     "name": "stdout",
     "output_type": "stream",
     "text": [
      "this columns are too many: {'TELLDAYS', 'NUMPORTAC'}\n",
      "this columns are missing: {'NUMFRIG', 'BA_climate'}\n"
     ]
    }
   ],
   "source": [
    "# this is current dict from user input\n",
    "user_dict = {\n",
    "  \"TYPEHUQ\": 1,\n",
    "  \"NHSLDMEM\": 1,\n",
    "  \"state_name\": \"Alabama\",\n",
    "  \"REGIONC\": \"SOUTH\",\n",
    "  \"SQFTEST\": 240,\n",
    "  \"STORIES\": 1,\n",
    "  \"YEARMADERANGE\": 1,\n",
    "  \"NCOMBATH\": 0,\n",
    "  \"NHAFBATH\": 0,\n",
    "  \"TOTROOMS\": 1,\n",
    "  \"WALLTYPE\": 1,\n",
    "  \"ROOFTYPE\": 1,\n",
    "  \"WINDOWS\": 1,\n",
    "  \"SWIMPOOL\": 1,\n",
    "  \"SOLAR\": 1,\n",
    "  \"SMARTMETER\": 1,\n",
    "  \"TELLWORK\": 1,\n",
    "  \"TELLDAYS\": 0,\n",
    "  \"DESKTOP\": 0,\n",
    "  \"NUMLAPTOP\": 0,\n",
    "  \"TVCOLOR\": 0,\n",
    "  \"DISHWASH\": 1,\n",
    "  \"MICRO\": 0,\n",
    "  \"CWASHER\": 1,\n",
    "  \"DRYER\": 1,\n",
    "  \"LGTIN1TO4\": 0,\n",
    "  \"LGTIN4TO8\": 0,\n",
    "  \"LGTINMORE8\": 0,\n",
    "  \"AIRCOND\": 1,\n",
    "  \"EQUIPM\": 3,\n",
    "  \"HEATHOME\": 1,\n",
    "  \"NUMPORTEL\": 0,\n",
    "  \"NUMPORTAC\": 0\n",
    "}\n",
    "user_features = pd.DataFrame({k:[v] for k,v in user_dict.items()})\n",
    "print(f'this columns are too many: {set(user_features.columns).difference(model_columns)}')\n",
    "print(f'this columns are missing: {set(model_columns).difference(user_features.columns)}')\n"
   ]
  },
  {
   "cell_type": "markdown",
   "metadata": {},
   "source": [
    "---\n",
    "\n",
    "## encode climate\n",
    "\n",
    "Assign the most frequent climate to state name\n",
    "\n",
    "Thanks GPT"
   ]
  },
  {
   "cell_type": "code",
   "execution_count": 32,
   "metadata": {},
   "outputs": [],
   "source": [
    "mycols = ['state_name','BA_climate']\n",
    "state2climate = raw[mycols].reset_index().groupby(mycols).count().reset_index()\n",
    "climate_dict = state2climate.groupby('state_name')['BA_climate'].agg(lambda x: x.value_counts().idxmax()).to_dict()\n"
   ]
  },
  {
   "cell_type": "markdown",
   "metadata": {},
   "source": [
    "---\n",
    "\n",
    "## precompute feature dict"
   ]
  },
  {
   "cell_type": "code",
   "execution_count": 15,
   "metadata": {},
   "outputs": [
    {
     "data": {
      "text/html": [
       "<div>\n",
       "<style scoped>\n",
       "    .dataframe tbody tr th:only-of-type {\n",
       "        vertical-align: middle;\n",
       "    }\n",
       "\n",
       "    .dataframe tbody tr th {\n",
       "        vertical-align: top;\n",
       "    }\n",
       "\n",
       "    .dataframe thead th {\n",
       "        text-align: right;\n",
       "    }\n",
       "</style>\n",
       "<table border=\"1\" class=\"dataframe\">\n",
       "  <thead>\n",
       "    <tr style=\"text-align: right;\">\n",
       "      <th></th>\n",
       "      <th>Variable</th>\n",
       "      <th>Type</th>\n",
       "      <th>Description and Labels</th>\n",
       "      <th>Response Codes</th>\n",
       "      <th>Section</th>\n",
       "    </tr>\n",
       "  </thead>\n",
       "  <tbody>\n",
       "    <tr>\n",
       "      <th>1</th>\n",
       "      <td>REGIONC</td>\n",
       "      <td>Char</td>\n",
       "      <td>Census Region</td>\n",
       "      <td>Midwest\\nNortheast\\nSouth\\nWest</td>\n",
       "      <td>GEOGRAPHY</td>\n",
       "    </tr>\n",
       "    <tr>\n",
       "      <th>5</th>\n",
       "      <td>state_name</td>\n",
       "      <td>Char</td>\n",
       "      <td>State Name</td>\n",
       "      <td>state_dictionary!A1</td>\n",
       "      <td>GEOGRAPHY</td>\n",
       "    </tr>\n",
       "    <tr>\n",
       "      <th>6</th>\n",
       "      <td>BA_climate</td>\n",
       "      <td>Char</td>\n",
       "      <td>Building America Climate Zone</td>\n",
       "      <td>Cold\\nHot-Dry\\nHot-Humid\\nMarine\\nMixed-Dry\\nM...</td>\n",
       "      <td>ADMIN</td>\n",
       "    </tr>\n",
       "    <tr>\n",
       "      <th>13</th>\n",
       "      <td>TYPEHUQ</td>\n",
       "      <td>Num</td>\n",
       "      <td>Type of housing unit</td>\n",
       "      <td>1 Mobile home\\n2 Single-family house detached ...</td>\n",
       "      <td>YOUR HOME</td>\n",
       "    </tr>\n",
       "    <tr>\n",
       "      <th>21</th>\n",
       "      <td>STORIES</td>\n",
       "      <td>Num</td>\n",
       "      <td>Number of stories in a single-family home</td>\n",
       "      <td>1 One story\\n2 Two stories\\n3 Three stories\\n4...</td>\n",
       "      <td>YOUR HOME</td>\n",
       "    </tr>\n",
       "  </tbody>\n",
       "</table>\n",
       "</div>"
      ],
      "text/plain": [
       "      Variable  Type                     Description and Labels  \\\n",
       "1      REGIONC  Char                              Census Region   \n",
       "5   state_name  Char                                 State Name   \n",
       "6   BA_climate  Char              Building America Climate Zone   \n",
       "13     TYPEHUQ   Num                       Type of housing unit   \n",
       "21     STORIES   Num  Number of stories in a single-family home   \n",
       "\n",
       "                                       Response Codes    Section  \n",
       "1                     Midwest\\nNortheast\\nSouth\\nWest  GEOGRAPHY  \n",
       "5                                 state_dictionary!A1  GEOGRAPHY  \n",
       "6   Cold\\nHot-Dry\\nHot-Humid\\nMarine\\nMixed-Dry\\nM...      ADMIN  \n",
       "13  1 Mobile home\\n2 Single-family house detached ...  YOUR HOME  \n",
       "21  1 One story\\n2 Two stories\\n3 Three stories\\n4...  YOUR HOME  "
      ]
     },
     "execution_count": 15,
     "metadata": {},
     "output_type": "execute_result"
    }
   ],
   "source": [
    "# these features were selected by hand (csv imported from xls file on google drive)\n",
    "#selected = pd.read_csv('../csv/selected_features.csv', index_col=0)\n",
    "\n",
    "## use functions from Diego instead\n",
    "selected = codebook.loc[codebook.Variable.isin(model_columns)]\n",
    "selected.head()\n"
   ]
  },
  {
   "cell_type": "code",
   "execution_count": 16,
   "metadata": {},
   "outputs": [
    {
     "name": "stdout",
     "output_type": "stream",
     "text": [
      "<class 'pandas.core.frame.DataFrame'>\n",
      "Index: 33 entries, 1 to 294\n",
      "Data columns (total 5 columns):\n",
      " #   Column                  Non-Null Count  Dtype \n",
      "---  ------                  --------------  ----- \n",
      " 0   Variable                33 non-null     object\n",
      " 1   Type                    33 non-null     object\n",
      " 2   Description and Labels  33 non-null     object\n",
      " 3   Response Codes          33 non-null     object\n",
      " 4   Section                 33 non-null     object\n",
      "dtypes: object(5)\n",
      "memory usage: 1.5+ KB\n"
     ]
    }
   ],
   "source": [
    "selected.info()\n"
   ]
  },
  {
   "cell_type": "code",
   "execution_count": 17,
   "metadata": {},
   "outputs": [
    {
     "data": {
      "text/plain": [
       "array(['REGIONC', 'state_name', 'BA_climate', 'TYPEHUQ', 'STORIES',\n",
       "       'YEARMADERANGE', 'NCOMBATH', 'NHAFBATH', 'TOTROOMS', 'WALLTYPE',\n",
       "       'ROOFTYPE', 'WINDOWS', 'SWIMPOOL', 'NUMFRIG', 'MICRO', 'DISHWASH',\n",
       "       'CWASHER', 'DRYER', 'TVCOLOR', 'DESKTOP', 'NUMLAPTOP', 'TELLWORK',\n",
       "       'HEATHOME', 'EQUIPM', 'NUMPORTEL', 'AIRCOND', 'LGTIN1TO4',\n",
       "       'LGTIN4TO8', 'LGTINMORE8', 'SMARTMETER', 'SOLAR', 'NHSLDMEM',\n",
       "       'SQFTEST'], dtype=object)"
      ]
     },
     "execution_count": 17,
     "metadata": {},
     "output_type": "execute_result"
    }
   ],
   "source": [
    "selected.Variable.unique()\n"
   ]
  },
  {
   "cell_type": "code",
   "execution_count": 18,
   "metadata": {},
   "outputs": [],
   "source": [
    "# precompute dicts\n",
    "val_cols = ['Description and Labels','Response Codes']\n",
    "key_col=['Variable']\n",
    "label_dict = selected.set_index(key_col)[val_cols[0]].to_dict()\n",
    "values_dict = selected.set_index(key_col)[val_cols[1]].to_dict()\n"
   ]
  },
  {
   "cell_type": "code",
   "execution_count": 19,
   "metadata": {},
   "outputs": [
    {
     "data": {
      "text/plain": [
       "33"
      ]
     },
     "execution_count": 19,
     "metadata": {},
     "output_type": "execute_result"
    }
   ],
   "source": [
    "len(label_dict)\n"
   ]
  },
  {
   "cell_type": "code",
   "execution_count": 34,
   "metadata": {},
   "outputs": [
    {
     "data": {
      "text/html": [
       "<div>\n",
       "<style scoped>\n",
       "    .dataframe tbody tr th:only-of-type {\n",
       "        vertical-align: middle;\n",
       "    }\n",
       "\n",
       "    .dataframe tbody tr th {\n",
       "        vertical-align: top;\n",
       "    }\n",
       "\n",
       "    .dataframe thead th {\n",
       "        text-align: right;\n",
       "    }\n",
       "</style>\n",
       "<table border=\"1\" class=\"dataframe\">\n",
       "  <thead>\n",
       "    <tr style=\"text-align: right;\">\n",
       "      <th></th>\n",
       "      <th>Section</th>\n",
       "      <th>Variable</th>\n",
       "    </tr>\n",
       "  </thead>\n",
       "  <tbody>\n",
       "    <tr>\n",
       "      <th>0</th>\n",
       "      <td>ADMIN</td>\n",
       "      <td>[DOEID, BA_climate, IECC_climate_code, UATYP10]</td>\n",
       "    </tr>\n",
       "    <tr>\n",
       "      <th>1</th>\n",
       "      <td>AIR CONDITIONING</td>\n",
       "      <td>[AIRCOND, COOLAPT, ACEQUIPM_PUB, ACEQUIPAGE, A...</td>\n",
       "    </tr>\n",
       "    <tr>\n",
       "      <th>2</th>\n",
       "      <td>APPLIANCES</td>\n",
       "      <td>[NUMFRIG, SIZRFRI1, TYPERFR1, AGERFRI1, ICE, S...</td>\n",
       "    </tr>\n",
       "    <tr>\n",
       "      <th>3</th>\n",
       "      <td>ELECTRONICS</td>\n",
       "      <td>[TVCOLOR, TVSIZE1, TVTYPE1, TVUSE1, TVONWD1, T...</td>\n",
       "    </tr>\n",
       "    <tr>\n",
       "      <th>4</th>\n",
       "      <td>ENERGY ASSISTANCE</td>\n",
       "      <td>[SCALEB, SCALEG, SCALEE, PAYHELP, NOHEATBROKE,...</td>\n",
       "    </tr>\n",
       "  </tbody>\n",
       "</table>\n",
       "</div>"
      ],
      "text/plain": [
       "             Section                                           Variable\n",
       "0              ADMIN    [DOEID, BA_climate, IECC_climate_code, UATYP10]\n",
       "1   AIR CONDITIONING  [AIRCOND, COOLAPT, ACEQUIPM_PUB, ACEQUIPAGE, A...\n",
       "2         APPLIANCES  [NUMFRIG, SIZRFRI1, TYPERFR1, AGERFRI1, ICE, S...\n",
       "3        ELECTRONICS  [TVCOLOR, TVSIZE1, TVTYPE1, TVUSE1, TVONWD1, T...\n",
       "4  ENERGY ASSISTANCE  [SCALEB, SCALEG, SCALEE, PAYHELP, NOHEATBROKE,..."
      ]
     },
     "execution_count": 34,
     "metadata": {},
     "output_type": "execute_result"
    }
   ],
   "source": [
    "# which things in which section\n",
    "#sections = list(selected.Section.unique())\n",
    "\n",
    "section_df = (codebook[['Variable','Section']]\n",
    "                .groupby('Section')\n",
    "                .agg(lambda x: list(x))\n",
    "                .reset_index()\n",
    "                )\n",
    "section_df.head()\n"
   ]
  },
  {
   "cell_type": "markdown",
   "metadata": {},
   "source": [
    "#### Which feature belongs to each section"
   ]
  },
  {
   "cell_type": "code",
   "execution_count": 35,
   "metadata": {},
   "outputs": [],
   "source": [
    "section_dict = section_df.set_index('Section')['Variable'].to_dict()\n"
   ]
  },
  {
   "cell_type": "markdown",
   "metadata": {},
   "source": [
    "---\n",
    "## Define feature types "
   ]
  },
  {
   "cell_type": "code",
   "execution_count": 22,
   "metadata": {},
   "outputs": [
    {
     "name": "stdout",
     "output_type": "stream",
     "text": [
      "selectbox_features=[]\n",
      "numeric_features=['NCOMBATH', 'NHAFBATH', 'TOTROOMS', 'NUMFRIG', 'MICRO', 'TVCOLOR', 'DESKTOP', 'NUMLAPTOP', 'LGTIN1TO4', 'LGTIN4TO8', 'LGTINMORE8', 'NHSLDMEM', 'SQFTEST']\n",
      "numeric_features_dropdown = ['NUMPORTEL']\n",
      "num_checkbox_features = ['TYPEHUQ', 'STORIES', 'YEARMADERANGE', 'WALLTYPE', 'ROOFTYPE', 'WINDOWS', 'SWIMPOOL', 'DISHWASH', 'CWASHER', 'DRYER', 'TELLWORK', 'HEATHOME', 'EQUIPM', 'AIRCOND', 'SMARTMETER', 'SOLAR']\n"
     ]
    }
   ],
   "source": [
    "# purely selectbox features\n",
    "# like 'SOUTH'\n",
    "selectbox_features = selected['Variable'][ (selected['Response Codes'].str.contains('\\n')) & (selected['Type']=='Char')].to_list()\n",
    "selectbox_features.remove('REGIONC')\n",
    "selectbox_features.remove('BA_climate') # inferred\n",
    "print(f'selectbox_features={selectbox_features}')\n",
    "\n",
    "# purely numeric features\n",
    "# TODO extract range and put reasonable defaults\n",
    "# like '0 - 90' or '0-90'\n",
    "numeric_features = selected['Variable'][selected['Response Codes'].str.match('[0-9]+\\s*-\\s*[0-9]+$')].to_list()\n",
    "print(f'numeric_features={numeric_features}')\n",
    "\n",
    "# features whihc are numeric but are input through dropdown selectbox\n",
    "# like '1 - 9\\n-2 Not applicable'\n",
    "numeric_features_dropdown = selected['Variable'][selected['Response Codes'].str.match('[0-9]+\\s*-\\s*[0-9]+\\n')].to_list()\n",
    "print(f'numeric_features_dropdown = {numeric_features_dropdown}')\n",
    "\n",
    "# numeric selectbox features\n",
    "# like \"1 Yes\\n0 No\\n-4 Don't Know\"\n",
    "num_checkbox_features = selected['Variable'][ (selected['Response Codes'].str.contains('\\n')) & (selected['Type']=='Num')].to_list()\n",
    "# quick and ugly fix\n",
    "for feature in numeric_features_dropdown:\n",
    "    num_checkbox_features.remove(feature)\n",
    "print(f'num_checkbox_features = {num_checkbox_features}')\n"
   ]
  },
  {
   "cell_type": "markdown",
   "metadata": {},
   "source": [
    "---\n",
    "### create mappings for numeric selectbox features"
   ]
  },
  {
   "cell_type": "code",
   "execution_count": 23,
   "metadata": {},
   "outputs": [],
   "source": [
    "mapped_features={}\n",
    "for feature in num_checkbox_features:\n",
    "    mapped_features[feature]=dict(val.split(' ', 1)[::-1] for val in values_dict.get(feature).split('\\n'))\n",
    "for feature in numeric_features_dropdown:\n",
    "    str_range, text  = values_dict[feature].split('\\n')\n",
    "    d = {str(k):str(k) for k in range(int(str_range.split(' - ')[-1])+1)}\n",
    "    d.update({text.split(' ',1)[1]:text.split(' ',1)[0]})\n",
    "    mapped_features[feature] = d\n"
   ]
  },
  {
   "cell_type": "code",
   "execution_count": 48,
   "metadata": {},
   "outputs": [],
   "source": [
    "#mapped_features #direction : from text to int\n"
   ]
  },
  {
   "cell_type": "markdown",
   "metadata": {},
   "source": [
    "---\n",
    "\n",
    "## create state dictionary"
   ]
  },
  {
   "cell_type": "code",
   "execution_count": 25,
   "metadata": {},
   "outputs": [
    {
     "data": {
      "text/html": [
       "<div>\n",
       "<style scoped>\n",
       "    .dataframe tbody tr th:only-of-type {\n",
       "        vertical-align: middle;\n",
       "    }\n",
       "\n",
       "    .dataframe tbody tr th {\n",
       "        vertical-align: top;\n",
       "    }\n",
       "\n",
       "    .dataframe thead th {\n",
       "        text-align: right;\n",
       "    }\n",
       "</style>\n",
       "<table border=\"1\" class=\"dataframe\">\n",
       "  <thead>\n",
       "    <tr style=\"text-align: right;\">\n",
       "      <th></th>\n",
       "      <th>STATE_FIPS</th>\n",
       "      <th>state_postal</th>\n",
       "      <th>state_name</th>\n",
       "    </tr>\n",
       "  </thead>\n",
       "  <tbody>\n",
       "    <tr>\n",
       "      <th>0</th>\n",
       "      <td>1</td>\n",
       "      <td>AL</td>\n",
       "      <td>Alabama</td>\n",
       "    </tr>\n",
       "  </tbody>\n",
       "</table>\n",
       "</div>"
      ],
      "text/plain": [
       "   STATE_FIPS state_postal state_name\n",
       "0           1           AL    Alabama"
      ]
     },
     "execution_count": 25,
     "metadata": {},
     "output_type": "execute_result"
    }
   ],
   "source": [
    "state_dictionary = pd.read_csv('../csv/state_dictionary.csv')\n",
    "state_dictionary.head(1)\n"
   ]
  },
  {
   "cell_type": "code",
   "execution_count": 54,
   "metadata": {},
   "outputs": [],
   "source": [
    "#state_dictionary.drop(columns='STATE_FIPS').set_index('state_postal').to_dict('state_name')\n",
    "\n",
    "#{code:state for code, state in zip(state_dictionary.state_postal, state_dictionary.state_name)}\n",
    "# faster\n",
    "#df.set_index(KEY).to_dict()[VALUE]\n",
    "#https://stackoverflow.com/questions/17426292/how-to-create-a-dictionary-of-two-pandas-dataframe-columns#17426500\n"
   ]
  },
  {
   "cell_type": "code",
   "execution_count": 42,
   "metadata": {},
   "outputs": [],
   "source": [
    "states = state_dictionary.set_index('state_postal')['state_name'].to_dict()\n"
   ]
  },
  {
   "cell_type": "code",
   "execution_count": 39,
   "metadata": {},
   "outputs": [],
   "source": [
    "# map region from state\n",
    "state_to_region = raw[['state_name','REGIONC']].drop_duplicates().set_index('state_name')['REGIONC'].to_dict()\n"
   ]
  },
  {
   "cell_type": "code",
   "execution_count": 53,
   "metadata": {},
   "outputs": [
    {
     "name": "stdout",
     "output_type": "stream",
     "text": [
      "label_dict = {'REGIONC': 'Census Region', 'state_name': 'State Name', 'BA_climate': 'Building America Climate Zone', 'TYPEHUQ': 'Type of housing unit', 'STORIES': 'Number of stories in a single-family home', 'YEARMADERANGE': 'Range when housing unit was built', 'NCOMBATH': 'Number of full bathrooms (top-coded)', 'NHAFBATH': 'Number of half bathrooms (top-coded)', 'TOTROOMS': 'Total number of rooms in the housing unit, excluding bathrooms; a derived variable', 'WALLTYPE': 'Major outside wall material', 'ROOFTYPE': \"Major roofing material; 'Not applicable' applies to apartment buildings with 5 or more units\", 'WINDOWS': 'Number of windows', 'SWIMPOOL': 'Has swimming pool', 'NUMFRIG': 'Number of refrigerators used', 'MICRO': 'Number of microwaves ', 'DISHWASH': 'Has dishwasher', 'CWASHER': 'Has clothes washer in home', 'DRYER': 'Has clothes dryer in home', 'TVCOLOR': 'Number of televisions used', 'DESKTOP': 'Number of desktop computers used', 'NUMLAPTOP': 'Number of laptop computers used', 'TELLWORK': 'Any household member teleworking', 'HEATHOME': 'Space heating equipment used', 'EQUIPM': 'Main space heating equipment type', 'NUMPORTEL': 'Number of portable electric heaters used', 'AIRCOND': 'Air conditioning equipment used', 'LGTIN1TO4': 'Number of inside light bulbs turned on 1 to 4 hours per day', 'LGTIN4TO8': 'Number of inside light bulbs turned on 4 to 8 hours per day', 'LGTINMORE8': 'Number of inside light bulbs turned on more than 8 hours per day', 'SMARTMETER': 'Home has an electricity smart meter', 'SOLAR': \"On-site electricity generation from solar; 'Not applicable' applies to apartment buildings with 2 or more units.\", 'NHSLDMEM': 'Number of household members (top-coded)', 'SQFTEST': 'Respondent-reported square footage (rounded to the nearest 10)'}\n",
      "values_dict = {'REGIONC': 'Midwest\\nNortheast\\nSouth\\nWest', 'state_name': 'state_dictionary!A1', 'BA_climate': 'Cold\\nHot-Dry\\nHot-Humid\\nMarine\\nMixed-Dry\\nMixed-Humid\\nSubarctic\\nVery-Cold', 'TYPEHUQ': '1 Mobile home\\n2 Single-family house detached from any other house \\n3 Single-family house attached to one or more other houses (for example: duplex, row house, or townhome)\\n4 Apartment in a building with 2 to 4 units\\n5 Apartment in a building with 5 or more units', 'STORIES': '1 One story\\n2 Two stories\\n3 Three stories\\n4 Four or more stories\\n5 Split-level\\n-2 Not applicable', 'YEARMADERANGE': '1 Before 1950\\n2 1950 to 1959\\n3 1960 to 1969\\n4 1970 to 1979\\n5 1980 to 1989\\n6 1990 to 1999\\n7 2000 to 2009\\n8 2010 to 2015\\n9 2016 to 2020', 'NCOMBATH': '0 - 4', 'NHAFBATH': '0 - 2', 'TOTROOMS': '1-15', 'WALLTYPE': '1 Brick\\n2 Wood\\n3 Siding (aluminum, fiber cement, vinyl, or steel) \\n4 Stucco\\n5 Shingle (composition)\\n6 Stone \\n7 Concrete block \\n99 Other', 'ROOFTYPE': '1 Ceramic or clay tiles\\n2 Wood shingles/shakes\\n3 Metal\\n4 Slate or synthetic slate\\n5 Shingles (composition or asphalt)\\n6 Concrete tiles\\n99 Other\\n-2 Not applicable', 'WINDOWS': '1 1 or 2 windows\\n2 3 to 5 windows\\n3 6 to 9 windows\\n4 10 to 15 windows\\n5 16 to 19 windows\\n6 20 to 29 windows\\n7 30 or more windows', 'SWIMPOOL': '1 Yes\\n0 No\\n-2 Not applicable', 'NUMFRIG': '0 - 9', 'MICRO': '0 - 3', 'DISHWASH': '1 Yes\\n0 No', 'CWASHER': '1 Yes\\n0 No', 'DRYER': '1 Yes\\n0 No', 'TVCOLOR': '0 - 14', 'DESKTOP': '0 - 8', 'NUMLAPTOP': '0 - 20', 'TELLWORK': '1 Yes\\n0 No', 'HEATHOME': '1 Yes\\n0 No', 'EQUIPM': '3 Central furnace \\n2 Steam or hot water system with radiators or pipes \\n4 Central heat pump\\n13 Ductless heat pump, also known as a “mini-split”\\n5 Built-in electric units installed in walls, ceilings, baseboards, or floors\\n7 Built-in room heater burning gas or oil\\n8 Wood or pellet stove \\n10 Portable electric heaters\\n99 Other \\n-2 Not applicable', 'NUMPORTEL': '1 - 9\\n-2 Not applicable', 'AIRCOND': '1 Yes\\n0 No', 'LGTIN1TO4': '0 - 90', 'LGTIN4TO8': '0 - 84', 'LGTINMORE8': '0 - 99', 'SMARTMETER': \"1 Yes\\n0 No\\n-4 Don't Know\", 'SOLAR': '1 Yes\\n0 No\\n-2 Not applicable', 'NHSLDMEM': '1 - 7', 'SQFTEST': '240-15000'}\n",
      "# U.S. states selector\n",
      "states ={'AL': 'Alabama', 'AK': 'Alaska', 'AZ': 'Arizona', 'AR': 'Arkansas', 'CA': 'California', 'CO': 'Colorado', 'CT': 'Connecticut', 'DE': 'Delaware', 'DC': 'District of Columbia', 'FL': 'Florida', 'GA': 'Georgia', 'HI': 'Hawaii', 'ID': 'Idaho', 'IL': 'Illinois', 'IN': 'Indiana', 'IA': 'Iowa', 'KS': 'Kansas', 'KY': 'Kentucky', 'LA': 'Louisiana', 'ME': 'Maine', 'MD': 'Maryland', 'MA': 'Massachusetts', 'MI': 'Michigan', 'MN': 'Minnesota', 'MS': 'Mississippi', 'MO': 'Missouri', 'MT': 'Montana', 'NE': 'Nebraska', 'NV': 'Nevada', 'NH': 'New Hampshire', 'NJ': 'New Jersey', 'NM': 'New Mexico', 'NY': 'New York', 'NC': 'North Carolina', 'ND': 'North Dakota', 'OH': 'Ohio', 'OK': 'Oklahoma', 'OR': 'Oregon', 'PA': 'Pennsylvania', 'RI': 'Rhode Island', 'SC': 'South Carolina', 'SD': 'South Dakota', 'TN': 'Tennessee', 'TX': 'Texas', 'UT': 'Utah', 'VT': 'Vermont', 'VA': 'Virginia', 'WA': 'Washington', 'WV': 'West Virginia', 'WI': 'Wisconsin', 'WY': 'Wyoming'}\n",
      "# state to region mapper\n",
      "state_to_region={'New Mexico': 'WEST', 'Arkansas': 'SOUTH', 'South Carolina': 'SOUTH', 'New Jersey': 'NORTHEAST', 'Texas': 'SOUTH', 'Oklahoma': 'SOUTH', 'Mississippi': 'SOUTH', 'District of Columbia': 'SOUTH', 'Arizona': 'WEST', 'California': 'WEST', 'Louisiana': 'SOUTH', 'Minnesota': 'MIDWEST', 'Vermont': 'NORTHEAST', 'Rhode Island': 'NORTHEAST', 'Illinois': 'MIDWEST', 'Maine': 'NORTHEAST', 'South Dakota': 'MIDWEST', 'Massachusetts': 'NORTHEAST', 'Florida': 'SOUTH', 'Ohio': 'MIDWEST', 'Nebraska': 'MIDWEST', 'Virginia': 'SOUTH', 'Wyoming': 'WEST', 'Pennsylvania': 'NORTHEAST', 'Hawaii': 'WEST', 'New Hampshire': 'NORTHEAST', 'Michigan': 'MIDWEST', 'Maryland': 'SOUTH', 'New York': 'NORTHEAST', 'Colorado': 'WEST', 'North Carolina': 'SOUTH', 'Kentucky': 'SOUTH', 'North Dakota': 'MIDWEST', 'Georgia': 'SOUTH', 'West Virginia': 'SOUTH', 'Oregon': 'WEST', 'Missouri': 'MIDWEST', 'Utah': 'WEST', 'Connecticut': 'NORTHEAST', 'Tennessee': 'SOUTH', 'Wisconsin': 'MIDWEST', 'Idaho': 'WEST', 'Nevada': 'WEST', 'Washington': 'WEST', 'Indiana': 'MIDWEST', 'Delaware': 'SOUTH', 'Iowa': 'MIDWEST', 'Alaska': 'WEST', 'Alabama': 'SOUTH', 'Montana': 'WEST', 'Kansas': 'MIDWEST'}\n",
      "# state to most frequent climate mapper\n",
      "climate_dict = {'Alabama': 'Hot-Humid', 'Alaska': 'Subarctic', 'Arizona': 'Cold', 'Arkansas': 'Hot-Humid', 'California': 'Cold', 'Colorado': 'Cold', 'Connecticut': 'Cold', 'Delaware': 'Mixed-Humid', 'District of Columbia': 'Mixed-Humid', 'Florida': 'Hot-Humid', 'Georgia': 'Hot-Humid', 'Hawaii': 'Hot-Humid', 'Idaho': 'Cold', 'Illinois': 'Cold', 'Indiana': 'Cold', 'Iowa': 'Cold', 'Kansas': 'Cold', 'Kentucky': 'Mixed-Humid', 'Louisiana': 'Hot-Humid', 'Maine': 'Cold', 'Maryland': 'Cold', 'Massachusetts': 'Cold', 'Michigan': 'Cold', 'Minnesota': 'Cold', 'Mississippi': 'Hot-Humid', 'Missouri': 'Cold', 'Montana': 'Cold', 'Nebraska': 'Cold', 'Nevada': 'Cold', 'New Hampshire': 'Cold', 'New Jersey': 'Cold', 'New Mexico': 'Cold', 'New York': 'Cold', 'North Carolina': 'Cold', 'North Dakota': 'Cold', 'Ohio': 'Cold', 'Oklahoma': 'Mixed-Humid', 'Oregon': 'Cold', 'Pennsylvania': 'Cold', 'Rhode Island': 'Cold', 'South Carolina': 'Hot-Humid', 'South Dakota': 'Cold', 'Tennessee': 'Mixed-Humid', 'Texas': 'Hot-Dry', 'Utah': 'Cold', 'Vermont': 'Cold', 'Virginia': 'Mixed-Humid', 'Washington': 'Cold', 'West Virginia': 'Cold', 'Wisconsin': 'Cold', 'Wyoming': 'Cold'}\n",
      "# section to features mapper\n",
      "section_dict = {'ADMIN': ['DOEID', 'BA_climate', 'IECC_climate_code', 'UATYP10'], 'AIR CONDITIONING': ['AIRCOND', 'COOLAPT', 'ACEQUIPM_PUB', 'ACEQUIPAGE', 'ACEQUIPAUXTYPE_PUB', 'NUMDLHPAC', 'NUMWWAC', 'NUMPORTAC', 'BASECOOL', 'ATTCCOOL', 'GARGCOOL', 'NUMCFAN', 'NUMFLOORFAN', 'USECFAN', 'HOUSEFAN', 'ATTICFAN', 'DEHUMTYPE', 'NUMPORTDEHUM', 'USEDEHUM', 'ELCOOL', 'ZACEQUIPAGE', 'ZAIRCOND', 'ZATTCCOOL', 'ZATTICFAN', 'ZBASECOOL', 'ZCOOLAPT', 'ZCOOLCNTL', 'ZDEHUMTYPE', 'ZGARGCOOL', 'ZHOUSEFAN', 'ZNUMCFAN', 'ZNUMDLHPAC', 'ZNUMFLOORFAN', 'ZNUMPORTAC', 'ZNUMPORTDEHUM', 'ZNUMWWAC', 'ZUSECFAN', 'ZUSEDEHUM', 'ZACEQUIPM_PUB', 'ZACEQUIPAUXTYPE_PUB'], 'APPLIANCES': ['NUMFRIG', 'SIZRFRI1', 'TYPERFR1', 'AGERFRI1', 'ICE', 'SIZRFRI2', 'TYPERFR2', 'AGERFRI2', 'LOCRFRI2', 'WINECHILL', 'NUMFREEZ', 'UPRTFRZR', 'SIZFREEZ', 'FREEZER', 'AGEFRZR', 'RANGE', 'COOKTOP', 'OVEN', 'RANGEFUEL', 'RANGEINDT', 'RCOOKUSE', 'ROVENUSE', 'COOKTOPFUEL', 'COOKTOPINDT', 'COOKTOPUSE', 'OVENFUEL', 'OVENUSE', 'MICRO', 'AMTMICRO', 'OUTGRILLFUEL', 'OUTGRILL', 'NUMMEAL', 'USECOFFEE', 'TOAST', 'TOASTOVN', 'CROCKPOT', 'PRSSCOOK', 'RICECOOK', 'BLENDER', 'APPOTHER', 'ELFOOD', 'LPCOOK', 'UGCOOK', 'DISHWASH', 'DWASHUSE', 'DWCYCLE', 'AGEDW', 'CWASHER', 'TOPFRONT', 'WASHLOAD', 'WASHTEMP', 'AGECWASH', 'DRYER', 'DRYRFUEL', 'DRYRUSE', 'AGECDRYER', 'ZAGECDRYER', 'ZAGECWASH', 'ZAGEDW', 'ZAGEFRZR', 'ZAGERFRI1', 'ZAGERFRI2', 'ZAMTMICRO', 'ZBLENDER', 'ZCOOKTOP', 'ZCOOKTOPFUEL', 'ZCOOKTOPINDT', 'ZCOOKTOPUSE', 'ZCROCKPOT', 'ZCWASHER', 'ZDISHWASH', 'ZDRYER', 'ZDRYRFUEL', 'ZDRYRUSE', 'ZDWASHUSE', 'ZDWCYCLE', 'ZFREEZER', 'ZICE', 'ZLOCRFRI2', 'ZMICRO', 'ZNUMFREEZ', 'ZNUMFRIG', 'ZNUMMEAL', 'ZOUTGRILLFUEL', 'ZOVEN', 'ZOVENFUEL', 'ZOVENUSE', 'ZPRSSCOOK', 'ZRANGE', 'ZRANGEFUEL', 'ZRANGEINDT', 'ZRCOOKUSE', 'ZRICECOOK', 'ZROVENUSE', 'ZSIZFREEZ', 'ZSIZRFRI1', 'ZSIZRFRI2', 'ZTOAST', 'ZTOASTOVN', 'ZTOPFRONT', 'ZTYPERFR1', 'ZTYPERFR2', 'ZUPRTFRZR', 'ZUSECOFFEE', 'ZWASHLOAD', 'ZWASHTEMP', 'ZWINECHILL', 'ZOUTGRILL'], 'ELECTRONICS': ['TVCOLOR', 'TVSIZE1', 'TVTYPE1', 'TVUSE1', 'TVONWD1', 'TVONWE1', 'TVSIZE2', 'TVTYPE2', 'TVUSE2', 'TVONWD2', 'TVONWE2', 'TVSIZE3', 'TVTYPE3', 'TVUSE3', 'TVONWD3', 'TVONWE3', 'CABLESAT', 'COMBODVR', 'SEPDVR', 'INTSTREAM', 'PLAYSTA', 'DVD', 'VCR', 'TVAUDIOSYS', 'DESKTOP', 'NUMLAPTOP', 'NUMTABLET', 'ELPERIPH', 'NUMSMPHONE', 'CELLPHONE', 'TELLWORK', 'TELLDAYS', 'TLDESKTOP', 'TLLAPTOP', 'TLTABLET', 'TLMONITOR', 'TLOTHER', 'ONLNEDUC', 'INTERNET', 'INTYPECELL', 'INTYPEBROAD', 'INTYPEOTH', 'SMARTSPK', 'SSLIGHT', 'SSTEMP', 'SSSECURE', 'SSTV', 'SSOTHER', 'ZCABLESAT', 'ZCELLPHONE', 'ZCOMBODVR', 'ZDESKTOP', 'ZDVD', 'ZELPERIPH', 'ZINTERNET', 'ZINTSTREAM', 'ZINTYPEBROAD', 'ZINTYPECELL', 'ZINTYPEOTH', 'ZNUMLAPTOP', 'ZNUMSMPHONE', 'ZNUMTABLET', 'ZONLNEDUC', 'ZPLAYSTA', 'ZSEPDVR', 'ZSMARTSPK', 'ZSSLIGHT', 'ZSSOTHER', 'ZSSSECURE', 'ZSSTEMP', 'ZSSTV', 'ZTELLDAYS', 'ZTELLWORK', 'ZTLDESKTOP', 'ZTLLAPTOP', 'ZTLMONITOR', 'ZTLOTHER', 'ZTLTABLET', 'ZTVAUDIOSYS', 'ZTVCOLOR', 'ZTVONWD1', 'ZTVONWD2', 'ZTVONWD3', 'ZTVONWE1', 'ZTVONWE2', 'ZTVONWE3', 'ZTVSIZE1', 'ZTVSIZE2', 'ZTVSIZE3', 'ZTVTYPE1', 'ZTVTYPE2', 'ZTVTYPE3', 'ZTVUSE1', 'ZTVUSE2', 'ZTVUSE3', 'ZVCR'], 'ENERGY ASSISTANCE': ['SCALEB', 'SCALEG', 'SCALEE', 'PAYHELP', 'NOHEATBROKE', 'NOHEATEL', 'NOHEATNG', 'NOHEATBULK', 'NOHEATDAYS', 'NOHEATHELP', 'COLDMA', 'NOACBROKE', 'NOACEL', 'NOACDAYS', 'NOACHELP', 'HOTMA', 'ENERGYASST', 'ENERGYASST20', 'ENERGYASST19', 'ENERGYASST18', 'ENERGYASST17', 'ENERGYASST16', 'ENERGYASSTOTH', 'ZCOLDMA', 'ZENERGYASST', 'ZENERGYASST16', 'ZENERGYASST17', 'ZENERGYASST18', 'ZENERGYASST19', 'ZENERGYASST20', 'ZENERGYASSTOTH', 'ZHOTMA', 'ZNOACBROKE', 'ZNOACDAYS', 'ZNOACEL', 'ZNOACHELP', 'ZNOHEATBROKE', 'ZNOHEATBULK', 'ZNOHEATDAYS', 'ZNOHEATEL', 'ZNOHEATHELP', 'ZNOHEATNG', 'ZPAYHELP', 'ZSCALEB', 'ZSCALEE', 'ZSCALEG'], 'ENERGY BILLS': ['ELPAY', 'NGPAY', 'LPGPAY', 'FOPAY', 'SMARTMETER', 'INTDATAACC', 'MEDICALDEV', 'POWEROUT', 'WHYPOWEROUT', 'BACKUP', 'SOLAR', 'OUTLET', 'ELECVEH', 'EVCHRGHOME', 'ELOTHER', 'UGOTH', 'LPOTHER', 'FOOTHER', 'USEEL', 'USENG', 'USELP', 'USEFO', 'USESOLAR', 'USEWOOD', 'ALLELEC', 'ZBACKUP', 'ZELPAY', 'ZFOPAY', 'ZLPGPAY', 'ZNGPAY', 'ZOUTLET', 'ZPOWEROUT', 'ZWHYPOWEROUT'], 'End-use Model': ['KWH', 'BTUEL', 'DOLLAREL', 'ELXBTU', 'PERIODEL', 'ZELAMOUNT', 'KWHSPH', 'KWHCOL', 'KWHWTH', 'KWHRFG', 'KWHRFG1', 'KWHRFG2', 'KWHFRZ', 'KWHCOK', 'KWHMICRO', 'KWHCW', 'KWHCDR', 'KWHDWH', 'KWHLGT', 'KWHTVREL', 'KWHTV1', 'KWHTV2', 'KWHTV3', 'KWHAHUHEAT', 'KWHAHUCOL', 'KWHCFAN', 'KWHDHUM', 'KWHHUM', 'KWHPLPMP', 'KWHHTBPMP', 'KWHHTBHEAT', 'KWHEVCHRG', 'KWHNEC', 'KWHOTH', 'BTUELSPH', 'BTUELCOL', 'BTUELWTH', 'BTUELRFG', 'BTUELRFG1', 'BTUELRFG2', 'BTUELFRZ', 'BTUELCOK', 'BTUELMICRO', 'BTUELCW', 'BTUELCDR', 'BTUELDWH', 'BTUELLGT', 'BTUELTVREL', 'BTUELTV1', 'BTUELTV2', 'BTUELTV3', 'BTUELAHUHEAT', 'BTUELAHUCOL', 'BTUELCFAN', 'BTUELDHUM', 'BTUELHUM', 'BTUELPLPMP', 'BTUELHTBPMP', 'BTUELHTBHEAT', 'BTUELEVCHRG', 'BTUELNEC', 'BTUELOTH', 'DOLELSPH', 'DOLELCOL', 'DOLELWTH', 'DOLELRFG', 'DOLELRFG1', 'DOLELRFG2', 'DOLELFRZ', 'DOLELCOK', 'DOLELMICRO', 'DOLELCW', 'DOLELCDR', 'DOLELDWH', 'DOLELLGT', 'DOLELTVREL', 'DOLELTV1', 'DOLELTV2', 'DOLELTV3', 'DOLELAHUHEAT', 'DOLELAHUCOL', 'DOLELCFAN', 'DOLELDHUM', 'DOLELHUM', 'DOLELPLPMP', 'DOLELHTBPMP', 'DOLELHTBHEAT', 'DOLELEVCHRG', 'DOLELNEC', 'DOLELOTH', 'CUFEETNG', 'BTUNG', 'DOLLARNG', 'NGXBTU', 'PERIODNG', 'ZNGAMOUNT', 'BTUNGSPH', 'BTUNGWTH', 'BTUNGCOK', 'BTUNGCDR', 'BTUNGPLHEAT', 'BTUNGHTBHEAT', 'BTUNGNEC', 'BTUNGOTH', 'CUFEETNGSPH', 'CUFEETNGWTH', 'CUFEETNGCOK', 'CUFEETNGCDR', 'CUFEETNGPLHEAT', 'CUFEETNGHTBHEAT', 'CUFEETNGNEC', 'CUFEETNGOTH', 'DOLNGSPH', 'DOLNGWTH', 'DOLNGCOK', 'DOLNGCDR', 'DOLNGPLHEAT', 'DOLNGHTBHEAT', 'DOLNGNEC', 'DOLNGOTH', 'GALLONLP', 'BTULP', 'DOLLARLP', 'LPXBTU', 'PERIODLP', 'ZLPAMOUNT', 'BTULPSPH', 'BTULPWTH', 'BTULPCOK', 'BTULPCDR', 'BTULPNEC', 'BTULPOTH', 'GALLONLPSPH', 'GALLONLPWTH', 'GALLONLPCOK', 'GALLONLPCDR', 'GALLONLPNEC', 'GALLONLPOTH', 'DOLLPSPH', 'DOLLPWTH', 'DOLLPCOK', 'DOLLPCDR', 'DOLLPNEC', 'DOLLPOTH', 'GALLONFO', 'BTUFO', 'DOLLARFO', 'FOXBTU', 'PERIODFO', 'ZFOAMOUNT', 'BTUFOSPH', 'BTUFOWTH', 'BTUFONEC', 'BTUFOOTH', 'GALLONFOSPH', 'GALLONFOWTH', 'GALLONFONEC', 'GALLONFOOTH', 'DOLFOSPH', 'DOLFOWTH', 'DOLFONEC', 'DOLFOOTH', 'BTUWD', 'ZWDAMOUNT', 'TOTALBTUSPH', 'TOTALDOLSPH', 'TOTALBTUWTH', 'TOTALDOLWTH', 'TOTALBTUOTH', 'TOTALDOLOTH', 'TOTALBTU', 'TOTALDOL'], 'GEOGRAPHY': ['REGIONC', 'DIVISION', 'STATE_FIPS', 'state_postal', 'state_name'], 'HOUSEHOLD CHARACTERISTICS': ['HHSEX', 'HHAGE', 'EMPLOYHH', 'EDUCATION', 'SDESCENT', 'HOUSEHOLDER_RACE', 'NHSLDMEM', 'NUMCHILD', 'NUMADULT1', 'NUMADULT2', 'ATHOME', 'MONEYPY', 'ZATHOME', 'ZEDUCATION', 'ZEMPLOYHH', 'ZHHAGE', 'ZHHSEX', 'ZMONEYPY', 'ZNHSLDMEM', 'ZNUMADULT1', 'ZNUMADULT2', 'ZNUMCHILD', 'ZSDESCENT', 'ZHOUSEHOLDER_RACE'], 'LIGHTING': ['LGTIN1TO4', 'LGTIN4TO8', 'LGTINMORE8', 'LGTINLED', 'LGTINCFL', 'LGTINCAN', 'LGTOUTANY', 'LGTOUTNITE', 'LGTOUTLED', 'LGTOUTCFL', 'LGTOUTCAN', 'ZLGTIN1TO4', 'ZLGTIN4TO8', 'ZLGTINCAN', 'ZLGTINCFL', 'ZLGTINLED', 'ZLGTINMORE8', 'ZLGTOUTANY', 'ZLGTOUTCAN', 'ZLGTOUTCFL', 'ZLGTOUTLED', 'ZLGTOUTNITE'], 'SPACE HEATING': ['HEATHOME', 'DNTHEAT', 'HEATAPT', 'EQUIPM', 'FUELHEAT', 'EQUIPAGE', 'GEOHP', 'EQUIPAUXTYPE', 'EQUIPAUX', 'FUELAUX', 'USEEQUIPAUX', 'NUMPORTEL', 'NUMFIREPLC', 'NUMDLHP', 'BASEHEAT', 'ATTCHEAT', 'GARGHEAT', 'HUMIDTYPE', 'NUMPORTHUM', 'USEHUMID', 'ELWARM', 'UGWARM', 'LPWARM', 'FOWARM', 'WDWARM', 'ZATTCHEAT', 'ZBASEHEAT', 'ZEQUIPAGE', 'ZEQUIPAUXTYPE', 'ZEQUIPM', 'ZFUELAUX', 'ZFUELHEAT', 'ZGARGHEAT', 'ZHEATAPT', 'ZHEATHOME', 'ZHUMIDTYPE', 'ZNUMDLHP', 'ZNUMFIREPLC', 'ZNUMPORTEL', 'ZNUMPORTHUM', 'ZUSEEQUIPAUX', 'ZUSEHUMID', 'ZDNTHEAT', 'WOODTYPE'], 'THERMOSTAT': ['TYPETHERM', 'HEATCNTL', 'TEMPHOME', 'TEMPGONE', 'TEMPNITE', 'COOLCNTL', 'TEMPHOMEAC', 'TEMPGONEAC', 'TEMPNITEAC', 'ZHEATCNTL', 'ZTEMPGONE', 'ZTEMPGONEAC', 'ZTEMPHOME', 'ZTEMPHOMEAC', 'ZTEMPNITE', 'ZTEMPNITEAC', 'ZTYPETHERM'], 'WATER HEATING': ['H2OAPT', 'H2OMAIN', 'WHEATSIZ', 'WHEATBKT', 'WHEATAGE', 'FUELH2O', 'MORETHAN1H2O', 'FUELH2O2', 'ELWATER', 'FOWATER', 'LPWATER', 'SOLWATER', 'WDWATER', 'UGWATER', 'ZFUELH2O', 'ZFUELH2O2', 'ZH2OAPT', 'ZH2OMAIN', 'ZMORETHAN1H2O', 'ZWHEATAGE', 'ZWHEATBKT', 'ZWHEATSIZ'], 'WEATHER': ['HDD65', 'CDD65', 'HDD30YR_PUB', 'CDD30YR_PUB', 'DBT1', 'DBT99', 'GWT'], 'WEIGHTS': ['NWEIGHT', 'NWEIGHT1', 'NWEIGHT2', 'NWEIGHT3', 'NWEIGHT4', 'NWEIGHT5', 'NWEIGHT6', 'NWEIGHT7', 'NWEIGHT8', 'NWEIGHT9', 'NWEIGHT10', 'NWEIGHT11', 'NWEIGHT12', 'NWEIGHT13', 'NWEIGHT14', 'NWEIGHT15', 'NWEIGHT16', 'NWEIGHT17', 'NWEIGHT18', 'NWEIGHT19', 'NWEIGHT20', 'NWEIGHT21', 'NWEIGHT22', 'NWEIGHT23', 'NWEIGHT24', 'NWEIGHT25', 'NWEIGHT26', 'NWEIGHT27', 'NWEIGHT28', 'NWEIGHT29', 'NWEIGHT30', 'NWEIGHT31', 'NWEIGHT32', 'NWEIGHT33', 'NWEIGHT34', 'NWEIGHT35', 'NWEIGHT36', 'NWEIGHT37', 'NWEIGHT38', 'NWEIGHT39', 'NWEIGHT40', 'NWEIGHT41', 'NWEIGHT42', 'NWEIGHT43', 'NWEIGHT44', 'NWEIGHT45', 'NWEIGHT46', 'NWEIGHT47', 'NWEIGHT48', 'NWEIGHT49', 'NWEIGHT50', 'NWEIGHT51', 'NWEIGHT52', 'NWEIGHT53', 'NWEIGHT54', 'NWEIGHT55', 'NWEIGHT56', 'NWEIGHT57', 'NWEIGHT58', 'NWEIGHT59', 'NWEIGHT60'], 'YOUR HOME': ['TYPEHUQ', 'CELLAR', 'CRAWL', 'CONCRETE', 'BASEOTH', 'BASEFIN', 'ATTIC', 'ATTICFIN', 'STORIES', 'PRKGPLC1', 'SIZEOFGARAGE', 'KOWNRENT', 'YEARMADERANGE', 'BEDROOMS', 'NCOMBATH', 'NHAFBATH', 'OTHROOMS', 'TOTROOMS', 'STUDIO', 'WALLTYPE', 'ROOFTYPE', 'HIGHCEIL', 'DOOR1SUM', 'WINDOWS', 'TYPEGLASS', 'ORIGWIN', 'WINFRAME', 'TREESHAD', 'ADQINSUL', 'DRAFTY', 'UGASHERE', 'SWIMPOOL', 'MONPOOL', 'POOLPUMP', 'FUELPOOL', 'RECBATH', 'MONTUB', 'FUELTUB', 'SQFTEST', 'SQFTRANGE', 'SQFTINCB', 'SQFTINCA', 'SQFTINCG', 'TOTSQFT_EN', 'TOTHSQFT', 'TOTCSQFT', 'ZADQINSUL', 'ZATTIC', 'ZATTICFIN', 'ZBASEFIN', 'ZBASEOTH', 'ZBEDROOMS', 'ZCELLAR', 'ZCONCRETE', 'ZCRAWL', 'ZDOOR1SUM', 'ZDRAFTY', 'ZFUELPOOL', 'ZFUELTUB', 'ZHIGHCEIL', 'ZKOWNRENT', 'ZMONPOOL', 'ZMONTUB', 'ZNCOMBATH', 'ZNHAFBATH', 'ZORIGWIN', 'ZOTHROOMS', 'ZPOOLPUMP', 'ZPRKGPLC1', 'ZRECBATH', 'ZROOFTYPE', 'ZSIZEOFGARAGE', 'ZSQFTEST', 'ZSQFTINCA', 'ZSQFTINCB', 'ZSQFTINCG', 'ZSQFTRANGE', 'ZSTORIES', 'ZSWIMPOOL', 'ZTREESHAD', 'ZTYPEGLASS', 'ZUGASHERE', 'ZWALLTYPE', 'ZWINDOWS', 'ZWINFRAME', 'ZYEARMADERANGE', 'ZTOTROOMS', 'ZTYPEHUQ', 'ZSTUDIO']}\n"
     ]
    }
   ],
   "source": [
    "print(f'label_dict = {label_dict}')\n",
    "print(f'values_dict = {values_dict}')\n",
    "print('# U.S. states selector')\n",
    "print(f'states ={states}')\n",
    "print('# state to region mapper')\n",
    "print(f'state_to_region={state_to_region}')\n",
    "print('# state to most frequent climate mapper')\n",
    "print(f'climate_dict = {climate_dict}')\n",
    "print('# section to features mapper')\n",
    "print(f'section_dict = {section_dict}')\n",
    "#print('-------------------')\n"
   ]
  },
  {
   "cell_type": "code",
   "execution_count": 58,
   "metadata": {},
   "outputs": [
    {
     "data": {
      "text/plain": [
       "True"
      ]
     },
     "execution_count": 58,
     "metadata": {},
     "output_type": "execute_result"
    }
   ],
   "source": [
    "any([x in [1,2,3] for x in [1,2]])\n"
   ]
  },
  {
   "cell_type": "markdown",
   "metadata": {},
   "source": [
    "---\n",
    "\n",
    "#### delete Non applicable and Dont know"
   ]
  },
  {
   "cell_type": "code",
   "execution_count": 62,
   "metadata": {},
   "outputs": [
    {
     "name": "stdout",
     "output_type": "stream",
     "text": [
      "STORIES {'One story': '1', 'Two stories': '2', 'Three stories': '3', 'Four or more stories': '4', 'Split-level': '5', 'Not applicable': '-2'}\n",
      "STORIES {'One story': '1', 'Two stories': '2', 'Three stories': '3', 'Four or more stories': '4', 'Split-level': '5'}\n",
      "ROOFTYPE {'Ceramic or clay tiles': '1', 'Wood shingles/shakes': '2', 'Metal': '3', 'Slate or synthetic slate': '4', 'Shingles (composition or asphalt)': '5', 'Concrete tiles': '6', 'Other': '99', 'Not applicable': '-2'}\n",
      "ROOFTYPE {'Ceramic or clay tiles': '1', 'Wood shingles/shakes': '2', 'Metal': '3', 'Slate or synthetic slate': '4', 'Shingles (composition or asphalt)': '5', 'Concrete tiles': '6', 'Other': '99'}\n",
      "SWIMPOOL {'Yes': '1', 'No': '0', 'Not applicable': '-2'}\n",
      "SWIMPOOL {'Yes': '1', 'No': '0'}\n",
      "EQUIPM {'Central furnace ': '3', 'Steam or hot water system with radiators or pipes ': '2', 'Central heat pump': '4', 'Ductless heat pump, also known as a “mini-split”': '13', 'Built-in electric units installed in walls, ceilings, baseboards, or floors': '5', 'Built-in room heater burning gas or oil': '7', 'Wood or pellet stove ': '8', 'Portable electric heaters': '10', 'Other ': '99', 'Not applicable': '-2'}\n",
      "EQUIPM {'Central furnace ': '3', 'Steam or hot water system with radiators or pipes ': '2', 'Central heat pump': '4', 'Ductless heat pump, also known as a “mini-split”': '13', 'Built-in electric units installed in walls, ceilings, baseboards, or floors': '5', 'Built-in room heater burning gas or oil': '7', 'Wood or pellet stove ': '8', 'Portable electric heaters': '10', 'Other ': '99'}\n",
      "SMARTMETER {'Yes': '1', 'No': '0', \"Don't Know\": '-4'}\n",
      "SMARTMETER {'Yes': '1', 'No': '0'}\n",
      "SOLAR {'Yes': '1', 'No': '0', 'Not applicable': '-2'}\n",
      "SOLAR {'Yes': '1', 'No': '0'}\n",
      "NUMPORTEL {'0': '0', '1': '1', '2': '2', '3': '3', '4': '4', '5': '5', '6': '6', '7': '7', '8': '8', '9': '9', 'Not applicable': '-2'}\n",
      "NUMPORTEL {'0': '0', '1': '1', '2': '2', '3': '3', '4': '4', '5': '5', '6': '6', '7': '7', '8': '8', '9': '9'}\n"
     ]
    }
   ],
   "source": [
    "# loop over dictionary of dictionaries\n",
    "for feature, value in mapped_features.items():\n",
    "    for key in [\"Not applicable\", \"Don't Know\"]:\n",
    "        if key in value.keys():\n",
    "            print(feature,value)\n",
    "            del value[key]\n",
    "            print(feature,value)\n"
   ]
  },
  {
   "cell_type": "code",
   "execution_count": 63,
   "metadata": {},
   "outputs": [
    {
     "name": "stdout",
     "output_type": "stream",
     "text": [
      "mapped_features = {'TYPEHUQ': {'Mobile home': '1', 'Single-family house detached from any other house ': '2', 'Single-family house attached to one or more other houses (for example: duplex, row house, or townhome)': '3', 'Apartment in a building with 2 to 4 units': '4', 'Apartment in a building with 5 or more units': '5'}, 'STORIES': {'One story': '1', 'Two stories': '2', 'Three stories': '3', 'Four or more stories': '4', 'Split-level': '5'}, 'YEARMADERANGE': {'Before 1950': '1', '1950 to 1959': '2', '1960 to 1969': '3', '1970 to 1979': '4', '1980 to 1989': '5', '1990 to 1999': '6', '2000 to 2009': '7', '2010 to 2015': '8', '2016 to 2020': '9'}, 'WALLTYPE': {'Brick': '1', 'Wood': '2', 'Siding (aluminum, fiber cement, vinyl, or steel) ': '3', 'Stucco': '4', 'Shingle (composition)': '5', 'Stone ': '6', 'Concrete block ': '7', 'Other': '99'}, 'ROOFTYPE': {'Ceramic or clay tiles': '1', 'Wood shingles/shakes': '2', 'Metal': '3', 'Slate or synthetic slate': '4', 'Shingles (composition or asphalt)': '5', 'Concrete tiles': '6', 'Other': '99'}, 'WINDOWS': {'1 or 2 windows': '1', '3 to 5 windows': '2', '6 to 9 windows': '3', '10 to 15 windows': '4', '16 to 19 windows': '5', '20 to 29 windows': '6', '30 or more windows': '7'}, 'SWIMPOOL': {'Yes': '1', 'No': '0'}, 'DISHWASH': {'Yes': '1', 'No': '0'}, 'CWASHER': {'Yes': '1', 'No': '0'}, 'DRYER': {'Yes': '1', 'No': '0'}, 'TELLWORK': {'Yes': '1', 'No': '0'}, 'HEATHOME': {'Yes': '1', 'No': '0'}, 'EQUIPM': {'Central furnace ': '3', 'Steam or hot water system with radiators or pipes ': '2', 'Central heat pump': '4', 'Ductless heat pump, also known as a “mini-split”': '13', 'Built-in electric units installed in walls, ceilings, baseboards, or floors': '5', 'Built-in room heater burning gas or oil': '7', 'Wood or pellet stove ': '8', 'Portable electric heaters': '10', 'Other ': '99'}, 'AIRCOND': {'Yes': '1', 'No': '0'}, 'SMARTMETER': {'Yes': '1', 'No': '0'}, 'SOLAR': {'Yes': '1', 'No': '0'}, 'NUMPORTEL': {'0': '0', '1': '1', '2': '2', '3': '3', '4': '4', '5': '5', '6': '6', '7': '7', '8': '8', '9': '9'}}\n"
     ]
    }
   ],
   "source": [
    "print(f'mapped_features = {mapped_features}')\n"
   ]
  },
  {
   "cell_type": "markdown",
   "metadata": {},
   "source": [
    "---\n",
    "\n",
    "## final dataframe for testing"
   ]
  },
  {
   "cell_type": "code",
   "execution_count": 29,
   "metadata": {},
   "outputs": [
    {
     "data": {
      "text/html": [
       "<div>\n",
       "<style scoped>\n",
       "    .dataframe tbody tr th:only-of-type {\n",
       "        vertical-align: middle;\n",
       "    }\n",
       "\n",
       "    .dataframe tbody tr th {\n",
       "        vertical-align: top;\n",
       "    }\n",
       "\n",
       "    .dataframe thead th {\n",
       "        text-align: right;\n",
       "    }\n",
       "</style>\n",
       "<table border=\"1\" class=\"dataframe\">\n",
       "  <thead>\n",
       "    <tr style=\"text-align: right;\">\n",
       "      <th></th>\n",
       "      <th>feat1</th>\n",
       "      <th>feat2</th>\n",
       "    </tr>\n",
       "  </thead>\n",
       "  <tbody>\n",
       "    <tr>\n",
       "      <th>0</th>\n",
       "      <td>1</td>\n",
       "      <td>-2</td>\n",
       "    </tr>\n",
       "  </tbody>\n",
       "</table>\n",
       "</div>"
      ],
      "text/plain": [
       "   feat1  feat2\n",
       "0      1     -2"
      ]
     },
     "execution_count": 29,
     "metadata": {},
     "output_type": "execute_result"
    }
   ],
   "source": [
    "X_new = pd.DataFrame.from_dict({'feat1':[1], 'feat2':[-2]},orient='columns')\n",
    "X_new\n"
   ]
  },
  {
   "cell_type": "code",
   "execution_count": null,
   "metadata": {},
   "outputs": [],
   "source": []
  }
 ],
 "metadata": {
  "kernelspec": {
   "display_name": "Python 3",
   "language": "python",
   "name": "python3"
  },
  "language_info": {
   "codemirror_mode": {
    "name": "ipython",
    "version": 3
   },
   "file_extension": ".py",
   "mimetype": "text/x-python",
   "name": "python",
   "nbconvert_exporter": "python",
   "pygments_lexer": "ipython3",
   "version": "3.10.6"
  }
 },
 "nbformat": 4,
 "nbformat_minor": 2
}
