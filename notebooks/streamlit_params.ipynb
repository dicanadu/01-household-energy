{
 "cells": [
  {
   "cell_type": "markdown",
   "metadata": {},
   "source": [
    "# Create dictionaries for steamlit app data\n",
    "\n",
    "use lewagon pyenv for any case"
   ]
  },
  {
   "cell_type": "code",
   "execution_count": 1,
   "metadata": {},
   "outputs": [],
   "source": [
    "import pandas as pd\n"
   ]
  },
  {
   "cell_type": "markdown",
   "metadata": {},
   "source": [
    "---\n",
    "\n",
    "# original data\n"
   ]
  },
  {
   "cell_type": "code",
   "execution_count": 2,
   "metadata": {},
   "outputs": [],
   "source": [
    "raw = pd.read_csv('../raw_data/recs2020_public_v6.csv')\n"
   ]
  },
  {
   "cell_type": "code",
   "execution_count": 30,
   "metadata": {},
   "outputs": [],
   "source": [
    "# these columns are currently in the model\n",
    "model_columns = [\"REGIONC\", \"state_name\", \"BA_climate\", \"TYPEHUQ\", \"STORIES\", \"YEARMADERANGE\", \"NCOMBATH\", \"NHAFBATH\", \"TOTROOMS\", \"WALLTYPE\", \"ROOFTYPE\", \"WINDOWS\",\n",
    "           \"SWIMPOOL\", \"NUMFRIG\", \"MICRO\", \"DISHWASH\", \"CWASHER\", \"DRYER\", \"TVCOLOR\", \"DESKTOP\", \"NUMLAPTOP\",\n",
    "           \"TELLWORK\",\"HEATHOME\", \"EQUIPM\", \"NUMPORTEL\", \"AIRCOND\", \"LGTIN1TO4\", \"LGTIN4TO8\", \"LGTINMORE8\", \"SMARTMETER\", \"SOLAR\", \"NHSLDMEM\", \"SQFTEST\",\n",
    "          \"KWH\"]\n"
   ]
  },
  {
   "cell_type": "code",
   "execution_count": 35,
   "metadata": {},
   "outputs": [
    {
     "name": "stdout",
     "output_type": "stream",
     "text": [
      "this columns are too many: {'TELLDAYS', 'NUMPORTAC'}\n",
      "this columns are missing: {'KWH', 'NUMFRIG', 'BA_climate'}\n"
     ]
    }
   ],
   "source": [
    "# this is current dict from user input\n",
    "user_dict = {\n",
    "  \"TYPEHUQ\": 1,\n",
    "  \"NHSLDMEM\": 1,\n",
    "  \"state_name\": \"Alabama\",\n",
    "  \"REGIONC\": \"SOUTH\",\n",
    "  \"SQFTEST\": 240,\n",
    "  \"STORIES\": 1,\n",
    "  \"YEARMADERANGE\": 1,\n",
    "  \"NCOMBATH\": 0,\n",
    "  \"NHAFBATH\": 0,\n",
    "  \"TOTROOMS\": 1,\n",
    "  \"WALLTYPE\": 1,\n",
    "  \"ROOFTYPE\": 1,\n",
    "  \"WINDOWS\": 1,\n",
    "  \"SWIMPOOL\": 1,\n",
    "  \"SOLAR\": 1,\n",
    "  \"SMARTMETER\": 1,\n",
    "  \"TELLWORK\": 1,\n",
    "  \"TELLDAYS\": 0,\n",
    "  \"DESKTOP\": 0,\n",
    "  \"NUMLAPTOP\": 0,\n",
    "  \"TVCOLOR\": 0,\n",
    "  \"DISHWASH\": 1,\n",
    "  \"MICRO\": 0,\n",
    "  \"CWASHER\": 1,\n",
    "  \"DRYER\": 1,\n",
    "  \"LGTIN1TO4\": 0,\n",
    "  \"LGTIN4TO8\": 0,\n",
    "  \"LGTINMORE8\": 0,\n",
    "  \"AIRCOND\": 1,\n",
    "  \"EQUIPM\": 3,\n",
    "  \"HEATHOME\": 1,\n",
    "  \"NUMPORTEL\": 0,\n",
    "  \"NUMPORTAC\": 0\n",
    "}\n",
    "user_features = pd.DataFrame({k:[v] for k,v in user_dict.items()})\n",
    "print(f'this columns are too many: {set(user_features.columns).difference(model_columns)}')\n",
    "print(f'this columns are missing: {set(model_columns).difference(user_features.columns)}')\n"
   ]
  },
  {
   "cell_type": "markdown",
   "metadata": {},
   "source": [
    "---"
   ]
  },
  {
   "cell_type": "code",
   "execution_count": 3,
   "metadata": {},
   "outputs": [],
   "source": [
    "# these features were selected by hand (csv imported from xls file on google drive)\n",
    "selected = pd.read_csv('../csv/selected_features.csv', index_col=0)\n"
   ]
  },
  {
   "cell_type": "code",
   "execution_count": 4,
   "metadata": {},
   "outputs": [],
   "source": [
    "# precompute dicts\n",
    "val_cols = ['Description and Labels','Response Codes']\n",
    "key_col=['Variable']\n",
    "label_dict = selected.set_index(key_col)[val_cols[0]].to_dict()\n",
    "values_dict = selected.set_index(key_col)[val_cols[1]].to_dict()\n"
   ]
  },
  {
   "cell_type": "code",
   "execution_count": 5,
   "metadata": {},
   "outputs": [
    {
     "name": "stdout",
     "output_type": "stream",
     "text": [
      "['GEOGRAPHY', 'ADMIN', 'YOUR HOME', 'APPLIANCES', 'ELECTRONICS', 'SPACE HEATING', 'AIR CONDITIONING', 'LIGHTING', 'ENERGY BILLS', 'HOUSEHOLD CHARACTERISTICS']\n"
     ]
    }
   ],
   "source": [
    "sections = list(selected.Section.unique())\n",
    "\n",
    "print(sections)\n"
   ]
  },
  {
   "cell_type": "code",
   "execution_count": 10,
   "metadata": {},
   "outputs": [],
   "source": [
    "#! pip install openpyxl\n"
   ]
  },
  {
   "cell_type": "code",
   "execution_count": 9,
   "metadata": {},
   "outputs": [
    {
     "data": {
      "text/html": [
       "<div>\n",
       "<style scoped>\n",
       "    .dataframe tbody tr th:only-of-type {\n",
       "        vertical-align: middle;\n",
       "    }\n",
       "\n",
       "    .dataframe tbody tr th {\n",
       "        vertical-align: top;\n",
       "    }\n",
       "\n",
       "    .dataframe thead th {\n",
       "        text-align: right;\n",
       "    }\n",
       "</style>\n",
       "<table border=\"1\" class=\"dataframe\">\n",
       "  <thead>\n",
       "    <tr style=\"text-align: right;\">\n",
       "      <th></th>\n",
       "      <th>Variable</th>\n",
       "      <th>Type</th>\n",
       "      <th>Description and Labels</th>\n",
       "      <th>Response Codes</th>\n",
       "      <th>Section</th>\n",
       "    </tr>\n",
       "  </thead>\n",
       "  <tbody>\n",
       "    <tr>\n",
       "      <th>0</th>\n",
       "      <td>DOEID</td>\n",
       "      <td>Num</td>\n",
       "      <td>Unique identifier for each respondent</td>\n",
       "      <td>100001-118496</td>\n",
       "      <td>ADMIN</td>\n",
       "    </tr>\n",
       "    <tr>\n",
       "      <th>1</th>\n",
       "      <td>REGIONC</td>\n",
       "      <td>Char</td>\n",
       "      <td>Census Region</td>\n",
       "      <td>Midwest\\nNortheast\\nSouth\\nWest</td>\n",
       "      <td>GEOGRAPHY</td>\n",
       "    </tr>\n",
       "    <tr>\n",
       "      <th>2</th>\n",
       "      <td>DIVISION</td>\n",
       "      <td>Char</td>\n",
       "      <td>Census Division, Mountain Division is divided ...</td>\n",
       "      <td>East North Central\\nEast South Central\\nMiddle...</td>\n",
       "      <td>GEOGRAPHY</td>\n",
       "    </tr>\n",
       "    <tr>\n",
       "      <th>3</th>\n",
       "      <td>STATE_FIPS</td>\n",
       "      <td>Char</td>\n",
       "      <td>State Federal Information Processing System Code</td>\n",
       "      <td>state_dictionary!A1</td>\n",
       "      <td>GEOGRAPHY</td>\n",
       "    </tr>\n",
       "    <tr>\n",
       "      <th>4</th>\n",
       "      <td>state_postal</td>\n",
       "      <td>Char</td>\n",
       "      <td>State Postal Code</td>\n",
       "      <td>state_dictionary!A1</td>\n",
       "      <td>GEOGRAPHY</td>\n",
       "    </tr>\n",
       "  </tbody>\n",
       "</table>\n",
       "</div>"
      ],
      "text/plain": [
       "       Variable  Type                             Description and Labels  \\\n",
       "0         DOEID   Num              Unique identifier for each respondent   \n",
       "1       REGIONC  Char                                      Census Region   \n",
       "2      DIVISION  Char  Census Division, Mountain Division is divided ...   \n",
       "3    STATE_FIPS  Char   State Federal Information Processing System Code   \n",
       "4  state_postal  Char                                  State Postal Code   \n",
       "\n",
       "                                      Response Codes    Section  \n",
       "0                                      100001-118496      ADMIN  \n",
       "1                    Midwest\\nNortheast\\nSouth\\nWest  GEOGRAPHY  \n",
       "2  East North Central\\nEast South Central\\nMiddle...  GEOGRAPHY  \n",
       "3                                state_dictionary!A1  GEOGRAPHY  \n",
       "4                                state_dictionary!A1  GEOGRAPHY  "
      ]
     },
     "execution_count": 9,
     "metadata": {},
     "output_type": "execute_result"
    }
   ],
   "source": [
    "codebook = pd.read_excel(\n",
    "    '../raw_data/RECS 2020 Codebook for Public File - v6.xlsx'\n",
    "    , header=1)\n",
    "codebook.head()\n"
   ]
  },
  {
   "cell_type": "code",
   "execution_count": 20,
   "metadata": {},
   "outputs": [
    {
     "data": {
      "text/html": [
       "<div>\n",
       "<style scoped>\n",
       "    .dataframe tbody tr th:only-of-type {\n",
       "        vertical-align: middle;\n",
       "    }\n",
       "\n",
       "    .dataframe tbody tr th {\n",
       "        vertical-align: top;\n",
       "    }\n",
       "\n",
       "    .dataframe thead th {\n",
       "        text-align: right;\n",
       "    }\n",
       "</style>\n",
       "<table border=\"1\" class=\"dataframe\">\n",
       "  <thead>\n",
       "    <tr style=\"text-align: right;\">\n",
       "      <th></th>\n",
       "      <th>Section</th>\n",
       "      <th>Variable</th>\n",
       "    </tr>\n",
       "  </thead>\n",
       "  <tbody>\n",
       "    <tr>\n",
       "      <th>0</th>\n",
       "      <td>ADMIN</td>\n",
       "      <td>[DOEID, BA_climate, IECC_climate_code, UATYP10]</td>\n",
       "    </tr>\n",
       "    <tr>\n",
       "      <th>1</th>\n",
       "      <td>AIR CONDITIONING</td>\n",
       "      <td>[AIRCOND, COOLAPT, ACEQUIPM_PUB, ACEQUIPAGE, A...</td>\n",
       "    </tr>\n",
       "    <tr>\n",
       "      <th>2</th>\n",
       "      <td>APPLIANCES</td>\n",
       "      <td>[NUMFRIG, SIZRFRI1, TYPERFR1, AGERFRI1, ICE, S...</td>\n",
       "    </tr>\n",
       "    <tr>\n",
       "      <th>3</th>\n",
       "      <td>ELECTRONICS</td>\n",
       "      <td>[TVCOLOR, TVSIZE1, TVTYPE1, TVUSE1, TVONWD1, T...</td>\n",
       "    </tr>\n",
       "    <tr>\n",
       "      <th>4</th>\n",
       "      <td>ENERGY ASSISTANCE</td>\n",
       "      <td>[SCALEB, SCALEG, SCALEE, PAYHELP, NOHEATBROKE,...</td>\n",
       "    </tr>\n",
       "  </tbody>\n",
       "</table>\n",
       "</div>"
      ],
      "text/plain": [
       "             Section                                           Variable\n",
       "0              ADMIN    [DOEID, BA_climate, IECC_climate_code, UATYP10]\n",
       "1   AIR CONDITIONING  [AIRCOND, COOLAPT, ACEQUIPM_PUB, ACEQUIPAGE, A...\n",
       "2         APPLIANCES  [NUMFRIG, SIZRFRI1, TYPERFR1, AGERFRI1, ICE, S...\n",
       "3        ELECTRONICS  [TVCOLOR, TVSIZE1, TVTYPE1, TVUSE1, TVONWD1, T...\n",
       "4  ENERGY ASSISTANCE  [SCALEB, SCALEG, SCALEE, PAYHELP, NOHEATBROKE,..."
      ]
     },
     "execution_count": 20,
     "metadata": {},
     "output_type": "execute_result"
    }
   ],
   "source": [
    "# which things in which section\n",
    "section_dict = (codebook[['Variable','Section']]\n",
    "                .groupby('Section')\n",
    "                .agg(lambda x: list(x))\n",
    "                .reset_index()\n",
    "                )\n",
    "section_dict.head()\n"
   ]
  },
  {
   "cell_type": "markdown",
   "metadata": {},
   "source": [
    "#### Which feature belongs to each section"
   ]
  },
  {
   "cell_type": "code",
   "execution_count": null,
   "metadata": {},
   "outputs": [],
   "source": [
    "section_dict.set_index('Section')['Variable'].to_dict()\n"
   ]
  },
  {
   "cell_type": "markdown",
   "metadata": {},
   "source": [
    "---\n",
    "## Define feature types "
   ]
  },
  {
   "cell_type": "code",
   "execution_count": 12,
   "metadata": {},
   "outputs": [
    {
     "data": {
      "text/plain": [
       "['BA_climate', 'IECC_climate_code']"
      ]
     },
     "execution_count": 12,
     "metadata": {},
     "output_type": "execute_result"
    }
   ],
   "source": [
    "# purely selectbox features\n",
    "checkbox_features = selected['Variable'][ (selected['Response Codes'].str.contains('\\n')) & (selected['Type']=='Char')].to_list()\n",
    "checkbox_features.remove('REGIONC')\n",
    "checkbox_features\n"
   ]
  },
  {
   "cell_type": "code",
   "execution_count": 13,
   "metadata": {},
   "outputs": [
    {
     "name": "stdout",
     "output_type": "stream",
     "text": [
      "['TYPEHUQ', 'STORIES', 'YEARMADERANGE', 'WALLTYPE', 'ROOFTYPE', 'WINDOWS', 'SWIMPOOL', 'DISHWASH', 'CWASHER', 'DRYER', 'TELLWORK', 'TELLDAYS', 'HEATHOME', 'EQUIPM', 'NUMPORTEL', 'AIRCOND', 'NUMPORTAC', 'SMARTMETER', 'SOLAR']\n"
     ]
    }
   ],
   "source": [
    "# numeric selectbox features\n",
    "num_checkbox_features = selected['Variable'][ (selected['Response Codes'].str.contains('\\n')) & (selected['Type']=='Num')].to_list()\n",
    "print(num_checkbox_features)\n"
   ]
  },
  {
   "cell_type": "code",
   "execution_count": 14,
   "metadata": {},
   "outputs": [
    {
     "name": "stdout",
     "output_type": "stream",
     "text": [
      "['NCOMBATH', 'NHAFBATH', 'TOTROOMS', 'NUMFRIG', 'MICRO', 'TVCOLOR', 'DESKTOP', 'NUMLAPTOP', 'LGTIN1TO4', 'LGTIN4TO8', 'LGTINMORE8', 'NHSLDMEM', 'SQFTEST']\n"
     ]
    }
   ],
   "source": [
    "# purely numeric features\n",
    "# TODO extract range and put reasonable defaults\n",
    "numeric_features = selected['Variable'][selected['Response Codes'].str.match('[0-9]+\\s*-\\s*[0-9]+$')].to_list()\n",
    "print(numeric_features)\n"
   ]
  },
  {
   "cell_type": "code",
   "execution_count": 15,
   "metadata": {},
   "outputs": [
    {
     "data": {
      "text/plain": [
       "['TELLDAYS', 'NUMPORTEL', 'NUMPORTAC']"
      ]
     },
     "execution_count": 15,
     "metadata": {},
     "output_type": "execute_result"
    }
   ],
   "source": [
    "# features whihc are numeric but are input through dropdown selectbox\n",
    "numeric_features_dropdown = selected['Variable'][selected['Response Codes'].str.match('[0-9]+\\s*-\\s*[0-9]+\\n')].to_list()\n",
    "numeric_features_dropdown\n"
   ]
  },
  {
   "cell_type": "markdown",
   "metadata": {},
   "source": [
    "---\n",
    "### create mappings for numeric selectbox features"
   ]
  },
  {
   "cell_type": "code",
   "execution_count": 16,
   "metadata": {},
   "outputs": [],
   "source": [
    "mapped_features={}\n",
    "for feature in num_checkbox_features:\n",
    "    mapped_features[feature]=dict(val.split(' ', 1)[::-1] for val in values_dict.get(feature).split('\\n'))\n",
    "for feature in numeric_features_dropdown:\n",
    "    str_range, text  = values_dict[feature].split('\\n')\n",
    "    d = {str(k):str(k) for k in range(int(str_range.split(' - ')[-1])+1)}\n",
    "    d.update({text.split(' ',1)[1]:text.split(' ',1)[0]})\n",
    "    mapped_features[feature] = d\n"
   ]
  },
  {
   "cell_type": "code",
   "execution_count": 35,
   "metadata": {},
   "outputs": [
    {
     "data": {
      "text/plain": [
       "{'TYPEHUQ': {'Mobile home': '1',\n",
       "  'Single-family house detached from any other house ': '2',\n",
       "  'Single-family house attached to one or more other houses (for example: duplex, row house, or townhome)': '3',\n",
       "  'Apartment in a building with 2 to 4 units': '4',\n",
       "  'Apartment in a building with 5 or more units': '5'},\n",
       " 'STORIES': {'One story': '1',\n",
       "  'Two stories': '2',\n",
       "  'Three stories': '3',\n",
       "  'Four or more stories': '4',\n",
       "  'Split-level': '5',\n",
       "  'Not applicable': '-2'},\n",
       " 'YEARMADERANGE': {'Before 1950': '1',\n",
       "  '1950 to 1959': '2',\n",
       "  '1960 to 1969': '3',\n",
       "  '1970 to 1979': '4',\n",
       "  '1980 to 1989': '5',\n",
       "  '1990 to 1999': '6',\n",
       "  '2000 to 2009': '7',\n",
       "  '2010 to 2015': '8',\n",
       "  '2016 to 2020': '9'},\n",
       " 'WALLTYPE': {'Brick': '1',\n",
       "  'Wood': '2',\n",
       "  'Siding (aluminum, fiber cement, vinyl, or steel) ': '3',\n",
       "  'Stucco': '4',\n",
       "  'Shingle (composition)': '5',\n",
       "  'Stone ': '6',\n",
       "  'Concrete block ': '7',\n",
       "  'Other': '99'},\n",
       " 'ROOFTYPE': {'Ceramic or clay tiles': '1',\n",
       "  'Wood shingles/shakes': '2',\n",
       "  'Metal': '3',\n",
       "  'Slate or synthetic slate': '4',\n",
       "  'Shingles (composition or asphalt)': '5',\n",
       "  'Concrete tiles': '6',\n",
       "  'Other': '99',\n",
       "  'Not applicable': '-2'},\n",
       " 'WINDOWS': {'1 or 2 windows': '1',\n",
       "  '3 to 5 windows': '2',\n",
       "  '6 to 9 windows': '3',\n",
       "  '10 to 15 windows': '4',\n",
       "  '16 to 19 windows': '5',\n",
       "  '20 to 29 windows': '6',\n",
       "  '30 or more windows': '7'},\n",
       " 'SWIMPOOL': {'Yes': '1', 'No': '0', 'Not applicable': '-2'},\n",
       " 'DISHWASH': {'Yes': '1', 'No': '0'},\n",
       " 'CWASHER': {'Yes': '1', 'No': '0'},\n",
       " 'DRYER': {'Yes': '1', 'No': '0'},\n",
       " 'TELLWORK': {'Yes': '1', 'No': '0'},\n",
       " 'TELLDAYS': {'0': '0',\n",
       "  '1': '1',\n",
       "  '2': '2',\n",
       "  '3': '3',\n",
       "  '4': '4',\n",
       "  '5': '5',\n",
       "  '6': '6',\n",
       "  '7': '7',\n",
       "  ' Not applicable': '-2'},\n",
       " 'HEATHOME': {'Yes': '1', 'No': '0'},\n",
       " 'EQUIPM': {'Central furnace ': '3',\n",
       "  'Steam or hot water system with radiators or pipes ': '2',\n",
       "  'Central heat pump': '4',\n",
       "  'Ductless heat pump, also known as a “mini-split”': '13',\n",
       "  'Built-in electric units installed in walls, ceilings, baseboards, or floors': '5',\n",
       "  'Built-in room heater burning gas or oil': '7',\n",
       "  'Wood or pellet stove ': '8',\n",
       "  'Portable electric heaters': '10',\n",
       "  'Other ': '99',\n",
       "  'Not applicable': '-2'},\n",
       " 'NUMPORTEL': {'0': '0',\n",
       "  '1': '1',\n",
       "  '2': '2',\n",
       "  '3': '3',\n",
       "  '4': '4',\n",
       "  '5': '5',\n",
       "  '6': '6',\n",
       "  '7': '7',\n",
       "  '8': '8',\n",
       "  '9': '9',\n",
       "  'Not applicable': '-2'},\n",
       " 'AIRCOND': {'Yes': '1', 'No': '0'},\n",
       " 'NUMPORTAC': {'0': '0',\n",
       "  '1': '1',\n",
       "  '2': '2',\n",
       "  '3': '3',\n",
       "  '4': '4',\n",
       "  '5': '5',\n",
       "  '6': '6',\n",
       "  '7': '7',\n",
       "  '8': '8',\n",
       "  'Not applicable': '-2'},\n",
       " 'SMARTMETER': {'Yes': '1', 'No': '0', \"Don't Know\": '-4'},\n",
       " 'SOLAR': {'Yes': '1', 'No': '0', 'Not applicable': '-2'}}"
      ]
     },
     "execution_count": 35,
     "metadata": {},
     "output_type": "execute_result"
    }
   ],
   "source": [
    "mapped_features #direction : from text to int\n"
   ]
  },
  {
   "cell_type": "markdown",
   "metadata": {},
   "source": [
    "---\n",
    "\n",
    "## create state dictionary"
   ]
  },
  {
   "cell_type": "code",
   "execution_count": 19,
   "metadata": {},
   "outputs": [
    {
     "data": {
      "text/html": [
       "<div>\n",
       "<style scoped>\n",
       "    .dataframe tbody tr th:only-of-type {\n",
       "        vertical-align: middle;\n",
       "    }\n",
       "\n",
       "    .dataframe tbody tr th {\n",
       "        vertical-align: top;\n",
       "    }\n",
       "\n",
       "    .dataframe thead th {\n",
       "        text-align: right;\n",
       "    }\n",
       "</style>\n",
       "<table border=\"1\" class=\"dataframe\">\n",
       "  <thead>\n",
       "    <tr style=\"text-align: right;\">\n",
       "      <th></th>\n",
       "      <th>STATE_FIPS</th>\n",
       "      <th>state_postal</th>\n",
       "      <th>state_name</th>\n",
       "    </tr>\n",
       "  </thead>\n",
       "  <tbody>\n",
       "    <tr>\n",
       "      <th>0</th>\n",
       "      <td>1</td>\n",
       "      <td>AL</td>\n",
       "      <td>Alabama</td>\n",
       "    </tr>\n",
       "  </tbody>\n",
       "</table>\n",
       "</div>"
      ],
      "text/plain": [
       "   STATE_FIPS state_postal state_name\n",
       "0           1           AL    Alabama"
      ]
     },
     "execution_count": 19,
     "metadata": {},
     "output_type": "execute_result"
    }
   ],
   "source": [
    "state_dictionary = pd.read_csv('../csv/state_dictionary.csv')\n",
    "state_dictionary.head(1)\n"
   ]
  },
  {
   "cell_type": "code",
   "execution_count": 20,
   "metadata": {},
   "outputs": [
    {
     "data": {
      "text/plain": [
       "{'AL': 'Alabama',\n",
       " 'AK': 'Alaska',\n",
       " 'AZ': 'Arizona',\n",
       " 'AR': 'Arkansas',\n",
       " 'CA': 'California',\n",
       " 'CO': 'Colorado',\n",
       " 'CT': 'Connecticut',\n",
       " 'DE': 'Delaware',\n",
       " 'DC': 'District of Columbia',\n",
       " 'FL': 'Florida',\n",
       " 'GA': 'Georgia',\n",
       " 'HI': 'Hawaii',\n",
       " 'ID': 'Idaho',\n",
       " 'IL': 'Illinois',\n",
       " 'IN': 'Indiana',\n",
       " 'IA': 'Iowa',\n",
       " 'KS': 'Kansas',\n",
       " 'KY': 'Kentucky',\n",
       " 'LA': 'Louisiana',\n",
       " 'ME': 'Maine',\n",
       " 'MD': 'Maryland',\n",
       " 'MA': 'Massachusetts',\n",
       " 'MI': 'Michigan',\n",
       " 'MN': 'Minnesota',\n",
       " 'MS': 'Mississippi',\n",
       " 'MO': 'Missouri',\n",
       " 'MT': 'Montana',\n",
       " 'NE': 'Nebraska',\n",
       " 'NV': 'Nevada',\n",
       " 'NH': 'New Hampshire',\n",
       " 'NJ': 'New Jersey',\n",
       " 'NM': 'New Mexico',\n",
       " 'NY': 'New York',\n",
       " 'NC': 'North Carolina',\n",
       " 'ND': 'North Dakota',\n",
       " 'OH': 'Ohio',\n",
       " 'OK': 'Oklahoma',\n",
       " 'OR': 'Oregon',\n",
       " 'PA': 'Pennsylvania',\n",
       " 'RI': 'Rhode Island',\n",
       " 'SC': 'South Carolina',\n",
       " 'SD': 'South Dakota',\n",
       " 'TN': 'Tennessee',\n",
       " 'TX': 'Texas',\n",
       " 'UT': 'Utah',\n",
       " 'VT': 'Vermont',\n",
       " 'VA': 'Virginia',\n",
       " 'WA': 'Washington',\n",
       " 'WV': 'West Virginia',\n",
       " 'WI': 'Wisconsin',\n",
       " 'WY': 'Wyoming'}"
      ]
     },
     "execution_count": 20,
     "metadata": {},
     "output_type": "execute_result"
    }
   ],
   "source": [
    "#state_dictionary.drop(columns='STATE_FIPS').set_index('state_postal').to_dict('state_name')\n",
    "\n",
    "{code:state for code, state in zip(state_dictionary.state_postal, state_dictionary.state_name)}\n",
    "# faster\n",
    "#df.set_index(KEY).to_dict()[VALUE]\n",
    "#https://stackoverflow.com/questions/17426292/how-to-create-a-dictionary-of-two-pandas-dataframe-columns#17426500\n"
   ]
  },
  {
   "cell_type": "code",
   "execution_count": 21,
   "metadata": {},
   "outputs": [
    {
     "data": {
      "text/plain": [
       "{'AL': 'Alabama',\n",
       " 'AK': 'Alaska',\n",
       " 'AZ': 'Arizona',\n",
       " 'AR': 'Arkansas',\n",
       " 'CA': 'California',\n",
       " 'CO': 'Colorado',\n",
       " 'CT': 'Connecticut',\n",
       " 'DE': 'Delaware',\n",
       " 'DC': 'District of Columbia',\n",
       " 'FL': 'Florida',\n",
       " 'GA': 'Georgia',\n",
       " 'HI': 'Hawaii',\n",
       " 'ID': 'Idaho',\n",
       " 'IL': 'Illinois',\n",
       " 'IN': 'Indiana',\n",
       " 'IA': 'Iowa',\n",
       " 'KS': 'Kansas',\n",
       " 'KY': 'Kentucky',\n",
       " 'LA': 'Louisiana',\n",
       " 'ME': 'Maine',\n",
       " 'MD': 'Maryland',\n",
       " 'MA': 'Massachusetts',\n",
       " 'MI': 'Michigan',\n",
       " 'MN': 'Minnesota',\n",
       " 'MS': 'Mississippi',\n",
       " 'MO': 'Missouri',\n",
       " 'MT': 'Montana',\n",
       " 'NE': 'Nebraska',\n",
       " 'NV': 'Nevada',\n",
       " 'NH': 'New Hampshire',\n",
       " 'NJ': 'New Jersey',\n",
       " 'NM': 'New Mexico',\n",
       " 'NY': 'New York',\n",
       " 'NC': 'North Carolina',\n",
       " 'ND': 'North Dakota',\n",
       " 'OH': 'Ohio',\n",
       " 'OK': 'Oklahoma',\n",
       " 'OR': 'Oregon',\n",
       " 'PA': 'Pennsylvania',\n",
       " 'RI': 'Rhode Island',\n",
       " 'SC': 'South Carolina',\n",
       " 'SD': 'South Dakota',\n",
       " 'TN': 'Tennessee',\n",
       " 'TX': 'Texas',\n",
       " 'UT': 'Utah',\n",
       " 'VT': 'Vermont',\n",
       " 'VA': 'Virginia',\n",
       " 'WA': 'Washington',\n",
       " 'WV': 'West Virginia',\n",
       " 'WI': 'Wisconsin',\n",
       " 'WY': 'Wyoming'}"
      ]
     },
     "execution_count": 21,
     "metadata": {},
     "output_type": "execute_result"
    }
   ],
   "source": [
    "state_dictionary.set_index('state_postal')['state_name'].to_dict()\n"
   ]
  },
  {
   "cell_type": "code",
   "execution_count": 22,
   "metadata": {},
   "outputs": [
    {
     "data": {
      "text/plain": [
       "{'New Mexico': 'WEST',\n",
       " 'Arkansas': 'SOUTH',\n",
       " 'South Carolina': 'SOUTH',\n",
       " 'New Jersey': 'NORTHEAST',\n",
       " 'Texas': 'SOUTH',\n",
       " 'Oklahoma': 'SOUTH',\n",
       " 'Mississippi': 'SOUTH',\n",
       " 'District of Columbia': 'SOUTH',\n",
       " 'Arizona': 'WEST',\n",
       " 'California': 'WEST',\n",
       " 'Louisiana': 'SOUTH',\n",
       " 'Minnesota': 'MIDWEST',\n",
       " 'Vermont': 'NORTHEAST',\n",
       " 'Rhode Island': 'NORTHEAST',\n",
       " 'Illinois': 'MIDWEST',\n",
       " 'Maine': 'NORTHEAST',\n",
       " 'South Dakota': 'MIDWEST',\n",
       " 'Massachusetts': 'NORTHEAST',\n",
       " 'Florida': 'SOUTH',\n",
       " 'Ohio': 'MIDWEST',\n",
       " 'Nebraska': 'MIDWEST',\n",
       " 'Virginia': 'SOUTH',\n",
       " 'Wyoming': 'WEST',\n",
       " 'Pennsylvania': 'NORTHEAST',\n",
       " 'Hawaii': 'WEST',\n",
       " 'New Hampshire': 'NORTHEAST',\n",
       " 'Michigan': 'MIDWEST',\n",
       " 'Maryland': 'SOUTH',\n",
       " 'New York': 'NORTHEAST',\n",
       " 'Colorado': 'WEST',\n",
       " 'North Carolina': 'SOUTH',\n",
       " 'Kentucky': 'SOUTH',\n",
       " 'North Dakota': 'MIDWEST',\n",
       " 'Georgia': 'SOUTH',\n",
       " 'West Virginia': 'SOUTH',\n",
       " 'Oregon': 'WEST',\n",
       " 'Missouri': 'MIDWEST',\n",
       " 'Utah': 'WEST',\n",
       " 'Connecticut': 'NORTHEAST',\n",
       " 'Tennessee': 'SOUTH',\n",
       " 'Wisconsin': 'MIDWEST',\n",
       " 'Idaho': 'WEST',\n",
       " 'Nevada': 'WEST',\n",
       " 'Washington': 'WEST',\n",
       " 'Indiana': 'MIDWEST',\n",
       " 'Delaware': 'SOUTH',\n",
       " 'Iowa': 'MIDWEST',\n",
       " 'Alaska': 'WEST',\n",
       " 'Alabama': 'SOUTH',\n",
       " 'Montana': 'WEST',\n",
       " 'Kansas': 'MIDWEST'}"
      ]
     },
     "execution_count": 22,
     "metadata": {},
     "output_type": "execute_result"
    }
   ],
   "source": [
    "# map region from state\n",
    "raw[['state_name','REGIONC']].drop_duplicates().set_index('state_name')['REGIONC'].to_dict()\n"
   ]
  },
  {
   "cell_type": "markdown",
   "metadata": {},
   "source": [
    "---\n",
    "\n",
    "## final dataframe for testing"
   ]
  },
  {
   "cell_type": "code",
   "execution_count": null,
   "metadata": {},
   "outputs": [
    {
     "data": {
      "text/html": [
       "<div>\n",
       "<style scoped>\n",
       "    .dataframe tbody tr th:only-of-type {\n",
       "        vertical-align: middle;\n",
       "    }\n",
       "\n",
       "    .dataframe tbody tr th {\n",
       "        vertical-align: top;\n",
       "    }\n",
       "\n",
       "    .dataframe thead th {\n",
       "        text-align: right;\n",
       "    }\n",
       "</style>\n",
       "<table border=\"1\" class=\"dataframe\">\n",
       "  <thead>\n",
       "    <tr style=\"text-align: right;\">\n",
       "      <th></th>\n",
       "      <th>feat1</th>\n",
       "      <th>feat2</th>\n",
       "    </tr>\n",
       "  </thead>\n",
       "  <tbody>\n",
       "    <tr>\n",
       "      <th>0</th>\n",
       "      <td>1</td>\n",
       "      <td>-2</td>\n",
       "    </tr>\n",
       "  </tbody>\n",
       "</table>\n",
       "</div>"
      ],
      "text/plain": [
       "   feat1  feat2\n",
       "0      1     -2"
      ]
     },
     "execution_count": 95,
     "metadata": {},
     "output_type": "execute_result"
    }
   ],
   "source": [
    "X_new = pd.DataFrame.from_dict({'feat1':[1], 'feat2':[-2]},orient='columns')\n",
    "X_new\n"
   ]
  },
  {
   "cell_type": "code",
   "execution_count": null,
   "metadata": {},
   "outputs": [],
   "source": []
  }
 ],
 "metadata": {
  "kernelspec": {
   "display_name": "Python 3",
   "language": "python",
   "name": "python3"
  },
  "language_info": {
   "codemirror_mode": {
    "name": "ipython",
    "version": 3
   },
   "file_extension": ".py",
   "mimetype": "text/x-python",
   "name": "python",
   "nbconvert_exporter": "python",
   "pygments_lexer": "ipython3",
   "version": "3.10.6"
  }
 },
 "nbformat": 4,
 "nbformat_minor": 2
}
